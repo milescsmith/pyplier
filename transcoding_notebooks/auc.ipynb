{
 "cells": [
  {
   "cell_type": "code",
   "execution_count": 1,
   "metadata": {},
   "outputs": [],
   "source": [
    "from typing import Dict, List, Tuple\n",
    "import numpy as np\n",
    "from scipy.stats import mannwhitneyu, norm"
   ]
  },
  {
   "cell_type": "code",
   "execution_count": 16,
   "metadata": {},
   "outputs": [],
   "source": [
    "rng = np.random.default_rng()\n",
    "alfa = rng.random(10)\n",
    "bravo = rng.random(10)"
   ]
  },
  {
   "cell_type": "code",
   "execution_count": 20,
   "metadata": {},
   "outputs": [],
   "source": [
    "from scipy.stats import rankdata"
   ]
  },
  {
   "cell_type": "code",
   "execution_count": 29,
   "metadata": {},
   "outputs": [],
   "source": [
    "ranks = rankdata(np.concatenate((alfa, bravo)))\n",
    "alfaranks = ranks[0 : len(alfa)]\n",
    "bravoranks = ranks[len(alfa) : len(alfa) + len(bravo)]"
   ]
  },
  {
   "cell_type": "code",
   "execution_count": 32,
   "metadata": {},
   "outputs": [
    {
     "data": {
      "text/plain": [
       "array([0.54441518, 0.3134845 , 0.03796162, 0.04965201, 0.2034255 ,\n",
       "       0.28659695, 0.08645109, 0.92232864, 0.40719464, 0.98288992])"
      ]
     },
     "execution_count": 32,
     "metadata": {},
     "output_type": "execute_result"
    }
   ],
   "source": [
    "alfa"
   ]
  },
  {
   "cell_type": "code",
   "execution_count": 30,
   "metadata": {},
   "outputs": [
    {
     "data": {
      "text/plain": [
       "array([12.,  7.,  1.,  2.,  4.,  6.,  3., 19.,  9., 20.])"
      ]
     },
     "execution_count": 30,
     "metadata": {},
     "output_type": "execute_result"
    }
   ],
   "source": [
    "alfaranks"
   ]
  },
  {
   "cell_type": "code",
   "execution_count": 33,
   "metadata": {},
   "outputs": [
    {
     "data": {
      "text/plain": [
       "array([0.57720307, 0.46911575, 0.58278773, 0.8573419 , 0.62765879,\n",
       "       0.23039218, 0.65105176, 0.762632  , 0.37119905, 0.43005886])"
      ]
     },
     "execution_count": 33,
     "metadata": {},
     "output_type": "execute_result"
    }
   ],
   "source": [
    "bravo"
   ]
  },
  {
   "cell_type": "code",
   "execution_count": 31,
   "metadata": {},
   "outputs": [
    {
     "data": {
      "text/plain": [
       "array([13., 11., 14., 18., 15.,  5., 16., 17.,  8., 10.])"
      ]
     },
     "execution_count": 31,
     "metadata": {},
     "output_type": "execute_result"
    }
   ],
   "source": [
    "bravoranks"
   ]
  },
  {
   "cell_type": "code",
   "execution_count": 48,
   "metadata": {},
   "outputs": [],
   "source": [
    "alfasum = np.sum(alfaranks)\n",
    "bravosum = np.sum(bravoranks)"
   ]
  },
  {
   "cell_type": "code",
   "execution_count": 49,
   "metadata": {},
   "outputs": [],
   "source": [
    "alfaU = alfasum - (len(alfa) * (len(alfa) - 1)) / 2"
   ]
  },
  {
   "cell_type": "code",
   "execution_count": 50,
   "metadata": {},
   "outputs": [],
   "source": [
    "bravoU = bravosum - (len(bravo) * (len(bravo) - 1)) / 2"
   ]
  },
  {
   "cell_type": "code",
   "execution_count": 51,
   "metadata": {},
   "outputs": [
    {
     "data": {
      "text/plain": [
       "38.0"
      ]
     },
     "execution_count": 51,
     "metadata": {},
     "output_type": "execute_result"
    }
   ],
   "source": [
    "min(alfaU, bravoU)"
   ]
  },
  {
   "cell_type": "code",
   "execution_count": 52,
   "metadata": {},
   "outputs": [],
   "source": [
    "from sklearn.metrics import auc"
   ]
  },
  {
   "cell_type": "code",
   "execution_count": 55,
   "metadata": {},
   "outputs": [
    {
     "data": {
      "text/plain": [
       "0.5905831231447757"
      ]
     },
     "execution_count": 55,
     "metadata": {},
     "output_type": "execute_result"
    }
   ],
   "source": [
    "auc(np.sort(alfa), np.sort(bravo))"
   ]
  },
  {
   "cell_type": "code",
   "execution_count": 58,
   "metadata": {},
   "outputs": [],
   "source": [
    "from scipy.stats import mannwhitneyu"
   ]
  },
  {
   "cell_type": "code",
   "execution_count": 59,
   "metadata": {},
   "outputs": [
    {
     "data": {
      "text/plain": [
       "MannwhitneyuResult(statistic=28.0, pvalue=0.05205494483011341)"
      ]
     },
     "execution_count": 59,
     "metadata": {},
     "output_type": "execute_result"
    }
   ],
   "source": [
    "mannwhitneyu(alfa, bravo)"
   ]
  },
  {
   "cell_type": "code",
   "execution_count": 63,
   "metadata": {},
   "outputs": [],
   "source": [
    "from scipy.stats import norm\n",
    "\n",
    "ct1 = len(alfa)  # items in dataset 1\n",
    "ct2 = len(bravo)  # items in dataset 2\n",
    "alpha = 0.05  # 95% confidence interval\n",
    "N = norm.ppf(1 - alpha / 2)  # percent point function - inverse of cdf\n",
    "\n",
    "# The confidence interval for the difference between the two population\n",
    "# medians is derived through these nxm differences.\n",
    "diffs = sorted([i - j for i in alfa for j in bravo])\n",
    "\n",
    "# For an approximate 100(1-a)% confidence interval first calculate K:\n",
    "k = int(round(ct1 * ct2 / 2 - (N * (ct1 * ct2 * (ct1 + ct2 + 1) / 12) ** 0.5)))\n",
    "\n",
    "# The Kth smallest to the Kth largest of the n x m differences\n",
    "# ct1 and ct2 should be > ~20\n",
    "CI = (diffs[k], diffs[len(diffs) - k])"
   ]
  },
  {
   "cell_type": "code",
   "execution_count": 64,
   "metadata": {},
   "outputs": [
    {
     "data": {
      "text/plain": [
       "(-0.4491475010345879, 0.08309232002223887)"
      ]
     },
     "execution_count": 64,
     "metadata": {},
     "output_type": "execute_result"
    }
   ],
   "source": [
    "CI"
   ]
  },
  {
   "cell_type": "code",
   "execution_count": 67,
   "metadata": {},
   "outputs": [
    {
     "data": {
      "text/plain": [
       "nan"
      ]
     },
     "execution_count": 67,
     "metadata": {},
     "output_type": "execute_result"
    }
   ],
   "source": [
    "np.nan"
   ]
  },
  {
   "cell_type": "code",
   "execution_count": 80,
   "metadata": {},
   "outputs": [],
   "source": [
    "from numba import jit"
   ]
  },
  {
   "cell_type": "code",
   "execution_count": 83,
   "metadata": {},
   "outputs": [
    {
     "data": {
      "text/plain": [
       "[-0.8193802815591948,\n",
       " -0.807689887747318,\n",
       " -0.7708908106322273,\n",
       " -0.7246703850775669,\n",
       " -0.71297999126569,\n",
       " -0.6761809141505993,\n",
       " -0.6539163987005543,\n",
       " -0.6130901440337834,\n",
       " -0.6013997502219065,\n",
       " -0.5896971736461641,\n",
       " -0.5780067798342873,\n",
       " -0.5707449444408993,\n",
       " -0.5646006731068158,\n",
       " -0.5592065022189263,\n",
       " -0.5448261160156284,\n",
       " -0.5438573975162159,\n",
       " -0.5412077027191966,\n",
       " -0.5392414556077534,\n",
       " -0.5331357222037515,\n",
       " -0.5275510617958765,\n",
       " -0.4963366450886608,\n",
       " -0.49075198468078585,\n",
       " -0.4760350479592713,\n",
       " -0.45014725357542484,\n",
       " -0.4491475010345879,\n",
       " -0.4476262611751428,\n",
       " -0.43115413405811853,\n",
       " -0.4242332907875236,\n",
       " -0.41946374024624167,\n",
       " -0.3920972410745519,\n",
       " -0.382664663131151,\n",
       " -0.38040684726267504,\n",
       " -0.3793622331569878,\n",
       " -0.37377757274911283,\n",
       " -0.3644548069154878,\n",
       " -0.35543735709379687,\n",
       " -0.34360777014758437,\n",
       " -0.3410618365278686,\n",
       " -0.3375672599908044,\n",
       " -0.33323743204371015,\n",
       " -0.3215470382318333,\n",
       " -0.31417428960318516,\n",
       " -0.31292671347668966,\n",
       " -0.2961907788973328,\n",
       " -0.29060611848945783,\n",
       " -0.2847479611167426,\n",
       " -0.2693032319726494,\n",
       " -0.265690251199478,\n",
       " -0.2637185715647744,\n",
       " -0.24385711605001337,\n",
       " -0.22663335821591135,\n",
       " -0.22046414566239414,\n",
       " -0.21821681699506168,\n",
       " -0.1924305640207401,\n",
       " -0.18251879693982298,\n",
       " -0.18074017020886324,\n",
       " -0.17559308803185836,\n",
       " -0.17000842762398338,\n",
       " -0.1677735491850696,\n",
       " -0.15563125001513956,\n",
       " -0.14394109309377257,\n",
       " -0.14346190395625635,\n",
       " -0.11657435703157293,\n",
       " -0.10663657595127818,\n",
       " -0.0846020949254146,\n",
       " -0.08324360556365895,\n",
       " -0.06192110607434853,\n",
       " -0.05771454800073117,\n",
       " -0.03837254793312317,\n",
       " -0.032787887525248194,\n",
       " -0.02696668116209955,\n",
       " -0.022864213090781904,\n",
       " 0.035995595940059855,\n",
       " 0.05620477309755545,\n",
       " 0.06498674485083922,\n",
       " 0.07529943402438666,\n",
       " 0.08309232002223887,\n",
       " 0.11435632700795328,\n",
       " 0.12554801734568222,\n",
       " 0.1596966413324672,\n",
       " 0.17321613603879504,\n",
       " 0.1768024639630299,\n",
       " 0.2202579138273102,\n",
       " 0.2712768823762507,\n",
       " 0.2946698527638699,\n",
       " 0.3140230040617651,\n",
       " 0.3318381548710937,\n",
       " 0.3395409103944057,\n",
       " 0.3451255708022807,\n",
       " 0.3552311252587129,\n",
       " 0.4001021828892487,\n",
       " 0.4056868432971237,\n",
       " 0.45321289235191553,\n",
       " 0.49226978533548216,\n",
       " 0.5137741648467585,\n",
       " 0.5511295943663239,\n",
       " 0.5528310578303252,\n",
       " 0.6116908668611669,\n",
       " 0.691936462389294,\n",
       " 0.752497734884137]"
      ]
     },
     "execution_count": 83,
     "metadata": {},
     "output_type": "execute_result"
    }
   ],
   "source": [
    "sorted([i - j for i in alfa for j in bravo])"
   ]
  },
  {
   "cell_type": "code",
   "execution_count": 77,
   "metadata": {},
   "outputs": [
    {
     "data": {
      "text/plain": [
       "19"
      ]
     },
     "execution_count": 77,
     "metadata": {},
     "output_type": "execute_result"
    }
   ],
   "source": [
    "len(np.sort(np.ediff1d((alfa, bravo)).flatten()))"
   ]
  },
  {
   "cell_type": "code",
   "execution_count": 2,
   "metadata": {},
   "outputs": [],
   "source": [
    "%store -r alfa"
   ]
  },
  {
   "cell_type": "code",
   "execution_count": 3,
   "metadata": {},
   "outputs": [],
   "source": [
    "%store -r beta"
   ]
  },
  {
   "cell_type": "code",
   "execution_count": 4,
   "metadata": {},
   "outputs": [],
   "source": [
    "labels = alfa\n",
    "values = beta"
   ]
  },
  {
   "cell_type": "code",
   "execution_count": 5,
   "metadata": {},
   "outputs": [],
   "source": [
    "posii = labels[labels > 0]\n",
    "negii = labels[labels <= 0]\n",
    "posn = len(posii)\n",
    "negn = len(negii)\n",
    "posval = values[posii.index]\n",
    "negval = values[negii.index]"
   ]
  },
  {
   "cell_type": "code",
   "execution_count": 6,
   "metadata": {},
   "outputs": [
    {
     "data": {
      "text/plain": [
       "54"
      ]
     },
     "execution_count": 6,
     "metadata": {},
     "output_type": "execute_result"
    }
   ],
   "source": [
    "posn"
   ]
  },
  {
   "cell_type": "code",
   "execution_count": 7,
   "metadata": {},
   "outputs": [
    {
     "data": {
      "text/plain": [
       "5690"
      ]
     },
     "execution_count": 7,
     "metadata": {},
     "output_type": "execute_result"
    }
   ],
   "source": [
    "negn"
   ]
  },
  {
   "cell_type": "code",
   "execution_count": 8,
   "metadata": {},
   "outputs": [],
   "source": [
    "if posn > 0 & negn > 0:\n",
    "    statistic, pvalue = mannwhitneyu(posval, negval, alternative=\"greater\")\n",
    "    conf_int_low, conf_int_high = mannwhitneyu_conf_int(posval, negval)\n",
    "    res = {\n",
    "        \"low\": conf_int_low,\n",
    "        \"high\": conf_int_high,\n",
    "        \"auc\": (statistic / (posn * negn)),\n",
    "        \"pval\": pvalue,\n",
    "    }\n",
    "else:\n",
    "    res = {\"auc\": 0.5, \"pval\": np.nan}"
   ]
  },
  {
   "cell_type": "code",
   "execution_count": 9,
   "metadata": {},
   "outputs": [
    {
     "data": {
      "text/plain": [
       "{'auc': 0.5, 'pval': nan}"
      ]
     },
     "execution_count": 9,
     "metadata": {},
     "output_type": "execute_result"
    }
   ],
   "source": [
    "res"
   ]
  },
  {
   "cell_type": "code",
   "execution_count": 11,
   "metadata": {},
   "outputs": [
    {
     "data": {
      "text/plain": [
       "True"
      ]
     },
     "execution_count": 11,
     "metadata": {},
     "output_type": "execute_result"
    }
   ],
   "source": [
    "(posn > 0 and negn > 0)"
   ]
  },
  {
   "cell_type": "code",
   "execution_count": 15,
   "metadata": {},
   "outputs": [
    {
     "name": "stdout",
     "output_type": "stream",
     "text": [
      "Object `and` not found.\n"
     ]
    }
   ],
   "source": [
    "and"
   ]
  }
 ],
 "metadata": {
  "kernelspec": {
   "display_name": "Python 3",
   "language": "python",
   "name": "python3"
  },
  "language_info": {
   "codemirror_mode": {
    "name": "ipython",
    "version": 3
   },
   "file_extension": ".py",
   "mimetype": "text/x-python",
   "name": "python",
   "nbconvert_exporter": "python",
   "pygments_lexer": "ipython3",
   "version": "3.8.10"
  }
 },
 "nbformat": 4,
 "nbformat_minor": 4
}
