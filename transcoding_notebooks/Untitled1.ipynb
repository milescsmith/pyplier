{
 "cells": [
  {
   "cell_type": "code",
   "execution_count": 11,
   "id": "96d76c56-26fb-4545-9db3-e1b4d3c5cc12",
   "metadata": {},
   "outputs": [],
   "source": [
    "import pandas as pd\n",
    "import numpy as np\n",
    "from pathlib import Path\n",
    "from scipy.linalg import qr"
   ]
  },
  {
   "cell_type": "code",
   "execution_count": 2,
   "id": "4f556d9d-6790-4b53-9719-dd9a41753924",
   "metadata": {},
   "outputs": [],
   "source": [
    "randmat = Path(\"/home/milo/workspace/pyplier/tests/data/random_matrix.csv\")"
   ]
  },
  {
   "cell_type": "code",
   "execution_count": 5,
   "id": "eb864c12-8b48-49b9-af76-04d43e72bcc7",
   "metadata": {},
   "outputs": [],
   "source": [
    "randmat = pd.read_csv(\n",
    "    Path(\"/home/milo/workspace/pyplier/tests/data/random_matrix.csv\"),\n",
    "    sep=\",\",\n",
    "    index_col=0,\n",
    ")"
   ]
  },
  {
   "cell_type": "code",
   "execution_count": 6,
   "id": "654c3b59-d7db-4355-badf-f110f930f87d",
   "metadata": {},
   "outputs": [
    {
     "data": {
      "text/html": [
       "<div>\n",
       "<style scoped>\n",
       "    .dataframe tbody tr th:only-of-type {\n",
       "        vertical-align: middle;\n",
       "    }\n",
       "\n",
       "    .dataframe tbody tr th {\n",
       "        vertical-align: top;\n",
       "    }\n",
       "\n",
       "    .dataframe thead th {\n",
       "        text-align: right;\n",
       "    }\n",
       "</style>\n",
       "<table border=\"1\" class=\"dataframe\">\n",
       "  <thead>\n",
       "    <tr style=\"text-align: right;\">\n",
       "      <th></th>\n",
       "      <th>V1</th>\n",
       "      <th>V2</th>\n",
       "      <th>V3</th>\n",
       "      <th>V4</th>\n",
       "      <th>V5</th>\n",
       "      <th>V6</th>\n",
       "    </tr>\n",
       "  </thead>\n",
       "  <tbody>\n",
       "    <tr>\n",
       "      <th>1</th>\n",
       "      <td>1.985701</td>\n",
       "      <td>-0.368637</td>\n",
       "      <td>-0.461630</td>\n",
       "      <td>-0.079904</td>\n",
       "      <td>0.524675</td>\n",
       "      <td>0.424991</td>\n",
       "    </tr>\n",
       "    <tr>\n",
       "      <th>2</th>\n",
       "      <td>0.151315</td>\n",
       "      <td>1.015526</td>\n",
       "      <td>0.179885</td>\n",
       "      <td>1.096020</td>\n",
       "      <td>-1.149598</td>\n",
       "      <td>-0.844024</td>\n",
       "    </tr>\n",
       "    <tr>\n",
       "      <th>3</th>\n",
       "      <td>-1.017499</td>\n",
       "      <td>0.331811</td>\n",
       "      <td>-0.538168</td>\n",
       "      <td>0.550502</td>\n",
       "      <td>-1.777789</td>\n",
       "      <td>-0.115440</td>\n",
       "    </tr>\n",
       "    <tr>\n",
       "      <th>4</th>\n",
       "      <td>0.086319</td>\n",
       "      <td>-0.070886</td>\n",
       "      <td>-0.225482</td>\n",
       "      <td>-1.462508</td>\n",
       "      <td>-0.236250</td>\n",
       "      <td>-0.187582</td>\n",
       "    </tr>\n",
       "    <tr>\n",
       "      <th>5</th>\n",
       "      <td>0.925242</td>\n",
       "      <td>0.245852</td>\n",
       "      <td>0.221864</td>\n",
       "      <td>0.188532</td>\n",
       "      <td>-0.319050</td>\n",
       "      <td>-0.110001</td>\n",
       "    </tr>\n",
       "    <tr>\n",
       "      <th>6</th>\n",
       "      <td>-1.106657</td>\n",
       "      <td>-1.861775</td>\n",
       "      <td>1.119522</td>\n",
       "      <td>2.446604</td>\n",
       "      <td>0.553282</td>\n",
       "      <td>-0.993332</td>\n",
       "    </tr>\n",
       "  </tbody>\n",
       "</table>\n",
       "</div>"
      ],
      "text/plain": [
       "         V1        V2        V3        V4        V5        V6\n",
       "1  1.985701 -0.368637 -0.461630 -0.079904  0.524675  0.424991\n",
       "2  0.151315  1.015526  0.179885  1.096020 -1.149598 -0.844024\n",
       "3 -1.017499  0.331811 -0.538168  0.550502 -1.777789 -0.115440\n",
       "4  0.086319 -0.070886 -0.225482 -1.462508 -0.236250 -0.187582\n",
       "5  0.925242  0.245852  0.221864  0.188532 -0.319050 -0.110001\n",
       "6 -1.106657 -1.861775  1.119522  2.446604  0.553282 -0.993332"
      ]
     },
     "execution_count": 6,
     "metadata": {},
     "output_type": "execute_result"
    }
   ],
   "source": [
    "randmat"
   ]
  },
  {
   "cell_type": "code",
   "execution_count": 8,
   "id": "f7912581-76ba-438b-b11e-12a17c460024",
   "metadata": {},
   "outputs": [],
   "source": [
    "alfa, beta = np.linalg.qr(randmat)"
   ]
  },
  {
   "cell_type": "code",
   "execution_count": 9,
   "id": "54c0251a-b4c8-4d13-bc42-e0260c1345cf",
   "metadata": {},
   "outputs": [
    {
     "data": {
      "text/plain": [
       "(6, 6)"
      ]
     },
     "execution_count": 9,
     "metadata": {},
     "output_type": "execute_result"
    }
   ],
   "source": [
    "alfa.shape"
   ]
  },
  {
   "cell_type": "code",
   "execution_count": 10,
   "id": "b0a560ab-78ce-44e0-a1f3-764b9a2eaa06",
   "metadata": {},
   "outputs": [
    {
     "data": {
      "text/plain": [
       "(6, 6)"
      ]
     },
     "execution_count": 10,
     "metadata": {},
     "output_type": "execute_result"
    }
   ],
   "source": [
    "beta.shape"
   ]
  },
  {
   "cell_type": "code",
   "execution_count": 15,
   "id": "0bb481b2-a721-4025-b20c-e154d17b96be",
   "metadata": {},
   "outputs": [],
   "source": [
    "q, r, p = qr(randmat, pivoting=True, mode=\"full\")"
   ]
  },
  {
   "cell_type": "code",
   "execution_count": 16,
   "id": "deec5f29-bbcc-4a04-ba96-1a8d8b77712c",
   "metadata": {},
   "outputs": [],
   "source": [
    "def nonEstimable(x: pd.DataFrame):\n",
    "\n",
    "    p = x.shape[1]\n",
    "\n",
    "    q, _, pivot = qr(x, pivoting=True)\n",
    "    qrank = q.shape[0]\n",
    "\n",
    "    if qrank < p:\n",
    "        n = x.columns.values\n",
    "    else:\n",
    "        n = range(p)\n",
    "\n",
    "    notest = n[pivot[(qrank + 1) : p]]\n",
    "    blank = notest == \"\"\n",
    "\n",
    "    if any(blank):\n",
    "        notest[blank] = str(range((qrank + 1), p)[blank])\n",
    "        return notest\n",
    "    else:\n",
    "        return None"
   ]
  },
  {
   "cell_type": "code",
   "execution_count": 18,
   "id": "cc877521-5536-4f3d-84af-8531f1c9e4c5",
   "metadata": {},
   "outputs": [],
   "source": [
    "x = randmat"
   ]
  },
  {
   "cell_type": "code",
   "execution_count": 19,
   "id": "fbb85c3a-43ce-4bad-bebd-5c55483b466a",
   "metadata": {},
   "outputs": [],
   "source": [
    "p = x.shape[1]\n",
    "\n",
    "q, _, pivot = qr(x, pivoting=True)\n",
    "qrank = q.shape[0]"
   ]
  },
  {
   "cell_type": "code",
   "execution_count": 23,
   "id": "e5b2aa66-2b4f-4fc8-95d7-568743970580",
   "metadata": {},
   "outputs": [],
   "source": [
    "if qrank < p:\n",
    "    n = x.columns.values\n",
    "else:\n",
    "    n = range(p)"
   ]
  },
  {
   "cell_type": "code",
   "execution_count": 30,
   "id": "c91112c8-633b-4a8f-a7fa-3b01de5f1632",
   "metadata": {},
   "outputs": [
    {
     "data": {
      "text/plain": [
       "range(0, 6)"
      ]
     },
     "execution_count": 30,
     "metadata": {},
     "output_type": "execute_result"
    }
   ],
   "source": [
    "n"
   ]
  },
  {
   "cell_type": "code",
   "execution_count": 29,
   "id": "5e4b189d-2e8f-4e13-9b98-6ad211de262a",
   "metadata": {},
   "outputs": [
    {
     "data": {
      "text/plain": [
       "array([], dtype=int32)"
      ]
     },
     "execution_count": 29,
     "metadata": {},
     "output_type": "execute_result"
    }
   ],
   "source": [
    "pivot[range(qrank + 1, p)]"
   ]
  },
  {
   "cell_type": "code",
   "execution_count": 25,
   "id": "d5637a4b-84cf-4ad5-a910-f8fb183fc35f",
   "metadata": {},
   "outputs": [
    {
     "ename": "TypeError",
     "evalue": "only integer scalar arrays can be converted to a scalar index",
     "output_type": "error",
     "traceback": [
      "\u001b[0;31m---------------------------------------------------------------------------\u001b[0m",
      "\u001b[0;31mTypeError\u001b[0m                                 Traceback (most recent call last)",
      "\u001b[0;32m/tmp/ipykernel_26556/1173851326.py\u001b[0m in \u001b[0;36m<module>\u001b[0;34m\u001b[0m\n\u001b[0;32m----> 1\u001b[0;31m \u001b[0mnotest\u001b[0m \u001b[0;34m=\u001b[0m \u001b[0mn\u001b[0m\u001b[0;34m[\u001b[0m\u001b[0mpivot\u001b[0m\u001b[0;34m[\u001b[0m\u001b[0;34m(\u001b[0m\u001b[0mqrank\u001b[0m \u001b[0;34m+\u001b[0m \u001b[0;36m1\u001b[0m\u001b[0;34m)\u001b[0m\u001b[0;34m:\u001b[0m\u001b[0mp\u001b[0m\u001b[0;34m]\u001b[0m\u001b[0;34m]\u001b[0m\u001b[0;34m\u001b[0m\u001b[0;34m\u001b[0m\u001b[0m\n\u001b[0m",
      "\u001b[0;31mTypeError\u001b[0m: only integer scalar arrays can be converted to a scalar index"
     ]
    }
   ],
   "source": [
    "notest = n[pivot[(qrank + 1) : p]]"
   ]
  }
 ],
 "metadata": {
  "kernelspec": {
   "display_name": "Python 3 (ipykernel)",
   "language": "python",
   "name": "python3"
  },
  "language_info": {
   "codemirror_mode": {
    "name": "ipython",
    "version": 3
   },
   "file_extension": ".py",
   "mimetype": "text/x-python",
   "name": "python",
   "nbconvert_exporter": "python",
   "pygments_lexer": "ipython3",
   "version": "3.9.5"
  }
 },
 "nbformat": 4,
 "nbformat_minor": 5
}
