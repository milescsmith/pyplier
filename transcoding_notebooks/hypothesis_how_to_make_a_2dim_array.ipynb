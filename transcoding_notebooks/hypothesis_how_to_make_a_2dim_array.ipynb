{
 "cells": [
  {
   "cell_type": "code",
   "execution_count": 1,
   "metadata": {},
   "outputs": [],
   "source": [
    "import hypothesis.strategies as st\n",
    "import hypothesis.extra.numpy as npst\n",
    "from hypothesis import given\n",
    "from hypothesis import settings"
   ]
  },
  {
   "cell_type": "code",
   "execution_count": 24,
   "metadata": {},
   "outputs": [],
   "source": [
    "import numpy as np"
   ]
  },
  {
   "cell_type": "code",
   "execution_count": 22,
   "metadata": {},
   "outputs": [
    {
     "name": "stderr",
     "output_type": "stream",
     "text": [
      "/Users/milessmith/Library/Caches/pypoetry/virtualenvs/pyplier-JrjK94hZ-py3.9/lib/python3.9/site-packages/hypothesis/strategies/_internal/strategies.py:289: NonInteractiveExampleWarning: The `.example()` method is good for exploring strategies, but should only be used interactively.  We recommend using `@given` for tests - it performs better, saves and replays failures to avoid flakiness, and reports minimal examples. (strategy: array_shapes(min_dims=3, min_side=2))\n",
      "  warnings.warn(\n"
     ]
    },
    {
     "data": {
      "text/plain": [
       "(2, 2, 2)"
      ]
     },
     "execution_count": 22,
     "metadata": {},
     "output_type": "execute_result"
    }
   ],
   "source": [
    "npst.array_shapes(min_dims=3, min_side=2).example()"
   ]
  },
  {
   "cell_type": "code",
   "execution_count": 20,
   "metadata": {},
   "outputs": [
    {
     "name": "stdout",
     "output_type": "stream",
     "text": [
      "Help on function array_shapes in module hypothesis.extra._array_helpers:\n",
      "\n",
      "array_shapes(*, min_dims: int = 1, max_dims: Optional[int] = None, min_side: int = 1, max_side: Optional[int] = None) -> hypothesis.strategies.SearchStrategy[typing.Tuple[int, ...]]\n",
      "    Return a strategy for array shapes (tuples of int >= 1).\n",
      "    \n",
      "    * ``min_dims`` is the smallest length that the generated shape can possess.\n",
      "    * ``max_dims`` is the largest length that the generated shape can possess,\n",
      "      defaulting to ``min_dims + 2``.\n",
      "    * ``min_side`` is the smallest size that a dimension can possess.\n",
      "    * ``max_side`` is the largest size that a dimension can possess,\n",
      "      defaulting to ``min_side + 5``.\n",
      "\n"
     ]
    }
   ],
   "source": [
    "help(npst.array_shapes)"
   ]
  },
  {
   "cell_type": "code",
   "execution_count": 73,
   "metadata": {},
   "outputs": [
    {
     "data": {
      "text/plain": [
       "array([[1., 1., 1., 1., 1., 1., 1.],\n",
       "       [1., 1., 1., 1., 1., 1., 1.],\n",
       "       [1., 1., 1., 1., 1., 1., 1.],\n",
       "       [1., 1., 1., 1., 1., 1., 1.],\n",
       "       [1., 1., 1., 1., 1., 1., 1.]])"
      ]
     },
     "execution_count": 73,
     "metadata": {},
     "output_type": "execute_result"
    }
   ],
   "source": [
    "npst.arrays(\n",
    "    np.float, npst.array_shapes(min_dims=2, min_side=2), elements=st.floats(1, 100)\n",
    ").example()"
   ]
  },
  {
   "cell_type": "code",
   "execution_count": 75,
   "metadata": {},
   "outputs": [],
   "source": [
    "x = np.array([[2.0, 2.0, 2.0], [2.0, 2.0, 2.0], [2.0, 2.0, 2.0]])"
   ]
  },
  {
   "cell_type": "code",
   "execution_count": 80,
   "metadata": {},
   "outputs": [],
   "source": [
    "from scipy.linalg import svd"
   ]
  },
  {
   "cell_type": "code",
   "execution_count": 81,
   "metadata": {},
   "outputs": [
    {
     "data": {
      "text/plain": [
       "array([6., 0., 0.])"
      ]
     },
     "execution_count": 81,
     "metadata": {},
     "output_type": "execute_result"
    }
   ],
   "source": [
    "svd(x.transpose(), compute_uv=False)"
   ]
  },
  {
   "cell_type": "code",
   "execution_count": 82,
   "metadata": {},
   "outputs": [
    {
     "data": {
      "text/plain": [
       "<class 'numpy.ndarray'>"
      ]
     },
     "execution_count": 82,
     "metadata": {},
     "output_type": "execute_result"
    }
   ],
   "source": [
    "type(x)"
   ]
  },
  {
   "cell_type": "code",
   "execution_count": 88,
   "metadata": {},
   "outputs": [],
   "source": [
    "import random\n",
    "import numpy as np\n",
    "import pandas as pd\n",
    "from scipy.linalg import svd\n",
    "from sklearn.utils.extmath import randomized_svd\n",
    "\n",
    "from pysmooth import smooth"
   ]
  },
  {
   "cell_type": "code",
   "execution_count": 130,
   "metadata": {},
   "outputs": [],
   "source": [
    "def num_pc(\n",
    "    data: np.ndarray, method: str = None, B: int = 20, seed: int = None\n",
    ") -> float:\n",
    "\n",
    "    if method is None:\n",
    "        method = \"elbow\"\n",
    "    if method not in (\"elbow\", \"permutation\"):\n",
    "        raise RuntimeError(\n",
    "            f\"method must be either 'elbow' or 'permutation', but \\\n",
    "                           {method} was passed\"\n",
    "        )\n",
    "\n",
    "    if seed is not None:\n",
    "        random.seed(seed)\n",
    "\n",
    "    n = data.shape[1]  # nrows\n",
    "    if n < 500:\n",
    "        k = n\n",
    "    else:\n",
    "        k = int(max(200, n / 4))\n",
    "\n",
    "    if isinstance(data, np.ndarray):\n",
    "        print(\"Computing svd\")\n",
    "        data = normalize(data, axis=1)\n",
    "        uu = compute_svd(data, k)\n",
    "    elif isinstance(data, dict):\n",
    "        if data[\"d\"] is not None:\n",
    "            if method == \"permutation\":\n",
    "                console.print(\n",
    "                    \"Original data is needed for permutation method.\\nSetting method to elbow\"\n",
    "                )\n",
    "                method = \"elbow\"\n",
    "\n",
    "        uu = data\n",
    "\n",
    "    if (\n",
    "        method == \"permutation\"\n",
    "    ):  # not sure why this option is present in PLIER as it is not used\n",
    "        print(\n",
    "            \"[red bold]WARNING!:[/red bold] using the 'permutation' method yields unreliable results.  This is only kept for compatibility with the R version of {PLIER}\"\n",
    "        )\n",
    "        # nn = min(c(n, m))\n",
    "        dstat = uu[0:k] ** 2 / sum(uu[0:k] ** 2)\n",
    "        dstat0 = np.zeros(shape=(B, k))\n",
    "        rng = np.random.default_rng()\n",
    "        dat0 = np.copy(data)\n",
    "        for i in range(B):\n",
    "            dat0 = rng.permuted(dat0, axis=0).transpose()\n",
    "\n",
    "            if k == n:\n",
    "                uu0 = svd(dat0, compute_uv=False)\n",
    "            else:\n",
    "                _, uu0, _ = randomized_svd(M=dat0, n_components=k, n_iter=3)\n",
    "\n",
    "            dstat0[i, :] = uu0[0:k] ** 2 / sum(uu0[0:k] ** 2)\n",
    "\n",
    "        psv = np.ones(k)\n",
    "        for i in range(k):\n",
    "            psv[i] = np.count_nonzero(dstat0[:, i] >= dstat[i]) / dstat0.shape[0]\n",
    "\n",
    "        for i in range(1, k):\n",
    "            psv[i] = np.max([psv[(i - 1)], psv[i]])\n",
    "\n",
    "        nsv = np.sum(psv[psv <= 0.1])\n",
    "    elif method == \"elbow\":\n",
    "        # xraw = abs(np.diff(np.diff(uu)))\n",
    "        # console.print(\"Smoothing data\")\n",
    "        # x = smooth(xraw, twiceit = True)\n",
    "        # # plot(x)\n",
    "\n",
    "        # nsv = int((np.argwhere(x <= np.quantile(x, 0.05)))[2])+1\n",
    "\n",
    "        nsv = elbow(uu)\n",
    "\n",
    "    return nsv"
   ]
  },
  {
   "cell_type": "code",
   "execution_count": 132,
   "metadata": {},
   "outputs": [],
   "source": [
    "def elbow(uu: np.ndarray) -> int:\n",
    "    xraw = abs(np.diff(np.diff(uu)))\n",
    "    print(\"Smoothing data\")\n",
    "    x = smooth(xraw, twiceit=True)\n",
    "    # plot(x)\n",
    "\n",
    "    return int((np.argwhere(x <= np.quantile(x, 0.5)))[1]) + 1"
   ]
  },
  {
   "cell_type": "code",
   "execution_count": 127,
   "metadata": {},
   "outputs": [],
   "source": [
    "def compute_svd(data: np.ndarray, k: int) -> np.ndarray:\n",
    "    n = data.shape[1]  # nrows\n",
    "    if n < 500:\n",
    "        uu = svd(data.transpose(), compute_uv=False)\n",
    "        return uu\n",
    "    else:\n",
    "        _, uu, _ = randomized_svd(M=data, n_components=k, n_iter=3, random_state=803)\n",
    "        return uu"
   ]
  },
  {
   "cell_type": "code",
   "execution_count": 133,
   "metadata": {},
   "outputs": [
    {
     "name": "stdout",
     "output_type": "stream",
     "text": [
      "Computing svd\n",
      "Smoothing data\n"
     ]
    },
    {
     "data": {
      "text/plain": [
       "2"
      ]
     },
     "execution_count": 133,
     "metadata": {},
     "output_type": "execute_result"
    }
   ],
   "source": [
    "num_pc(x)"
   ]
  },
  {
   "cell_type": "code",
   "execution_count": 135,
   "metadata": {},
   "outputs": [],
   "source": [
    "z = np.array(\n",
    "    [\n",
    "        [[2.0, 2.0, 2.0], [2.0, 2.0, 2.0], [2.0, 2.0, 2.0]],\n",
    "        [[2.0, 2.0, 2.0], [2.0, 2.0, 2.0], [2.0, 2.0, 2.0]],\n",
    "        [[2.0, 2.0, 2.0], [2.0, 2.0, 2.0], [2.0, 2.0, 2.0]],\n",
    "    ]\n",
    ")"
   ]
  }
 ],
 "metadata": {
  "kernelspec": {
   "display_name": "Python 3.9 (XPython Raw)",
   "language": "python",
   "name": "xpython-raw"
  },
  "language_info": {
   "file_extension": ".py",
   "mimetype": "text/x-python",
   "name": "python",
   "version": "3.9.7"
  }
 },
 "nbformat": 4,
 "nbformat_minor": 4
}
