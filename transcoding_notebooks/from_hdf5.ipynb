{
 "cells": [
  {
   "cell_type": "code",
   "execution_count": 1,
   "id": "64836047-e6cf-48d2-a4c8-92fd534a3037",
   "metadata": {},
   "outputs": [],
   "source": [
    "import pandas as pd\n",
    "import numpy as np\n",
    "import h5py\n",
    "from pyplier import PLIERResults"
   ]
  },
  {
   "cell_type": "code",
   "execution_count": 10,
   "id": "9ebc34ff-253f-4bc1-9175-e3e2e1f770a6",
   "metadata": {},
   "outputs": [
    {
     "name": "stdout",
     "output_type": "stream",
     "text": [
      "2.09 s +- 113 ms per loop (mean +- std. dev. of 7 runs, 10 loops each)\n"
     ]
    }
   ],
   "source": [
    "%%timeit -n 10\n",
    "pr = PLIERResults.read_json(\"/home/milo/workspace/pyplier/tests/data/plierRes/plierRes.json.gz\")"
   ]
  },
  {
   "cell_type": "code",
   "execution_count": 3,
   "id": "c033e38e-8e58-4eac-b7b3-1a67527ed13a",
   "metadata": {},
   "outputs": [],
   "source": [
    "pr.to_hdf5(\"/home/milo/workspace/pyplier/test_output.h5\", overwrite=True)"
   ]
  },
  {
   "cell_type": "code",
   "execution_count": 11,
   "id": "64fc185a-c72d-49d5-b0ef-44cc1ec5a195",
   "metadata": {},
   "outputs": [
    {
     "name": "stdout",
     "output_type": "stream",
     "text": [
      "309 ms +- 17.9 ms per loop (mean +- std. dev. of 7 runs, 10 loops each)\n"
     ]
    }
   ],
   "source": [
    "%%timeit -n 10\n",
    "input_pr = PLIERResults.read_hdf5(\"/home/milo/workspace/pyplier/test_output.h5\")"
   ]
  },
  {
   "cell_type": "code",
   "execution_count": 5,
   "id": "047ef26d-bcb6-4457-a1c8-04154b459f7e",
   "metadata": {},
   "outputs": [
    {
     "data": {
      "text/plain": [
       "B : 30 rows x 36 columns\n",
       "Z : 5892 rows x 30 columns\n",
       "U : 606 rows x 30 columns\n",
       "C : 5892 rows x 606 columns\n",
       "heldOutGenes: 603\n",
       "withPrior: 21\n",
       "Uauc: 606 rows x 30 columns\n",
       "Up: 606 rows x 30 columns\n",
       "summary: 64 rows x 4 columns\n",
       "residual: 5892 rows x 36 columns\n",
       "L1 is set to 18.4306\n",
       "L2 is set to 36.8612\n",
       "L3 is set to 0.0004"
      ]
     },
     "execution_count": 5,
     "metadata": {},
     "output_type": "execute_result"
    }
   ],
   "source": [
    "input_pr"
   ]
  },
  {
   "cell_type": "code",
   "execution_count": 6,
   "id": "c594e122-7d6e-4e6c-b07a-3c0ab4f729b1",
   "metadata": {},
   "outputs": [
    {
     "data": {
      "text/plain": [
       "B : 30 rows x 36 columns\n",
       "Z : 5892 rows x 30 columns\n",
       "U : 606 rows x 30 columns\n",
       "C : 5892 rows x 606 columns\n",
       "heldOutGenes: 603\n",
       "withPrior: 21\n",
       "Uauc: 606 rows x 30 columns\n",
       "Up: 606 rows x 30 columns\n",
       "summary: 64 rows x 4 columns\n",
       "residual: 5892 rows x 36 columns\n",
       "L1 is set to 18.4306\n",
       "L2 is set to 36.8612\n",
       "L3 is set to 0.0004"
      ]
     },
     "execution_count": 6,
     "metadata": {},
     "output_type": "execute_result"
    }
   ],
   "source": [
    "pr"
   ]
  },
  {
   "cell_type": "code",
   "execution_count": 7,
   "id": "80983f42-b87e-45d4-b151-08e6a3223d93",
   "metadata": {},
   "outputs": [
    {
     "data": {
      "text/plain": [
       "True"
      ]
     },
     "execution_count": 7,
     "metadata": {},
     "output_type": "execute_result"
    }
   ],
   "source": [
    "pr == input_pr"
   ]
  },
  {
   "cell_type": "code",
   "execution_count": 8,
   "id": "dfd174d0-3b22-4dc1-a83a-4fef2658fc65",
   "metadata": {},
   "outputs": [
    {
     "data": {
      "text/plain": [
       "{'LV1': 1,\n",
       " 'LV2': 2,\n",
       " 'LV3': 3,\n",
       " 'LV4': 4,\n",
       " 'LV5': 5,\n",
       " 'LV6': 6,\n",
       " 'LV7': 7,\n",
       " 'LV8': 8,\n",
       " 'LV9': 9,\n",
       " 'LV10': 10,\n",
       " 'LV11': 11,\n",
       " 'LV14': 14,\n",
       " 'LV15': 15,\n",
       " 'LV18': 18,\n",
       " 'LV20': 20,\n",
       " 'LV23': 23,\n",
       " 'LV24': 24,\n",
       " 'LV26': 26,\n",
       " 'LV27': 27,\n",
       " 'LV29': 29,\n",
       " 'LV30': 30}"
      ]
     },
     "execution_count": 8,
     "metadata": {},
     "output_type": "execute_result"
    }
   ],
   "source": [
    "pr.withPrior"
   ]
  },
  {
   "cell_type": "code",
   "execution_count": 9,
   "id": "5c173a8a-edbd-4f78-92c2-4537a7593989",
   "metadata": {},
   "outputs": [
    {
     "data": {
      "text/plain": [
       "{'LV1': 1,\n",
       " 'LV2': 2,\n",
       " 'LV3': 3,\n",
       " 'LV4': 4,\n",
       " 'LV5': 5,\n",
       " 'LV6': 6,\n",
       " 'LV7': 7,\n",
       " 'LV8': 8,\n",
       " 'LV9': 9,\n",
       " 'LV10': 10,\n",
       " 'LV11': 11,\n",
       " 'LV14': 14,\n",
       " 'LV15': 15,\n",
       " 'LV18': 18,\n",
       " 'LV20': 20,\n",
       " 'LV23': 23,\n",
       " 'LV24': 24,\n",
       " 'LV26': 26,\n",
       " 'LV27': 27,\n",
       " 'LV29': 29,\n",
       " 'LV30': 30}"
      ]
     },
     "execution_count": 9,
     "metadata": {},
     "output_type": "execute_result"
    }
   ],
   "source": [
    "input_pr.withPrior"
   ]
  },
  {
   "cell_type": "code",
   "execution_count": 15,
   "id": "f833acd8-8c5f-4da5-be04-e5ee8684df8f",
   "metadata": {},
   "outputs": [
    {
     "data": {
      "text/plain": [
       "False"
      ]
     },
     "execution_count": 15,
     "metadata": {},
     "output_type": "execute_result"
    }
   ],
   "source": [
    "isinstance(pr.withPrior['LV1'], list)"
   ]
  },
  {
   "cell_type": "code",
   "execution_count": 10,
   "id": "a733e76d-ba0b-46c7-a44f-0f4e9ed75ea8",
   "metadata": {},
   "outputs": [
    {
     "data": {
      "text/plain": [
       "float"
      ]
     },
     "execution_count": 10,
     "metadata": {},
     "output_type": "execute_result"
    }
   ],
   "source": [
    "type(pr.L1)"
   ]
  },
  {
   "cell_type": "code",
   "execution_count": 11,
   "id": "f0d9abae-49e7-4cc8-9036-09e05b07472a",
   "metadata": {},
   "outputs": [
    {
     "data": {
      "text/plain": [
       "numpy.float32"
      ]
     },
     "execution_count": 11,
     "metadata": {},
     "output_type": "execute_result"
    }
   ],
   "source": [
    "type(input_pr.L1)"
   ]
  },
  {
   "cell_type": "code",
   "execution_count": 8,
   "id": "e444cb77-f05a-4f51-9fe8-8d31b6983909",
   "metadata": {},
   "outputs": [],
   "source": [
    "input_h5 = h5py.File(\"/home/milo/workspace/pyplier/test_output.h5\")"
   ]
  },
  {
   "cell_type": "code",
   "execution_count": 12,
   "id": "56204c6b-814c-4210-8662-b91f95326e67",
   "metadata": {},
   "outputs": [],
   "source": [
    "group=\"withPrior\""
   ]
  },
  {
   "cell_type": "code",
   "execution_count": 15,
   "id": "c2191e1f-1639-44de-8035-451086b75299",
   "metadata": {},
   "outputs": [],
   "source": [
    "decoded_dict = {\n",
    "    k : (\n",
    "        input_h5[group][k][0] if input_h5[group][k].dtype == int\n",
    "        else\n",
    "        np.char.array(input_h5[group][k]).decode().tolist()\n",
    "    )\n",
    "    for k\n",
    "    in input_h5[group].keys()\n",
    "}"
   ]
  },
  {
   "cell_type": "code",
   "execution_count": 16,
   "id": "ee7b3451-6734-4474-bb94-24478cc98432",
   "metadata": {},
   "outputs": [
    {
     "data": {
      "text/plain": [
       "{'LV1': 1,\n",
       " 'LV10': 10,\n",
       " 'LV11': 11,\n",
       " 'LV14': 14,\n",
       " 'LV15': 15,\n",
       " 'LV18': 18,\n",
       " 'LV2': 2,\n",
       " 'LV20': 20,\n",
       " 'LV23': 23,\n",
       " 'LV24': 24,\n",
       " 'LV26': 26,\n",
       " 'LV27': 27,\n",
       " 'LV29': 29,\n",
       " 'LV3': 3,\n",
       " 'LV30': 30,\n",
       " 'LV4': 4,\n",
       " 'LV5': 5,\n",
       " 'LV6': 6,\n",
       " 'LV7': 7,\n",
       " 'LV8': 8,\n",
       " 'LV9': 9}"
      ]
     },
     "execution_count": 16,
     "metadata": {},
     "output_type": "execute_result"
    }
   ],
   "source": [
    "decoded_dict"
   ]
  },
  {
   "cell_type": "code",
   "execution_count": 36,
   "id": "b04c3a4a-8672-42b2-b0aa-f9d7bcb95f85",
   "metadata": {},
   "outputs": [
    {
     "name": "stdout",
     "output_type": "stream",
     "text": []
    },
    {
     "name": "stdout",
     "output_type": "stream",
     "text": []
    },
    {
     "name": "stdout",
     "output_type": "stream",
     "text": []
    },
    {
     "name": "stdout",
     "output_type": "stream",
     "text": []
    },
    {
     "name": "stdout",
     "output_type": "stream",
     "text": []
    },
    {
     "name": "stdout",
     "output_type": "stream",
     "text": []
    },
    {
     "name": "stdout",
     "output_type": "stream",
     "text": []
    },
    {
     "name": "stdout",
     "output_type": "stream",
     "text": []
    },
    {
     "name": "stdout",
     "output_type": "stream",
     "text": []
    },
    {
     "name": "stdout",
     "output_type": "stream",
     "text": []
    },
    {
     "name": "stdout",
     "output_type": "stream",
     "text": []
    },
    {
     "name": "stdout",
     "output_type": "stream",
     "text": []
    },
    {
     "name": "stdout",
     "output_type": "stream",
     "text": []
    },
    {
     "name": "stdout",
     "output_type": "stream",
     "text": []
    },
    {
     "name": "stdout",
     "output_type": "stream",
     "text": []
    },
    {
     "name": "stdout",
     "output_type": "stream",
     "text": []
    },
    {
     "name": "stdout",
     "output_type": "stream",
     "text": []
    },
    {
     "name": "stdout",
     "output_type": "stream",
     "text": []
    },
    {
     "name": "stdout",
     "output_type": "stream",
     "text": []
    },
    {
     "name": "stdout",
     "output_type": "stream",
     "text": []
    },
    {
     "name": "stdout",
     "output_type": "stream",
     "text": []
    },
    {
     "name": "stdout",
     "output_type": "stream",
     "text": []
    },
    {
     "name": "stdout",
     "output_type": "stream",
     "text": []
    },
    {
     "name": "stdout",
     "output_type": "stream",
     "text": []
    },
    {
     "name": "stdout",
     "output_type": "stream",
     "text": []
    },
    {
     "name": "stdout",
     "output_type": "stream",
     "text": []
    },
    {
     "name": "stdout",
     "output_type": "stream",
     "text": []
    },
    {
     "name": "stdout",
     "output_type": "stream",
     "text": []
    },
    {
     "name": "stdout",
     "output_type": "stream",
     "text": []
    },
    {
     "name": "stdout",
     "output_type": "stream",
     "text": []
    },
    {
     "name": "stdout",
     "output_type": "stream",
     "text": []
    },
    {
     "name": "stdout",
     "output_type": "stream",
     "text": []
    },
    {
     "name": "stdout",
     "output_type": "stream",
     "text": []
    },
    {
     "name": "stdout",
     "output_type": "stream",
     "text": []
    },
    {
     "name": "stdout",
     "output_type": "stream",
     "text": []
    },
    {
     "name": "stdout",
     "output_type": "stream",
     "text": []
    },
    {
     "name": "stdout",
     "output_type": "stream",
     "text": []
    },
    {
     "name": "stdout",
     "output_type": "stream",
     "text": []
    },
    {
     "name": "stdout",
     "output_type": "stream",
     "text": []
    },
    {
     "name": "stdout",
     "output_type": "stream",
     "text": []
    },
    {
     "name": "stdout",
     "output_type": "stream",
     "text": []
    },
    {
     "name": "stdout",
     "output_type": "stream",
     "text": []
    },
    {
     "name": "stdout",
     "output_type": "stream",
     "text": []
    },
    {
     "name": "stdout",
     "output_type": "stream",
     "text": []
    },
    {
     "name": "stdout",
     "output_type": "stream",
     "text": []
    },
    {
     "name": "stdout",
     "output_type": "stream",
     "text": []
    },
    {
     "name": "stdout",
     "output_type": "stream",
     "text": []
    },
    {
     "name": "stdout",
     "output_type": "stream",
     "text": []
    },
    {
     "name": "stdout",
     "output_type": "stream",
     "text": []
    },
    {
     "name": "stdout",
     "output_type": "stream",
     "text": []
    },
    {
     "name": "stdout",
     "output_type": "stream",
     "text": []
    },
    {
     "name": "stdout",
     "output_type": "stream",
     "text": []
    },
    {
     "name": "stdout",
     "output_type": "stream",
     "text": []
    },
    {
     "name": "stdout",
     "output_type": "stream",
     "text": []
    },
    {
     "name": "stdout",
     "output_type": "stream",
     "text": []
    },
    {
     "name": "stdout",
     "output_type": "stream",
     "text": []
    },
    {
     "name": "stdout",
     "output_type": "stream",
     "text": []
    },
    {
     "name": "stdout",
     "output_type": "stream",
     "text": []
    },
    {
     "name": "stdout",
     "output_type": "stream",
     "text": []
    },
    {
     "name": "stdout",
     "output_type": "stream",
     "text": []
    },
    {
     "name": "stdout",
     "output_type": "stream",
     "text": [
      "Collecting natsort\n",
      "  Downloading natsort-8.2.0-py3-none-any.whl (37 kB)\n",
      "Installing collected packages: natsort\n",
      "Successfully installed natsort-8.2.0\n",
      "Note: you may need to restart the kernel to use updated packages.\n"
     ]
    }
   ],
   "source": [
    "%pip install natsort"
   ]
  },
  {
   "cell_type": "code",
   "execution_count": 41,
   "id": "416b5e4a-bd34-40a5-9472-e1bddebb0569",
   "metadata": {},
   "outputs": [],
   "source": [
    "import re"
   ]
  },
  {
   "cell_type": "code",
   "execution_count": 51,
   "id": "ba0bc8d1-075a-4e96-9636-8cf22b92db9c",
   "metadata": {},
   "outputs": [],
   "source": [
    "alpha = re.findall(r\"[0-9]+\", \"LV10\")"
   ]
  },
  {
   "cell_type": "code",
   "execution_count": 52,
   "id": "da7d67f7-618a-4a48-b9a1-561d35235a08",
   "metadata": {},
   "outputs": [
    {
     "data": {
      "text/plain": [
       "['10']"
      ]
     },
     "execution_count": 52,
     "metadata": {},
     "output_type": "execute_result"
    }
   ],
   "source": [
    "alpha"
   ]
  },
  {
   "cell_type": "code",
   "execution_count": 55,
   "id": "9274f1d9-dcd0-45ea-bd38-56aec6303c50",
   "metadata": {},
   "outputs": [],
   "source": [
    "def only_int(x):\n",
    "    return int(re.findall(r\"[0-9]+\", x)[0])"
   ]
  },
  {
   "cell_type": "code",
   "execution_count": 56,
   "id": "3963601e-bcb2-41a2-a0fd-e70665c7413d",
   "metadata": {},
   "outputs": [
    {
     "data": {
      "text/plain": [
       "['LV1',\n",
       " 'LV2',\n",
       " 'LV3',\n",
       " 'LV4',\n",
       " 'LV5',\n",
       " 'LV6',\n",
       " 'LV7',\n",
       " 'LV8',\n",
       " 'LV9',\n",
       " 'LV10',\n",
       " 'LV11',\n",
       " 'LV14',\n",
       " 'LV15',\n",
       " 'LV18',\n",
       " 'LV20',\n",
       " 'LV23',\n",
       " 'LV24',\n",
       " 'LV26',\n",
       " 'LV27',\n",
       " 'LV29',\n",
       " 'LV30']"
      ]
     },
     "execution_count": 56,
     "metadata": {},
     "output_type": "execute_result"
    }
   ],
   "source": [
    "sorted(decoded_dict, key=only_int)"
   ]
  },
  {
   "cell_type": "code",
   "execution_count": 62,
   "id": "3cbeb3c8-0275-409f-8758-1fba6c409564",
   "metadata": {},
   "outputs": [
    {
     "data": {
      "text/plain": [
       "{'LV1': 1,\n",
       " 'LV2': 2,\n",
       " 'LV3': 3,\n",
       " 'LV4': 4,\n",
       " 'LV5': 5,\n",
       " 'LV6': 6,\n",
       " 'LV7': 7,\n",
       " 'LV8': 8,\n",
       " 'LV9': 9,\n",
       " 'LV10': 10,\n",
       " 'LV11': 11,\n",
       " 'LV14': 14,\n",
       " 'LV15': 15,\n",
       " 'LV18': 18,\n",
       " 'LV20': 20,\n",
       " 'LV23': 23,\n",
       " 'LV24': 24,\n",
       " 'LV26': 26,\n",
       " 'LV27': 27,\n",
       " 'LV29': 29,\n",
       " 'LV30': 30}"
      ]
     },
     "execution_count": 62,
     "metadata": {},
     "output_type": "execute_result"
    }
   ],
   "source": [
    "{k: decoded_dict[k] for k in sorted(decoded_dict, key=only_int)}"
   ]
  },
  {
   "cell_type": "code",
   "execution_count": 21,
   "id": "262bb4d4-89a5-4a4c-aa53-e7b4f8317ead",
   "metadata": {},
   "outputs": [
    {
     "data": {
      "text/plain": [
       "dict_keys(['LV1', 'LV10', 'LV11', 'LV14', 'LV15', 'LV18', 'LV2', 'LV20', 'LV23', 'LV24', 'LV26', 'LV27', 'LV29', 'LV3', 'LV30', 'LV4', 'LV5', 'LV6', 'LV7', 'LV8', 'LV9'])"
      ]
     },
     "execution_count": 21,
     "metadata": {},
     "output_type": "execute_result"
    }
   ],
   "source": [
    "decoded_dict.keys()"
   ]
  },
  {
   "cell_type": "code",
   "execution_count": 18,
   "id": "be5e0303-5541-4149-b7fc-90e7b5033b41",
   "metadata": {},
   "outputs": [
    {
     "data": {
      "text/plain": [
       "True"
      ]
     },
     "execution_count": 18,
     "metadata": {},
     "output_type": "execute_result"
    }
   ],
   "source": [
    "input_h5[\"withPrior\"][\"LV1\"].dtype == int"
   ]
  },
  {
   "cell_type": "code",
   "execution_count": 17,
   "id": "27bbb5a7-531d-464f-ba75-817ca18f615d",
   "metadata": {},
   "outputs": [
    {
     "data": {
      "text/plain": [
       "True"
      ]
     },
     "execution_count": 17,
     "metadata": {},
     "output_type": "execute_result"
    }
   ],
   "source": [
    "input_h5[\"heldOutGenes\"][\"BIOCARTA_BCR_PATHWAY\"].dtype == \"O\""
   ]
  }
 ],
 "metadata": {
  "kernelspec": {
   "display_name": "Python 3.9 (XPython)",
   "language": "python",
   "name": "xpython"
  },
  "language_info": {
   "file_extension": ".py",
   "mimetype": "text/x-python",
   "name": "python",
   "version": "3.9.13"
  }
 },
 "nbformat": 4,
 "nbformat_minor": 5
}
