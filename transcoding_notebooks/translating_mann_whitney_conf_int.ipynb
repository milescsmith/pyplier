{
 "cells": [
  {
   "cell_type": "code",
   "execution_count": 1,
   "id": "a55b1d9c-0e49-4d17-8149-c9ed18a9ac60",
   "metadata": {
    "tags": []
   },
   "outputs": [],
   "source": [
    "from typing import Dict\n",
    "from pathlib import Path\n",
    "\n",
    "import numpy as np\n",
    "import pandas as pd\n",
    "from tqdm.auto import tqdm"
   ]
  },
  {
   "cell_type": "code",
   "execution_count": 2,
   "id": "462737f0-0c8d-416b-a655-4e95f4c642f3",
   "metadata": {},
   "outputs": [],
   "source": [
    "data_dir = Path(\"/workspaces/pyplier/transcoding_notebooks/data/mannwhitney_conf_int\")\n",
    "\n",
    "x = pd.read_csv(data_dir / \"x.csv\", index_col=0).squeeze(\"columns\")\n",
    "y = pd.read_csv(data_dir / \"y.csv\", index_col=0).squeeze(\"columns\")\n",
    "posval = pd.read_csv(data_dir / \"posval.csv\", index_col=0).squeeze(\"columns\")\n",
    "negval = pd.read_csv(data_dir / \"negval.csv\", index_col=0).squeeze(\"columns\")"
   ]
  },
  {
   "cell_type": "markdown",
   "id": "4480837f-62b8-41c3-858e-0e2d96ce9637",
   "metadata": {},
   "source": [
    "So while the current `pyplier.AUC.mannwhitneyu_conf_int()` above does give the correct result for the\n",
    "algorithm used, it does not match what is returned by R {stats} `wilcox.test()`.\n",
    "\n",
    "So here is the R code used:"
   ]
  },
  {
   "cell_type": "markdown",
   "id": "f5b40c58-27e1-4bdb-ae78-3f36895f9fb2",
   "metadata": {},
   "source": [
    "```{r}\n",
    "alpha <- 1 - conf.level\n",
    "mumin <- min(x) - max(y)\n",
    "mumax <- max(x) - min(y)\n",
    "W <- function(d) {\n",
    "    dr <- c(x - d, y)\n",
    "    dr <- rank(if (is.finite(digits.rank)) \n",
    "    signif(dr, digits.rank)\n",
    "    else dr)\n",
    "    NTIES.CI <- table(dr)\n",
    "    dz <- sum(dr[seq_along(x)]) - n.x * (n.x + \n",
    "    1)/2 - n.x * n.y/2\n",
    "    CORRECTION.CI <- if (correct) {\n",
    "    switch(alternative, two.sided = sign(dz) * \n",
    "        0.5, greater = 0.5, less = -0.5)\n",
    "    }\n",
    "    else 0\n",
    "    SIGMA.CI <- sqrt((n.x * n.y/12) * ((n.x + \n",
    "    n.y + 1) - sum(NTIES.CI^3 - NTIES.CI)/((n.x + \n",
    "    n.y) * (n.x + n.y - 1))))\n",
    "    if (SIGMA.CI == 0) \n",
    "    warning(\"cannot compute confidence interval when all observations are tied\", \n",
    "        call. = FALSE)\n",
    "    (dz - CORRECTION.CI)/SIGMA.CI\n",
    "}\n",
    "wdiff <- function(d, zq) W(d) - zq\n",
    "Wmumin <- W(mumin)\n",
    "Wmumax <- W(mumax)\n",
    "root <- function(zq) {\n",
    "    f.lower <- Wmumin - zq\n",
    "    if (f.lower <= 0) \n",
    "    return(mumin)\n",
    "    f.upper <- Wmumax - zq\n",
    "    if (f.upper >= 0) \n",
    "    return(mumax)\n",
    "    uniroot(wdiff, lower = mumin, upper = mumax, \n",
    "    f.lower = f.lower, f.upper = f.upper, tol = tol.root, \n",
    "    zq = zq)$root\n",
    "}\n",
    "cint <- switch(alternative, two.sided = {\n",
    "    l <- root(zq = qnorm(alpha/2, lower.tail = FALSE))\n",
    "    u <- root(zq = qnorm(alpha/2))\n",
    "    c(l, u)\n",
    "}, greater = {\n",
    "    l <- root(zq = qnorm(alpha, lower.tail = FALSE))\n",
    "    c(l, +Inf)\n",
    "}, less = {\n",
    "    u <- root(zq = qnorm(alpha))\n",
    "    c(-Inf, u)\n",
    "})\n",
    "attr(cint, \"conf.level\") <- conf.level\n",
    "correct <- FALSE\n",
    "ESTIMATE <- c(`difference in location` = uniroot(W, \n",
    "    lower = mumin, upper = mumax, tol = tol.root)$root)\n",
    "```"
   ]
  },
  {
   "cell_type": "code",
   "execution_count": 3,
   "id": "f8b5c935-c841-4c2b-85e6-19d57742b2ed",
   "metadata": {},
   "outputs": [],
   "source": [
    "# from scipy.stats import rankdata\n",
    "# def mannwhitney_conf_int(x, y, conf_level = 0.95, digits_rank = np.inf)"
   ]
  },
  {
   "cell_type": "code",
   "execution_count": 4,
   "id": "d8dc8152-7fff-41c9-b0b2-fe86e83507d6",
   "metadata": {},
   "outputs": [],
   "source": [
    "conf_level = 0.95"
   ]
  },
  {
   "cell_type": "code",
   "execution_count": 5,
   "id": "fb1bd66f-f217-4a1f-9f42-058a723c5e5d",
   "metadata": {},
   "outputs": [],
   "source": [
    "alpha = 1 - conf_level\n",
    "mumin = x.min() - y.max()\n",
    "mumax = x.max() - y.min()"
   ]
  },
  {
   "cell_type": "code",
   "execution_count": 6,
   "id": "e52b7ba7-c7eb-4c0c-bb32-685ae1e77cd9",
   "metadata": {},
   "outputs": [],
   "source": [
    "from scipy.stats import rankdata"
   ]
  },
  {
   "cell_type": "code",
   "execution_count": 7,
   "id": "fbb8cf04-f25e-4bcf-84d4-c3aa5f13508e",
   "metadata": {},
   "outputs": [
    {
     "data": {
      "text/plain": [
       "array([ 9.5,  9.5, 42. , 37. , 34. , 20. ,  9.5, 40. , 27. , 23. ,  9.5,\n",
       "       36. , 44. , 41. , 39. , 48. , 53. , 33. , 46. ,  9.5, 24. , 49. ,\n",
       "       32. ,  9.5, 43. , 26. , 45. ,  9.5, 35. , 25. , 38. ,  9.5, 52. ,\n",
       "        9.5, 31. , 22. , 30. ,  9.5, 54. ,  9.5, 50. , 51. , 19. ,  9.5,\n",
       "        9.5, 28. , 29. , 47. ,  9.5, 21. ,  9.5,  9.5,  9.5,  9.5])"
      ]
     },
     "execution_count": 7,
     "metadata": {},
     "output_type": "execute_result"
    }
   ],
   "source": [
    "rankdata(x)"
   ]
  },
  {
   "cell_type": "code",
   "execution_count": 8,
   "id": "eed9ebb5-3ce8-40a5-bfe5-d94ab51e763b",
   "metadata": {},
   "outputs": [],
   "source": [
    "from rich.console import Console\n",
    "\n",
    "console = Console()"
   ]
  },
  {
   "cell_type": "code",
   "execution_count": 9,
   "id": "84375c24-1b4c-47b5-b662-c9e036b38776",
   "metadata": {},
   "outputs": [
    {
     "data": {
      "text/html": [
       "<pre style=\"white-space:pre;overflow-x:auto;line-height:normal;font-family:Menlo,'DejaVu Sans Mono',consolas,'Courier New',monospace\">Don't get murdered!\n",
       "</pre>\n"
      ],
      "text/plain": [
       "Don't get murdered!\n"
      ]
     },
     "metadata": {},
     "output_type": "display_data"
    }
   ],
   "source": [
    "console.print(\"Don't get murdered!\")"
   ]
  },
  {
   "cell_type": "code",
   "execution_count": 10,
   "id": "3f39c291-3607-4f23-a9a2-cf9d95c78409",
   "metadata": {},
   "outputs": [],
   "source": [
    "digits_rank = np.inf\n",
    "correct = False\n",
    "alternative = \"two.sided\""
   ]
  },
  {
   "cell_type": "code",
   "execution_count": 11,
   "id": "9933c0f2-a14a-43c3-9a26-7b3e37e2583c",
   "metadata": {},
   "outputs": [],
   "source": [
    "def W(d):\n",
    "    # dr <- c(x - d, y)\n",
    "    dr = np.append(np.subtract(x, d), y)\n",
    "\n",
    "    # dr <- rank(if (is.finite(digits.rank)) signif(dr, digits.rank) else dr)\n",
    "    if np.isinf(digits_rank):\n",
    "        dr = rankdata(dr)\n",
    "    else:\n",
    "        dr = rankdata(round(dr, digits_rank))\n",
    "\n",
    "    # NTIES.CI <- table(dr)\n",
    "    _, nties_ci = np.unique(dr, return_counts=True)\n",
    "\n",
    "    # dz <- sum(dr[seq_along(x)]) - n.x * (n.x + 1)/2 - n.x * n.y/2\n",
    "    dz = (\n",
    "        np.sum(dr[range(len(x))])\n",
    "        - (len(x) * ((len(x) + 1) / 2))\n",
    "        - (len(x) * len(y) / 2)\n",
    "    )\n",
    "\n",
    "    # CORRECTION.CI <-\n",
    "    #     if (correct){\n",
    "    #         switch(\n",
    "    #             EXPR = alternative,\n",
    "    #             two.sided = sign(dz) * 0.5,\n",
    "    #             greater = 0.5,\n",
    "    #             less = -0.5\n",
    "    #         )\n",
    "    #     } else {\n",
    "    #         0\n",
    "    #     }\n",
    "    if correct:\n",
    "        if alternative == \"two.sided\":\n",
    "            correction_ci = np.sign(dz) * 0.5\n",
    "        elif alternative == \"greater\":\n",
    "            correction_ci = 0.5\n",
    "        elif alternative == \"less\":\n",
    "            correction_ci = -0.5\n",
    "    else:\n",
    "        correction_ci = 0\n",
    "\n",
    "    # SIGMA.CI <- sqrt((n.x * n.y/12) * ((n.x + n.y + 1) - sum(NTIES.CI^3 - NTIES.CI)/((n.x + n.y) * (n.x + n.y - 1))))\n",
    "    sigma_ci = np.sqrt(\n",
    "        (len(x) * len(y) / 12)\n",
    "        * (\n",
    "            (len(x) + len(y) + 1)\n",
    "            - np.sum(nties_ci**3 - nties_ci)\n",
    "            / ((len(x) + len(y)) * (len(x) + len(y) - 1))\n",
    "        )\n",
    "    )\n",
    "\n",
    "    if sigma_ci == 0:\n",
    "        console.print(\n",
    "            \"cannot compute confidence interval when all observations are tied\"\n",
    "        )\n",
    "\n",
    "    return (dz - correction_ci) / sigma_ci"
   ]
  },
  {
   "cell_type": "code",
   "execution_count": 14,
   "id": "b5dba283-3b4f-4d9c-a49b-37b94497c01b",
   "metadata": {},
   "outputs": [],
   "source": [
    "d = mumin\n",
    "dr = np.append(np.subtract(x.values, d), y.values)\n",
    "dr = rankdata(dr)"
   ]
  },
  {
   "cell_type": "code",
   "execution_count": 15,
   "id": "2a53fe44-eddd-4490-a353-4142c9047bc5",
   "metadata": {},
   "outputs": [
    {
     "data": {
      "text/plain": [
       "gene\n",
       "SMARCD3     0.317658\n",
       "NOTCH4      0.317658\n",
       "ZNF708      0.440214\n",
       "SP1         0.428501\n",
       "SMAD4       0.411437\n",
       "              ...   \n",
       "CFL2        0.064740\n",
       "CFL1        0.000000\n",
       "SELL        0.009852\n",
       "GNGT2       0.000000\n",
       "SERPINH1    0.000000\n",
       "Name: LV1, Length: 5672, dtype: float64"
      ]
     },
     "execution_count": 15,
     "metadata": {},
     "output_type": "execute_result"
    }
   ],
   "source": [
    "pd.concat([np.subtract(x, d), y])"
   ]
  },
  {
   "cell_type": "code",
   "execution_count": 16,
   "id": "c1328596-eaf0-48e4-8d6e-831adfa2b25b",
   "metadata": {},
   "outputs": [
    {
     "data": {
      "text/plain": [
       "array([0.31765815, 0.31765815, 0.44021351, ..., 0.0098523 , 0.        ,\n",
       "       0.        ])"
      ]
     },
     "execution_count": 16,
     "metadata": {},
     "output_type": "execute_result"
    }
   ],
   "source": [
    "np.append(np.subtract(x.values, d), y.values)"
   ]
  },
  {
   "cell_type": "code",
   "execution_count": 17,
   "id": "ba4228ff-9e1c-45d7-a2a7-af8c67f141d4",
   "metadata": {},
   "outputs": [
    {
     "data": {
      "text/plain": [
       "array([0.31765815, 0.31765815, 0.44021351, ..., 0.0098523 , 0.        ,\n",
       "       0.        ])"
      ]
     },
     "execution_count": 17,
     "metadata": {},
     "output_type": "execute_result"
    }
   ],
   "source": [
    "np.append(np.subtract(list(x.values), d), list(y.values))"
   ]
  },
  {
   "cell_type": "code",
   "execution_count": 18,
   "id": "26bfc7c2-73c5-4481-b651-a58007a37794",
   "metadata": {},
   "outputs": [
    {
     "data": {
      "text/plain": [
       "array([5627., 5627., 5660., ..., 3414., 1585., 1585.])"
      ]
     },
     "execution_count": 18,
     "metadata": {},
     "output_type": "execute_result"
    }
   ],
   "source": [
    "rankdata(pd.concat([np.subtract(x, d), y]))"
   ]
  },
  {
   "cell_type": "code",
   "execution_count": 19,
   "id": "cda1dda1-dab0-488c-8cb0-fbdbd2f8ebf1",
   "metadata": {},
   "outputs": [
    {
     "data": {
      "text/plain": [
       "array([5627., 5627., 5660., ..., 3414., 1585., 1585.])"
      ]
     },
     "execution_count": 19,
     "metadata": {},
     "output_type": "execute_result"
    }
   ],
   "source": [
    "rankdata(np.append(np.subtract(x.values, d), y.values))"
   ]
  },
  {
   "cell_type": "code",
   "execution_count": 20,
   "id": "926f937a-0b4b-4208-a0a9-592e0266fc1d",
   "metadata": {},
   "outputs": [],
   "source": [
    "_, nties_ci = np.unique(dr, return_counts=True)"
   ]
  },
  {
   "cell_type": "code",
   "execution_count": 21,
   "id": "7a995a97-4baf-468d-ad19-6d87522ac336",
   "metadata": {},
   "outputs": [
    {
     "data": {
      "text/plain": [
       "array([5627., 5627., 5660., ..., 3414., 1585., 1585.])"
      ]
     },
     "execution_count": 21,
     "metadata": {},
     "output_type": "execute_result"
    }
   ],
   "source": [
    "rankdata(dr)"
   ]
  },
  {
   "cell_type": "code",
   "execution_count": 22,
   "id": "2caa3925-6b4b-44e8-8aae-3e3e6bda8704",
   "metadata": {},
   "outputs": [
    {
     "data": {
      "text/plain": [
       "(array([1585., 3170., 3171., ..., 5670., 5671., 5672.]),\n",
       " array([3169,    1,    1, ...,    1,    1,    1]))"
      ]
     },
     "execution_count": 22,
     "metadata": {},
     "output_type": "execute_result"
    }
   ],
   "source": [
    "np.unique(rankdata(dr), return_counts=True)"
   ]
  },
  {
   "cell_type": "code",
   "execution_count": 23,
   "id": "8c2c820c-ad0b-4c43-ab4f-3cb838c12397",
   "metadata": {},
   "outputs": [],
   "source": [
    "# dz <- sum(dr[seq_along(x)]) - n.x * (n.x + 1)/2 - n.x * n.y/2"
   ]
  },
  {
   "cell_type": "code",
   "execution_count": 24,
   "id": "2655474a-c005-4cd3-a16a-c8ee6c699500",
   "metadata": {},
   "outputs": [
    {
     "data": {
      "text/plain": [
       "array([5627., 5627., 5660., 5655., 5652., 5638., 5627., 5658., 5645.,\n",
       "       5641., 5627., 5654., 5662., 5659., 5657., 5666., 5671., 5651.,\n",
       "       5664., 5627., 5642., 5667., 5650., 5627., 5661., 5644., 5663.,\n",
       "       5627., 5653., 5643., 5656., 5627., 5670., 5627., 5649., 5640.,\n",
       "       5648., 5627., 5672., 5627., 5668., 5669., 5637., 5627., 5627.,\n",
       "       5646., 5647., 5665., 5627., 5639., 5627., 5627., 5627., 5627.])"
      ]
     },
     "execution_count": 24,
     "metadata": {},
     "output_type": "execute_result"
    }
   ],
   "source": [
    "dr[range(len(x))]"
   ]
  },
  {
   "cell_type": "code",
   "execution_count": 25,
   "id": "c1f4e564-3e2d-48ba-8ae8-21f9b3fbc496",
   "metadata": {},
   "outputs": [
    {
     "data": {
      "text/plain": [
       "304848.0"
      ]
     },
     "execution_count": 25,
     "metadata": {},
     "output_type": "execute_result"
    }
   ],
   "source": [
    "np.sum(dr[range(len(x))])"
   ]
  },
  {
   "cell_type": "code",
   "execution_count": 26,
   "id": "874d951e-e096-48ad-9d7e-95a6ed7eb5c5",
   "metadata": {},
   "outputs": [
    {
     "data": {
      "text/plain": [
       "151677.0"
      ]
     },
     "execution_count": 26,
     "metadata": {},
     "output_type": "execute_result"
    }
   ],
   "source": [
    "np.sum(dr[range(len(x))]) - (len(x) * ((len(x) + 1) / 2)) - (len(x) * len(y) / 2)"
   ]
  },
  {
   "cell_type": "code",
   "execution_count": 27,
   "id": "8f9a175d-539b-452e-8ce5-cfea2d9513ea",
   "metadata": {},
   "outputs": [],
   "source": [
    "dz = np.sum(dr[range(len(x))]) - (len(x) * ((len(x) + 1) / 2)) - (len(x) * len(y) / 2)"
   ]
  },
  {
   "cell_type": "code",
   "execution_count": 28,
   "id": "8cf22b99-ee77-4590-a00f-711021ff57dc",
   "metadata": {},
   "outputs": [],
   "source": [
    "correction_ci = np.sign(dz) * 0.5"
   ]
  },
  {
   "cell_type": "code",
   "execution_count": 29,
   "id": "bba94544-f052-4891-bce2-16b23026798f",
   "metadata": {},
   "outputs": [
    {
     "data": {
      "text/plain": [
       "10881.458985130197"
      ]
     },
     "execution_count": 29,
     "metadata": {},
     "output_type": "execute_result"
    }
   ],
   "source": [
    "np.sqrt(\n",
    "    (len(x) * len(y) / 12)\n",
    "    * (\n",
    "        (len(x) + len(y) + 1)\n",
    "        - np.sum(nties_ci**3 - nties_ci) / ((len(x) + len(y)) * (len(x) + len(y) - 1))\n",
    "    )\n",
    ")"
   ]
  },
  {
   "cell_type": "code",
   "execution_count": 30,
   "id": "dc4e8c5e-1792-4046-b4f5-73fef72695f0",
   "metadata": {},
   "outputs": [],
   "source": [
    "sigma_ci = np.sqrt(\n",
    "    (len(x) * len(y) / 12)\n",
    "    * (\n",
    "        (len(x) + len(y) + 1)\n",
    "        - np.sum(nties_ci**3 - nties_ci) / ((len(x) + len(y)) * (len(x) + len(y) - 1))\n",
    "    )\n",
    ")"
   ]
  },
  {
   "cell_type": "code",
   "execution_count": 31,
   "id": "04dbfd30-2135-4762-8ddd-663f0c6cda25",
   "metadata": {},
   "outputs": [
    {
     "data": {
      "text/plain": [
       "-0.3176581514699247"
      ]
     },
     "execution_count": 31,
     "metadata": {},
     "output_type": "execute_result"
    }
   ],
   "source": [
    "mumin"
   ]
  },
  {
   "cell_type": "code",
   "execution_count": 32,
   "id": "608a7ff4-bb6f-4760-ac02-bce82c643c3c",
   "metadata": {},
   "outputs": [
    {
     "data": {
      "text/plain": [
       "13.939031540464441"
      ]
     },
     "execution_count": 32,
     "metadata": {},
     "output_type": "execute_result"
    }
   ],
   "source": [
    "W(mumin)"
   ]
  },
  {
   "cell_type": "code",
   "execution_count": 33,
   "id": "8324fa8c-73c4-4374-a1b1-7fd88b42bfba",
   "metadata": {},
   "outputs": [
    {
     "data": {
      "text/plain": [
       "-0.3176581514699247"
      ]
     },
     "execution_count": 33,
     "metadata": {},
     "output_type": "execute_result"
    }
   ],
   "source": [
    "mumin"
   ]
  },
  {
   "cell_type": "code",
   "execution_count": 34,
   "id": "4f329c94-87ac-4173-a3e0-72c37c81ab5b",
   "metadata": {},
   "outputs": [
    {
     "data": {
      "text/plain": [
       "13.939031540464441"
      ]
     },
     "execution_count": 34,
     "metadata": {},
     "output_type": "execute_result"
    }
   ],
   "source": [
    "W(mumin)"
   ]
  },
  {
   "cell_type": "code",
   "execution_count": 35,
   "id": "53073575-b9fe-4bf5-b489-ea2851b72afe",
   "metadata": {},
   "outputs": [
    {
     "data": {
      "text/plain": [
       "pandas.core.series.Series"
      ]
     },
     "execution_count": 35,
     "metadata": {},
     "output_type": "execute_result"
    }
   ],
   "source": [
    "type(x)"
   ]
  },
  {
   "cell_type": "code",
   "execution_count": 36,
   "id": "de082975-6858-42a3-b5d7-69e00860a22a",
   "metadata": {},
   "outputs": [
    {
     "data": {
      "text/plain": [
       "float"
      ]
     },
     "execution_count": 36,
     "metadata": {},
     "output_type": "execute_result"
    }
   ],
   "source": [
    "type(np.inf)"
   ]
  },
  {
   "cell_type": "code",
   "execution_count": 37,
   "id": "cca198ec-93b6-4dfd-882d-42ffac988154",
   "metadata": {},
   "outputs": [],
   "source": [
    "def wdiff(d, zq):\n",
    "    return W(d) - zq"
   ]
  },
  {
   "cell_type": "code",
   "execution_count": 43,
   "id": "12734e54-abbd-4384-baa8-28972e001c4c",
   "metadata": {},
   "outputs": [],
   "source": [
    "Wmumin = W(mumin)\n",
    "Wmumax = W(mumax)"
   ]
  },
  {
   "cell_type": "code",
   "execution_count": 39,
   "id": "14d7f1d7-d29e-49c0-ad3e-d995c8feee78",
   "metadata": {},
   "outputs": [],
   "source": [
    "from scipy.stats import norm"
   ]
  },
  {
   "cell_type": "code",
   "execution_count": 40,
   "id": "919ef048-f688-46bd-81f8-dfc8845d7853",
   "metadata": {},
   "outputs": [
    {
     "data": {
      "text/plain": [
       "1.9599639845400545"
      ]
     },
     "execution_count": 40,
     "metadata": {},
     "output_type": "execute_result"
    }
   ],
   "source": [
    "norm.isf(0.025)"
   ]
  },
  {
   "cell_type": "code",
   "execution_count": 41,
   "id": "336b91d9-f3df-4104-8409-1b42aee07141",
   "metadata": {},
   "outputs": [],
   "source": [
    "zq = norm.isf(alpha / 2)"
   ]
  },
  {
   "cell_type": "code",
   "execution_count": 44,
   "id": "3eedce6c-473c-4953-a81b-b5454079d519",
   "metadata": {},
   "outputs": [
    {
     "data": {
      "text/plain": [
       "11.979067555924388"
      ]
     },
     "execution_count": 44,
     "metadata": {},
     "output_type": "execute_result"
    }
   ],
   "source": [
    "f_lower = Wmumin - zq\n",
    "f_lower"
   ]
  },
  {
   "cell_type": "code",
   "execution_count": 45,
   "id": "f13b2189-c7f0-4c8f-a656-c4ea121a865a",
   "metadata": {},
   "outputs": [
    {
     "data": {
      "text/plain": [
       "-15.75558784762169"
      ]
     },
     "execution_count": 45,
     "metadata": {},
     "output_type": "execute_result"
    }
   ],
   "source": [
    "f_upper = Wmumax - zq\n",
    "f_upper"
   ]
  },
  {
   "cell_type": "code",
   "execution_count": 46,
   "id": "834652bc-8bb8-4312-9dfe-1d805679a938",
   "metadata": {},
   "outputs": [],
   "source": [
    "tol_root = 1e-4"
   ]
  },
  {
   "cell_type": "code",
   "execution_count": 47,
   "id": "86360f0c-bf9f-4d78-b68b-bbee3630b894",
   "metadata": {},
   "outputs": [],
   "source": [
    "from scipy import optimize"
   ]
  },
  {
   "cell_type": "code",
   "execution_count": 48,
   "id": "4321cedb-ea4d-47b6-a50b-465056b8f705",
   "metadata": {},
   "outputs": [
    {
     "data": {
      "text/plain": [
       "-0.3176581514699247"
      ]
     },
     "execution_count": 48,
     "metadata": {},
     "output_type": "execute_result"
    }
   ],
   "source": [
    "mumin"
   ]
  },
  {
   "cell_type": "code",
   "execution_count": 49,
   "id": "6ce9008d-80b5-4828-b198-afc58376022e",
   "metadata": {},
   "outputs": [
    {
     "data": {
      "text/plain": [
       "0.2919499490908167"
      ]
     },
     "execution_count": 49,
     "metadata": {},
     "output_type": "execute_result"
    }
   ],
   "source": [
    "mumax"
   ]
  },
  {
   "cell_type": "code",
   "execution_count": 50,
   "id": "cd54d663-cfdb-4bfd-b8a6-303d0a4b70be",
   "metadata": {},
   "outputs": [
    {
     "data": {
      "text/plain": [
       "1.959963984540054"
      ]
     },
     "execution_count": 50,
     "metadata": {},
     "output_type": "execute_result"
    }
   ],
   "source": [
    "zq"
   ]
  },
  {
   "cell_type": "code",
   "execution_count": 51,
   "id": "54c5a84c-8e11-43f9-b52a-03c8c3777474",
   "metadata": {},
   "outputs": [
    {
     "data": {
      "text/plain": [
       "0.002345855173076829"
      ]
     },
     "execution_count": 51,
     "metadata": {},
     "output_type": "execute_result"
    }
   ],
   "source": [
    "optimize.brentq(wdiff, mumin, mumax, zq)"
   ]
  },
  {
   "cell_type": "markdown",
   "id": "648ec147-bacc-4b02-95aa-0677f5848372",
   "metadata": {},
   "source": [
    "Not exactly the same as the result from R, which is 0.002313109"
   ]
  },
  {
   "cell_type": "code",
   "execution_count": 58,
   "id": "46651d4e-566a-4a14-b565-259ec1c6a3e1",
   "metadata": {},
   "outputs": [],
   "source": [
    "from scipy.optimize import brentq"
   ]
  },
  {
   "cell_type": "code",
   "execution_count": 59,
   "id": "27b613b1-2394-4a49-9992-f59d8cb9b617",
   "metadata": {},
   "outputs": [],
   "source": [
    "def root(zq, Wmumin, Wmumax):\n",
    "    f_lower = Wmumin - zq\n",
    "    if f_lower <= 0:\n",
    "        return mumin\n",
    "\n",
    "    f_upper < -Wmumax - zq\n",
    "    if f_upper >= 0:\n",
    "        return mumax\n",
    "\n",
    "    brentq(wdiff, mumin, mumax, zq)"
   ]
  },
  {
   "cell_type": "code",
   "execution_count": 60,
   "id": "95d2299b-b1f8-4055-927c-16e5227f2184",
   "metadata": {},
   "outputs": [],
   "source": [
    "if alternative == \"two_sided\":\n",
    "    l = root(norm.isf(alpha / 2))\n",
    "    u = root(norm.ppf(alpha / 2))\n",
    "    cint = [l, u]\n",
    "elif alternative == \"greater\":\n",
    "    l = root(norm.isf(alpha))\n",
    "    cint = [l, np.PINF]\n",
    "elif alternative == \"less\":\n",
    "    u = root(norm.ppf(alpha))\n",
    "    cint = [np.NINF, u]\n",
    "else:\n",
    "    cint = [np.nan, np.nan]"
   ]
  },
  {
   "cell_type": "code",
   "execution_count": 61,
   "id": "8cf260fc-b9ba-4b3f-8138-886b029332d5",
   "metadata": {},
   "outputs": [
    {
     "ename": "SyntaxError",
     "evalue": "invalid syntax (2151192502.py, line 2)",
     "output_type": "error",
     "traceback": [
      "\u001b[0;36m  Input \u001b[0;32mIn [61]\u001b[0;36m\u001b[0m\n\u001b[0;31m    estimate = c(`difference in location` = uniroot(W, lower = mumin, upper = mumax, tol = tol.root)$root)\u001b[0m\n\u001b[0m                 ^\u001b[0m\n\u001b[0;31mSyntaxError\u001b[0m\u001b[0;31m:\u001b[0m invalid syntax\n"
     ]
    }
   ],
   "source": [
    "correct = False\n",
    "estimate = c(`difference in location` = uniroot(W, lower = mumin, upper = mumax, tol = tol.root)$root)"
   ]
  },
  {
   "cell_type": "code",
   "execution_count": 78,
   "id": "eae38d69-b999-44c1-ae9b-b2c6bbea155d",
   "metadata": {},
   "outputs": [],
   "source": [
    "def conf_interval(\n",
    "    x,\n",
    "    y,\n",
    "    conf_level: float = 0.95,\n",
    "    tol_root: float = 1e-4,\n",
    "    digits_rank: float = np.inf,\n",
    "    correct: bool = False,\n",
    "    alternative: str = \"two_sided\",\n",
    "):\n",
    "    alpha = 1 - conf_level\n",
    "    mumin = min(x) - max(y)\n",
    "    mumax = max(x) - min(y)\n",
    "\n",
    "    def W(d: float) -> float:\n",
    "        dr = np.append(np.subtract(x, d), y)\n",
    "\n",
    "        if np.isinf(digits_rank):\n",
    "            dr = rankdata(dr)\n",
    "        else:\n",
    "            dr = rankdata(round(dr, digits_rank))\n",
    "\n",
    "        _, nties_ci = np.unique(dr, return_counts=True)\n",
    "\n",
    "        dz = (\n",
    "            np.sum(dr[range(len(x))])\n",
    "            - (len(x) * ((len(x) + 1) / 2))\n",
    "            - (len(x) * len(y) / 2)\n",
    "        )\n",
    "\n",
    "        if correct:\n",
    "            if alternative == \"two_sided\":\n",
    "                correction_ci = np.sign(dz) * 0.5\n",
    "            elif alternative == \"greater\":\n",
    "                correction_ci = 0.5\n",
    "            elif alternative == \"less\":\n",
    "                correction_ci = -0.5\n",
    "        else:\n",
    "            correction_ci = 0\n",
    "\n",
    "        sigma_ci = np.sqrt(\n",
    "            (len(x) * len(y) / 12)\n",
    "            * (\n",
    "                (len(x) + len(y) + 1)\n",
    "                - np.sum(nties_ci**3 - nties_ci)\n",
    "                / ((len(x) + len(y)) * (len(x) + len(y) - 1))\n",
    "            )\n",
    "        )\n",
    "\n",
    "        if sigma_ci == 0:\n",
    "            console.print(\n",
    "                \"cannot compute confidence interval when all observations are tied\"\n",
    "            )\n",
    "\n",
    "        return (dz - correction_ci) / sigma_ci\n",
    "\n",
    "    def wdiff(d, zq):\n",
    "        return W(d) - zq\n",
    "\n",
    "    Wmumin = W(mumin)\n",
    "    Wmumax = W(mumax)\n",
    "\n",
    "    def root(zq):\n",
    "        f_lower = Wmumin - zq\n",
    "        if f_lower <= 0:\n",
    "            return mumin\n",
    "\n",
    "        f_upper = Wmumax - zq\n",
    "        if f_upper >= 0:\n",
    "            return mumax\n",
    "\n",
    "        return brentq(wdiff, mumin, mumax, zq, tol_root, maxiter=100)\n",
    "\n",
    "    if alternative == \"two_sided\":\n",
    "        l = root(norm.isf(alpha / 2))\n",
    "        u = root(norm.ppf(alpha / 2))\n",
    "        cint = (l, u)\n",
    "    elif alternative == \"greater\":\n",
    "        l = root(norm.isf(alpha))\n",
    "        cint = (l, np.PINF)\n",
    "    elif alternative == \"less\":\n",
    "        u = root(norm.ppf(alpha))\n",
    "        cint = (np.NINF, u)\n",
    "    else:\n",
    "        cint = (np.nan, np.nan)\n",
    "\n",
    "    return cint"
   ]
  },
  {
   "cell_type": "code",
   "execution_count": 80,
   "id": "0a009d8b-ace9-472a-92b0-efb3a136e195",
   "metadata": {},
   "outputs": [
    {
     "data": {
      "text/plain": [
       "0.0"
      ]
     },
     "execution_count": 80,
     "metadata": {},
     "output_type": "execute_result"
    }
   ],
   "source": [
    "min(posval)"
   ]
  },
  {
   "cell_type": "code",
   "execution_count": 81,
   "id": "99d715ba-c590-4856-8a90-f32a3717e1b7",
   "metadata": {},
   "outputs": [
    {
     "data": {
      "text/plain": [
       "0.2919499490908167"
      ]
     },
     "execution_count": 81,
     "metadata": {},
     "output_type": "execute_result"
    }
   ],
   "source": [
    "max(posval)"
   ]
  },
  {
   "cell_type": "code",
   "execution_count": 82,
   "id": "26f41f3b-e31a-4f94-9a36-de8f91ddb738",
   "metadata": {},
   "outputs": [
    {
     "data": {
      "text/plain": [
       "0.0"
      ]
     },
     "execution_count": 82,
     "metadata": {},
     "output_type": "execute_result"
    }
   ],
   "source": [
    "min(negval)"
   ]
  },
  {
   "cell_type": "code",
   "execution_count": 84,
   "id": "ffc63c48-b9cd-491d-b12f-7546ae624065",
   "metadata": {},
   "outputs": [
    {
     "data": {
      "text/plain": [
       "0.3176581514699247"
      ]
     },
     "execution_count": 84,
     "metadata": {},
     "output_type": "execute_result"
    }
   ],
   "source": [
    "max(negval)"
   ]
  },
  {
   "cell_type": "code",
   "execution_count": 79,
   "id": "82ee82a2-3c08-4a53-99a2-5951080f765d",
   "metadata": {},
   "outputs": [
    {
     "ename": "RuntimeError",
     "evalue": "Failed to converge after 100 iterations.",
     "output_type": "error",
     "traceback": [
      "\u001b[0;31m---------------------------------------------------------------------------\u001b[0m",
      "\u001b[0;31mRuntimeError\u001b[0m                              Traceback (most recent call last)",
      "Input \u001b[0;32mIn [79]\u001b[0m, in \u001b[0;36m<cell line: 1>\u001b[0;34m()\u001b[0m\n\u001b[0;32m----> 1\u001b[0m conf_interval(\n\u001b[1;32m      2\u001b[0m     x\u001b[38;5;241m=\u001b[39m[\u001b[38;5;241m0.0\u001b[39m, \u001b[38;5;241m0.0\u001b[39m,\u001b[38;5;241m0.0\u001b[39m,\u001b[38;5;241m0.0\u001b[39m,\u001b[38;5;241m0.0\u001b[39m,\u001b[38;5;241m0.0\u001b[39m,\u001b[38;5;241m0.0\u001b[39m,\u001b[38;5;241m0.0\u001b[39m,\u001b[38;5;241m0.0\u001b[39m,\u001b[38;5;241m0.0\u001b[39m,\u001b[38;5;241m0.0\u001b[39m,\u001b[38;5;241m0.0\u001b[39m,\u001b[38;5;241m0.0\u001b[39m,\u001b[38;5;241m0.0\u001b[39m,\u001b[38;5;241m0.0\u001b[39m,\u001b[38;5;241m0.0\u001b[39m,\u001b[38;5;241m0.0\u001b[39m,\u001b[38;5;241m0.0\u001b[39m,\u001b[38;5;241m0.0\u001b[39m,\u001b[38;5;241m0.0\u001b[39m,\u001b[38;5;241m0.0\u001b[39m],\n\u001b[1;32m      3\u001b[0m     y\u001b[38;5;241m=\u001b[39m[\u001b[38;5;241m0.0\u001b[39m,\u001b[38;5;241m0.0\u001b[39m,\u001b[38;5;241m0.0\u001b[39m,\u001b[38;5;241m0.0\u001b[39m,\u001b[38;5;241m0.0\u001b[39m,\u001b[38;5;241m0.0\u001b[39m,\u001b[38;5;241m0.0\u001b[39m,\u001b[38;5;241m0.0\u001b[39m,\u001b[38;5;241m0.0\u001b[39m,\u001b[38;5;241m0.0\u001b[39m,\u001b[38;5;241m0.0\u001b[39m,\u001b[38;5;241m0.0\u001b[39m,\u001b[38;5;241m0.0\u001b[39m,\u001b[38;5;241m0.0\u001b[39m,\u001b[38;5;241m0.0\u001b[39m,\u001b[38;5;241m0.0\u001b[39m,\u001b[38;5;241m0.0\u001b[39m,\u001b[38;5;241m0.0\u001b[39m,\u001b[38;5;241m2.1456996181329575e+31\u001b[39m]\n\u001b[1;32m      4\u001b[0m )\n",
      "Input \u001b[0;32mIn [78]\u001b[0m, in \u001b[0;36mconf_interval\u001b[0;34m(x, y, conf_level, tol_root, digits_rank, correct, alternative)\u001b[0m\n\u001b[1;32m     54\u001b[0m     \u001b[38;5;28;01mreturn\u001b[39;00m brentq(wdiff, mumin, mumax, zq, tol_root, maxiter\u001b[38;5;241m=\u001b[39m\u001b[38;5;241m100\u001b[39m)\n\u001b[1;32m     56\u001b[0m \u001b[38;5;28;01mif\u001b[39;00m alternative \u001b[38;5;241m==\u001b[39m \u001b[38;5;124m\"\u001b[39m\u001b[38;5;124mtwo_sided\u001b[39m\u001b[38;5;124m\"\u001b[39m:\n\u001b[0;32m---> 57\u001b[0m     l \u001b[38;5;241m=\u001b[39m \u001b[43mroot\u001b[49m\u001b[43m(\u001b[49m\u001b[43mnorm\u001b[49m\u001b[38;5;241;43m.\u001b[39;49m\u001b[43misf\u001b[49m\u001b[43m(\u001b[49m\u001b[43malpha\u001b[49m\u001b[43m \u001b[49m\u001b[38;5;241;43m/\u001b[39;49m\u001b[43m \u001b[49m\u001b[38;5;241;43m2\u001b[39;49m\u001b[43m)\u001b[49m\u001b[43m)\u001b[49m\n\u001b[1;32m     58\u001b[0m     u \u001b[38;5;241m=\u001b[39m root(norm\u001b[38;5;241m.\u001b[39mppf(alpha \u001b[38;5;241m/\u001b[39m \u001b[38;5;241m2\u001b[39m))\n\u001b[1;32m     59\u001b[0m     cint \u001b[38;5;241m=\u001b[39m (l, u)\n",
      "Input \u001b[0;32mIn [78]\u001b[0m, in \u001b[0;36mconf_interval.<locals>.root\u001b[0;34m(zq)\u001b[0m\n\u001b[1;32m     51\u001b[0m \u001b[38;5;28;01mif\u001b[39;00m (f_upper \u001b[38;5;241m>\u001b[39m\u001b[38;5;241m=\u001b[39m \u001b[38;5;241m0\u001b[39m):\n\u001b[1;32m     52\u001b[0m     \u001b[38;5;28;01mreturn\u001b[39;00m mumax\n\u001b[0;32m---> 54\u001b[0m \u001b[38;5;28;01mreturn\u001b[39;00m \u001b[43mbrentq\u001b[49m\u001b[43m(\u001b[49m\u001b[43mwdiff\u001b[49m\u001b[43m,\u001b[49m\u001b[43m \u001b[49m\u001b[43mmumin\u001b[49m\u001b[43m,\u001b[49m\u001b[43m \u001b[49m\u001b[43mmumax\u001b[49m\u001b[43m,\u001b[49m\u001b[43m \u001b[49m\u001b[43mzq\u001b[49m\u001b[43m,\u001b[49m\u001b[43m \u001b[49m\u001b[43mtol_root\u001b[49m\u001b[43m,\u001b[49m\u001b[43m \u001b[49m\u001b[43mmaxiter\u001b[49m\u001b[38;5;241;43m=\u001b[39;49m\u001b[38;5;241;43m100\u001b[39;49m\u001b[43m)\u001b[49m\n",
      "File \u001b[0;32m~/.cache/pypoetry/virtualenvs/pyplier-3Y0kqMGe-py3.8/lib/python3.8/site-packages/scipy/optimize/_zeros_py.py:783\u001b[0m, in \u001b[0;36mbrentq\u001b[0;34m(f, a, b, args, xtol, rtol, maxiter, full_output, disp)\u001b[0m\n\u001b[1;32m    781\u001b[0m \u001b[38;5;28;01mif\u001b[39;00m rtol \u001b[38;5;241m<\u001b[39m _rtol:\n\u001b[1;32m    782\u001b[0m     \u001b[38;5;28;01mraise\u001b[39;00m \u001b[38;5;167;01mValueError\u001b[39;00m(\u001b[38;5;124m\"\u001b[39m\u001b[38;5;124mrtol too small (\u001b[39m\u001b[38;5;132;01m%g\u001b[39;00m\u001b[38;5;124m < \u001b[39m\u001b[38;5;132;01m%g\u001b[39;00m\u001b[38;5;124m)\u001b[39m\u001b[38;5;124m\"\u001b[39m \u001b[38;5;241m%\u001b[39m (rtol, _rtol))\n\u001b[0;32m--> 783\u001b[0m r \u001b[38;5;241m=\u001b[39m \u001b[43m_zeros\u001b[49m\u001b[38;5;241;43m.\u001b[39;49m\u001b[43m_brentq\u001b[49m\u001b[43m(\u001b[49m\u001b[43mf\u001b[49m\u001b[43m,\u001b[49m\u001b[43m \u001b[49m\u001b[43ma\u001b[49m\u001b[43m,\u001b[49m\u001b[43m \u001b[49m\u001b[43mb\u001b[49m\u001b[43m,\u001b[49m\u001b[43m \u001b[49m\u001b[43mxtol\u001b[49m\u001b[43m,\u001b[49m\u001b[43m \u001b[49m\u001b[43mrtol\u001b[49m\u001b[43m,\u001b[49m\u001b[43m \u001b[49m\u001b[43mmaxiter\u001b[49m\u001b[43m,\u001b[49m\u001b[43m \u001b[49m\u001b[43margs\u001b[49m\u001b[43m,\u001b[49m\u001b[43m \u001b[49m\u001b[43mfull_output\u001b[49m\u001b[43m,\u001b[49m\u001b[43m \u001b[49m\u001b[43mdisp\u001b[49m\u001b[43m)\u001b[49m\n\u001b[1;32m    784\u001b[0m \u001b[38;5;28;01mreturn\u001b[39;00m results_c(full_output, r)\n",
      "\u001b[0;31mRuntimeError\u001b[0m: Failed to converge after 100 iterations."
     ]
    }
   ],
   "source": [
    "conf_interval(\n",
    "    x=[\n",
    "        0.0,\n",
    "        0.0,\n",
    "        0.0,\n",
    "        0.0,\n",
    "        0.0,\n",
    "        0.0,\n",
    "        0.0,\n",
    "        0.0,\n",
    "        0.0,\n",
    "        0.0,\n",
    "        0.0,\n",
    "        0.0,\n",
    "        0.0,\n",
    "        0.0,\n",
    "        0.0,\n",
    "        0.0,\n",
    "        0.0,\n",
    "        0.0,\n",
    "        0.0,\n",
    "        0.0,\n",
    "        0.0,\n",
    "    ],\n",
    "    y=[\n",
    "        0.0,\n",
    "        0.0,\n",
    "        0.0,\n",
    "        0.0,\n",
    "        0.0,\n",
    "        0.0,\n",
    "        0.0,\n",
    "        0.0,\n",
    "        0.0,\n",
    "        0.0,\n",
    "        0.0,\n",
    "        0.0,\n",
    "        0.0,\n",
    "        0.0,\n",
    "        0.0,\n",
    "        0.0,\n",
    "        0.0,\n",
    "        0.0,\n",
    "        2.1456996181329575e31,\n",
    "    ],\n",
    ")"
   ]
  },
  {
   "cell_type": "code",
   "execution_count": 108,
   "id": "ac07f56a-3e5b-423b-bdac-df9e28fb9e2f",
   "metadata": {},
   "outputs": [],
   "source": [
    "conf_low, conf_high = conf_interval(posval, negval, alternative=\"greater\")"
   ]
  },
  {
   "cell_type": "code",
   "execution_count": 109,
   "id": "3cabc08b-d362-48fe-aef8-39aaff79b7c1",
   "metadata": {},
   "outputs": [
    {
     "data": {
      "text/plain": [
       "0.007149831510470957"
      ]
     },
     "execution_count": 109,
     "metadata": {},
     "output_type": "execute_result"
    }
   ],
   "source": [
    "conf_low"
   ]
  },
  {
   "cell_type": "code",
   "execution_count": 110,
   "id": "a61c4317-03cb-4196-a8b0-b363678fa8d8",
   "metadata": {},
   "outputs": [],
   "source": [
    "from joblib import load"
   ]
  },
  {
   "cell_type": "code",
   "execution_count": 111,
   "id": "7752a751-f723-405a-94dc-70835e00522a",
   "metadata": {},
   "outputs": [],
   "source": [
    "expected_file = load(\"/workspaces/pyplier/tests/data/AUC/auc_test_result.pkl\")"
   ]
  },
  {
   "cell_type": "code",
   "execution_count": 112,
   "id": "6fd26714-bb90-4026-a48a-adda2c8b026c",
   "metadata": {},
   "outputs": [
    {
     "data": {
      "text/plain": [
       "{'low': 0.0,\n",
       " 'high': 0.0189180614565336,\n",
       " 'auc': 0.5952222873136758,\n",
       " 'pval': 0.003939670634429234}"
      ]
     },
     "execution_count": 112,
     "metadata": {},
     "output_type": "execute_result"
    }
   ],
   "source": [
    "expected_file"
   ]
  },
  {
   "cell_type": "code",
   "execution_count": 113,
   "id": "8191280b-4735-4192-be76-c7cc03fe8edb",
   "metadata": {},
   "outputs": [],
   "source": [
    "from pyplier.AUC import AUC"
   ]
  },
  {
   "cell_type": "code",
   "execution_count": 119,
   "id": "8c452e6b-7345-4e24-a38b-c6f969f6e95b",
   "metadata": {},
   "outputs": [],
   "source": [
    "labels = pd.read_csv(\n",
    "    \"/workspaces/pyplier/tests/data/AUC/labels.csv.gz\", index_col=0\n",
    ").squeeze(\"columns\")\n",
    "values = pd.read_csv(\n",
    "    \"/workspaces/pyplier/tests/data/AUC/values.csv.gz\", index_col=0\n",
    ").squeeze(\"columns\")"
   ]
  },
  {
   "cell_type": "code",
   "execution_count": 123,
   "id": "bef25439-7d7e-420d-a08b-7d6d74684bac",
   "metadata": {},
   "outputs": [
    {
     "data": {
      "text/plain": [
       "{'low': 3.061262487135893e-05,\n",
       " 'high': inf,\n",
       " 'auc': 0.5952222873136758,\n",
       " 'pval': 0.003939670634429234}"
      ]
     },
     "execution_count": 123,
     "metadata": {},
     "output_type": "execute_result"
    }
   ],
   "source": [
    "res = AUC(labels, values)\n",
    "res"
   ]
  },
  {
   "cell_type": "code",
   "execution_count": 121,
   "id": "7040c2a4-ac0a-4746-b584-ad60c44c5e4e",
   "metadata": {},
   "outputs": [],
   "source": [
    "from json import dump"
   ]
  },
  {
   "cell_type": "code",
   "execution_count": 124,
   "id": "add15620-9b97-4b7f-a9aa-bf67bbc13919",
   "metadata": {},
   "outputs": [],
   "source": [
    "with open(\"/workspaces/pyplier/tests/data/AUC/auc_test_result.json\", \"w\") as atr:\n",
    "    dump(res, atr)"
   ]
  },
  {
   "cell_type": "code",
   "execution_count": 125,
   "id": "c1d26394-2a59-44c1-a1ec-15710ea5a86e",
   "metadata": {},
   "outputs": [],
   "source": [
    "from pyplier.PLIERRes import PLIERResults"
   ]
  },
  {
   "cell_type": "code",
   "execution_count": 127,
   "id": "a7d1862b-9db4-4bdf-89a6-3a5cbc8803c4",
   "metadata": {},
   "outputs": [],
   "source": [
    "plierRes = PLIERResults.from_disk(\n",
    "    \"/workspaces/pyplier/tests/data/crossVal/crossval_plierres.json.gz\"\n",
    ")"
   ]
  },
  {
   "cell_type": "code",
   "execution_count": 130,
   "id": "cc6a08f6-c7f5-4a81-82a4-5760aab2c1e3",
   "metadata": {},
   "outputs": [],
   "source": [
    "priorMat = pd.read_csv(\n",
    "    \"/workspaces/pyplier/tests/data/crossVal/crossval_priormat.csv.gz\", index_col=0\n",
    ")"
   ]
  },
  {
   "cell_type": "code",
   "execution_count": 138,
   "id": "87b2f710-47d8-4c93-9ed0-5f350e5d0161",
   "metadata": {},
   "outputs": [
    {
     "data": {
      "text/plain": [
       "array([0., 0., 0., ..., 0., 0., 0.])"
      ]
     },
     "execution_count": 138,
     "metadata": {},
     "output_type": "execute_result"
    }
   ],
   "source": [
    "priorMat.loc[\n",
    "    :,\n",
    "    [\"IRIS_Monocyte-Day0\", \"IRIS_Neutrophil-Resting\", \"DMAP_MONO1\", \"PID_IL6_7PATHWAY\"],\n",
    "].values.flatten()"
   ]
  },
  {
   "cell_type": "code",
   "execution_count": 47,
   "id": "6e95d888-f31a-4ec3-94ac-d312a8b81387",
   "metadata": {},
   "outputs": [
    {
     "ename": "TypeError",
     "evalue": "descriptor 'uniform' of 'numpy.random._generator.Generator' object needs an argument",
     "output_type": "error",
     "traceback": [
      "\u001b[0;31m---------------------------------------------------------------------------\u001b[0m",
      "\u001b[0;31mTypeError\u001b[0m                                 Traceback (most recent call last)",
      "Input \u001b[0;32mIn [47]\u001b[0m, in \u001b[0;36m<cell line: 1>\u001b[0;34m()\u001b[0m\n\u001b[0;32m----> 1\u001b[0m np\u001b[38;5;241m.\u001b[39mrandom\u001b[38;5;241m.\u001b[39mGenerator\u001b[38;5;241m.\u001b[39muniform(low\u001b[38;5;241m=\u001b[39m\u001b[38;5;241m0.0\u001b[39m, high\u001b[38;5;241m=\u001b[39m\u001b[38;5;241m1.0\u001b[39m, size\u001b[38;5;241m=\u001b[39m\u001b[38;5;28;01mNone\u001b[39;00m)\n",
      "\u001b[0;31mTypeError\u001b[0m: descriptor 'uniform' of 'numpy.random._generator.Generator' object needs an argument"
     ]
    }
   ],
   "source": [
    "np.random.Generator.uniform(low=0.0, high=1.0, size=None)"
   ]
  },
  {
   "cell_type": "code",
   "execution_count": 70,
   "id": "084d2513-15c3-41ef-9fb2-deb6f97be969",
   "metadata": {},
   "outputs": [
    {
     "name": "stdout",
     "output_type": "stream",
     "text": [
      "less\n"
     ]
    },
    {
     "data": {
      "text/plain": [
       "(-inf, 0.044610369079090474)"
      ]
     },
     "execution_count": 70,
     "metadata": {},
     "output_type": "execute_result"
    }
   ],
   "source": [
    "conf_interval(posval, negval, alternative=\"less\")"
   ]
  },
  {
   "cell_type": "code",
   "execution_count": 67,
   "id": "d8635b4c-8da7-4c09-aa30-29545aa4680a",
   "metadata": {},
   "outputs": [
    {
     "name": "stdout",
     "output_type": "stream",
     "text": [
      "greater\n"
     ]
    }
   ],
   "source": [
    "assert (0.007149831510470957, np.inf) == conf_interval(\n",
    "    posval, negval, alternative=\"greater\"\n",
    ")"
   ]
  },
  {
   "cell_type": "code",
   "execution_count": 71,
   "id": "803fcba2-2ef6-410e-bfbb-8f8f155a7589",
   "metadata": {},
   "outputs": [
    {
     "data": {
      "text/plain": [
       "-inf"
      ]
     },
     "execution_count": 71,
     "metadata": {},
     "output_type": "execute_result"
    }
   ],
   "source": [
    "-np.inf"
   ]
  },
  {
   "cell_type": "code",
   "execution_count": 53,
   "id": "7474da63-548c-40a5-9614-ea2b371c8c39",
   "metadata": {},
   "outputs": [
    {
     "data": {
      "text/plain": [
       "gene\n",
       "SMARCD3    0.000000\n",
       "NOTCH4     0.000000\n",
       "ZNF708     0.122555\n",
       "SP1        0.110843\n",
       "SMAD4      0.093779\n",
       "SMAD3      0.014073\n",
       "ZNF3       0.000000\n",
       "ZKSCAN1    0.115999\n",
       "ZNF354B    0.064277\n",
       "ZNF583     0.038242\n",
       "TBL1X      0.000000\n",
       "ZNF615     0.110649\n",
       "NCOA3      0.141449\n",
       "NCOA1      0.118420\n",
       "ZNF493     0.114002\n",
       "ZNF211     0.150148\n",
       "ZNF514     0.200260\n",
       "ZNF26      0.092609\n",
       "ZNF25      0.146562\n",
       "ZNF235     0.000000\n",
       "ESR2       0.042226\n",
       "MAML2      0.161881\n",
       "MAML3      0.091114\n",
       "TEAD2      0.000000\n",
       "ZNF45      0.125577\n",
       "ZNF43      0.064189\n",
       "ZNF597     0.145484\n",
       "ZNF599     0.000000\n",
       "ZFP90      0.100559\n",
       "CCNC       0.044585\n",
       "ZNF141     0.111004\n",
       "ZNF420     0.000000\n",
       "TRIM33     0.199494\n",
       "MYC        0.000000\n",
       "ZNF641     0.086640\n",
       "MAMLD1     0.015179\n",
       "ZFP37      0.073333\n",
       "ZNF446     0.000000\n",
       "ZNF440     0.291950\n",
       "SNW1       0.000000\n",
       "MED1       0.179196\n",
       "MED7       0.181450\n",
       "ZNF627     0.007200\n",
       "ZNF485     0.000000\n",
       "NR2F6      0.000000\n",
       "ZNF567     0.071099\n",
       "ZNF169     0.072429\n",
       "NR4A2      0.148702\n",
       "NR4A1      0.000000\n",
       "MED27      0.014640\n",
       "PARP1      0.000000\n",
       "ZNF266     0.000000\n",
       "ZNF263     0.000000\n",
       "ZNF548     0.000000\n",
       "Name: LV1, dtype: float64"
      ]
     },
     "execution_count": 53,
     "metadata": {},
     "output_type": "execute_result"
    }
   ],
   "source": [
    "posval"
   ]
  },
  {
   "cell_type": "code",
   "execution_count": 63,
   "id": "c1e04b11-9988-4ccb-98e2-5b250c2705cc",
   "metadata": {},
   "outputs": [
    {
     "data": {
      "text/plain": [
       "gene\n",
       "GAS6        0.000000\n",
       "MMP14       0.007516\n",
       "MARCKSL1    0.000000\n",
       "SPARC       0.000000\n",
       "CTSD        0.000000\n",
       "              ...   \n",
       "CFL2        0.064740\n",
       "CFL1        0.000000\n",
       "SELL        0.009852\n",
       "GNGT2       0.000000\n",
       "SERPINH1    0.000000\n",
       "Name: LV1, Length: 5618, dtype: float64"
      ]
     },
     "execution_count": 63,
     "metadata": {},
     "output_type": "execute_result"
    }
   ],
   "source": [
    "negval"
   ]
  }
 ],
 "metadata": {
  "kernelspec": {
   "display_name": "Python 3 (ipykernel)",
   "language": "python",
   "name": "python3"
  },
  "language_info": {
   "codemirror_mode": {
    "name": "ipython",
    "version": 3
   },
   "file_extension": ".py",
   "mimetype": "text/x-python",
   "name": "python",
   "nbconvert_exporter": "python",
   "pygments_lexer": "ipython3",
   "version": "3.8.12"
  }
 },
 "nbformat": 4,
 "nbformat_minor": 5
}
