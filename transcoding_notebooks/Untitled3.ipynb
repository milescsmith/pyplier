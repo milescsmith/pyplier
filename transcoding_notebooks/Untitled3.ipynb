{
 "cells": [
  {
   "cell_type": "code",
   "execution_count": 6,
   "id": "30e269a8-346a-4ecc-b907-368bcee94e23",
   "metadata": {},
   "outputs": [],
   "source": [
    "from typing import Dict, List, TypedDict\n",
    "\n",
    "from pandas import DataFrame\n",
    "\n",
    "PLIERResultsDict = TypedDict(\n",
    "    \"PlierResults\",\n",
    "    {\n",
    "        \"residual\": DataFrame,\n",
    "        \"B\": DataFrame,\n",
    "        \"Z\": DataFrame,\n",
    "        \"U\": DataFrame,\n",
    "        \"C\": DataFrame,\n",
    "        \"L1\": float,\n",
    "        \"L2\": float,\n",
    "        \"L3\": float,\n",
    "        \"heldOutGenes\": Dict[str, List[str]],\n",
    "        \"withPrior\": Dict[str, int],\n",
    "        \"Uauc\": DataFrame,\n",
    "        \"Up\": DataFrame,\n",
    "        \"summary\": DataFrame,\n",
    "    },\n",
    ")"
   ]
  },
  {
   "cell_type": "code",
   "execution_count": 2,
   "id": "c0343acd-92a1-4427-9a4c-153f707877a5",
   "metadata": {},
   "outputs": [],
   "source": [
    "alfa = PLIERResults()"
   ]
  },
  {
   "cell_type": "code",
   "execution_count": 4,
   "id": "de7d7fc5-517c-49c8-bf25-3250a10ac16b",
   "metadata": {},
   "outputs": [],
   "source": [
    "alfa[\"residual\"] = 0.54"
   ]
  },
  {
   "cell_type": "code",
   "execution_count": 5,
   "id": "b9dd7660-4114-4a05-8aed-5591330eab9b",
   "metadata": {},
   "outputs": [
    {
     "data": {
      "text/plain": [
       "{'residual': 0.54}"
      ]
     },
     "execution_count": 5,
     "metadata": {},
     "output_type": "execute_result"
    }
   ],
   "source": [
    "alfa"
   ]
  },
  {
   "cell_type": "code",
   "execution_count": 9,
   "id": "de66cd9f-17e6-42c7-ab91-423817126f6b",
   "metadata": {},
   "outputs": [],
   "source": [
    "from dataclasses import dataclass\n",
    "\n",
    "\n",
    "@dataclass\n",
    "class PLIERResults:\n",
    "    residual: DataFrame = None\n",
    "    B: DataFrame = None\n",
    "    Z: DataFrame = None\n",
    "    U: DataFrame = None\n",
    "    C: DataFrame = None\n",
    "    L1: float = None\n",
    "    L2: float = None\n",
    "    L3: float = None\n",
    "    heldOutGenes: Dict[str, List[str]] = None\n",
    "    withPrior: Dict[str, int] = None\n",
    "    Uauc: DataFrame = None\n",
    "    Up: DataFrame = None\n",
    "    summary: DataFrame = None"
   ]
  },
  {
   "cell_type": "code",
   "execution_count": 10,
   "id": "c430d2d1-2ed5-4d8d-82ed-53acd0208f5d",
   "metadata": {},
   "outputs": [],
   "source": [
    "alfa = PLIERResults()"
   ]
  },
  {
   "cell_type": "code",
   "execution_count": 11,
   "id": "57bb9e43-bde6-4959-a3ba-eafff140601f",
   "metadata": {},
   "outputs": [
    {
     "data": {
      "text/plain": [
       "PLIERResults(residual=None, B=None, Z=None, U=None, C=None, L1=None, L2=None, L3=None, heldOutGenes=None, withPrior=None, Uauc=None, Up=None, summary=None)"
      ]
     },
     "execution_count": 11,
     "metadata": {},
     "output_type": "execute_result"
    }
   ],
   "source": [
    "alfa"
   ]
  },
  {
   "cell_type": "code",
   "execution_count": 12,
   "id": "06ed2589-ecb1-4de9-b185-017e030474f5",
   "metadata": {},
   "outputs": [],
   "source": [
    "alfa.residual = 8"
   ]
  }
 ],
 "metadata": {
  "kernelspec": {
   "display_name": "Python 3.8 (XPython)",
   "language": "python",
   "name": "xpython"
  },
  "language_info": {
   "file_extension": ".py",
   "mimetype": "text/x-python",
   "name": "python",
   "version": "3.8.12"
  }
 },
 "nbformat": 4,
 "nbformat_minor": 5
}
