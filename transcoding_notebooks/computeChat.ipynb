{
 "cells": [
  {
   "cell_type": "code",
   "execution_count": 1,
   "metadata": {},
   "outputs": [],
   "source": [
    "import numpy as np\n",
    "\n",
    "rng = np.random.default_rng()\n",
    "mat1 = rng.random((10, 5))"
   ]
  },
  {
   "cell_type": "code",
   "execution_count": null,
   "metadata": {},
   "outputs": [
    {
     "data": {
      "text/plain": [
       "array([[2.85756647, 2.73900784, 2.23238446, 1.27329305, 1.8588958 ],\n",
       "       [2.73900784, 3.67205923, 3.08297524, 2.07916892, 2.55540371],\n",
       "       [2.23238446, 3.08297524, 4.97576715, 2.35225535, 2.63022393],\n",
       "       [1.27329305, 2.07916892, 2.35225535, 2.30771445, 1.73355792],\n",
       "       [1.8588958 , 2.55540371, 2.63022393, 1.73355792, 2.10323391]])"
      ]
     },
     "execution_count": 10,
     "metadata": {},
     "output_type": "execute_result"
    }
   ],
   "source": [
    "mat1.T @ mat1"
   ]
  },
  {
   "cell_type": "code",
   "execution_count": null,
   "metadata": {},
   "outputs": [],
   "source": [
    "import pandas as pd\n",
    "\n",
    "df1 = pd.DataFrame(data=mat1)"
   ]
  },
  {
   "cell_type": "code",
   "execution_count": null,
   "metadata": {},
   "outputs": [
    {
     "data": {
      "text/html": [
       "<div>\n",
       "<style scoped>\n",
       "    .dataframe tbody tr th:only-of-type {\n",
       "        vertical-align: middle;\n",
       "    }\n",
       "\n",
       "    .dataframe tbody tr th {\n",
       "        vertical-align: top;\n",
       "    }\n",
       "\n",
       "    .dataframe thead th {\n",
       "        text-align: right;\n",
       "    }\n",
       "</style>\n",
       "<table border=\"1\" class=\"dataframe\">\n",
       "  <thead>\n",
       "    <tr style=\"text-align: right;\">\n",
       "      <th></th>\n",
       "      <th>0</th>\n",
       "      <th>1</th>\n",
       "      <th>2</th>\n",
       "      <th>3</th>\n",
       "      <th>4</th>\n",
       "    </tr>\n",
       "  </thead>\n",
       "  <tbody>\n",
       "    <tr>\n",
       "      <th>0</th>\n",
       "      <td>2.857566</td>\n",
       "      <td>2.739008</td>\n",
       "      <td>2.232384</td>\n",
       "      <td>1.273293</td>\n",
       "      <td>1.858896</td>\n",
       "    </tr>\n",
       "    <tr>\n",
       "      <th>1</th>\n",
       "      <td>2.739008</td>\n",
       "      <td>3.672059</td>\n",
       "      <td>3.082975</td>\n",
       "      <td>2.079169</td>\n",
       "      <td>2.555404</td>\n",
       "    </tr>\n",
       "    <tr>\n",
       "      <th>2</th>\n",
       "      <td>2.232384</td>\n",
       "      <td>3.082975</td>\n",
       "      <td>4.975767</td>\n",
       "      <td>2.352255</td>\n",
       "      <td>2.630224</td>\n",
       "    </tr>\n",
       "    <tr>\n",
       "      <th>3</th>\n",
       "      <td>1.273293</td>\n",
       "      <td>2.079169</td>\n",
       "      <td>2.352255</td>\n",
       "      <td>2.307714</td>\n",
       "      <td>1.733558</td>\n",
       "    </tr>\n",
       "    <tr>\n",
       "      <th>4</th>\n",
       "      <td>1.858896</td>\n",
       "      <td>2.555404</td>\n",
       "      <td>2.630224</td>\n",
       "      <td>1.733558</td>\n",
       "      <td>2.103234</td>\n",
       "    </tr>\n",
       "  </tbody>\n",
       "</table>\n",
       "</div>"
      ],
      "text/plain": [
       "          0         1         2         3         4\n",
       "0  2.857566  2.739008  2.232384  1.273293  1.858896\n",
       "1  2.739008  3.672059  3.082975  2.079169  2.555404\n",
       "2  2.232384  3.082975  4.975767  2.352255  2.630224\n",
       "3  1.273293  2.079169  2.352255  2.307714  1.733558\n",
       "4  1.858896  2.555404  2.630224  1.733558  2.103234"
      ]
     },
     "execution_count": 15,
     "metadata": {},
     "output_type": "execute_result"
    }
   ],
   "source": [
    "df1.transpose() @ df1"
   ]
  },
  {
   "cell_type": "code",
   "execution_count": null,
   "metadata": {},
   "outputs": [],
   "source": [
    "mat2 = rng.random((10, 5))\n",
    "np.savetxt(\"mat2.csv\", mat2, delimiter=\",\")"
   ]
  },
  {
   "cell_type": "code",
   "execution_count": null,
   "metadata": {},
   "outputs": [
    {
     "data": {
      "text/plain": [
       "array([[1.63887605, 2.00431866, 1.22390087, 2.47816751, 1.62567486],\n",
       "       [2.2144271 , 2.59156083, 1.54591789, 3.43435181, 1.95693589],\n",
       "       [2.46148976, 3.1845503 , 1.85664115, 3.32903392, 2.30116152],\n",
       "       [1.37215467, 1.19884097, 1.50536324, 1.6719953 , 0.9825806 ],\n",
       "       [1.50157055, 1.98024933, 1.19394303, 2.5701551 , 1.45408068]])"
      ]
     },
     "execution_count": 21,
     "metadata": {},
     "output_type": "execute_result"
    }
   ],
   "source": [
    "mat1.T @ mat2"
   ]
  },
  {
   "cell_type": "code",
   "execution_count": 22,
   "metadata": {},
   "outputs": [],
   "source": [
    "np.savetxt(\"mat1.csv\", mat1, delimiter=\",\")"
   ]
  },
  {
   "cell_type": "code",
   "execution_count": 23,
   "metadata": {},
   "outputs": [
    {
     "data": {
      "text/plain": [
       "array([[0.69829379, 0.2357673 , 0.12756   , 0.27234044, 0.82582455],\n",
       "       [0.54233714, 0.15552773, 0.27055689, 0.31329351, 0.55187541],\n",
       "       [0.70739109, 0.53849042, 0.81915015, 0.85665931, 0.93897917],\n",
       "       [0.46560116, 0.5214463 , 0.05740684, 0.45929255, 0.80462853],\n",
       "       [0.67622692, 0.80016237, 0.66761903, 0.59344696, 0.48356061],\n",
       "       [0.29005481, 0.62920959, 0.22210566, 0.43063266, 0.75539044],\n",
       "       [0.13657895, 0.45475849, 0.48572372, 0.46948443, 0.42297313],\n",
       "       [0.71926054, 0.35330493, 0.13998757, 0.74524277, 0.02296642],\n",
       "       [0.92047517, 0.26926368, 0.76452262, 0.10587274, 0.1955351 ],\n",
       "       [0.08112715, 0.19896847, 0.61870959, 0.05151276, 0.16248435]])"
      ]
     },
     "execution_count": 23,
     "metadata": {},
     "output_type": "execute_result"
    }
   ],
   "source": [
    "mat1"
   ]
  },
  {
   "cell_type": "code",
   "execution_count": 26,
   "metadata": {},
   "outputs": [
    {
     "data": {
      "text/plain": [
       "array([[4.87614222e-01, 5.55862177e-02, 1.62715527e-02, 7.41693126e-02,\n",
       "        6.81986190e-01],\n",
       "       [2.94129576e-01, 2.41888747e-02, 7.32010332e-02, 9.81528237e-02,\n",
       "        3.04566471e-01],\n",
       "       [5.00402148e-01, 2.89971930e-01, 6.71006962e-01, 7.33865167e-01,\n",
       "        8.81681889e-01],\n",
       "       [2.16784443e-01, 2.71906239e-01, 3.29554568e-03, 2.10949647e-01,\n",
       "        6.47427075e-01],\n",
       "       [4.57282842e-01, 6.40259819e-01, 4.45715169e-01, 3.52179297e-01,\n",
       "        2.33830865e-01],\n",
       "       [8.41317908e-02, 3.95904705e-01, 4.93309252e-02, 1.85444491e-01,\n",
       "        5.70614711e-01],\n",
       "       [1.86538087e-02, 2.06805283e-01, 2.35927529e-01, 2.20415633e-01,\n",
       "        1.78906272e-01],\n",
       "       [5.17335722e-01, 1.24824376e-01, 1.95965197e-02, 5.55386779e-01,\n",
       "        5.27456637e-04],\n",
       "       [8.47274540e-01, 7.25029304e-02, 5.84494843e-01, 1.12090377e-02,\n",
       "        3.82339740e-02],\n",
       "       [6.58161438e-03, 3.95884513e-02, 3.82801558e-01, 2.65356436e-03,\n",
       "        2.64011635e-02]])"
      ]
     },
     "execution_count": 26,
     "metadata": {},
     "output_type": "execute_result"
    }
   ],
   "source": [
    "np.power(mat1, 2)"
   ]
  },
  {
   "cell_type": "code",
   "execution_count": 28,
   "metadata": {},
   "outputs": [
    {
     "data": {
      "text/plain": [
       "25"
      ]
     },
     "execution_count": 28,
     "metadata": {},
     "output_type": "execute_result"
    }
   ],
   "source": [
    "5 ** 2"
   ]
  },
  {
   "cell_type": "code",
   "execution_count": 29,
   "metadata": {},
   "outputs": [],
   "source": [
    "import string"
   ]
  },
  {
   "cell_type": "code",
   "execution_count": 36,
   "metadata": {},
   "outputs": [],
   "source": [
    "import pandas as pd\n",
    "\n",
    "df1 = pd.DataFrame(\n",
    "    data=mat1,\n",
    "    index=list(string.ascii_letters[0 : mat1.shape[0]]),\n",
    "    columns=list(string.ascii_letters[mat1.shape[0] : mat1.shape[0] + mat1.shape[1]]),\n",
    ")"
   ]
  },
  {
   "cell_type": "code",
   "execution_count": 37,
   "metadata": {},
   "outputs": [
    {
     "data": {
      "text/html": [
       "<div>\n",
       "<style scoped>\n",
       "    .dataframe tbody tr th:only-of-type {\n",
       "        vertical-align: middle;\n",
       "    }\n",
       "\n",
       "    .dataframe tbody tr th {\n",
       "        vertical-align: top;\n",
       "    }\n",
       "\n",
       "    .dataframe thead th {\n",
       "        text-align: right;\n",
       "    }\n",
       "</style>\n",
       "<table border=\"1\" class=\"dataframe\">\n",
       "  <thead>\n",
       "    <tr style=\"text-align: right;\">\n",
       "      <th></th>\n",
       "      <th>k</th>\n",
       "      <th>l</th>\n",
       "      <th>m</th>\n",
       "      <th>n</th>\n",
       "      <th>o</th>\n",
       "    </tr>\n",
       "  </thead>\n",
       "  <tbody>\n",
       "    <tr>\n",
       "      <th>a</th>\n",
       "      <td>0.698294</td>\n",
       "      <td>0.235767</td>\n",
       "      <td>0.127560</td>\n",
       "      <td>0.272340</td>\n",
       "      <td>0.825825</td>\n",
       "    </tr>\n",
       "    <tr>\n",
       "      <th>b</th>\n",
       "      <td>0.542337</td>\n",
       "      <td>0.155528</td>\n",
       "      <td>0.270557</td>\n",
       "      <td>0.313294</td>\n",
       "      <td>0.551875</td>\n",
       "    </tr>\n",
       "    <tr>\n",
       "      <th>c</th>\n",
       "      <td>0.707391</td>\n",
       "      <td>0.538490</td>\n",
       "      <td>0.819150</td>\n",
       "      <td>0.856659</td>\n",
       "      <td>0.938979</td>\n",
       "    </tr>\n",
       "    <tr>\n",
       "      <th>d</th>\n",
       "      <td>0.465601</td>\n",
       "      <td>0.521446</td>\n",
       "      <td>0.057407</td>\n",
       "      <td>0.459293</td>\n",
       "      <td>0.804629</td>\n",
       "    </tr>\n",
       "    <tr>\n",
       "      <th>e</th>\n",
       "      <td>0.676227</td>\n",
       "      <td>0.800162</td>\n",
       "      <td>0.667619</td>\n",
       "      <td>0.593447</td>\n",
       "      <td>0.483561</td>\n",
       "    </tr>\n",
       "    <tr>\n",
       "      <th>f</th>\n",
       "      <td>0.290055</td>\n",
       "      <td>0.629210</td>\n",
       "      <td>0.222106</td>\n",
       "      <td>0.430633</td>\n",
       "      <td>0.755390</td>\n",
       "    </tr>\n",
       "    <tr>\n",
       "      <th>g</th>\n",
       "      <td>0.136579</td>\n",
       "      <td>0.454758</td>\n",
       "      <td>0.485724</td>\n",
       "      <td>0.469484</td>\n",
       "      <td>0.422973</td>\n",
       "    </tr>\n",
       "    <tr>\n",
       "      <th>h</th>\n",
       "      <td>0.719261</td>\n",
       "      <td>0.353305</td>\n",
       "      <td>0.139988</td>\n",
       "      <td>0.745243</td>\n",
       "      <td>0.022966</td>\n",
       "    </tr>\n",
       "    <tr>\n",
       "      <th>i</th>\n",
       "      <td>0.920475</td>\n",
       "      <td>0.269264</td>\n",
       "      <td>0.764523</td>\n",
       "      <td>0.105873</td>\n",
       "      <td>0.195535</td>\n",
       "    </tr>\n",
       "    <tr>\n",
       "      <th>j</th>\n",
       "      <td>0.081127</td>\n",
       "      <td>0.198968</td>\n",
       "      <td>0.618710</td>\n",
       "      <td>0.051513</td>\n",
       "      <td>0.162484</td>\n",
       "    </tr>\n",
       "  </tbody>\n",
       "</table>\n",
       "</div>"
      ],
      "text/plain": [
       "          k         l         m         n         o\n",
       "a  0.698294  0.235767  0.127560  0.272340  0.825825\n",
       "b  0.542337  0.155528  0.270557  0.313294  0.551875\n",
       "c  0.707391  0.538490  0.819150  0.856659  0.938979\n",
       "d  0.465601  0.521446  0.057407  0.459293  0.804629\n",
       "e  0.676227  0.800162  0.667619  0.593447  0.483561\n",
       "f  0.290055  0.629210  0.222106  0.430633  0.755390\n",
       "g  0.136579  0.454758  0.485724  0.469484  0.422973\n",
       "h  0.719261  0.353305  0.139988  0.745243  0.022966\n",
       "i  0.920475  0.269264  0.764523  0.105873  0.195535\n",
       "j  0.081127  0.198968  0.618710  0.051513  0.162484"
      ]
     },
     "execution_count": 37,
     "metadata": {},
     "output_type": "execute_result"
    }
   ],
   "source": [
    "df1"
   ]
  },
  {
   "cell_type": "code",
   "execution_count": 39,
   "metadata": {},
   "outputs": [],
   "source": [
    "from scipy.linalg import svd"
   ]
  },
  {
   "cell_type": "code",
   "execution_count": 57,
   "metadata": {},
   "outputs": [],
   "source": [
    "u, d, v = svd(df1, full_matrices=False)"
   ]
  },
  {
   "cell_type": "code",
   "execution_count": 41,
   "metadata": {},
   "outputs": [],
   "source": [
    "alfa = 5"
   ]
  },
  {
   "cell_type": "code",
   "execution_count": 44,
   "metadata": {},
   "outputs": [
    {
     "data": {
      "text/plain": [
       "array([8.42996251, 5.99644411, 5.78882587, 5.71116231, 5.39551385])"
      ]
     },
     "execution_count": 44,
     "metadata": {},
     "output_type": "execute_result"
    }
   ],
   "source": [
    "d + 5"
   ]
  },
  {
   "cell_type": "code",
   "execution_count": 45,
   "metadata": {},
   "outputs": [],
   "source": [
    "if alfa > 0:\n",
    "    di = (np.power(d, 2) + alfa ** 2) / d\n",
    "else:\n",
    "    di = d"
   ]
  },
  {
   "cell_type": "code",
   "execution_count": 58,
   "metadata": {},
   "outputs": [
    {
     "data": {
      "text/plain": [
       "array([3.42996251, 0.99644411, 0.78882587, 0.71116231, 0.39551385])"
      ]
     },
     "execution_count": 58,
     "metadata": {},
     "output_type": "execute_result"
    }
   ],
   "source": [
    "d"
   ]
  },
  {
   "cell_type": "code",
   "execution_count": 59,
   "metadata": {},
   "outputs": [
    {
     "data": {
      "text/plain": [
       "(10, 5)"
      ]
     },
     "execution_count": 59,
     "metadata": {},
     "output_type": "execute_result"
    }
   ],
   "source": [
    "u.shape"
   ]
  },
  {
   "cell_type": "code",
   "execution_count": 67,
   "metadata": {},
   "outputs": [
    {
     "data": {
      "text/plain": [
       "array([[ 213.15479788,   12.71885158,  133.94022678,  -25.09259305,\n",
       "          -5.77399232,    7.42433421,   39.09680106,    8.6560071 ,\n",
       "          -4.28819841,   26.69262812],\n",
       "       [ 265.93418167,    2.27419209,   33.91533343,  -24.27262485,\n",
       "           2.71644663,    3.39065104,   22.68218042,    8.80990861,\n",
       "         -11.0484061 ,   40.00445556],\n",
       "       [ -76.40915352,   -9.77274944, -154.34130708,  -10.79280463,\n",
       "           8.44588591,    6.94775575,  -18.50686619,   -1.63871645,\n",
       "          -0.65919824,   -7.86170434],\n",
       "       [-224.29977378,   -3.82630443,   78.21030177,  -39.60018979,\n",
       "           6.07729721,   24.91811257,   19.32958155,  -10.6078014 ,\n",
       "           0.60528184,  -40.83193163],\n",
       "       [  55.4558516 ,  -13.85821208, -501.41288205,  -34.89213958,\n",
       "           4.18668646,   10.72471503,  -45.53084426,    8.54662716,\n",
       "          -1.12363704,    5.6023673 ]])"
      ]
     },
     "execution_count": 67,
     "metadata": {},
     "output_type": "execute_result"
    }
   ],
   "source": [
    "v @ (1 / np.multiply(d, u).transpose())"
   ]
  },
  {
   "cell_type": "code",
   "execution_count": 68,
   "metadata": {},
   "outputs": [
    {
     "data": {
      "text/plain": [
       "array([[  -0.97475438,   -1.17484149,   -0.5784041 ,   -0.93858   ,\n",
       "          -0.70553335,   -0.95367218,   -1.1705715 ,   -1.13029297,\n",
       "          -0.98810694,   -2.14066787],\n",
       "       [  -3.55505627,  -17.30208625, -519.45948545,   -2.24004063,\n",
       "           5.25703775,   -2.71825019,  -65.92040329,    5.93103588,\n",
       "           1.55259228,    3.22551775],\n",
       "       [  -3.66272386,   -6.71393893,    6.41525967,  -12.85027207,\n",
       "           9.10412136,    5.86590606,    3.0867232 ,   -2.30570044,\n",
       "          -5.747124  ,    2.76599242],\n",
       "       [   3.02215623,    5.46266229,  174.7793223 ,   62.01346678,\n",
       "          -5.23931483,  -27.54244798,   -6.53527269,   -2.15663943,\n",
       "           3.68684869,    8.86408297],\n",
       "       [-418.74087217,   -9.66841859,   -3.967898  ,   10.20888546,\n",
       "           5.2955901 ,    7.03752374,  -20.81173473,  -17.15734623,\n",
       "           9.6182226 ,  -63.02446598]])"
      ]
     },
     "execution_count": 68,
     "metadata": {},
     "output_type": "execute_result"
    }
   ],
   "source": [
    "(1/np.multiply(d, u).transpose()bb)"
   ]
  },
  {
   "cell_type": "code",
   "execution_count": 69,
   "metadata": {},
   "outputs": [
    {
     "data": {
      "text/plain": [
       "array([[-1.02589946, -0.85117865, -1.72889508, -1.06543928, -1.41736745,\n",
       "        -1.04857835, -0.85428357, -0.88472637, -1.01203621, -0.46714393],\n",
       "       [-0.2812895 , -0.0577965 , -0.00192508, -0.44642047,  0.19022119,\n",
       "        -0.36788372, -0.01516981,  0.16860461,  0.6440841 ,  0.31002775],\n",
       "       [-0.27302086, -0.14894386,  0.15587834, -0.07781936,  0.10984036,\n",
       "         0.17047665,  0.32396815, -0.43370769, -0.17400007,  0.36153389],\n",
       "       [ 0.33088958,  0.18306092,  0.0057215 ,  0.01612553, -0.19086465,\n",
       "        -0.03630759, -0.1530158 , -0.46368437,  0.27123435,  0.11281483],\n",
       "       [-0.00238811, -0.10342953, -0.25202261,  0.09795389,  0.18883637,\n",
       "         0.14209544, -0.04804981, -0.05828407,  0.10396931, -0.01586685]])"
      ]
     },
     "execution_count": 69,
     "metadata": {},
     "output_type": "execute_result"
    }
   ],
   "source": [
    "np.multiply(d, u).transpose()"
   ]
  },
  {
   "cell_type": "code",
   "execution_count": 76,
   "metadata": {},
   "outputs": [
    {
     "data": {
      "text/plain": [
       "array([[-0.08720192, -0.07235057, -0.14695687, -0.09056282, -0.12047688,\n",
       "        -0.08912964, -0.07261449, -0.07520214, -0.08602354, -0.03970745],\n",
       "       [-0.28330069, -0.05820974, -0.00193884, -0.44961233,  0.19158126,\n",
       "        -0.37051405, -0.01527827,  0.16981012,  0.64868923,  0.31224441],\n",
       "       [-0.43876657, -0.23936482,  0.25050908, -0.125062  ,  0.17652234,\n",
       "         0.27396974,  0.52064298, -0.69700328, -0.27963217,  0.58101416],\n",
       "       [ 0.65425286,  0.361958  ,  0.01131286,  0.03188427, -0.37738796,\n",
       "        -0.07178935, -0.30255116, -0.91682194,  0.53629929,  0.22306361],\n",
       "       [-0.01526621, -0.6611822 , -1.61107626,  0.62617867,  1.20715277,\n",
       "         0.90835733, -0.30716259, -0.37258596,  0.66463281, -0.10143023]])"
      ]
     },
     "execution_count": 76,
     "metadata": {},
     "output_type": "execute_result"
    }
   ],
   "source": [
    "np.multiply(1 / d, u).transpose()"
   ]
  },
  {
   "cell_type": "code",
   "execution_count": 85,
   "metadata": {},
   "outputs": [],
   "source": [
    "from typing import Union, Optional\n",
    "\n",
    "\n",
    "def crossprod(\n",
    "    mat1: Union[np.array, pd.DataFrame],\n",
    "    mat2: Optional[Union[np.array, pd.DataFrame]] = None,\n",
    ") -> Union[np.array, pd.DataFrame]:\n",
    "\n",
    "    if mat2 is None:\n",
    "        return mat1.transpose() @ mat1\n",
    "    else:\n",
    "        return mat1.tranpose() @ mat2"
   ]
  },
  {
   "cell_type": "code",
   "execution_count": 82,
   "metadata": {},
   "outputs": [
    {
     "data": {
      "text/plain": [
       "array([[ 0.42029753,  0.17212985, -0.36625808,  0.09873909,  0.0971809 ,\n",
       "        -0.15696759, -0.4755108 ,  0.37006056,  0.68254425, -0.28851332],\n",
       "       [-0.32108324, -0.68449895, -1.12924856,  0.52220794,  1.16161894,\n",
       "         0.88220008,  0.05122189, -0.11286338,  0.20171669, -0.02191437],\n",
       "       [-0.2681353 ,  0.06816884,  0.54118651, -0.46318279, -0.05715138,\n",
       "        -0.26888056,  0.31395019, -0.34619996,  0.27811812,  0.61459357],\n",
       "       [-0.32951858,  0.17431278,  0.92348642, -0.25350874, -0.39731297,\n",
       "        -0.38512681,  0.36705222,  0.91366391, -0.77353237, -0.17950434],\n",
       "       [ 0.49843346,  0.31763905,  0.35354249,  0.24052898, -0.4026054 ,\n",
       "         0.16436454,  0.02086165, -0.628783  , -0.23127326,  0.05503582]])"
      ]
     },
     "execution_count": 82,
     "metadata": {},
     "output_type": "execute_result"
    }
   ],
   "source": [
    "out = v.transpose() @ np.multiply(1 / d, u).transpose()\n",
    "out"
   ]
  },
  {
   "cell_type": "code",
   "execution_count": 83,
   "metadata": {},
   "outputs": [
    {
     "ename": "ValueError",
     "evalue": "Shape of passed values is (5, 10), indices imply (10, 5)",
     "output_type": "error",
     "traceback": [
      "\u001b[0;31m---------------------------------------------------------------------------\u001b[0m",
      "\u001b[0;31mValueError\u001b[0m                                Traceback (most recent call last)",
      "\u001b[0;32m/tmp/ipykernel_30306/816675726.py\u001b[0m in \u001b[0;36m<module>\u001b[0;34m\u001b[0m\n\u001b[0;32m----> 1\u001b[0;31m \u001b[0mout_df\u001b[0m \u001b[0;34m=\u001b[0m \u001b[0mpd\u001b[0m\u001b[0;34m.\u001b[0m\u001b[0mDataFrame\u001b[0m\u001b[0;34m(\u001b[0m\u001b[0mout\u001b[0m\u001b[0;34m,\u001b[0m \u001b[0mcolumns\u001b[0m\u001b[0;34m=\u001b[0m\u001b[0mdf1\u001b[0m\u001b[0;34m.\u001b[0m\u001b[0mcolumns\u001b[0m\u001b[0;34m,\u001b[0m \u001b[0mindex\u001b[0m\u001b[0;34m=\u001b[0m\u001b[0mdf1\u001b[0m\u001b[0;34m.\u001b[0m\u001b[0mindex\u001b[0m\u001b[0;34m)\u001b[0m\u001b[0;34m\u001b[0m\u001b[0;34m\u001b[0m\u001b[0m\n\u001b[0m",
      "\u001b[0;32m~/.cache/pypoetry/virtualenvs/pyplier-Idb-akax-py3.9/lib/python3.9/site-packages/pandas/core/frame.py\u001b[0m in \u001b[0;36m__init__\u001b[0;34m(self, data, index, columns, dtype, copy)\u001b[0m\n\u001b[1;32m    670\u001b[0m                 )\n\u001b[1;32m    671\u001b[0m             \u001b[0;32melse\u001b[0m\u001b[0;34m:\u001b[0m\u001b[0;34m\u001b[0m\u001b[0;34m\u001b[0m\u001b[0m\n\u001b[0;32m--> 672\u001b[0;31m                 mgr = ndarray_to_mgr(\n\u001b[0m\u001b[1;32m    673\u001b[0m                     \u001b[0mdata\u001b[0m\u001b[0;34m,\u001b[0m\u001b[0;34m\u001b[0m\u001b[0;34m\u001b[0m\u001b[0m\n\u001b[1;32m    674\u001b[0m                     \u001b[0mindex\u001b[0m\u001b[0;34m,\u001b[0m\u001b[0;34m\u001b[0m\u001b[0;34m\u001b[0m\u001b[0m\n",
      "\u001b[0;32m~/.cache/pypoetry/virtualenvs/pyplier-Idb-akax-py3.9/lib/python3.9/site-packages/pandas/core/internals/construction.py\u001b[0m in \u001b[0;36mndarray_to_mgr\u001b[0;34m(values, index, columns, dtype, copy, typ)\u001b[0m\n\u001b[1;32m    322\u001b[0m     )\n\u001b[1;32m    323\u001b[0m \u001b[0;34m\u001b[0m\u001b[0m\n\u001b[0;32m--> 324\u001b[0;31m     \u001b[0m_check_values_indices_shape_match\u001b[0m\u001b[0;34m(\u001b[0m\u001b[0mvalues\u001b[0m\u001b[0;34m,\u001b[0m \u001b[0mindex\u001b[0m\u001b[0;34m,\u001b[0m \u001b[0mcolumns\u001b[0m\u001b[0;34m)\u001b[0m\u001b[0;34m\u001b[0m\u001b[0;34m\u001b[0m\u001b[0m\n\u001b[0m\u001b[1;32m    325\u001b[0m \u001b[0;34m\u001b[0m\u001b[0m\n\u001b[1;32m    326\u001b[0m     \u001b[0;32mif\u001b[0m \u001b[0mtyp\u001b[0m \u001b[0;34m==\u001b[0m \u001b[0;34m\"array\"\u001b[0m\u001b[0;34m:\u001b[0m\u001b[0;34m\u001b[0m\u001b[0;34m\u001b[0m\u001b[0m\n",
      "\u001b[0;32m~/.cache/pypoetry/virtualenvs/pyplier-Idb-akax-py3.9/lib/python3.9/site-packages/pandas/core/internals/construction.py\u001b[0m in \u001b[0;36m_check_values_indices_shape_match\u001b[0;34m(values, index, columns)\u001b[0m\n\u001b[1;32m    391\u001b[0m         \u001b[0mpassed\u001b[0m \u001b[0;34m=\u001b[0m \u001b[0mvalues\u001b[0m\u001b[0;34m.\u001b[0m\u001b[0mshape\u001b[0m\u001b[0;34m\u001b[0m\u001b[0;34m\u001b[0m\u001b[0m\n\u001b[1;32m    392\u001b[0m         \u001b[0mimplied\u001b[0m \u001b[0;34m=\u001b[0m \u001b[0;34m(\u001b[0m\u001b[0mlen\u001b[0m\u001b[0;34m(\u001b[0m\u001b[0mindex\u001b[0m\u001b[0;34m)\u001b[0m\u001b[0;34m,\u001b[0m \u001b[0mlen\u001b[0m\u001b[0;34m(\u001b[0m\u001b[0mcolumns\u001b[0m\u001b[0;34m)\u001b[0m\u001b[0;34m)\u001b[0m\u001b[0;34m\u001b[0m\u001b[0;34m\u001b[0m\u001b[0m\n\u001b[0;32m--> 393\u001b[0;31m         \u001b[0;32mraise\u001b[0m \u001b[0mValueError\u001b[0m\u001b[0;34m(\u001b[0m\u001b[0;34mf\"Shape of passed values is {passed}, indices imply {implied}\"\u001b[0m\u001b[0;34m)\u001b[0m\u001b[0;34m\u001b[0m\u001b[0;34m\u001b[0m\u001b[0m\n\u001b[0m\u001b[1;32m    394\u001b[0m \u001b[0;34m\u001b[0m\u001b[0m\n\u001b[1;32m    395\u001b[0m \u001b[0;34m\u001b[0m\u001b[0m\n",
      "\u001b[0;31mValueError\u001b[0m: Shape of passed values is (5, 10), indices imply (10, 5)"
     ]
    }
   ],
   "source": [
    "out_df = pd.DataFrame(out, columns=df1.columns, index=df1.index)"
   ]
  },
  {
   "cell_type": "code",
   "execution_count": 84,
   "metadata": {},
   "outputs": [],
   "source": [
    "mat3 = rng.random((10, 10))\n",
    "df3 = pd.DataFrame(\n",
    "    mat3,\n",
    "    index=list(string.ascii_letters[0:10]),\n",
    "    columns=list(string.ascii_letters[10:20]),\n",
    ")"
   ]
  },
  {
   "cell_type": "code",
   "execution_count": 111,
   "metadata": {},
   "outputs": [
    {
     "data": {
      "text/html": [
       "<div>\n",
       "<style scoped>\n",
       "    .dataframe tbody tr th:only-of-type {\n",
       "        vertical-align: middle;\n",
       "    }\n",
       "\n",
       "    .dataframe tbody tr th {\n",
       "        vertical-align: top;\n",
       "    }\n",
       "\n",
       "    .dataframe thead th {\n",
       "        text-align: right;\n",
       "    }\n",
       "</style>\n",
       "<table border=\"1\" class=\"dataframe\">\n",
       "  <thead>\n",
       "    <tr style=\"text-align: right;\">\n",
       "      <th></th>\n",
       "      <th>k</th>\n",
       "      <th>l</th>\n",
       "      <th>m</th>\n",
       "      <th>n</th>\n",
       "      <th>o</th>\n",
       "      <th>p</th>\n",
       "      <th>q</th>\n",
       "      <th>r</th>\n",
       "      <th>s</th>\n",
       "      <th>t</th>\n",
       "    </tr>\n",
       "  </thead>\n",
       "  <tbody>\n",
       "    <tr>\n",
       "      <th>a</th>\n",
       "      <td>0.014515</td>\n",
       "      <td>0.016729</td>\n",
       "      <td>0.016191</td>\n",
       "      <td>-0.001771</td>\n",
       "      <td>0.010890</td>\n",
       "      <td>0.026423</td>\n",
       "      <td>0.009238</td>\n",
       "      <td>0.003555</td>\n",
       "      <td>0.013784</td>\n",
       "      <td>0.006876</td>\n",
       "    </tr>\n",
       "    <tr>\n",
       "      <th>b</th>\n",
       "      <td>-0.005158</td>\n",
       "      <td>0.017330</td>\n",
       "      <td>0.014003</td>\n",
       "      <td>0.016751</td>\n",
       "      <td>0.020519</td>\n",
       "      <td>0.013438</td>\n",
       "      <td>0.003633</td>\n",
       "      <td>-0.001580</td>\n",
       "      <td>0.023850</td>\n",
       "      <td>-0.007303</td>\n",
       "    </tr>\n",
       "    <tr>\n",
       "      <th>c</th>\n",
       "      <td>-0.000150</td>\n",
       "      <td>-0.007665</td>\n",
       "      <td>0.002007</td>\n",
       "      <td>0.024145</td>\n",
       "      <td>-0.005178</td>\n",
       "      <td>0.027120</td>\n",
       "      <td>0.010965</td>\n",
       "      <td>0.022112</td>\n",
       "      <td>0.008331</td>\n",
       "      <td>0.011303</td>\n",
       "    </tr>\n",
       "    <tr>\n",
       "      <th>d</th>\n",
       "      <td>0.025611</td>\n",
       "      <td>0.006141</td>\n",
       "      <td>0.007903</td>\n",
       "      <td>-0.006979</td>\n",
       "      <td>0.006929</td>\n",
       "      <td>0.021829</td>\n",
       "      <td>0.023236</td>\n",
       "      <td>0.017928</td>\n",
       "      <td>-0.008077</td>\n",
       "      <td>0.020501</td>\n",
       "    </tr>\n",
       "    <tr>\n",
       "      <th>e</th>\n",
       "      <td>-0.000257</td>\n",
       "      <td>0.015543</td>\n",
       "      <td>-0.003396</td>\n",
       "      <td>0.000176</td>\n",
       "      <td>0.014839</td>\n",
       "      <td>0.001771</td>\n",
       "      <td>0.010340</td>\n",
       "      <td>-0.002584</td>\n",
       "      <td>-0.000235</td>\n",
       "      <td>0.030155</td>\n",
       "    </tr>\n",
       "    <tr>\n",
       "      <th>f</th>\n",
       "      <td>0.013638</td>\n",
       "      <td>0.019611</td>\n",
       "      <td>0.005512</td>\n",
       "      <td>-0.003657</td>\n",
       "      <td>0.018443</td>\n",
       "      <td>-0.000882</td>\n",
       "      <td>0.006221</td>\n",
       "      <td>0.024017</td>\n",
       "      <td>0.002546</td>\n",
       "      <td>0.019226</td>\n",
       "    </tr>\n",
       "    <tr>\n",
       "      <th>g</th>\n",
       "      <td>-0.003466</td>\n",
       "      <td>0.004378</td>\n",
       "      <td>0.020929</td>\n",
       "      <td>0.008256</td>\n",
       "      <td>0.020250</td>\n",
       "      <td>-0.007454</td>\n",
       "      <td>0.005007</td>\n",
       "      <td>0.005106</td>\n",
       "      <td>0.021208</td>\n",
       "      <td>0.024327</td>\n",
       "    </tr>\n",
       "    <tr>\n",
       "      <th>h</th>\n",
       "      <td>0.002046</td>\n",
       "      <td>0.014132</td>\n",
       "      <td>-0.002020</td>\n",
       "      <td>0.021799</td>\n",
       "      <td>0.010871</td>\n",
       "      <td>0.009501</td>\n",
       "      <td>0.013268</td>\n",
       "      <td>0.014108</td>\n",
       "      <td>0.012453</td>\n",
       "      <td>0.007367</td>\n",
       "    </tr>\n",
       "    <tr>\n",
       "      <th>i</th>\n",
       "      <td>0.015019</td>\n",
       "      <td>-0.005468</td>\n",
       "      <td>0.026703</td>\n",
       "      <td>0.017895</td>\n",
       "      <td>0.006540</td>\n",
       "      <td>0.005902</td>\n",
       "      <td>0.019256</td>\n",
       "      <td>-0.002734</td>\n",
       "      <td>-0.002288</td>\n",
       "      <td>0.003268</td>\n",
       "    </tr>\n",
       "    <tr>\n",
       "      <th>j</th>\n",
       "      <td>0.010709</td>\n",
       "      <td>0.011555</td>\n",
       "      <td>0.023418</td>\n",
       "      <td>0.023391</td>\n",
       "      <td>0.016969</td>\n",
       "      <td>-0.005371</td>\n",
       "      <td>0.010621</td>\n",
       "      <td>0.014003</td>\n",
       "      <td>0.005996</td>\n",
       "      <td>-0.009257</td>\n",
       "    </tr>\n",
       "  </tbody>\n",
       "</table>\n",
       "</div>"
      ],
      "text/plain": [
       "          k         l         m         n         o         p         q  \\\n",
       "a  0.014515  0.016729  0.016191 -0.001771  0.010890  0.026423  0.009238   \n",
       "b -0.005158  0.017330  0.014003  0.016751  0.020519  0.013438  0.003633   \n",
       "c -0.000150 -0.007665  0.002007  0.024145 -0.005178  0.027120  0.010965   \n",
       "d  0.025611  0.006141  0.007903 -0.006979  0.006929  0.021829  0.023236   \n",
       "e -0.000257  0.015543 -0.003396  0.000176  0.014839  0.001771  0.010340   \n",
       "f  0.013638  0.019611  0.005512 -0.003657  0.018443 -0.000882  0.006221   \n",
       "g -0.003466  0.004378  0.020929  0.008256  0.020250 -0.007454  0.005007   \n",
       "h  0.002046  0.014132 -0.002020  0.021799  0.010871  0.009501  0.013268   \n",
       "i  0.015019 -0.005468  0.026703  0.017895  0.006540  0.005902  0.019256   \n",
       "j  0.010709  0.011555  0.023418  0.023391  0.016969 -0.005371  0.010621   \n",
       "\n",
       "          r         s         t  \n",
       "a  0.003555  0.013784  0.006876  \n",
       "b -0.001580  0.023850 -0.007303  \n",
       "c  0.022112  0.008331  0.011303  \n",
       "d  0.017928 -0.008077  0.020501  \n",
       "e -0.002584 -0.000235  0.030155  \n",
       "f  0.024017  0.002546  0.019226  \n",
       "g  0.005106  0.021208  0.024327  \n",
       "h  0.014108  0.012453  0.007367  \n",
       "i -0.002734 -0.002288  0.003268  \n",
       "j  0.014003  0.005996 -0.009257  "
      ]
     },
     "execution_count": 111,
     "metadata": {},
     "output_type": "execute_result"
    }
   ],
   "source": [
    "pinv_ridge(df3, alfa=5)"
   ]
  },
  {
   "cell_type": "code",
   "execution_count": 90,
   "metadata": {},
   "outputs": [],
   "source": [
    "from numpy.linalg import pinv"
   ]
  },
  {
   "cell_type": "code",
   "execution_count": 109,
   "metadata": {},
   "outputs": [
    {
     "data": {
      "text/plain": [
       "0.0"
      ]
     },
     "execution_count": 109,
     "metadata": {},
     "output_type": "execute_result"
    }
   ],
   "source": [
    "pinv(df3)"
   ]
  },
  {
   "cell_type": "code",
   "execution_count": 92,
   "metadata": {},
   "outputs": [],
   "source": [
    "from scipy.linalg import pinv as scipy_pinv"
   ]
  },
  {
   "cell_type": "code",
   "execution_count": 105,
   "metadata": {},
   "outputs": [
    {
     "data": {
      "text/plain": [
       "(array([[-0.69418026,  3.39412674,  2.09897865, -0.37557253, -4.73008831,\n",
       "         -0.45818571,  0.55551099, -0.09849731,  0.72578179,  0.59105635],\n",
       "        [ 1.47388447, -3.54884552, -2.23790088,  0.55488484,  5.94953695,\n",
       "          1.70994617, -2.24083009, -0.65001785, -0.65398835, -0.77085892],\n",
       "        [-1.53369575,  0.37159739,  1.06850838,  0.37515202, -0.54130316,\n",
       "          0.85505398, -0.81344579,  0.7609324 , -1.27086394,  0.43291985],\n",
       "        [-4.68810555,  0.83501105,  1.50971783, -3.18092168, -1.23908012,\n",
       "         -0.38218408,  5.64753639,  1.72929976, -0.25251897, -1.50542145],\n",
       "        [-4.38297215,  3.33033159,  2.53698438, -0.65984607, -2.76966961,\n",
       "          0.03253355,  2.06499532,  0.45698764, -2.21705813,  0.46669847],\n",
       "        [ 9.05178909, -5.42385079, -4.90812206,  3.9435426 ,  7.69616971,\n",
       "          1.52107294, -9.10655722, -2.00738082,  0.11563612,  1.30446958],\n",
       "        [-2.35453408,  0.7207501 ,  1.42061843, -1.67407212, -2.15870318,\n",
       "         -1.12567466,  2.89410942,  0.84809798,  1.2975489 , -0.06596564],\n",
       "        [ 3.98095212, -1.03449462, -3.01649402,  1.17603313,  0.13251757,\n",
       "         -1.16650074,  0.09002937, -1.16788028,  2.93226116,  0.06470734],\n",
       "        [ 8.80604547, -5.42422862, -4.52071609,  4.03946688,  6.49652502,\n",
       "          1.15491978, -7.09483305, -3.12208597,  0.5980103 ,  1.21302708],\n",
       "        [-9.13477385,  6.58748999,  5.97951029, -3.17477687, -7.63673791,\n",
       "         -1.49590256,  6.9586918 ,  2.96434459, -1.94213907, -1.11350615]]),\n",
       " 10)"
      ]
     },
     "execution_count": 105,
     "metadata": {},
     "output_type": "execute_result"
    }
   ],
   "source": [
    "scipy_pinv(df3, return_rank=5)"
   ]
  }
 ],
 "metadata": {
  "interpreter": {
   "hash": "0cdb1f55e9ad5c0f9ff4604ab31aaf7831d2efe6f03d38f1cbe175f7e8b29e29"
  },
  "kernelspec": {
   "display_name": "Python 3.9.7 64-bit ('pyplier-Idb-akax-py3.9': poetry)",
   "name": "python3"
  },
  "language_info": {
   "codemirror_mode": {
    "name": "ipython",
    "version": 3
   },
   "file_extension": ".py",
   "mimetype": "text/x-python",
   "name": "python",
   "nbconvert_exporter": "python",
   "pygments_lexer": "ipython3",
   "version": "3.9.7"
  },
  "orig_nbformat": 4
 },
 "nbformat": 4,
 "nbformat_minor": 2
}
