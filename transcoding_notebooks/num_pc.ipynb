{
 "cells": [
  {
   "cell_type": "code",
   "execution_count": 1,
   "metadata": {},
   "outputs": [],
   "source": [
    "import numpy as np\n",
    "import pandas as pd"
   ]
  },
  {
   "cell_type": "code",
   "execution_count": 2,
   "metadata": {},
   "outputs": [],
   "source": [
    "mat = np.random.rand(60,60)"
   ]
  },
  {
   "cell_type": "code",
   "execution_count": 5,
   "metadata": {},
   "outputs": [
    {
     "data": {
      "text/html": [
       "<div>\n",
       "<style scoped>\n",
       "    .dataframe tbody tr th:only-of-type {\n",
       "        vertical-align: middle;\n",
       "    }\n",
       "\n",
       "    .dataframe tbody tr th {\n",
       "        vertical-align: top;\n",
       "    }\n",
       "\n",
       "    .dataframe thead th {\n",
       "        text-align: right;\n",
       "    }\n",
       "</style>\n",
       "<table border=\"1\" class=\"dataframe\">\n",
       "  <thead>\n",
       "    <tr style=\"text-align: right;\">\n",
       "      <th></th>\n",
       "      <th>0</th>\n",
       "      <th>1</th>\n",
       "      <th>2</th>\n",
       "      <th>3</th>\n",
       "      <th>4</th>\n",
       "      <th>5</th>\n",
       "      <th>6</th>\n",
       "      <th>7</th>\n",
       "      <th>8</th>\n",
       "      <th>9</th>\n",
       "      <th>...</th>\n",
       "      <th>50</th>\n",
       "      <th>51</th>\n",
       "      <th>52</th>\n",
       "      <th>53</th>\n",
       "      <th>54</th>\n",
       "      <th>55</th>\n",
       "      <th>56</th>\n",
       "      <th>57</th>\n",
       "      <th>58</th>\n",
       "      <th>59</th>\n",
       "    </tr>\n",
       "  </thead>\n",
       "  <tbody>\n",
       "    <tr>\n",
       "      <th>0</th>\n",
       "      <td>0.230649</td>\n",
       "      <td>0.510456</td>\n",
       "      <td>0.797957</td>\n",
       "      <td>0.283650</td>\n",
       "      <td>0.094107</td>\n",
       "      <td>0.048148</td>\n",
       "      <td>0.428336</td>\n",
       "      <td>0.479854</td>\n",
       "      <td>0.205250</td>\n",
       "      <td>0.983521</td>\n",
       "      <td>...</td>\n",
       "      <td>0.497288</td>\n",
       "      <td>0.538336</td>\n",
       "      <td>0.104515</td>\n",
       "      <td>0.013483</td>\n",
       "      <td>0.221553</td>\n",
       "      <td>0.631001</td>\n",
       "      <td>0.431578</td>\n",
       "      <td>0.918983</td>\n",
       "      <td>0.871142</td>\n",
       "      <td>0.240459</td>\n",
       "    </tr>\n",
       "    <tr>\n",
       "      <th>1</th>\n",
       "      <td>0.798349</td>\n",
       "      <td>0.194357</td>\n",
       "      <td>0.584708</td>\n",
       "      <td>0.584177</td>\n",
       "      <td>0.730505</td>\n",
       "      <td>0.614449</td>\n",
       "      <td>0.486000</td>\n",
       "      <td>0.188751</td>\n",
       "      <td>0.371087</td>\n",
       "      <td>0.933600</td>\n",
       "      <td>...</td>\n",
       "      <td>0.142541</td>\n",
       "      <td>0.392668</td>\n",
       "      <td>0.742905</td>\n",
       "      <td>0.884999</td>\n",
       "      <td>0.258044</td>\n",
       "      <td>0.252571</td>\n",
       "      <td>0.834405</td>\n",
       "      <td>0.921220</td>\n",
       "      <td>0.793758</td>\n",
       "      <td>0.340165</td>\n",
       "    </tr>\n",
       "    <tr>\n",
       "      <th>2</th>\n",
       "      <td>0.007373</td>\n",
       "      <td>0.733290</td>\n",
       "      <td>0.826999</td>\n",
       "      <td>0.276844</td>\n",
       "      <td>0.558758</td>\n",
       "      <td>0.795357</td>\n",
       "      <td>0.738793</td>\n",
       "      <td>0.880608</td>\n",
       "      <td>0.367811</td>\n",
       "      <td>0.433135</td>\n",
       "      <td>...</td>\n",
       "      <td>0.878977</td>\n",
       "      <td>0.823951</td>\n",
       "      <td>0.416095</td>\n",
       "      <td>0.742772</td>\n",
       "      <td>0.857250</td>\n",
       "      <td>0.664119</td>\n",
       "      <td>0.597360</td>\n",
       "      <td>0.330618</td>\n",
       "      <td>0.781718</td>\n",
       "      <td>0.397461</td>\n",
       "    </tr>\n",
       "    <tr>\n",
       "      <th>3</th>\n",
       "      <td>0.590091</td>\n",
       "      <td>0.669683</td>\n",
       "      <td>0.736043</td>\n",
       "      <td>0.757996</td>\n",
       "      <td>0.255992</td>\n",
       "      <td>0.875288</td>\n",
       "      <td>0.750346</td>\n",
       "      <td>0.631577</td>\n",
       "      <td>0.985126</td>\n",
       "      <td>0.406014</td>\n",
       "      <td>...</td>\n",
       "      <td>0.171710</td>\n",
       "      <td>0.593819</td>\n",
       "      <td>0.980749</td>\n",
       "      <td>0.573778</td>\n",
       "      <td>0.845909</td>\n",
       "      <td>0.898673</td>\n",
       "      <td>0.924065</td>\n",
       "      <td>0.989210</td>\n",
       "      <td>0.800227</td>\n",
       "      <td>0.131212</td>\n",
       "    </tr>\n",
       "    <tr>\n",
       "      <th>4</th>\n",
       "      <td>0.789904</td>\n",
       "      <td>0.762382</td>\n",
       "      <td>0.653069</td>\n",
       "      <td>0.721010</td>\n",
       "      <td>0.481980</td>\n",
       "      <td>0.563571</td>\n",
       "      <td>0.932858</td>\n",
       "      <td>0.814338</td>\n",
       "      <td>0.871004</td>\n",
       "      <td>0.702990</td>\n",
       "      <td>...</td>\n",
       "      <td>0.373880</td>\n",
       "      <td>0.651018</td>\n",
       "      <td>0.928458</td>\n",
       "      <td>0.124612</td>\n",
       "      <td>0.566733</td>\n",
       "      <td>0.501322</td>\n",
       "      <td>0.926975</td>\n",
       "      <td>0.393131</td>\n",
       "      <td>0.297343</td>\n",
       "      <td>0.252808</td>\n",
       "    </tr>\n",
       "  </tbody>\n",
       "</table>\n",
       "<p>5 rows × 60 columns</p>\n",
       "</div>"
      ],
      "text/plain": [
       "         0         1         2         3         4         5         6   \\\n",
       "0  0.230649  0.510456  0.797957  0.283650  0.094107  0.048148  0.428336   \n",
       "1  0.798349  0.194357  0.584708  0.584177  0.730505  0.614449  0.486000   \n",
       "2  0.007373  0.733290  0.826999  0.276844  0.558758  0.795357  0.738793   \n",
       "3  0.590091  0.669683  0.736043  0.757996  0.255992  0.875288  0.750346   \n",
       "4  0.789904  0.762382  0.653069  0.721010  0.481980  0.563571  0.932858   \n",
       "\n",
       "         7         8         9   ...        50        51        52        53  \\\n",
       "0  0.479854  0.205250  0.983521  ...  0.497288  0.538336  0.104515  0.013483   \n",
       "1  0.188751  0.371087  0.933600  ...  0.142541  0.392668  0.742905  0.884999   \n",
       "2  0.880608  0.367811  0.433135  ...  0.878977  0.823951  0.416095  0.742772   \n",
       "3  0.631577  0.985126  0.406014  ...  0.171710  0.593819  0.980749  0.573778   \n",
       "4  0.814338  0.871004  0.702990  ...  0.373880  0.651018  0.928458  0.124612   \n",
       "\n",
       "         54        55        56        57        58        59  \n",
       "0  0.221553  0.631001  0.431578  0.918983  0.871142  0.240459  \n",
       "1  0.258044  0.252571  0.834405  0.921220  0.793758  0.340165  \n",
       "2  0.857250  0.664119  0.597360  0.330618  0.781718  0.397461  \n",
       "3  0.845909  0.898673  0.924065  0.989210  0.800227  0.131212  \n",
       "4  0.566733  0.501322  0.926975  0.393131  0.297343  0.252808  \n",
       "\n",
       "[5 rows x 60 columns]"
      ]
     },
     "execution_count": 5,
     "metadata": {},
     "output_type": "execute_result"
    }
   ],
   "source": [
    "pd.DataFrame(mat).head()"
   ]
  },
  {
   "cell_type": "code",
   "execution_count": 6,
   "metadata": {},
   "outputs": [
    {
     "data": {
      "text/plain": [
       "34.773939057275896"
      ]
     },
     "execution_count": 6,
     "metadata": {},
     "output_type": "execute_result"
    }
   ],
   "source": [
    "np.linalg.norm(mat)"
   ]
  },
  {
   "cell_type": "code",
   "execution_count": 7,
   "metadata": {},
   "outputs": [],
   "source": [
    "import scipy as sp"
   ]
  },
  {
   "cell_type": "code",
   "execution_count": 10,
   "metadata": {},
   "outputs": [
    {
     "ename": "AttributeError",
     "evalue": "module 'scipy' has no attribute 'linalg'",
     "output_type": "error",
     "traceback": [
      "\u001b[0;31m---------------------------------------------------------------------------\u001b[0m",
      "\u001b[0;31mAttributeError\u001b[0m                            Traceback (most recent call last)",
      "\u001b[0;32m/var/folders/h6/9_7l_jld48bgxx9r35h2_7bm0000gn/T/ipykernel_41046/3745145805.py\u001b[0m in \u001b[0;36m<module>\u001b[0;34m\u001b[0m\n\u001b[0;32m----> 1\u001b[0;31m \u001b[0msp\u001b[0m\u001b[0;34m.\u001b[0m\u001b[0mlinalg\u001b[0m\u001b[0;34m.\u001b[0m\u001b[0mnorm\u001b[0m\u001b[0;34m(\u001b[0m\u001b[0mmat\u001b[0m\u001b[0;34m)\u001b[0m\u001b[0;34m\u001b[0m\u001b[0;34m\u001b[0m\u001b[0m\n\u001b[0m",
      "\u001b[0;31mAttributeError\u001b[0m: module 'scipy' has no attribute 'linalg'"
     ]
    }
   ],
   "source": [
    "sp.linalg.norm(mat)"
   ]
  },
  {
   "cell_type": "code",
   "execution_count": 11,
   "metadata": {},
   "outputs": [],
   "source": [
    "from scipy.linalg import norm"
   ]
  },
  {
   "cell_type": "code",
   "execution_count": 13,
   "metadata": {},
   "outputs": [
    {
     "data": {
      "text/plain": [
       "array([4.56217763, 4.84908283, 4.39313837, 4.37907728, 4.35158646,\n",
       "       4.64670736, 4.83667594, 4.47930532, 4.40927911, 4.78507587,\n",
       "       4.28397912, 4.92719246, 4.38170576, 4.58926331, 4.57710253,\n",
       "       4.30931461, 4.30256804, 4.13138489, 4.17527665, 5.14333502,\n",
       "       4.4478124 , 4.35377069, 4.34187332, 4.75910791, 4.00226836,\n",
       "       4.15375751, 4.4924019 , 4.51593658, 4.73988689, 4.67560633,\n",
       "       4.35726148, 4.07047419, 4.18859295, 4.99149355, 4.62201465,\n",
       "       4.68427908, 4.60199447, 4.51130085, 4.19124898, 4.66570883,\n",
       "       4.85595012, 4.38674797, 4.09670783, 4.2001261 , 4.82675776,\n",
       "       4.64916654, 4.49659124, 4.46809667, 4.47535753, 4.17034018,\n",
       "       4.18993369, 4.02511436, 4.39882832, 4.25325448, 4.55883866,\n",
       "       4.48717536, 4.75634882, 4.39963062, 5.00096339, 4.33063227])"
      ]
     },
     "execution_count": 13,
     "metadata": {},
     "output_type": "execute_result"
    }
   ],
   "source": [
    "norm(mat, axis=0)"
   ]
  },
  {
   "cell_type": "code",
   "execution_count": 14,
   "metadata": {},
   "outputs": [],
   "source": [
    "mat2 = np.random.rand(6,6)"
   ]
  },
  {
   "cell_type": "code",
   "execution_count": 26,
   "metadata": {},
   "outputs": [],
   "source": [
    "mat3 = pd.read_csv(\"/Users/milessmith/workspace/PLIER/randmat.csv\",index_col=0)"
   ]
  },
  {
   "cell_type": "code",
   "execution_count": 27,
   "metadata": {},
   "outputs": [
    {
     "data": {
      "text/html": [
       "<div>\n",
       "<style scoped>\n",
       "    .dataframe tbody tr th:only-of-type {\n",
       "        vertical-align: middle;\n",
       "    }\n",
       "\n",
       "    .dataframe tbody tr th {\n",
       "        vertical-align: top;\n",
       "    }\n",
       "\n",
       "    .dataframe thead th {\n",
       "        text-align: right;\n",
       "    }\n",
       "</style>\n",
       "<table border=\"1\" class=\"dataframe\">\n",
       "  <thead>\n",
       "    <tr style=\"text-align: right;\">\n",
       "      <th></th>\n",
       "      <th>V1</th>\n",
       "      <th>V2</th>\n",
       "      <th>V3</th>\n",
       "      <th>V4</th>\n",
       "      <th>V5</th>\n",
       "      <th>V6</th>\n",
       "    </tr>\n",
       "  </thead>\n",
       "  <tbody>\n",
       "    <tr>\n",
       "      <th>1</th>\n",
       "      <td>-0.408441</td>\n",
       "      <td>-0.882143</td>\n",
       "      <td>-1.406640</td>\n",
       "      <td>0.261968</td>\n",
       "      <td>1.529155</td>\n",
       "      <td>-1.288191</td>\n",
       "    </tr>\n",
       "    <tr>\n",
       "      <th>2</th>\n",
       "      <td>1.711693</td>\n",
       "      <td>0.849008</td>\n",
       "      <td>0.874837</td>\n",
       "      <td>2.565819</td>\n",
       "      <td>1.069816</td>\n",
       "      <td>1.050955</td>\n",
       "    </tr>\n",
       "    <tr>\n",
       "      <th>3</th>\n",
       "      <td>-0.428506</td>\n",
       "      <td>-0.746334</td>\n",
       "      <td>1.254270</td>\n",
       "      <td>1.121962</td>\n",
       "      <td>-1.296201</td>\n",
       "      <td>-0.397341</td>\n",
       "    </tr>\n",
       "    <tr>\n",
       "      <th>4</th>\n",
       "      <td>-0.457917</td>\n",
       "      <td>-0.491485</td>\n",
       "      <td>-0.820537</td>\n",
       "      <td>-0.747517</td>\n",
       "      <td>-1.734600</td>\n",
       "      <td>-0.927167</td>\n",
       "    </tr>\n",
       "    <tr>\n",
       "      <th>5</th>\n",
       "      <td>0.273810</td>\n",
       "      <td>-1.771688</td>\n",
       "      <td>-0.629742</td>\n",
       "      <td>-0.157095</td>\n",
       "      <td>1.869177</td>\n",
       "      <td>-0.514145</td>\n",
       "    </tr>\n",
       "    <tr>\n",
       "      <th>6</th>\n",
       "      <td>1.410448</td>\n",
       "      <td>0.414870</td>\n",
       "      <td>-0.099260</td>\n",
       "      <td>-0.124593</td>\n",
       "      <td>0.758561</td>\n",
       "      <td>0.231126</td>\n",
       "    </tr>\n",
       "  </tbody>\n",
       "</table>\n",
       "</div>"
      ],
      "text/plain": [
       "         V1        V2        V3        V4        V5        V6\n",
       "1 -0.408441 -0.882143 -1.406640  0.261968  1.529155 -1.288191\n",
       "2  1.711693  0.849008  0.874837  2.565819  1.069816  1.050955\n",
       "3 -0.428506 -0.746334  1.254270  1.121962 -1.296201 -0.397341\n",
       "4 -0.457917 -0.491485 -0.820537 -0.747517 -1.734600 -0.927167\n",
       "5  0.273810 -1.771688 -0.629742 -0.157095  1.869177 -0.514145\n",
       "6  1.410448  0.414870 -0.099260 -0.124593  0.758561  0.231126"
      ]
     },
     "execution_count": 27,
     "metadata": {},
     "output_type": "execute_result"
    }
   ],
   "source": [
    "mat3"
   ]
  },
  {
   "cell_type": "code",
   "execution_count": 33,
   "metadata": {},
   "outputs": [
    {
     "data": {
      "text/plain": [
       "1    2.643863\n",
       "2    3.639848\n",
       "3    2.326078\n",
       "4    2.356222\n",
       "5    2.719057\n",
       "6    1.678002\n",
       "dtype: float64"
      ]
     },
     "execution_count": 33,
     "metadata": {},
     "output_type": "execute_result"
    }
   ],
   "source": [
    "mat3.apply(lambda x: norm(x), axis=1)"
   ]
  },
  {
   "cell_type": "code",
   "execution_count": 34,
   "metadata": {},
   "outputs": [],
   "source": [
    "from scipy import stats"
   ]
  },
  {
   "cell_type": "code",
   "execution_count": 52,
   "metadata": {},
   "outputs": [
    {
     "data": {
      "text/plain": [
       "V1    0.803100\n",
       "V2    0.742949\n",
       "V3    0.880478\n",
       "V4    1.181373\n",
       "V5    1.906228\n",
       "V6    0.588672\n",
       "dtype: float64"
      ]
     },
     "execution_count": 52,
     "metadata": {},
     "output_type": "execute_result"
    }
   ],
   "source": [
    "np.var(mat3, axis=0)"
   ]
  },
  {
   "cell_type": "code",
   "execution_count": 53,
   "metadata": {},
   "outputs": [
    {
     "name": "stdout",
     "output_type": "stream",
     "text": [
      "\u001b[0;31mSignature:\u001b[0m\n",
      "\u001b[0mnp\u001b[0m\u001b[0;34m.\u001b[0m\u001b[0mvar\u001b[0m\u001b[0;34m(\u001b[0m\u001b[0;34m\u001b[0m\n",
      "\u001b[0;34m\u001b[0m    \u001b[0ma\u001b[0m\u001b[0;34m,\u001b[0m\u001b[0;34m\u001b[0m\n",
      "\u001b[0;34m\u001b[0m    \u001b[0maxis\u001b[0m\u001b[0;34m=\u001b[0m\u001b[0;32mNone\u001b[0m\u001b[0;34m,\u001b[0m\u001b[0;34m\u001b[0m\n",
      "\u001b[0;34m\u001b[0m    \u001b[0mdtype\u001b[0m\u001b[0;34m=\u001b[0m\u001b[0;32mNone\u001b[0m\u001b[0;34m,\u001b[0m\u001b[0;34m\u001b[0m\n",
      "\u001b[0;34m\u001b[0m    \u001b[0mout\u001b[0m\u001b[0;34m=\u001b[0m\u001b[0;32mNone\u001b[0m\u001b[0;34m,\u001b[0m\u001b[0;34m\u001b[0m\n",
      "\u001b[0;34m\u001b[0m    \u001b[0mddof\u001b[0m\u001b[0;34m=\u001b[0m\u001b[0;36m0\u001b[0m\u001b[0;34m,\u001b[0m\u001b[0;34m\u001b[0m\n",
      "\u001b[0;34m\u001b[0m    \u001b[0mkeepdims\u001b[0m\u001b[0;34m=\u001b[0m\u001b[0;34m<\u001b[0m\u001b[0mno\u001b[0m \u001b[0mvalue\u001b[0m\u001b[0;34m>\u001b[0m\u001b[0;34m,\u001b[0m\u001b[0;34m\u001b[0m\n",
      "\u001b[0;34m\u001b[0m    \u001b[0;34m*\u001b[0m\u001b[0;34m,\u001b[0m\u001b[0;34m\u001b[0m\n",
      "\u001b[0;34m\u001b[0m    \u001b[0mwhere\u001b[0m\u001b[0;34m=\u001b[0m\u001b[0;34m<\u001b[0m\u001b[0mno\u001b[0m \u001b[0mvalue\u001b[0m\u001b[0;34m>\u001b[0m\u001b[0;34m,\u001b[0m\u001b[0;34m\u001b[0m\n",
      "\u001b[0;34m\u001b[0m\u001b[0;34m)\u001b[0m\u001b[0;34m\u001b[0m\u001b[0;34m\u001b[0m\u001b[0m\n",
      "\u001b[0;31mDocstring:\u001b[0m\n",
      "Compute the variance along the specified axis.\n",
      "\n",
      "Returns the variance of the array elements, a measure of the spread of a\n",
      "distribution.  The variance is computed for the flattened array by\n",
      "default, otherwise over the specified axis.\n",
      "\n",
      "Parameters\n",
      "----------\n",
      "a : array_like\n",
      "    Array containing numbers whose variance is desired.  If `a` is not an\n",
      "    array, a conversion is attempted.\n",
      "axis : None or int or tuple of ints, optional\n",
      "    Axis or axes along which the variance is computed.  The default is to\n",
      "    compute the variance of the flattened array.\n",
      "\n",
      "    .. versionadded:: 1.7.0\n",
      "\n",
      "    If this is a tuple of ints, a variance is performed over multiple axes,\n",
      "    instead of a single axis or all the axes as before.\n",
      "dtype : data-type, optional\n",
      "    Type to use in computing the variance.  For arrays of integer type\n",
      "    the default is `float64`; for arrays of float types it is the same as\n",
      "    the array type.\n",
      "out : ndarray, optional\n",
      "    Alternate output array in which to place the result.  It must have\n",
      "    the same shape as the expected output, but the type is cast if\n",
      "    necessary.\n",
      "ddof : int, optional\n",
      "    \"Delta Degrees of Freedom\": the divisor used in the calculation is\n",
      "    ``N - ddof``, where ``N`` represents the number of elements. By\n",
      "    default `ddof` is zero.\n",
      "keepdims : bool, optional\n",
      "    If this is set to True, the axes which are reduced are left\n",
      "    in the result as dimensions with size one. With this option,\n",
      "    the result will broadcast correctly against the input array.\n",
      "\n",
      "    If the default value is passed, then `keepdims` will not be\n",
      "    passed through to the `var` method of sub-classes of\n",
      "    `ndarray`, however any non-default value will be.  If the\n",
      "    sub-class' method does not implement `keepdims` any\n",
      "    exceptions will be raised.\n",
      "\n",
      "where : array_like of bool, optional\n",
      "    Elements to include in the variance. See `~numpy.ufunc.reduce` for\n",
      "    details.\n",
      "\n",
      "    .. versionadded:: 1.20.0\n",
      "\n",
      "Returns\n",
      "-------\n",
      "variance : ndarray, see dtype parameter above\n",
      "    If ``out=None``, returns a new array containing the variance;\n",
      "    otherwise, a reference to the output array is returned.\n",
      "\n",
      "See Also\n",
      "--------\n",
      "std, mean, nanmean, nanstd, nanvar\n",
      ":ref:`ufuncs-output-type`\n",
      "\n",
      "Notes\n",
      "-----\n",
      "The variance is the average of the squared deviations from the mean,\n",
      "i.e.,  ``var = mean(x)``, where ``x = abs(a - a.mean())**2``.\n",
      "\n",
      "The mean is typically calculated as ``x.sum() / N``, where ``N = len(x)``.\n",
      "If, however, `ddof` is specified, the divisor ``N - ddof`` is used\n",
      "instead.  In standard statistical practice, ``ddof=1`` provides an\n",
      "unbiased estimator of the variance of a hypothetical infinite population.\n",
      "``ddof=0`` provides a maximum likelihood estimate of the variance for\n",
      "normally distributed variables.\n",
      "\n",
      "Note that for complex numbers, the absolute value is taken before\n",
      "squaring, so that the result is always real and nonnegative.\n",
      "\n",
      "For floating-point input, the variance is computed using the same\n",
      "precision the input has.  Depending on the input data, this can cause\n",
      "the results to be inaccurate, especially for `float32` (see example\n",
      "below).  Specifying a higher-accuracy accumulator using the ``dtype``\n",
      "keyword can alleviate this issue.\n",
      "\n",
      "Examples\n",
      "--------\n",
      ">>> a = np.array([[1, 2], [3, 4]])\n",
      ">>> np.var(a)\n",
      "1.25\n",
      ">>> np.var(a, axis=0)\n",
      "array([1.,  1.])\n",
      ">>> np.var(a, axis=1)\n",
      "array([0.25,  0.25])\n",
      "\n",
      "In single precision, var() can be inaccurate:\n",
      "\n",
      ">>> a = np.zeros((2, 512*512), dtype=np.float32)\n",
      ">>> a[0, :] = 1.0\n",
      ">>> a[1, :] = 0.1\n",
      ">>> np.var(a)\n",
      "0.20250003\n",
      "\n",
      "Computing the variance in float64 is more accurate:\n",
      "\n",
      ">>> np.var(a, dtype=np.float64)\n",
      "0.20249999932944759 # may vary\n",
      ">>> ((1-0.55)**2 + (0.1-0.55)**2)/2\n",
      "0.2025\n",
      "\n",
      "Specifying a where argument:\n",
      "\n",
      ">>> a = np.array([[14, 8, 11, 10], [7, 9, 10, 11], [10, 15, 5, 10]])\n",
      ">>> np.var(a)\n",
      "6.833333333333333 # may vary\n",
      ">>> np.var(a, where=[[True], [True], [False]])\n",
      "4.0\n",
      "\u001b[0;31mFile:\u001b[0m      ~/Library/Caches/pypoetry/virtualenvs/pyplier-JrjK94hZ-py3.8/lib/python3.8/site-packages/numpy/core/fromnumeric.py\n",
      "\u001b[0;31mType:\u001b[0m      function\n"
     ]
    }
   ],
   "source": [
    "?np.var"
   ]
  },
  {
   "cell_type": "code",
   "execution_count": 76,
   "metadata": {},
   "outputs": [
    {
     "data": {
      "text/plain": [
       "1    1.112432\n",
       "2    0.671366\n",
       "3    1.036366\n",
       "4    0.464986\n",
       "5    1.204095\n",
       "6    0.582525\n",
       "dtype: float64"
      ]
     },
     "execution_count": 76,
     "metadata": {},
     "output_type": "execute_result"
    }
   ],
   "source": [
    "np.std(mat3,axis=1, ddof=1)"
   ]
  },
  {
   "cell_type": "code",
   "execution_count": null,
   "metadata": {},
   "outputs": [],
   "source": [
    "(x - Rfast::rowmeans(x)) / matrixStats::rowSds(x)"
   ]
  },
  {
   "cell_type": "code",
   "execution_count": 86,
   "metadata": {},
   "outputs": [],
   "source": [
    "def rowNorm(mat):\n",
    "    return mat.apply(lambda x: (x - np.mean(x))/np.std(x, ddof=1), axis=1)"
   ]
  },
  {
   "cell_type": "code",
   "execution_count": 82,
   "metadata": {},
   "outputs": [
    {
     "data": {
      "text/plain": [
       "1    1.112432\n",
       "2    0.671366\n",
       "3    1.036366\n",
       "4    0.464986\n",
       "5    1.204095\n",
       "6    0.582525\n",
       "dtype: float64"
      ]
     },
     "execution_count": 82,
     "metadata": {},
     "output_type": "execute_result"
    }
   ],
   "source": [
    "np.std(mat3, axis=1,ddof=1)"
   ]
  },
  {
   "cell_type": "code",
   "execution_count": 87,
   "metadata": {},
   "outputs": [
    {
     "data": {
      "text/html": [
       "<div>\n",
       "<style scoped>\n",
       "    .dataframe tbody tr th:only-of-type {\n",
       "        vertical-align: middle;\n",
       "    }\n",
       "\n",
       "    .dataframe tbody tr th {\n",
       "        vertical-align: top;\n",
       "    }\n",
       "\n",
       "    .dataframe thead th {\n",
       "        text-align: right;\n",
       "    }\n",
       "</style>\n",
       "<table border=\"1\" class=\"dataframe\">\n",
       "  <thead>\n",
       "    <tr style=\"text-align: right;\">\n",
       "      <th></th>\n",
       "      <th>V1</th>\n",
       "      <th>V2</th>\n",
       "      <th>V3</th>\n",
       "      <th>V4</th>\n",
       "      <th>V5</th>\n",
       "      <th>V6</th>\n",
       "    </tr>\n",
       "  </thead>\n",
       "  <tbody>\n",
       "    <tr>\n",
       "      <th>1</th>\n",
       "      <td>-0.038408</td>\n",
       "      <td>-0.464233</td>\n",
       "      <td>-0.935719</td>\n",
       "      <td>0.564244</td>\n",
       "      <td>1.703358</td>\n",
       "      <td>-0.829242</td>\n",
       "    </tr>\n",
       "    <tr>\n",
       "      <th>2</th>\n",
       "      <td>0.533249</td>\n",
       "      <td>-0.751722</td>\n",
       "      <td>-0.713249</td>\n",
       "      <td>1.805470</td>\n",
       "      <td>-0.422827</td>\n",
       "      <td>-0.450921</td>\n",
       "    </tr>\n",
       "    <tr>\n",
       "      <th>3</th>\n",
       "      <td>-0.334323</td>\n",
       "      <td>-0.640998</td>\n",
       "      <td>1.289405</td>\n",
       "      <td>1.161739</td>\n",
       "      <td>-1.171571</td>\n",
       "      <td>-0.304252</td>\n",
       "    </tr>\n",
       "    <tr>\n",
       "      <th>4</th>\n",
       "      <td>0.871611</td>\n",
       "      <td>0.799420</td>\n",
       "      <td>0.091760</td>\n",
       "      <td>0.248797</td>\n",
       "      <td>-1.874028</td>\n",
       "      <td>-0.137559</td>\n",
       "    </tr>\n",
       "    <tr>\n",
       "      <th>5</th>\n",
       "      <td>0.356083</td>\n",
       "      <td>-1.342702</td>\n",
       "      <td>-0.394317</td>\n",
       "      <td>-0.001784</td>\n",
       "      <td>1.681034</td>\n",
       "      <td>-0.298314</td>\n",
       "    </tr>\n",
       "    <tr>\n",
       "      <th>6</th>\n",
       "      <td>1.679908</td>\n",
       "      <td>-0.029164</td>\n",
       "      <td>-0.911752</td>\n",
       "      <td>-0.955240</td>\n",
       "      <td>0.560838</td>\n",
       "      <td>-0.344591</td>\n",
       "    </tr>\n",
       "  </tbody>\n",
       "</table>\n",
       "</div>"
      ],
      "text/plain": [
       "         V1        V2        V3        V4        V5        V6\n",
       "1 -0.038408 -0.464233 -0.935719  0.564244  1.703358 -0.829242\n",
       "2  0.533249 -0.751722 -0.713249  1.805470 -0.422827 -0.450921\n",
       "3 -0.334323 -0.640998  1.289405  1.161739 -1.171571 -0.304252\n",
       "4  0.871611  0.799420  0.091760  0.248797 -1.874028 -0.137559\n",
       "5  0.356083 -1.342702 -0.394317 -0.001784  1.681034 -0.298314\n",
       "6  1.679908 -0.029164 -0.911752 -0.955240  0.560838 -0.344591"
      ]
     },
     "execution_count": 87,
     "metadata": {},
     "output_type": "execute_result"
    }
   ],
   "source": [
    "rowNorm(mat3)"
   ]
  },
  {
   "cell_type": "code",
   "execution_count": 84,
   "metadata": {},
   "outputs": [
    {
     "data": {
      "text/html": [
       "<div>\n",
       "<style scoped>\n",
       "    .dataframe tbody tr th:only-of-type {\n",
       "        vertical-align: middle;\n",
       "    }\n",
       "\n",
       "    .dataframe tbody tr th {\n",
       "        vertical-align: top;\n",
       "    }\n",
       "\n",
       "    .dataframe thead th {\n",
       "        text-align: right;\n",
       "    }\n",
       "</style>\n",
       "<table border=\"1\" class=\"dataframe\">\n",
       "  <thead>\n",
       "    <tr style=\"text-align: right;\">\n",
       "      <th></th>\n",
       "      <th>V1</th>\n",
       "      <th>V2</th>\n",
       "      <th>V3</th>\n",
       "      <th>V4</th>\n",
       "      <th>V5</th>\n",
       "      <th>V6</th>\n",
       "    </tr>\n",
       "  </thead>\n",
       "  <tbody>\n",
       "    <tr>\n",
       "      <th>1</th>\n",
       "      <td>-0.038408</td>\n",
       "      <td>-0.464233</td>\n",
       "      <td>-0.935719</td>\n",
       "      <td>0.564244</td>\n",
       "      <td>1.703358</td>\n",
       "      <td>-0.829242</td>\n",
       "    </tr>\n",
       "    <tr>\n",
       "      <th>2</th>\n",
       "      <td>0.533249</td>\n",
       "      <td>-0.751722</td>\n",
       "      <td>-0.713249</td>\n",
       "      <td>1.805470</td>\n",
       "      <td>-0.422827</td>\n",
       "      <td>-0.450921</td>\n",
       "    </tr>\n",
       "    <tr>\n",
       "      <th>3</th>\n",
       "      <td>-0.334323</td>\n",
       "      <td>-0.640998</td>\n",
       "      <td>1.289405</td>\n",
       "      <td>1.161739</td>\n",
       "      <td>-1.171571</td>\n",
       "      <td>-0.304252</td>\n",
       "    </tr>\n",
       "    <tr>\n",
       "      <th>4</th>\n",
       "      <td>0.871611</td>\n",
       "      <td>0.799420</td>\n",
       "      <td>0.091760</td>\n",
       "      <td>0.248797</td>\n",
       "      <td>-1.874028</td>\n",
       "      <td>-0.137559</td>\n",
       "    </tr>\n",
       "    <tr>\n",
       "      <th>5</th>\n",
       "      <td>0.356083</td>\n",
       "      <td>-1.342702</td>\n",
       "      <td>-0.394317</td>\n",
       "      <td>-0.001784</td>\n",
       "      <td>1.681034</td>\n",
       "      <td>-0.298314</td>\n",
       "    </tr>\n",
       "    <tr>\n",
       "      <th>6</th>\n",
       "      <td>1.679908</td>\n",
       "      <td>-0.029164</td>\n",
       "      <td>-0.911752</td>\n",
       "      <td>-0.955240</td>\n",
       "      <td>0.560838</td>\n",
       "      <td>-0.344591</td>\n",
       "    </tr>\n",
       "  </tbody>\n",
       "</table>\n",
       "</div>"
      ],
      "text/plain": [
       "         V1        V2        V3        V4        V5        V6\n",
       "1 -0.038408 -0.464233 -0.935719  0.564244  1.703358 -0.829242\n",
       "2  0.533249 -0.751722 -0.713249  1.805470 -0.422827 -0.450921\n",
       "3 -0.334323 -0.640998  1.289405  1.161739 -1.171571 -0.304252\n",
       "4  0.871611  0.799420  0.091760  0.248797 -1.874028 -0.137559\n",
       "5  0.356083 -1.342702 -0.394317 -0.001784  1.681034 -0.298314\n",
       "6  1.679908 -0.029164 -0.911752 -0.955240  0.560838 -0.344591"
      ]
     },
     "execution_count": 84,
     "metadata": {},
     "output_type": "execute_result"
    }
   ],
   "source": [
    "mat3.apply(lambda x: (x - np.mean(x))/np.std(x, ddof=1), axis=1)"
   ]
  },
  {
   "cell_type": "markdown",
   "metadata": {},
   "source": []
  },
  {
   "cell_type": "code",
   "execution_count": 88,
   "metadata": {},
   "outputs": [
    {
     "data": {
      "text/html": [
       "<div>\n",
       "<style scoped>\n",
       "    .dataframe tbody tr th:only-of-type {\n",
       "        vertical-align: middle;\n",
       "    }\n",
       "\n",
       "    .dataframe tbody tr th {\n",
       "        vertical-align: top;\n",
       "    }\n",
       "\n",
       "    .dataframe thead th {\n",
       "        text-align: right;\n",
       "    }\n",
       "</style>\n",
       "<table border=\"1\" class=\"dataframe\">\n",
       "  <thead>\n",
       "    <tr style=\"text-align: right;\">\n",
       "      <th></th>\n",
       "      <th>V1</th>\n",
       "      <th>V2</th>\n",
       "      <th>V3</th>\n",
       "      <th>V4</th>\n",
       "      <th>V5</th>\n",
       "      <th>V6</th>\n",
       "    </tr>\n",
       "  </thead>\n",
       "  <tbody>\n",
       "    <tr>\n",
       "      <th>1</th>\n",
       "      <td>-0.408441</td>\n",
       "      <td>-0.882143</td>\n",
       "      <td>-1.406640</td>\n",
       "      <td>0.261968</td>\n",
       "      <td>1.529155</td>\n",
       "      <td>-1.288191</td>\n",
       "    </tr>\n",
       "    <tr>\n",
       "      <th>2</th>\n",
       "      <td>1.711693</td>\n",
       "      <td>0.849008</td>\n",
       "      <td>0.874837</td>\n",
       "      <td>2.565819</td>\n",
       "      <td>1.069816</td>\n",
       "      <td>1.050955</td>\n",
       "    </tr>\n",
       "    <tr>\n",
       "      <th>3</th>\n",
       "      <td>-0.428506</td>\n",
       "      <td>-0.746334</td>\n",
       "      <td>1.254270</td>\n",
       "      <td>1.121962</td>\n",
       "      <td>-1.296201</td>\n",
       "      <td>-0.397341</td>\n",
       "    </tr>\n",
       "    <tr>\n",
       "      <th>4</th>\n",
       "      <td>-0.457917</td>\n",
       "      <td>-0.491485</td>\n",
       "      <td>-0.820537</td>\n",
       "      <td>-0.747517</td>\n",
       "      <td>-1.734600</td>\n",
       "      <td>-0.927167</td>\n",
       "    </tr>\n",
       "    <tr>\n",
       "      <th>5</th>\n",
       "      <td>0.273810</td>\n",
       "      <td>-1.771688</td>\n",
       "      <td>-0.629742</td>\n",
       "      <td>-0.157095</td>\n",
       "      <td>1.869177</td>\n",
       "      <td>-0.514145</td>\n",
       "    </tr>\n",
       "    <tr>\n",
       "      <th>6</th>\n",
       "      <td>1.410448</td>\n",
       "      <td>0.414870</td>\n",
       "      <td>-0.099260</td>\n",
       "      <td>-0.124593</td>\n",
       "      <td>0.758561</td>\n",
       "      <td>0.231126</td>\n",
       "    </tr>\n",
       "  </tbody>\n",
       "</table>\n",
       "</div>"
      ],
      "text/plain": [
       "         V1        V2        V3        V4        V5        V6\n",
       "1 -0.408441 -0.882143 -1.406640  0.261968  1.529155 -1.288191\n",
       "2  1.711693  0.849008  0.874837  2.565819  1.069816  1.050955\n",
       "3 -0.428506 -0.746334  1.254270  1.121962 -1.296201 -0.397341\n",
       "4 -0.457917 -0.491485 -0.820537 -0.747517 -1.734600 -0.927167\n",
       "5  0.273810 -1.771688 -0.629742 -0.157095  1.869177 -0.514145\n",
       "6  1.410448  0.414870 -0.099260 -0.124593  0.758561  0.231126"
      ]
     },
     "execution_count": 88,
     "metadata": {},
     "output_type": "execute_result"
    }
   ],
   "source": [
    "mat3"
   ]
  },
  {
   "cell_type": "code",
   "execution_count": 101,
   "metadata": {},
   "outputs": [],
   "source": [
    "mat3_svd = np.linalg.svd(mat3)"
   ]
  },
  {
   "cell_type": "code",
   "execution_count": 102,
   "metadata": {},
   "outputs": [
    {
     "data": {
      "text/plain": [
       "(array([[-0.14411704,  0.61701678,  0.28221381,  0.53776098,  0.34937657,\n",
       "         -0.32806261],\n",
       "        [ 0.83149661, -0.01776281,  0.22807868,  0.37114008, -0.0633739 ,\n",
       "          0.33840327],\n",
       "        [-0.01145209, -0.35357981,  0.80611018, -0.14618208, -0.1905599 ,\n",
       "         -0.40908956],\n",
       "        [-0.4741066 , -0.17193955,  0.08526058,  0.58265414, -0.51714712,\n",
       "          0.36257878],\n",
       "        [-0.03115491,  0.66340457,  0.28083572, -0.44505531, -0.4138772 ,\n",
       "          0.33269578],\n",
       "        [ 0.24892734,  0.15584373, -0.36384582,  0.1189071 , -0.63156251,\n",
       "         -0.60692176]]),\n",
       " array([4.28716297, 3.8044636 , 2.31661887, 1.30233026, 1.15503533,\n",
       "        0.39911119]),\n",
       " array([[ 0.47740382,  0.28762889,  0.30316414,  0.56241145,  0.38183613,\n",
       "          0.36788754],\n",
       "        [ 0.09180836, -0.34740103, -0.42558014, -0.07247998,  0.79887893,\n",
       "         -0.21518457],\n",
       "        [-0.23552512, -0.58160029,  0.26026729,  0.64794658, -0.11581137,\n",
       "         -0.32447329],\n",
       "        [ 0.19758302,  0.38491308, -0.63326669,  0.42132241, -0.26376418,\n",
       "         -0.40582269],\n",
       "        [-0.81107459,  0.43776255, -0.0331069 ,  0.21246164,  0.30978392,\n",
       "          0.09121326],\n",
       "        [-0.10631882, -0.34428058, -0.50706135,  0.18961203, -0.19246746,\n",
       "          0.73488743]]))"
      ]
     },
     "execution_count": 102,
     "metadata": {},
     "output_type": "execute_result"
    }
   ],
   "source": [
    "mat3_svd"
   ]
  },
  {
   "cell_type": "code",
   "execution_count": 92,
   "metadata": {},
   "outputs": [],
   "source": [
    "from sklearn.utils.extmath import randomized_svd"
   ]
  },
  {
   "cell_type": "code",
   "execution_count": 96,
   "metadata": {},
   "outputs": [
    {
     "name": "stderr",
     "output_type": "stream",
     "text": [
      "/Users/milessmith/Library/Caches/pypoetry/virtualenvs/pyplier-JrjK94hZ-py3.8/lib/python3.8/site-packages/sklearn/utils/extmath.py:368: FutureWarning: If 'random_state' is not supplied, the current default is to use 0 as a fixed seed. This will change to  None in version 1.2 leading to non-deterministic results that better reflect nature of the randomized_svd solver. If you want to silence this warning, set 'random_state' to an integer seed or to None explicitly depending if you want your code to be deterministic or not.\n",
      "  warnings.warn(\n"
     ]
    }
   ],
   "source": [
    "mat3_rsvd = randomized_svd(mat3.values, n_components=min(mat3.shape))"
   ]
  },
  {
   "cell_type": "code",
   "execution_count": 97,
   "metadata": {},
   "outputs": [
    {
     "data": {
      "text/plain": [
       "(array([[-0.14411704,  0.61701678,  0.28221381,  0.53776098, -0.34937657,\n",
       "          0.32806261],\n",
       "        [ 0.83149661, -0.01776281,  0.22807868,  0.37114008,  0.0633739 ,\n",
       "         -0.33840327],\n",
       "        [-0.01145209, -0.35357981,  0.80611018, -0.14618208,  0.1905599 ,\n",
       "          0.40908956],\n",
       "        [-0.4741066 , -0.17193955,  0.08526058,  0.58265414,  0.51714712,\n",
       "         -0.36257878],\n",
       "        [-0.03115491,  0.66340457,  0.28083572, -0.44505531,  0.4138772 ,\n",
       "         -0.33269578],\n",
       "        [ 0.24892734,  0.15584373, -0.36384582,  0.1189071 ,  0.63156251,\n",
       "          0.60692176]]),\n",
       " array([4.28716297, 3.8044636 , 2.31661887, 1.30233026, 1.15503533,\n",
       "        0.39911119]),\n",
       " array([[ 0.47740382,  0.28762889,  0.30316414,  0.56241145,  0.38183613,\n",
       "          0.36788754],\n",
       "        [ 0.09180836, -0.34740103, -0.42558014, -0.07247998,  0.79887893,\n",
       "         -0.21518457],\n",
       "        [-0.23552512, -0.58160029,  0.26026729,  0.64794658, -0.11581137,\n",
       "         -0.32447329],\n",
       "        [ 0.19758302,  0.38491308, -0.63326669,  0.42132241, -0.26376418,\n",
       "         -0.40582269],\n",
       "        [ 0.81107459, -0.43776255,  0.0331069 , -0.21246164, -0.30978392,\n",
       "         -0.09121326],\n",
       "        [ 0.10631882,  0.34428058,  0.50706135, -0.18961203,  0.19246746,\n",
       "         -0.73488743]]))"
      ]
     },
     "execution_count": 97,
     "metadata": {},
     "output_type": "execute_result"
    }
   ],
   "source": [
    "mat3_rsvd"
   ]
  },
  {
   "cell_type": "code",
   "execution_count": 103,
   "metadata": {},
   "outputs": [
    {
     "data": {
      "text/html": [
       "<div>\n",
       "<style scoped>\n",
       "    .dataframe tbody tr th:only-of-type {\n",
       "        vertical-align: middle;\n",
       "    }\n",
       "\n",
       "    .dataframe tbody tr th {\n",
       "        vertical-align: top;\n",
       "    }\n",
       "\n",
       "    .dataframe thead th {\n",
       "        text-align: right;\n",
       "    }\n",
       "</style>\n",
       "<table border=\"1\" class=\"dataframe\">\n",
       "  <thead>\n",
       "    <tr style=\"text-align: right;\">\n",
       "      <th></th>\n",
       "      <th>V1</th>\n",
       "      <th>V2</th>\n",
       "      <th>V3</th>\n",
       "      <th>V4</th>\n",
       "      <th>V5</th>\n",
       "      <th>V6</th>\n",
       "    </tr>\n",
       "  </thead>\n",
       "  <tbody>\n",
       "    <tr>\n",
       "      <th>1</th>\n",
       "      <td>-0.408441</td>\n",
       "      <td>-0.882143</td>\n",
       "      <td>-1.406640</td>\n",
       "      <td>0.261968</td>\n",
       "      <td>1.529155</td>\n",
       "      <td>-1.288191</td>\n",
       "    </tr>\n",
       "    <tr>\n",
       "      <th>2</th>\n",
       "      <td>1.711693</td>\n",
       "      <td>0.849008</td>\n",
       "      <td>0.874837</td>\n",
       "      <td>2.565819</td>\n",
       "      <td>1.069816</td>\n",
       "      <td>1.050955</td>\n",
       "    </tr>\n",
       "    <tr>\n",
       "      <th>3</th>\n",
       "      <td>-0.428506</td>\n",
       "      <td>-0.746334</td>\n",
       "      <td>1.254270</td>\n",
       "      <td>1.121962</td>\n",
       "      <td>-1.296201</td>\n",
       "      <td>-0.397341</td>\n",
       "    </tr>\n",
       "    <tr>\n",
       "      <th>4</th>\n",
       "      <td>-0.457917</td>\n",
       "      <td>-0.491485</td>\n",
       "      <td>-0.820537</td>\n",
       "      <td>-0.747517</td>\n",
       "      <td>-1.734600</td>\n",
       "      <td>-0.927167</td>\n",
       "    </tr>\n",
       "    <tr>\n",
       "      <th>5</th>\n",
       "      <td>0.273810</td>\n",
       "      <td>-1.771688</td>\n",
       "      <td>-0.629742</td>\n",
       "      <td>-0.157095</td>\n",
       "      <td>1.869177</td>\n",
       "      <td>-0.514145</td>\n",
       "    </tr>\n",
       "    <tr>\n",
       "      <th>6</th>\n",
       "      <td>1.410448</td>\n",
       "      <td>0.414870</td>\n",
       "      <td>-0.099260</td>\n",
       "      <td>-0.124593</td>\n",
       "      <td>0.758561</td>\n",
       "      <td>0.231126</td>\n",
       "    </tr>\n",
       "  </tbody>\n",
       "</table>\n",
       "</div>"
      ],
      "text/plain": [
       "         V1        V2        V3        V4        V5        V6\n",
       "1 -0.408441 -0.882143 -1.406640  0.261968  1.529155 -1.288191\n",
       "2  1.711693  0.849008  0.874837  2.565819  1.069816  1.050955\n",
       "3 -0.428506 -0.746334  1.254270  1.121962 -1.296201 -0.397341\n",
       "4 -0.457917 -0.491485 -0.820537 -0.747517 -1.734600 -0.927167\n",
       "5  0.273810 -1.771688 -0.629742 -0.157095  1.869177 -0.514145\n",
       "6  1.410448  0.414870 -0.099260 -0.124593  0.758561  0.231126"
      ]
     },
     "execution_count": 103,
     "metadata": {},
     "output_type": "execute_result"
    }
   ],
   "source": [
    "mat3"
   ]
  },
  {
   "cell_type": "code",
   "execution_count": 108,
   "metadata": {},
   "outputs": [
    {
     "data": {
      "text/plain": [
       "True"
      ]
     },
     "execution_count": 108,
     "metadata": {},
     "output_type": "execute_result"
    }
   ],
   "source": [
    "isinstance(mat3, pd.DataFrame)"
   ]
  },
  {
   "cell_type": "code",
   "execution_count": 109,
   "metadata": {},
   "outputs": [],
   "source": [
    "rng = np.random.default_rng()"
   ]
  },
  {
   "cell_type": "code",
   "execution_count": 125,
   "metadata": {},
   "outputs": [],
   "source": [
    "rng.shuffle(mat3.values)"
   ]
  },
  {
   "cell_type": "code",
   "execution_count": 127,
   "metadata": {},
   "outputs": [
    {
     "data": {
      "text/html": [
       "<div>\n",
       "<style scoped>\n",
       "    .dataframe tbody tr th:only-of-type {\n",
       "        vertical-align: middle;\n",
       "    }\n",
       "\n",
       "    .dataframe tbody tr th {\n",
       "        vertical-align: top;\n",
       "    }\n",
       "\n",
       "    .dataframe thead th {\n",
       "        text-align: right;\n",
       "    }\n",
       "</style>\n",
       "<table border=\"1\" class=\"dataframe\">\n",
       "  <thead>\n",
       "    <tr style=\"text-align: right;\">\n",
       "      <th></th>\n",
       "      <th>V1</th>\n",
       "      <th>V2</th>\n",
       "      <th>V3</th>\n",
       "      <th>V4</th>\n",
       "      <th>V5</th>\n",
       "      <th>V6</th>\n",
       "    </tr>\n",
       "  </thead>\n",
       "  <tbody>\n",
       "    <tr>\n",
       "      <th>1</th>\n",
       "      <td>1.069816</td>\n",
       "      <td>0.849008</td>\n",
       "      <td>1.711693</td>\n",
       "      <td>1.050955</td>\n",
       "      <td>2.565819</td>\n",
       "      <td>0.874837</td>\n",
       "    </tr>\n",
       "    <tr>\n",
       "      <th>2</th>\n",
       "      <td>-1.296201</td>\n",
       "      <td>-0.746334</td>\n",
       "      <td>-0.428506</td>\n",
       "      <td>-0.397341</td>\n",
       "      <td>1.121962</td>\n",
       "      <td>1.254270</td>\n",
       "    </tr>\n",
       "    <tr>\n",
       "      <th>3</th>\n",
       "      <td>1.869177</td>\n",
       "      <td>-1.771688</td>\n",
       "      <td>0.273810</td>\n",
       "      <td>-0.514145</td>\n",
       "      <td>-0.157095</td>\n",
       "      <td>-0.629742</td>\n",
       "    </tr>\n",
       "    <tr>\n",
       "      <th>4</th>\n",
       "      <td>1.529155</td>\n",
       "      <td>-0.882143</td>\n",
       "      <td>-0.408441</td>\n",
       "      <td>-1.288191</td>\n",
       "      <td>0.261968</td>\n",
       "      <td>-1.406640</td>\n",
       "    </tr>\n",
       "    <tr>\n",
       "      <th>5</th>\n",
       "      <td>-1.734600</td>\n",
       "      <td>-0.491485</td>\n",
       "      <td>-0.457917</td>\n",
       "      <td>-0.927167</td>\n",
       "      <td>-0.747517</td>\n",
       "      <td>-0.820537</td>\n",
       "    </tr>\n",
       "    <tr>\n",
       "      <th>6</th>\n",
       "      <td>0.758561</td>\n",
       "      <td>0.414870</td>\n",
       "      <td>1.410448</td>\n",
       "      <td>0.231126</td>\n",
       "      <td>-0.124593</td>\n",
       "      <td>-0.099260</td>\n",
       "    </tr>\n",
       "  </tbody>\n",
       "</table>\n",
       "</div>"
      ],
      "text/plain": [
       "         V1        V2        V3        V4        V5        V6\n",
       "1  1.069816  0.849008  1.711693  1.050955  2.565819  0.874837\n",
       "2 -1.296201 -0.746334 -0.428506 -0.397341  1.121962  1.254270\n",
       "3  1.869177 -1.771688  0.273810 -0.514145 -0.157095 -0.629742\n",
       "4  1.529155 -0.882143 -0.408441 -1.288191  0.261968 -1.406640\n",
       "5 -1.734600 -0.491485 -0.457917 -0.927167 -0.747517 -0.820537\n",
       "6  0.758561  0.414870  1.410448  0.231126 -0.124593 -0.099260"
      ]
     },
     "execution_count": 127,
     "metadata": {},
     "output_type": "execute_result"
    }
   ],
   "source": [
    "mat3"
   ]
  },
  {
   "cell_type": "code",
   "execution_count": 130,
   "metadata": {},
   "outputs": [
    {
     "data": {
      "text/html": [
       "<div>\n",
       "<style scoped>\n",
       "    .dataframe tbody tr th:only-of-type {\n",
       "        vertical-align: middle;\n",
       "    }\n",
       "\n",
       "    .dataframe tbody tr th {\n",
       "        vertical-align: top;\n",
       "    }\n",
       "\n",
       "    .dataframe thead th {\n",
       "        text-align: right;\n",
       "    }\n",
       "</style>\n",
       "<table border=\"1\" class=\"dataframe\">\n",
       "  <thead>\n",
       "    <tr style=\"text-align: right;\">\n",
       "      <th></th>\n",
       "      <th>V1</th>\n",
       "      <th>V2</th>\n",
       "      <th>V3</th>\n",
       "      <th>V4</th>\n",
       "      <th>V5</th>\n",
       "      <th>V6</th>\n",
       "    </tr>\n",
       "  </thead>\n",
       "  <tbody>\n",
       "    <tr>\n",
       "      <th>1</th>\n",
       "      <td>1.529155</td>\n",
       "      <td>-0.882143</td>\n",
       "      <td>-0.408441</td>\n",
       "      <td>-1.288191</td>\n",
       "      <td>0.261968</td>\n",
       "      <td>-1.406640</td>\n",
       "    </tr>\n",
       "    <tr>\n",
       "      <th>2</th>\n",
       "      <td>-1.734600</td>\n",
       "      <td>-0.491485</td>\n",
       "      <td>-0.457917</td>\n",
       "      <td>-0.927167</td>\n",
       "      <td>-0.747517</td>\n",
       "      <td>-0.820537</td>\n",
       "    </tr>\n",
       "    <tr>\n",
       "      <th>3</th>\n",
       "      <td>1.869177</td>\n",
       "      <td>-1.771688</td>\n",
       "      <td>0.273810</td>\n",
       "      <td>-0.514145</td>\n",
       "      <td>-0.157095</td>\n",
       "      <td>-0.629742</td>\n",
       "    </tr>\n",
       "    <tr>\n",
       "      <th>4</th>\n",
       "      <td>0.758561</td>\n",
       "      <td>0.414870</td>\n",
       "      <td>1.410448</td>\n",
       "      <td>0.231126</td>\n",
       "      <td>-0.124593</td>\n",
       "      <td>-0.099260</td>\n",
       "    </tr>\n",
       "    <tr>\n",
       "      <th>5</th>\n",
       "      <td>1.069816</td>\n",
       "      <td>0.849008</td>\n",
       "      <td>1.711693</td>\n",
       "      <td>1.050955</td>\n",
       "      <td>2.565819</td>\n",
       "      <td>0.874837</td>\n",
       "    </tr>\n",
       "    <tr>\n",
       "      <th>6</th>\n",
       "      <td>-1.296201</td>\n",
       "      <td>-0.746334</td>\n",
       "      <td>-0.428506</td>\n",
       "      <td>-0.397341</td>\n",
       "      <td>1.121962</td>\n",
       "      <td>1.254270</td>\n",
       "    </tr>\n",
       "  </tbody>\n",
       "</table>\n",
       "</div>"
      ],
      "text/plain": [
       "         V1        V2        V3        V4        V5        V6\n",
       "1  1.529155 -0.882143 -0.408441 -1.288191  0.261968 -1.406640\n",
       "2 -1.734600 -0.491485 -0.457917 -0.927167 -0.747517 -0.820537\n",
       "3  1.869177 -1.771688  0.273810 -0.514145 -0.157095 -0.629742\n",
       "4  0.758561  0.414870  1.410448  0.231126 -0.124593 -0.099260\n",
       "5  1.069816  0.849008  1.711693  1.050955  2.565819  0.874837\n",
       "6 -1.296201 -0.746334 -0.428506 -0.397341  1.121962  1.254270"
      ]
     },
     "execution_count": 130,
     "metadata": {},
     "output_type": "execute_result"
    }
   ],
   "source": [
    "rng.shuffle(mat3.values, axis=)\n",
    "mat3"
   ]
  },
  {
   "cell_type": "code",
   "execution_count": 131,
   "metadata": {},
   "outputs": [],
   "source": [
    "arr = np.arange(9).reshape((3, 3))"
   ]
  },
  {
   "cell_type": "code",
   "execution_count": 132,
   "metadata": {},
   "outputs": [
    {
     "data": {
      "text/plain": [
       "array([[0, 1, 2],\n",
       "       [3, 4, 5],\n",
       "       [6, 7, 8]])"
      ]
     },
     "execution_count": 132,
     "metadata": {},
     "output_type": "execute_result"
    }
   ],
   "source": [
    "arr"
   ]
  },
  {
   "cell_type": "code",
   "execution_count": 145,
   "metadata": {},
   "outputs": [
    {
     "data": {
      "text/plain": [
       "array([[4, 3, 5],\n",
       "       [7, 6, 8],\n",
       "       [1, 0, 2]])"
      ]
     },
     "execution_count": 145,
     "metadata": {},
     "output_type": "execute_result"
    }
   ],
   "source": [
    "rng.shuffle(arr, axis=1)\n",
    "rng.shuffle(arr, axis=0)\n",
    "arr"
   ]
  },
  {
   "cell_type": "code",
   "execution_count": 155,
   "metadata": {},
   "outputs": [
    {
     "data": {
      "text/plain": [
       "array([[6, 2, 3],\n",
       "       [0, 4, 8],\n",
       "       [1, 5, 7]])"
      ]
     },
     "execution_count": 155,
     "metadata": {},
     "output_type": "execute_result"
    }
   ],
   "source": [
    "arr2 = rng.permuted(arr)\n",
    "arr2"
   ]
  },
  {
   "cell_type": "code",
   "execution_count": 157,
   "metadata": {},
   "outputs": [
    {
     "data": {
      "text/plain": [
       "array([[4, 3, 5],\n",
       "       [7, 6, 8],\n",
       "       [1, 0, 2]])"
      ]
     },
     "execution_count": 157,
     "metadata": {},
     "output_type": "execute_result"
    }
   ],
   "source": [
    "np.copy(arr)"
   ]
  },
  {
   "cell_type": "code",
   "execution_count": 159,
   "metadata": {},
   "outputs": [],
   "source": [
    "from sklearn.utils import shuffle"
   ]
  },
  {
   "cell_type": "code",
   "execution_count": 169,
   "metadata": {},
   "outputs": [
    {
     "data": {
      "text/plain": [
       "array([[7, 6, 8],\n",
       "       [4, 3, 5],\n",
       "       [1, 0, 2]])"
      ]
     },
     "execution_count": 169,
     "metadata": {},
     "output_type": "execute_result"
    }
   ],
   "source": [
    "shuffle(arr, n_samples=3)"
   ]
  },
  {
   "cell_type": "code",
   "execution_count": 170,
   "metadata": {},
   "outputs": [],
   "source": [
    "from itertools import repeat "
   ]
  },
  {
   "cell_type": "code",
   "execution_count": 174,
   "metadata": {},
   "outputs": [
    {
     "data": {
      "text/plain": [
       "repeat(array([[3, 7, 8],\n",
       "       [4, 0, 1],\n",
       "       [5, 2, 6]]), 10)"
      ]
     },
     "execution_count": 174,
     "metadata": {},
     "output_type": "execute_result"
    }
   ],
   "source": [
    "repeat(rng.permuted(arr2,out=arr2), 10)"
   ]
  },
  {
   "cell_type": "code",
   "execution_count": 175,
   "metadata": {},
   "outputs": [],
   "source": [
    "from itertools import starmap\n",
    "def repeatfunc(func, times=None, *args):\n",
    "    \"\"\"Repeat calls to func with specified arguments.\n",
    "\n",
    "    Example:  repeatfunc(random.random)\n",
    "    \"\"\"\n",
    "    if times is None:\n",
    "        return starmap(func, repeat(args))\n",
    "    return starmap(func, repeat(args, times))"
   ]
  },
  {
   "cell_type": "code",
   "execution_count": 182,
   "metadata": {},
   "outputs": [
    {
     "data": {
      "text/plain": [
       "<itertools.starmap at 0x7ff4ef5bcf70>"
      ]
     },
     "execution_count": 182,
     "metadata": {},
     "output_type": "execute_result"
    }
   ],
   "source": [
    "repeatfunc(rng.permuted(arr2,out=arr2), times=10)"
   ]
  },
  {
   "cell_type": "code",
   "execution_count": 183,
   "metadata": {},
   "outputs": [],
   "source": [
    "arr2 = np.array([-0.4084414,1.7116934, -0.4285055, -0.4579172,  0.2738100, 1.4104480])"
   ]
  },
  {
   "cell_type": "code",
   "execution_count": 186,
   "metadata": {},
   "outputs": [
    {
     "data": {
      "text/plain": [
       "array([4.2603337, 2.1107872, 0.7611389, 0.4049108])"
      ]
     },
     "execution_count": 186,
     "metadata": {},
     "output_type": "execute_result"
    }
   ],
   "source": [
    "abs(np.diff(np.diff(arr2)))"
   ]
  },
  {
   "cell_type": "code",
   "execution_count": 192,
   "metadata": {},
   "outputs": [
    {
     "data": {
      "text/plain": [
       "array([0.08747465, 0.04168293, 0.06906393, 0.21010873, 0.21010873,\n",
       "       0.21010873, 0.21010873, 0.21010873, 0.25095287, 0.07978353])"
      ]
     },
     "execution_count": 192,
     "metadata": {},
     "output_type": "execute_result"
    }
   ],
   "source": [
    "kernel_size = 10\n",
    "kernel = np.ones(kernel_size) / kernel_size\n",
    "np.convolve(arr2, kernel, mode='same')"
   ]
  },
  {
   "cell_type": "code",
   "execution_count": 195,
   "metadata": {},
   "outputs": [],
   "source": [
    "arr3 = ([\n",
    "    1.089300602, -1.026029511, 1.465306935, -0.645124236, 0.097941865, 0.114350582, -0.385336619, 0.857331616, -1.373976326,\n",
    "    0.157552108, 0.951025769, -0.658906624, 0.537273928, 0.493029130, -1.776564824, -0.516410712, -0.471376448, 1.177162764,\n",
    "    -0.560719344, 1.000541605, -1.279877713, 0.002116907, -0.142827253, 1.802500646, -0.337374057, 0.310118602, 0.098316149,\n",
    "    1.268375087, 2.104389929, -0.943104103, 0.665192982, 1.805599356, -0.292926603, -0.284755209, -0.155039708, -0.682685066,\n",
    "    -1.211252184, -1.322234851, 0.319004650, 0.235884941, -0.891136174, 0.452235324, 1.122572825, 0.141235484, 0.762169524,\n",
    "    0.783130798\n",
    "])"
   ]
  },
  {
   "cell_type": "code",
   "execution_count": 206,
   "metadata": {},
   "outputs": [],
   "source": [
    "from scipy.signal.windows import tukey"
   ]
  },
  {
   "cell_type": "code",
   "execution_count": 225,
   "metadata": {},
   "outputs": [
    {
     "data": {
      "text/plain": [
       "0.783130798"
      ]
     },
     "execution_count": 225,
     "metadata": {},
     "output_type": "execute_result"
    }
   ],
   "source": [
    "np.median([arr3[-1],arr3[0],arr3[1]])"
   ]
  },
  {
   "cell_type": "code",
   "execution_count": 231,
   "metadata": {},
   "outputs": [],
   "source": [
    "def smooth(mat, width=3):\n",
    "    new_list = list()\n",
    "    for i, x in enumerate(mat):\n",
    "        if i == 0:\n",
    "            new_list.append(np.median([mat[-1],mat[0],mat[1]]))\n",
    "        else:\n",
    "            new_list.append(np.median(mat[i-1:i+1]))\n",
    "    return new_list"
   ]
  },
  {
   "cell_type": "code",
   "execution_count": 232,
   "metadata": {},
   "outputs": [
    {
     "data": {
      "text/plain": [
       "[0.783130798,\n",
       " 0.03163554550000003,\n",
       " 0.21963871200000007,\n",
       " 0.41009134950000004,\n",
       " -0.2735911855,\n",
       " 0.1061462235,\n",
       " -0.1354930185,\n",
       " 0.23599749849999999,\n",
       " -0.258322355,\n",
       " -0.608212109,\n",
       " 0.5542889385,\n",
       " 0.1460595725,\n",
       " -0.06081634800000002,\n",
       " 0.5151515289999999,\n",
       " -0.641767847,\n",
       " -1.146487768,\n",
       " -0.49389358,\n",
       " 0.352893158,\n",
       " 0.30822171,\n",
       " 0.2199111305,\n",
       " -0.13966805400000004,\n",
       " -0.638880403,\n",
       " -0.070355173,\n",
       " 0.8298366964999999,\n",
       " 0.7325632945,\n",
       " -0.013627727499999992,\n",
       " 0.20421737550000002,\n",
       " 0.6833456179999999,\n",
       " 1.686382508,\n",
       " 0.5806429129999999,\n",
       " -0.13895556050000002,\n",
       " 1.235396169,\n",
       " 0.7563363765000001,\n",
       " -0.288840906,\n",
       " -0.2198974585,\n",
       " -0.418862387,\n",
       " -0.946968625,\n",
       " -1.2667435175,\n",
       " -0.5016151005,\n",
       " 0.2774447955,\n",
       " -0.3276256165,\n",
       " -0.219450425,\n",
       " 0.7874040744999999,\n",
       " 0.6319041545,\n",
       " 0.451702504,\n",
       " 0.7726501610000001]"
      ]
     },
     "execution_count": 232,
     "metadata": {},
     "output_type": "execute_result"
    }
   ],
   "source": [
    "smooth(arr3)"
   ]
  },
  {
   "cell_type": "code",
   "execution_count": 239,
   "metadata": {},
   "outputs": [],
   "source": [
    "from scipy.signal import medfilt"
   ]
  },
  {
   "cell_type": "code",
   "execution_count": 242,
   "metadata": {},
   "outputs": [
    {
     "data": {
      "text/plain": [
       "array([ 0.        ,  1.0893006 , -0.64512424,  0.09794187,  0.09794187,\n",
       "        0.09794187,  0.11435058, -0.38533662,  0.15755211,  0.15755211,\n",
       "        0.15755211,  0.53727393,  0.49302913,  0.49302913, -0.51641071,\n",
       "       -0.51641071, -0.47137645, -0.47137645,  1.00054161, -0.56071934,\n",
       "        0.00211691, -0.14282725,  0.00211691, -0.14282725,  0.3101186 ,\n",
       "        0.09831615,  0.3101186 ,  1.26837509,  1.26837509,  0.66519298,\n",
       "        0.66519298,  0.66519298, -0.28475521, -0.28475521, -0.28475521,\n",
       "       -0.68268507, -1.21125218, -1.21125218,  0.23588494,  0.23588494,\n",
       "        0.23588494,  0.45223532,  0.45223532,  0.76216952,  0.76216952,\n",
       "        0.76216952])"
      ]
     },
     "execution_count": 242,
     "metadata": {},
     "output_type": "execute_result"
    }
   ],
   "source": [
    "medfilt(arr3, kernel_size=3)"
   ]
  },
  {
   "cell_type": "code",
   "execution_count": 261,
   "metadata": {},
   "outputs": [
    {
     "name": "stdout",
     "output_type": "stream",
     "text": [
      "\u001b[0;31mSignature:\u001b[0m \u001b[0mmedfilt\u001b[0m\u001b[0;34m(\u001b[0m\u001b[0mvolume\u001b[0m\u001b[0;34m,\u001b[0m \u001b[0mkernel_size\u001b[0m\u001b[0;34m=\u001b[0m\u001b[0;32mNone\u001b[0m\u001b[0;34m)\u001b[0m\u001b[0;34m\u001b[0m\u001b[0;34m\u001b[0m\u001b[0m\n",
      "\u001b[0;31mDocstring:\u001b[0m\n",
      "Perform a median filter on an N-dimensional array.\n",
      "\n",
      "Apply a median filter to the input array using a local window-size\n",
      "given by `kernel_size`. The array will automatically be zero-padded.\n",
      "\n",
      "Parameters\n",
      "----------\n",
      "volume : array_like\n",
      "    An N-dimensional input array.\n",
      "kernel_size : array_like, optional\n",
      "    A scalar or an N-length list giving the size of the median filter\n",
      "    window in each dimension.  Elements of `kernel_size` should be odd.\n",
      "    If `kernel_size` is a scalar, then this scalar is used as the size in\n",
      "    each dimension. Default size is 3 for each dimension.\n",
      "\n",
      "Returns\n",
      "-------\n",
      "out : ndarray\n",
      "    An array the same size as input containing the median filtered\n",
      "    result.\n",
      "\n",
      "Warns\n",
      "-----\n",
      "UserWarning\n",
      "    If array size is smaller than kernel size along any dimension\n",
      "\n",
      "See Also\n",
      "--------\n",
      "scipy.ndimage.median_filter\n",
      "scipy.signal.medfilt2d\n",
      "\n",
      "Notes\n",
      "-----\n",
      "The more general function `scipy.ndimage.median_filter` has a more\n",
      "efficient implementation of a median filter and therefore runs much faster.\n",
      "\n",
      "For 2-dimensional images with ``uint8``, ``float32`` or ``float64`` dtypes,\n",
      "the specialised function `scipy.signal.medfilt2d` may be faster.\n",
      "\u001b[0;31mFile:\u001b[0m      ~/Library/Caches/pypoetry/virtualenvs/pyplier-JrjK94hZ-py3.8/lib/python3.8/site-packages/scipy/signal/signaltools.py\n",
      "\u001b[0;31mType:\u001b[0m      function\n"
     ]
    }
   ],
   "source": [
    "?medfilt"
   ]
  },
  {
   "cell_type": "code",
   "execution_count": 244,
   "metadata": {},
   "outputs": [],
   "source": [
    "from scipy.ndimage import median_filter"
   ]
  },
  {
   "cell_type": "code",
   "execution_count": 260,
   "metadata": {},
   "outputs": [
    {
     "data": {
      "text/plain": [
       "array([ 1.0893006 ,  1.0893006 , -0.64512424,  0.09794187,  0.09794187,\n",
       "        0.09794187,  0.11435058, -0.38533662,  0.15755211,  0.15755211,\n",
       "        0.15755211,  0.53727393,  0.49302913,  0.49302913, -0.51641071,\n",
       "       -0.51641071, -0.47137645, -0.47137645,  1.00054161, -0.56071934,\n",
       "        0.00211691, -0.14282725,  0.00211691, -0.14282725,  0.3101186 ,\n",
       "        0.09831615,  0.3101186 ,  1.26837509,  1.26837509,  0.66519298,\n",
       "        0.66519298,  0.66519298, -0.28475521, -0.28475521, -0.28475521,\n",
       "       -0.68268507, -1.21125218, -1.21125218,  0.23588494,  0.23588494,\n",
       "        0.23588494,  0.45223532,  0.45223532,  0.76216952,  0.76216952,\n",
       "        0.7831308 ])"
      ]
     },
     "execution_count": 260,
     "metadata": {},
     "output_type": "execute_result"
    }
   ],
   "source": [
    "median_filter(arr3, size=3, mode=\"nearest\")"
   ]
  },
  {
   "cell_type": "code",
   "execution_count": 254,
   "metadata": {},
   "outputs": [
    {
     "name": "stdout",
     "output_type": "stream",
     "text": [
      "\u001b[0;31mSignature:\u001b[0m\n",
      "\u001b[0mmedian_filter\u001b[0m\u001b[0;34m(\u001b[0m\u001b[0;34m\u001b[0m\n",
      "\u001b[0;34m\u001b[0m    \u001b[0minput\u001b[0m\u001b[0;34m,\u001b[0m\u001b[0;34m\u001b[0m\n",
      "\u001b[0;34m\u001b[0m    \u001b[0msize\u001b[0m\u001b[0;34m=\u001b[0m\u001b[0;32mNone\u001b[0m\u001b[0;34m,\u001b[0m\u001b[0;34m\u001b[0m\n",
      "\u001b[0;34m\u001b[0m    \u001b[0mfootprint\u001b[0m\u001b[0;34m=\u001b[0m\u001b[0;32mNone\u001b[0m\u001b[0;34m,\u001b[0m\u001b[0;34m\u001b[0m\n",
      "\u001b[0;34m\u001b[0m    \u001b[0moutput\u001b[0m\u001b[0;34m=\u001b[0m\u001b[0;32mNone\u001b[0m\u001b[0;34m,\u001b[0m\u001b[0;34m\u001b[0m\n",
      "\u001b[0;34m\u001b[0m    \u001b[0mmode\u001b[0m\u001b[0;34m=\u001b[0m\u001b[0;34m'reflect'\u001b[0m\u001b[0;34m,\u001b[0m\u001b[0;34m\u001b[0m\n",
      "\u001b[0;34m\u001b[0m    \u001b[0mcval\u001b[0m\u001b[0;34m=\u001b[0m\u001b[0;36m0.0\u001b[0m\u001b[0;34m,\u001b[0m\u001b[0;34m\u001b[0m\n",
      "\u001b[0;34m\u001b[0m    \u001b[0morigin\u001b[0m\u001b[0;34m=\u001b[0m\u001b[0;36m0\u001b[0m\u001b[0;34m,\u001b[0m\u001b[0;34m\u001b[0m\n",
      "\u001b[0;34m\u001b[0m\u001b[0;34m)\u001b[0m\u001b[0;34m\u001b[0m\u001b[0;34m\u001b[0m\u001b[0m\n",
      "\u001b[0;31mDocstring:\u001b[0m\n",
      "Calculate a multidimensional median filter.\n",
      "\n",
      "Parameters\n",
      "----------\n",
      "input : array_like\n",
      "    The input array.\n",
      "size : scalar or tuple, optional\n",
      "    See footprint, below. Ignored if footprint is given.\n",
      "footprint : array, optional\n",
      "    Either `size` or `footprint` must be defined. `size` gives\n",
      "    the shape that is taken from the input array, at every element\n",
      "    position, to define the input to the filter function.\n",
      "    `footprint` is a boolean array that specifies (implicitly) a\n",
      "    shape, but also which of the elements within this shape will get\n",
      "    passed to the filter function. Thus ``size=(n,m)`` is equivalent\n",
      "    to ``footprint=np.ones((n,m))``.  We adjust `size` to the number\n",
      "    of dimensions of the input array, so that, if the input array is\n",
      "    shape (10,10,10), and `size` is 2, then the actual size used is\n",
      "    (2,2,2). When `footprint` is given, `size` is ignored.\n",
      "output : array or dtype, optional\n",
      "    The array in which to place the output, or the dtype of the\n",
      "    returned array. By default an array of the same dtype as input\n",
      "    will be created.\n",
      "mode : {'reflect', 'constant', 'nearest', 'mirror', 'wrap'}, optional\n",
      "    The `mode` parameter determines how the input array is extended\n",
      "    beyond its boundaries. Default is 'reflect'. Behavior for each valid\n",
      "    value is as follows:\n",
      "\n",
      "    'reflect' (`d c b a | a b c d | d c b a`)\n",
      "        The input is extended by reflecting about the edge of the last\n",
      "        pixel. This mode is also sometimes referred to as half-sample\n",
      "        symmetric.\n",
      "\n",
      "    'constant' (`k k k k | a b c d | k k k k`)\n",
      "        The input is extended by filling all values beyond the edge with\n",
      "        the same constant value, defined by the `cval` parameter.\n",
      "\n",
      "    'nearest' (`a a a a | a b c d | d d d d`)\n",
      "        The input is extended by replicating the last pixel.\n",
      "\n",
      "    'mirror' (`d c b | a b c d | c b a`)\n",
      "        The input is extended by reflecting about the center of the last\n",
      "        pixel. This mode is also sometimes referred to as whole-sample\n",
      "        symmetric.\n",
      "\n",
      "    'wrap' (`a b c d | a b c d | a b c d`)\n",
      "        The input is extended by wrapping around to the opposite edge.\n",
      "\n",
      "    For consistency with the interpolation functions, the following mode\n",
      "    names can also be used:\n",
      "\n",
      "    'grid-mirror'\n",
      "        This is a synonym for 'reflect'.\n",
      "\n",
      "    'grid-constant'\n",
      "        This is a synonym for 'constant'.\n",
      "\n",
      "    'grid-wrap'\n",
      "        This is a synonym for 'wrap'.\n",
      "cval : scalar, optional\n",
      "    Value to fill past edges of input if `mode` is 'constant'. Default\n",
      "    is 0.0.\n",
      "origin : int or sequence, optional\n",
      "    Controls the placement of the filter on the input array's pixels.\n",
      "    A value of 0 (the default) centers the filter over the pixel, with\n",
      "    positive values shifting the filter to the left, and negative ones\n",
      "    to the right. By passing a sequence of origins with length equal to\n",
      "    the number of dimensions of the input array, different shifts can\n",
      "    be specified along each axis.\n",
      "\n",
      "Returns\n",
      "-------\n",
      "median_filter : ndarray\n",
      "    Filtered array. Has the same shape as `input`.\n",
      "\n",
      "See also\n",
      "--------\n",
      "scipy.signal.medfilt2d\n",
      "\n",
      "Notes\n",
      "-----\n",
      "For 2-dimensional images with ``uint8``, ``float32`` or ``float64`` dtypes\n",
      "the specialised function `scipy.signal.medfilt2d` may be faster. It is\n",
      "however limited to constant mode with ``cval=0``.\n",
      "\n",
      "Examples\n",
      "--------\n",
      ">>> from scipy import ndimage, misc\n",
      ">>> import matplotlib.pyplot as plt\n",
      ">>> fig = plt.figure()\n",
      ">>> plt.gray()  # show the filtered result in grayscale\n",
      ">>> ax1 = fig.add_subplot(121)  # left side\n",
      ">>> ax2 = fig.add_subplot(122)  # right side\n",
      ">>> ascent = misc.ascent()\n",
      ">>> result = ndimage.median_filter(ascent, size=20)\n",
      ">>> ax1.imshow(ascent)\n",
      ">>> ax2.imshow(result)\n",
      ">>> plt.show()\n",
      "\u001b[0;31mFile:\u001b[0m      ~/Library/Caches/pypoetry/virtualenvs/pyplier-JrjK94hZ-py3.8/lib/python3.8/site-packages/scipy/ndimage/filters.py\n",
      "\u001b[0;31mType:\u001b[0m      function\n"
     ]
    }
   ],
   "source": [
    "?median_filter"
   ]
  },
  {
   "cell_type": "code",
   "execution_count": 263,
   "metadata": {},
   "outputs": [
    {
     "data": {
      "text/plain": [
       "array([-0.4084414,  1.7116934, -0.4285055, -0.4579172,  0.27381  ,\n",
       "        1.410448 ])"
      ]
     },
     "execution_count": 263,
     "metadata": {},
     "output_type": "execute_result"
    }
   ],
   "source": [
    "arr2"
   ]
  },
  {
   "cell_type": "code",
   "execution_count": 269,
   "metadata": {},
   "outputs": [],
   "source": [
    "def mutateList(x):\n",
    "    for i,j in enumerate(x):\n",
    "        x[i] += 1\n",
    "    return True"
   ]
  },
  {
   "cell_type": "code",
   "execution_count": 270,
   "metadata": {},
   "outputs": [
    {
     "data": {
      "text/plain": [
       "True"
      ]
     },
     "execution_count": 270,
     "metadata": {},
     "output_type": "execute_result"
    }
   ],
   "source": [
    "larr = list(arr2)\n",
    "mutateList(larr)"
   ]
  },
  {
   "cell_type": "code",
   "execution_count": 271,
   "metadata": {},
   "outputs": [
    {
     "data": {
      "text/plain": [
       "[-0.4084414, 1.7116934, -0.4285055, -0.4579172, 0.27381, 1.410448]"
      ]
     },
     "execution_count": 271,
     "metadata": {},
     "output_type": "execute_result"
    }
   ],
   "source": [
    "list(arr2)"
   ]
  },
  {
   "cell_type": "code",
   "execution_count": 272,
   "metadata": {},
   "outputs": [
    {
     "data": {
      "text/plain": [
       "[0.5915585999999999,\n",
       " 2.7116933999999997,\n",
       " 0.5714945,\n",
       " 0.5420828,\n",
       " 1.27381,\n",
       " 2.4104479999999997]"
      ]
     },
     "execution_count": 272,
     "metadata": {},
     "output_type": "execute_result"
    }
   ],
   "source": [
    "larr"
   ]
  }
 ],
 "metadata": {
  "interpreter": {
   "hash": "d81f620fad9130b0395d83ff6435b1bc156693a686ad43def1a151e17af86512"
  },
  "kernelspec": {
   "display_name": "Python 3 (ipykernel)",
   "language": "python",
   "name": "python3"
  },
  "language_info": {
   "codemirror_mode": {
    "name": "ipython",
    "version": 3
   },
   "file_extension": ".py",
   "mimetype": "text/x-python",
   "name": "python",
   "nbconvert_exporter": "python",
   "pygments_lexer": "ipython3",
   "version": "3.9.9"
  }
 },
 "nbformat": 4,
 "nbformat_minor": 4
}
