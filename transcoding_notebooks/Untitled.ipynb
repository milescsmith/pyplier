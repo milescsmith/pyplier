{
 "cells": [
  {
   "cell_type": "code",
   "execution_count": 1,
   "id": "dd534d10-7fe0-43e8-9493-4dda890405f6",
   "metadata": {
    "tags": []
   },
   "outputs": [],
   "source": [
    "import numpy as np\n",
    "import pandas as pd\n",
    "from pathlib import Path"
   ]
  },
  {
   "cell_type": "code",
   "execution_count": 2,
   "id": "41c75cba-6570-44f4-bfb6-df3426c7072a",
   "metadata": {},
   "outputs": [],
   "source": [
    "dataPath = Path.cwd().parent / \"tests\" / \"data\"\n",
    "\n",
    "plierRes_b = pd.read_csv(filepath_or_buffer=dataPath.joinpath(\"common\", \"plierRes_b.csv\"), index_col=0)\n",
    "plierRes_c = pd.read_csv(filepath_or_buffer=dataPath.joinpath(\"common\", \"plierRes_c.csv\"), index_col=0)\n",
    "plierRes_residual = pd.read_csv(filepath_or_buffer=dataPath.joinpath(\"common\", \"plierRes_residual.csv\"), index_col=0)\n",
    "plierRes_u = pd.read_csv(filepath_or_buffer=dataPath.joinpath(\"common\", \"plierRes_u.csv\"), index_col=0)\n",
    "plierRes_z = pd.read_csv(filepath_or_buffer=dataPath.joinpath(\"common\", \"plierRes_z.csv\"), index_col=0)\n",
    "heldOutGenes = pd.read_csv(filepath_or_buffer=dataPath.joinpath(\"common\", \"plierRes_heldoutgenes.csv\"), index_col=0)\n",
    "\n",
    "plierRes_uauc = pd.read_csv(filepath_or_buffer=dataPath.joinpath( \"common\", \"plierRes_uauc.csv\"), index_col=0)\n",
    "plierRes_up = pd.read_csv(filepath_or_buffer=dataPath.joinpath(\"common\", \"plierRes_up.csv\"), index_col=0)\n",
    "plierRes_summary = pd.read_csv(filepath_or_buffer=dataPath.joinpath(\"common\", \"plierRes_summary.csv\"), index_col=0)\n",
    "\n",
    "priorMat = pd.read_csv(filepath_or_buffer=dataPath.joinpath(\"common\", \"plierRes_priormat.csv\"), index_col=0)\n",
    "priorMatCV = pd.read_csv(filepath_or_buffer=dataPath.joinpath(\"common\", \"plierRes_priormatcv.csv\"), index_col=0)\n",
    "\n",
    "L1 = 18.43058\n",
    "L2 = 36.86117\n",
    "L3 = 0.0004307425\n",
    "withPrior = {\n",
    "    \"LV1\": 1, \"LV2\": 2, \"LV3\": 3, \"LV4\": 4, \"LV5\": 5, \"LV6\": 6, \"LV7\": 7,\n",
    "    \"LV8\": 8, \"LV9\": 9, \"LV10\": 10, \"LV11\": 11, \"LV14\": 14, \"LV15\": 15,\n",
    "    \"LV18\": 18, \"LV20\": 20, \"LV23\": 23, \"LV24\": 24, \"LV26\": 26,\n",
    "    \"LV27\": 27, \"LV29\": 29, \"LV30\": 30\n",
    "}\n",
    "\n",
    "plierRes = {\n",
    "    \"B\": plierRes_b,\n",
    "    \"C\": plierRes_c,\n",
    "    \"residual\": plierRes_residual,\n",
    "    \"U\": plierRes_u,\n",
    "    \"Z\": plierRes_z,\n",
    "    \"Uauc\": plierRes_uauc,\n",
    "    \"Up\": plierRes_up,\n",
    "    \"summary\": plierRes_summary,\n",
    "    \"withPrior\": withPrior,\n",
    "    \"heldOutGenes\": {k: g[\"value\"].tolist() for k, g in heldOutGenes.groupby(\"name\")},\n",
    "    \"L1\": L1,\n",
    "    \"L2\": L2,\n",
    "    \"L3\": L3,\n",
    "}"
   ]
  },
  {
   "cell_type": "code",
   "execution_count": 3,
   "id": "c66938d6-064f-4e3e-9fd4-08cf790a7ffb",
   "metadata": {},
   "outputs": [],
   "source": [
    "top: int = 1\n",
    "fdr_cutoff: float = 0.01\n",
    "use: str = None"
   ]
  },
  {
   "cell_type": "code",
   "execution_count": 4,
   "id": "63e3624f-f1ad-46d9-b190-f3b2bf977401",
   "metadata": {},
   "outputs": [],
   "source": [
    "if use is None:\n",
    "    use = \"coef\"\n",
    "elif use not in (\"coef\", \"AUC\"):\n",
    "    raise ValueError(\"only 'coef' and 'AUC' are the only valid options for the 'use' argument\")"
   ]
  },
  {
   "cell_type": "code",
   "execution_count": 5,
   "id": "cf6b7ecc-7a8b-42d2-ad3d-890419165bc8",
   "metadata": {},
   "outputs": [],
   "source": [
    "names = list()\n",
    "\n",
    "if use == \"coef\":\n",
    "    Uuse = plierRes[\"U\"].copy(deep=True)\n",
    "else:\n",
    "    Uuse = plierRes[\"Uauc\"].copy(deep=True)\n",
    "\n",
    "if plierRes[\"Up\"] is not None:\n",
    "    pval_cutoff = max(plierRes[\"summary\"].loc[plierRes[\"summary\"][\"FDR\"] < fdr_cutoff, \"p-value\"])\n",
    "    Uuse[plierRes[\"Up\"] > pval_cutoff] = 0\n",
    "else:\n",
    "    print(\"No p-values in PLIER object: using coefficients only\")"
   ]
  },
  {
   "cell_type": "code",
   "execution_count": 6,
   "id": "7031fa1a-9f90-4596-9e6c-417131ecbb83",
   "metadata": {},
   "outputs": [
    {
     "data": {
      "text/plain": [
       "0.005872014916454"
      ]
     },
     "execution_count": 6,
     "metadata": {},
     "output_type": "execute_result"
    }
   ],
   "source": [
    "pval_cutoff"
   ]
  },
  {
   "cell_type": "code",
   "execution_count": 7,
   "id": "38de6235-2548-416f-a210-0dd1aff0f774",
   "metadata": {},
   "outputs": [
    {
     "data": {
      "text/html": [
       "<div>\n",
       "<style scoped>\n",
       "    .dataframe tbody tr th:only-of-type {\n",
       "        vertical-align: middle;\n",
       "    }\n",
       "\n",
       "    .dataframe tbody tr th {\n",
       "        vertical-align: top;\n",
       "    }\n",
       "\n",
       "    .dataframe thead th {\n",
       "        text-align: right;\n",
       "    }\n",
       "</style>\n",
       "<table border=\"1\" class=\"dataframe\">\n",
       "  <thead>\n",
       "    <tr style=\"text-align: right;\">\n",
       "      <th></th>\n",
       "      <th>LV1</th>\n",
       "      <th>LV2</th>\n",
       "      <th>LV3</th>\n",
       "      <th>LV4</th>\n",
       "      <th>LV5</th>\n",
       "      <th>LV6</th>\n",
       "      <th>LV7</th>\n",
       "      <th>LV8</th>\n",
       "      <th>LV9</th>\n",
       "      <th>LV10</th>\n",
       "      <th>...</th>\n",
       "      <th>LV21</th>\n",
       "      <th>LV22</th>\n",
       "      <th>LV23</th>\n",
       "      <th>LV24</th>\n",
       "      <th>LV25</th>\n",
       "      <th>LV26</th>\n",
       "      <th>LV27</th>\n",
       "      <th>LV28</th>\n",
       "      <th>LV29</th>\n",
       "      <th>LV30</th>\n",
       "    </tr>\n",
       "  </thead>\n",
       "  <tbody>\n",
       "    <tr>\n",
       "      <th>IRIS_Bcell-Memory_IgG_IgA</th>\n",
       "      <td>1.0</td>\n",
       "      <td>1.0</td>\n",
       "      <td>1.0</td>\n",
       "      <td>1.0</td>\n",
       "      <td>1.0</td>\n",
       "      <td>1.000000</td>\n",
       "      <td>1.0</td>\n",
       "      <td>1.0</td>\n",
       "      <td>1.0</td>\n",
       "      <td>1.0</td>\n",
       "      <td>...</td>\n",
       "      <td>1</td>\n",
       "      <td>1</td>\n",
       "      <td>1.0</td>\n",
       "      <td>1.0</td>\n",
       "      <td>1</td>\n",
       "      <td>1.0</td>\n",
       "      <td>1.0</td>\n",
       "      <td>1</td>\n",
       "      <td>1.0</td>\n",
       "      <td>1.0</td>\n",
       "    </tr>\n",
       "    <tr>\n",
       "      <th>IRIS_Bcell-Memory_IgM</th>\n",
       "      <td>1.0</td>\n",
       "      <td>1.0</td>\n",
       "      <td>1.0</td>\n",
       "      <td>1.0</td>\n",
       "      <td>1.0</td>\n",
       "      <td>1.000000</td>\n",
       "      <td>1.0</td>\n",
       "      <td>1.0</td>\n",
       "      <td>1.0</td>\n",
       "      <td>1.0</td>\n",
       "      <td>...</td>\n",
       "      <td>1</td>\n",
       "      <td>1</td>\n",
       "      <td>1.0</td>\n",
       "      <td>1.0</td>\n",
       "      <td>1</td>\n",
       "      <td>1.0</td>\n",
       "      <td>1.0</td>\n",
       "      <td>1</td>\n",
       "      <td>1.0</td>\n",
       "      <td>1.0</td>\n",
       "    </tr>\n",
       "    <tr>\n",
       "      <th>IRIS_Bcell-naive</th>\n",
       "      <td>1.0</td>\n",
       "      <td>1.0</td>\n",
       "      <td>1.0</td>\n",
       "      <td>1.0</td>\n",
       "      <td>1.0</td>\n",
       "      <td>1.000000</td>\n",
       "      <td>1.0</td>\n",
       "      <td>1.0</td>\n",
       "      <td>1.0</td>\n",
       "      <td>1.0</td>\n",
       "      <td>...</td>\n",
       "      <td>1</td>\n",
       "      <td>1</td>\n",
       "      <td>1.0</td>\n",
       "      <td>1.0</td>\n",
       "      <td>1</td>\n",
       "      <td>1.0</td>\n",
       "      <td>1.0</td>\n",
       "      <td>1</td>\n",
       "      <td>1.0</td>\n",
       "      <td>1.0</td>\n",
       "    </tr>\n",
       "    <tr>\n",
       "      <th>IRIS_CD4Tcell-N0</th>\n",
       "      <td>1.0</td>\n",
       "      <td>1.0</td>\n",
       "      <td>1.0</td>\n",
       "      <td>1.0</td>\n",
       "      <td>1.0</td>\n",
       "      <td>0.000006</td>\n",
       "      <td>1.0</td>\n",
       "      <td>1.0</td>\n",
       "      <td>1.0</td>\n",
       "      <td>1.0</td>\n",
       "      <td>...</td>\n",
       "      <td>1</td>\n",
       "      <td>1</td>\n",
       "      <td>1.0</td>\n",
       "      <td>1.0</td>\n",
       "      <td>1</td>\n",
       "      <td>1.0</td>\n",
       "      <td>1.0</td>\n",
       "      <td>1</td>\n",
       "      <td>1.0</td>\n",
       "      <td>1.0</td>\n",
       "    </tr>\n",
       "    <tr>\n",
       "      <th>IRIS_CD4Tcell-Th1-restimulated12hour</th>\n",
       "      <td>1.0</td>\n",
       "      <td>1.0</td>\n",
       "      <td>1.0</td>\n",
       "      <td>1.0</td>\n",
       "      <td>1.0</td>\n",
       "      <td>1.000000</td>\n",
       "      <td>1.0</td>\n",
       "      <td>1.0</td>\n",
       "      <td>1.0</td>\n",
       "      <td>1.0</td>\n",
       "      <td>...</td>\n",
       "      <td>1</td>\n",
       "      <td>1</td>\n",
       "      <td>1.0</td>\n",
       "      <td>1.0</td>\n",
       "      <td>1</td>\n",
       "      <td>1.0</td>\n",
       "      <td>1.0</td>\n",
       "      <td>1</td>\n",
       "      <td>1.0</td>\n",
       "      <td>1.0</td>\n",
       "    </tr>\n",
       "    <tr>\n",
       "      <th>...</th>\n",
       "      <td>...</td>\n",
       "      <td>...</td>\n",
       "      <td>...</td>\n",
       "      <td>...</td>\n",
       "      <td>...</td>\n",
       "      <td>...</td>\n",
       "      <td>...</td>\n",
       "      <td>...</td>\n",
       "      <td>...</td>\n",
       "      <td>...</td>\n",
       "      <td>...</td>\n",
       "      <td>...</td>\n",
       "      <td>...</td>\n",
       "      <td>...</td>\n",
       "      <td>...</td>\n",
       "      <td>...</td>\n",
       "      <td>...</td>\n",
       "      <td>...</td>\n",
       "      <td>...</td>\n",
       "      <td>...</td>\n",
       "      <td>...</td>\n",
       "    </tr>\n",
       "    <tr>\n",
       "      <th>PID_IL4_2PATHWAY</th>\n",
       "      <td>1.0</td>\n",
       "      <td>1.0</td>\n",
       "      <td>1.0</td>\n",
       "      <td>1.0</td>\n",
       "      <td>1.0</td>\n",
       "      <td>1.000000</td>\n",
       "      <td>1.0</td>\n",
       "      <td>1.0</td>\n",
       "      <td>1.0</td>\n",
       "      <td>1.0</td>\n",
       "      <td>...</td>\n",
       "      <td>1</td>\n",
       "      <td>1</td>\n",
       "      <td>1.0</td>\n",
       "      <td>1.0</td>\n",
       "      <td>1</td>\n",
       "      <td>1.0</td>\n",
       "      <td>1.0</td>\n",
       "      <td>1</td>\n",
       "      <td>1.0</td>\n",
       "      <td>1.0</td>\n",
       "    </tr>\n",
       "    <tr>\n",
       "      <th>REACTOME_SIGNALING_BY_THE_B_CELL_RECEPTOR_BCR</th>\n",
       "      <td>1.0</td>\n",
       "      <td>1.0</td>\n",
       "      <td>1.0</td>\n",
       "      <td>1.0</td>\n",
       "      <td>1.0</td>\n",
       "      <td>1.000000</td>\n",
       "      <td>1.0</td>\n",
       "      <td>1.0</td>\n",
       "      <td>1.0</td>\n",
       "      <td>1.0</td>\n",
       "      <td>...</td>\n",
       "      <td>1</td>\n",
       "      <td>1</td>\n",
       "      <td>1.0</td>\n",
       "      <td>1.0</td>\n",
       "      <td>1</td>\n",
       "      <td>1.0</td>\n",
       "      <td>1.0</td>\n",
       "      <td>1</td>\n",
       "      <td>1.0</td>\n",
       "      <td>1.0</td>\n",
       "    </tr>\n",
       "    <tr>\n",
       "      <th>PID_BCR_5PATHWAY</th>\n",
       "      <td>1.0</td>\n",
       "      <td>1.0</td>\n",
       "      <td>1.0</td>\n",
       "      <td>1.0</td>\n",
       "      <td>1.0</td>\n",
       "      <td>1.000000</td>\n",
       "      <td>1.0</td>\n",
       "      <td>1.0</td>\n",
       "      <td>1.0</td>\n",
       "      <td>1.0</td>\n",
       "      <td>...</td>\n",
       "      <td>1</td>\n",
       "      <td>1</td>\n",
       "      <td>1.0</td>\n",
       "      <td>1.0</td>\n",
       "      <td>1</td>\n",
       "      <td>1.0</td>\n",
       "      <td>1.0</td>\n",
       "      <td>1</td>\n",
       "      <td>1.0</td>\n",
       "      <td>1.0</td>\n",
       "    </tr>\n",
       "    <tr>\n",
       "      <th>PID_TELOMERASEPATHWAY</th>\n",
       "      <td>1.0</td>\n",
       "      <td>1.0</td>\n",
       "      <td>1.0</td>\n",
       "      <td>1.0</td>\n",
       "      <td>1.0</td>\n",
       "      <td>1.000000</td>\n",
       "      <td>1.0</td>\n",
       "      <td>1.0</td>\n",
       "      <td>1.0</td>\n",
       "      <td>1.0</td>\n",
       "      <td>...</td>\n",
       "      <td>1</td>\n",
       "      <td>1</td>\n",
       "      <td>1.0</td>\n",
       "      <td>1.0</td>\n",
       "      <td>1</td>\n",
       "      <td>1.0</td>\n",
       "      <td>1.0</td>\n",
       "      <td>1</td>\n",
       "      <td>1.0</td>\n",
       "      <td>1.0</td>\n",
       "    </tr>\n",
       "    <tr>\n",
       "      <th>PID_PI3KPLCTRKPATHWAY</th>\n",
       "      <td>1.0</td>\n",
       "      <td>1.0</td>\n",
       "      <td>1.0</td>\n",
       "      <td>1.0</td>\n",
       "      <td>1.0</td>\n",
       "      <td>1.000000</td>\n",
       "      <td>1.0</td>\n",
       "      <td>1.0</td>\n",
       "      <td>1.0</td>\n",
       "      <td>1.0</td>\n",
       "      <td>...</td>\n",
       "      <td>1</td>\n",
       "      <td>1</td>\n",
       "      <td>1.0</td>\n",
       "      <td>1.0</td>\n",
       "      <td>1</td>\n",
       "      <td>1.0</td>\n",
       "      <td>1.0</td>\n",
       "      <td>1</td>\n",
       "      <td>1.0</td>\n",
       "      <td>1.0</td>\n",
       "    </tr>\n",
       "  </tbody>\n",
       "</table>\n",
       "<p>606 rows × 30 columns</p>\n",
       "</div>"
      ],
      "text/plain": [
       "                                               LV1  LV2  LV3  LV4  LV5  \\\n",
       "IRIS_Bcell-Memory_IgG_IgA                      1.0  1.0  1.0  1.0  1.0   \n",
       "IRIS_Bcell-Memory_IgM                          1.0  1.0  1.0  1.0  1.0   \n",
       "IRIS_Bcell-naive                               1.0  1.0  1.0  1.0  1.0   \n",
       "IRIS_CD4Tcell-N0                               1.0  1.0  1.0  1.0  1.0   \n",
       "IRIS_CD4Tcell-Th1-restimulated12hour           1.0  1.0  1.0  1.0  1.0   \n",
       "...                                            ...  ...  ...  ...  ...   \n",
       "PID_IL4_2PATHWAY                               1.0  1.0  1.0  1.0  1.0   \n",
       "REACTOME_SIGNALING_BY_THE_B_CELL_RECEPTOR_BCR  1.0  1.0  1.0  1.0  1.0   \n",
       "PID_BCR_5PATHWAY                               1.0  1.0  1.0  1.0  1.0   \n",
       "PID_TELOMERASEPATHWAY                          1.0  1.0  1.0  1.0  1.0   \n",
       "PID_PI3KPLCTRKPATHWAY                          1.0  1.0  1.0  1.0  1.0   \n",
       "\n",
       "                                                    LV6  LV7  LV8  LV9  LV10  \\\n",
       "IRIS_Bcell-Memory_IgG_IgA                      1.000000  1.0  1.0  1.0   1.0   \n",
       "IRIS_Bcell-Memory_IgM                          1.000000  1.0  1.0  1.0   1.0   \n",
       "IRIS_Bcell-naive                               1.000000  1.0  1.0  1.0   1.0   \n",
       "IRIS_CD4Tcell-N0                               0.000006  1.0  1.0  1.0   1.0   \n",
       "IRIS_CD4Tcell-Th1-restimulated12hour           1.000000  1.0  1.0  1.0   1.0   \n",
       "...                                                 ...  ...  ...  ...   ...   \n",
       "PID_IL4_2PATHWAY                               1.000000  1.0  1.0  1.0   1.0   \n",
       "REACTOME_SIGNALING_BY_THE_B_CELL_RECEPTOR_BCR  1.000000  1.0  1.0  1.0   1.0   \n",
       "PID_BCR_5PATHWAY                               1.000000  1.0  1.0  1.0   1.0   \n",
       "PID_TELOMERASEPATHWAY                          1.000000  1.0  1.0  1.0   1.0   \n",
       "PID_PI3KPLCTRKPATHWAY                          1.000000  1.0  1.0  1.0   1.0   \n",
       "\n",
       "                                               ...  LV21  LV22  LV23  LV24  \\\n",
       "IRIS_Bcell-Memory_IgG_IgA                      ...     1     1   1.0   1.0   \n",
       "IRIS_Bcell-Memory_IgM                          ...     1     1   1.0   1.0   \n",
       "IRIS_Bcell-naive                               ...     1     1   1.0   1.0   \n",
       "IRIS_CD4Tcell-N0                               ...     1     1   1.0   1.0   \n",
       "IRIS_CD4Tcell-Th1-restimulated12hour           ...     1     1   1.0   1.0   \n",
       "...                                            ...   ...   ...   ...   ...   \n",
       "PID_IL4_2PATHWAY                               ...     1     1   1.0   1.0   \n",
       "REACTOME_SIGNALING_BY_THE_B_CELL_RECEPTOR_BCR  ...     1     1   1.0   1.0   \n",
       "PID_BCR_5PATHWAY                               ...     1     1   1.0   1.0   \n",
       "PID_TELOMERASEPATHWAY                          ...     1     1   1.0   1.0   \n",
       "PID_PI3KPLCTRKPATHWAY                          ...     1     1   1.0   1.0   \n",
       "\n",
       "                                               LV25  LV26  LV27  LV28  LV29  \\\n",
       "IRIS_Bcell-Memory_IgG_IgA                         1   1.0   1.0     1   1.0   \n",
       "IRIS_Bcell-Memory_IgM                             1   1.0   1.0     1   1.0   \n",
       "IRIS_Bcell-naive                                  1   1.0   1.0     1   1.0   \n",
       "IRIS_CD4Tcell-N0                                  1   1.0   1.0     1   1.0   \n",
       "IRIS_CD4Tcell-Th1-restimulated12hour              1   1.0   1.0     1   1.0   \n",
       "...                                             ...   ...   ...   ...   ...   \n",
       "PID_IL4_2PATHWAY                                  1   1.0   1.0     1   1.0   \n",
       "REACTOME_SIGNALING_BY_THE_B_CELL_RECEPTOR_BCR     1   1.0   1.0     1   1.0   \n",
       "PID_BCR_5PATHWAY                                  1   1.0   1.0     1   1.0   \n",
       "PID_TELOMERASEPATHWAY                             1   1.0   1.0     1   1.0   \n",
       "PID_PI3KPLCTRKPATHWAY                             1   1.0   1.0     1   1.0   \n",
       "\n",
       "                                               LV30  \n",
       "IRIS_Bcell-Memory_IgG_IgA                       1.0  \n",
       "IRIS_Bcell-Memory_IgM                           1.0  \n",
       "IRIS_Bcell-naive                                1.0  \n",
       "IRIS_CD4Tcell-N0                                1.0  \n",
       "IRIS_CD4Tcell-Th1-restimulated12hour            1.0  \n",
       "...                                             ...  \n",
       "PID_IL4_2PATHWAY                                1.0  \n",
       "REACTOME_SIGNALING_BY_THE_B_CELL_RECEPTOR_BCR   1.0  \n",
       "PID_BCR_5PATHWAY                                1.0  \n",
       "PID_TELOMERASEPATHWAY                           1.0  \n",
       "PID_PI3KPLCTRKPATHWAY                           1.0  \n",
       "\n",
       "[606 rows x 30 columns]"
      ]
     },
     "execution_count": 7,
     "metadata": {},
     "output_type": "execute_result"
    }
   ],
   "source": [
    "plierRes[\"Up\"]"
   ]
  },
  {
   "cell_type": "code",
   "execution_count": 8,
   "id": "10fc87cc-42fb-4fd8-8e46-2ce86aef13ee",
   "metadata": {},
   "outputs": [
    {
     "data": {
      "text/plain": [
       "0.0"
      ]
     },
     "execution_count": 8,
     "metadata": {},
     "output_type": "execute_result"
    }
   ],
   "source": [
    "max(Uuse.loc[:,\"LV3\"])"
   ]
  },
  {
   "cell_type": "code",
   "execution_count": 9,
   "id": "ac62a452-b728-45de-8bbc-c4c8903c7509",
   "metadata": {},
   "outputs": [
    {
     "data": {
      "text/plain": [
       "0.0174877392318942"
      ]
     },
     "execution_count": 9,
     "metadata": {},
     "output_type": "execute_result"
    }
   ],
   "source": [
    "max(plierRes[\"U\"].loc[:,\"LV3\"])"
   ]
  },
  {
   "cell_type": "code",
   "execution_count": 10,
   "id": "462bc88d-0215-4ea1-a3ac-b0de78ede6c2",
   "metadata": {},
   "outputs": [],
   "source": [
    "mm = Uuse.apply(func = np.max, axis = 0)"
   ]
  },
  {
   "cell_type": "code",
   "execution_count": 11,
   "id": "819183f1-248f-42df-80cb-4e9f4e1d20ca",
   "metadata": {},
   "outputs": [],
   "source": [
    "for i in range(plierRes[\"U\"].shape[1]):\n",
    "    if mm[i] > 0:\n",
    "        names.append(f\"{i+1},\" + \",\".join(Uuse.iloc[:,i].sort_values(ascending=False).where(lambda x: x > 0).index[0:top]))\n",
    "        # this should give us something like \"LV1,REACTOME_GENERIC_TRANSCRIPTION_PATHWAY\"\n",
    "        # this also will only return pathways with some correlation - if there is 0, it will get dropped and the\n",
    "        # [0:top] is ignored, grabbing just as much as it can\n",
    "    elif max(plierRes[\"U\"].iloc[:, i]) > 0:\n",
    "        names.append(f\"{i+1},\" + \",\".join(plierRes[\"U\"].iloc[:,i].sort_values(ascending=False).where(lambda x: x > 0).index[0:top]))\n",
    "    else:\n",
    "        names.append(f\"LV {i+1}\")"
   ]
  },
  {
   "cell_type": "code",
   "execution_count": 14,
   "id": "f91cf735-0495-4916-8aa3-3d90df66c9fc",
   "metadata": {},
   "outputs": [],
   "source": [
    "from copy import deepcopy"
   ]
  },
  {
   "cell_type": "code",
   "execution_count": 12,
   "id": "828d686c-10c6-49d3-a29f-14fd7f257c58",
   "metadata": {},
   "outputs": [
    {
     "data": {
      "text/plain": [
       "LV1     0.038920\n",
       "LV2     0.298236\n",
       "LV3     0.000000\n",
       "LV4     0.000000\n",
       "LV5     0.160069\n",
       "LV6     0.155873\n",
       "LV7     0.028599\n",
       "LV8     0.236176\n",
       "LV9     0.140063\n",
       "LV10    0.008435\n",
       "LV11    0.145258\n",
       "LV12    0.000000\n",
       "LV13    0.000000\n",
       "LV14    0.136738\n",
       "LV15    0.203218\n",
       "LV16    0.000000\n",
       "LV17    0.000000\n",
       "LV18    0.010834\n",
       "LV19    0.000000\n",
       "LV20    0.337195\n",
       "LV21    0.000000\n",
       "LV22    0.000000\n",
       "LV23    0.161855\n",
       "LV24    0.000000\n",
       "LV25    0.000000\n",
       "LV26    0.123742\n",
       "LV27    0.227063\n",
       "LV28    0.000000\n",
       "LV29    0.001722\n",
       "LV30    0.145989\n",
       "dtype: float64"
      ]
     },
     "execution_count": 12,
     "metadata": {},
     "output_type": "execute_result"
    }
   ],
   "source": [
    "mm"
   ]
  },
  {
   "cell_type": "code",
   "execution_count": 13,
   "id": "6319e05a-0cf7-45d8-8ba5-804e5bc13707",
   "metadata": {},
   "outputs": [
    {
     "data": {
      "text/plain": [
       "['1,REACTOME_GENERIC_TRANSCRIPTION_PATHWAY',\n",
       " '2,IRIS_Neutrophil-Resting',\n",
       " '3,MIPS_SPLICEOSOME',\n",
       " '4,REACTOME_GENERIC_TRANSCRIPTION_PATHWAY',\n",
       " '5,IRIS_Monocyte-Day0',\n",
       " '6,DMAP_TCELLA6',\n",
       " '7,REACTOME_PROCESSING_OF_CAPPED_INTRON_CONTAINING_PRE_MRNA',\n",
       " '8,IRIS_PlasmaCell-FromPBMC',\n",
       " '9,DMAP_NKA2',\n",
       " '10,IRIS_Neutrophil-Resting',\n",
       " '11,DMAP_ERY3',\n",
       " 'LV 12',\n",
       " 'LV 13',\n",
       " '14,DMAP_TCELLA1',\n",
       " '15,IRIS_Bcell-naive',\n",
       " 'LV 16',\n",
       " 'LV 17',\n",
       " '18,IRIS_Neutrophil-Resting',\n",
       " 'LV 19',\n",
       " '20,DMAP_MEGA2',\n",
       " 'LV 21',\n",
       " 'LV 22',\n",
       " '23,MIPS_55S_RIBOSOME_MITOCHONDRIAL',\n",
       " '24,REACTOME_GENERIC_TRANSCRIPTION_PATHWAY',\n",
       " 'LV 25',\n",
       " '26,DMAP_DENDA1',\n",
       " '27,REACTOME_INTERFERON_ALPHA_BETA_SIGNALING',\n",
       " 'LV 28',\n",
       " '29,REACTOME_GENERIC_TRANSCRIPTION_PATHWAY',\n",
       " '30,REACTOME_PEPTIDE_CHAIN_ELONGATION']"
      ]
     },
     "execution_count": 13,
     "metadata": {},
     "output_type": "execute_result"
    }
   ],
   "source": [
    "names"
   ]
  },
  {
   "cell_type": "code",
   "execution_count": 24,
   "id": "46433f73-1580-4f2c-8afb-0d2cd2ea4d98",
   "metadata": {},
   "outputs": [
    {
     "data": {
      "text/plain": [
       "1"
      ]
     },
     "execution_count": 24,
     "metadata": {},
     "output_type": "execute_result"
    }
   ],
   "source": [
    "top"
   ]
  },
  {
   "cell_type": "code",
   "execution_count": 39,
   "id": "dcb153ee-b23c-49df-b761-1de9bcdd4580",
   "metadata": {},
   "outputs": [],
   "source": [
    "names.append(f\"LV{i+1},\" + \",\".join(Uuse.iloc[:,i].sort_values(ascending=False).where(lambda x: x > 0).index[0:top]))"
   ]
  },
  {
   "cell_type": "code",
   "execution_count": 40,
   "id": "31c0129b-5b0b-45b3-b24d-8b94b66ccc70",
   "metadata": {},
   "outputs": [
    {
     "data": {
      "text/plain": [
       "['LV1,REACTOME_GENERIC_TRANSCRIPTION_PATHWAY']"
      ]
     },
     "execution_count": 40,
     "metadata": {},
     "output_type": "execute_result"
    }
   ],
   "source": [
    "names"
   ]
  },
  {
   "cell_type": "code",
   "execution_count": 33,
   "id": "43edf06a-0539-4e28-90ed-c7d86841c8d8",
   "metadata": {},
   "outputs": [
    {
     "data": {
      "text/plain": [
       "['REACTOME_GENERIC_TRANSCRIPTION_PATHWAY']"
      ]
     },
     "execution_count": 34,
     "metadata": {},
     "output_type": "execute_result"
    }
   ],
   "source": [
    "\",\".join(list(Uuse.iloc[:,i].sort_values(ascending=False).where(lambda x: x > 0).index[0:top])"
   ]
  },
  {
   "cell_type": "code",
   "execution_count": 30,
   "id": "43a06f39-869a-4683-b6c3-5150ab65e470",
   "metadata": {},
   "outputs": [
    {
     "data": {
      "text/plain": [
       "'REACTOME_GENERIC_TRANSCRIPTION_PATHWAY'"
      ]
     },
     "execution_count": 30,
     "metadata": {},
     "output_type": "execute_result"
    }
   ],
   "source": [
    "\",\".join(Uuse.iloc[:,i].sort_values(ascending=False).where(lambda x: x > 0).index[0:top])"
   ]
  }
 ],
 "metadata": {
  "kernelspec": {
   "display_name": "Python 3 (ipykernel)",
   "language": "python",
   "name": "python3"
  },
  "language_info": {
   "codemirror_mode": {
    "name": "ipython",
    "version": 3
   },
   "file_extension": ".py",
   "mimetype": "text/x-python",
   "name": "python",
   "nbconvert_exporter": "python",
   "pygments_lexer": "ipython3",
   "version": "3.9.5"
  }
 },
 "nbformat": 4,
 "nbformat_minor": 5
}
