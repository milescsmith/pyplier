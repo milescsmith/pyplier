{
 "cells": [
  {
   "cell_type": "code",
   "execution_count": 1,
   "id": "5b36581e-8e8d-4f4c-b778-9762f4bc8db2",
   "metadata": {},
   "outputs": [],
   "source": [
    "import numpy as np\n",
    "import pandas as pd\n",
    "import statsmodels.api as sm\n",
    "import matplotlib.pyplot as plt\n",
    "import matplotlib.colors as mcolors\n",
    "import seaborn as sns\n",
    "from rich import print as rp\n",
    "from typing import Optional\n",
    "from pyplier.plier_res import PLIERResults\n",
    "\n",
    "sns.set_theme()\n",
    "%matplotlib inline"
   ]
  },
  {
   "cell_type": "code",
   "execution_count": 2,
   "id": "2db0e312-7233-4fb2-a326-93c4f2547e98",
   "metadata": {},
   "outputs": [],
   "source": [
    "%load_ext autoreload\n",
    "%autoreload 2"
   ]
  },
  {
   "cell_type": "code",
   "execution_count": 3,
   "id": "863451f4-3af3-4986-812f-cc02169e87a6",
   "metadata": {},
   "outputs": [],
   "source": [
    "auc_cutoff: float = 0.6\n",
    "fdr_cutoff: float = 0.05\n",
    "indexCol: Optional[list[str]] = None\n",
    "indexRow: Optional[list[str]] = None\n",
    "top: int = 3\n",
    "sort_row: bool = False"
   ]
  },
  {
   "cell_type": "code",
   "execution_count": 4,
   "id": "7fb774a1-6f7c-4447-8db0-1861955f18cb",
   "metadata": {},
   "outputs": [],
   "source": [
    "plierRes = PLIERResults.from_disk(\n",
    "    \"/Users/milessmith/workspace/pyplier/tests/data/common/plierRes.json.gz\"\n",
    ")"
   ]
  },
  {
   "cell_type": "code",
   "execution_count": 23,
   "id": "9d344bd3-bf9e-49ef-906f-979f9676b7e9",
   "metadata": {},
   "outputs": [
    {
     "data": {
      "text/plain": [
       "1.2335811384723961e-17"
      ]
     },
     "execution_count": 23,
     "metadata": {},
     "output_type": "execute_result"
    }
   ],
   "source": [
    "plierRes.B.iloc[0,:].mean()"
   ]
  },
  {
   "cell_type": "code",
   "execution_count": 25,
   "id": "e2d3f112-2516-45f9-87d5-03ce173617d2",
   "metadata": {},
   "outputs": [],
   "source": [
    "i = 0"
   ]
  },
  {
   "cell_type": "code",
   "execution_count": 365,
   "id": "bf549308-02ab-408d-ac67-cb5ad2451569",
   "metadata": {},
   "outputs": [],
   "source": [
    "Y = pd.read_csv(\"~/workspace/pyplier/tests/data/common/plierRes_y.csv.gz\", index_col=0)\n",
    "Z = pd.read_csv(\"~/workspace/pyplier/tests/data/common/plierRes_z.csv.gz\", index_col=0)\n",
    "B = pd.read_csv(\"~/workspace/pyplier/tests/data/common/plierRes_b.csv.gz\", index_col=0)"
   ]
  },
  {
   "cell_type": "code",
   "execution_count": 33,
   "id": "350b98c3-32cc-491f-b740-e51b93e3cbfd",
   "metadata": {},
   "outputs": [],
   "source": [
    "coef = Z.iloc[:, i]"
   ]
  },
  {
   "cell_type": "code",
   "execution_count": 41,
   "id": "d9947f3c-f417-452c-a850-ee5e9ec6b4f9",
   "metadata": {},
   "outputs": [
    {
     "data": {
      "text/plain": [
       "BD8001    0.999463\n",
       "BD8002    0.042062\n",
       "BD8003    1.265468\n",
       "BD8004    2.361500\n",
       "BD8005   -0.068039\n",
       "BD8006    0.771152\n",
       "BD8007   -1.304164\n",
       "BD8008   -0.670169\n",
       "BD8009    0.287863\n",
       "BD8010    1.334602\n",
       "BD8011   -1.034933\n",
       "BD8012   -0.234996\n",
       "BD8013   -0.355119\n",
       "BD8015   -0.812612\n",
       "BD8017   -1.303163\n",
       "BD8018   -1.730652\n",
       "BD8019   -0.278619\n",
       "BD8020    0.730356\n",
       "BD8021   -0.752210\n",
       "BD8024   -2.530996\n",
       "BD8025   -0.994928\n",
       "BD8026    0.437689\n",
       "BD8027    1.297540\n",
       "BD8028    0.306322\n",
       "BD8029    1.023315\n",
       "BD8030    0.949314\n",
       "BD8031    1.493796\n",
       "BD8032   -0.122788\n",
       "BD8033    1.042694\n",
       "BD8034    1.000287\n",
       "BD8038    0.931426\n",
       "BD8041   -0.101332\n",
       "BD8042    0.008380\n",
       "BD8043   -0.497600\n",
       "BD8044   -0.041143\n",
       "BD8045   -3.449765\n",
       "Name: 1,REACTOME_GENERIC_TRANSCRIPTION_PATHWAY, dtype: float64"
      ]
     },
     "execution_count": 41,
     "metadata": {},
     "output_type": "execute_result"
    }
   ],
   "source": [
    "B.iloc[i,:]"
   ]
  },
  {
   "cell_type": "code",
   "execution_count": null,
   "id": "e1e49ecc-2be9-4d8c-af4d-9b9d801fc9a4",
   "metadata": {},
   "outputs": [],
   "source": [
    "var_reg = sum((Y.T @ coef - B.iloc[i, :].mean()))**2"
   ]
  },
  {
   "cell_type": "code",
   "execution_count": 87,
   "id": "7943d4ed-87fb-48bd-8c70-f103a77bbab5",
   "metadata": {},
   "outputs": [
    {
     "data": {
      "text/plain": [
       "30"
      ]
     },
     "execution_count": 87,
     "metadata": {},
     "output_type": "execute_result"
    }
   ],
   "source": [
    "B.shape[0]"
   ]
  },
  {
   "cell_type": "code",
   "execution_count": 88,
   "id": "5404460c-826e-44b4-abad-19dd11340aae",
   "metadata": {},
   "outputs": [
    {
     "data": {
      "text/plain": [
       "30"
      ]
     },
     "execution_count": 88,
     "metadata": {},
     "output_type": "execute_result"
    }
   ],
   "source": [
    "Z.shape[1]"
   ]
  },
  {
   "cell_type": "code",
   "execution_count": 81,
   "id": "c76212f7-a7d6-43c9-bc93-a2343d5d193d",
   "metadata": {},
   "outputs": [
    {
     "data": {
      "text/plain": [
       "BD8001     97.612368\n",
       "BD8002     26.779554\n",
       "BD8003    122.534238\n",
       "BD8004    200.002413\n",
       "BD8005      5.845366\n",
       "BD8006     83.471334\n",
       "BD8007   -110.881083\n",
       "BD8008    -32.884940\n",
       "BD8009     48.534085\n",
       "BD8010     66.462627\n",
       "BD8011   -120.568757\n",
       "BD8012    -43.520376\n",
       "BD8013    -19.693951\n",
       "BD8015    -73.997212\n",
       "BD8017   -148.630707\n",
       "BD8018   -173.642002\n",
       "BD8019      0.457483\n",
       "BD8020     72.119560\n",
       "BD8021   -107.009448\n",
       "BD8024   -211.504502\n",
       "BD8025   -104.417920\n",
       "BD8026     54.487651\n",
       "BD8027    105.238381\n",
       "BD8028     47.028924\n",
       "BD8029     75.878440\n",
       "BD8030     86.388935\n",
       "BD8031    111.026724\n",
       "BD8032     14.392624\n",
       "BD8033     89.039612\n",
       "BD8034    102.208642\n",
       "BD8038     66.983837\n",
       "BD8041     -8.326447\n",
       "BD8042     -4.472341\n",
       "BD8043    -55.631024\n",
       "BD8044    -11.999871\n",
       "BD8045   -249.312217\n",
       "dtype: float64"
      ]
     },
     "execution_count": 81,
     "metadata": {},
     "output_type": "execute_result"
    }
   ],
   "source": [
    "Y.transpose() @ coef - B.iloc[i,:].mean()"
   ]
  },
  {
   "cell_type": "code",
   "execution_count": 101,
   "id": "5b52911e-bf16-4ef3-b438-973dd02ce25a",
   "metadata": {},
   "outputs": [
    {
     "data": {
      "text/plain": [
       "array([[  97.61236777,  -60.20057493,  -10.89520614, ...,  -18.07576662,\n",
       "          98.13063822,   49.9171736 ],\n",
       "       [  26.77955362, -100.73714551,  -63.06415212, ...,   26.37459887,\n",
       "           8.7064486 ,  219.95483562],\n",
       "       [ 122.53423786,    8.08828833,   60.01898894, ...,  -74.3769909 ,\n",
       "         173.54613773,  -61.94137168],\n",
       "       ...,\n",
       "       [ -55.63102428,  -24.32953188,   82.64948919, ...,    7.79782277,\n",
       "         -51.18559562,  -70.11413437],\n",
       "       [ -11.99987098,  -20.43311787,  -25.4702512 , ...,   24.37237729,\n",
       "         -52.70166344,  134.58683871],\n",
       "       [-249.31221745,   40.33036223,   18.12621173, ...,   77.61561634,\n",
       "        -158.325816  ,   14.67818591]])"
      ]
     },
     "execution_count": 101,
     "metadata": {},
     "output_type": "execute_result"
    }
   ],
   "source": [
    "np.subtract((Y.transpose().values @ Z.values), np.mean(B.values, axis=1))"
   ]
  },
  {
   "cell_type": "code",
   "execution_count": 83,
   "id": "10c7477d-99f0-4ddc-97a1-39a45e1e9e11",
   "metadata": {},
   "outputs": [
    {
     "data": {
      "text/plain": [
       "369594.6876235475"
      ]
     },
     "execution_count": 83,
     "metadata": {},
     "output_type": "execute_result"
    }
   ],
   "source": [
    "(Y.T @ coef - B.iloc[i,:].mean()).pow(2).sum()"
   ]
  },
  {
   "cell_type": "code",
   "execution_count": 102,
   "id": "eeed09ee-5ab3-484c-bb27-40d25fe29ee2",
   "metadata": {},
   "outputs": [],
   "source": [
    "from numpy.linalg import pinv"
   ]
  },
  {
   "cell_type": "code",
   "execution_count": 138,
   "id": "c8e18ad4-cf53-4ae1-bb59-f00207a65d20",
   "metadata": {},
   "outputs": [],
   "source": [
    "alpha = np.ones((1,1))"
   ]
  },
  {
   "cell_type": "code",
   "execution_count": 139,
   "id": "b6096cd9-ca66-4ee6-ab47-a75abbd920e8",
   "metadata": {},
   "outputs": [
    {
     "data": {
      "text/plain": [
       "array([[1.]])"
      ]
     },
     "execution_count": 139,
     "metadata": {},
     "output_type": "execute_result"
    }
   ],
   "source": [
    "alpha"
   ]
  },
  {
   "cell_type": "code",
   "execution_count": 137,
   "id": "1e6c128d-d537-4e0e-af0f-d4bbc779c20e",
   "metadata": {},
   "outputs": [
    {
     "name": "stderr",
     "output_type": "stream",
     "text": [
      "/var/folders/h6/9_7l_jld48bgxx9r35h2_7bm0000gn/T/ipykernel_11704/2954598121.py:1: DeprecationWarning: Out of bound index found. This was previously ignored when the indexing result contained no elements. In the future the index error will be raised. This error occurs either due to an empty slice, or if an array has zero elements even before indexing.\n",
      "(Use `warnings.simplefilter('error')` to turn this DeprecationWarning into an error and get more details on the invalid index.)\n",
      "  alpha[[1,0]] = 2\n"
     ]
    }
   ],
   "source": [
    "alpha[[1,0]] = 2"
   ]
  },
  {
   "cell_type": "code",
   "execution_count": 136,
   "id": "96260508-8b33-4ae9-a9fb-db6fe1c9f443",
   "metadata": {},
   "outputs": [
    {
     "data": {
      "text/plain": [
       "array([], shape=(1, 0), dtype=float64)"
      ]
     },
     "execution_count": 136,
     "metadata": {},
     "output_type": "execute_result"
    }
   ],
   "source": [
    "alpha"
   ]
  },
  {
   "cell_type": "code",
   "execution_count": 120,
   "id": "83d9ffba-3f48-4d24-8d45-1019c82dfc2e",
   "metadata": {},
   "outputs": [
    {
     "data": {
      "text/plain": [
       "array([[0.5]])"
      ]
     },
     "execution_count": 120,
     "metadata": {},
     "output_type": "execute_result"
    }
   ],
   "source": [
    "pinv(alpha)"
   ]
  },
  {
   "cell_type": "code",
   "execution_count": 170,
   "id": "4db0cca0-11a0-4b2f-b068-a684876dceae",
   "metadata": {},
   "outputs": [
    {
     "data": {
      "text/plain": [
       "array([[0.02030429]])"
      ]
     },
     "execution_count": 170,
     "metadata": {},
     "output_type": "execute_result"
    }
   ],
   "source": [
    "pinv([[B.iloc[0,:] @ B.iloc[0,:]]])"
   ]
  },
  {
   "cell_type": "code",
   "execution_count": 167,
   "id": "2ef83627-067c-4dc1-b213-d328d686e9dd",
   "metadata": {},
   "outputs": [
    {
     "data": {
      "text/plain": [
       "array([[0.02030429]])"
      ]
     },
     "execution_count": 167,
     "metadata": {},
     "output_type": "execute_result"
    }
   ],
   "source": [
    "pinv([[np.dot(B.iloc[0,:], B.iloc[0,:],)]])\n"
   ]
  },
  {
   "cell_type": "code",
   "execution_count": 162,
   "id": "fd259c8f-f250-4252-a553-b6c9ad2c8241",
   "metadata": {},
   "outputs": [
    {
     "data": {
      "text/plain": [
       "49.25066570263017"
      ]
     },
     "execution_count": 162,
     "metadata": {},
     "output_type": "execute_result"
    }
   ],
   "source": [
    "np.dot(B.iloc[0,:], B.iloc[0,:],)\n"
   ]
  },
  {
   "cell_type": "code",
   "execution_count": 166,
   "id": "055469e1-feb2-4d96-a6d7-864a02fbb4ef",
   "metadata": {},
   "outputs": [
    {
     "data": {
      "text/plain": [
       "array([[0.02]])"
      ]
     },
     "execution_count": 166,
     "metadata": {},
     "output_type": "execute_result"
    }
   ],
   "source": [
    "pinv([[50]])"
   ]
  },
  {
   "cell_type": "code",
   "execution_count": 164,
   "id": "8801511f-b86a-4727-8f8a-0262f3d48850",
   "metadata": {},
   "outputs": [
    {
     "ename": "ValueError",
     "evalue": "shapes (10,36) and (30,10) not aligned: 36 (dim 1) != 30 (dim 0)",
     "output_type": "error",
     "traceback": [
      "\u001b[0;31m---------------------------------------------------------------------------\u001b[0m",
      "\u001b[0;31mValueError\u001b[0m                                Traceback (most recent call last)",
      "Input \u001b[0;32mIn [164]\u001b[0m, in \u001b[0;36m<cell line: 1>\u001b[0;34m()\u001b[0m\n\u001b[0;32m----> 1\u001b[0m \u001b[43mnp\u001b[49m\u001b[38;5;241;43m.\u001b[39;49m\u001b[43mdot\u001b[49m\u001b[43m(\u001b[49m\u001b[43mB\u001b[49m\u001b[38;5;241;43m.\u001b[39;49m\u001b[43miloc\u001b[49m\u001b[43m[\u001b[49m\u001b[38;5;241;43m0\u001b[39;49m\u001b[43m:\u001b[49m\u001b[38;5;241;43m10\u001b[39;49m\u001b[43m,\u001b[49m\u001b[43m:\u001b[49m\u001b[43m]\u001b[49m\u001b[43m,\u001b[49m\u001b[43m \u001b[49m\u001b[43mB\u001b[49m\u001b[38;5;241;43m.\u001b[39;49m\u001b[43miloc\u001b[49m\u001b[43m[\u001b[49m\u001b[43m:\u001b[49m\u001b[43m,\u001b[49m\u001b[38;5;241;43m0\u001b[39;49m\u001b[43m:\u001b[49m\u001b[38;5;241;43m10\u001b[39;49m\u001b[43m]\u001b[49m\u001b[43m,\u001b[49m\u001b[43m)\u001b[49m\n",
      "File \u001b[0;32m<__array_function__ internals>:180\u001b[0m, in \u001b[0;36mdot\u001b[0;34m(*args, **kwargs)\u001b[0m\n",
      "\u001b[0;31mValueError\u001b[0m: shapes (10,36) and (30,10) not aligned: 36 (dim 1) != 30 (dim 0)"
     ]
    }
   ],
   "source": [
    "np.dot(B.iloc[0:10,:], B.iloc[:,0:10],)\n"
   ]
  },
  {
   "cell_type": "code",
   "execution_count": 175,
   "id": "03086f95-3a7e-4fe3-8fa1-205f168dcfbf",
   "metadata": {},
   "outputs": [
    {
     "data": {
      "text/plain": [
       "array([[0.02030429]])"
      ]
     },
     "execution_count": 175,
     "metadata": {},
     "output_type": "execute_result"
    }
   ],
   "source": [
    "pinv(np.array([[np.dot(B.iloc[0,:], B.iloc[0,:],)]]))\n"
   ]
  },
  {
   "cell_type": "code",
   "execution_count": null,
   "id": "791b6d35-3d61-46af-85f3-feae4bb95726",
   "metadata": {},
   "outputs": [],
   "source": [
    "for i in range(k)\n",
    "      Zreg = Y @ B.iloc[i, ] @ ginv(B.iloc[i, ] @ B.iloc[i, ])\n",
    "      res = c(res, (Zreg @ B[i, ] - Y.mean().pow(2)).sum())"
   ]
  },
  {
   "cell_type": "code",
   "execution_count": 176,
   "id": "d81770f7-4702-468c-bd71-26471963707e",
   "metadata": {},
   "outputs": [
    {
     "data": {
      "text/plain": [
       "GAS6       -22.710032\n",
       "MMP14       -5.852222\n",
       "MARCKSL1   -28.820871\n",
       "SPARC       -8.931645\n",
       "CTSD       -30.712846\n",
       "              ...    \n",
       "CFL2        18.601244\n",
       "CFL1       -19.631233\n",
       "SELL        14.864758\n",
       "GNGT2      -12.868373\n",
       "SERPINH1   -17.238086\n",
       "Length: 5892, dtype: float64"
      ]
     },
     "execution_count": 176,
     "metadata": {},
     "output_type": "execute_result"
    }
   ],
   "source": [
    "Y @ B.iloc[i, :] "
   ]
  },
  {
   "cell_type": "code",
   "execution_count": 181,
   "id": "eeb5a968-1233-4f90-9306-c13e109ccd7a",
   "metadata": {},
   "outputs": [
    {
     "data": {
      "text/plain": [
       "array([[0.02030429]])"
      ]
     },
     "execution_count": 181,
     "metadata": {},
     "output_type": "execute_result"
    }
   ],
   "source": [
    "pinv([[np.dot(B.iloc[i, :], B.iloc[i, :],)]], )"
   ]
  },
  {
   "cell_type": "code",
   "execution_count": 190,
   "id": "0e9239d2-4dbe-48c4-9d59-6a87c5977a4f",
   "metadata": {},
   "outputs": [
    {
     "data": {
      "text/plain": [
       "0.020304294078741684"
      ]
     },
     "execution_count": 190,
     "metadata": {},
     "output_type": "execute_result"
    }
   ],
   "source": [
    "1/np.dot(B.iloc[i, :], B.iloc[i, :],)"
   ]
  },
  {
   "cell_type": "code",
   "execution_count": 192,
   "id": "465f90d9-625e-44dd-b368-6139575f2ab0",
   "metadata": {},
   "outputs": [
    {
     "data": {
      "text/plain": [
       "GAS6       -0.461111\n",
       "MMP14      -0.118825\n",
       "MARCKSL1   -0.585187\n",
       "SPARC      -0.181351\n",
       "CTSD       -0.623603\n",
       "dtype: float64"
      ]
     },
     "execution_count": 192,
     "metadata": {},
     "output_type": "execute_result"
    }
   ],
   "source": [
    "Zreg = np.multiply(Y @ B.iloc[i,:], 1/np.dot(B.iloc[i, :], B.iloc[i, :],))\n",
    "Zreg.head()"
   ]
  },
  {
   "cell_type": "code",
   "execution_count": null,
   "id": "67634a2e-1d91-43c8-b73e-67db4c571f9b",
   "metadata": {},
   "outputs": [],
   "source": [
    "sum(Zreg %*% B.iloc[i,:]) - mean(Y))^2))"
   ]
  },
  {
   "cell_type": "code",
   "execution_count": null,
   "id": "a3474935-7bd3-4974-ade0-670164801777",
   "metadata": {},
   "outputs": [],
   "source": [
    "sum(\n",
    "    (\n",
    "        Zreg %*% B[i, ] - mean(Y)\n",
    "    )^2\n",
    ")"
   ]
  },
  {
   "cell_type": "code",
   "execution_count": 194,
   "id": "d93163f3-19d7-49f0-ac3e-73533bf1b916",
   "metadata": {},
   "outputs": [
    {
     "data": {
      "text/plain": [
       "GAS6       -0.461111\n",
       "MMP14      -0.118825\n",
       "MARCKSL1   -0.585187\n",
       "SPARC      -0.181351\n",
       "CTSD       -0.623603\n",
       "              ...   \n",
       "CFL2        0.377685\n",
       "CFL1       -0.398598\n",
       "SELL        0.301818\n",
       "GNGT2      -0.261283\n",
       "SERPINH1   -0.350007\n",
       "Length: 5892, dtype: float64"
      ]
     },
     "execution_count": 194,
     "metadata": {},
     "output_type": "execute_result"
    }
   ],
   "source": [
    "Zreg"
   ]
  },
  {
   "cell_type": "code",
   "execution_count": 195,
   "id": "7fa972b8-001a-423a-8874-c46e1e7833e8",
   "metadata": {},
   "outputs": [
    {
     "data": {
      "text/plain": [
       "BD8001    0.999463\n",
       "BD8002    0.042062\n",
       "BD8003    1.265468\n",
       "BD8004    2.361500\n",
       "BD8005   -0.068039\n",
       "BD8006    0.771152\n",
       "BD8007   -1.304164\n",
       "BD8008   -0.670169\n",
       "BD8009    0.287863\n",
       "BD8010    1.334602\n",
       "BD8011   -1.034933\n",
       "BD8012   -0.234996\n",
       "BD8013   -0.355119\n",
       "BD8015   -0.812612\n",
       "BD8017   -1.303163\n",
       "BD8018   -1.730652\n",
       "BD8019   -0.278619\n",
       "BD8020    0.730356\n",
       "BD8021   -0.752210\n",
       "BD8024   -2.530996\n",
       "BD8025   -0.994928\n",
       "BD8026    0.437689\n",
       "BD8027    1.297540\n",
       "BD8028    0.306322\n",
       "BD8029    1.023315\n",
       "BD8030    0.949314\n",
       "BD8031    1.493796\n",
       "BD8032   -0.122788\n",
       "BD8033    1.042694\n",
       "BD8034    1.000287\n",
       "BD8038    0.931426\n",
       "BD8041   -0.101332\n",
       "BD8042    0.008380\n",
       "BD8043   -0.497600\n",
       "BD8044   -0.041143\n",
       "BD8045   -3.449765\n",
       "Name: 1,REACTOME_GENERIC_TRANSCRIPTION_PATHWAY, dtype: float64"
      ]
     },
     "execution_count": 195,
     "metadata": {},
     "output_type": "execute_result"
    }
   ],
   "source": [
    "B.iloc[i,:]"
   ]
  },
  {
   "cell_type": "code",
   "execution_count": 198,
   "id": "122795ad-ee3e-4fea-8db3-0ed258da5685",
   "metadata": {},
   "outputs": [
    {
     "data": {
      "text/plain": [
       "A2M      NaN\n",
       "AAAS     NaN\n",
       "AANAT    NaN\n",
       "AARS     NaN\n",
       "AARS2    NaN\n",
       "          ..\n",
       "ZNRD1    NaN\n",
       "ZW10     NaN\n",
       "ZWILCH   NaN\n",
       "ZWINT    NaN\n",
       "ZYX      NaN\n",
       "Length: 5928, dtype: float64"
      ]
     },
     "execution_count": 198,
     "metadata": {},
     "output_type": "execute_result"
    }
   ],
   "source": [
    "Zreg * B.iloc[i,:].T"
   ]
  },
  {
   "cell_type": "code",
   "execution_count": 239,
   "id": "70d78cd8-d394-43d7-8b2c-13302b61b4e3",
   "metadata": {},
   "outputs": [
    {
     "data": {
      "text/plain": [
       "array([[-0.46086358, -0.01939535, -0.58352131, ...,  0.22944901,\n",
       "         0.01897165,  1.59072501],\n",
       "       [-0.11876142, -0.00499805, -0.15036949, ...,  0.05912746,\n",
       "         0.00488887,  0.40991907],\n",
       "       [-0.58487322, -0.02461427, -0.74053581, ...,  0.29118938,\n",
       "         0.02407657,  2.01875891],\n",
       "       ...,\n",
       "       [ 0.30165636,  0.01269515,  0.38194147, ..., -0.15018491,\n",
       "        -0.01241782, -1.04120252],\n",
       "       [-0.26114294, -0.01099015, -0.3306455 , ...,  0.13001459,\n",
       "         0.01075007,  0.90136566],\n",
       "       [-0.34981923, -0.01472207, -0.44292277, ...,  0.17416363,\n",
       "         0.01440046,  1.20744235]])"
      ]
     },
     "execution_count": 239,
     "metadata": {},
     "output_type": "execute_result"
    }
   ],
   "source": [
    "res = np.reshape(Zreg.values, (5892,1)) @ np.reshape(B.iloc[i,:].values, (1,B.shape[1]))\n",
    "res"
   ]
  },
  {
   "cell_type": "code",
   "execution_count": 219,
   "id": "71b6e8b3-5697-43b6-894a-074dc0fc5aa5",
   "metadata": {},
   "outputs": [
    {
     "ename": "ValueError",
     "evalue": "matmul: Input operand 1 has a mismatch in its core dimension 0, with gufunc signature (n?,k),(k,m?)->(n?,m?) (size 36 is different from 5892)",
     "output_type": "error",
     "traceback": [
      "\u001b[0;31m---------------------------------------------------------------------------\u001b[0m",
      "\u001b[0;31mValueError\u001b[0m                                Traceback (most recent call last)",
      "Input \u001b[0;32mIn [219]\u001b[0m, in \u001b[0;36m<cell line: 1>\u001b[0;34m()\u001b[0m\n\u001b[0;32m----> 1\u001b[0m \u001b[43mZreg\u001b[49m\u001b[38;5;241;43m.\u001b[39;49m\u001b[43mvalues\u001b[49m\u001b[43m \u001b[49m\u001b[38;5;241;43m@\u001b[39;49m\u001b[43m \u001b[49m\u001b[43mB\u001b[49m\u001b[38;5;241;43m.\u001b[39;49m\u001b[43mvalues\u001b[49m\u001b[38;5;241;43m.\u001b[39;49m\u001b[43mT\u001b[49m\n",
      "\u001b[0;31mValueError\u001b[0m: matmul: Input operand 1 has a mismatch in its core dimension 0, with gufunc signature (n?,k),(k,m?)->(n?,m?) (size 36 is different from 5892)"
     ]
    }
   ],
   "source": [
    "Zreg.values @ B.values"
   ]
  },
  {
   "cell_type": "code",
   "execution_count": 215,
   "id": "1938a3f7-501e-4c22-843e-0fa28d9cc44f",
   "metadata": {},
   "outputs": [
    {
     "data": {
      "text/html": [
       "<div>\n",
       "<style scoped>\n",
       "    .dataframe tbody tr th:only-of-type {\n",
       "        vertical-align: middle;\n",
       "    }\n",
       "\n",
       "    .dataframe tbody tr th {\n",
       "        vertical-align: top;\n",
       "    }\n",
       "\n",
       "    .dataframe thead th {\n",
       "        text-align: right;\n",
       "    }\n",
       "</style>\n",
       "<table border=\"1\" class=\"dataframe\">\n",
       "  <thead>\n",
       "    <tr style=\"text-align: right;\">\n",
       "      <th></th>\n",
       "      <th>0</th>\n",
       "      <th>1</th>\n",
       "      <th>2</th>\n",
       "      <th>3</th>\n",
       "      <th>4</th>\n",
       "      <th>5</th>\n",
       "      <th>6</th>\n",
       "      <th>7</th>\n",
       "      <th>8</th>\n",
       "      <th>9</th>\n",
       "      <th>...</th>\n",
       "      <th>26</th>\n",
       "      <th>27</th>\n",
       "      <th>28</th>\n",
       "      <th>29</th>\n",
       "      <th>30</th>\n",
       "      <th>31</th>\n",
       "      <th>32</th>\n",
       "      <th>33</th>\n",
       "      <th>34</th>\n",
       "      <th>35</th>\n",
       "    </tr>\n",
       "  </thead>\n",
       "  <tbody>\n",
       "    <tr>\n",
       "      <th>0</th>\n",
       "      <td>-0.460864</td>\n",
       "      <td>-0.019395</td>\n",
       "      <td>-0.583521</td>\n",
       "      <td>-1.088914</td>\n",
       "      <td>0.031374</td>\n",
       "      <td>-0.355587</td>\n",
       "      <td>0.601364</td>\n",
       "      <td>0.309022</td>\n",
       "      <td>-0.132737</td>\n",
       "      <td>-0.615400</td>\n",
       "      <td>...</td>\n",
       "      <td>-0.688806</td>\n",
       "      <td>0.056619</td>\n",
       "      <td>-0.480798</td>\n",
       "      <td>-0.461243</td>\n",
       "      <td>-0.429491</td>\n",
       "      <td>0.046725</td>\n",
       "      <td>-0.003864</td>\n",
       "      <td>0.229449</td>\n",
       "      <td>0.018972</td>\n",
       "      <td>1.590725</td>\n",
       "    </tr>\n",
       "    <tr>\n",
       "      <th>1</th>\n",
       "      <td>-0.118761</td>\n",
       "      <td>-0.004998</td>\n",
       "      <td>-0.150369</td>\n",
       "      <td>-0.280606</td>\n",
       "      <td>0.008085</td>\n",
       "      <td>-0.091632</td>\n",
       "      <td>0.154968</td>\n",
       "      <td>0.079633</td>\n",
       "      <td>-0.034205</td>\n",
       "      <td>-0.158584</td>\n",
       "      <td>...</td>\n",
       "      <td>-0.177501</td>\n",
       "      <td>0.014590</td>\n",
       "      <td>-0.123898</td>\n",
       "      <td>-0.118859</td>\n",
       "      <td>-0.110677</td>\n",
       "      <td>0.012041</td>\n",
       "      <td>-0.000996</td>\n",
       "      <td>0.059127</td>\n",
       "      <td>0.004889</td>\n",
       "      <td>0.409919</td>\n",
       "    </tr>\n",
       "    <tr>\n",
       "      <th>2</th>\n",
       "      <td>-0.584873</td>\n",
       "      <td>-0.024614</td>\n",
       "      <td>-0.740536</td>\n",
       "      <td>-1.381920</td>\n",
       "      <td>0.039816</td>\n",
       "      <td>-0.451268</td>\n",
       "      <td>0.763180</td>\n",
       "      <td>0.392174</td>\n",
       "      <td>-0.168454</td>\n",
       "      <td>-0.780992</td>\n",
       "      <td>...</td>\n",
       "      <td>-0.874151</td>\n",
       "      <td>0.071854</td>\n",
       "      <td>-0.610172</td>\n",
       "      <td>-0.585355</td>\n",
       "      <td>-0.545059</td>\n",
       "      <td>0.059298</td>\n",
       "      <td>-0.004904</td>\n",
       "      <td>0.291189</td>\n",
       "      <td>0.024077</td>\n",
       "      <td>2.018759</td>\n",
       "    </tr>\n",
       "    <tr>\n",
       "      <th>3</th>\n",
       "      <td>-0.181253</td>\n",
       "      <td>-0.007628</td>\n",
       "      <td>-0.229494</td>\n",
       "      <td>-0.428260</td>\n",
       "      <td>0.012339</td>\n",
       "      <td>-0.139849</td>\n",
       "      <td>0.236511</td>\n",
       "      <td>0.121536</td>\n",
       "      <td>-0.052204</td>\n",
       "      <td>-0.242031</td>\n",
       "      <td>...</td>\n",
       "      <td>-0.270901</td>\n",
       "      <td>0.022268</td>\n",
       "      <td>-0.189093</td>\n",
       "      <td>-0.181403</td>\n",
       "      <td>-0.168915</td>\n",
       "      <td>0.018377</td>\n",
       "      <td>-0.001520</td>\n",
       "      <td>0.090240</td>\n",
       "      <td>0.007461</td>\n",
       "      <td>0.625617</td>\n",
       "    </tr>\n",
       "    <tr>\n",
       "      <th>4</th>\n",
       "      <td>-0.623268</td>\n",
       "      <td>-0.026230</td>\n",
       "      <td>-0.789149</td>\n",
       "      <td>-1.472638</td>\n",
       "      <td>0.042429</td>\n",
       "      <td>-0.480892</td>\n",
       "      <td>0.813280</td>\n",
       "      <td>0.417919</td>\n",
       "      <td>-0.179512</td>\n",
       "      <td>-0.832261</td>\n",
       "      <td>...</td>\n",
       "      <td>-0.931535</td>\n",
       "      <td>0.076571</td>\n",
       "      <td>-0.650227</td>\n",
       "      <td>-0.623781</td>\n",
       "      <td>-0.580840</td>\n",
       "      <td>0.063191</td>\n",
       "      <td>-0.005226</td>\n",
       "      <td>0.310305</td>\n",
       "      <td>0.025657</td>\n",
       "      <td>2.151282</td>\n",
       "    </tr>\n",
       "    <tr>\n",
       "      <th>...</th>\n",
       "      <td>...</td>\n",
       "      <td>...</td>\n",
       "      <td>...</td>\n",
       "      <td>...</td>\n",
       "      <td>...</td>\n",
       "      <td>...</td>\n",
       "      <td>...</td>\n",
       "      <td>...</td>\n",
       "      <td>...</td>\n",
       "      <td>...</td>\n",
       "      <td>...</td>\n",
       "      <td>...</td>\n",
       "      <td>...</td>\n",
       "      <td>...</td>\n",
       "      <td>...</td>\n",
       "      <td>...</td>\n",
       "      <td>...</td>\n",
       "      <td>...</td>\n",
       "      <td>...</td>\n",
       "      <td>...</td>\n",
       "      <td>...</td>\n",
       "    </tr>\n",
       "    <tr>\n",
       "      <th>5887</th>\n",
       "      <td>0.377482</td>\n",
       "      <td>0.015886</td>\n",
       "      <td>0.477948</td>\n",
       "      <td>0.891904</td>\n",
       "      <td>-0.025697</td>\n",
       "      <td>0.291253</td>\n",
       "      <td>-0.492563</td>\n",
       "      <td>-0.253113</td>\n",
       "      <td>0.108722</td>\n",
       "      <td>0.504059</td>\n",
       "      <td>...</td>\n",
       "      <td>0.564184</td>\n",
       "      <td>-0.046375</td>\n",
       "      <td>0.393810</td>\n",
       "      <td>0.377793</td>\n",
       "      <td>0.351786</td>\n",
       "      <td>-0.038272</td>\n",
       "      <td>0.003165</td>\n",
       "      <td>-0.187936</td>\n",
       "      <td>-0.015539</td>\n",
       "      <td>-1.302925</td>\n",
       "    </tr>\n",
       "    <tr>\n",
       "      <th>5888</th>\n",
       "      <td>-0.398384</td>\n",
       "      <td>-0.016766</td>\n",
       "      <td>-0.504413</td>\n",
       "      <td>-0.941290</td>\n",
       "      <td>0.027120</td>\n",
       "      <td>-0.307380</td>\n",
       "      <td>0.519837</td>\n",
       "      <td>0.267128</td>\n",
       "      <td>-0.114742</td>\n",
       "      <td>-0.531970</td>\n",
       "      <td>...</td>\n",
       "      <td>-0.595425</td>\n",
       "      <td>0.048943</td>\n",
       "      <td>-0.415616</td>\n",
       "      <td>-0.398713</td>\n",
       "      <td>-0.371265</td>\n",
       "      <td>0.040391</td>\n",
       "      <td>-0.003340</td>\n",
       "      <td>0.198343</td>\n",
       "      <td>0.016400</td>\n",
       "      <td>1.375070</td>\n",
       "    </tr>\n",
       "    <tr>\n",
       "      <th>5889</th>\n",
       "      <td>0.301656</td>\n",
       "      <td>0.012695</td>\n",
       "      <td>0.381941</td>\n",
       "      <td>0.712744</td>\n",
       "      <td>-0.020536</td>\n",
       "      <td>0.232748</td>\n",
       "      <td>-0.393621</td>\n",
       "      <td>-0.202269</td>\n",
       "      <td>0.086882</td>\n",
       "      <td>0.402807</td>\n",
       "      <td>...</td>\n",
       "      <td>0.450855</td>\n",
       "      <td>-0.037060</td>\n",
       "      <td>0.314704</td>\n",
       "      <td>0.301905</td>\n",
       "      <td>0.281122</td>\n",
       "      <td>-0.030584</td>\n",
       "      <td>0.002529</td>\n",
       "      <td>-0.150185</td>\n",
       "      <td>-0.012418</td>\n",
       "      <td>-1.041203</td>\n",
       "    </tr>\n",
       "    <tr>\n",
       "      <th>5890</th>\n",
       "      <td>-0.261143</td>\n",
       "      <td>-0.010990</td>\n",
       "      <td>-0.330645</td>\n",
       "      <td>-0.617020</td>\n",
       "      <td>0.017778</td>\n",
       "      <td>-0.201489</td>\n",
       "      <td>0.340756</td>\n",
       "      <td>0.175104</td>\n",
       "      <td>-0.075214</td>\n",
       "      <td>-0.348709</td>\n",
       "      <td>...</td>\n",
       "      <td>-0.390304</td>\n",
       "      <td>0.032082</td>\n",
       "      <td>-0.272439</td>\n",
       "      <td>-0.261358</td>\n",
       "      <td>-0.243366</td>\n",
       "      <td>0.026476</td>\n",
       "      <td>-0.002190</td>\n",
       "      <td>0.130015</td>\n",
       "      <td>0.010750</td>\n",
       "      <td>0.901366</td>\n",
       "    </tr>\n",
       "    <tr>\n",
       "      <th>5891</th>\n",
       "      <td>-0.349819</td>\n",
       "      <td>-0.014722</td>\n",
       "      <td>-0.442923</td>\n",
       "      <td>-0.826542</td>\n",
       "      <td>0.023814</td>\n",
       "      <td>-0.269909</td>\n",
       "      <td>0.456467</td>\n",
       "      <td>0.234564</td>\n",
       "      <td>-0.100754</td>\n",
       "      <td>-0.467120</td>\n",
       "      <td>...</td>\n",
       "      <td>-0.522839</td>\n",
       "      <td>0.042977</td>\n",
       "      <td>-0.364951</td>\n",
       "      <td>-0.350108</td>\n",
       "      <td>-0.326006</td>\n",
       "      <td>0.035467</td>\n",
       "      <td>-0.002933</td>\n",
       "      <td>0.174164</td>\n",
       "      <td>0.014400</td>\n",
       "      <td>1.207442</td>\n",
       "    </tr>\n",
       "  </tbody>\n",
       "</table>\n",
       "<p>5892 rows × 36 columns</p>\n",
       "</div>"
      ],
      "text/plain": [
       "            0         1         2         3         4         5         6   \\\n",
       "0    -0.460864 -0.019395 -0.583521 -1.088914  0.031374 -0.355587  0.601364   \n",
       "1    -0.118761 -0.004998 -0.150369 -0.280606  0.008085 -0.091632  0.154968   \n",
       "2    -0.584873 -0.024614 -0.740536 -1.381920  0.039816 -0.451268  0.763180   \n",
       "3    -0.181253 -0.007628 -0.229494 -0.428260  0.012339 -0.139849  0.236511   \n",
       "4    -0.623268 -0.026230 -0.789149 -1.472638  0.042429 -0.480892  0.813280   \n",
       "...        ...       ...       ...       ...       ...       ...       ...   \n",
       "5887  0.377482  0.015886  0.477948  0.891904 -0.025697  0.291253 -0.492563   \n",
       "5888 -0.398384 -0.016766 -0.504413 -0.941290  0.027120 -0.307380  0.519837   \n",
       "5889  0.301656  0.012695  0.381941  0.712744 -0.020536  0.232748 -0.393621   \n",
       "5890 -0.261143 -0.010990 -0.330645 -0.617020  0.017778 -0.201489  0.340756   \n",
       "5891 -0.349819 -0.014722 -0.442923 -0.826542  0.023814 -0.269909  0.456467   \n",
       "\n",
       "            7         8         9   ...        26        27        28  \\\n",
       "0     0.309022 -0.132737 -0.615400  ... -0.688806  0.056619 -0.480798   \n",
       "1     0.079633 -0.034205 -0.158584  ... -0.177501  0.014590 -0.123898   \n",
       "2     0.392174 -0.168454 -0.780992  ... -0.874151  0.071854 -0.610172   \n",
       "3     0.121536 -0.052204 -0.242031  ... -0.270901  0.022268 -0.189093   \n",
       "4     0.417919 -0.179512 -0.832261  ... -0.931535  0.076571 -0.650227   \n",
       "...        ...       ...       ...  ...       ...       ...       ...   \n",
       "5887 -0.253113  0.108722  0.504059  ...  0.564184 -0.046375  0.393810   \n",
       "5888  0.267128 -0.114742 -0.531970  ... -0.595425  0.048943 -0.415616   \n",
       "5889 -0.202269  0.086882  0.402807  ...  0.450855 -0.037060  0.314704   \n",
       "5890  0.175104 -0.075214 -0.348709  ... -0.390304  0.032082 -0.272439   \n",
       "5891  0.234564 -0.100754 -0.467120  ... -0.522839  0.042977 -0.364951   \n",
       "\n",
       "            29        30        31        32        33        34        35  \n",
       "0    -0.461243 -0.429491  0.046725 -0.003864  0.229449  0.018972  1.590725  \n",
       "1    -0.118859 -0.110677  0.012041 -0.000996  0.059127  0.004889  0.409919  \n",
       "2    -0.585355 -0.545059  0.059298 -0.004904  0.291189  0.024077  2.018759  \n",
       "3    -0.181403 -0.168915  0.018377 -0.001520  0.090240  0.007461  0.625617  \n",
       "4    -0.623781 -0.580840  0.063191 -0.005226  0.310305  0.025657  2.151282  \n",
       "...        ...       ...       ...       ...       ...       ...       ...  \n",
       "5887  0.377793  0.351786 -0.038272  0.003165 -0.187936 -0.015539 -1.302925  \n",
       "5888 -0.398713 -0.371265  0.040391 -0.003340  0.198343  0.016400  1.375070  \n",
       "5889  0.301905  0.281122 -0.030584  0.002529 -0.150185 -0.012418 -1.041203  \n",
       "5890 -0.261358 -0.243366  0.026476 -0.002190  0.130015  0.010750  0.901366  \n",
       "5891 -0.350108 -0.326006  0.035467 -0.002933  0.174164  0.014400  1.207442  \n",
       "\n",
       "[5892 rows x 36 columns]"
      ]
     },
     "execution_count": 215,
     "metadata": {},
     "output_type": "execute_result"
    }
   ],
   "source": [
    "pd.DataFrame(res)"
   ]
  },
  {
   "cell_type": "code",
   "execution_count": 225,
   "id": "23ce78fc-6766-491b-b989-5bef9253577a",
   "metadata": {},
   "outputs": [
    {
     "data": {
      "text/plain": [
       "GAS6       -0.461111\n",
       "MMP14      -0.118825\n",
       "MARCKSL1   -0.585187\n",
       "SPARC      -0.181351\n",
       "CTSD       -0.623603\n",
       "              ...   \n",
       "CFL2        0.377685\n",
       "CFL1       -0.398598\n",
       "SELL        0.301818\n",
       "GNGT2      -0.261283\n",
       "SERPINH1   -0.350007\n",
       "Length: 5892, dtype: float64"
      ]
     },
     "execution_count": 225,
     "metadata": {},
     "output_type": "execute_result"
    }
   ],
   "source": [
    "Zreg"
   ]
  },
  {
   "cell_type": "code",
   "execution_count": 227,
   "id": "78d5f9f4-2719-4261-b6d1-c697a799951c",
   "metadata": {},
   "outputs": [
    {
     "data": {
      "text/plain": [
       "(36,)"
      ]
     },
     "execution_count": 227,
     "metadata": {},
     "output_type": "execute_result"
    }
   ],
   "source": [
    "B.iloc[0,:].shape"
   ]
  },
  {
   "cell_type": "code",
   "execution_count": 236,
   "id": "e09cc563-9f21-41af-b274-68cbb6640602",
   "metadata": {},
   "outputs": [
    {
     "data": {
      "text/plain": [
       "5892"
      ]
     },
     "execution_count": 236,
     "metadata": {},
     "output_type": "execute_result"
    }
   ],
   "source": [
    "len(Zreg)"
   ]
  },
  {
   "cell_type": "code",
   "execution_count": 238,
   "id": "1e943495-e086-488f-bf97-382f26c3235a",
   "metadata": {},
   "outputs": [
    {
     "data": {
      "text/plain": [
       "36"
      ]
     },
     "execution_count": 238,
     "metadata": {},
     "output_type": "execute_result"
    }
   ],
   "source": [
    "B.shape[1]"
   ]
  },
  {
   "cell_type": "code",
   "execution_count": 235,
   "id": "45ee4463-d10a-4569-a7a2-1878bb7326ef",
   "metadata": {},
   "outputs": [
    {
     "data": {
      "text/plain": [
       "array([[-0.46086358, -0.01939535, -0.58352131, ...,  0.22944901,\n",
       "         0.01897165,  1.59072501],\n",
       "       [-0.11876142, -0.00499805, -0.15036949, ...,  0.05912746,\n",
       "         0.00488887,  0.40991907],\n",
       "       [-0.58487322, -0.02461427, -0.74053581, ...,  0.29118938,\n",
       "         0.02407657,  2.01875891],\n",
       "       ...,\n",
       "       [ 0.30165636,  0.01269515,  0.38194147, ..., -0.15018491,\n",
       "        -0.01241782, -1.04120252],\n",
       "       [-0.26114294, -0.01099015, -0.3306455 , ...,  0.13001459,\n",
       "         0.01075007,  0.90136566],\n",
       "       [-0.34981923, -0.01472207, -0.44292277, ...,  0.17416363,\n",
       "         0.01440046,  1.20744235]])"
      ]
     },
     "execution_count": 235,
     "metadata": {},
     "output_type": "execute_result"
    }
   ],
   "source": [
    "np.matmul(\n",
    "    np.reshape(Zreg.values, (len(Zreg),1)),\n",
    "    np.reshape(B.iloc[0,:].values, (1,B.shape[1]))\n",
    ")"
   ]
  },
  {
   "cell_type": "code",
   "execution_count": 230,
   "id": "9e51bf2b-328e-4c94-832e-c1ababa6dd90",
   "metadata": {},
   "outputs": [
    {
     "data": {
      "text/plain": [
       "A2M      NaN\n",
       "AAAS     NaN\n",
       "AANAT    NaN\n",
       "AARS     NaN\n",
       "AARS2    NaN\n",
       "          ..\n",
       "ZNRD1    NaN\n",
       "ZW10     NaN\n",
       "ZWILCH   NaN\n",
       "ZWINT    NaN\n",
       "ZYX      NaN\n",
       "Length: 5928, dtype: float64"
      ]
     },
     "execution_count": 230,
     "metadata": {},
     "output_type": "execute_result"
    }
   ],
   "source": [
    "Zreg * B.iloc[0,:]"
   ]
  },
  {
   "cell_type": "code",
   "execution_count": null,
   "id": "bfa619ff-b30a-42fd-bd33-ec305bf803c7",
   "metadata": {},
   "outputs": [],
   "source": [
    "# res = c(res, sum((matrix(Zreg, ncol = 1) %*% matrix(B[i, ], nrow = 1) - mean(Y))^2))"
   ]
  },
  {
   "cell_type": "code",
   "execution_count": 243,
   "id": "64d03a05-3865-4660-9bb9-ae0b2c03a612",
   "metadata": {},
   "outputs": [
    {
     "data": {
      "text/plain": [
       "6.437751566402817e-16"
      ]
     },
     "execution_count": 243,
     "metadata": {},
     "output_type": "execute_result"
    }
   ],
   "source": [
    "Y.mean().mean()"
   ]
  },
  {
   "cell_type": "code",
   "execution_count": 252,
   "id": "31330a39-4c16-4def-bd79-941ed2811380",
   "metadata": {},
   "outputs": [
    {
     "data": {
      "text/plain": [
       "6.435495653849009e-16"
      ]
     },
     "execution_count": 252,
     "metadata": {},
     "output_type": "execute_result"
    }
   ],
   "source": [
    "np.mean(Y.values.flatten())"
   ]
  },
  {
   "cell_type": "code",
   "execution_count": 240,
   "id": "8116ac75-2c4d-43bb-b77e-e2680a2bdaba",
   "metadata": {},
   "outputs": [
    {
     "data": {
      "text/plain": [
       "array([[-0.46086358, -0.01939535, -0.58352131, ...,  0.22944901,\n",
       "         0.01897165,  1.59072501],\n",
       "       [-0.11876142, -0.00499805, -0.15036949, ...,  0.05912746,\n",
       "         0.00488887,  0.40991907],\n",
       "       [-0.58487322, -0.02461427, -0.74053581, ...,  0.29118938,\n",
       "         0.02407657,  2.01875891],\n",
       "       ...,\n",
       "       [ 0.30165636,  0.01269515,  0.38194147, ..., -0.15018491,\n",
       "        -0.01241782, -1.04120252],\n",
       "       [-0.26114294, -0.01099015, -0.3306455 , ...,  0.13001459,\n",
       "         0.01075007,  0.90136566],\n",
       "       [-0.34981923, -0.01472207, -0.44292277, ...,  0.17416363,\n",
       "         0.01440046,  1.20744235]])"
      ]
     },
     "execution_count": 240,
     "metadata": {},
     "output_type": "execute_result"
    }
   ],
   "source": [
    "res"
   ]
  },
  {
   "cell_type": "code",
   "execution_count": null,
   "id": "154c7628-50d3-4732-84bd-51d40222486e",
   "metadata": {},
   "outputs": [],
   "source": [
    "res = c(\n",
    "    res,\n",
    "    sum(\n",
    "        (np.reshape(Zreg.values, (5892,1)) @ np.reshape(B.iloc[i,:].values, (1,B.shape[1])) - np.mean(Y.values.flatten()))**2\n",
    "       )\n",
    ")"
   ]
  },
  {
   "cell_type": "code",
   "execution_count": 256,
   "id": "dd4f9134-2823-4b74-ae78-f91a34eac36a",
   "metadata": {},
   "outputs": [
    {
     "data": {
      "text/plain": [
       "48688.813829927574"
      ]
     },
     "execution_count": 256,
     "metadata": {},
     "output_type": "execute_result"
    }
   ],
   "source": [
    "np.sum(((np.reshape(Zreg.values, (5892,1)) @ np.reshape(B.iloc[i,:].values, (1,B.shape[1])) - np.mean(Y.values.flatten()))**2))"
   ]
  },
  {
   "cell_type": "code",
   "execution_count": 265,
   "id": "fb590aab-37ab-4e0d-8385-0a27ee3f981e",
   "metadata": {},
   "outputs": [
    {
     "ename": "TypeError",
     "evalue": "unsupported operand type(s) for @: 'numpy.float64' and 'numpy.float64'",
     "output_type": "error",
     "traceback": [
      "\u001b[0;31m---------------------------------------------------------------------------\u001b[0m",
      "\u001b[0;31mTypeError\u001b[0m                                 Traceback (most recent call last)",
      "Input \u001b[0;32mIn [265]\u001b[0m, in \u001b[0;36m<cell line: 1>\u001b[0;34m()\u001b[0m\n\u001b[0;32m----> 1\u001b[0m res2 \u001b[38;5;241m=\u001b[39m [calc_res(B\u001b[38;5;241m.\u001b[39miloc[i,:]\u001b[38;5;241m.\u001b[39mvalues, Y\u001b[38;5;241m.\u001b[39mvalues) \u001b[38;5;28;01mfor\u001b[39;00m i \u001b[38;5;129;01min\u001b[39;00m \u001b[38;5;28mrange\u001b[39m(B\u001b[38;5;241m.\u001b[39mshape[\u001b[38;5;241m0\u001b[39m])]\n",
      "Input \u001b[0;32mIn [265]\u001b[0m, in \u001b[0;36m<listcomp>\u001b[0;34m(.0)\u001b[0m\n\u001b[0;32m----> 1\u001b[0m res2 \u001b[38;5;241m=\u001b[39m [\u001b[43mcalc_res\u001b[49m\u001b[43m(\u001b[49m\u001b[43mB\u001b[49m\u001b[38;5;241;43m.\u001b[39;49m\u001b[43miloc\u001b[49m\u001b[43m[\u001b[49m\u001b[43mi\u001b[49m\u001b[43m,\u001b[49m\u001b[43m:\u001b[49m\u001b[43m]\u001b[49m\u001b[38;5;241;43m.\u001b[39;49m\u001b[43mvalues\u001b[49m\u001b[43m,\u001b[49m\u001b[43m \u001b[49m\u001b[43mY\u001b[49m\u001b[38;5;241;43m.\u001b[39;49m\u001b[43mvalues\u001b[49m\u001b[43m)\u001b[49m \u001b[38;5;28;01mfor\u001b[39;00m i \u001b[38;5;129;01min\u001b[39;00m \u001b[38;5;28mrange\u001b[39m(B\u001b[38;5;241m.\u001b[39mshape[\u001b[38;5;241m0\u001b[39m])]\n",
      "File \u001b[0;32m~/Library/Caches/pypoetry/virtualenvs/pyplier-JrjK94hZ-py3.9/lib/python3.9/site-packages/numpy/lib/function_base.py:2328\u001b[0m, in \u001b[0;36mvectorize.__call__\u001b[0;34m(self, *args, **kwargs)\u001b[0m\n\u001b[1;32m   2325\u001b[0m     vargs \u001b[38;5;241m=\u001b[39m [args[_i] \u001b[38;5;28;01mfor\u001b[39;00m _i \u001b[38;5;129;01min\u001b[39;00m inds]\n\u001b[1;32m   2326\u001b[0m     vargs\u001b[38;5;241m.\u001b[39mextend([kwargs[_n] \u001b[38;5;28;01mfor\u001b[39;00m _n \u001b[38;5;129;01min\u001b[39;00m names])\n\u001b[0;32m-> 2328\u001b[0m \u001b[38;5;28;01mreturn\u001b[39;00m \u001b[38;5;28;43mself\u001b[39;49m\u001b[38;5;241;43m.\u001b[39;49m\u001b[43m_vectorize_call\u001b[49m\u001b[43m(\u001b[49m\u001b[43mfunc\u001b[49m\u001b[38;5;241;43m=\u001b[39;49m\u001b[43mfunc\u001b[49m\u001b[43m,\u001b[49m\u001b[43m \u001b[49m\u001b[43margs\u001b[49m\u001b[38;5;241;43m=\u001b[39;49m\u001b[43mvargs\u001b[49m\u001b[43m)\u001b[49m\n",
      "File \u001b[0;32m~/Library/Caches/pypoetry/virtualenvs/pyplier-JrjK94hZ-py3.9/lib/python3.9/site-packages/numpy/lib/function_base.py:2406\u001b[0m, in \u001b[0;36mvectorize._vectorize_call\u001b[0;34m(self, func, args)\u001b[0m\n\u001b[1;32m   2404\u001b[0m     res \u001b[38;5;241m=\u001b[39m func()\n\u001b[1;32m   2405\u001b[0m \u001b[38;5;28;01melse\u001b[39;00m:\n\u001b[0;32m-> 2406\u001b[0m     ufunc, otypes \u001b[38;5;241m=\u001b[39m \u001b[38;5;28;43mself\u001b[39;49m\u001b[38;5;241;43m.\u001b[39;49m\u001b[43m_get_ufunc_and_otypes\u001b[49m\u001b[43m(\u001b[49m\u001b[43mfunc\u001b[49m\u001b[38;5;241;43m=\u001b[39;49m\u001b[43mfunc\u001b[49m\u001b[43m,\u001b[49m\u001b[43m \u001b[49m\u001b[43margs\u001b[49m\u001b[38;5;241;43m=\u001b[39;49m\u001b[43margs\u001b[49m\u001b[43m)\u001b[49m\n\u001b[1;32m   2408\u001b[0m     \u001b[38;5;66;03m# Convert args to object arrays first\u001b[39;00m\n\u001b[1;32m   2409\u001b[0m     inputs \u001b[38;5;241m=\u001b[39m [asanyarray(a, dtype\u001b[38;5;241m=\u001b[39m\u001b[38;5;28mobject\u001b[39m) \u001b[38;5;28;01mfor\u001b[39;00m a \u001b[38;5;129;01min\u001b[39;00m args]\n",
      "File \u001b[0;32m~/Library/Caches/pypoetry/virtualenvs/pyplier-JrjK94hZ-py3.9/lib/python3.9/site-packages/numpy/lib/function_base.py:2366\u001b[0m, in \u001b[0;36mvectorize._get_ufunc_and_otypes\u001b[0;34m(self, func, args)\u001b[0m\n\u001b[1;32m   2362\u001b[0m     \u001b[38;5;28;01mraise\u001b[39;00m \u001b[38;5;167;01mValueError\u001b[39;00m(\u001b[38;5;124m'\u001b[39m\u001b[38;5;124mcannot call `vectorize` on size 0 inputs \u001b[39m\u001b[38;5;124m'\u001b[39m\n\u001b[1;32m   2363\u001b[0m                      \u001b[38;5;124m'\u001b[39m\u001b[38;5;124munless `otypes` is set\u001b[39m\u001b[38;5;124m'\u001b[39m)\n\u001b[1;32m   2365\u001b[0m inputs \u001b[38;5;241m=\u001b[39m [arg\u001b[38;5;241m.\u001b[39mflat[\u001b[38;5;241m0\u001b[39m] \u001b[38;5;28;01mfor\u001b[39;00m arg \u001b[38;5;129;01min\u001b[39;00m args]\n\u001b[0;32m-> 2366\u001b[0m outputs \u001b[38;5;241m=\u001b[39m \u001b[43mfunc\u001b[49m\u001b[43m(\u001b[49m\u001b[38;5;241;43m*\u001b[39;49m\u001b[43minputs\u001b[49m\u001b[43m)\u001b[49m\n\u001b[1;32m   2368\u001b[0m \u001b[38;5;66;03m# Performance note: profiling indicates that -- for simple\u001b[39;00m\n\u001b[1;32m   2369\u001b[0m \u001b[38;5;66;03m# functions at least -- this wrapping can almost double the\u001b[39;00m\n\u001b[1;32m   2370\u001b[0m \u001b[38;5;66;03m# execution time.\u001b[39;00m\n\u001b[1;32m   2371\u001b[0m \u001b[38;5;66;03m# Hence we make it optional.\u001b[39;00m\n\u001b[1;32m   2372\u001b[0m \u001b[38;5;28;01mif\u001b[39;00m \u001b[38;5;28mself\u001b[39m\u001b[38;5;241m.\u001b[39mcache:\n",
      "Input \u001b[0;32mIn [263]\u001b[0m, in \u001b[0;36mcalc_res\u001b[0;34m(B, Y)\u001b[0m\n\u001b[1;32m      1\u001b[0m \u001b[38;5;129m@np\u001b[39m\u001b[38;5;241m.\u001b[39mvectorize\n\u001b[1;32m      2\u001b[0m \u001b[38;5;28;01mdef\u001b[39;00m \u001b[38;5;21mcalc_res\u001b[39m(B: np\u001b[38;5;241m.\u001b[39mndarray, Y: np\u001b[38;5;241m.\u001b[39mndarray) \u001b[38;5;241m-\u001b[39m\u001b[38;5;241m>\u001b[39m \u001b[38;5;28mfloat\u001b[39m:\n\u001b[0;32m----> 3\u001b[0m     Zreg \u001b[38;5;241m=\u001b[39m np\u001b[38;5;241m.\u001b[39mmultiply(\u001b[43mY\u001b[49m\u001b[43m \u001b[49m\u001b[38;5;241;43m@\u001b[39;49m\u001b[43m \u001b[49m\u001b[43mB\u001b[49m, \u001b[38;5;241m1\u001b[39m\u001b[38;5;241m/\u001b[39mnp\u001b[38;5;241m.\u001b[39mdot(B, B))\n\u001b[1;32m      4\u001b[0m     res \u001b[38;5;241m=\u001b[39m np\u001b[38;5;241m.\u001b[39msum(((np\u001b[38;5;241m.\u001b[39mreshape(Zreg, (\u001b[38;5;241m5892\u001b[39m,\u001b[38;5;241m1\u001b[39m)) \u001b[38;5;241m@\u001b[39m np\u001b[38;5;241m.\u001b[39mreshape(B, (\u001b[38;5;241m1\u001b[39m,\u001b[38;5;28mlen\u001b[39m(B))) \u001b[38;5;241m-\u001b[39m np\u001b[38;5;241m.\u001b[39mmean(Y\u001b[38;5;241m.\u001b[39mflatten()))\u001b[38;5;241m*\u001b[39m\u001b[38;5;241m*\u001b[39m\u001b[38;5;241m2\u001b[39m))\n\u001b[1;32m      5\u001b[0m     \u001b[38;5;28;01mreturn\u001b[39;00m res\n",
      "\u001b[0;31mTypeError\u001b[0m: unsupported operand type(s) for @: 'numpy.float64' and 'numpy.float64'"
     ]
    }
   ],
   "source": [
    "res2 = [calc_res(B.iloc[i,:].values, Y.values) for i in range(B.shape[0])]"
   ]
  },
  {
   "cell_type": "code",
   "execution_count": 261,
   "id": "aa47628a-8d9a-4cf7-8797-2bfcba1a5053",
   "metadata": {},
   "outputs": [
    {
     "data": {
      "text/plain": [
       "[48688.813829927574,\n",
       " 35385.04648817192,\n",
       " 28441.355032852527,\n",
       " 18836.359020244417,\n",
       " 8226.737247076258,\n",
       " 13986.197661098797,\n",
       " 52602.64714125985,\n",
       " 13904.701663370213,\n",
       " 10476.55048142907,\n",
       " 20063.63126424715,\n",
       " 11004.33192528285,\n",
       " 48674.78124574433,\n",
       " 15980.813522146469,\n",
       " 18083.950262984632,\n",
       " 23330.981775305696,\n",
       " 7813.111178407074,\n",
       " 22982.49918313752,\n",
       " 18794.207636911684,\n",
       " 21108.492117685306,\n",
       " 9519.980809227814,\n",
       " 5081.346592256621,\n",
       " 6697.344891515427,\n",
       " 40454.044565981436,\n",
       " 22798.973464565664,\n",
       " 21059.11498994906,\n",
       " 6578.64308369393,\n",
       " 6147.7976285390005,\n",
       " 26601.68184942938,\n",
       " 50440.79888412978,\n",
       " 36043.49345762922]"
      ]
     },
     "execution_count": 261,
     "metadata": {},
     "output_type": "execute_result"
    }
   ],
   "source": [
    "res2"
   ]
  },
  {
   "cell_type": "code",
   "execution_count": 266,
   "id": "49f61e95-475f-4189-90c2-f0a88948a842",
   "metadata": {},
   "outputs": [],
   "source": [
    "def calc_res(B: np.ndarray, Y: np.ndarray) -> float:\n",
    "    Zreg = np.multiply(Y @ B, 1/np.dot(B, B))\n",
    "    res = np.sum(((np.reshape(Zreg, (len(Zreg),1)) @ np.reshape(B, (1,len(B))) - np.mean(Y.flatten()))**2))\n",
    "    return res"
   ]
  },
  {
   "cell_type": "code",
   "execution_count": 271,
   "id": "f229b28a-00fd-4f00-abd6-f340b4a990ab",
   "metadata": {},
   "outputs": [],
   "source": [
    "# R version:\n",
    "# elif option == \"simple\":\n",
    "    # Z.norm = apply(Z, 2, normF) \n",
    "    # B.norm = apply(B, 1, normF)\n",
    "    # Z = sweep(Z, 2, Z.norm, \"/\")\n",
    "    # B = sweep(B, 1, B.norm, \"/\")\n",
    "    # res = (diag(t(Z) %*% Y %*% t(B))[1:k])^2"
   ]
  },
  {
   "cell_type": "markdown",
   "id": "2111e7f8-9dc6-4620-b9b9-718c8e43fa9e",
   "metadata": {},
   "source": [
    "There is no `normF` function outside of the package `{fungible}`, which does not appear to be listed as a dependency.  I'm guessing it is supposed to be the Frobenius normal?"
   ]
  },
  {
   "cell_type": "code",
   "execution_count": 269,
   "id": "493e44a6-5b09-4d57-a680-893825625b2f",
   "metadata": {},
   "outputs": [
    {
     "data": {
      "text/plain": [
       "array([0.47065074, 0.39149962, 0.36557013, ..., 0.31422332, 0.42899943,\n",
       "       0.40242758])"
      ]
     },
     "execution_count": 269,
     "metadata": {},
     "output_type": "execute_result"
    }
   ],
   "source": [
    "np.linalg.norm(Z, axis=1)"
   ]
  },
  {
   "cell_type": "code",
   "execution_count": 270,
   "id": "3987eaa2-29fa-4e40-99c5-16d4b07d5031",
   "metadata": {},
   "outputs": [],
   "source": [
    "Z_norm = np.linalg.norm(Z, axis=1)\n",
    "B_norm = np.linalg.norm(B, axis=0)"
   ]
  },
  {
   "cell_type": "code",
   "execution_count": 278,
   "id": "afcac61b-de58-4973-8b40-024ec7f92661",
   "metadata": {},
   "outputs": [
    {
     "data": {
      "text/plain": [
       "5892"
      ]
     },
     "execution_count": 278,
     "metadata": {},
     "output_type": "execute_result"
    }
   ],
   "source": [
    "len(Z_norm)"
   ]
  },
  {
   "cell_type": "code",
   "execution_count": 284,
   "id": "f47d0967-9a32-4426-815d-79c70ff65e5c",
   "metadata": {},
   "outputs": [
    {
     "data": {
      "text/html": [
       "<div>\n",
       "<style scoped>\n",
       "    .dataframe tbody tr th:only-of-type {\n",
       "        vertical-align: middle;\n",
       "    }\n",
       "\n",
       "    .dataframe tbody tr th {\n",
       "        vertical-align: top;\n",
       "    }\n",
       "\n",
       "    .dataframe thead th {\n",
       "        text-align: right;\n",
       "    }\n",
       "</style>\n",
       "<table border=\"1\" class=\"dataframe\">\n",
       "  <thead>\n",
       "    <tr style=\"text-align: right;\">\n",
       "      <th></th>\n",
       "      <th>LV1</th>\n",
       "      <th>LV2</th>\n",
       "      <th>LV3</th>\n",
       "      <th>LV4</th>\n",
       "      <th>LV5</th>\n",
       "      <th>LV6</th>\n",
       "      <th>LV7</th>\n",
       "      <th>LV8</th>\n",
       "      <th>LV9</th>\n",
       "      <th>LV10</th>\n",
       "      <th>...</th>\n",
       "      <th>LV21</th>\n",
       "      <th>LV22</th>\n",
       "      <th>LV23</th>\n",
       "      <th>LV24</th>\n",
       "      <th>LV25</th>\n",
       "      <th>LV26</th>\n",
       "      <th>LV27</th>\n",
       "      <th>LV28</th>\n",
       "      <th>LV29</th>\n",
       "      <th>LV30</th>\n",
       "    </tr>\n",
       "  </thead>\n",
       "  <tbody>\n",
       "    <tr>\n",
       "      <th>GAS6</th>\n",
       "      <td>0.000000</td>\n",
       "      <td>0.000000</td>\n",
       "      <td>0.065180</td>\n",
       "      <td>0.001635</td>\n",
       "      <td>0.267924</td>\n",
       "      <td>0.059560</td>\n",
       "      <td>0.000000</td>\n",
       "      <td>0.643492</td>\n",
       "      <td>0.010291</td>\n",
       "      <td>0.019948</td>\n",
       "      <td>...</td>\n",
       "      <td>0.000000</td>\n",
       "      <td>0.108735</td>\n",
       "      <td>0.000000</td>\n",
       "      <td>0.122313</td>\n",
       "      <td>0.088459</td>\n",
       "      <td>0.497868</td>\n",
       "      <td>0.199422</td>\n",
       "      <td>0.000000</td>\n",
       "      <td>0.000000</td>\n",
       "      <td>0.000000</td>\n",
       "    </tr>\n",
       "    <tr>\n",
       "      <th>MMP14</th>\n",
       "      <td>0.019199</td>\n",
       "      <td>0.031926</td>\n",
       "      <td>0.000000</td>\n",
       "      <td>0.188189</td>\n",
       "      <td>0.700612</td>\n",
       "      <td>0.060812</td>\n",
       "      <td>0.000000</td>\n",
       "      <td>0.101209</td>\n",
       "      <td>0.000000</td>\n",
       "      <td>0.000000</td>\n",
       "      <td>...</td>\n",
       "      <td>0.129001</td>\n",
       "      <td>0.000000</td>\n",
       "      <td>0.227563</td>\n",
       "      <td>0.037854</td>\n",
       "      <td>0.450949</td>\n",
       "      <td>0.066254</td>\n",
       "      <td>0.000000</td>\n",
       "      <td>0.000000</td>\n",
       "      <td>0.225612</td>\n",
       "      <td>0.280451</td>\n",
       "    </tr>\n",
       "    <tr>\n",
       "      <th>MARCKSL1</th>\n",
       "      <td>0.000000</td>\n",
       "      <td>0.000000</td>\n",
       "      <td>0.000000</td>\n",
       "      <td>0.000000</td>\n",
       "      <td>0.000000</td>\n",
       "      <td>0.169893</td>\n",
       "      <td>0.048469</td>\n",
       "      <td>0.000000</td>\n",
       "      <td>0.000000</td>\n",
       "      <td>0.000000</td>\n",
       "      <td>...</td>\n",
       "      <td>0.295490</td>\n",
       "      <td>0.000000</td>\n",
       "      <td>0.649931</td>\n",
       "      <td>0.000000</td>\n",
       "      <td>0.106737</td>\n",
       "      <td>0.000000</td>\n",
       "      <td>0.073635</td>\n",
       "      <td>0.282788</td>\n",
       "      <td>0.000000</td>\n",
       "      <td>0.349431</td>\n",
       "    </tr>\n",
       "    <tr>\n",
       "      <th>SPARC</th>\n",
       "      <td>0.000000</td>\n",
       "      <td>0.000000</td>\n",
       "      <td>0.036919</td>\n",
       "      <td>0.000000</td>\n",
       "      <td>0.000000</td>\n",
       "      <td>0.012517</td>\n",
       "      <td>0.016389</td>\n",
       "      <td>0.000000</td>\n",
       "      <td>0.014164</td>\n",
       "      <td>0.000000</td>\n",
       "      <td>...</td>\n",
       "      <td>0.000000</td>\n",
       "      <td>0.000000</td>\n",
       "      <td>0.000000</td>\n",
       "      <td>0.000000</td>\n",
       "      <td>0.000000</td>\n",
       "      <td>0.000000</td>\n",
       "      <td>0.000000</td>\n",
       "      <td>0.000000</td>\n",
       "      <td>0.000000</td>\n",
       "      <td>0.079054</td>\n",
       "    </tr>\n",
       "    <tr>\n",
       "      <th>CTSD</th>\n",
       "      <td>0.000000</td>\n",
       "      <td>0.151100</td>\n",
       "      <td>0.000000</td>\n",
       "      <td>0.000000</td>\n",
       "      <td>0.536046</td>\n",
       "      <td>0.000000</td>\n",
       "      <td>0.000000</td>\n",
       "      <td>0.000000</td>\n",
       "      <td>0.025347</td>\n",
       "      <td>0.000000</td>\n",
       "      <td>...</td>\n",
       "      <td>0.000000</td>\n",
       "      <td>0.000000</td>\n",
       "      <td>0.601877</td>\n",
       "      <td>0.019443</td>\n",
       "      <td>0.000000</td>\n",
       "      <td>0.000000</td>\n",
       "      <td>0.061124</td>\n",
       "      <td>0.029772</td>\n",
       "      <td>0.000000</td>\n",
       "      <td>0.204620</td>\n",
       "    </tr>\n",
       "    <tr>\n",
       "      <th>...</th>\n",
       "      <td>...</td>\n",
       "      <td>...</td>\n",
       "      <td>...</td>\n",
       "      <td>...</td>\n",
       "      <td>...</td>\n",
       "      <td>...</td>\n",
       "      <td>...</td>\n",
       "      <td>...</td>\n",
       "      <td>...</td>\n",
       "      <td>...</td>\n",
       "      <td>...</td>\n",
       "      <td>...</td>\n",
       "      <td>...</td>\n",
       "      <td>...</td>\n",
       "      <td>...</td>\n",
       "      <td>...</td>\n",
       "      <td>...</td>\n",
       "      <td>...</td>\n",
       "      <td>...</td>\n",
       "      <td>...</td>\n",
       "      <td>...</td>\n",
       "    </tr>\n",
       "    <tr>\n",
       "      <th>CFL2</th>\n",
       "      <td>0.206840</td>\n",
       "      <td>0.000000</td>\n",
       "      <td>0.030966</td>\n",
       "      <td>0.000000</td>\n",
       "      <td>0.000000</td>\n",
       "      <td>0.000000</td>\n",
       "      <td>0.305341</td>\n",
       "      <td>0.061290</td>\n",
       "      <td>0.419732</td>\n",
       "      <td>0.044949</td>\n",
       "      <td>...</td>\n",
       "      <td>0.000000</td>\n",
       "      <td>0.000000</td>\n",
       "      <td>0.095376</td>\n",
       "      <td>0.042927</td>\n",
       "      <td>0.000000</td>\n",
       "      <td>0.321787</td>\n",
       "      <td>0.472807</td>\n",
       "      <td>0.000000</td>\n",
       "      <td>0.325551</td>\n",
       "      <td>0.359981</td>\n",
       "    </tr>\n",
       "    <tr>\n",
       "      <th>CFL1</th>\n",
       "      <td>0.000000</td>\n",
       "      <td>0.000000</td>\n",
       "      <td>0.000000</td>\n",
       "      <td>0.000000</td>\n",
       "      <td>0.351736</td>\n",
       "      <td>0.000000</td>\n",
       "      <td>0.022876</td>\n",
       "      <td>0.001852</td>\n",
       "      <td>0.091779</td>\n",
       "      <td>0.000000</td>\n",
       "      <td>...</td>\n",
       "      <td>0.084491</td>\n",
       "      <td>0.027163</td>\n",
       "      <td>0.486628</td>\n",
       "      <td>0.115271</td>\n",
       "      <td>0.151292</td>\n",
       "      <td>0.000000</td>\n",
       "      <td>0.000000</td>\n",
       "      <td>0.261837</td>\n",
       "      <td>0.003116</td>\n",
       "      <td>0.242903</td>\n",
       "    </tr>\n",
       "    <tr>\n",
       "      <th>SELL</th>\n",
       "      <td>0.031354</td>\n",
       "      <td>0.504952</td>\n",
       "      <td>0.000000</td>\n",
       "      <td>0.063747</td>\n",
       "      <td>0.041554</td>\n",
       "      <td>0.093770</td>\n",
       "      <td>0.000000</td>\n",
       "      <td>0.000000</td>\n",
       "      <td>0.000000</td>\n",
       "      <td>0.198801</td>\n",
       "      <td>...</td>\n",
       "      <td>0.178192</td>\n",
       "      <td>0.121683</td>\n",
       "      <td>0.000000</td>\n",
       "      <td>0.023631</td>\n",
       "      <td>0.000000</td>\n",
       "      <td>0.000000</td>\n",
       "      <td>0.594083</td>\n",
       "      <td>0.000000</td>\n",
       "      <td>0.192380</td>\n",
       "      <td>0.000000</td>\n",
       "    </tr>\n",
       "    <tr>\n",
       "      <th>GNGT2</th>\n",
       "      <td>0.000000</td>\n",
       "      <td>0.000000</td>\n",
       "      <td>0.000000</td>\n",
       "      <td>0.000000</td>\n",
       "      <td>0.250262</td>\n",
       "      <td>0.000000</td>\n",
       "      <td>0.000000</td>\n",
       "      <td>0.000000</td>\n",
       "      <td>0.661852</td>\n",
       "      <td>0.000000</td>\n",
       "      <td>...</td>\n",
       "      <td>0.000000</td>\n",
       "      <td>0.000000</td>\n",
       "      <td>0.401584</td>\n",
       "      <td>0.000000</td>\n",
       "      <td>0.268894</td>\n",
       "      <td>0.215329</td>\n",
       "      <td>0.208118</td>\n",
       "      <td>0.000000</td>\n",
       "      <td>0.000000</td>\n",
       "      <td>0.311118</td>\n",
       "    </tr>\n",
       "    <tr>\n",
       "      <th>SERPINH1</th>\n",
       "      <td>0.000000</td>\n",
       "      <td>0.000000</td>\n",
       "      <td>0.053296</td>\n",
       "      <td>0.449537</td>\n",
       "      <td>0.000000</td>\n",
       "      <td>0.285350</td>\n",
       "      <td>0.000000</td>\n",
       "      <td>0.000000</td>\n",
       "      <td>0.514210</td>\n",
       "      <td>0.000000</td>\n",
       "      <td>...</td>\n",
       "      <td>0.000000</td>\n",
       "      <td>0.018876</td>\n",
       "      <td>0.000000</td>\n",
       "      <td>0.295012</td>\n",
       "      <td>0.064689</td>\n",
       "      <td>0.000000</td>\n",
       "      <td>0.000000</td>\n",
       "      <td>0.132793</td>\n",
       "      <td>0.000000</td>\n",
       "      <td>0.207209</td>\n",
       "    </tr>\n",
       "  </tbody>\n",
       "</table>\n",
       "<p>5892 rows × 30 columns</p>\n",
       "</div>"
      ],
      "text/plain": [
       "               LV1       LV2       LV3       LV4       LV5       LV6  \\\n",
       "GAS6      0.000000  0.000000  0.065180  0.001635  0.267924  0.059560   \n",
       "MMP14     0.019199  0.031926  0.000000  0.188189  0.700612  0.060812   \n",
       "MARCKSL1  0.000000  0.000000  0.000000  0.000000  0.000000  0.169893   \n",
       "SPARC     0.000000  0.000000  0.036919  0.000000  0.000000  0.012517   \n",
       "CTSD      0.000000  0.151100  0.000000  0.000000  0.536046  0.000000   \n",
       "...            ...       ...       ...       ...       ...       ...   \n",
       "CFL2      0.206840  0.000000  0.030966  0.000000  0.000000  0.000000   \n",
       "CFL1      0.000000  0.000000  0.000000  0.000000  0.351736  0.000000   \n",
       "SELL      0.031354  0.504952  0.000000  0.063747  0.041554  0.093770   \n",
       "GNGT2     0.000000  0.000000  0.000000  0.000000  0.250262  0.000000   \n",
       "SERPINH1  0.000000  0.000000  0.053296  0.449537  0.000000  0.285350   \n",
       "\n",
       "               LV7       LV8       LV9      LV10  ...      LV21      LV22  \\\n",
       "GAS6      0.000000  0.643492  0.010291  0.019948  ...  0.000000  0.108735   \n",
       "MMP14     0.000000  0.101209  0.000000  0.000000  ...  0.129001  0.000000   \n",
       "MARCKSL1  0.048469  0.000000  0.000000  0.000000  ...  0.295490  0.000000   \n",
       "SPARC     0.016389  0.000000  0.014164  0.000000  ...  0.000000  0.000000   \n",
       "CTSD      0.000000  0.000000  0.025347  0.000000  ...  0.000000  0.000000   \n",
       "...            ...       ...       ...       ...  ...       ...       ...   \n",
       "CFL2      0.305341  0.061290  0.419732  0.044949  ...  0.000000  0.000000   \n",
       "CFL1      0.022876  0.001852  0.091779  0.000000  ...  0.084491  0.027163   \n",
       "SELL      0.000000  0.000000  0.000000  0.198801  ...  0.178192  0.121683   \n",
       "GNGT2     0.000000  0.000000  0.661852  0.000000  ...  0.000000  0.000000   \n",
       "SERPINH1  0.000000  0.000000  0.514210  0.000000  ...  0.000000  0.018876   \n",
       "\n",
       "              LV23      LV24      LV25      LV26      LV27      LV28  \\\n",
       "GAS6      0.000000  0.122313  0.088459  0.497868  0.199422  0.000000   \n",
       "MMP14     0.227563  0.037854  0.450949  0.066254  0.000000  0.000000   \n",
       "MARCKSL1  0.649931  0.000000  0.106737  0.000000  0.073635  0.282788   \n",
       "SPARC     0.000000  0.000000  0.000000  0.000000  0.000000  0.000000   \n",
       "CTSD      0.601877  0.019443  0.000000  0.000000  0.061124  0.029772   \n",
       "...            ...       ...       ...       ...       ...       ...   \n",
       "CFL2      0.095376  0.042927  0.000000  0.321787  0.472807  0.000000   \n",
       "CFL1      0.486628  0.115271  0.151292  0.000000  0.000000  0.261837   \n",
       "SELL      0.000000  0.023631  0.000000  0.000000  0.594083  0.000000   \n",
       "GNGT2     0.401584  0.000000  0.268894  0.215329  0.208118  0.000000   \n",
       "SERPINH1  0.000000  0.295012  0.064689  0.000000  0.000000  0.132793   \n",
       "\n",
       "              LV29      LV30  \n",
       "GAS6      0.000000  0.000000  \n",
       "MMP14     0.225612  0.280451  \n",
       "MARCKSL1  0.000000  0.349431  \n",
       "SPARC     0.000000  0.079054  \n",
       "CTSD      0.000000  0.204620  \n",
       "...            ...       ...  \n",
       "CFL2      0.325551  0.359981  \n",
       "CFL1      0.003116  0.242903  \n",
       "SELL      0.192380  0.000000  \n",
       "GNGT2     0.000000  0.311118  \n",
       "SERPINH1  0.000000  0.207209  \n",
       "\n",
       "[5892 rows x 30 columns]"
      ]
     },
     "execution_count": 284,
     "metadata": {},
     "output_type": "execute_result"
    }
   ],
   "source": [
    "Z = np.divide(Z, np.reshape(Z_norm, (len(Z_norm),1)))\n",
    "Z.head()"
   ]
  },
  {
   "cell_type": "code",
   "execution_count": 280,
   "id": "eb1f3696-f9df-4815-aef7-b030d67a977c",
   "metadata": {},
   "outputs": [],
   "source": [
    "B_norm = np.linalg.norm(B, axis=0)"
   ]
  },
  {
   "cell_type": "code",
   "execution_count": 283,
   "id": "1ad2b061-880b-463b-846b-eac0a548bf9d",
   "metadata": {},
   "outputs": [
    {
     "data": {
      "text/html": [
       "<div>\n",
       "<style scoped>\n",
       "    .dataframe tbody tr th:only-of-type {\n",
       "        vertical-align: middle;\n",
       "    }\n",
       "\n",
       "    .dataframe tbody tr th {\n",
       "        vertical-align: top;\n",
       "    }\n",
       "\n",
       "    .dataframe thead th {\n",
       "        text-align: right;\n",
       "    }\n",
       "</style>\n",
       "<table border=\"1\" class=\"dataframe\">\n",
       "  <thead>\n",
       "    <tr style=\"text-align: right;\">\n",
       "      <th></th>\n",
       "      <th>BD8001</th>\n",
       "      <th>BD8002</th>\n",
       "      <th>BD8003</th>\n",
       "      <th>BD8004</th>\n",
       "      <th>BD8005</th>\n",
       "      <th>BD8006</th>\n",
       "      <th>BD8007</th>\n",
       "      <th>BD8008</th>\n",
       "      <th>BD8009</th>\n",
       "      <th>BD8010</th>\n",
       "      <th>...</th>\n",
       "      <th>BD8031</th>\n",
       "      <th>BD8032</th>\n",
       "      <th>BD8033</th>\n",
       "      <th>BD8034</th>\n",
       "      <th>BD8038</th>\n",
       "      <th>BD8041</th>\n",
       "      <th>BD8042</th>\n",
       "      <th>BD8043</th>\n",
       "      <th>BD8044</th>\n",
       "      <th>BD8045</th>\n",
       "    </tr>\n",
       "  </thead>\n",
       "  <tbody>\n",
       "    <tr>\n",
       "      <th>1,REACTOME_GENERIC_TRANSCRIPTION_PATHWAY</th>\n",
       "      <td>0.187167</td>\n",
       "      <td>0.009742</td>\n",
       "      <td>0.177031</td>\n",
       "      <td>0.282832</td>\n",
       "      <td>-0.022828</td>\n",
       "      <td>0.183187</td>\n",
       "      <td>-0.186647</td>\n",
       "      <td>-0.194501</td>\n",
       "      <td>0.052321</td>\n",
       "      <td>0.259714</td>\n",
       "      <td>...</td>\n",
       "      <td>0.216357</td>\n",
       "      <td>-0.018874</td>\n",
       "      <td>0.247088</td>\n",
       "      <td>0.146523</td>\n",
       "      <td>0.191068</td>\n",
       "      <td>-0.020754</td>\n",
       "      <td>0.002584</td>\n",
       "      <td>-0.123099</td>\n",
       "      <td>-0.011695</td>\n",
       "      <td>-0.496100</td>\n",
       "    </tr>\n",
       "    <tr>\n",
       "      <th>2,IRIS_Neutrophil-Resting</th>\n",
       "      <td>-0.134295</td>\n",
       "      <td>-0.253172</td>\n",
       "      <td>0.034137</td>\n",
       "      <td>0.214181</td>\n",
       "      <td>0.319135</td>\n",
       "      <td>-0.072949</td>\n",
       "      <td>-0.373122</td>\n",
       "      <td>0.218757</td>\n",
       "      <td>-0.485441</td>\n",
       "      <td>-0.137368</td>\n",
       "      <td>...</td>\n",
       "      <td>0.357107</td>\n",
       "      <td>0.053392</td>\n",
       "      <td>-0.255135</td>\n",
       "      <td>-0.596853</td>\n",
       "      <td>0.085961</td>\n",
       "      <td>-0.507106</td>\n",
       "      <td>0.166998</td>\n",
       "      <td>-0.024483</td>\n",
       "      <td>-0.067151</td>\n",
       "      <td>0.045032</td>\n",
       "    </tr>\n",
       "    <tr>\n",
       "      <th>3,MIPS_SPLICEOSOME</th>\n",
       "      <td>-0.013481</td>\n",
       "      <td>-0.203066</td>\n",
       "      <td>0.147269</td>\n",
       "      <td>-0.325909</td>\n",
       "      <td>-0.293837</td>\n",
       "      <td>-0.155963</td>\n",
       "      <td>-0.094047</td>\n",
       "      <td>-0.325233</td>\n",
       "      <td>-0.027035</td>\n",
       "      <td>-0.062867</td>\n",
       "      <td>...</td>\n",
       "      <td>-0.043913</td>\n",
       "      <td>-0.108791</td>\n",
       "      <td>-0.265638</td>\n",
       "      <td>-0.200243</td>\n",
       "      <td>0.351928</td>\n",
       "      <td>0.101598</td>\n",
       "      <td>0.323352</td>\n",
       "      <td>0.228680</td>\n",
       "      <td>-0.161511</td>\n",
       "      <td>0.019439</td>\n",
       "    </tr>\n",
       "    <tr>\n",
       "      <th>4,REACTOME_GENERIC_TRANSCRIPTION_PATHWAY</th>\n",
       "      <td>-0.245087</td>\n",
       "      <td>-0.224077</td>\n",
       "      <td>0.034288</td>\n",
       "      <td>0.002501</td>\n",
       "      <td>0.122440</td>\n",
       "      <td>0.225361</td>\n",
       "      <td>-0.156177</td>\n",
       "      <td>0.195204</td>\n",
       "      <td>-0.075764</td>\n",
       "      <td>-0.282972</td>\n",
       "      <td>...</td>\n",
       "      <td>0.017811</td>\n",
       "      <td>-0.610359</td>\n",
       "      <td>0.271412</td>\n",
       "      <td>0.321665</td>\n",
       "      <td>0.018983</td>\n",
       "      <td>0.054268</td>\n",
       "      <td>-0.027263</td>\n",
       "      <td>0.165926</td>\n",
       "      <td>-0.097184</td>\n",
       "      <td>-0.059088</td>\n",
       "    </tr>\n",
       "    <tr>\n",
       "      <th>5,IRIS_Monocyte-Day0</th>\n",
       "      <td>0.213247</td>\n",
       "      <td>0.041147</td>\n",
       "      <td>-0.135313</td>\n",
       "      <td>0.071167</td>\n",
       "      <td>0.222298</td>\n",
       "      <td>0.007611</td>\n",
       "      <td>0.076949</td>\n",
       "      <td>0.131991</td>\n",
       "      <td>-0.237404</td>\n",
       "      <td>0.207197</td>\n",
       "      <td>...</td>\n",
       "      <td>0.144245</td>\n",
       "      <td>-0.157934</td>\n",
       "      <td>-0.051568</td>\n",
       "      <td>-0.058700</td>\n",
       "      <td>-0.056661</td>\n",
       "      <td>0.030062</td>\n",
       "      <td>-0.566462</td>\n",
       "      <td>0.313470</td>\n",
       "      <td>0.234955</td>\n",
       "      <td>0.185153</td>\n",
       "    </tr>\n",
       "  </tbody>\n",
       "</table>\n",
       "<p>5 rows × 36 columns</p>\n",
       "</div>"
      ],
      "text/plain": [
       "                                            BD8001    BD8002    BD8003  \\\n",
       "1,REACTOME_GENERIC_TRANSCRIPTION_PATHWAY  0.187167  0.009742  0.177031   \n",
       "2,IRIS_Neutrophil-Resting                -0.134295 -0.253172  0.034137   \n",
       "3,MIPS_SPLICEOSOME                       -0.013481 -0.203066  0.147269   \n",
       "4,REACTOME_GENERIC_TRANSCRIPTION_PATHWAY -0.245087 -0.224077  0.034288   \n",
       "5,IRIS_Monocyte-Day0                      0.213247  0.041147 -0.135313   \n",
       "\n",
       "                                            BD8004    BD8005    BD8006  \\\n",
       "1,REACTOME_GENERIC_TRANSCRIPTION_PATHWAY  0.282832 -0.022828  0.183187   \n",
       "2,IRIS_Neutrophil-Resting                 0.214181  0.319135 -0.072949   \n",
       "3,MIPS_SPLICEOSOME                       -0.325909 -0.293837 -0.155963   \n",
       "4,REACTOME_GENERIC_TRANSCRIPTION_PATHWAY  0.002501  0.122440  0.225361   \n",
       "5,IRIS_Monocyte-Day0                      0.071167  0.222298  0.007611   \n",
       "\n",
       "                                            BD8007    BD8008    BD8009  \\\n",
       "1,REACTOME_GENERIC_TRANSCRIPTION_PATHWAY -0.186647 -0.194501  0.052321   \n",
       "2,IRIS_Neutrophil-Resting                -0.373122  0.218757 -0.485441   \n",
       "3,MIPS_SPLICEOSOME                       -0.094047 -0.325233 -0.027035   \n",
       "4,REACTOME_GENERIC_TRANSCRIPTION_PATHWAY -0.156177  0.195204 -0.075764   \n",
       "5,IRIS_Monocyte-Day0                      0.076949  0.131991 -0.237404   \n",
       "\n",
       "                                            BD8010  ...    BD8031    BD8032  \\\n",
       "1,REACTOME_GENERIC_TRANSCRIPTION_PATHWAY  0.259714  ...  0.216357 -0.018874   \n",
       "2,IRIS_Neutrophil-Resting                -0.137368  ...  0.357107  0.053392   \n",
       "3,MIPS_SPLICEOSOME                       -0.062867  ... -0.043913 -0.108791   \n",
       "4,REACTOME_GENERIC_TRANSCRIPTION_PATHWAY -0.282972  ...  0.017811 -0.610359   \n",
       "5,IRIS_Monocyte-Day0                      0.207197  ...  0.144245 -0.157934   \n",
       "\n",
       "                                            BD8033    BD8034    BD8038  \\\n",
       "1,REACTOME_GENERIC_TRANSCRIPTION_PATHWAY  0.247088  0.146523  0.191068   \n",
       "2,IRIS_Neutrophil-Resting                -0.255135 -0.596853  0.085961   \n",
       "3,MIPS_SPLICEOSOME                       -0.265638 -0.200243  0.351928   \n",
       "4,REACTOME_GENERIC_TRANSCRIPTION_PATHWAY  0.271412  0.321665  0.018983   \n",
       "5,IRIS_Monocyte-Day0                     -0.051568 -0.058700 -0.056661   \n",
       "\n",
       "                                            BD8041    BD8042    BD8043  \\\n",
       "1,REACTOME_GENERIC_TRANSCRIPTION_PATHWAY -0.020754  0.002584 -0.123099   \n",
       "2,IRIS_Neutrophil-Resting                -0.507106  0.166998 -0.024483   \n",
       "3,MIPS_SPLICEOSOME                        0.101598  0.323352  0.228680   \n",
       "4,REACTOME_GENERIC_TRANSCRIPTION_PATHWAY  0.054268 -0.027263  0.165926   \n",
       "5,IRIS_Monocyte-Day0                      0.030062 -0.566462  0.313470   \n",
       "\n",
       "                                            BD8044    BD8045  \n",
       "1,REACTOME_GENERIC_TRANSCRIPTION_PATHWAY -0.011695 -0.496100  \n",
       "2,IRIS_Neutrophil-Resting                -0.067151  0.045032  \n",
       "3,MIPS_SPLICEOSOME                       -0.161511  0.019439  \n",
       "4,REACTOME_GENERIC_TRANSCRIPTION_PATHWAY -0.097184 -0.059088  \n",
       "5,IRIS_Monocyte-Day0                      0.234955  0.185153  \n",
       "\n",
       "[5 rows x 36 columns]"
      ]
     },
     "execution_count": 283,
     "metadata": {},
     "output_type": "execute_result"
    }
   ],
   "source": [
    "B = np.divide(B, np.reshape(B_norm, (1,len(B_norm))))\n",
    "B.head()"
   ]
  },
  {
   "cell_type": "code",
   "execution_count": null,
   "id": "1253b9b7-4f80-4bd2-82ba-58ef1a0c38da",
   "metadata": {},
   "outputs": [],
   "source": [
    "res = (\n",
    "    diag(\n",
    "        t(Z) %*% Y %*% t(B)\n",
    "    )[1:k]\n",
    ")^2"
   ]
  },
  {
   "cell_type": "code",
   "execution_count": 291,
   "id": "26914c99-8ab1-4004-b334-86648e7672f3",
   "metadata": {},
   "outputs": [
    {
     "data": {
      "text/plain": [
       "array([ 4446422.00941171, 18027125.56030245,  3380605.10407671,\n",
       "        2702855.84361412,  1462550.67258146,   793707.46889995,\n",
       "       36129464.81298661,  1727203.3568754 ,   570915.40446368,\n",
       "         267159.56269675,  1253282.6942452 ,  6447834.07985491,\n",
       "         142828.56639562,   786708.90413462,   963731.43388324,\n",
       "         158261.4692668 ,   416086.1120071 ,   366588.30026157,\n",
       "         255690.93831038,   448765.6294822 ,    68865.75374871,\n",
       "         151891.2936063 , 21865452.09755214,   109085.6734167 ,\n",
       "         190629.93657325,    93758.27935025,   325928.11671604,\n",
       "          89004.05460831,  5711875.32098239, 13816687.64466805])"
      ]
     },
     "execution_count": 291,
     "metadata": {},
     "output_type": "execute_result"
    }
   ],
   "source": [
    "(np.diag(Z.T @ Y @ B.T)[:B.shape[0]])**2"
   ]
  },
  {
   "cell_type": "code",
   "execution_count": 292,
   "id": "5be577c8-4542-4d60-a014-00bbae13a225",
   "metadata": {},
   "outputs": [],
   "source": [
    "# {R}\n",
    "# else if (option == \"project\") {\n",
    "#     res_temp <- c()\n",
    "#     for (i in 1:k) {\n",
    "#       Bk <- matrix(t(B[1:i, ]), ncol = i)\n",
    "#       Xk <- Y %*% Bk %*% ginv(t(Bk) %*% Bk) %*% t(Bk)\n",
    "#       res_temp <- c(res_temp, sum(diag(t(Xk) %*% Xk)))\n",
    "#     } # for i\n",
    "#     res <- res_temp\n",
    "#     res[2:k] <- res[2:k] - res_temp[1:(k - 1)]"
   ]
  },
  {
   "cell_type": "code",
   "execution_count": 322,
   "id": "640ee5bf-272b-4bf8-9559-7efb8452ea54",
   "metadata": {},
   "outputs": [
    {
     "name": "stdout",
     "output_type": "stream",
     "text": [
      "179 µs ± 1.15 µs per loop (mean ± std. dev. of 7 runs, 10,000 loops each)\n"
     ]
    }
   ],
   "source": [
    "%%timeit\n",
    "a = np.reciprocal(np.dot(B, B.T))"
   ]
  },
  {
   "cell_type": "code",
   "execution_count": 323,
   "id": "779228bc-5123-49da-b3d5-137c8e53a0fd",
   "metadata": {},
   "outputs": [
    {
     "name": "stdout",
     "output_type": "stream",
     "text": [
      "185 µs ± 787 ns per loop (mean ± std. dev. of 7 runs, 10,000 loops each)\n"
     ]
    }
   ],
   "source": [
    "%%timeit\n",
    "b = 1/np.dot(B, B.T)"
   ]
  },
  {
   "cell_type": "code",
   "execution_count": 305,
   "id": "eea19e23-299b-4e11-a646-4f39219d9924",
   "metadata": {},
   "outputs": [],
   "source": [
    "def ginv(arr: np.ndarray) -> float:\n",
    "    return 1/np.dot(arr, arr,)"
   ]
  },
  {
   "cell_type": "code",
   "execution_count": 315,
   "id": "d8511c89-8b46-4772-adae-f1420a8abae6",
   "metadata": {},
   "outputs": [
    {
     "name": "stdout",
     "output_type": "stream",
     "text": [
      "124 µs ± 1.63 µs per loop (mean ± std. dev. of 7 runs, 10,000 loops each)\n"
     ]
    }
   ],
   "source": [
    "%%timeit\n",
    "ginv(B.iloc[1,:])"
   ]
  },
  {
   "cell_type": "code",
   "execution_count": 311,
   "id": "272d74b6-3c36-45ee-bf59-a8862af6f637",
   "metadata": {},
   "outputs": [],
   "source": [
    "def ginv2(arr: np.ndarray) -> float:\n",
    "    return pinv(np.array([[np.dot(arr, arr)]]))"
   ]
  },
  {
   "cell_type": "code",
   "execution_count": null,
   "id": "348d1589-2e5c-4a15-b20b-10a26979a9e7",
   "metadata": {},
   "outputs": [
    {
     "name": "stdout",
     "output_type": "stream",
     "text": [
      "220 µs ± 2.83 µs per loop (mean ± std. dev. of 7 runs, 1,000 loops each)\n"
     ]
    }
   ],
   "source": [
    "%%timeit\n",
    "ginv2(B.iloc[1,:])"
   ]
  },
  {
   "cell_type": "code",
   "execution_count": null,
   "id": "6846a71d-8986-4731-b5ff-e7292a8d51a9",
   "metadata": {},
   "outputs": [],
   "source": [
    "for i in range(k):\n",
    "    Bk = B.iloc[0:i,:].transpose()\n",
    "    Xk = Y @ Bk @ ginv(Bk.transpose @ Bk) @ Bk.transpose()\n",
    "    res_temp = \n",
    "        c(\n",
    "            res_temp,\n",
    "            np.diag(Xk.T @ Xk).sum()\n",
    "        )"
   ]
  },
  {
   "cell_type": "code",
   "execution_count": 330,
   "id": "481b8c4a-1518-48a4-b2ba-a6bdd6223da6",
   "metadata": {},
   "outputs": [],
   "source": [
    "res_temp = list()"
   ]
  },
  {
   "cell_type": "code",
   "execution_count": 331,
   "id": "3df36c43-74dc-430a-ae1a-bbbfde5379c1",
   "metadata": {},
   "outputs": [],
   "source": [
    "i = 0"
   ]
  },
  {
   "cell_type": "code",
   "execution_count": 366,
   "id": "26faa701-bc97-4ac1-96c5-9e60a626007b",
   "metadata": {},
   "outputs": [
    {
     "data": {
      "text/html": [
       "<div>\n",
       "<style scoped>\n",
       "    .dataframe tbody tr th:only-of-type {\n",
       "        vertical-align: middle;\n",
       "    }\n",
       "\n",
       "    .dataframe tbody tr th {\n",
       "        vertical-align: top;\n",
       "    }\n",
       "\n",
       "    .dataframe thead th {\n",
       "        text-align: right;\n",
       "    }\n",
       "</style>\n",
       "<table border=\"1\" class=\"dataframe\">\n",
       "  <thead>\n",
       "    <tr style=\"text-align: right;\">\n",
       "      <th></th>\n",
       "      <th>BD8001</th>\n",
       "      <th>BD8002</th>\n",
       "      <th>BD8003</th>\n",
       "      <th>BD8004</th>\n",
       "      <th>BD8005</th>\n",
       "    </tr>\n",
       "  </thead>\n",
       "  <tbody>\n",
       "    <tr>\n",
       "      <th>1,REACTOME_GENERIC_TRANSCRIPTION_PATHWAY</th>\n",
       "      <td>0.999463</td>\n",
       "      <td>0.042062</td>\n",
       "      <td>1.265468</td>\n",
       "      <td>2.361500</td>\n",
       "      <td>-0.068039</td>\n",
       "    </tr>\n",
       "    <tr>\n",
       "      <th>2,IRIS_Neutrophil-Resting</th>\n",
       "      <td>-0.717132</td>\n",
       "      <td>-1.093098</td>\n",
       "      <td>0.244018</td>\n",
       "      <td>1.788295</td>\n",
       "      <td>0.951203</td>\n",
       "    </tr>\n",
       "    <tr>\n",
       "      <th>3,MIPS_SPLICEOSOME</th>\n",
       "      <td>-0.071986</td>\n",
       "      <td>-0.876761</td>\n",
       "      <td>1.052725</td>\n",
       "      <td>-2.721166</td>\n",
       "      <td>-0.875800</td>\n",
       "    </tr>\n",
       "    <tr>\n",
       "      <th>4,REACTOME_GENERIC_TRANSCRIPTION_PATHWAY</th>\n",
       "      <td>-1.308753</td>\n",
       "      <td>-0.967479</td>\n",
       "      <td>0.245103</td>\n",
       "      <td>0.020884</td>\n",
       "      <td>0.364940</td>\n",
       "    </tr>\n",
       "    <tr>\n",
       "      <th>5,IRIS_Monocyte-Day0</th>\n",
       "      <td>1.138731</td>\n",
       "      <td>0.177655</td>\n",
       "      <td>-0.967259</td>\n",
       "      <td>0.594203</td>\n",
       "      <td>0.662572</td>\n",
       "    </tr>\n",
       "  </tbody>\n",
       "</table>\n",
       "</div>"
      ],
      "text/plain": [
       "                                            BD8001    BD8002    BD8003  \\\n",
       "1,REACTOME_GENERIC_TRANSCRIPTION_PATHWAY  0.999463  0.042062  1.265468   \n",
       "2,IRIS_Neutrophil-Resting                -0.717132 -1.093098  0.244018   \n",
       "3,MIPS_SPLICEOSOME                       -0.071986 -0.876761  1.052725   \n",
       "4,REACTOME_GENERIC_TRANSCRIPTION_PATHWAY -1.308753 -0.967479  0.245103   \n",
       "5,IRIS_Monocyte-Day0                      1.138731  0.177655 -0.967259   \n",
       "\n",
       "                                            BD8004    BD8005  \n",
       "1,REACTOME_GENERIC_TRANSCRIPTION_PATHWAY  2.361500 -0.068039  \n",
       "2,IRIS_Neutrophil-Resting                 1.788295  0.951203  \n",
       "3,MIPS_SPLICEOSOME                       -2.721166 -0.875800  \n",
       "4,REACTOME_GENERIC_TRANSCRIPTION_PATHWAY  0.020884  0.364940  \n",
       "5,IRIS_Monocyte-Day0                      0.594203  0.662572  "
      ]
     },
     "execution_count": 366,
     "metadata": {},
     "output_type": "execute_result"
    }
   ],
   "source": [
    "B.iloc[0:5,0:5]"
   ]
  },
  {
   "cell_type": "code",
   "execution_count": 368,
   "id": "fe14c04d-54cd-4b7a-8ec0-920a2df9d485",
   "metadata": {},
   "outputs": [],
   "source": [
    "Bk = B.iloc[:i+1,:].T"
   ]
  },
  {
   "cell_type": "code",
   "execution_count": 369,
   "id": "fe8c477b-9974-4d71-b1b9-1c2147317846",
   "metadata": {},
   "outputs": [
    {
     "data": {
      "text/html": [
       "<div>\n",
       "<style scoped>\n",
       "    .dataframe tbody tr th:only-of-type {\n",
       "        vertical-align: middle;\n",
       "    }\n",
       "\n",
       "    .dataframe tbody tr th {\n",
       "        vertical-align: top;\n",
       "    }\n",
       "\n",
       "    .dataframe thead th {\n",
       "        text-align: right;\n",
       "    }\n",
       "</style>\n",
       "<table border=\"1\" class=\"dataframe\">\n",
       "  <thead>\n",
       "    <tr style=\"text-align: right;\">\n",
       "      <th></th>\n",
       "      <th>1,REACTOME_GENERIC_TRANSCRIPTION_PATHWAY</th>\n",
       "    </tr>\n",
       "  </thead>\n",
       "  <tbody>\n",
       "    <tr>\n",
       "      <th>BD8001</th>\n",
       "      <td>0.999463</td>\n",
       "    </tr>\n",
       "    <tr>\n",
       "      <th>BD8002</th>\n",
       "      <td>0.042062</td>\n",
       "    </tr>\n",
       "    <tr>\n",
       "      <th>BD8003</th>\n",
       "      <td>1.265468</td>\n",
       "    </tr>\n",
       "    <tr>\n",
       "      <th>BD8004</th>\n",
       "      <td>2.361500</td>\n",
       "    </tr>\n",
       "    <tr>\n",
       "      <th>BD8005</th>\n",
       "      <td>-0.068039</td>\n",
       "    </tr>\n",
       "  </tbody>\n",
       "</table>\n",
       "</div>"
      ],
      "text/plain": [
       "        1,REACTOME_GENERIC_TRANSCRIPTION_PATHWAY\n",
       "BD8001                                  0.999463\n",
       "BD8002                                  0.042062\n",
       "BD8003                                  1.265468\n",
       "BD8004                                  2.361500\n",
       "BD8005                                 -0.068039"
      ]
     },
     "execution_count": 369,
     "metadata": {},
     "output_type": "execute_result"
    }
   ],
   "source": [
    "Bk.head()"
   ]
  },
  {
   "cell_type": "code",
   "execution_count": 371,
   "id": "992a3191-1605-4cf8-b855-3e047ec30ce7",
   "metadata": {},
   "outputs": [
    {
     "data": {
      "text/html": [
       "<div>\n",
       "<style scoped>\n",
       "    .dataframe tbody tr th:only-of-type {\n",
       "        vertical-align: middle;\n",
       "    }\n",
       "\n",
       "    .dataframe tbody tr th {\n",
       "        vertical-align: top;\n",
       "    }\n",
       "\n",
       "    .dataframe thead th {\n",
       "        text-align: right;\n",
       "    }\n",
       "</style>\n",
       "<table border=\"1\" class=\"dataframe\">\n",
       "  <thead>\n",
       "    <tr style=\"text-align: right;\">\n",
       "      <th></th>\n",
       "      <th>1,REACTOME_GENERIC_TRANSCRIPTION_PATHWAY</th>\n",
       "    </tr>\n",
       "  </thead>\n",
       "  <tbody>\n",
       "    <tr>\n",
       "      <th>1,REACTOME_GENERIC_TRANSCRIPTION_PATHWAY</th>\n",
       "      <td>49.250666</td>\n",
       "    </tr>\n",
       "  </tbody>\n",
       "</table>\n",
       "</div>"
      ],
      "text/plain": [
       "                                          1,REACTOME_GENERIC_TRANSCRIPTION_PATHWAY\n",
       "1,REACTOME_GENERIC_TRANSCRIPTION_PATHWAY                                 49.250666"
      ]
     },
     "execution_count": 371,
     "metadata": {},
     "output_type": "execute_result"
    }
   ],
   "source": [
    "Bk.T @ Bk"
   ]
  },
  {
   "cell_type": "code",
   "execution_count": 393,
   "id": "25682fd4-d37d-4275-a789-3cc233da3ed3",
   "metadata": {},
   "outputs": [
    {
     "data": {
      "text/plain": [
       "0.020304294078741684"
      ]
     },
     "execution_count": 393,
     "metadata": {},
     "output_type": "execute_result"
    }
   ],
   "source": [
    "pinv(Bk.T @ Bk)[0][0]"
   ]
  },
  {
   "cell_type": "code",
   "execution_count": 390,
   "id": "f6680cfa-2b59-4398-bc4b-9fdb37e7b794",
   "metadata": {},
   "outputs": [],
   "source": [
    "import scipy as sp"
   ]
  },
  {
   "cell_type": "code",
   "execution_count": 395,
   "id": "0bc20896-f010-4f48-8c18-0bac93019769",
   "metadata": {},
   "outputs": [
    {
     "name": "stdout",
     "output_type": "stream",
     "text": [
      "888 µs ± 5.63 µs per loop (mean ± std. dev. of 7 runs, 1,000 loops each)\n"
     ]
    }
   ],
   "source": [
    "%%timeit\n",
    "np.multiply(Y @ B.iloc[0,:], pinv(Bk.T @ Bk)[0])"
   ]
  },
  {
   "cell_type": "code",
   "execution_count": 396,
   "id": "0ff52541-0ad1-4881-805b-641b4d6bf8e0",
   "metadata": {},
   "outputs": [
    {
     "name": "stdout",
     "output_type": "stream",
     "text": [
      "881 µs ± 31.4 µs per loop (mean ± std. dev. of 7 runs, 1,000 loops each)\n"
     ]
    }
   ],
   "source": [
    "%%timeit\n",
    "Y @ B.iloc[0,:] * pinv(Bk.T @ Bk)[0]"
   ]
  },
  {
   "cell_type": "code",
   "execution_count": 399,
   "id": "e92ec1aa-7cc4-469d-9691-acda7b250a36",
   "metadata": {},
   "outputs": [
    {
     "data": {
      "text/plain": [
       "GAS6       -0.461111\n",
       "MMP14      -0.118825\n",
       "MARCKSL1   -0.585187\n",
       "SPARC      -0.181351\n",
       "CTSD       -0.623603\n",
       "              ...   \n",
       "CFL2        0.377685\n",
       "CFL1       -0.398598\n",
       "SELL        0.301818\n",
       "GNGT2      -0.261283\n",
       "SERPINH1   -0.350007\n",
       "Length: 5892, dtype: float64"
      ]
     },
     "execution_count": 399,
     "metadata": {},
     "output_type": "execute_result"
    }
   ],
   "source": [
    "Y @ Bk @ pinv(Bk.T @ Bk)[0]"
   ]
  },
  {
   "cell_type": "code",
   "execution_count": 410,
   "id": "ab6795e8-5d9e-4b11-a618-913a2d760ba8",
   "metadata": {},
   "outputs": [
    {
     "data": {
      "text/plain": [
       "array([ 0.99946305,  0.0420622 ,  1.26546772,  2.36150025, -0.06803925,\n",
       "        0.7711519 , -1.30416379, -0.67016881,  0.28786286,  1.33460189,\n",
       "       -1.03493271, -0.23499556, -0.35511921, -0.81261244, -1.30316293,\n",
       "       -1.73065182, -0.27861926,  0.73035592, -0.75220987, -2.53099625,\n",
       "       -0.99492763,  0.43768905,  1.2975398 ,  0.30632185,  1.02331464,\n",
       "        0.9493138 ,  1.49379582, -0.12278813,  1.04269436,  1.00028669,\n",
       "        0.93142596, -0.10133202,  0.00838007, -0.49760019, -0.04114334,\n",
       "       -3.44976462])"
      ]
     },
     "execution_count": 410,
     "metadata": {},
     "output_type": "execute_result"
    }
   ],
   "source": [
    "Bk.values.T[0]"
   ]
  },
  {
   "cell_type": "code",
   "execution_count": 475,
   "id": "5c6cab0d-cdfb-4bc3-a4d7-28bee18bbb4a",
   "metadata": {},
   "outputs": [
    {
     "data": {
      "text/plain": [
       "array([ 0.99946305,  0.0420622 ,  1.26546772,  2.36150025, -0.06803925,\n",
       "        0.7711519 , -1.30416379, -0.67016881,  0.28786286,  1.33460189,\n",
       "       -1.03493271, -0.23499556, -0.35511921, -0.81261244, -1.30316293,\n",
       "       -1.73065182, -0.27861926,  0.73035592, -0.75220987, -2.53099625,\n",
       "       -0.99492763,  0.43768905,  1.2975398 ,  0.30632185,  1.02331464,\n",
       "        0.9493138 ,  1.49379582, -0.12278813,  1.04269436,  1.00028669,\n",
       "        0.93142596, -0.10133202,  0.00838007, -0.49760019, -0.04114334,\n",
       "       -3.44976462])"
      ]
     },
     "execution_count": 475,
     "metadata": {},
     "output_type": "execute_result"
    }
   ],
   "source": [
    "(Bk.values).flatten()"
   ]
  },
  {
   "cell_type": "code",
   "execution_count": 441,
   "id": "5f8476cd-df52-4b37-b727-406a07c86aa5",
   "metadata": {},
   "outputs": [],
   "source": [
    "alpha = np.matmul(\n",
    "    np.reshape(\n",
    "        (Y @ Bk @ pinv(Bk.T @ Bk)[0]).values,\n",
    "        (5892,1)\n",
    "    ),\n",
    "    np.reshape(\n",
    "        Bk.values.T[0],\n",
    "        (1,36)\n",
    "    )\n",
    ")"
   ]
  },
  {
   "cell_type": "code",
   "execution_count": 442,
   "id": "0569992d-85f6-48c2-8400-ac996e83879f",
   "metadata": {},
   "outputs": [
    {
     "data": {
      "text/plain": [
       "numpy.ndarray"
      ]
     },
     "execution_count": 442,
     "metadata": {},
     "output_type": "execute_result"
    }
   ],
   "source": [
    "type(alpha)"
   ]
  },
  {
   "cell_type": "code",
   "execution_count": 450,
   "id": "e4050273-aa41-4aaf-8c0f-99ad8669fc27",
   "metadata": {},
   "outputs": [],
   "source": [
    "from icontract import ensure"
   ]
  },
  {
   "cell_type": "code",
   "execution_count": 451,
   "id": "276909f5-d4e7-41f8-b643-7a5fd39f7f90",
   "metadata": {},
   "outputs": [],
   "source": [
    "@ensure(lambda a: a.ndim == 1, \"a must be 1-d\")\n",
    "@ensure(lambda b: b.ndim == 1, \"b must be 1-d\")\n",
    "def matmul1d(a: np.ndarray, b: np.ndarray) -> np.ndarray:\n",
    "    return np.matmul(\n",
    "        np.reshape(a, (len(a), 1)),\n",
    "        np.reshape(b, (1, len(b)))\n",
    "    )"
   ]
  },
  {
   "cell_type": "code",
   "execution_count": 452,
   "id": "38746146-46b2-459c-8d5c-ca970ff9b02c",
   "metadata": {},
   "outputs": [],
   "source": [
    "beta = matmul1d(\n",
    "    (Y @ Bk @ pinv(Bk.T @ Bk)[0]).values,\n",
    "    Bk.values.T[0]\n",
    ")"
   ]
  },
  {
   "cell_type": "code",
   "execution_count": 449,
   "id": "a1aa55f6-f849-4cd2-b299-d90a5edbb6fe",
   "metadata": {},
   "outputs": [
    {
     "data": {
      "text/plain": [
       "True"
      ]
     },
     "execution_count": 449,
     "metadata": {},
     "output_type": "execute_result"
    }
   ],
   "source": [
    "np.array_equal(alpha, beta)"
   ]
  },
  {
   "cell_type": "code",
   "execution_count": 456,
   "id": "4ba6687b-724b-40c4-8a55-e18271f30e00",
   "metadata": {},
   "outputs": [],
   "source": [
    "Xk = matmul1d(\n",
    "    (Y @ Bk @ pinv(Bk.T @ Bk)[0]).values,\n",
    "    Bk.values.T[0],\n",
    ")"
   ]
  },
  {
   "cell_type": "code",
   "execution_count": 457,
   "id": "66405ae7-270f-4205-9a3f-9d2c03b37862",
   "metadata": {},
   "outputs": [
    {
     "data": {
      "text/plain": [
       "array([[-0.46086358, -0.01939535, -0.58352131, ...,  0.22944901,\n",
       "         0.01897165,  1.59072501],\n",
       "       [-0.11876142, -0.00499805, -0.15036949, ...,  0.05912746,\n",
       "         0.00488887,  0.40991907],\n",
       "       [-0.58487322, -0.02461427, -0.74053581, ...,  0.29118938,\n",
       "         0.02407657,  2.01875891],\n",
       "       ...,\n",
       "       [ 0.30165636,  0.01269515,  0.38194147, ..., -0.15018491,\n",
       "        -0.01241782, -1.04120252],\n",
       "       [-0.26114294, -0.01099015, -0.3306455 , ...,  0.13001459,\n",
       "         0.01075007,  0.90136566],\n",
       "       [-0.34981923, -0.01472207, -0.44292277, ...,  0.17416363,\n",
       "         0.01440046,  1.20744235]])"
      ]
     },
     "execution_count": 457,
     "metadata": {},
     "output_type": "execute_result"
    }
   ],
   "source": [
    "Xk"
   ]
  },
  {
   "cell_type": "code",
   "execution_count": 461,
   "id": "2708a7c1-f17b-4945-8d12-52dbef7c04c7",
   "metadata": {},
   "outputs": [
    {
     "data": {
      "text/plain": [
       "48688.81382992759"
      ]
     },
     "execution_count": 461,
     "metadata": {},
     "output_type": "execute_result"
    }
   ],
   "source": [
    "np.diag(Xk.T @ Xk).sum()"
   ]
  },
  {
   "cell_type": "code",
   "execution_count": 476,
   "id": "e61cfab8-49a0-446a-b81a-d826f1fa48ad",
   "metadata": {},
   "outputs": [],
   "source": [
    "def calc_project(a: np.ndarray, b: np.ndarray) -> float:\n",
    "    Xk = matmul1d(\n",
    "        (b @ a.T @ pinv(a @ a.T)[0]).values,\n",
    "        a.flatten(),\n",
    "    )\n",
    "    return np.diag(Xk.T @ Xk).sum()"
   ]
  },
  {
   "cell_type": "code",
   "execution_count": 465,
   "id": "ec27f2a4-fd8e-4f38-a1aa-3a997a8ee9ff",
   "metadata": {},
   "outputs": [],
   "source": [
    "k = min(Y.shape[1], Y.shape[0], Z.shape[1], B.shape[0])"
   ]
  },
  {
   "cell_type": "code",
   "execution_count": 477,
   "id": "1eff7571-598b-4f73-83f2-d654e0a36a22",
   "metadata": {},
   "outputs": [],
   "source": [
    "from tqdm.auto import tqdm, trange"
   ]
  },
  {
   "cell_type": "code",
   "execution_count": 478,
   "id": "ff673016-5a53-47be-b8bf-123e3ac9d10a",
   "metadata": {},
   "outputs": [
    {
     "data": {
      "text/plain": [
       "30"
      ]
     },
     "execution_count": 478,
     "metadata": {},
     "output_type": "execute_result"
    }
   ],
   "source": [
    "k"
   ]
  },
  {
   "cell_type": "code",
   "execution_count": 480,
   "id": "c1d0a28f-671b-470c-8a13-a135c0ff8a31",
   "metadata": {},
   "outputs": [
    {
     "data": {
      "application/vnd.jupyter.widget-view+json": {
       "model_id": "38a81ecc0e174f8488aa88704896d5a3",
       "version_major": 2,
       "version_minor": 0
      },
      "text/plain": [
       "  0%|          | 0/30 [00:00<?, ?it/s]"
      ]
     },
     "metadata": {},
     "output_type": "display_data"
    }
   ],
   "source": [
    "project_res = [calc_project(B.iloc[:i+1].values, Y) for i in trange(k)]"
   ]
  },
  {
   "cell_type": "code",
   "execution_count": 481,
   "id": "03c6fdfc-7348-437d-901e-71d3aa7fdfc2",
   "metadata": {},
   "outputs": [
    {
     "data": {
      "text/plain": [
       "[48688.81382992759,\n",
       " 138508.41322599913,\n",
       " 173728.34632843375,\n",
       " 200497.9059314099,\n",
       " 226874.1099936003,\n",
       " 252296.1044698464,\n",
       " 186748.18998615257,\n",
       " 201232.8557503429,\n",
       " 210210.52339327574,\n",
       " 211657.66142568458,\n",
       " 217962.0684023598,\n",
       " 235650.88833653566,\n",
       " 244524.80045808962,\n",
       " 253872.33069735434,\n",
       " 262476.34388654924,\n",
       " 272000.1924448643,\n",
       " 286888.52775315,\n",
       " 290926.31552010705,\n",
       " 305400.0124661244,\n",
       " 333552.3087936837,\n",
       " 341480.3178555906,\n",
       " 348065.6924137246,\n",
       " 406058.6564492909,\n",
       " 417498.7710783171,\n",
       " 424242.81275630393,\n",
       " 437001.23381630576,\n",
       " 655493.4701584944,\n",
       " 740397.867845162,\n",
       " 816542.0042178265,\n",
       " 9254701.699607927]"
      ]
     },
     "execution_count": 481,
     "metadata": {},
     "output_type": "execute_result"
    }
   ],
   "source": [
    "project_res"
   ]
  },
  {
   "cell_type": "code",
   "execution_count": null,
   "id": "bdeec4e5-509d-4d7f-a9d3-d9433a58712d",
   "metadata": {},
   "outputs": [],
   "source": [
    "for i in range(k):\n",
    "    Bk = B.iloc[0:i,:].transpose()\n",
    "    Xk = Y @ Bk @ ginv(Bk.transpose @ Bk) @ Bk.transpose()\n",
    "    res_temp = \n",
    "        c(\n",
    "            res_temp,\n",
    "            np.diag(Xk.T @ Xk).sum()\n",
    "        )"
   ]
  },
  {
   "cell_type": "code",
   "execution_count": 485,
   "id": "250c9235-5d6e-4cb6-811f-bc296c233cc1",
   "metadata": {},
   "outputs": [],
   "source": [
    "i = 1"
   ]
  },
  {
   "cell_type": "code",
   "execution_count": 486,
   "id": "69aa53cd-9ad1-49e6-8c83-48f62241f00c",
   "metadata": {},
   "outputs": [],
   "source": [
    "Bk = B.iloc[:i+1,:].T"
   ]
  },
  {
   "cell_type": "code",
   "execution_count": 488,
   "id": "379877fa-fea9-48b7-b10c-fc14c9654c6a",
   "metadata": {},
   "outputs": [
    {
     "data": {
      "text/html": [
       "<div>\n",
       "<style scoped>\n",
       "    .dataframe tbody tr th:only-of-type {\n",
       "        vertical-align: middle;\n",
       "    }\n",
       "\n",
       "    .dataframe tbody tr th {\n",
       "        vertical-align: top;\n",
       "    }\n",
       "\n",
       "    .dataframe thead th {\n",
       "        text-align: right;\n",
       "    }\n",
       "</style>\n",
       "<table border=\"1\" class=\"dataframe\">\n",
       "  <thead>\n",
       "    <tr style=\"text-align: right;\">\n",
       "      <th></th>\n",
       "      <th>1,REACTOME_GENERIC_TRANSCRIPTION_PATHWAY</th>\n",
       "      <th>2,IRIS_Neutrophil-Resting</th>\n",
       "    </tr>\n",
       "  </thead>\n",
       "  <tbody>\n",
       "    <tr>\n",
       "      <th>BD8001</th>\n",
       "      <td>0.999463</td>\n",
       "      <td>-0.717132</td>\n",
       "    </tr>\n",
       "    <tr>\n",
       "      <th>BD8002</th>\n",
       "      <td>0.042062</td>\n",
       "      <td>-1.093098</td>\n",
       "    </tr>\n",
       "    <tr>\n",
       "      <th>BD8003</th>\n",
       "      <td>1.265468</td>\n",
       "      <td>0.244018</td>\n",
       "    </tr>\n",
       "    <tr>\n",
       "      <th>BD8004</th>\n",
       "      <td>2.361500</td>\n",
       "      <td>1.788295</td>\n",
       "    </tr>\n",
       "    <tr>\n",
       "      <th>BD8005</th>\n",
       "      <td>-0.068039</td>\n",
       "      <td>0.951203</td>\n",
       "    </tr>\n",
       "  </tbody>\n",
       "</table>\n",
       "</div>"
      ],
      "text/plain": [
       "        1,REACTOME_GENERIC_TRANSCRIPTION_PATHWAY  2,IRIS_Neutrophil-Resting\n",
       "BD8001                                  0.999463                  -0.717132\n",
       "BD8002                                  0.042062                  -1.093098\n",
       "BD8003                                  1.265468                   0.244018\n",
       "BD8004                                  2.361500                   1.788295\n",
       "BD8005                                 -0.068039                   0.951203"
      ]
     },
     "execution_count": 488,
     "metadata": {},
     "output_type": "execute_result"
    }
   ],
   "source": [
    "Bk.head()"
   ]
  },
  {
   "cell_type": "code",
   "execution_count": 515,
   "id": "d17c9931-3fd6-4c3d-b8f3-dde894193510",
   "metadata": {
    "tags": []
   },
   "outputs": [],
   "source": [
    "Xk = np.matmul(\n",
    "    (Y @ Bk @ pinv(Bk.T @ Bk)).values,\n",
    "    Bk.values.T,\n",
    ")"
   ]
  },
  {
   "cell_type": "code",
   "execution_count": 517,
   "id": "0e036468-c4b3-4ac4-b2e4-291efed14179",
   "metadata": {},
   "outputs": [
    {
     "data": {
      "text/html": [
       "<div>\n",
       "<style scoped>\n",
       "    .dataframe tbody tr th:only-of-type {\n",
       "        vertical-align: middle;\n",
       "    }\n",
       "\n",
       "    .dataframe tbody tr th {\n",
       "        vertical-align: top;\n",
       "    }\n",
       "\n",
       "    .dataframe thead th {\n",
       "        text-align: right;\n",
       "    }\n",
       "</style>\n",
       "<table border=\"1\" class=\"dataframe\">\n",
       "  <thead>\n",
       "    <tr style=\"text-align: right;\">\n",
       "      <th></th>\n",
       "      <th>0</th>\n",
       "      <th>1</th>\n",
       "      <th>2</th>\n",
       "      <th>3</th>\n",
       "      <th>4</th>\n",
       "      <th>5</th>\n",
       "      <th>6</th>\n",
       "      <th>7</th>\n",
       "      <th>8</th>\n",
       "      <th>9</th>\n",
       "      <th>...</th>\n",
       "      <th>26</th>\n",
       "      <th>27</th>\n",
       "      <th>28</th>\n",
       "      <th>29</th>\n",
       "      <th>30</th>\n",
       "      <th>31</th>\n",
       "      <th>32</th>\n",
       "      <th>33</th>\n",
       "      <th>34</th>\n",
       "      <th>35</th>\n",
       "    </tr>\n",
       "  </thead>\n",
       "  <tbody>\n",
       "    <tr>\n",
       "      <th>0</th>\n",
       "      <td>-0.464349</td>\n",
       "      <td>-0.025401</td>\n",
       "      <td>-0.581585</td>\n",
       "      <td>-1.077953</td>\n",
       "      <td>0.036585</td>\n",
       "      <td>-0.356919</td>\n",
       "      <td>0.586385</td>\n",
       "      <td>0.312864</td>\n",
       "      <td>-0.147324</td>\n",
       "      <td>-0.618667</td>\n",
       "      <td>...</td>\n",
       "      <td>-0.674518</td>\n",
       "      <td>0.058476</td>\n",
       "      <td>-0.486245</td>\n",
       "      <td>-0.483235</td>\n",
       "      <td>-0.426746</td>\n",
       "      <td>0.033030</td>\n",
       "      <td>-0.000875</td>\n",
       "      <td>0.228671</td>\n",
       "      <td>0.017650</td>\n",
       "      <td>1.590839</td>\n",
       "    </tr>\n",
       "    <tr>\n",
       "      <th>1</th>\n",
       "      <td>-0.060352</td>\n",
       "      <td>0.095634</td>\n",
       "      <td>-0.182818</td>\n",
       "      <td>-0.464271</td>\n",
       "      <td>-0.079238</td>\n",
       "      <td>-0.069308</td>\n",
       "      <td>0.405982</td>\n",
       "      <td>0.015263</td>\n",
       "      <td>0.210226</td>\n",
       "      <td>-0.103837</td>\n",
       "      <td>...</td>\n",
       "      <td>-0.416927</td>\n",
       "      <td>-0.016530</td>\n",
       "      <td>-0.032621</td>\n",
       "      <td>0.249650</td>\n",
       "      <td>-0.156675</td>\n",
       "      <td>0.241522</td>\n",
       "      <td>-0.051077</td>\n",
       "      <td>0.072165</td>\n",
       "      <td>0.027030</td>\n",
       "      <td>0.408013</td>\n",
       "    </tr>\n",
       "    <tr>\n",
       "      <th>2</th>\n",
       "      <td>-0.509496</td>\n",
       "      <td>0.105251</td>\n",
       "      <td>-0.782411</td>\n",
       "      <td>-1.618940</td>\n",
       "      <td>-0.072874</td>\n",
       "      <td>-0.422459</td>\n",
       "      <td>1.087115</td>\n",
       "      <td>0.309105</td>\n",
       "      <td>0.146985</td>\n",
       "      <td>-0.710341</td>\n",
       "      <td>...</td>\n",
       "      <td>-1.183130</td>\n",
       "      <td>0.031693</td>\n",
       "      <td>-0.492379</td>\n",
       "      <td>-0.109795</td>\n",
       "      <td>-0.604420</td>\n",
       "      <td>0.355444</td>\n",
       "      <td>-0.069533</td>\n",
       "      <td>0.308014</td>\n",
       "      <td>0.052650</td>\n",
       "      <td>2.016299</td>\n",
       "    </tr>\n",
       "    <tr>\n",
       "      <th>3</th>\n",
       "      <td>-0.163167</td>\n",
       "      <td>0.023533</td>\n",
       "      <td>-0.239541</td>\n",
       "      <td>-0.485132</td>\n",
       "      <td>-0.014701</td>\n",
       "      <td>-0.132936</td>\n",
       "      <td>0.314238</td>\n",
       "      <td>0.101603</td>\n",
       "      <td>0.023485</td>\n",
       "      <td>-0.225079</td>\n",
       "      <td>...</td>\n",
       "      <td>-0.345040</td>\n",
       "      <td>0.012631</td>\n",
       "      <td>-0.160829</td>\n",
       "      <td>-0.067293</td>\n",
       "      <td>-0.183158</td>\n",
       "      <td>0.089436</td>\n",
       "      <td>-0.017027</td>\n",
       "      <td>0.094277</td>\n",
       "      <td>0.014317</td>\n",
       "      <td>0.625027</td>\n",
       "    </tr>\n",
       "    <tr>\n",
       "      <th>4</th>\n",
       "      <td>-0.627557</td>\n",
       "      <td>-0.033620</td>\n",
       "      <td>-0.786766</td>\n",
       "      <td>-1.459150</td>\n",
       "      <td>0.048842</td>\n",
       "      <td>-0.482532</td>\n",
       "      <td>0.794846</td>\n",
       "      <td>0.422646</td>\n",
       "      <td>-0.197463</td>\n",
       "      <td>-0.836282</td>\n",
       "      <td>...</td>\n",
       "      <td>-0.913952</td>\n",
       "      <td>0.078856</td>\n",
       "      <td>-0.656930</td>\n",
       "      <td>-0.650845</td>\n",
       "      <td>-0.577462</td>\n",
       "      <td>0.046338</td>\n",
       "      <td>-0.001548</td>\n",
       "      <td>0.309347</td>\n",
       "      <td>0.024031</td>\n",
       "      <td>2.151422</td>\n",
       "    </tr>\n",
       "    <tr>\n",
       "      <th>...</th>\n",
       "      <td>...</td>\n",
       "      <td>...</td>\n",
       "      <td>...</td>\n",
       "      <td>...</td>\n",
       "      <td>...</td>\n",
       "      <td>...</td>\n",
       "      <td>...</td>\n",
       "      <td>...</td>\n",
       "      <td>...</td>\n",
       "      <td>...</td>\n",
       "      <td>...</td>\n",
       "      <td>...</td>\n",
       "      <td>...</td>\n",
       "      <td>...</td>\n",
       "      <td>...</td>\n",
       "      <td>...</td>\n",
       "      <td>...</td>\n",
       "      <td>...</td>\n",
       "      <td>...</td>\n",
       "      <td>...</td>\n",
       "      <td>...</td>\n",
       "    </tr>\n",
       "    <tr>\n",
       "      <th>5887</th>\n",
       "      <td>0.475454</td>\n",
       "      <td>0.184680</td>\n",
       "      <td>0.423521</td>\n",
       "      <td>0.583835</td>\n",
       "      <td>-0.172167</td>\n",
       "      <td>0.328698</td>\n",
       "      <td>-0.071527</td>\n",
       "      <td>-0.361082</td>\n",
       "      <td>0.518715</td>\n",
       "      <td>0.595889</td>\n",
       "      <td>...</td>\n",
       "      <td>0.162586</td>\n",
       "      <td>-0.098575</td>\n",
       "      <td>0.546912</td>\n",
       "      <td>0.995907</td>\n",
       "      <td>0.274631</td>\n",
       "      <td>0.346646</td>\n",
       "      <td>-0.080838</td>\n",
       "      <td>-0.166068</td>\n",
       "      <td>0.021599</td>\n",
       "      <td>-1.306123</td>\n",
       "    </tr>\n",
       "    <tr>\n",
       "      <th>5888</th>\n",
       "      <td>-0.220212</td>\n",
       "      <td>0.290204</td>\n",
       "      <td>-0.603395</td>\n",
       "      <td>-1.501547</td>\n",
       "      <td>-0.239251</td>\n",
       "      <td>-0.239280</td>\n",
       "      <td>1.285539</td>\n",
       "      <td>0.070774</td>\n",
       "      <td>0.630877</td>\n",
       "      <td>-0.364968</td>\n",
       "      <td>...</td>\n",
       "      <td>-1.325775</td>\n",
       "      <td>-0.045988</td>\n",
       "      <td>-0.137183</td>\n",
       "      <td>0.725396</td>\n",
       "      <td>-0.511580</td>\n",
       "      <td>0.740406</td>\n",
       "      <td>-0.156108</td>\n",
       "      <td>0.238113</td>\n",
       "      <td>0.083940</td>\n",
       "      <td>1.369255</td>\n",
       "    </tr>\n",
       "    <tr>\n",
       "      <th>5889</th>\n",
       "      <td>0.031838</td>\n",
       "      <td>-0.452171</td>\n",
       "      <td>0.531836</td>\n",
       "      <td>1.561180</td>\n",
       "      <td>0.382849</td>\n",
       "      <td>0.129620</td>\n",
       "      <td>-1.553174</td>\n",
       "      <td>0.095083</td>\n",
       "      <td>-1.042258</td>\n",
       "      <td>0.149905</td>\n",
       "      <td>...</td>\n",
       "      <td>1.556875</td>\n",
       "      <td>0.106700</td>\n",
       "      <td>-0.106946</td>\n",
       "      <td>-1.400408</td>\n",
       "      <td>0.493610</td>\n",
       "      <td>-1.090665</td>\n",
       "      <td>0.233876</td>\n",
       "      <td>-0.210412</td>\n",
       "      <td>-0.114699</td>\n",
       "      <td>-1.032395</td>\n",
       "    </tr>\n",
       "    <tr>\n",
       "      <th>5890</th>\n",
       "      <td>-0.120200</td>\n",
       "      <td>0.231838</td>\n",
       "      <td>-0.408945</td>\n",
       "      <td>-1.060210</td>\n",
       "      <td>-0.192935</td>\n",
       "      <td>-0.147619</td>\n",
       "      <td>0.946461</td>\n",
       "      <td>0.019778</td>\n",
       "      <td>0.514605</td>\n",
       "      <td>-0.216603</td>\n",
       "      <td>...</td>\n",
       "      <td>-0.968045</td>\n",
       "      <td>-0.043012</td>\n",
       "      <td>-0.052185</td>\n",
       "      <td>0.627864</td>\n",
       "      <td>-0.354362</td>\n",
       "      <td>0.580221</td>\n",
       "      <td>-0.123036</td>\n",
       "      <td>0.161475</td>\n",
       "      <td>0.064178</td>\n",
       "      <td>0.896765</td>\n",
       "    </tr>\n",
       "    <tr>\n",
       "      <th>5891</th>\n",
       "      <td>-0.178210</td>\n",
       "      <td>0.280941</td>\n",
       "      <td>-0.538258</td>\n",
       "      <td>-1.366162</td>\n",
       "      <td>-0.232745</td>\n",
       "      <td>-0.204318</td>\n",
       "      <td>1.193963</td>\n",
       "      <td>0.045442</td>\n",
       "      <td>0.617399</td>\n",
       "      <td>-0.306270</td>\n",
       "      <td>...</td>\n",
       "      <td>-1.226288</td>\n",
       "      <td>-0.048457</td>\n",
       "      <td>-0.096774</td>\n",
       "      <td>0.732594</td>\n",
       "      <td>-0.461152</td>\n",
       "      <td>0.709697</td>\n",
       "      <td>-0.150074</td>\n",
       "      <td>0.212469</td>\n",
       "      <td>0.079453</td>\n",
       "      <td>1.201841</td>\n",
       "    </tr>\n",
       "  </tbody>\n",
       "</table>\n",
       "<p>5892 rows × 36 columns</p>\n",
       "</div>"
      ],
      "text/plain": [
       "            0         1         2         3         4         5         6   \\\n",
       "0    -0.464349 -0.025401 -0.581585 -1.077953  0.036585 -0.356919  0.586385   \n",
       "1    -0.060352  0.095634 -0.182818 -0.464271 -0.079238 -0.069308  0.405982   \n",
       "2    -0.509496  0.105251 -0.782411 -1.618940 -0.072874 -0.422459  1.087115   \n",
       "3    -0.163167  0.023533 -0.239541 -0.485132 -0.014701 -0.132936  0.314238   \n",
       "4    -0.627557 -0.033620 -0.786766 -1.459150  0.048842 -0.482532  0.794846   \n",
       "...        ...       ...       ...       ...       ...       ...       ...   \n",
       "5887  0.475454  0.184680  0.423521  0.583835 -0.172167  0.328698 -0.071527   \n",
       "5888 -0.220212  0.290204 -0.603395 -1.501547 -0.239251 -0.239280  1.285539   \n",
       "5889  0.031838 -0.452171  0.531836  1.561180  0.382849  0.129620 -1.553174   \n",
       "5890 -0.120200  0.231838 -0.408945 -1.060210 -0.192935 -0.147619  0.946461   \n",
       "5891 -0.178210  0.280941 -0.538258 -1.366162 -0.232745 -0.204318  1.193963   \n",
       "\n",
       "            7         8         9   ...        26        27        28  \\\n",
       "0     0.312864 -0.147324 -0.618667  ... -0.674518  0.058476 -0.486245   \n",
       "1     0.015263  0.210226 -0.103837  ... -0.416927 -0.016530 -0.032621   \n",
       "2     0.309105  0.146985 -0.710341  ... -1.183130  0.031693 -0.492379   \n",
       "3     0.101603  0.023485 -0.225079  ... -0.345040  0.012631 -0.160829   \n",
       "4     0.422646 -0.197463 -0.836282  ... -0.913952  0.078856 -0.656930   \n",
       "...        ...       ...       ...  ...       ...       ...       ...   \n",
       "5887 -0.361082  0.518715  0.595889  ...  0.162586 -0.098575  0.546912   \n",
       "5888  0.070774  0.630877 -0.364968  ... -1.325775 -0.045988 -0.137183   \n",
       "5889  0.095083 -1.042258  0.149905  ...  1.556875  0.106700 -0.106946   \n",
       "5890  0.019778  0.514605 -0.216603  ... -0.968045 -0.043012 -0.052185   \n",
       "5891  0.045442  0.617399 -0.306270  ... -1.226288 -0.048457 -0.096774   \n",
       "\n",
       "            29        30        31        32        33        34        35  \n",
       "0    -0.483235 -0.426746  0.033030 -0.000875  0.228671  0.017650  1.590839  \n",
       "1     0.249650 -0.156675  0.241522 -0.051077  0.072165  0.027030  0.408013  \n",
       "2    -0.109795 -0.604420  0.355444 -0.069533  0.308014  0.052650  2.016299  \n",
       "3    -0.067293 -0.183158  0.089436 -0.017027  0.094277  0.014317  0.625027  \n",
       "4    -0.650845 -0.577462  0.046338 -0.001548  0.309347  0.024031  2.151422  \n",
       "...        ...       ...       ...       ...       ...       ...       ...  \n",
       "5887  0.995907  0.274631  0.346646 -0.080838 -0.166068  0.021599 -1.306123  \n",
       "5888  0.725396 -0.511580  0.740406 -0.156108  0.238113  0.083940  1.369255  \n",
       "5889 -1.400408  0.493610 -1.090665  0.233876 -0.210412 -0.114699 -1.032395  \n",
       "5890  0.627864 -0.354362  0.580221 -0.123036  0.161475  0.064178  0.896765  \n",
       "5891  0.732594 -0.461152  0.709697 -0.150074  0.212469  0.079453  1.201841  \n",
       "\n",
       "[5892 rows x 36 columns]"
      ]
     },
     "execution_count": 517,
     "metadata": {},
     "output_type": "execute_result"
    }
   ],
   "source": [
    "pd.DataFrame(Xk)"
   ]
  },
  {
   "cell_type": "code",
   "execution_count": 509,
   "id": "61fd19f6-40f9-4654-b7d7-f57926d1b1e5",
   "metadata": {},
   "outputs": [
    {
     "data": {
      "text/plain": [
       "array([[-0.46064382,  0.00551198],\n",
       "       [-0.12665655, -0.09236277],\n",
       "       [-0.59529375, -0.11919403],\n",
       "       ...,\n",
       "       [ 0.3379949 ,  0.42666599],\n",
       "       [-0.28018041, -0.2228736 ],\n",
       "       [-0.37301605, -0.27136712]])"
      ]
     },
     "execution_count": 509,
     "metadata": {},
     "output_type": "execute_result"
    }
   ],
   "source": [
    "(Y @ Bk @ pinv(Bk.T @ Bk)).values"
   ]
  },
  {
   "cell_type": "code",
   "execution_count": 512,
   "id": "cd4d1001-9048-4b42-91d5-3b838b8bdaff",
   "metadata": {},
   "outputs": [
    {
     "data": {
      "text/plain": [
       "array([[ 0.99946305,  0.0420622 ,  1.26546772,  2.36150025, -0.06803925,\n",
       "         0.7711519 , -1.30416379, -0.67016881,  0.28786286,  1.33460189,\n",
       "        -1.03493271, -0.23499556, -0.35511921, -0.81261244, -1.30316293,\n",
       "        -1.73065182, -0.27861926,  0.73035592, -0.75220987, -2.53099625,\n",
       "        -0.99492763,  0.43768905,  1.2975398 ,  0.30632185,  1.02331464,\n",
       "         0.9493138 ,  1.49379582, -0.12278813,  1.04269436,  1.00028669,\n",
       "         0.93142596, -0.10133202,  0.00838007, -0.49760019, -0.04114334,\n",
       "        -3.44976462],\n",
       "       [-0.71713166, -1.09309767,  0.24401848,  1.78829503,  0.95120262,\n",
       "        -0.30709063, -2.60712838,  0.7537442 , -2.67083515, -0.70589913,\n",
       "         3.41438102,  0.37662008, -3.01149785,  1.46766167,  1.84857172,\n",
       "        -1.51660883,  1.82549595, -0.04070145,  2.04417929,  0.04209704,\n",
       "         1.7028165 , -0.2497067 ,  0.08845836, -0.36762857,  0.47380526,\n",
       "         0.14179317,  2.46558136,  0.34734906, -1.07665262, -4.07461568,\n",
       "         0.41904572, -2.47597623,  0.54150976, -0.09896543, -0.23623335,\n",
       "         0.31314306]])"
      ]
     },
     "execution_count": 512,
     "metadata": {},
     "output_type": "execute_result"
    }
   ],
   "source": [
    "Bk.values.T"
   ]
  },
  {
   "cell_type": "code",
   "execution_count": 493,
   "id": "ef2dc07a-a2c7-4c6f-b566-f398bef1b725",
   "metadata": {},
   "outputs": [
    {
     "data": {
      "text/html": [
       "<div>\n",
       "<style scoped>\n",
       "    .dataframe tbody tr th:only-of-type {\n",
       "        vertical-align: middle;\n",
       "    }\n",
       "\n",
       "    .dataframe tbody tr th {\n",
       "        vertical-align: top;\n",
       "    }\n",
       "\n",
       "    .dataframe thead th {\n",
       "        text-align: right;\n",
       "    }\n",
       "</style>\n",
       "<table border=\"1\" class=\"dataframe\">\n",
       "  <thead>\n",
       "    <tr style=\"text-align: right;\">\n",
       "      <th></th>\n",
       "      <th>1,REACTOME_GENERIC_TRANSCRIPTION_PATHWAY</th>\n",
       "      <th>2,IRIS_Neutrophil-Resting</th>\n",
       "    </tr>\n",
       "  </thead>\n",
       "  <tbody>\n",
       "    <tr>\n",
       "      <th>GAS6</th>\n",
       "      <td>-22.710032</td>\n",
       "      <td>2.426800</td>\n",
       "    </tr>\n",
       "    <tr>\n",
       "      <th>MMP14</th>\n",
       "      <td>-5.852222</td>\n",
       "      <td>-7.903021</td>\n",
       "    </tr>\n",
       "    <tr>\n",
       "      <th>MARCKSL1</th>\n",
       "      <td>-28.820871</td>\n",
       "      <td>-8.395501</td>\n",
       "    </tr>\n",
       "    <tr>\n",
       "      <th>SPARC</th>\n",
       "      <td>-8.931645</td>\n",
       "      <td>-1.843533</td>\n",
       "    </tr>\n",
       "    <tr>\n",
       "      <th>CTSD</th>\n",
       "      <td>-30.712846</td>\n",
       "      <td>3.220938</td>\n",
       "    </tr>\n",
       "  </tbody>\n",
       "</table>\n",
       "</div>"
      ],
      "text/plain": [
       "          1,REACTOME_GENERIC_TRANSCRIPTION_PATHWAY  2,IRIS_Neutrophil-Resting\n",
       "GAS6                                    -22.710032                   2.426800\n",
       "MMP14                                    -5.852222                  -7.903021\n",
       "MARCKSL1                                -28.820871                  -8.395501\n",
       "SPARC                                    -8.931645                  -1.843533\n",
       "CTSD                                    -30.712846                   3.220938"
      ]
     },
     "execution_count": 493,
     "metadata": {},
     "output_type": "execute_result"
    }
   ],
   "source": [
    "(Y @ Bk).head()"
   ]
  },
  {
   "cell_type": "code",
   "execution_count": 496,
   "id": "a709f5b0-70b0-4e1d-904e-bf044c4a6eba",
   "metadata": {},
   "outputs": [
    {
     "data": {
      "text/plain": [
       "array([[0.02038335, 0.00093239],\n",
       "       [0.00093239, 0.01099658]])"
      ]
     },
     "execution_count": 496,
     "metadata": {},
     "output_type": "execute_result"
    }
   ],
   "source": [
    "pinv(Bk.T @ Bk)"
   ]
  },
  {
   "cell_type": "code",
   "execution_count": 495,
   "id": "ad272c02-9e5e-461b-ac8b-429faad018c6",
   "metadata": {},
   "outputs": [
    {
     "data": {
      "text/plain": [
       "array([0.02038335, 0.00093239])"
      ]
     },
     "execution_count": 495,
     "metadata": {},
     "output_type": "execute_result"
    }
   ],
   "source": [
    "sp.linalg.pinv(Bk.T @ Bk, )[0]"
   ]
  },
  {
   "cell_type": "code",
   "execution_count": 542,
   "id": "6ba9d4db-fe8e-481c-b52e-3c91e4742391",
   "metadata": {},
   "outputs": [],
   "source": [
    "def calc_project(a: np.ndarray, b: np.ndarray) -> float:\n",
    "    if a.shape[0] == 1:\n",
    "        Xk = matmul1d(\n",
    "            (b @ a.T @ pinv(a @ a.T)[0]).values,\n",
    "            a.flatten(),\n",
    "        )\n",
    "    else:\n",
    "        Xk = np.matmul(\n",
    "            (b @ a.T @ pinv(a @ a.T)),\n",
    "            a,\n",
    "        )\n",
    "    return np.diag(Xk.T @ Xk).sum()"
   ]
  },
  {
   "cell_type": "code",
   "execution_count": 528,
   "id": "7e390a72-8e06-4795-8062-eb8b8f7a4d39",
   "metadata": {},
   "outputs": [
    {
     "data": {
      "text/plain": [
       "(1, 36)"
      ]
     },
     "execution_count": 528,
     "metadata": {},
     "output_type": "execute_result"
    }
   ],
   "source": [
    "B.iloc[:0+1].values.shape"
   ]
  },
  {
   "cell_type": "code",
   "execution_count": 527,
   "id": "2ed9c0a7-a533-46f6-b722-00577dbdd99a",
   "metadata": {},
   "outputs": [
    {
     "data": {
      "text/plain": [
       "(2, 36)"
      ]
     },
     "execution_count": 527,
     "metadata": {},
     "output_type": "execute_result"
    }
   ],
   "source": [
    "B.iloc[:1+1].values.shape"
   ]
  },
  {
   "cell_type": "code",
   "execution_count": 534,
   "id": "090aa4ff-0e99-4bdc-97a8-3f3285e9ef6e",
   "metadata": {},
   "outputs": [],
   "source": [
    "i = 1"
   ]
  },
  {
   "cell_type": "code",
   "execution_count": 544,
   "id": "4ca1da42-c482-4cbb-8c3e-da5a9878c5fc",
   "metadata": {},
   "outputs": [
    {
     "data": {
      "application/vnd.jupyter.widget-view+json": {
       "model_id": "efa36227c13d4a6dae4e3bcce2699468",
       "version_major": 2,
       "version_minor": 0
      },
      "text/plain": [
       "  0%|          | 0/30 [00:00<?, ?it/s]"
      ]
     },
     "metadata": {},
     "output_type": "display_data"
    }
   ],
   "source": [
    "res = [calc_project(B.iloc[:i+1].values, Y) for i in trange(k)]"
   ]
  },
  {
   "cell_type": "code",
   "execution_count": 545,
   "id": "4cf00cf2-74da-4691-8106-80ff0182f363",
   "metadata": {},
   "outputs": [
    {
     "data": {
      "text/plain": [
       "[48688.81382992759,\n",
       " 83734.80033666252,\n",
       " 99861.17767181787,\n",
       " 113410.9413453791,\n",
       " 120159.40044003948,\n",
       " 125845.06820925375,\n",
       " 136720.19683199315,\n",
       " 142602.6376195187,\n",
       " 147018.5247882405,\n",
       " 150705.4386127484,\n",
       " 155389.11894102933,\n",
       " 158728.32056373276,\n",
       " 161232.4789140734,\n",
       " 164540.88403359195,\n",
       " 167454.13611074563,\n",
       " 169871.7655592947,\n",
       " 172452.6855329166,\n",
       " 174669.15127501183,\n",
       " 177440.70693424338,\n",
       " 180667.53878046465,\n",
       " 182643.46807285742,\n",
       " 184997.56817000097,\n",
       " 187888.37522993897,\n",
       " 190066.7366024438,\n",
       " 192032.67762029674,\n",
       " 194161.35327598953,\n",
       " 196311.09680970188,\n",
       " 198263.16027038742,\n",
       " 199616.81002059043,\n",
       " 200984.85308909725]"
      ]
     },
     "execution_count": 545,
     "metadata": {},
     "output_type": "execute_result"
    }
   ],
   "source": [
    "res"
   ]
  },
  {
   "cell_type": "code",
   "execution_count": 482,
   "id": "19e44d1c-c785-41d0-9b7e-0984db3be0bd",
   "metadata": {},
   "outputs": [],
   "source": [
    "from copy import deepcopy"
   ]
  },
  {
   "cell_type": "code",
   "execution_count": 546,
   "id": "3f5cd51c-0be9-4154-b0f3-9584ca53f261",
   "metadata": {},
   "outputs": [],
   "source": [
    "res2 = deepcopy(res)"
   ]
  },
  {
   "cell_type": "code",
   "execution_count": 547,
   "id": "a46f0c43-5b5e-4ad3-b982-84b2dfdd2c69",
   "metadata": {},
   "outputs": [
    {
     "ename": "TypeError",
     "evalue": "unsupported operand type(s) for -: 'list' and 'list'",
     "output_type": "error",
     "traceback": [
      "\u001b[0;31m---------------------------------------------------------------------------\u001b[0m",
      "\u001b[0;31mTypeError\u001b[0m                                 Traceback (most recent call last)",
      "Input \u001b[0;32mIn [547]\u001b[0m, in \u001b[0;36m<cell line: 1>\u001b[0;34m()\u001b[0m\n\u001b[0;32m----> 1\u001b[0m res[\u001b[38;5;241m2\u001b[39m:k] \u001b[38;5;241m=\u001b[39m \u001b[43mres\u001b[49m\u001b[43m[\u001b[49m\u001b[38;5;241;43m2\u001b[39;49m\u001b[43m:\u001b[49m\u001b[43mk\u001b[49m\u001b[43m]\u001b[49m\u001b[43m \u001b[49m\u001b[38;5;241;43m-\u001b[39;49m\u001b[43m \u001b[49m\u001b[43mres2\u001b[49m\u001b[43m[\u001b[49m\u001b[38;5;241;43m0\u001b[39;49m\u001b[43m:\u001b[49m\u001b[43m(\u001b[49m\u001b[43mk\u001b[49m\u001b[43m \u001b[49m\u001b[38;5;241;43m-\u001b[39;49m\u001b[43m \u001b[49m\u001b[38;5;241;43m1\u001b[39;49m\u001b[43m)\u001b[49m\u001b[43m]\u001b[49m\n",
      "\u001b[0;31mTypeError\u001b[0m: unsupported operand type(s) for -: 'list' and 'list'"
     ]
    }
   ],
   "source": [
    "res[2:k] = res[2:k] - res2[0:(k - 1)]"
   ]
  },
  {
   "cell_type": "code",
   "execution_count": 551,
   "id": "056fe612-8d13-4f01-9813-d25fa908f854",
   "metadata": {},
   "outputs": [
    {
     "data": {
      "text/plain": [
       "28"
      ]
     },
     "execution_count": 551,
     "metadata": {},
     "output_type": "execute_result"
    }
   ],
   "source": [
    "len(res[2:k])"
   ]
  },
  {
   "cell_type": "code",
   "execution_count": 550,
   "id": "df7a1a38-35ce-4f6c-bd7f-99b723a50770",
   "metadata": {},
   "outputs": [
    {
     "data": {
      "text/plain": [
       "29"
      ]
     },
     "execution_count": 550,
     "metadata": {},
     "output_type": "execute_result"
    }
   ],
   "source": [
    "len(res2[0:(k-1)])"
   ]
  },
  {
   "cell_type": "code",
   "execution_count": 555,
   "id": "77579018-ea51-4161-aeae-56881c6c4727",
   "metadata": {},
   "outputs": [
    {
     "data": {
      "text/plain": [
       "array([48688.81382993, 35045.98650673, 16126.37733516, 13549.76367356,\n",
       "        6748.45909466,  5685.66776921, 10875.12862274,  5882.44078753,\n",
       "        4415.88716872,  3686.91382451,  4683.68032828,  3339.2016227 ,\n",
       "        2504.15835034,  3308.40511952,  2913.25207715,  2417.62944855,\n",
       "        2580.91997362,  2216.4657421 ,  2771.55565923,  3226.83184622,\n",
       "        1975.92929239,  2354.10009714,  2890.80705994,  2178.3613725 ,\n",
       "        1965.94101785,  2128.67565569,  2149.74353371,  1952.06346069,\n",
       "        1353.6497502 ,  1368.04306851])"
      ]
     },
     "execution_count": 555,
     "metadata": {},
     "output_type": "execute_result"
    }
   ],
   "source": [
    "np.append(res[0], ([x - y for x, y in zip(res[1:k], res[0:(k-1)])]))"
   ]
  }
 ],
 "metadata": {
  "kernelspec": {
   "display_name": "Python 3 (ipykernel)",
   "language": "python",
   "name": "python3"
  },
  "language_info": {
   "codemirror_mode": {
    "name": "ipython",
    "version": 3
   },
   "file_extension": ".py",
   "mimetype": "text/x-python",
   "name": "python",
   "nbconvert_exporter": "python",
   "pygments_lexer": "ipython3",
   "version": "3.9.9"
  }
 },
 "nbformat": 4,
 "nbformat_minor": 5
}
