{
 "cells": [
  {
   "cell_type": "markdown",
   "metadata": {},
   "source": [
    "R code:\n",
    "```\n",
    "pinv_ridge <- function(m, alfa = 0) {\n",
    "  msvd = svd(m)\n",
    "  if (length(msvd$d) == 0) {\n",
    "    return(array(0, dim(m)[2:1]))\n",
    "  }\n",
    "  else {\n",
    "    if (alpha > 0) {\n",
    "      ss = (msvd$d^2) + alpha^2\n",
    "      msvd$d = ss/msvd$d\n",
    "    }\n",
    "    out = msvd$v %*% (1/msvd$d * t(msvd$u))\n",
    "    rownames(out) = rownames(m)\n",
    "    colnames(out) = colnames(m)\n",
    "    out\n",
    "  }\n",
    "}\n",
    "```"
   ]
  },
  {
   "cell_type": "code",
   "execution_count": 101,
   "metadata": {},
   "outputs": [],
   "source": [
    "import numpy as np\n",
    "import pandas as pd\n",
    "\n",
    "def pinv_ridge(m: pd.DataFrame, alpha: int = 0) -> pd.DataFrame:\n",
    "    u, d, v = np.linalg.svd(m)\n",
    "    if len(d) == 0:\n",
    "        return np.zeros(tuple(reversed(m.shape)))\n",
    "    else:\n",
    "        if (alpha > 0):\n",
    "            ss = (d**2) + alpha**2\n",
    "            d = ss/d\n",
    "        out = v.transpose() @ (1/d * u.transpose())\n",
    "        out = pd.DataFrame(out)\n",
    "        if isinstance(m, pd.DataFrame):\n",
    "            out.index = m.index\n",
    "            out.columns = m.columns\n",
    "        return out"
   ]
  },
  {
   "cell_type": "code",
   "execution_count": 3,
   "metadata": {},
   "outputs": [],
   "source": [
    "mat = pd.read_csv(\"/home/milo/workspace/pyplier/tests/data/pinv_ridge/randmat.txt\", index_col=0)"
   ]
  },
  {
   "cell_type": "code",
   "execution_count": 11,
   "metadata": {},
   "outputs": [
    {
     "data": {
      "text/html": [
       "<div>\n",
       "<style scoped>\n",
       "    .dataframe tbody tr th:only-of-type {\n",
       "        vertical-align: middle;\n",
       "    }\n",
       "\n",
       "    .dataframe tbody tr th {\n",
       "        vertical-align: top;\n",
       "    }\n",
       "\n",
       "    .dataframe thead th {\n",
       "        text-align: right;\n",
       "    }\n",
       "</style>\n",
       "<table border=\"1\" class=\"dataframe\">\n",
       "  <thead>\n",
       "    <tr style=\"text-align: right;\">\n",
       "      <th></th>\n",
       "      <th>V1</th>\n",
       "      <th>V2</th>\n",
       "      <th>V3</th>\n",
       "      <th>V4</th>\n",
       "      <th>V5</th>\n",
       "      <th>V6</th>\n",
       "    </tr>\n",
       "  </thead>\n",
       "  <tbody>\n",
       "    <tr>\n",
       "      <th>1</th>\n",
       "      <td>-2.298087</td>\n",
       "      <td>-0.988342</td>\n",
       "      <td>-0.474294</td>\n",
       "      <td>-1.290515</td>\n",
       "      <td>0.852371</td>\n",
       "      <td>1.279294</td>\n",
       "    </tr>\n",
       "    <tr>\n",
       "      <th>2</th>\n",
       "      <td>-0.018520</td>\n",
       "      <td>-0.327940</td>\n",
       "      <td>-1.260884</td>\n",
       "      <td>-0.951168</td>\n",
       "      <td>0.818301</td>\n",
       "      <td>1.123552</td>\n",
       "    </tr>\n",
       "    <tr>\n",
       "      <th>3</th>\n",
       "      <td>1.140406</td>\n",
       "      <td>-1.323625</td>\n",
       "      <td>-0.453034</td>\n",
       "      <td>0.769536</td>\n",
       "      <td>-0.708671</td>\n",
       "      <td>-0.789409</td>\n",
       "    </tr>\n",
       "    <tr>\n",
       "      <th>4</th>\n",
       "      <td>-2.649204</td>\n",
       "      <td>0.625775</td>\n",
       "      <td>-0.218951</td>\n",
       "      <td>-1.597433</td>\n",
       "      <td>-1.229547</td>\n",
       "      <td>1.298778</td>\n",
       "    </tr>\n",
       "    <tr>\n",
       "      <th>5</th>\n",
       "      <td>-1.806553</td>\n",
       "      <td>-1.181970</td>\n",
       "      <td>-0.290251</td>\n",
       "      <td>0.010728</td>\n",
       "      <td>0.046671</td>\n",
       "      <td>0.448334</td>\n",
       "    </tr>\n",
       "    <tr>\n",
       "      <th>6</th>\n",
       "      <td>1.105622</td>\n",
       "      <td>1.535085</td>\n",
       "      <td>0.029233</td>\n",
       "      <td>-0.788889</td>\n",
       "      <td>0.107858</td>\n",
       "      <td>-0.253067</td>\n",
       "    </tr>\n",
       "  </tbody>\n",
       "</table>\n",
       "</div>"
      ],
      "text/plain": [
       "         V1        V2        V3        V4        V5        V6\n",
       "1 -2.298087 -0.988342 -0.474294 -1.290515  0.852371  1.279294\n",
       "2 -0.018520 -0.327940 -1.260884 -0.951168  0.818301  1.123552\n",
       "3  1.140406 -1.323625 -0.453034  0.769536 -0.708671 -0.789409\n",
       "4 -2.649204  0.625775 -0.218951 -1.597433 -1.229547  1.298778\n",
       "5 -1.806553 -1.181970 -0.290251  0.010728  0.046671  0.448334\n",
       "6  1.105622  1.535085  0.029233 -0.788889  0.107858 -0.253067"
      ]
     },
     "execution_count": 11,
     "metadata": {},
     "output_type": "execute_result"
    }
   ],
   "source": [
    "mat"
   ]
  },
  {
   "cell_type": "code",
   "execution_count": 4,
   "metadata": {},
   "outputs": [
    {
     "data": {
      "text/plain": [
       "(6, 6)"
      ]
     },
     "execution_count": 4,
     "metadata": {},
     "output_type": "execute_result"
    }
   ],
   "source": [
    "mat.shape"
   ]
  },
  {
   "cell_type": "code",
   "execution_count": 12,
   "metadata": {},
   "outputs": [
    {
     "data": {
      "text/html": [
       "<div>\n",
       "<style scoped>\n",
       "    .dataframe tbody tr th:only-of-type {\n",
       "        vertical-align: middle;\n",
       "    }\n",
       "\n",
       "    .dataframe tbody tr th {\n",
       "        vertical-align: top;\n",
       "    }\n",
       "\n",
       "    .dataframe thead th {\n",
       "        text-align: right;\n",
       "    }\n",
       "</style>\n",
       "<table border=\"1\" class=\"dataframe\">\n",
       "  <thead>\n",
       "    <tr style=\"text-align: right;\">\n",
       "      <th></th>\n",
       "      <th>V1</th>\n",
       "      <th>V2</th>\n",
       "      <th>V3</th>\n",
       "      <th>V4</th>\n",
       "      <th>V5</th>\n",
       "      <th>V6</th>\n",
       "    </tr>\n",
       "  </thead>\n",
       "  <tbody>\n",
       "    <tr>\n",
       "      <th>1</th>\n",
       "      <td>-0.054047</td>\n",
       "      <td>-0.154853</td>\n",
       "      <td>0.002596</td>\n",
       "      <td>-0.453375</td>\n",
       "      <td>-1.027775</td>\n",
       "      <td>-1.062298</td>\n",
       "    </tr>\n",
       "    <tr>\n",
       "      <th>2</th>\n",
       "      <td>0.021699</td>\n",
       "      <td>-0.034325</td>\n",
       "      <td>-0.329383</td>\n",
       "      <td>0.106957</td>\n",
       "      <td>-0.796297</td>\n",
       "      <td>2.327633</td>\n",
       "    </tr>\n",
       "    <tr>\n",
       "      <th>3</th>\n",
       "      <td>-0.025941</td>\n",
       "      <td>-0.031689</td>\n",
       "      <td>-0.228774</td>\n",
       "      <td>0.241426</td>\n",
       "      <td>0.152327</td>\n",
       "      <td>-3.535283</td>\n",
       "    </tr>\n",
       "    <tr>\n",
       "      <th>4</th>\n",
       "      <td>0.102473</td>\n",
       "      <td>-0.274519</td>\n",
       "      <td>0.061486</td>\n",
       "      <td>0.131167</td>\n",
       "      <td>0.356518</td>\n",
       "      <td>0.045444</td>\n",
       "    </tr>\n",
       "    <tr>\n",
       "      <th>5</th>\n",
       "      <td>-0.017784</td>\n",
       "      <td>0.000565</td>\n",
       "      <td>0.189687</td>\n",
       "      <td>0.430845</td>\n",
       "      <td>-1.335506</td>\n",
       "      <td>-0.299667</td>\n",
       "    </tr>\n",
       "    <tr>\n",
       "      <th>6</th>\n",
       "      <td>0.149791</td>\n",
       "      <td>0.131477</td>\n",
       "      <td>-0.010510</td>\n",
       "      <td>-0.175850</td>\n",
       "      <td>-0.631556</td>\n",
       "      <td>-1.399395</td>\n",
       "    </tr>\n",
       "  </tbody>\n",
       "</table>\n",
       "</div>"
      ],
      "text/plain": [
       "         V1        V2        V3        V4        V5        V6\n",
       "1 -0.054047 -0.154853  0.002596 -0.453375 -1.027775 -1.062298\n",
       "2  0.021699 -0.034325 -0.329383  0.106957 -0.796297  2.327633\n",
       "3 -0.025941 -0.031689 -0.228774  0.241426  0.152327 -3.535283\n",
       "4  0.102473 -0.274519  0.061486  0.131167  0.356518  0.045444\n",
       "5 -0.017784  0.000565  0.189687  0.430845 -1.335506 -0.299667\n",
       "6  0.149791  0.131477 -0.010510 -0.175850 -0.631556 -1.399395"
      ]
     },
     "execution_count": 12,
     "metadata": {},
     "output_type": "execute_result"
    }
   ],
   "source": [
    "pinv_ridge(mat)"
   ]
  },
  {
   "cell_type": "code",
   "execution_count": 13,
   "metadata": {},
   "outputs": [],
   "source": [
    "u, d, v = np.linalg.svd(mat.values)"
   ]
  },
  {
   "cell_type": "code",
   "execution_count": 14,
   "metadata": {},
   "outputs": [
    {
     "data": {
      "text/plain": [
       "array([5.17646744, 2.90118147, 2.23211297, 1.40161285, 0.49855883,\n",
       "       0.21772726])"
      ]
     },
     "execution_count": 14,
     "metadata": {},
     "output_type": "execute_result"
    }
   ],
   "source": [
    "d"
   ]
  },
  {
   "cell_type": "code",
   "execution_count": 16,
   "metadata": {},
   "outputs": [],
   "source": [
    "alpha = 0"
   ]
  },
  {
   "cell_type": "code",
   "execution_count": null,
   "metadata": {},
   "outputs": [],
   "source": [
    "if (alpha > 0):\n",
    "        ss = (d**2) + alpha**2\n",
    "        d = ss/d\n",
    "    out = v @ (1/d * u.transpose())\n",
    "    out = pd.DataFrame(out)\n",
    "    out.index = m.index\n",
    "    out.columns = m.columns"
   ]
  },
  {
   "cell_type": "code",
   "execution_count": 19,
   "metadata": {},
   "outputs": [
    {
     "data": {
      "text/plain": [
       "array([0.19318194, 0.34468716, 0.448006  , 0.71346378, 2.00578134,\n",
       "       4.59290224])"
      ]
     },
     "execution_count": 19,
     "metadata": {},
     "output_type": "execute_result"
    }
   ],
   "source": [
    "1/d"
   ]
  },
  {
   "cell_type": "code",
   "execution_count": 20,
   "metadata": {},
   "outputs": [
    {
     "data": {
      "text/plain": [
       "array([[-0.59312638, -0.20874898,  0.26117546, -0.62324238, -0.34741214,\n",
       "         0.16518499],\n",
       "       [ 0.20688972,  0.01013896,  0.4942866 , -0.39409518,  0.42857903,\n",
       "        -0.61137846],\n",
       "       [-0.32271349, -0.77576211,  0.08385693,  0.4539906 ,  0.15110788,\n",
       "        -0.24098986],\n",
       "       [ 0.24042189, -0.40438685, -0.71911907, -0.48582216,  0.10710431,\n",
       "        -0.11849835],\n",
       "       [ 0.59439642, -0.42997585,  0.40140724, -0.08415002, -0.0470438 ,\n",
       "         0.53980696],\n",
       "       [-0.30023986,  0.07814259, -0.04664917, -0.08394083,  0.81185391,\n",
       "         0.48520179]])"
      ]
     },
     "execution_count": 20,
     "metadata": {},
     "output_type": "execute_result"
    }
   ],
   "source": [
    "u.transpose()"
   ]
  },
  {
   "cell_type": "code",
   "execution_count": 21,
   "metadata": {},
   "outputs": [
    {
     "data": {
      "text/plain": [
       "array([[-0.1145813 , -0.07195309,  0.11700817, -0.44466086, -0.6968328 ,\n",
       "         0.75867849],\n",
       "       [ 0.03996736,  0.00349477,  0.22144336, -0.28117263,  0.85963582,\n",
       "        -2.80800148],\n",
       "       [-0.06234242, -0.26739524,  0.03756841,  0.32390585,  0.30308936,\n",
       "        -1.10684286],\n",
       "       [ 0.04644517, -0.13938695, -0.32216966, -0.34661651,  0.21482782,\n",
       "        -0.54425131],\n",
       "       [ 0.11482665, -0.14820715,  0.17983285, -0.06003799, -0.09435958,\n",
       "         2.47928059],\n",
       "       [-0.05800092,  0.02693475, -0.02089911, -0.05988874,  1.62840143,\n",
       "         2.2284844 ]])"
      ]
     },
     "execution_count": 21,
     "metadata": {},
     "output_type": "execute_result"
    }
   ],
   "source": [
    "(1/d * u.transpose())"
   ]
  },
  {
   "cell_type": "code",
   "execution_count": 22,
   "metadata": {},
   "outputs": [
    {
     "data": {
      "text/plain": [
       "array([[ 0.79709079,  0.11265683,  0.12910885,  0.39148824, -0.01807464,\n",
       "        -0.426258  ],\n",
       "       [-0.10965073, -0.88024598, -0.13471068,  0.42058098,  0.09409126,\n",
       "        -0.09620419],\n",
       "       [-0.39895844,  0.08866534,  0.4224299 ,  0.30706021, -0.69281831,\n",
       "        -0.28326741],\n",
       "       [-0.2872199 ,  0.16718265,  0.56610484,  0.27945161,  0.69434008,\n",
       "        -0.09422662],\n",
       "       [ 0.00901858, -0.29320191,  0.25320866, -0.68423072,  0.05982164,\n",
       "        -0.61488729],\n",
       "       [-0.33298431,  0.30115862, -0.63415109,  0.17116587,  0.15854389,\n",
       "        -0.58467376]])"
      ]
     },
     "execution_count": 22,
     "metadata": {},
     "output_type": "execute_result"
    }
   ],
   "source": [
    "v"
   ]
  },
  {
   "cell_type": "code",
   "execution_count": 32,
   "metadata": {},
   "outputs": [
    {
     "data": {
      "text/plain": [
       "array([[-9.13317000e-02, -8.10600746e-03,  1.51067909e-02,\n",
       "        -1.74079498e-01,  1.25950029e-02, -3.23392779e-01],\n",
       "       [-4.38244959e-03, -3.07625780e-03, -2.98307859e-02,\n",
       "        -1.18255862e-01,  8.08842152e-02,  2.70141517e-01],\n",
       "       [ 2.48720330e-02, -2.37086907e-02,  1.58700191e-02,\n",
       "         9.94585980e-02, -2.09985860e-01,  3.13532510e-01],\n",
       "       [-1.33399755e-02, -2.33030811e-02, -1.82381803e-01,\n",
       "        -9.68625424e-02,  1.49163563e-01,  5.12829599e-02],\n",
       "       [ 1.03557279e-03,  4.34546200e-02,  4.55352364e-02,\n",
       "         4.10798366e-02, -5.64474470e-03, -1.52447812e+00],\n",
       "       [ 1.93133955e-02,  8.11163091e-03,  1.32531928e-02,\n",
       "        -1.02509088e-02,  2.58173095e-01, -1.30293636e+00]])"
      ]
     },
     "execution_count": 32,
     "metadata": {},
     "output_type": "execute_result"
    }
   ],
   "source": [
    "np.multiply(v, (1/d * u.transpose()))"
   ]
  },
  {
   "cell_type": "code",
   "execution_count": 33,
   "metadata": {},
   "outputs": [
    {
     "data": {
      "text/plain": [
       "array([[-5.40474218e-02, -1.54853242e-01,  2.59602686e-03,\n",
       "        -4.53375051e-01, -1.02777470e+00, -1.06229752e+00],\n",
       "       [ 2.16990764e-02, -3.43252890e-02, -3.29382672e-01,\n",
       "         1.06957075e-01, -7.96297084e-01,  2.32763325e+00],\n",
       "       [-2.59411778e-02, -3.16888773e-02, -2.28773966e-01,\n",
       "         2.41426260e-01,  1.52327297e-01, -3.53528303e+00],\n",
       "       [ 1.02472686e-01, -2.74519158e-01,  6.14856519e-02,\n",
       "         1.31166720e-01,  3.56518385e-01,  4.54436229e-02],\n",
       "       [-1.77835685e-02,  5.64629668e-04,  1.89687146e-01,\n",
       "         4.30844834e-01, -1.33550633e+00, -2.99667233e-01],\n",
       "       [ 1.49791306e-01,  1.31477045e-01, -1.05102450e-02,\n",
       "        -1.75849914e-01, -6.31555858e-01, -1.39939512e+00]])"
      ]
     },
     "execution_count": 33,
     "metadata": {},
     "output_type": "execute_result"
    }
   ],
   "source": [
    "v @ (1/d * u.transpose())"
   ]
  },
  {
   "cell_type": "code",
   "execution_count": 52,
   "metadata": {},
   "outputs": [],
   "source": [
    "a = v\n",
    "b = (1/d) * u.transpose()"
   ]
  },
  {
   "cell_type": "code",
   "execution_count": 53,
   "metadata": {},
   "outputs": [
    {
     "data": {
      "text/plain": [
       "array([[ 0.79709079,  0.11265683,  0.12910885,  0.39148824, -0.01807464,\n",
       "        -0.426258  ],\n",
       "       [-0.10965073, -0.88024598, -0.13471068,  0.42058098,  0.09409126,\n",
       "        -0.09620419],\n",
       "       [-0.39895844,  0.08866534,  0.4224299 ,  0.30706021, -0.69281831,\n",
       "        -0.28326741],\n",
       "       [-0.2872199 ,  0.16718265,  0.56610484,  0.27945161,  0.69434008,\n",
       "        -0.09422662],\n",
       "       [ 0.00901858, -0.29320191,  0.25320866, -0.68423072,  0.05982164,\n",
       "        -0.61488729],\n",
       "       [-0.33298431,  0.30115862, -0.63415109,  0.17116587,  0.15854389,\n",
       "        -0.58467376]])"
      ]
     },
     "execution_count": 53,
     "metadata": {},
     "output_type": "execute_result"
    }
   ],
   "source": [
    "a"
   ]
  },
  {
   "cell_type": "code",
   "execution_count": 54,
   "metadata": {},
   "outputs": [
    {
     "data": {
      "text/plain": [
       "array([[-0.1145813 , -0.07195309,  0.11700817, -0.44466086, -0.6968328 ,\n",
       "         0.75867849],\n",
       "       [ 0.03996736,  0.00349477,  0.22144336, -0.28117263,  0.85963582,\n",
       "        -2.80800148],\n",
       "       [-0.06234242, -0.26739524,  0.03756841,  0.32390585,  0.30308936,\n",
       "        -1.10684286],\n",
       "       [ 0.04644517, -0.13938695, -0.32216966, -0.34661651,  0.21482782,\n",
       "        -0.54425131],\n",
       "       [ 0.11482665, -0.14820715,  0.17983285, -0.06003799, -0.09435958,\n",
       "         2.47928059],\n",
       "       [-0.05800092,  0.02693475, -0.02089911, -0.05988874,  1.62840143,\n",
       "         2.2284844 ]])"
      ]
     },
     "execution_count": 54,
     "metadata": {},
     "output_type": "execute_result"
    }
   ],
   "source": [
    "b"
   ]
  },
  {
   "cell_type": "code",
   "execution_count": 62,
   "metadata": {},
   "outputs": [],
   "source": [
    "A = np.array([[1,5,1], [3,8,3], [4,9,3]])\n",
    "B = np.array([[2,8,3],[4,9,4],[5,2,5]])"
   ]
  },
  {
   "cell_type": "code",
   "execution_count": 63,
   "metadata": {},
   "outputs": [
    {
     "data": {
      "text/plain": [
       "array([[1, 5, 1],\n",
       "       [3, 8, 3],\n",
       "       [4, 9, 3]])"
      ]
     },
     "execution_count": 63,
     "metadata": {},
     "output_type": "execute_result"
    }
   ],
   "source": [
    "A"
   ]
  },
  {
   "cell_type": "code",
   "execution_count": 64,
   "metadata": {},
   "outputs": [
    {
     "data": {
      "text/plain": [
       "array([[2, 8, 3],\n",
       "       [4, 9, 4],\n",
       "       [5, 2, 5]])"
      ]
     },
     "execution_count": 64,
     "metadata": {},
     "output_type": "execute_result"
    }
   ],
   "source": [
    "B"
   ]
  },
  {
   "cell_type": "code",
   "execution_count": 66,
   "metadata": {},
   "outputs": [
    {
     "data": {
      "text/plain": [
       "array([[ 27,  55,  28],\n",
       "       [ 53, 102,  56],\n",
       "       [ 59, 119,  63]])"
      ]
     },
     "execution_count": 66,
     "metadata": {},
     "output_type": "execute_result"
    }
   ],
   "source": [
    "A @ B"
   ]
  },
  {
   "cell_type": "code",
   "execution_count": 67,
   "metadata": {},
   "outputs": [
    {
     "data": {
      "text/plain": [
       "array([[ 2, 40,  3],\n",
       "       [12, 72, 12],\n",
       "       [20, 18, 15]])"
      ]
     },
     "execution_count": 67,
     "metadata": {},
     "output_type": "execute_result"
    }
   ],
   "source": [
    "np.multiply(A,B,)"
   ]
  },
  {
   "cell_type": "code",
   "execution_count": 89,
   "metadata": {},
   "outputs": [
    {
     "data": {
      "text/plain": [
       "array([[ 0.79709079,  0.11265683,  0.12910885,  0.39148824, -0.01807464,\n",
       "        -0.426258  ],\n",
       "       [-0.10965073, -0.88024598, -0.13471068,  0.42058098,  0.09409126,\n",
       "        -0.09620419],\n",
       "       [-0.39895844,  0.08866534,  0.4224299 ,  0.30706021, -0.69281831,\n",
       "        -0.28326741],\n",
       "       [-0.2872199 ,  0.16718265,  0.56610484,  0.27945161,  0.69434008,\n",
       "        -0.09422662],\n",
       "       [ 0.00901858, -0.29320191,  0.25320866, -0.68423072,  0.05982164,\n",
       "        -0.61488729],\n",
       "       [-0.33298431,  0.30115862, -0.63415109,  0.17116587,  0.15854389,\n",
       "        -0.58467376]])"
      ]
     },
     "execution_count": 89,
     "metadata": {},
     "output_type": "execute_result"
    }
   ],
   "source": [
    "a"
   ]
  },
  {
   "cell_type": "code",
   "execution_count": 87,
   "metadata": {},
   "outputs": [],
   "source": [
    "pd.DataFrame(a).to_csv(\"mata.csv\")"
   ]
  },
  {
   "cell_type": "code",
   "execution_count": 90,
   "metadata": {},
   "outputs": [
    {
     "data": {
      "text/plain": [
       "array([[-0.1145813 , -0.07195309,  0.11700817, -0.44466086, -0.6968328 ,\n",
       "         0.75867849],\n",
       "       [ 0.03996736,  0.00349477,  0.22144336, -0.28117263,  0.85963582,\n",
       "        -2.80800148],\n",
       "       [-0.06234242, -0.26739524,  0.03756841,  0.32390585,  0.30308936,\n",
       "        -1.10684286],\n",
       "       [ 0.04644517, -0.13938695, -0.32216966, -0.34661651,  0.21482782,\n",
       "        -0.54425131],\n",
       "       [ 0.11482665, -0.14820715,  0.17983285, -0.06003799, -0.09435958,\n",
       "         2.47928059],\n",
       "       [-0.05800092,  0.02693475, -0.02089911, -0.05988874,  1.62840143,\n",
       "         2.2284844 ]])"
      ]
     },
     "execution_count": 90,
     "metadata": {},
     "output_type": "execute_result"
    }
   ],
   "source": [
    "b"
   ]
  },
  {
   "cell_type": "code",
   "execution_count": 88,
   "metadata": {},
   "outputs": [],
   "source": [
    "pd.DataFrame(b).to_csv(\"matb.csv\")"
   ]
  },
  {
   "cell_type": "code",
   "execution_count": 83,
   "metadata": {},
   "outputs": [
    {
     "data": {
      "text/html": [
       "<div>\n",
       "<style scoped>\n",
       "    .dataframe tbody tr th:only-of-type {\n",
       "        vertical-align: middle;\n",
       "    }\n",
       "\n",
       "    .dataframe tbody tr th {\n",
       "        vertical-align: top;\n",
       "    }\n",
       "\n",
       "    .dataframe thead th {\n",
       "        text-align: right;\n",
       "    }\n",
       "</style>\n",
       "<table border=\"1\" class=\"dataframe\">\n",
       "  <thead>\n",
       "    <tr style=\"text-align: right;\">\n",
       "      <th></th>\n",
       "      <th>0</th>\n",
       "      <th>1</th>\n",
       "      <th>2</th>\n",
       "      <th>3</th>\n",
       "      <th>4</th>\n",
       "      <th>5</th>\n",
       "    </tr>\n",
       "  </thead>\n",
       "  <tbody>\n",
       "    <tr>\n",
       "      <th>0</th>\n",
       "      <td>-0.054047</td>\n",
       "      <td>-0.154853</td>\n",
       "      <td>0.002596</td>\n",
       "      <td>-0.453375</td>\n",
       "      <td>-1.027775</td>\n",
       "      <td>-1.062298</td>\n",
       "    </tr>\n",
       "    <tr>\n",
       "      <th>1</th>\n",
       "      <td>0.021699</td>\n",
       "      <td>-0.034325</td>\n",
       "      <td>-0.329383</td>\n",
       "      <td>0.106957</td>\n",
       "      <td>-0.796297</td>\n",
       "      <td>2.327633</td>\n",
       "    </tr>\n",
       "    <tr>\n",
       "      <th>2</th>\n",
       "      <td>-0.025941</td>\n",
       "      <td>-0.031689</td>\n",
       "      <td>-0.228774</td>\n",
       "      <td>0.241426</td>\n",
       "      <td>0.152327</td>\n",
       "      <td>-3.535283</td>\n",
       "    </tr>\n",
       "    <tr>\n",
       "      <th>3</th>\n",
       "      <td>0.102473</td>\n",
       "      <td>-0.274519</td>\n",
       "      <td>0.061486</td>\n",
       "      <td>0.131167</td>\n",
       "      <td>0.356518</td>\n",
       "      <td>0.045444</td>\n",
       "    </tr>\n",
       "    <tr>\n",
       "      <th>4</th>\n",
       "      <td>-0.017784</td>\n",
       "      <td>0.000565</td>\n",
       "      <td>0.189687</td>\n",
       "      <td>0.430845</td>\n",
       "      <td>-1.335506</td>\n",
       "      <td>-0.299667</td>\n",
       "    </tr>\n",
       "    <tr>\n",
       "      <th>5</th>\n",
       "      <td>0.149791</td>\n",
       "      <td>0.131477</td>\n",
       "      <td>-0.010510</td>\n",
       "      <td>-0.175850</td>\n",
       "      <td>-0.631556</td>\n",
       "      <td>-1.399395</td>\n",
       "    </tr>\n",
       "  </tbody>\n",
       "</table>\n",
       "</div>"
      ],
      "text/plain": [
       "          0         1         2         3         4         5\n",
       "0 -0.054047 -0.154853  0.002596 -0.453375 -1.027775 -1.062298\n",
       "1  0.021699 -0.034325 -0.329383  0.106957 -0.796297  2.327633\n",
       "2 -0.025941 -0.031689 -0.228774  0.241426  0.152327 -3.535283\n",
       "3  0.102473 -0.274519  0.061486  0.131167  0.356518  0.045444\n",
       "4 -0.017784  0.000565  0.189687  0.430845 -1.335506 -0.299667\n",
       "5  0.149791  0.131477 -0.010510 -0.175850 -0.631556 -1.399395"
      ]
     },
     "execution_count": 83,
     "metadata": {},
     "output_type": "execute_result"
    }
   ],
   "source": [
    "pd.DataFrame(a.astype(np.float64) @ b.astype(np.float64))"
   ]
  },
  {
   "cell_type": "code",
   "execution_count": 80,
   "metadata": {},
   "outputs": [],
   "source": [
    "mat1 = np.array([[1, 2, 3],\n",
    "                 [3, 4, 5],\n",
    "                 [7, 6, 4]])\n",
    "mat2 = np.array([[5, 2, 6],\n",
    "                 [5, 6, 7],\n",
    "                 [7, 6, 4]])"
   ]
  },
  {
   "cell_type": "code",
   "execution_count": 85,
   "metadata": {},
   "outputs": [
    {
     "data": {
      "text/plain": [
       "array([[ 36,  32,  32],\n",
       "       [ 70,  60,  66],\n",
       "       [ 93,  74, 100]])"
      ]
     },
     "execution_count": 85,
     "metadata": {},
     "output_type": "execute_result"
    }
   ],
   "source": [
    "np.dot(mat1,mat2)"
   ]
  },
  {
   "cell_type": "code",
   "execution_count": 86,
   "metadata": {},
   "outputs": [
    {
     "data": {
      "text/plain": [
       "array([[-5.40474218e-02, -1.54853242e-01,  2.59602686e-03,\n",
       "        -4.53375051e-01, -1.02777470e+00, -1.06229752e+00],\n",
       "       [ 2.16990764e-02, -3.43252890e-02, -3.29382672e-01,\n",
       "         1.06957075e-01, -7.96297084e-01,  2.32763325e+00],\n",
       "       [-2.59411778e-02, -3.16888773e-02, -2.28773966e-01,\n",
       "         2.41426260e-01,  1.52327297e-01, -3.53528303e+00],\n",
       "       [ 1.02472686e-01, -2.74519158e-01,  6.14856519e-02,\n",
       "         1.31166720e-01,  3.56518385e-01,  4.54436229e-02],\n",
       "       [-1.77835685e-02,  5.64629668e-04,  1.89687146e-01,\n",
       "         4.30844834e-01, -1.33550633e+00, -2.99667233e-01],\n",
       "       [ 1.49791306e-01,  1.31477045e-01, -1.05102450e-02,\n",
       "        -1.75849914e-01, -6.31555858e-01, -1.39939512e+00]])"
      ]
     },
     "execution_count": 86,
     "metadata": {},
     "output_type": "execute_result"
    }
   ],
   "source": [
    "np.dot(a,b)"
   ]
  },
  {
   "cell_type": "code",
   "execution_count": 96,
   "metadata": {},
   "outputs": [
    {
     "data": {
      "text/plain": [
       "array([[ 0.79709079,  0.11265683,  0.12910885,  0.39148824, -0.01807464,\n",
       "        -0.426258  ],\n",
       "       [-0.10965073, -0.88024598, -0.13471068,  0.42058098,  0.09409126,\n",
       "        -0.09620419],\n",
       "       [-0.39895844,  0.08866534,  0.4224299 ,  0.30706021, -0.69281831,\n",
       "        -0.28326741],\n",
       "       [-0.2872199 ,  0.16718265,  0.56610484,  0.27945161,  0.69434008,\n",
       "        -0.09422662],\n",
       "       [ 0.00901858, -0.29320191,  0.25320866, -0.68423072,  0.05982164,\n",
       "        -0.61488729],\n",
       "       [-0.33298431,  0.30115862, -0.63415109,  0.17116587,  0.15854389,\n",
       "        -0.58467376]])"
      ]
     },
     "execution_count": 96,
     "metadata": {},
     "output_type": "execute_result"
    }
   ],
   "source": [
    "a"
   ]
  },
  {
   "cell_type": "code",
   "execution_count": 103,
   "metadata": {},
   "outputs": [],
   "source": [
    "pinv_ridge(a).to_csv(\"/home/milo/workspace/pyplier/tests/data/pinv_ridge/expected_result.csv\")"
   ]
  },
  {
   "cell_type": "code",
   "execution_count": 100,
   "metadata": {},
   "outputs": [
    {
     "data": {
      "text/html": [
       "<div>\n",
       "<style scoped>\n",
       "    .dataframe tbody tr th:only-of-type {\n",
       "        vertical-align: middle;\n",
       "    }\n",
       "\n",
       "    .dataframe tbody tr th {\n",
       "        vertical-align: top;\n",
       "    }\n",
       "\n",
       "    .dataframe thead th {\n",
       "        text-align: right;\n",
       "    }\n",
       "</style>\n",
       "<table border=\"1\" class=\"dataframe\">\n",
       "  <thead>\n",
       "    <tr style=\"text-align: right;\">\n",
       "      <th></th>\n",
       "      <th>0</th>\n",
       "      <th>1</th>\n",
       "      <th>2</th>\n",
       "      <th>3</th>\n",
       "      <th>4</th>\n",
       "      <th>5</th>\n",
       "    </tr>\n",
       "  </thead>\n",
       "  <tbody>\n",
       "    <tr>\n",
       "      <th>0</th>\n",
       "      <td>0.797091</td>\n",
       "      <td>0.112657</td>\n",
       "      <td>0.129109</td>\n",
       "      <td>0.391488</td>\n",
       "      <td>-0.018075</td>\n",
       "      <td>-0.426258</td>\n",
       "    </tr>\n",
       "    <tr>\n",
       "      <th>1</th>\n",
       "      <td>-0.109651</td>\n",
       "      <td>-0.880246</td>\n",
       "      <td>-0.134711</td>\n",
       "      <td>0.420581</td>\n",
       "      <td>0.094091</td>\n",
       "      <td>-0.096204</td>\n",
       "    </tr>\n",
       "    <tr>\n",
       "      <th>2</th>\n",
       "      <td>-0.398958</td>\n",
       "      <td>0.088665</td>\n",
       "      <td>0.422430</td>\n",
       "      <td>0.307060</td>\n",
       "      <td>-0.692818</td>\n",
       "      <td>-0.283267</td>\n",
       "    </tr>\n",
       "    <tr>\n",
       "      <th>3</th>\n",
       "      <td>-0.287220</td>\n",
       "      <td>0.167183</td>\n",
       "      <td>0.566105</td>\n",
       "      <td>0.279452</td>\n",
       "      <td>0.694340</td>\n",
       "      <td>-0.094227</td>\n",
       "    </tr>\n",
       "    <tr>\n",
       "      <th>4</th>\n",
       "      <td>0.009019</td>\n",
       "      <td>-0.293202</td>\n",
       "      <td>0.253209</td>\n",
       "      <td>-0.684231</td>\n",
       "      <td>0.059822</td>\n",
       "      <td>-0.614887</td>\n",
       "    </tr>\n",
       "    <tr>\n",
       "      <th>5</th>\n",
       "      <td>-0.332984</td>\n",
       "      <td>0.301159</td>\n",
       "      <td>-0.634151</td>\n",
       "      <td>0.171166</td>\n",
       "      <td>0.158544</td>\n",
       "      <td>-0.584674</td>\n",
       "    </tr>\n",
       "  </tbody>\n",
       "</table>\n",
       "</div>"
      ],
      "text/plain": [
       "          0         1         2         3         4         5\n",
       "0  0.797091  0.112657  0.129109  0.391488 -0.018075 -0.426258\n",
       "1 -0.109651 -0.880246 -0.134711  0.420581  0.094091 -0.096204\n",
       "2 -0.398958  0.088665  0.422430  0.307060 -0.692818 -0.283267\n",
       "3 -0.287220  0.167183  0.566105  0.279452  0.694340 -0.094227\n",
       "4  0.009019 -0.293202  0.253209 -0.684231  0.059822 -0.614887\n",
       "5 -0.332984  0.301159 -0.634151  0.171166  0.158544 -0.584674"
      ]
     },
     "execution_count": 100,
     "metadata": {},
     "output_type": "execute_result"
    }
   ],
   "source": [
    "pd.DataFrame(v)"
   ]
  },
  {
   "cell_type": "code",
   "execution_count": 99,
   "metadata": {},
   "outputs": [
    {
     "data": {
      "text/html": [
       "<div>\n",
       "<style scoped>\n",
       "    .dataframe tbody tr th:only-of-type {\n",
       "        vertical-align: middle;\n",
       "    }\n",
       "\n",
       "    .dataframe tbody tr th {\n",
       "        vertical-align: top;\n",
       "    }\n",
       "\n",
       "    .dataframe thead th {\n",
       "        text-align: right;\n",
       "    }\n",
       "</style>\n",
       "<table border=\"1\" class=\"dataframe\">\n",
       "  <thead>\n",
       "    <tr style=\"text-align: right;\">\n",
       "      <th></th>\n",
       "      <th>0</th>\n",
       "      <th>1</th>\n",
       "      <th>2</th>\n",
       "      <th>3</th>\n",
       "      <th>4</th>\n",
       "      <th>5</th>\n",
       "    </tr>\n",
       "  </thead>\n",
       "  <tbody>\n",
       "    <tr>\n",
       "      <th>0</th>\n",
       "      <td>-0.593126</td>\n",
       "      <td>0.206890</td>\n",
       "      <td>-0.322713</td>\n",
       "      <td>0.240422</td>\n",
       "      <td>0.594396</td>\n",
       "      <td>-0.300240</td>\n",
       "    </tr>\n",
       "    <tr>\n",
       "      <th>1</th>\n",
       "      <td>-0.208749</td>\n",
       "      <td>0.010139</td>\n",
       "      <td>-0.775762</td>\n",
       "      <td>-0.404387</td>\n",
       "      <td>-0.429976</td>\n",
       "      <td>0.078143</td>\n",
       "    </tr>\n",
       "    <tr>\n",
       "      <th>2</th>\n",
       "      <td>0.261175</td>\n",
       "      <td>0.494287</td>\n",
       "      <td>0.083857</td>\n",
       "      <td>-0.719119</td>\n",
       "      <td>0.401407</td>\n",
       "      <td>-0.046649</td>\n",
       "    </tr>\n",
       "    <tr>\n",
       "      <th>3</th>\n",
       "      <td>-0.623242</td>\n",
       "      <td>-0.394095</td>\n",
       "      <td>0.453991</td>\n",
       "      <td>-0.485822</td>\n",
       "      <td>-0.084150</td>\n",
       "      <td>-0.083941</td>\n",
       "    </tr>\n",
       "    <tr>\n",
       "      <th>4</th>\n",
       "      <td>-0.347412</td>\n",
       "      <td>0.428579</td>\n",
       "      <td>0.151108</td>\n",
       "      <td>0.107104</td>\n",
       "      <td>-0.047044</td>\n",
       "      <td>0.811854</td>\n",
       "    </tr>\n",
       "    <tr>\n",
       "      <th>5</th>\n",
       "      <td>0.165185</td>\n",
       "      <td>-0.611378</td>\n",
       "      <td>-0.240990</td>\n",
       "      <td>-0.118498</td>\n",
       "      <td>0.539807</td>\n",
       "      <td>0.485202</td>\n",
       "    </tr>\n",
       "  </tbody>\n",
       "</table>\n",
       "</div>"
      ],
      "text/plain": [
       "          0         1         2         3         4         5\n",
       "0 -0.593126  0.206890 -0.322713  0.240422  0.594396 -0.300240\n",
       "1 -0.208749  0.010139 -0.775762 -0.404387 -0.429976  0.078143\n",
       "2  0.261175  0.494287  0.083857 -0.719119  0.401407 -0.046649\n",
       "3 -0.623242 -0.394095  0.453991 -0.485822 -0.084150 -0.083941\n",
       "4 -0.347412  0.428579  0.151108  0.107104 -0.047044  0.811854\n",
       "5  0.165185 -0.611378 -0.240990 -0.118498  0.539807  0.485202"
      ]
     },
     "execution_count": 99,
     "metadata": {},
     "output_type": "execute_result"
    }
   ],
   "source": [
    "pd.DataFrame(u)"
   ]
  }
 ],
 "metadata": {
  "interpreter": {
   "hash": "0cdb1f55e9ad5c0f9ff4604ab31aaf7831d2efe6f03d38f1cbe175f7e8b29e29"
  },
  "kernelspec": {
   "display_name": "Python 3.9.7 64-bit ('pyplier-Idb-akax-py3.9': poetry)",
   "language": "python",
   "name": "python3"
  },
  "language_info": {
   "codemirror_mode": {
    "name": "ipython",
    "version": 3
   },
   "file_extension": ".py",
   "mimetype": "text/x-python",
   "name": "python",
   "nbconvert_exporter": "python",
   "pygments_lexer": "ipython3",
   "version": "3.9.7"
  },
  "orig_nbformat": 4
 },
 "nbformat": 4,
 "nbformat_minor": 2
}
