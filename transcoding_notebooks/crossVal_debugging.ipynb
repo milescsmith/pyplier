{
 "cells": [
  {
   "cell_type": "code",
   "execution_count": 1,
   "id": "b73582df-7141-47d6-8b72-f204925beb32",
   "metadata": {},
   "outputs": [],
   "source": [
    "from typing import Dict\n",
    "from collections.abc import Iterable\n",
    "\n",
    "import numpy as np\n",
    "import pandas as pd\n",
    "from statsmodels.stats.multitest import multipletests\n",
    "from tqdm.auto import tqdm\n",
    "\n",
    "from pyplier.AUC import AUC\n",
    "from pyplier.copyMat import copyMat\n",
    "from pyplier.PLIERRes import PLIERResults\n",
    "from pathlib import Path"
   ]
  },
  {
   "cell_type": "code",
   "execution_count": 2,
   "id": "41fa4620-2837-43b0-a95f-1d6cf6865de7",
   "metadata": {},
   "outputs": [],
   "source": [
    "data_dir = Path(\"/workspaces/pyplier/tests/data/crossVal\")\n",
    "plierRes = PLIERResults.from_disk(data_dir / \"plierRes.json.gz\")\n",
    "\n",
    "priorMat = pd.read_csv(data_dir / \"priorMat.csv.gz\", index_col=\"gene\")\n",
    "priorMatcv = pd.read_csv(data_dir / \"priorMatcv.csv.gz\", index_col=0)"
   ]
  },
  {
   "cell_type": "code",
   "execution_count": 3,
   "id": "91c7b48b-0b00-4922-bad4-3fb25bf7dbf5",
   "metadata": {},
   "outputs": [],
   "source": [
    "out = pd.DataFrame(\n",
    "    data=np.empty(shape=(0, 4)), columns=[\"pathway\", \"LV index\", \"AUC\", \"p-value\"]\n",
    ")\n",
    "out_dict = dict()\n",
    "ii = plierRes.U.loc[:, plierRes.U.sum(axis=0) > 0].columns\n",
    "Uauc = pd.DataFrame(\n",
    "    np.zeros(shape=plierRes.U.shape), index=plierRes.U.index, columns=plierRes.U.columns\n",
    ")\n",
    "Up = pd.DataFrame(\n",
    "    np.ones(shape=plierRes.U.shape), index=plierRes.U.index, columns=plierRes.U.columns\n",
    ")"
   ]
  },
  {
   "cell_type": "code",
   "execution_count": 4,
   "id": "9a08d1d9-2bf2-4a77-86d9-1172e695d150",
   "metadata": {},
   "outputs": [
    {
     "data": {
      "text/plain": [
       "Index(['LV1', 'LV2', 'LV3', 'LV4', 'LV5', 'LV6', 'LV7', 'LV8', 'LV9', 'LV10',\n",
       "       'LV11', 'LV14', 'LV15', 'LV18', 'LV20', 'LV23', 'LV24', 'LV26', 'LV27',\n",
       "       'LV29', 'LV30'],\n",
       "      dtype='object')"
      ]
     },
     "execution_count": 4,
     "metadata": {},
     "output_type": "execute_result"
    }
   ],
   "source": [
    "ii"
   ]
  },
  {
   "cell_type": "code",
   "execution_count": 5,
   "id": "b499759b-cd9c-47a4-8e54-b023023c4952",
   "metadata": {},
   "outputs": [],
   "source": [
    "i = \"LV1\"\n",
    "iipath = plierRes.U.loc[(plierRes.U.loc[:, i] > 0), i].index"
   ]
  },
  {
   "cell_type": "code",
   "execution_count": 6,
   "id": "518c0485-08c0-4256-b724-5b85be50033b",
   "metadata": {},
   "outputs": [
    {
     "data": {
      "text/plain": [
       "REACTOME_GENERIC_TRANSCRIPTION_PATHWAY    0.03892\n",
       "Name: LV1, dtype: float64"
      ]
     },
     "execution_count": 6,
     "metadata": {},
     "output_type": "execute_result"
    }
   ],
   "source": [
    "plierRes.U[\"LV1\"][plierRes.U[\"LV1\"] > 0]"
   ]
  },
  {
   "cell_type": "code",
   "execution_count": 7,
   "id": "c960ecfd-c280-4e91-8f04-2e20fb0c97c6",
   "metadata": {},
   "outputs": [
    {
     "data": {
      "text/plain": [
       "Index(['REACTOME_GENERIC_TRANSCRIPTION_PATHWAY'], dtype='object')"
      ]
     },
     "execution_count": 7,
     "metadata": {},
     "output_type": "execute_result"
    }
   ],
   "source": [
    "iipath"
   ]
  },
  {
   "cell_type": "code",
   "execution_count": 8,
   "id": "a177c6e6-952a-4182-863a-f6d373b33fb8",
   "metadata": {},
   "outputs": [
    {
     "data": {
      "text/plain": [
       "'REACTOME_GENERIC_TRANSCRIPTION_PATHWAY'"
      ]
     },
     "execution_count": 8,
     "metadata": {},
     "output_type": "execute_result"
    }
   ],
   "source": [
    "iipath[0]"
   ]
  },
  {
   "cell_type": "code",
   "execution_count": 9,
   "id": "ef529b72-aded-4429-9f09-6a50f29591a7",
   "metadata": {},
   "outputs": [],
   "source": [
    "# for j in tqdm(iipath):\n",
    "j = iipath[0]\n",
    "iiheldout = (\n",
    "    pd.concat([priorMat.loc[:, j], priorMatcv.loc[:, j]], axis=1)\n",
    "    .apply(\n",
    "        lambda x: True\n",
    "        if (x[0] == 0) or ((x[0] > 0) and (x[1] == 0))\n",
    "        else np.nan,  # use np.nan instead of False so that we can drop entries in the chain\n",
    "        axis=1,\n",
    "    )\n",
    "    .dropna()\n",
    "    .index\n",
    ")"
   ]
  },
  {
   "cell_type": "code",
   "execution_count": 10,
   "id": "fab0f256-7c0c-4d05-9f96-2afe29ceec79",
   "metadata": {},
   "outputs": [
    {
     "data": {
      "text/plain": [
       "Index(['GAS6', 'MMP14', 'MARCKSL1', 'SPARC', 'CTSD', 'EPAS1', 'PALLD', 'PHC2',\n",
       "       'LGALS3BP', 'SERPING1',\n",
       "       ...\n",
       "       'LDHA', 'LDHB', 'ACAP1', 'ACAP2', 'ACAP3', 'CFL2', 'CFL1', 'SELL',\n",
       "       'GNGT2', 'SERPINH1'],\n",
       "      dtype='object', name='gene', length=5672)"
      ]
     },
     "execution_count": 10,
     "metadata": {},
     "output_type": "execute_result"
    }
   ],
   "source": [
    "iiheldout"
   ]
  },
  {
   "cell_type": "code",
   "execution_count": 11,
   "id": "99dd788c-45d9-4be8-a7af-0a36200b5216",
   "metadata": {},
   "outputs": [
    {
     "data": {
      "text/plain": [
       "gene\n",
       "GAS6        0\n",
       "MMP14       0\n",
       "MARCKSL1    0\n",
       "SPARC       0\n",
       "CTSD        0\n",
       "           ..\n",
       "CFL2        0\n",
       "CFL1        0\n",
       "SELL        0\n",
       "GNGT2       0\n",
       "SERPINH1    0\n",
       "Name: REACTOME_GENERIC_TRANSCRIPTION_PATHWAY, Length: 5672, dtype: int64"
      ]
     },
     "execution_count": 11,
     "metadata": {},
     "output_type": "execute_result"
    }
   ],
   "source": [
    "priorMat.loc[iiheldout, j]"
   ]
  },
  {
   "cell_type": "code",
   "execution_count": 12,
   "id": "d5211c9b-aaab-4d73-b91f-3060759ad355",
   "metadata": {},
   "outputs": [
    {
     "data": {
      "text/plain": [
       "gene\n",
       "GAS6        0.000000\n",
       "MMP14       0.007516\n",
       "MARCKSL1    0.000000\n",
       "SPARC       0.000000\n",
       "CTSD        0.000000\n",
       "              ...   \n",
       "CFL2        0.064740\n",
       "CFL1        0.000000\n",
       "SELL        0.009852\n",
       "GNGT2       0.000000\n",
       "SERPINH1    0.000000\n",
       "Name: LV1, Length: 5672, dtype: float64"
      ]
     },
     "execution_count": 12,
     "metadata": {},
     "output_type": "execute_result"
    }
   ],
   "source": [
    "plierRes.Z.loc[iiheldout, i]"
   ]
  },
  {
   "cell_type": "code",
   "execution_count": 13,
   "id": "3e0b063e-96f9-4fae-a599-34ea7477bdf1",
   "metadata": {},
   "outputs": [
    {
     "data": {
      "text/plain": [
       "Index(['GAS6', 'MMP14', 'MARCKSL1', 'SPARC', 'CTSD', 'EPAS1', 'PALLD', 'PHC2',\n",
       "       'LGALS3BP', 'SERPING1',\n",
       "       ...\n",
       "       'LDHA', 'LDHB', 'ACAP1', 'ACAP2', 'ACAP3', 'CFL2', 'CFL1', 'SELL',\n",
       "       'GNGT2', 'SERPINH1'],\n",
       "      dtype='object', name='gene', length=5672)"
      ]
     },
     "execution_count": 13,
     "metadata": {},
     "output_type": "execute_result"
    }
   ],
   "source": [
    "iiheldout"
   ]
  },
  {
   "cell_type": "code",
   "execution_count": 14,
   "id": "63839c98-304d-45c4-b356-e837f6a535b0",
   "metadata": {},
   "outputs": [],
   "source": [
    "aucres = AUC(priorMat.loc[iiheldout, j], plierRes.Z.loc[iiheldout, i])"
   ]
  },
  {
   "cell_type": "code",
   "execution_count": 16,
   "id": "faacfdf8-b571-48d9-9b9c-cf313d7df85c",
   "metadata": {},
   "outputs": [
    {
     "data": {
      "text/plain": [
       "54"
      ]
     },
     "execution_count": 16,
     "metadata": {},
     "output_type": "execute_result"
    }
   ],
   "source": [
    "len(priorMat.loc[iiheldout, j][priorMat.loc[iiheldout, j] != 0])"
   ]
  },
  {
   "cell_type": "code",
   "execution_count": 17,
   "id": "9a45925d-4863-433d-a41d-6dcf2dc73481",
   "metadata": {},
   "outputs": [
    {
     "data": {
      "text/plain": [
       "{'low': 0.0071498315104708615, 'high': inf, 'auc': 0.6676489590337935, 'pval': 1.417381627952082e-06}"
      ]
     },
     "execution_count": 17,
     "metadata": {},
     "output_type": "execute_result"
    }
   ],
   "source": [
    "aucres"
   ]
  },
  {
   "cell_type": "code",
   "execution_count": 18,
   "id": "43e649e1-5685-43ee-aeb6-e7425f49317b",
   "metadata": {},
   "outputs": [],
   "source": [
    "labels = priorMat.loc[iiheldout, j]\n",
    "values = plierRes.Z.loc[iiheldout, i]"
   ]
  },
  {
   "cell_type": "code",
   "execution_count": 19,
   "id": "1184ee74-8e96-4a65-9107-5d6a9a5155c5",
   "metadata": {},
   "outputs": [],
   "source": [
    "posii = labels[labels > 0]\n",
    "negii = labels[labels <= 0]\n",
    "posn = len(posii)\n",
    "negn = len(negii)\n",
    "posval = values[posii.index]\n",
    "negval = values[negii.index]"
   ]
  },
  {
   "cell_type": "code",
   "execution_count": 20,
   "id": "0fab6cf2-4b50-4afa-9524-cee8b56b6ba0",
   "metadata": {},
   "outputs": [
    {
     "data": {
      "text/plain": [
       "gene\n",
       "SMARCD3    0.000000\n",
       "NOTCH4     0.000000\n",
       "ZNF708     0.122555\n",
       "SP1        0.110843\n",
       "SMAD4      0.093779\n",
       "SMAD3      0.014073\n",
       "ZNF3       0.000000\n",
       "ZKSCAN1    0.115999\n",
       "ZNF354B    0.064277\n",
       "ZNF583     0.038242\n",
       "TBL1X      0.000000\n",
       "ZNF615     0.110649\n",
       "NCOA3      0.141449\n",
       "NCOA1      0.118420\n",
       "ZNF493     0.114002\n",
       "ZNF211     0.150148\n",
       "ZNF514     0.200260\n",
       "ZNF26      0.092609\n",
       "ZNF25      0.146562\n",
       "ZNF235     0.000000\n",
       "ESR2       0.042226\n",
       "MAML2      0.161881\n",
       "MAML3      0.091114\n",
       "TEAD2      0.000000\n",
       "ZNF45      0.125577\n",
       "ZNF43      0.064189\n",
       "ZNF597     0.145484\n",
       "ZNF599     0.000000\n",
       "ZFP90      0.100559\n",
       "CCNC       0.044585\n",
       "ZNF141     0.111004\n",
       "ZNF420     0.000000\n",
       "TRIM33     0.199494\n",
       "MYC        0.000000\n",
       "ZNF641     0.086640\n",
       "MAMLD1     0.015179\n",
       "ZFP37      0.073333\n",
       "ZNF446     0.000000\n",
       "ZNF440     0.291950\n",
       "SNW1       0.000000\n",
       "MED1       0.179196\n",
       "MED7       0.181450\n",
       "ZNF627     0.007200\n",
       "ZNF485     0.000000\n",
       "NR2F6      0.000000\n",
       "ZNF567     0.071099\n",
       "ZNF169     0.072429\n",
       "NR4A2      0.148702\n",
       "NR4A1      0.000000\n",
       "MED27      0.014640\n",
       "PARP1      0.000000\n",
       "ZNF266     0.000000\n",
       "ZNF263     0.000000\n",
       "ZNF548     0.000000\n",
       "Name: LV1, dtype: float64"
      ]
     },
     "execution_count": 20,
     "metadata": {},
     "output_type": "execute_result"
    }
   ],
   "source": [
    "posval"
   ]
  },
  {
   "cell_type": "code",
   "execution_count": 21,
   "id": "399f6b4f-ac59-46b1-af97-ebcc251319b2",
   "metadata": {},
   "outputs": [],
   "source": [
    "from scipy.stats import mannwhitneyu, norm"
   ]
  },
  {
   "cell_type": "code",
   "execution_count": 22,
   "id": "d6b05c1b-6d49-4482-aef6-909ed72432cc",
   "metadata": {},
   "outputs": [],
   "source": [
    "statistic, pvalue = mannwhitneyu(posval, negval, alternative=\"greater\")"
   ]
  },
  {
   "cell_type": "code",
   "execution_count": 23,
   "id": "087423f3-b81c-437c-90f3-75c948b54347",
   "metadata": {},
   "outputs": [
    {
     "data": {
      "text/plain": [
       "202546.0"
      ]
     },
     "execution_count": 23,
     "metadata": {},
     "output_type": "execute_result"
    }
   ],
   "source": [
    "statistic"
   ]
  },
  {
   "cell_type": "code",
   "execution_count": 24,
   "id": "b71761bd-8ffc-4ca8-bee8-61da00f026cf",
   "metadata": {},
   "outputs": [
    {
     "data": {
      "text/plain": [
       "1.417381627952082e-06"
      ]
     },
     "execution_count": 24,
     "metadata": {},
     "output_type": "execute_result"
    }
   ],
   "source": [
    "pvalue"
   ]
  },
  {
   "cell_type": "code",
   "execution_count": 25,
   "id": "383dff16-6e0b-45b6-b087-bd4f1cb886a5",
   "metadata": {},
   "outputs": [],
   "source": [
    "x = posval\n",
    "y = negval"
   ]
  },
  {
   "cell_type": "code",
   "execution_count": 26,
   "id": "ec7230bf-265c-4eab-8262-4354e7eac698",
   "metadata": {},
   "outputs": [],
   "source": [
    "n = len(x)\n",
    "m = len(y)"
   ]
  },
  {
   "cell_type": "code",
   "execution_count": 27,
   "id": "211b4a6c-5043-4338-ae8a-a4df86708923",
   "metadata": {},
   "outputs": [],
   "source": [
    "alpha = 0.05"
   ]
  },
  {
   "cell_type": "code",
   "execution_count": 28,
   "id": "0e0d78ef-bd81-4419-840f-d9306b53c74b",
   "metadata": {},
   "outputs": [],
   "source": [
    "N = norm.ppf(1 - alpha / 2)"
   ]
  },
  {
   "cell_type": "code",
   "execution_count": 29,
   "id": "86500eba-1d3b-475a-bf21-6be574e29bc1",
   "metadata": {},
   "outputs": [],
   "source": [
    "diffs = sorted([i - j for i in x for j in y])"
   ]
  },
  {
   "cell_type": "code",
   "execution_count": 30,
   "id": "315089df-c3a5-4834-8b12-ca9803f76169",
   "metadata": {},
   "outputs": [],
   "source": [
    "# For an approximate 100(1-a)% confidence interval first calculate K:\n",
    "nm = n * m\n",
    "top = nm * (n + m + 1)\n",
    "right = N * np.sqrt(top / 12)\n",
    "left = (n * m) / 2\n",
    "K = left - right"
   ]
  },
  {
   "cell_type": "code",
   "execution_count": 31,
   "id": "09bdf7c9-15f4-4008-970e-aad23506e205",
   "metadata": {},
   "outputs": [],
   "source": [
    "# The Kth smallest to the Kth largest of the n x m differences\n",
    "# lx and ly should be > ~20\n",
    "conf_int_low = diffs[round(K)]\n",
    "conf_int_high = diffs[len(diffs) - round(K)]"
   ]
  },
  {
   "cell_type": "code",
   "execution_count": 32,
   "id": "363ec849-3238-4ed6-a919-ac5adede267a",
   "metadata": {},
   "outputs": [],
   "source": [
    "from statsmodels.stats.nonparametric import rank_compare_2indep"
   ]
  },
  {
   "cell_type": "code",
   "execution_count": 93,
   "id": "e380a7c0-8033-4764-9299-8eb49b7824f0",
   "metadata": {},
   "outputs": [],
   "source": [
    "from scipy.stats.contingency import relative_risk"
   ]
  },
  {
   "cell_type": "code",
   "execution_count": 34,
   "id": "f2824c51-778d-4e52-a18c-55faedb049aa",
   "metadata": {},
   "outputs": [],
   "source": [
    "posval.to_csv(\n",
    "    \"/workspaces/pyplier/transcoding_notebooks/data/mannwhitney_conf_int/posval.csv\"\n",
    ")\n",
    "negval.to_csv(\n",
    "    \"/workspaces/pyplier/transcoding_notebooks/data/mannwhitney_conf_int/negval.csv\"\n",
    ")"
   ]
  },
  {
   "cell_type": "code",
   "execution_count": 97,
   "id": "1be8ec7a-d7dc-4c8d-8435-85280eb501a8",
   "metadata": {},
   "outputs": [],
   "source": [
    "x.to_csv(\"/workspaces/pyplier/transcoding_notebooks/data/mannwhitney_conf_int/x.csv\")\n",
    "y.to_csv(\"/workspaces/pyplier/transcoding_notebooks/data/mannwhitney_conf_int/y.csv\")"
   ]
  },
  {
   "cell_type": "code",
   "execution_count": 86,
   "id": "c471d9fa-ea2a-4029-921c-f82585954bf5",
   "metadata": {},
   "outputs": [
    {
     "data": {
      "text/plain": [
       "<class 'statsmodels.stats.nonparametric.RankCompareResult'>\n",
       "statistic = 4.224814495022301\n",
       "pvalue = 9.332657102238729e-05\n",
       "s1 = 2668583.3266946194\n",
       "s2 = 145.87683691494183\n",
       "var1 = 0.08455071771589778\n",
       "var2 = 0.05002635010800474\n",
       "var = 8.931464069694657\n",
       "var_prob = 0.001574658686476491\n",
       "nobs1 = 54\n",
       "nobs2 = 5618\n",
       "nobs = 5672\n",
       "mean1 = 3778.3518518518517\n",
       "mean2 = 2827.4469562121753\n",
       "prob1 = 0.6676489590337935\n",
       "prob2 = 0.33235104096620993\n",
       "somersd1 = 0.335297918067587\n",
       "somersd2 = -0.33529791806758014\n",
       "df = 53.60453416649346\n",
       "use_t = True\n",
       "tuple = (4.224814495022301, 9.332657102238729e-05)"
      ]
     },
     "execution_count": 86,
     "metadata": {},
     "output_type": "execute_result"
    }
   ],
   "source": [
    "rank_compare_2indep(posval, negval, use_t=True)"
   ]
  },
  {
   "cell_type": "code",
   "execution_count": null,
   "id": "254cf565-8279-40d0-acdd-d06e75659cd9",
   "metadata": {},
   "outputs": [],
   "source": [
    "# conf_int_low, conf_int_high = mannwhitneyu_conf_int(posval, negval)"
   ]
  },
  {
   "cell_type": "code",
   "execution_count": 17,
   "id": "3125a655-b337-4aae-b8b6-3af39e1f3db6",
   "metadata": {},
   "outputs": [
    {
     "ename": "IndexError",
     "evalue": "list index out of range",
     "output_type": "error",
     "traceback": [
      "\u001b[0;31m---------------------------------------------------------------------------\u001b[0m\n\u001b[0;31mIndexError\u001b[0m                                Traceback (most recent call last)",
      "\u001b[0;31mIndexError\u001b[0m: list index out of range\n\u001b[0;31m---------------------------------------------------------------------------\u001b[0m"
     ]
    }
   ],
   "source": [
    "# def AUC(labels: pd.Series, values: pd.Series) -> Dict[str, float]:"
   ]
  },
  {
   "cell_type": "code",
   "execution_count": 23,
   "id": "f3760c27-21a6-494a-b7ec-25e818310670",
   "metadata": {},
   "outputs": [
    {
     "data": {
      "text/plain": [
       "'LV2'"
      ]
     },
     "execution_count": 23,
     "metadata": {},
     "output_type": "execute_result"
    }
   ],
   "source": [
    "i"
   ]
  },
  {
   "cell_type": "code",
   "execution_count": 24,
   "id": "e6f87766-ce38-4c0e-9266-c9009e85845e",
   "metadata": {},
   "outputs": [
    {
     "data": {
      "text/plain": [
       "Index(['IRIS_Monocyte-Day0', 'IRIS_Neutrophil-Resting', 'DMAP_MONO1',\n",
       "       'PID_IL6_7PATHWAY'],\n",
       "      dtype='object')"
      ]
     },
     "execution_count": 24,
     "metadata": {},
     "output_type": "execute_result"
    }
   ],
   "source": [
    "j"
   ]
  },
  {
   "cell_type": "code",
   "execution_count": 25,
   "id": "7b70939a-824a-481a-a028-71b32cbf8a65",
   "metadata": {},
   "outputs": [
    {
     "data": {
      "text/plain": [
       "Index(['GAS6', 'MMP14', 'MARCKSL1', 'SPARC', 'CTSD', 'EPAS1', 'PALLD', 'PHC2',\n",
       "       'LGALS3BP', 'SERPING1',\n",
       "       ...\n",
       "       'LDHA', 'LDHB', 'ACAP1', 'ACAP2', 'ACAP3', 'CFL2', 'CFL1', 'SELL',\n",
       "       'GNGT2', 'SERPINH1'],\n",
       "      dtype='object', name='gene', length=5785)"
      ]
     },
     "execution_count": 25,
     "metadata": {},
     "output_type": "execute_result"
    }
   ],
   "source": [
    "iiheldout"
   ]
  },
  {
   "cell_type": "code",
   "execution_count": 22,
   "id": "facc1417-6681-4e74-80de-d76901de14d5",
   "metadata": {},
   "outputs": [
    {
     "name": "stderr",
     "output_type": "stream",
     "text": [
      "  0%|          | 0/21 [00:00<?, ?it/s]\n",
      "  0%|          | 0/4 [00:00<?, ?it/s]\u001b[A\n",
      " 25%|##5       | 1/4 [00:00<00:00,  4.73it/s]\u001b[A\n",
      " 50%|#####     | 2/4 [00:00<00:00,  4.97it/s]\u001b[A\n",
      " 75%|#######5  | 3/4 [00:00<00:00,  4.50it/s]\u001b[A\n",
      "100%|##########| 4/4 [00:00<00:00,  4.74it/s]\u001b[A\n",
      "  5%|4         | 1/21 [00:00<00:19,  1.03it/s]\n"
     ]
    },
    {
     "ename": "TypeError",
     "evalue": "type of argument \"labels\" must be pandas.core.series.Series; got pandas.core.frame.DataFrame instead",
     "output_type": "error",
     "traceback": [
      "\u001b[0;31m---------------------------------------------------------------------------\u001b[0m\n\u001b[0;31mTypeError\u001b[0m                                 Traceback (most recent call last)",
      "In  \u001b[0;34m[22]\u001b[0m:\nLine \u001b[0;34m41\u001b[0m:    \n",
      "File \u001b[0;34m/home/vscode/.cache/pypoetry/virtualenvs/pyplier-3Y0kqMGe-py3.8/lib/python3.8/site-packages/typeguard/__init__.py\u001b[0m, in \u001b[0;32mwrapper\u001b[0m:\nLine \u001b[0;34m1032\u001b[0m:  check_argument_types(memo)\n",
      "File \u001b[0;34m/home/vscode/.cache/pypoetry/virtualenvs/pyplier-3Y0kqMGe-py3.8/lib/python3.8/site-packages/typeguard/__init__.py\u001b[0m, in \u001b[0;32mcheck_argument_types\u001b[0m:\nLine \u001b[0;34m875\u001b[0m:   \u001b[34mraise\u001b[39;49;00m \u001b[36mTypeError\u001b[39;49;00m(*exc.args) \u001b[34mfrom\u001b[39;49;00m \u001b[36mNone\u001b[39;49;00m\n",
      "\u001b[0;31mTypeError\u001b[0m: type of argument \"labels\" must be pandas.core.series.Series; got pandas.core.frame.DataFrame instead\n\u001b[0;31m---------------------------------------------------------------------------\u001b[0m"
     ]
    }
   ],
   "source": [
    "for i in tqdm(ii):\n",
    "    iipath = plierRes.U.loc[(plierRes.U.loc[:, i] > 0), i].index\n",
    "    if len(iipath) > 1:\n",
    "        for j in tqdm(iipath):\n",
    "            iiheldout = (\n",
    "                pd.concat([priorMat.loc[:, j], priorMatcv.loc[:, j]], axis=1)\n",
    "                .apply(\n",
    "                    lambda x: True\n",
    "                    if (x[0] == 0) or ((x[0] > 0) and (x[1] == 0))\n",
    "                    else np.nan,  # use np.nan instead of False so that we can drop entries in the chain\n",
    "                    axis=1,\n",
    "                )\n",
    "                .dropna()\n",
    "                .index\n",
    "            )\n",
    "            aucres = AUC(priorMat.loc[iiheldout, j], plierRes.Z.loc[iiheldout, i])\n",
    "            out_dict[j] = {\n",
    "                \"pathway\": j,\n",
    "                \"LV index\": i,\n",
    "                \"AUC\": aucres[\"auc\"],\n",
    "                \"p-value\": aucres[\"pval\"],\n",
    "            }\n",
    "            Uauc.loc[j, i] = aucres[\"auc\"]\n",
    "            Up.loc[j, i] = aucres[\"pval\"]\n",
    "\n",
    "        else:\n",
    "            j = iipath\n",
    "            iiheldout = (\n",
    "                pd.concat([priorMat.loc[:, j], priorMatcv.loc[:, j]], axis=1)\n",
    "                .apply(\n",
    "                    lambda x: True\n",
    "                    if (x[0] == 0) or ((x[0] > 0) and (x[1] == 0))\n",
    "                    else np.nan,\n",
    "                    axis=1,\n",
    "                )\n",
    "                .dropna()\n",
    "                .index\n",
    "            )\n",
    "            aucres = AUC(priorMat.loc[iiheldout, j], plierRes.Z.loc[iiheldout, i])\n",
    "            print(f\"j: {j}\")\n",
    "            print(f\"i: {i}\")\n",
    "            if isinstance(j, Iterable):\n",
    "                for _ in j:\n",
    "                    out_dict[_] = {\n",
    "                        \"pathway\": _,\n",
    "                        \"LV index\": i,\n",
    "                        \"AUC\": aucres[\"auc\"],\n",
    "                        \"p-value\": aucres[\"pval\"],\n",
    "                    }\n",
    "                    Uauc.loc[_, i] = aucres[\"auc\"]\n",
    "                    Up.loc[_, i] = aucres[\"pval\"]\n",
    "            elif isinstance(j, str):\n",
    "                out_dict[j] = {\n",
    "                    \"pathway\": j,\n",
    "                    \"LV index\": i,\n",
    "                    \"AUC\": aucres[\"auc\"],\n",
    "                    \"p-value\": aucres[\"pval\"],\n",
    "                }\n",
    "                Uauc.loc[j, i] = aucres[\"auc\"]\n",
    "                Up.loc[j, i] = aucres[\"pval\"]"
   ]
  },
  {
   "cell_type": "code",
   "execution_count": 19,
   "id": "497deff5-2edb-4082-a630-d2326d0920f7",
   "metadata": {},
   "outputs": [],
   "source": [
    "out = pd.DataFrame.from_dict(out_dict, orient=\"index\")\n",
    "_, fdr, *_ = multipletests(out.loc[:, \"p-value\"], method=\"fdr_bh\")\n",
    "out.loc[:, \"fdr\"] = fdr\n",
    "res = {\"Uauc\": Uauc, \"Upval\": Up, \"summary\": out}"
   ]
  },
  {
   "cell_type": "code",
   "execution_count": 20,
   "id": "55027a19-a3b1-4746-a1b7-03f523417bc8",
   "metadata": {},
   "outputs": [
    {
     "data": {
      "text/html": [
       "<div>\n",
       "<style scoped>\n",
       "    .dataframe tbody tr th:only-of-type {\n",
       "        vertical-align: middle;\n",
       "    }\n",
       "\n",
       "    .dataframe tbody tr th {\n",
       "        vertical-align: top;\n",
       "    }\n",
       "\n",
       "    .dataframe thead th {\n",
       "        text-align: right;\n",
       "    }\n",
       "</style>\n",
       "<table border=\"1\" class=\"dataframe\">\n",
       "  <thead>\n",
       "    <tr style=\"text-align: right;\">\n",
       "      <th></th>\n",
       "      <th>pathway</th>\n",
       "      <th>LV index</th>\n",
       "      <th>AUC</th>\n",
       "      <th>p-value</th>\n",
       "      <th>fdr</th>\n",
       "    </tr>\n",
       "  </thead>\n",
       "  <tbody>\n",
       "    <tr>\n",
       "      <th>IRIS_Monocyte-Day0</th>\n",
       "      <td>IRIS_Monocyte-Day0</td>\n",
       "      <td>LV5</td>\n",
       "      <td>0.5</td>\n",
       "      <td>0.500001</td>\n",
       "      <td>0.500001</td>\n",
       "    </tr>\n",
       "    <tr>\n",
       "      <th>IRIS_Neutrophil-Resting</th>\n",
       "      <td>IRIS_Neutrophil-Resting</td>\n",
       "      <td>LV18</td>\n",
       "      <td>0.5</td>\n",
       "      <td>0.500001</td>\n",
       "      <td>0.500001</td>\n",
       "    </tr>\n",
       "    <tr>\n",
       "      <th>DMAP_MONO1</th>\n",
       "      <td>DMAP_MONO1</td>\n",
       "      <td>LV5</td>\n",
       "      <td>0.5</td>\n",
       "      <td>0.500001</td>\n",
       "      <td>0.500001</td>\n",
       "    </tr>\n",
       "    <tr>\n",
       "      <th>PID_IL6_7PATHWAY</th>\n",
       "      <td>PID_IL6_7PATHWAY</td>\n",
       "      <td>LV2</td>\n",
       "      <td>0.5</td>\n",
       "      <td>0.500001</td>\n",
       "      <td>0.500001</td>\n",
       "    </tr>\n",
       "    <tr>\n",
       "      <th>REACTOME_PROCESSING_OF_CAPPED_INTRON_CONTAINING_PRE_MRNA</th>\n",
       "      <td>REACTOME_PROCESSING_OF_CAPPED_INTRON_CONTAININ...</td>\n",
       "      <td>LV30</td>\n",
       "      <td>0.5</td>\n",
       "      <td>0.500001</td>\n",
       "      <td>0.500001</td>\n",
       "    </tr>\n",
       "  </tbody>\n",
       "</table>\n",
       "</div>"
      ],
      "text/plain": [
       "                                                                                              pathway LV index  AUC   p-value       fdr\n",
       "IRIS_Monocyte-Day0                                                                 IRIS_Monocyte-Day0      LV5  0.5  0.500001  0.500001\n",
       "IRIS_Neutrophil-Resting                                                       IRIS_Neutrophil-Resting     LV18  0.5  0.500001  0.500001\n",
       "DMAP_MONO1                                                                                 DMAP_MONO1      LV5  0.5  0.500001  0.500001\n",
       "PID_IL6_7PATHWAY                                                                     PID_IL6_7PATHWAY      LV2  0.5  0.500001  0.500001\n",
       "REACTOME_PROCESSING_OF_CAPPED_INTRON_CONTAINING...  REACTOME_PROCESSING_OF_CAPPED_INTRON_CONTAININ...     LV30  0.5  0.500001  0.500001"
      ]
     },
     "execution_count": 20,
     "metadata": {},
     "output_type": "execute_result"
    }
   ],
   "source": [
    "out.head()"
   ]
  },
  {
   "cell_type": "code",
   "execution_count": 21,
   "id": "5ea183a2-ab45-4c6a-b776-b90321d6c402",
   "metadata": {},
   "outputs": [
    {
     "data": {
      "text/html": [
       "<div>\n",
       "<style scoped>\n",
       "    .dataframe tbody tr th:only-of-type {\n",
       "        vertical-align: middle;\n",
       "    }\n",
       "\n",
       "    .dataframe tbody tr th {\n",
       "        vertical-align: top;\n",
       "    }\n",
       "\n",
       "    .dataframe thead th {\n",
       "        text-align: right;\n",
       "    }\n",
       "</style>\n",
       "<table border=\"1\" class=\"dataframe\">\n",
       "  <thead>\n",
       "    <tr style=\"text-align: right;\">\n",
       "      <th></th>\n",
       "      <th>pathway</th>\n",
       "      <th>LV index</th>\n",
       "      <th>AUC</th>\n",
       "      <th>p-value</th>\n",
       "      <th>fdr</th>\n",
       "    </tr>\n",
       "  </thead>\n",
       "  <tbody>\n",
       "  </tbody>\n",
       "</table>\n",
       "</div>"
      ],
      "text/plain": [
       "Empty DataFrame\n",
       "Columns: [pathway, LV index, AUC, p-value, fdr]\n",
       "Index: []"
      ]
     },
     "execution_count": 21,
     "metadata": {},
     "output_type": "execute_result"
    }
   ],
   "source": [
    "out[out[\"p-value\"] < 0.5]"
   ]
  },
  {
   "cell_type": "code",
   "execution_count": 22,
   "id": "e19ca133-02f0-48b5-a69e-82a0b0f08fd4",
   "metadata": {},
   "outputs": [
    {
     "data": {
      "text/plain": [
       "{'IRIS_Monocyte-Day0': {'pathway': 'IRIS_Monocyte-Day0', 'LV index': 'LV5', 'AUC': 0.5, 'p-value': 0.5000011745723949}, 'IRIS_Neutrophil-Resting': {'pathway': 'IRIS_Neutrophil-Resting', 'LV index': 'LV18', 'AUC': 0.5, 'p-value': 0.5000011766738179}, 'DMAP_MONO1': {'pathway': 'DMAP_MONO1', 'LV index': 'LV5', 'AUC': 0.5, 'p-value': 0.5000011745723949}, 'PID_IL6_7PATHWAY': {'pathway': 'PID_IL6_7PATHWAY', 'LV index': 'LV2', 'AUC': 0.5, 'p-value': 0.500001265677214}, 'REACTOME_PROCESSING_OF_CAPPED_INTRON_CONTAINING_PRE_MRNA': {'pathway': 'REACTOME_PROCESSING_OF_CAPPED_INTRON_CONTAINING_PRE_MRNA', 'LV index': 'LV30', 'AUC': 0.5, 'p-value': 0.5000011329414156}, 'MIPS_SPLICEOSOME': {'pathway': 'MIPS_SPLICEOSOME', 'LV index': 'LV30', 'AUC': 0.5, 'p-value': 0.5000011329414156}, 'REACTOME_GENERIC_TRANSCRIPTION_PATHWAY': {'pathway': 'REACTOME_GENERIC_TRANSCRIPTION_PATHWAY', 'LV index': 'LV26', 'AUC': 0.5, 'p-value': 0.5000011627386589}, 'REACTOME_SIGNALING_BY_RHO_GTPASES': {'pathway': 'REACTOME_SIGNALING_BY_RHO_GTPASES', 'LV index': 'LV4', 'AUC': 0.5, 'p-value': 0.500001160865259}, 'IRIS_DendriticCell-LPSstimulated': {'pathway': 'IRIS_DendriticCell-LPSstimulated', 'LV index': 'LV27', 'AUC': 0.5, 'p-value': 0.5000011869968509}, 'KEGG_LYSOSOME': {'pathway': 'KEGG_LYSOSOME', 'LV index': 'LV5', 'AUC': 0.5, 'p-value': 0.5000011745723949}, 'IRIS_CD4Tcell-N0': {'pathway': 'IRIS_CD4Tcell-N0', 'LV index': 'LV6', 'AUC': 0.5, 'p-value': 0.5000011743109897}, 'DMAP_TCELLA2': {'pathway': 'DMAP_TCELLA2', 'LV index': 'LV30', 'AUC': 0.5, 'p-value': 0.5000011329414156}, 'DMAP_TCELLA6': {'pathway': 'DMAP_TCELLA6', 'LV index': 'LV6', 'AUC': 0.5, 'p-value': 0.5000011743109897}, 'IRIS_CD4Tcell-Th1-restimulated48hour': {'pathway': 'IRIS_CD4Tcell-Th1-restimulated48hour', 'LV index': 'LV8', 'AUC': 0.5, 'p-value': 0.5000011753151357}, 'IRIS_CD4Tcell-Th2-restimulated48hour': {'pathway': 'IRIS_CD4Tcell-Th2-restimulated48hour', 'LV index': 'LV8', 'AUC': 0.5, 'p-value': 0.5000011753151357}, 'IRIS_PlasmaCell-FromBoneMarrow': {'pathway': 'IRIS_PlasmaCell-FromBoneMarrow', 'LV index': 'LV8', 'AUC': 0.5, 'p-value': 0.5000011753151357}, 'IRIS_PlasmaCell-FromPBMC': {'pathway': 'IRIS_PlasmaCell-FromPBMC', 'LV index': 'LV8', 'AUC': 0.5, 'p-value': 0.5000011753151357}, 'DMAP_ERY2': {'pathway': 'DMAP_ERY2', 'LV index': 'LV8', 'AUC': 0.5, 'p-value': 0.5000011753151357}, 'DMAP_ERY3': {'pathway': 'DMAP_ERY3', 'LV index': 'LV11', 'AUC': 0.5, 'p-value': 0.5000013300912453}, 'REACTOME_POST_TRANSLATIONAL_PROTEIN_MODIFICATION': {'pathway': 'REACTOME_POST_TRANSLATIONAL_PROTEIN_MODIFICATION', 'LV index': 'LV8', 'AUC': 0.5, 'p-value': 0.5000011753151357}, 'REACTOME_ACTIVATION_OF_CHAPERONE_GENES_BY_XBP1S': {'pathway': 'REACTOME_ACTIVATION_OF_CHAPERONE_GENES_BY_XBP1S', 'LV index': 'LV8', 'AUC': 0.5, 'p-value': 0.5000011753151357}, 'PID_AURORA_B_PATHWAY': {'pathway': 'PID_AURORA_B_PATHWAY', 'LV index': 'LV8', 'AUC': 0.5, 'p-value': 0.5000011753151357}, 'REACTOME_TRANSLATION': {'pathway': 'REACTOME_TRANSLATION', 'LV index': 'LV30', 'AUC': 0.5, 'p-value': 0.5000011329414156}, 'REACTOME_ASSEMBLY_OF_THE_PRE_REPLICATIVE_COMPLEX': {'pathway': 'REACTOME_ASSEMBLY_OF_THE_PRE_REPLICATIVE_COMPLEX', 'LV index': 'LV8', 'AUC': 0.5, 'p-value': 0.5000011753151357}, 'PID_PLK1_PATHWAY': {'pathway': 'PID_PLK1_PATHWAY', 'LV index': 'LV8', 'AUC': 0.5, 'p-value': 0.5000011753151357}, 'REACTOME_ASPARAGINE_N_LINKED_GLYCOSYLATION': {'pathway': 'REACTOME_ASPARAGINE_N_LINKED_GLYCOSYLATION', 'LV index': 'LV8', 'AUC': 0.5, 'p-value': 0.5000011753151357}, 'IRIS_NKcell-IL15stimulated': {'pathway': 'IRIS_NKcell-IL15stimulated', 'LV index': 'LV9', 'AUC': 0.5, 'p-value': 0.5000011712325048}, 'IRIS_NKcell-IL2stimulated': {'pathway': 'IRIS_NKcell-IL2stimulated', 'LV index': 'LV9', 'AUC': 0.5, 'p-value': 0.5000011712325048}, 'IRIS_NKcell-control': {'pathway': 'IRIS_NKcell-control', 'LV index': 'LV9', 'AUC': 0.5, 'p-value': 0.5000011712325048}, 'DMAP_NKA2': {'pathway': 'DMAP_NKA2', 'LV index': 'LV14', 'AUC': 0.5, 'p-value': 0.5000011741289059}, 'DMAP_NKA3': {'pathway': 'DMAP_NKA3', 'LV index': 'LV9', 'AUC': 0.5, 'p-value': 0.5000011712325048}, 'REACTOME_CYTOKINE_SIGNALING_IN_IMMUNE_SYSTEM': {'pathway': 'REACTOME_CYTOKINE_SIGNALING_IN_IMMUNE_SYSTEM', 'LV index': 'LV27', 'AUC': 0.5, 'p-value': 0.5000011869968509}, 'DMAP_ERY4': {'pathway': 'DMAP_ERY4', 'LV index': 'LV11', 'AUC': 0.5, 'p-value': 0.5000013300912453}, 'DMAP_ERY5': {'pathway': 'DMAP_ERY5', 'LV index': 'LV11', 'AUC': 0.5, 'p-value': 0.5000013300912453}, 'DMAP_MEGA2': {'pathway': 'DMAP_MEGA2', 'LV index': 'LV20', 'AUC': 0.5, 'p-value': 0.5000011837137105}, 'DMAP_TCELLA1': {'pathway': 'DMAP_TCELLA1', 'LV index': 'LV14', 'AUC': 0.5, 'p-value': 0.5000011741289059}, 'DMAP_TCELLA3': {'pathway': 'DMAP_TCELLA3', 'LV index': 'LV14', 'AUC': 0.5, 'p-value': 0.5000011741289059}, 'IRIS_Bcell-Memory_IgG_IgA': {'pathway': 'IRIS_Bcell-Memory_IgG_IgA', 'LV index': 'LV15', 'AUC': 0.5, 'p-value': 0.500001193100514}, 'IRIS_Bcell-Memory_IgM': {'pathway': 'IRIS_Bcell-Memory_IgM', 'LV index': 'LV15', 'AUC': 0.5, 'p-value': 0.500001193100514}, 'IRIS_Bcell-naive': {'pathway': 'IRIS_Bcell-naive', 'LV index': 'LV15', 'AUC': 0.5, 'p-value': 0.500001193100514}, 'DMAP_BCELLA1': {'pathway': 'DMAP_BCELLA1', 'LV index': 'LV15', 'AUC': 0.5, 'p-value': 0.500001193100514}, 'KEGG_VASCULAR_SMOOTH_MUSCLE_CONTRACTION': {'pathway': 'KEGG_VASCULAR_SMOOTH_MUSCLE_CONTRACTION', 'LV index': 'LV20', 'AUC': 0.5, 'p-value': 0.5000011837137105}, 'KEGG_ECM_RECEPTOR_INTERACTION': {'pathway': 'KEGG_ECM_RECEPTOR_INTERACTION', 'LV index': 'LV20', 'AUC': 0.5, 'p-value': 0.5000011837137105}, 'KEGG_PURINE_METABOLISM': {'pathway': 'KEGG_PURINE_METABOLISM', 'LV index': 'LV23', 'AUC': 0.5, 'p-value': 0.50000116367412}, 'REACTOME_RESPONSE_TO_ELEVATED_PLATELET_CYTOSOLIC_CA2_': {'pathway': 'REACTOME_RESPONSE_TO_ELEVATED_PLATELET_CYTOSOLIC_CA2_', 'LV index': 'LV20', 'AUC': 0.5, 'p-value': 0.5000011837137105}, 'REACTOME_MUSCLE_CONTRACTION': {'pathway': 'REACTOME_MUSCLE_CONTRACTION', 'LV index': 'LV20', 'AUC': 0.5, 'p-value': 0.5000011837137105}, 'REACTOME_METABOLISM_OF_AMINO_ACIDS_AND_DERIVATIVES': {'pathway': 'REACTOME_METABOLISM_OF_AMINO_ACIDS_AND_DERIVATIVES', 'LV index': 'LV23', 'AUC': 0.5, 'p-value': 0.50000116367412}, 'KEGG_OXIDATIVE_PHOSPHORYLATION': {'pathway': 'KEGG_OXIDATIVE_PHOSPHORYLATION', 'LV index': 'LV23', 'AUC': 0.5, 'p-value': 0.50000116367412}, 'KEGG_PROTEASOME': {'pathway': 'KEGG_PROTEASOME', 'LV index': 'LV23', 'AUC': 0.5, 'p-value': 0.50000116367412}, 'REACTOME_REGULATION_OF_ORNITHINE_DECARBOXYLASE_ODC': {'pathway': 'REACTOME_REGULATION_OF_ORNITHINE_DECARBOXYLASE_ODC', 'LV index': 'LV23', 'AUC': 0.5, 'p-value': 0.50000116367412}, 'REACTOME_RESPIRATORY_ELECTRON_TRANSPORT_ATP_SYNTHESIS_BY_CHEMIOSMOTIC_COUPLING_AND_HEAT_PRODUCTION_BY_UNCOUPLING_PROTEINS_': {'pathway': 'REACTOME_RESPIRATORY_ELECTRON_TRANSPORT_ATP_SYNTHESIS_BY_CHEMIOSMOTIC_COUPLING_AND_HEAT_PRODUCTION_BY_UNCOUPLING_PROTEINS_', 'LV index': 'LV30', 'AUC': 0.5, 'p-value': 0.5000011329414156}, 'KEGG_PARKINSONS_DISEASE': {'pathway': 'KEGG_PARKINSONS_DISEASE', 'LV index': 'LV30', 'AUC': 0.5, 'p-value': 0.5000011329414156}, 'MIPS_39S_RIBOSOMAL_SUBUNIT_MITOCHONDRIAL': {'pathway': 'MIPS_39S_RIBOSOMAL_SUBUNIT_MITOCHONDRIAL', 'LV index': 'LV23', 'AUC': 0.5, 'p-value': 0.50000116367412}, 'REACTOME_ANTIGEN_PROCESSING_CROSS_PRESENTATION': {'pathway': 'REACTOME_ANTIGEN_PROCESSING_CROSS_PRESENTATION', 'LV index': 'LV23', 'AUC': 0.5, 'p-value': 0.50000116367412}, 'MIPS_55S_RIBOSOME_MITOCHONDRIAL': {'pathway': 'MIPS_55S_RIBOSOME_MITOCHONDRIAL', 'LV index': 'LV30', 'AUC': 0.5, 'p-value': 0.5000011329414156}, 'KEGG_SPLICEOSOME': {'pathway': 'KEGG_SPLICEOSOME', 'LV index': 'LV23', 'AUC': 0.5, 'p-value': 0.50000116367412}, 'DMAP_DENDA1': {'pathway': 'DMAP_DENDA1', 'LV index': 'LV26', 'AUC': 0.5, 'p-value': 0.5000011627386589}, 'REACTOME_INTERFERON_SIGNALING': {'pathway': 'REACTOME_INTERFERON_SIGNALING', 'LV index': 'LV27', 'AUC': 0.5, 'p-value': 0.5000011869968509}, 'REACTOME_INTERFERON_ALPHA_BETA_SIGNALING': {'pathway': 'REACTOME_INTERFERON_ALPHA_BETA_SIGNALING', 'LV index': 'LV27', 'AUC': 0.5, 'p-value': 0.5000011869968509}, 'REACTOME_MITOCHONDRIAL_PROTEIN_IMPORT': {'pathway': 'REACTOME_MITOCHONDRIAL_PROTEIN_IMPORT', 'LV index': 'LV30', 'AUC': 0.5, 'p-value': 0.5000011329414156}, 'REACTOME_PEPTIDE_CHAIN_ELONGATION': {'pathway': 'REACTOME_PEPTIDE_CHAIN_ELONGATION', 'LV index': 'LV30', 'AUC': 0.5, 'p-value': 0.5000011329414156}, 'REACTOME_FORMATION_OF_THE_TERNARY_COMPLEX_AND_SUBSEQUENTLY_THE_43S_COMPLEX': {'pathway': 'REACTOME_FORMATION_OF_THE_TERNARY_COMPLEX_AND_SUBSEQUENTLY_THE_43S_COMPLEX', 'LV index': 'LV30', 'AUC': 0.5, 'p-value': 0.5000011329414156}, 'MIPS_NOP56P_ASSOCIATED_PRE_RRNA_COMPLEX': {'pathway': 'MIPS_NOP56P_ASSOCIATED_PRE_RRNA_COMPLEX', 'LV index': 'LV30', 'AUC': 0.5, 'p-value': 0.5000011329414156}, 'REACTOME_SRP_DEPENDENT_COTRANSLATIONAL_PROTEIN_TARGETING_TO_MEMBRANE': {'pathway': 'REACTOME_SRP_DEPENDENT_COTRANSLATIONAL_PROTEIN_TARGETING_TO_MEMBRANE', 'LV index': 'LV30', 'AUC': 0.5, 'p-value': 0.5000011329414156}}"
      ]
     },
     "execution_count": 22,
     "metadata": {},
     "output_type": "execute_result"
    }
   ],
   "source": [
    "out_dict"
   ]
  },
  {
   "cell_type": "code",
   "execution_count": 52,
   "id": "3b3ab3ec-a758-482c-a63e-a69e0d086dba",
   "metadata": {},
   "outputs": [
    {
     "data": {
      "text/html": [
       "<div>\n",
       "<style scoped>\n",
       "    .dataframe tbody tr th:only-of-type {\n",
       "        vertical-align: middle;\n",
       "    }\n",
       "\n",
       "    .dataframe tbody tr th {\n",
       "        vertical-align: top;\n",
       "    }\n",
       "\n",
       "    .dataframe thead th {\n",
       "        text-align: right;\n",
       "    }\n",
       "</style>\n",
       "<table border=\"1\" class=\"dataframe\">\n",
       "  <thead>\n",
       "    <tr style=\"text-align: right;\">\n",
       "      <th></th>\n",
       "      <th>LV1</th>\n",
       "      <th>LV2</th>\n",
       "      <th>LV3</th>\n",
       "      <th>LV4</th>\n",
       "      <th>LV5</th>\n",
       "      <th>LV6</th>\n",
       "      <th>LV7</th>\n",
       "      <th>LV8</th>\n",
       "      <th>LV9</th>\n",
       "      <th>LV10</th>\n",
       "      <th>LV11</th>\n",
       "      <th>LV12</th>\n",
       "      <th>LV13</th>\n",
       "      <th>LV14</th>\n",
       "      <th>LV15</th>\n",
       "      <th>LV16</th>\n",
       "      <th>LV17</th>\n",
       "      <th>LV18</th>\n",
       "      <th>LV19</th>\n",
       "      <th>LV20</th>\n",
       "      <th>LV21</th>\n",
       "      <th>LV22</th>\n",
       "      <th>LV23</th>\n",
       "      <th>LV24</th>\n",
       "      <th>LV25</th>\n",
       "      <th>LV26</th>\n",
       "      <th>LV27</th>\n",
       "      <th>LV28</th>\n",
       "      <th>LV29</th>\n",
       "      <th>LV30</th>\n",
       "    </tr>\n",
       "  </thead>\n",
       "  <tbody>\n",
       "    <tr>\n",
       "      <th>IRIS_Bcell-Memory_IgG_IgA</th>\n",
       "      <td>0.0</td>\n",
       "      <td>0.0</td>\n",
       "      <td>0.0</td>\n",
       "      <td>0.0</td>\n",
       "      <td>0.0</td>\n",
       "      <td>0.0</td>\n",
       "      <td>0.0</td>\n",
       "      <td>0.0</td>\n",
       "      <td>0.0</td>\n",
       "      <td>0.0</td>\n",
       "      <td>0.0</td>\n",
       "      <td>0.0</td>\n",
       "      <td>0.0</td>\n",
       "      <td>0.0</td>\n",
       "      <td>0.5</td>\n",
       "      <td>0.0</td>\n",
       "      <td>0.0</td>\n",
       "      <td>0.0</td>\n",
       "      <td>0.0</td>\n",
       "      <td>0.0</td>\n",
       "      <td>0.0</td>\n",
       "      <td>0.0</td>\n",
       "      <td>0.0</td>\n",
       "      <td>0.0</td>\n",
       "      <td>0.0</td>\n",
       "      <td>0.0</td>\n",
       "      <td>0.0</td>\n",
       "      <td>0.0</td>\n",
       "      <td>0.0</td>\n",
       "      <td>0.0</td>\n",
       "    </tr>\n",
       "    <tr>\n",
       "      <th>IRIS_Bcell-Memory_IgM</th>\n",
       "      <td>0.0</td>\n",
       "      <td>0.0</td>\n",
       "      <td>0.0</td>\n",
       "      <td>0.0</td>\n",
       "      <td>0.0</td>\n",
       "      <td>0.0</td>\n",
       "      <td>0.0</td>\n",
       "      <td>0.0</td>\n",
       "      <td>0.0</td>\n",
       "      <td>0.0</td>\n",
       "      <td>0.0</td>\n",
       "      <td>0.0</td>\n",
       "      <td>0.0</td>\n",
       "      <td>0.0</td>\n",
       "      <td>0.5</td>\n",
       "      <td>0.0</td>\n",
       "      <td>0.0</td>\n",
       "      <td>0.0</td>\n",
       "      <td>0.0</td>\n",
       "      <td>0.0</td>\n",
       "      <td>0.0</td>\n",
       "      <td>0.0</td>\n",
       "      <td>0.0</td>\n",
       "      <td>0.0</td>\n",
       "      <td>0.0</td>\n",
       "      <td>0.0</td>\n",
       "      <td>0.0</td>\n",
       "      <td>0.0</td>\n",
       "      <td>0.0</td>\n",
       "      <td>0.0</td>\n",
       "    </tr>\n",
       "    <tr>\n",
       "      <th>IRIS_Bcell-naive</th>\n",
       "      <td>0.0</td>\n",
       "      <td>0.0</td>\n",
       "      <td>0.0</td>\n",
       "      <td>0.0</td>\n",
       "      <td>0.0</td>\n",
       "      <td>0.0</td>\n",
       "      <td>0.0</td>\n",
       "      <td>0.0</td>\n",
       "      <td>0.0</td>\n",
       "      <td>0.0</td>\n",
       "      <td>0.0</td>\n",
       "      <td>0.0</td>\n",
       "      <td>0.0</td>\n",
       "      <td>0.0</td>\n",
       "      <td>0.5</td>\n",
       "      <td>0.0</td>\n",
       "      <td>0.0</td>\n",
       "      <td>0.0</td>\n",
       "      <td>0.0</td>\n",
       "      <td>0.0</td>\n",
       "      <td>0.0</td>\n",
       "      <td>0.0</td>\n",
       "      <td>0.0</td>\n",
       "      <td>0.0</td>\n",
       "      <td>0.0</td>\n",
       "      <td>0.0</td>\n",
       "      <td>0.0</td>\n",
       "      <td>0.0</td>\n",
       "      <td>0.0</td>\n",
       "      <td>0.0</td>\n",
       "    </tr>\n",
       "    <tr>\n",
       "      <th>IRIS_CD4Tcell-N0</th>\n",
       "      <td>0.0</td>\n",
       "      <td>0.0</td>\n",
       "      <td>0.0</td>\n",
       "      <td>0.0</td>\n",
       "      <td>0.0</td>\n",
       "      <td>0.5</td>\n",
       "      <td>0.0</td>\n",
       "      <td>0.0</td>\n",
       "      <td>0.0</td>\n",
       "      <td>0.0</td>\n",
       "      <td>0.0</td>\n",
       "      <td>0.0</td>\n",
       "      <td>0.0</td>\n",
       "      <td>0.0</td>\n",
       "      <td>0.0</td>\n",
       "      <td>0.0</td>\n",
       "      <td>0.0</td>\n",
       "      <td>0.0</td>\n",
       "      <td>0.0</td>\n",
       "      <td>0.0</td>\n",
       "      <td>0.0</td>\n",
       "      <td>0.0</td>\n",
       "      <td>0.0</td>\n",
       "      <td>0.0</td>\n",
       "      <td>0.0</td>\n",
       "      <td>0.0</td>\n",
       "      <td>0.0</td>\n",
       "      <td>0.0</td>\n",
       "      <td>0.0</td>\n",
       "      <td>0.0</td>\n",
       "    </tr>\n",
       "    <tr>\n",
       "      <th>IRIS_CD4Tcell-Th1-restimulated12hour</th>\n",
       "      <td>0.0</td>\n",
       "      <td>0.0</td>\n",
       "      <td>0.0</td>\n",
       "      <td>0.0</td>\n",
       "      <td>0.0</td>\n",
       "      <td>0.0</td>\n",
       "      <td>0.0</td>\n",
       "      <td>0.0</td>\n",
       "      <td>0.0</td>\n",
       "      <td>0.0</td>\n",
       "      <td>0.0</td>\n",
       "      <td>0.0</td>\n",
       "      <td>0.0</td>\n",
       "      <td>0.0</td>\n",
       "      <td>0.0</td>\n",
       "      <td>0.0</td>\n",
       "      <td>0.0</td>\n",
       "      <td>0.0</td>\n",
       "      <td>0.0</td>\n",
       "      <td>0.0</td>\n",
       "      <td>0.0</td>\n",
       "      <td>0.0</td>\n",
       "      <td>0.0</td>\n",
       "      <td>0.0</td>\n",
       "      <td>0.0</td>\n",
       "      <td>0.0</td>\n",
       "      <td>0.0</td>\n",
       "      <td>0.0</td>\n",
       "      <td>0.0</td>\n",
       "      <td>0.0</td>\n",
       "    </tr>\n",
       "    <tr>\n",
       "      <th>...</th>\n",
       "      <td>...</td>\n",
       "      <td>...</td>\n",
       "      <td>...</td>\n",
       "      <td>...</td>\n",
       "      <td>...</td>\n",
       "      <td>...</td>\n",
       "      <td>...</td>\n",
       "      <td>...</td>\n",
       "      <td>...</td>\n",
       "      <td>...</td>\n",
       "      <td>...</td>\n",
       "      <td>...</td>\n",
       "      <td>...</td>\n",
       "      <td>...</td>\n",
       "      <td>...</td>\n",
       "      <td>...</td>\n",
       "      <td>...</td>\n",
       "      <td>...</td>\n",
       "      <td>...</td>\n",
       "      <td>...</td>\n",
       "      <td>...</td>\n",
       "      <td>...</td>\n",
       "      <td>...</td>\n",
       "      <td>...</td>\n",
       "      <td>...</td>\n",
       "      <td>...</td>\n",
       "      <td>...</td>\n",
       "      <td>...</td>\n",
       "      <td>...</td>\n",
       "      <td>...</td>\n",
       "    </tr>\n",
       "    <tr>\n",
       "      <th>PID_IL4_2PATHWAY</th>\n",
       "      <td>0.0</td>\n",
       "      <td>0.0</td>\n",
       "      <td>0.0</td>\n",
       "      <td>0.0</td>\n",
       "      <td>0.0</td>\n",
       "      <td>0.0</td>\n",
       "      <td>0.0</td>\n",
       "      <td>0.0</td>\n",
       "      <td>0.0</td>\n",
       "      <td>0.0</td>\n",
       "      <td>0.0</td>\n",
       "      <td>0.0</td>\n",
       "      <td>0.0</td>\n",
       "      <td>0.0</td>\n",
       "      <td>0.0</td>\n",
       "      <td>0.0</td>\n",
       "      <td>0.0</td>\n",
       "      <td>0.0</td>\n",
       "      <td>0.0</td>\n",
       "      <td>0.0</td>\n",
       "      <td>0.0</td>\n",
       "      <td>0.0</td>\n",
       "      <td>0.0</td>\n",
       "      <td>0.0</td>\n",
       "      <td>0.0</td>\n",
       "      <td>0.0</td>\n",
       "      <td>0.0</td>\n",
       "      <td>0.0</td>\n",
       "      <td>0.0</td>\n",
       "      <td>0.0</td>\n",
       "    </tr>\n",
       "    <tr>\n",
       "      <th>REACTOME_SIGNALING_BY_THE_B_CELL_RECEPTOR_BCR</th>\n",
       "      <td>0.0</td>\n",
       "      <td>0.0</td>\n",
       "      <td>0.0</td>\n",
       "      <td>0.0</td>\n",
       "      <td>0.0</td>\n",
       "      <td>0.0</td>\n",
       "      <td>0.0</td>\n",
       "      <td>0.0</td>\n",
       "      <td>0.0</td>\n",
       "      <td>0.0</td>\n",
       "      <td>0.0</td>\n",
       "      <td>0.0</td>\n",
       "      <td>0.0</td>\n",
       "      <td>0.0</td>\n",
       "      <td>0.0</td>\n",
       "      <td>0.0</td>\n",
       "      <td>0.0</td>\n",
       "      <td>0.0</td>\n",
       "      <td>0.0</td>\n",
       "      <td>0.0</td>\n",
       "      <td>0.0</td>\n",
       "      <td>0.0</td>\n",
       "      <td>0.0</td>\n",
       "      <td>0.0</td>\n",
       "      <td>0.0</td>\n",
       "      <td>0.0</td>\n",
       "      <td>0.0</td>\n",
       "      <td>0.0</td>\n",
       "      <td>0.0</td>\n",
       "      <td>0.0</td>\n",
       "    </tr>\n",
       "    <tr>\n",
       "      <th>PID_BCR_5PATHWAY</th>\n",
       "      <td>0.0</td>\n",
       "      <td>0.0</td>\n",
       "      <td>0.0</td>\n",
       "      <td>0.0</td>\n",
       "      <td>0.0</td>\n",
       "      <td>0.0</td>\n",
       "      <td>0.0</td>\n",
       "      <td>0.0</td>\n",
       "      <td>0.0</td>\n",
       "      <td>0.0</td>\n",
       "      <td>0.0</td>\n",
       "      <td>0.0</td>\n",
       "      <td>0.0</td>\n",
       "      <td>0.0</td>\n",
       "      <td>0.0</td>\n",
       "      <td>0.0</td>\n",
       "      <td>0.0</td>\n",
       "      <td>0.0</td>\n",
       "      <td>0.0</td>\n",
       "      <td>0.0</td>\n",
       "      <td>0.0</td>\n",
       "      <td>0.0</td>\n",
       "      <td>0.0</td>\n",
       "      <td>0.0</td>\n",
       "      <td>0.0</td>\n",
       "      <td>0.0</td>\n",
       "      <td>0.0</td>\n",
       "      <td>0.0</td>\n",
       "      <td>0.0</td>\n",
       "      <td>0.0</td>\n",
       "    </tr>\n",
       "    <tr>\n",
       "      <th>PID_TELOMERASEPATHWAY</th>\n",
       "      <td>0.0</td>\n",
       "      <td>0.0</td>\n",
       "      <td>0.0</td>\n",
       "      <td>0.0</td>\n",
       "      <td>0.0</td>\n",
       "      <td>0.0</td>\n",
       "      <td>0.0</td>\n",
       "      <td>0.0</td>\n",
       "      <td>0.0</td>\n",
       "      <td>0.0</td>\n",
       "      <td>0.0</td>\n",
       "      <td>0.0</td>\n",
       "      <td>0.0</td>\n",
       "      <td>0.0</td>\n",
       "      <td>0.0</td>\n",
       "      <td>0.0</td>\n",
       "      <td>0.0</td>\n",
       "      <td>0.0</td>\n",
       "      <td>0.0</td>\n",
       "      <td>0.0</td>\n",
       "      <td>0.0</td>\n",
       "      <td>0.0</td>\n",
       "      <td>0.0</td>\n",
       "      <td>0.0</td>\n",
       "      <td>0.0</td>\n",
       "      <td>0.0</td>\n",
       "      <td>0.0</td>\n",
       "      <td>0.0</td>\n",
       "      <td>0.0</td>\n",
       "      <td>0.0</td>\n",
       "    </tr>\n",
       "    <tr>\n",
       "      <th>PID_PI3KPLCTRKPATHWAY</th>\n",
       "      <td>0.0</td>\n",
       "      <td>0.0</td>\n",
       "      <td>0.0</td>\n",
       "      <td>0.0</td>\n",
       "      <td>0.0</td>\n",
       "      <td>0.0</td>\n",
       "      <td>0.0</td>\n",
       "      <td>0.0</td>\n",
       "      <td>0.0</td>\n",
       "      <td>0.0</td>\n",
       "      <td>0.0</td>\n",
       "      <td>0.0</td>\n",
       "      <td>0.0</td>\n",
       "      <td>0.0</td>\n",
       "      <td>0.0</td>\n",
       "      <td>0.0</td>\n",
       "      <td>0.0</td>\n",
       "      <td>0.0</td>\n",
       "      <td>0.0</td>\n",
       "      <td>0.0</td>\n",
       "      <td>0.0</td>\n",
       "      <td>0.0</td>\n",
       "      <td>0.0</td>\n",
       "      <td>0.0</td>\n",
       "      <td>0.0</td>\n",
       "      <td>0.0</td>\n",
       "      <td>0.0</td>\n",
       "      <td>0.0</td>\n",
       "      <td>0.0</td>\n",
       "      <td>0.0</td>\n",
       "    </tr>\n",
       "  </tbody>\n",
       "</table>\n",
       "<p>606 rows × 30 columns</p>\n",
       "</div>"
      ],
      "text/plain": [
       "                                               LV1  LV2  LV3  LV4  LV5  LV6  LV7  LV8  LV9  LV10  LV11  LV12  LV13  ...  LV18  LV19  LV20  LV21  LV22  LV23  LV24  LV25  LV26  LV27  LV28  LV29  LV30\n",
       "IRIS_Bcell-Memory_IgG_IgA                      0.0  0.0  0.0  0.0  0.0  0.0  0.0  0.0  0.0   0.0   0.0   0.0   0.0  ...   0.0   0.0   0.0   0.0   0.0   0.0   0.0   0.0   0.0   0.0   0.0   0.0   0.0\n",
       "IRIS_Bcell-Memory_IgM                          0.0  0.0  0.0  0.0  0.0  0.0  0.0  0.0  0.0   0.0   0.0   0.0   0.0  ...   0.0   0.0   0.0   0.0   0.0   0.0   0.0   0.0   0.0   0.0   0.0   0.0   0.0\n",
       "IRIS_Bcell-naive                               0.0  0.0  0.0  0.0  0.0  0.0  0.0  0.0  0.0   0.0   0.0   0.0   0.0  ...   0.0   0.0   0.0   0.0   0.0   0.0   0.0   0.0   0.0   0.0   0.0   0.0   0.0\n",
       "IRIS_CD4Tcell-N0                               0.0  0.0  0.0  0.0  0.0  0.5  0.0  0.0  0.0   0.0   0.0   0.0   0.0  ...   0.0   0.0   0.0   0.0   0.0   0.0   0.0   0.0   0.0   0.0   0.0   0.0   0.0\n",
       "IRIS_CD4Tcell-Th1-restimulated12hour           0.0  0.0  0.0  0.0  0.0  0.0  0.0  0.0  0.0   0.0   0.0   0.0   0.0  ...   0.0   0.0   0.0   0.0   0.0   0.0   0.0   0.0   0.0   0.0   0.0   0.0   0.0\n",
       "...                                            ...  ...  ...  ...  ...  ...  ...  ...  ...   ...   ...   ...   ...  ...   ...   ...   ...   ...   ...   ...   ...   ...   ...   ...   ...   ...   ...\n",
       "PID_IL4_2PATHWAY                               0.0  0.0  0.0  0.0  0.0  0.0  0.0  0.0  0.0   0.0   0.0   0.0   0.0  ...   0.0   0.0   0.0   0.0   0.0   0.0   0.0   0.0   0.0   0.0   0.0   0.0   0.0\n",
       "REACTOME_SIGNALING_BY_THE_B_CELL_RECEPTOR_BCR  0.0  0.0  0.0  0.0  0.0  0.0  0.0  0.0  0.0   0.0   0.0   0.0   0.0  ...   0.0   0.0   0.0   0.0   0.0   0.0   0.0   0.0   0.0   0.0   0.0   0.0   0.0\n",
       "PID_BCR_5PATHWAY                               0.0  0.0  0.0  0.0  0.0  0.0  0.0  0.0  0.0   0.0   0.0   0.0   0.0  ...   0.0   0.0   0.0   0.0   0.0   0.0   0.0   0.0   0.0   0.0   0.0   0.0   0.0\n",
       "PID_TELOMERASEPATHWAY                          0.0  0.0  0.0  0.0  0.0  0.0  0.0  0.0  0.0   0.0   0.0   0.0   0.0  ...   0.0   0.0   0.0   0.0   0.0   0.0   0.0   0.0   0.0   0.0   0.0   0.0   0.0\n",
       "PID_PI3KPLCTRKPATHWAY                          0.0  0.0  0.0  0.0  0.0  0.0  0.0  0.0  0.0   0.0   0.0   0.0   0.0  ...   0.0   0.0   0.0   0.0   0.0   0.0   0.0   0.0   0.0   0.0   0.0   0.0   0.0\n",
       "\n",
       "[606 rows x 30 columns]"
      ]
     },
     "execution_count": 52,
     "metadata": {},
     "output_type": "execute_result"
    }
   ],
   "source": [
    "Uauc"
   ]
  },
  {
   "cell_type": "code",
   "execution_count": null,
   "id": "cc7f303d-fe4d-4e3e-8599-d633457741ce",
   "metadata": {},
   "outputs": [],
   "source": []
  },
  {
   "cell_type": "code",
   "execution_count": 41,
   "id": "12459b0b-338d-4578-b663-3e1414fa7ee5",
   "metadata": {},
   "outputs": [],
   "source": [
    "data_dir = Path(\"/workspaces/pyplier/\")\n",
    "residual = pd.read_csv(data_dir / \"residual.csv.gz\", index_col=0)\n",
    "B = pd.read_csv(data_dir / \"B.csv.gz\", index_col=0)\n",
    "Z = pd.read_csv(data_dir / \"Z.csv.gz\", index_col=0)\n",
    "U = pd.read_csv(data_dir / \"U.csv.gz\", index_col=0)\n",
    "C = pd.read_csv(data_dir / \"C.csv.gz\", index_col=0)\n",
    "L1 = 18.43058\n",
    "L2 = 36.86117\n",
    "L3 = 0.0004307425\n",
    "heldOutGenes = pd.read_csv(data_dir / \"heldoutgenes.csv.gz\", index_col=0)"
   ]
  },
  {
   "cell_type": "code",
   "execution_count": 62,
   "id": "db2492be-769b-4fdc-aaba-10d15c07b376",
   "metadata": {
    "collapsed": true,
    "jupyter": {
     "outputs_hidden": true
    },
    "tags": []
   },
   "outputs": [
    {
     "data": {
      "text/plain": [
       "{'BIOCARTA_BCR_PATHWAY': ['ELK1', 'PPP3CA', 'MAP3K1', 'RAC1', 'PPP3CC', 'JUN'], 'BIOCARTA_BIOPEPTIDES_PATHWAY': ['FYN', 'SHC1', 'GNA11', 'STAT4', 'MAPT', 'GNAI1', 'PLCG1'], 'BIOCARTA_CARM_ER_PATHWAY': ['EP300', 'PELP1', 'GTF2E1', 'GTF2A1', 'BRCA1', 'HDAC11'], 'BIOCARTA_CHREBP2_PATHWAY': ['PRKAR2B', 'PPP2R5A', 'PRKAR1A', 'PRKAB1', 'MLX', 'FASN'], 'BIOCARTA_DEATH_PATHWAY': ['BID', 'FADD', 'CYCS', 'CASP7', 'APAF1', 'TNFSF12'], 'BIOCARTA_EGF_PATHWAY': ['STAT1', 'STAT5B', 'GRB2', 'STAT4', 'PRKCB', 'MAP3K1'], 'BIOCARTA_FAS_PATHWAY': ['MAP2K4', 'PARP1', 'DFFA', 'RIPK2', 'FAF1'], 'BIOCARTA_FCER1_PATHWAY': ['LYN', 'SHC1', 'MAP2K1', 'FCER1A', 'MAPK8', 'VAV1', 'MAP2K7'], 'BIOCARTA_FMLP_PATHWAY': ['CALM3', 'NFKBIA', 'CALM1', 'RELA', 'HRAS', 'GNA15'], 'BIOCARTA_GPCR_PATHWAY': ['NFATC2', 'PPP3CA', 'RPS6KA3', 'JUN', 'PPP3CB', 'PLCG1'], 'BIOCARTA_HIVNEF_PATHWAY': ['RASA1', 'CRADD', 'PTK2', 'ACTG1', 'PAK2', 'NUMA1', 'XIAP', 'TRADD', 'DFFB', 'CASP7', 'PARP1'], 'BIOCARTA_IL2RB_PATHWAY': ['HRAS', 'NMI', 'IL2RA', 'IKZF3', 'FASLG', 'BCL2L1', 'SYK'], 'BIOCARTA_INTEGRIN_PATHWAY': ['JUN', 'TNS1', 'MAPK3', 'MAP2K2', 'RAP1A', 'SOS1'], 'BIOCARTA_KERATINOCYTE_PATHWAY': ['CHUK', 'MAP2K4', 'MAP2K7', 'PRKCB', 'IKBKB', 'TNFRSF1B', 'FOS', 'TNFRSF1A'], 'BIOCARTA_MAPK_PATHWAY': ['MAP2K4', 'MAP3K13', 'MAP3K6', 'MAPK11', 'MAPK6', 'MAP3K10', 'ARAF', 'TGFB1', 'ELK1', 'MAPK14', 'PAK2', 'RPS6KA1', 'MAX', 'MAP3K2', 'JUN', 'RPS6KA2'], 'BIOCARTA_MET_PATHWAY': ['SOS1', 'PTK2', 'MAP4K1', 'CRKL', 'DOCK1', 'MAP2K2', 'MAPK3'], 'BIOCARTA_MPR_PATHWAY': ['PIN1', 'ACTR3', 'ACTR2', 'CCNB1', 'ARPC4'], 'BIOCARTA_NFAT_PATHWAY': ['PRKAR1A', 'AKT1', 'PIK3CA', 'HRAS', 'NFATC2', 'CREBBP', 'MAP2K1'], 'BIOCARTA_P38MAPK_PATHWAY': ['PLA2G4A', 'MAPK14', 'MAPKAPK5', 'DDIT3', 'HRAS', 'DAXX', 'CREB1'], 'BIOCARTA_PAR1_PATHWAY': ['F2RL3', 'ARHGEF1', 'F2R', 'ARHGEF5', 'RHOA', 'MAP3K7'], 'BIOCARTA_PDGF_PATHWAY': ['RASA1', 'PIK3R1', 'PIK3CG', 'ELK1', 'SHC1', 'JUN'], 'BIOCARTA_PPARA_PATHWAY': ['PRKACB', 'EP300', 'PRKAR1B', 'MYC', 'PIK3CA', 'SP1', 'RELA', 'NCOA1', 'MRPL11'], 'BIOCARTA_RHO_PATHWAY': ['TLN1', 'ARPC2', 'RHOA', 'ARPC5', 'PIP5K1B', 'ARPC1A'], 'BIOCARTA_TCR_PATHWAY': ['NFATC3', 'PRKCA', 'CD3D', 'ZAP70', 'MAPK8', 'PIK3CG', 'PIK3R1', 'PIK3CA'], 'BIOCARTA_TOLL_PATHWAY': ['FOS', 'JUN', 'TAB2', 'MAPK14', 'TLR10', 'MAPK8', 'TRAF6'], 'Custom_Treg': ['FLT3LG', 'TRAF1'], 'DMAP_BASO1': ['PTPRK', 'TNFRSF17'], 'DMAP_BCELLA1': ['KIAA0125', 'APBB2', 'MS4A1', 'ADAR', 'IRS1', 'PTPRK', 'RASGRP3', 'SYT17', 'RRAGC', 'HLA-DOB', 'ADARB1', 'HLA-C', 'TSPYL2'], 'DMAP_BCELLA2': ['BLNK', 'COL4A3', 'BLK', 'P2RX5', 'IGJ', 'PTPRK', 'KIAA0125', 'ABCB4', 'CR2', 'LARGE'], 'DMAP_BCELLA3': ['FCRL2', 'KIAA0125', 'RRAGC', 'NR3C2', 'EIF2AK3', 'COBLL1', 'TSPYL2', 'POU2AF1', 'ZDHHC14', 'CAMK2N1'], 'DMAP_BCELLA4': ['BLK', 'COBLL1', 'BANK1', 'PRDM4', 'COL4A4', 'FAM102A', 'COL4A3', 'RALGPS2', 'OSBPL10'], 'DMAP_DENDA1': ['TNFRSF21', 'TPM2', 'EPHA2', 'COBLL1', 'LGMN', 'AXL', 'TNFRSF17', 'AHI1', 'BLNK'], 'DMAP_DENDA2': ['MNDA', 'CDH1', 'CLEC4A', 'THBD', 'NDRG2', 'ALDH2', 'FCN1', 'CD1C'], 'DMAP_EOS2': ['SMPDL3A', 'TCL1A', 'MS4A3', 'PEG10'], 'DMAP_ERY1': ['PBX1', 'PPM1H', 'F2R', 'SLC39A8', 'POLE', 'MEIS1', 'CEP70', 'FAM117A'], 'DMAP_ERY2': ['EFHC2', 'F2R', 'MEST', 'DNM3', 'TSPO', 'SLPI', 'MPL', 'CENPE', 'POLE', 'PBX1', 'ANXA3'], 'DMAP_ERY3': ['GAPVD1', 'DNAJB4', 'RNF11', 'ITSN1', 'PCCB', 'HBD', 'PQLC1', 'DCXR', 'KCTD9', 'RANBP1', 'KRT1', 'SMOX', 'CLCN3', 'AP2S1', 'PSMF1', 'REXO2', 'C9orf40', 'DAD1', 'PPOX', 'ARF1', 'WBP2', 'PPME1', 'NEDD4', 'MPP1', 'BRD4', 'RBX1', 'CDKL1', 'MAP2K3', 'SERINC3', 'RMND5A', 'MBNL3', 'MAFG', 'SAMD9', 'RNF123', 'UBE2B', 'DCTN3', 'RAB11B', 'GTPBP1', 'PRR5', 'DNAJC6', 'CDIPT', 'ECT2', 'USP32', 'CARHSP1', 'RAP1GAP', 'PIGQ', 'GHITM', 'CARM1', 'HEXIM1', 'DCUN1D1', 'ARF4', 'MAP1LC3B', 'GCLM', 'MOSPD1', 'ANK1', 'CYB5R1', 'CLIC2', 'FECH', 'CREG1', 'ACP1', 'SORBS1', 'FKBP8', 'MFHAS1', 'RAP2A', 'GABARAPL1', 'SLC22A4', 'FAM20B', 'ELOVL6', 'ABCG2', 'HBQ1', 'RNF187', 'NAPA', 'UBB'], 'DMAP_ERY4': ['PDCD10', 'DNAJA2', 'SLC25A37', 'XPO7', 'OPA1', 'DYRK3', 'TUFT1', 'MBNL3', 'RNF123', 'UBAP1', 'BUB1', 'ZNF19', 'MFN2', 'MAFG', 'MBD5', 'PDZK1IP1', 'UBB', 'ZBTB17', 'CDH1', 'FKBP8', 'HDGF', 'E2F4', 'PTPRF', 'GAPVD1', 'HBQ1', 'HPS1', 'TRIM23', 'CUL4A', 'WNK1', 'CLPX', 'RPIA', 'GPX1', 'PIP5K1B', 'TGM2', 'TMOD1', 'SLC7A5', 'NFE2', 'TRIP12', 'BCL2L1', 'MYL4', 'SELENBP1', 'HBB', 'TERF2', 'NFIX', 'SHARPIN', 'WIPI2', 'DDB1', 'EIF2AK1', 'MICAL2', 'C9orf78', 'FBXO9', 'NAPA', 'SERPINI1', 'RAN', 'PPM1A', 'GABARAPL1', 'REXO2', 'DHX29', 'GHITM', 'CMAS', 'UBL5', 'FZR1'], 'DMAP_ERY5': ['ECT2', 'GYPB', 'SELENBP1', 'MPP1', 'GLUL', 'KLF1', 'PDCD10', 'FBXO34', 'PQLC1', 'NPL', 'ADIPOR1', 'TOP1', 'ARF1', 'CALCOCO1', 'POLR1D', 'RALBP1', 'ANK1', 'MBOAT2', 'DDB1', 'ZBTB17', 'NINJ2', 'TFR2', 'CREG1', 'HPS1', 'WIPI2', 'CDC27', 'PSMF1', 'PTTG1', 'MAP2K3', 'TSG101', 'FZD5', 'HIGD1A', 'GYPE', 'RMND5A', 'TTLL12', 'DNAJC6', 'H1F0', 'UBE2V1', 'C1D', 'LGALS3', 'SERPINI1', 'SAMD9', 'TUFT1', 'MICAL2', 'GABARAPL1', 'GFOD2', 'UBAP1', 'MXI1', 'SLC16A1', 'BLVRB', 'KIDINS220', 'DCUN1D1', 'ARL6IP1', 'CCNB2', 'E2F4', 'RNF10', 'PLEK2', 'SPTB', 'ARL4A', 'ARF4', 'DOHH', 'BPGM'], 'DMAP_GMP': ['CPA3', 'F13A1'], 'DMAP_GRAN1': ['GAL3ST4', 'MEST', 'PRKCH', 'IL32', 'CD79A', 'PEG10', 'BANK1', 'P2RX5', 'CR2', 'RASGRP3', 'CD28'], 'DMAP_GRAN2': ['ALDH2', 'FXYD6', 'TSPO', 'HBEGF', 'HCK', 'MS4A3', 'ANXA5', 'CLEC4A', 'CASP1', 'SERPINA1', 'SIRPB1', 'QPCT', 'MNDA', 'EPS8', 'WDFY3', 'STEAP4', 'SLC31A2', 'TMEM176B', 'FGL2'], 'DMAP_GRAN3': ['CEACAM8', 'CASP1', 'FCGR3A', 'FCN1', 'TSPO', 'SCO2', 'FGL2', 'TCN1', 'RIN2', 'MAFB', 'HAL', 'KIAA1598', 'IFI30', 'CLEC7A', 'CD93', 'KLRK1', 'TCF7L2', 'PADI2', 'MYB', 'ZAP70', 'NCF2'], 'DMAP_HSC1': ['KIT', 'PDGFD', 'ALDH1A1', 'CACNB2', 'MEIS1', 'SPRED2', 'ANGPT1', 'JUP', 'HLF', 'FXYD6', 'PBX1'], 'DMAP_HSC3': ['HLF', 'JUP', 'CDCP1', 'SOCS2', 'KIAA0125', 'IGJ', 'STK32B', 'FLT3', 'IL18', 'SLC39A8', 'FXYD6', 'LAPTM4B'], 'DMAP_MEGA1': ['MEIS1', 'GATA2', 'FSTL1'], 'DMAP_MEGA2': ['CD8A', 'DCLRE1A', 'F13A1', 'PDGFA', 'SELP', 'PF4V1', 'COL6A3', 'GP1BA'], 'DMAP_MEP': ['DTL', 'MYL6', 'SLC39A8', 'PLAGL1', 'TFRC', 'SPINK2', 'POLE', 'PBX1'], 'DMAP_MONO1': ['TNFAIP2', 'LTF', 'SMPDL3A', 'MPO', 'APOBEC3A', 'HMOX1', 'P2RY13', 'SULT1A1', 'EMR1', 'DEFA4', 'LGALS2', 'TSPO', 'CD9', 'F13A1', 'SLC31A2', 'FGL2'], 'DMAP_MONO2': ['MS4A6A', 'PYGL', 'SLC7A7', 'EPS8', 'CYP1B1', 'TNFRSF1B', 'CD93', 'DUSP6', 'CRISPLD2', 'CYP27A1', 'TFEC', 'STEAP4', 'DSC2', 'CSF1', 'CST3', 'FXYD6', 'S100A9', 'KCNJ2', 'HCK', 'BST1', 'QPCT'], 'DMAP_NKA1': ['SLC31A2', 'IFI30', 'SMPDL3A', 'TCF7L2', 'SIRPB1', 'TBC1D8', 'ABCC3', 'WDFY3', 'SLC7A7', 'VPS53'], 'DMAP_NKA2': ['ADRB2', 'KLRC1', 'GNLY', 'ERBB2', 'PAFAH2', 'B3GAT1', 'PRSS23', 'NCALD', 'PDGFD', 'MYOM2', 'TXK', 'PRF1'], 'DMAP_NKA3': ['CDC25B', 'XCL1', 'CTSW', 'TBX21', 'TNFRSF11A', 'EFHC2', 'CD8A', 'CRTAM'], 'DMAP_PRE_BCELL3': ['TNFRSF17', 'CD79B'], 'DMAP_TCELLA1': ['RARRES3', 'ITK', 'COPZ2', 'CD3D', 'CRTAM', 'PRKCQ', 'ADRB2', 'IL2RB'], 'DMAP_TCELLA2': ['SCML1', 'LDLR', 'IL11RA', 'PASK', 'PCSK5', 'FAM102A', 'DGKA', 'CD28', 'TBC1D4', 'SLC16A10', 'DENND2D', 'KLRK1'], 'DMAP_TCELLA3': ['GZMK', 'RARRES3', 'CD3E', 'TRAT1', 'IL32', 'NELL2', 'SYNE2', 'TBX21', 'MYB', 'ME1'], 'DMAP_TCELLA4': ['CD3D', 'NR3C2', 'ZAP70', 'MYB', 'CD8A', 'CD8B', 'KLRK1', 'NELL2'], 'DMAP_TCELLA6': ['FHIT', 'NR3C2', 'LRIG1', 'FAM102A', 'TRAT1', 'NOSIP', 'PRKCQ', 'ICOS', 'CDC25B', 'CD28', 'IL7R'], 'DMAP_TCELLA7': ['CD3E', 'CD3G', 'CAMTA1', 'NELL2', 'ICOS', 'SKAP1', 'IL32'], 'DMAP_TCELLA8': ['TRAT1', 'SYNE2', 'ST8SIA1', 'CD3G', 'DPP4', 'IL7R', 'MAN1C1', 'ITK'], 'IRIS_Bcell-Memory_IgG_IgA': ['SPDYE1', 'HEY1', 'FCRL1', 'AFF3', 'COCH', 'PARM1', 'MS4A1', 'KIAA0125', 'E2F5', 'SLC15A2', 'COBLL1', 'DENND5B'], 'IRIS_Bcell-Memory_IgM': ['HLA-DOA', 'BCL11A', 'AFF3', 'TCF4', 'COBLL1', 'FAM129C', 'QRSL1', 'PAX5', 'PKIG', 'BLNK', 'SLC4A4', 'TPD52'], 'IRIS_Bcell-naive': ['RALGPS2', 'MEF2C', 'E2F5', 'CR2', 'HHEX', 'CPNE5', 'GGA2', 'COBLL1', 'CD72', 'PAX5', 'PAWR', 'CD22', 'PEG10', 'CR1'], 'IRIS_CD4Tcell-N0': ['LDLR', 'EPPK1', 'TXK', 'TLE2', 'CD160', 'PASK', 'SNPH'], 'IRIS_CD4Tcell-Th1-restimulated12hour': ['UBASH3A', 'IFNG', 'BUB1B', 'TMEM97'], 'IRIS_CD4Tcell-Th1-restimulated48hour': ['CTLA4', 'CPOX', 'TMEM97', 'IFNG', 'CENPF'], 'IRIS_CD4Tcell-Th2-restimulated12hour': ['CEP55', 'NPHP4', 'IFNG', 'TPRG1', 'NDFIP2'], 'IRIS_CD4Tcell-Th2-restimulated48hour': ['CKAP2L', 'BAG2', 'FOXM1', 'UBASH3A', 'RRM2', 'BUB1'], 'IRIS_CD8Tcell-N0': ['KLRF1', 'MYBL1', 'PLEKHB1', 'NR3C2', 'CD8A', 'CD160', 'MYB'], 'IRIS_DendriticCell-Control': ['FAM198B', 'RGS1', 'SLC7A11', 'ARHGAP18', 'ST3GAL6', 'FCER1A', 'CTTNBP2NL', 'DFNA5', 'PARM1', 'GAS6', 'RAB20', 'HLA-DQA1', 'PILRA', 'TGFBI', 'NFXL1', 'F13A1', 'MGST1', 'A2M', 'TLR4', 'ARRDC4', 'B3GNT5', 'MRAS', 'LHFPL2', 'DOCK4', 'RGL1', 'C1QA', 'SULF2', 'SLC48A1', 'GAS2L1', 'SLC38A6', 'SLAMF8', 'RTN1', 'PAK1', 'ME1'], 'IRIS_DendriticCell-LPSstimulated': ['DNAJB4', 'CMPK2', 'CLIC2', 'PSD3', 'IL8', 'ABTB2', 'CREB5', 'ATP6V1H', 'G0S2', 'NQO1', 'SRD5A3', 'CHST7', 'ABCA6', 'IFIT2', 'CD274', 'L3MBTL4', 'ZG16B', 'TFEC', 'TNFSF4', 'PILRA', 'TOMM34', 'FSCN1', 'ELOVL7', 'IL15RA', 'CSTA', 'CD1E', 'MAP3K6', 'PALLD', 'TGM2', 'RIPK2', 'GAS2', 'KIAA1598', 'SDC2', 'DHX58', 'HOMER2', 'IFI44L', 'C1QB', 'NFKBID', 'SPI1', 'ARHGAP22', 'PLAU'], 'IRIS_MemoryTcell-RO-activated': ['TPR', 'JAKMIP1', 'CCNB2', 'TPRG1', 'WDHD1', 'FAM83D'], 'IRIS_MemoryTcell-RO-unactivated': ['TMEM204', 'FAM134B', 'MEOX1', 'VIPR1', 'TCEA3', 'PASK'], 'IRIS_Monocyte-Day0': ['IRAK3', 'MAP3K3', 'VPS37C', 'CD163', 'SPI1', 'RAB3D', 'IL15', 'CD93', 'CREB5', 'SLC11A1', 'CSF3R', 'LILRA2', 'MS4A7', 'ANG', 'SMARCD3', 'S100A12', 'RGS18', 'SULT1A2', 'MAFB', 'LPCAT2', 'FBN2', 'NLRP3', 'FTH1', 'RBP7', 'CPVL', 'CDC42', 'C5AR1', 'PADI4', 'VNN1', 'CD14', 'HK3', 'SIRPA', 'CARD9', 'ZNF503', 'MEF2C', 'EMR2'], 'IRIS_Monocyte-Day1': ['C3', 'HBEGF', 'ABCA1', 'IDO1', 'HIP1', 'ZC3H12C', 'DRAM1', 'MMP14', 'WDFY3', 'LAMP3', 'THBS1', 'SLC22A1', 'IRAK2', 'NEDD4L', 'DMXL2', 'LAMB3', 'S1PR3', 'CDC42BPB', 'HECW2', 'LRP12', 'NQO1', 'ARRDC4', 'TNFAIP2', 'EMR2', 'S100A8', 'PILRA', 'SLC1A3', 'S100A9', 'KCTD12', 'EPB41L3', 'LILRA2', 'AKR1C3', 'MREG', 'TGM2', 'CTTNBP2NL', 'ABCC3', 'SPI1', 'DOCK4', 'NAMPT', 'CCDC88A', 'C5AR1', 'TMEM158'], 'IRIS_Monocyte-Day7': ['NME7', 'WDFY3', 'MARCO', 'KCNE3', 'C1QA', 'ATP6V1H', 'GPC4', 'KCNE1', 'SLA', 'CSF1R', 'HNMT', 'SDC2', 'EMP1', 'A2M', 'DUSP3', 'SPOCD1', 'PLAUR', 'PRAM1', 'NCEH1', 'RASAL2', 'CA2', 'AKR1C3', 'DOCK4', 'RTN1', 'GAS2L1', 'NRP1', 'OLFML2B', 'ACO1', 'ALOX5', 'BLVRB', 'CSTA', 'FGD4', 'PSD3', 'DMXL2', 'PSD', 'DAB2', 'MS4A7', 'CXCL5', 'MRAS', 'GPX3'], 'IRIS_NKcell-IL15stimulated': ['IL12RB2', 'ATP9A', 'NDFIP2', 'XCL1', 'PDGFRB', 'CX3CR1', 'MYBL1'], 'IRIS_NKcell-IL2stimulated': ['SLCO4C1', 'IFNG', 'NDFIP2', 'AKR1C3', 'ELOVL6', 'GNAL', 'KIR3DL1'], 'IRIS_NKcell-control': ['KLRD1', 'NCAM1', 'KIR3DL1', 'IL12RB2', 'ATP9A', 'LCN2', 'PLBD1', 'SLCO4C1', 'YPEL1'], 'IRIS_Neutrophil-Resting': ['CFD', 'RAB20', 'CR1', 'PPCDC', 'PTPRN', 'RGS1', 'SOD2', 'CLC', 'PHOSPHO1', 'SECTM1', 'RNF24', 'CSF3R', 'CD93', 'THBD', 'BST1', 'ZNF467', 'AMPD2', 'GCA', 'PRICKLE1', 'S100P', 'NCF2', 'CYHR1', 'LPCAT2', 'MANSC1', 'CCR3', 'PRAM1', 'PPP1R12B', 'LILRA4', 'CYP4F3', 'ARAP3', 'RNASE2', 'MSL1', 'UBE2B', 'LRRC4', 'LPAR2', 'MPZ', 'WDFY3', 'CD9', 'LRRK2', 'CFP', 'SLC4A4', 'TLR1', 'SULT1B1', 'HIST1H2AC', 'CRISPLD2', 'GMFG', 'TMEM154', 'B3GNT5', 'NFE2', 'TLR6', 'TMEM91', 'RASGRP4', 'S100A8', 'CASP5', 'TNFAIP2', 'CXCL16', 'PILRA'], 'IRIS_PlasmaCell-FromBoneMarrow': ['ATF3', 'EAF2', 'SLC31A2', 'MYO1D', 'MERTK', 'B3GNT1', 'PICK1', 'TXNDC15', 'RAB30', 'COL4A3', 'TMEM220', 'CNKSR1', 'ZNF275', 'CPNE5', 'KIAA0125', 'NT5DC2', 'PLTP', 'YES1', 'UAP1'], 'IRIS_PlasmaCell-FromPBMC': ['ZNF341', 'RAB30', 'DERL3', 'NBEA', 'ZBP1', 'CAD', 'TXNDC11', 'BUB1B', 'PDIA5', 'PREB', 'PAX5', 'BLNK', 'DENND5B', 'MAGED1', 'C2orf88'], 'KEGG_ABC_TRANSPORTERS': ['ABCB9', 'TAP1', 'ABCC3', 'ABCA6', 'ABCD4'], 'KEGG_ACUTE_MYELOID_LEUKEMIA': ['RELA', 'MTOR', 'STAT5A', 'GRB2', 'PIK3R1', 'TCF7L1', 'PIK3CG', 'PIK3CA', 'AKT2', 'PIM2'], 'KEGG_ADHERENS_JUNCTION': ['ACTN1', 'TCF7', 'CDC42', 'CSNK2A1', 'INSR', 'ACTG1', 'PTPN1', 'RAC1', 'FARP2', 'SMAD4', 'TGFBR1', 'ACP1'], 'KEGG_ADIPOCYTOKINE_SIGNALING_PATHWAY': ['CHUK', 'ACSL6', 'PPARA', 'PRKCQ', 'CAMKK1', 'IRS1', 'AKT1', 'NFKBIA', 'PCK2', 'ADIPOR1'], 'KEGG_ALDOSTERONE_REGULATED_SODIUM_REABSORPTION': ['MAPK1', 'MAPK3', 'SCNN1A', 'ATP1B3', 'ATP1B1'], 'KEGG_ALLOGRAFT_REJECTION': ['HLA-DQB1', 'TNF', 'HLA-DRA', 'CD86', 'HLA-DMA'], 'KEGG_ALZHEIMERS_DISEASE': ['GRIN2D', 'ATP5G1', 'NDUFB10', 'UQCRFS1', 'ATP5F1', 'NDUFA3', 'NDUFV3', 'SNCA', 'CAPN1', 'CYC1', 'UQCRQ', 'NDUFAB1', 'APBB1', 'ATP2A1', 'NDUFB2', 'NDUFA10', 'SDHD', 'ATP5E', 'TNF', 'ATP5C1', 'COX7A2L', 'PPP3CA', 'MAPK3', 'TNFRSF1A', 'NDUFS6', 'IL1B'], 'KEGG_AMINOACYL_TRNA_BIOSYNTHESIS': ['SARS', 'YARS2', 'MTFMT', 'GARS', 'RARS', 'SEPSECS', 'TARSL2'], 'KEGG_AMINO_SUGAR_AND_NUCLEOTIDE_SUGAR_METABOLISM': ['GPI', 'UGDH', 'GNPNAT1', 'GNE', 'UGP2', 'HK1', 'CYB5R3'], 'KEGG_AMYOTROPHIC_LATERAL_SCLEROSIS_ALS': ['SOD1', 'BCL2', 'MAPK11', 'APAF1', 'RAB5A', 'CASP3', 'ALS2'], 'KEGG_ANTIGEN_PROCESSING_AND_PRESENTATION': ['HLA-E', 'HLA-DOB', 'LGMN', 'HLA-C', 'KIR3DL2', 'TAPBP', 'HSPA1B', 'HSPA1A', 'PSME2', 'CALR', 'CD74', 'IFI30'], 'KEGG_APOPTOSIS': ['FADD', 'TRADD', 'CASP6', 'CASP3', 'NFKBIA', 'CAPN1', 'CSF2RB', 'CYCS', 'IKBKG', 'PRKACA', 'PPP3R1', 'PIK3R3', 'PIK3CG', 'BIRC3', 'ATM'], 'KEGG_ARACHIDONIC_ACID_METABOLISM': ['PTGES2', 'PTGS1', 'TBXAS1', 'ALOX5', 'PLA2G4A'], 'KEGG_ARGININE_AND_PROLINE_METABOLISM': ['SAT2', 'GOT2', 'SMS', 'ARG2', 'PYCRL', 'GOT1'], 'KEGG_ARRHYTHMOGENIC_RIGHT_VENTRICULAR_CARDIOMYOPATHY_ARVC': ['ACTN1', 'ITGA9', 'ITGA7', 'CACNA2D3', 'TCF7L2', 'LMNA', 'SGCB', 'CACNA2D4'], 'KEGG_AUTOIMMUNE_THYROID_DISEASE': ['HLA-B', 'CD40LG', 'FASLG', 'HLA-DMB', 'CD86'], 'KEGG_AXON_GUIDANCE': ['RHOA', 'EPHB2', 'DPYSL2', 'EFNA4', 'PLXNB2', 'SEMA4G', 'RASA1', 'GNAI2', 'HRAS', 'LIMK2', 'PPP3CC', 'RAC3', 'NFATC1', 'RAC2', 'EPHB6', 'NCK2', 'EPHA1'], 'KEGG_BASAL_CELL_CARCINOMA': ['TP53', 'DVL1', 'APC2', 'TCF7L1', 'TCF7L2'], 'KEGG_BASAL_TRANSCRIPTION_FACTORS': ['TAF1', 'GTF2I', 'TAF5', 'TAF4', 'GTF2H1'], 'KEGG_BASE_EXCISION_REPAIR': ['NTHL1', 'MBD4', 'HMGB1', 'POLD3', 'PARP2', 'FEN1'], 'KEGG_BLADDER_CANCER': ['RPS6KA5', 'CDKN1A', 'DAPK3', 'BRAF', 'ERBB2', 'KRAS', 'IL8'], 'KEGG_B_CELL_RECEPTOR_SIGNALING_PATHWAY': ['CHUK', 'CD79B', 'VAV3', 'CR2', 'PLCG2', 'PPP3CC', 'PIK3AP1', 'BTK', 'KRAS', 'CARD11', 'PIK3R3', 'DAPP1', 'CD19', 'PRKCB'], 'KEGG_CALCIUM_SIGNALING_PATHWAY': ['PTAFR', 'PTK2B', 'BST1', 'NOS3', 'VDAC3', 'VDAC2', 'PDGFRB', 'CACNA1E', 'RYR3', 'CACNA1A', 'PHKB', 'CACNA1H', 'ADORA2B', 'PLCD1', 'MYLK', 'PHKG1', 'ATP2A2', 'SLC8A1'], 'KEGG_CARDIAC_MUSCLE_CONTRACTION': ['CACNB4', 'COX6C', 'CACNA1F', 'SLC9A6', 'CACNA2D4', 'ATP1B3', 'COX7C', 'CACNB1'], 'KEGG_CELL_ADHESION_MOLECULES_CAMS': ['ITGB7', 'HLA-DPB1', 'SPN', 'CD40LG', 'CD6', 'MADCAM1', 'GLG1', 'ICAM1', 'ICOSLG', 'ITGAV', 'CLDN15', 'HLA-DOA', 'CD8A', 'ITGA9', 'F11R', 'CDH1', 'HLA-DQA1'], 'KEGG_CELL_CYCLE': ['MCM3', 'ABL1', 'MCM5', 'E2F5', 'CDK6', 'CDC14A', 'CUL1', 'STAG1', 'CHEK1', 'CDKN2B', 'TGFB3', 'MCM7', 'BUB3', 'GADD45B', 'ATR', 'ANAPC5', 'CDC45', 'CCND3', 'TGFB1', 'ANAPC13', 'CDC23', 'YWHAZ'], 'KEGG_CHEMOKINE_SIGNALING_PATHWAY': ['WAS', 'MAPK1', 'PIK3CD', 'CDC42', 'MAP2K1', 'CCR10', 'GSK3A', 'RAC1', 'XCL1', 'KRAS', 'IKBKB', 'VAV3', 'CCR3', 'GNGT2', 'SHC1', 'STAT5B', 'RHOA', 'ADCY6', 'SOS2', 'PIK3CA', 'GNG2', 'CXCL5', 'CCR7', 'ADCY4', 'CHUK', 'CXCR4'], 'KEGG_CHRONIC_MYELOID_LEUKEMIA': ['STAT5A', 'TGFB3', 'AKT1', 'AKT3', 'MAP2K2', 'CBLB', 'HDAC1', 'BAD', 'TGFBR1', 'PIK3R1', 'PIK3CG', 'CRK', 'E2F2'], 'KEGG_COLORECTAL_CANCER': ['CCND1', 'LEF1', 'PIK3R1', 'PIK3CA', 'TCF7L1', 'TGFB3', 'SMAD2', 'PIK3CB', 'PIK3R5', 'MSH3', 'TGFB1'], 'KEGG_COMPLEMENT_AND_COAGULATION_CASCADES': ['THBD', 'F2R', 'CD59', 'C1QA', 'C3', 'CFD', 'CFH'], 'KEGG_CYSTEINE_AND_METHIONINE_METABOLISM': ['AHCYL1', 'AHCYL2', 'AHCY', 'MPST'], 'KEGG_CYTOKINE_CYTOKINE_RECEPTOR_INTERACTION': ['CSF3R', 'PDGFRB', 'LEPR', 'IL21R', 'TNFSF10', 'LTBR', 'TNFSF4', 'IL2RA', 'TGFBR2', 'TNFRSF9', 'TNFSF13B', 'CXCL10', 'IL7', 'IL18', 'EDA', 'PDGFA', 'ACVR2A', 'IL18R1', 'VEGFB', 'CD27', 'IFNAR2', 'IL7R', 'CXCL6', 'XCL1', 'CXCR3', 'IL2RG', 'IFNGR2'], 'KEGG_CYTOSOLIC_DNA_SENSING_PATHWAY': ['POLR3H', 'IL1B', 'IKBKB', 'IKBKE', 'POLR3A', 'CXCL10', 'RELA'], 'KEGG_DILATED_CARDIOMYOPATHY': ['ITGA5', 'TPM4', 'ITGB5', 'GNAS', 'MYBPC3', 'ITGA10', 'PRKACA', 'ACTG1', 'CACNG8', 'ITGB4'], 'KEGG_DNA_REPLICATION': ['POLD2', 'RNASEH1', 'RPA2', 'RNASEH2C', 'POLA2', 'RFC5', 'DNA2'], 'KEGG_ECM_RECEPTOR_INTERACTION': ['HMMR', 'THBS3', 'GP9', 'AGRN', 'COL5A2', 'HSPG2', 'COL4A4', 'DAG1', 'LAMC1', 'LAMB3'], 'KEGG_ENDOCYTOSIS': ['PIP5K1A', 'RET', 'CLTC', 'PRKCI', 'ARFGAP2', 'HSPA6', 'VPS45', 'SH3GLB1', 'PSD', 'LDLR', 'HGS', 'CXCR2', 'AP2A2', 'ARRB2', 'ARRB1', 'AP2M1', 'CHMP2A', 'EPN1', 'PARD6A', 'HLA-B', 'PSD3', 'HLA-E', 'RAB11A', 'SMAP2', 'DNAJC6', 'TSG101', 'SMAP1', 'ADRBK1', 'CLTA', 'IGF1R', 'SMURF2'], 'KEGG_ENDOMETRIAL_CANCER': ['TCF7L2', 'SOS2', 'PIK3R3', 'AKT3', 'ERBB2', 'CDH1', 'FOXO3', 'MAP2K1', 'CTNNA1'], 'KEGG_EPITHELIAL_CELL_SIGNALING_IN_HELICOBACTER_PYLORI_INFECTION': ['JUN', 'ATP6V1G2', 'PTPN11', 'HBEGF', 'NFKB1', 'SRC', 'MAPK11', 'ATP6V1E2', 'ATP6V0D1', 'RELA', 'ATP6V0B'], 'KEGG_ERBB_SIGNALING_PATHWAY': ['CAMK2D', 'MTOR', 'CDKN1A', 'STAT5A', 'PIK3CB', 'PAK6', 'PAK2', 'HRAS', 'AKT1', 'NRG1', 'CBLB', 'SOS1', 'RAF1'], 'KEGG_FATTY_ACID_METABOLISM': ['ADH5', 'HADHA', 'ACSL3', 'ALDH3A2', 'ECHS1'], 'KEGG_FC_EPSILON_RI_SIGNALING_PATHWAY': ['MAP2K1', 'LCP2', 'MAP2K2', 'MAP2K6', 'PIK3R1', 'PRKCA', 'PIK3CB', 'RAF1', 'MAPK13', 'MAPK11', 'MAPK12'], 'KEGG_FC_GAMMA_R_MEDIATED_PHAGOCYTOSIS': ['LIMK1', 'RPS6KB2', 'CRKL', 'PRKCB', 'FCGR3A', 'PLA2G4B', 'PLCG1', 'SPHK2', 'PIK3R1', 'FCGR2A', 'CFL1', 'NCF1', 'WASF1', 'WAS', 'PIK3CB', 'PIK3CG', 'GAB2'], 'KEGG_FOCAL_ADHESION': ['TNXB', 'ITGA5', 'PIK3CB', 'PDGFRB', 'COL5A3', 'CCND1', 'RAC2', 'ROCK2', 'ROCK1', 'SOS1', 'PIK3R3', 'COL11A2', 'MAPK9', 'DIAPH1', 'PTK2', 'FLNA', 'COL6A3', 'PIK3R1', 'IGF1R', 'CHAD', 'LAMB2', 'PRKCA', 'SPP1', 'PIK3CA', 'BCL2', 'THBS4', 'THBS3'], 'KEGG_FRUCTOSE_AND_MANNOSE_METABOLISM': ['HK2', 'MTMR6', 'ALDOC', 'HK1', 'MPI'], 'KEGG_GAP_JUNCTION': ['TUBA1B', 'PDGFRB', 'PDGFB', 'MAP3K2', 'PRKCB', 'MAP2K2', 'ADCY9', 'GNAQ', 'ADCY4', 'GUCY1A3', 'SOS1'], 'KEGG_GLIOMA': ['KRAS', 'PLCG1', 'PIK3CB', 'AKT2', 'SHC1', 'PRKCA', 'PRKCB', 'MTOR', 'MAP2K1', 'ARAF'], 'KEGG_GLUTATHIONE_METABOLISM': ['GSR', 'GPX1', 'GCLM', 'MGST2', 'GPX3', 'GSTO1', 'GPX4'], 'KEGG_GLYCEROLIPID_METABOLISM': ['GLYCTK', 'GPAT2', 'AGPAT6', 'ALDH9A1', 'AGPAT2', 'MGLL'], 'KEGG_GLYCEROPHOSPHOLIPID_METABOLISM': ['GPAM', 'LPGAT1', 'PLA2G12A', 'DGKG', 'DGKE', 'PCYT2', 'PEMT', 'GPD2', 'DGKD', 'CDIPT', 'DGKZ'], 'KEGG_GLYCOLYSIS_GLUCONEOGENESIS': ['ACSS1', 'LDHB', 'PFKM', 'ENO3', 'ENO1', 'ALDH9A1', 'PGM1'], 'KEGG_GNRH_SIGNALING_PATHWAY': ['ADCY9', 'MAPK8', 'CDC42', 'CALM1', 'PRKACA', 'PRKCD', 'MAPK9', 'GNA11', 'SOS2', 'CAMK2G', 'MAP2K1', 'MAP2K2', 'HRAS'], 'KEGG_GRAFT_VERSUS_HOST_DISEASE': ['CD86', 'HLA-DRB5', 'IL1B', 'HLA-DQA2', 'HLA-DPB1', 'GZMB'], 'KEGG_HEDGEHOG_SIGNALING_PATHWAY': ['STK36', 'PTCH1', 'WNT7A', 'BMP6', 'BMP8A'], 'KEGG_HEMATOPOIETIC_CELL_LINEAGE': ['IL7', 'CD3D', 'CD9', 'CD55', 'GP9', 'CD8A', 'CD1C', 'CD1E', 'ANPEP', 'MS4A1', 'EPOR', 'CSF1R', 'GP5'], 'KEGG_HUNTINGTONS_DISEASE': ['COX7C', 'NDUFB9', 'NDUFS3', 'NDUFS2', 'SP1', 'TBPL1', 'NDUFC2', 'POLR2G', 'ATP5A1', 'REST', 'COX5B', 'GPX1', 'SLC25A4', 'NRF1', 'SLC25A5', 'NDUFS1', 'DCTN4', 'NDUFB4', 'TP53', 'HDAC1', 'SDHA', 'TGM2', 'NDUFS6', 'DCTN2', 'PLCB1', 'POLR2K', 'ATP5G1', 'EP300'], 'KEGG_HYPERTROPHIC_CARDIOMYOPATHY_HCM': ['CACNG6', 'TGFB1', 'CACNA2D3', 'PRKAA1', 'CACNA2D2', 'LAMA2', 'ITGA1', 'TPM3', 'TPM2'], 'KEGG_INOSITOL_PHOSPHATE_METABOLISM': ['MINPP1', 'PLCB1', 'INPP5B', 'PLCG1', 'IMPA1', 'PIP5K1A', 'INPP1', 'INPP5E', 'OCRL'], 'KEGG_INSULIN_SIGNALING_PATHWAY': ['AKT1', 'RPS6KB1', 'MTOR', 'SOS1', 'EIF4E', 'PRKACB', 'CBL', 'PYGM', 'GSK3B', 'PRKAR2A', 'PRKAR1B', 'HK3', 'IRS1', 'PHKA2', 'MAPK8', 'SOCS4', 'PRKAA1', 'BRAF', 'CBLB', 'MAPK1', 'FOXO1'], 'KEGG_INTESTINAL_IMMUNE_NETWORK_FOR_IGA_PRODUCTION': ['TNFRSF13C', 'HLA-DMB', 'CD86', 'TNFSF13', 'MADCAM1', 'IL15RA', 'TNFRSF17'], 'KEGG_JAK_STAT_SIGNALING_PATHWAY': ['STAM', 'CLC', 'CREBBP', 'SOCS5', 'IFNAR2', 'SOS2', 'IL15', 'SPRED2', 'STAT5B', 'JAK2', 'SOCS3', 'PIK3CG', 'EPOR', 'CBL', 'IL2RG', 'IL23A', 'IL4R'], 'KEGG_LEISHMANIA_INFECTION': ['TAB1', 'FCGR1A', 'ITGB1', 'TNF', 'JAK1', 'IRAK1', 'MAPK13', 'FOS', 'JAK2', 'IRAK4', 'TGFB1', 'STAT1'], 'KEGG_LEUKOCYTE_TRANSENDOTHELIAL_MIGRATION': ['MYL5', 'CLDN7', 'CXCR4', 'NCF1', 'MAPK12', 'CYBB', 'ITGAM', 'PTPN11', 'RAC1', 'PTK2', 'PRKCB', 'ITGB2', 'MLLT4', 'CLDN9', 'VAV3'], 'KEGG_LONG_TERM_DEPRESSION': ['PLCB1', 'KRAS', 'MAP2K1', 'MAPK3', 'HRAS', 'ARAF', 'GUCY1A3', 'GNAQ'], 'KEGG_LONG_TERM_POTENTIATION': ['ATF4', 'MAPK3', 'ITPR2', 'RPS6KA3', 'RAP1A', 'PPP3CC', 'CAMK2G', 'RPS6KA1', 'HRAS'], 'KEGG_LYSINE_DEGRADATION': ['PLOD1', 'ALDH1B1', 'OGDH', 'ACAT1', 'SUV39H1', 'DOT1L', 'SETD1A'], 'KEGG_LYSOSOME': ['GUSB', 'CTSE', 'AP1S3', 'M6PR', 'LIPA', 'ATP6V0A2', 'GBA', 'ENTPD4', 'ARSG', 'MAN2B1', 'IDS', 'ARSA', 'AP3M2', 'NAGLU', 'GNPTG', 'CTSF', 'NPC1', 'GNS', 'GGA2', 'MCOLN1', 'ASAH1', 'LAMP3'], 'KEGG_MAPK_SIGNALING_PATHWAY': ['PDGFB', 'RASGRP1', 'RASGRP3', 'MAP4K4', 'PPP3CC', 'RASGRP2', 'ATF2', 'NFATC2', 'NRAS', 'TP53', 'MAPK9', 'MAP2K6', 'HSPA1A', 'TAB1', 'PPP3CB', 'PRKCA', 'IKBKB', 'AKT3', 'STK4', 'GADD45G', 'RELB', 'MAPK13', 'ELK4', 'FAS', 'GNA12', 'CRKL', 'CACNB3', 'MAX', 'MAP3K2', 'PAK1', 'MAP2K5', 'RPS6KA3', 'DUSP1', 'MRAS', 'JUN', 'MAP3K12', 'MAPK3', 'DUSP5'], 'KEGG_MELANOGENESIS': ['WNT10A', 'MAPK3', 'PRKACA', 'CALM3', 'DVL1', 'FZD2', 'PRKACB', 'PRKCB', 'WNT5B', 'PLCB1', 'GNAQ', 'TCF7L1'], 'KEGG_MELANOMA': ['MITF', 'AKT2', 'PIK3R3', 'PIK3CG', 'CDK4', 'E2F1', 'MAPK1', 'FGF9'], 'KEGG_METABOLISM_OF_XENOBIOTICS_BY_CYTOCHROME_P450': ['ADH5', 'GSTM2', 'GSTO1', 'GSTM3'], 'KEGG_MTOR_SIGNALING_PATHWAY': ['ULK2', 'PDPK1', 'MLST8', 'MTOR', 'CAB39L', 'PIK3CA', 'TSC2', 'RPS6KA1'], 'KEGG_NATURAL_KILLER_CELL_MEDIATED_CYTOTOXICITY': ['HCST', 'FCGR3B', 'SOS2', 'ICAM1', 'SHC1', 'PTPN6', 'ZAP70', 'RAC3', 'LCP2', 'NCR3', 'TNFRSF10A', 'NCR1', 'BID', 'SYK', 'RAC2', 'TYROBP', 'KLRK1', 'FASLG', 'PLCG1'], 'KEGG_NEUROACTIVE_LIGAND_RECEPTOR_INTERACTION': ['S1PR3', 'CYSLTR2', 'CHRNB1', 'LTB4R2', 'F2RL3', 'PTAFR', 'GABBR1', 'PTGER4', 'CHRNE', 'PRLR', 'F2R', 'C5AR1', 'CYSLTR1', 'CHRNA2'], 'KEGG_NEUROTROPHIN_SIGNALING_PATHWAY': ['IKBKB', 'NFKBIA', 'GSK3B', 'BCL2', 'RELA', 'FASLG', 'MAPKAPK2', 'RAPGEF1', 'YWHAQ', 'ZNF274', 'SH2B2', 'ATF4', 'RPS6KA4', 'RPS6KA3', 'IRAK4', 'RAP1B', 'CRK', 'SH2B3', 'AKT3', 'PLCG1', 'PLCG2'], 'KEGG_NOD_LIKE_RECEPTOR_SIGNALING_PATHWAY': ['MAPK13', 'TAB1', 'CARD8', 'HSP90AB1', 'TAB3', 'MAPK8', 'MAPK3', 'IKBKB', 'HSP90AA1', 'TRIP6'], 'KEGG_NON_SMALL_CELL_LUNG_CANCER': ['PIK3CD', 'CCND1', 'TP53', 'RXRA', 'RAF1', 'PDPK1', 'RB1', 'AKT3', 'PRKCB'], 'KEGG_NOTCH_SIGNALING_PATHWAY': ['EP300', 'HDAC1', 'SNW1', 'HDAC2', 'JAG2', 'CTBP1', 'PSEN1', 'KAT2B'], 'KEGG_NUCLEOTIDE_EXCISION_REPAIR': ['ERCC4', 'RAD23A', 'XPC', 'CCNH', 'ERCC1', 'PCNA', 'CUL4B', 'RFC4'], 'KEGG_N_GLYCAN_BIOSYNTHESIS': ['B4GALT2', 'MGAT4B', 'ALG14', 'ALG2', 'ALG1', 'MGAT1', 'B4GALT3', 'ALG12'], 'KEGG_OOCYTE_MEIOSIS': ['MAD2L1', 'YWHAZ', 'ITPR1', 'CDC26', 'PPP2R5B', 'ANAPC10', 'CCNE2', 'CDK1', 'CALM1', 'PKMYT1', 'ANAPC5', 'YWHAG', 'MAPK12', 'ADCY7', 'ADCY4', 'REC8', 'ADCY6'], 'KEGG_OXIDATIVE_PHOSPHORYLATION': ['ATP6V1C2', 'PPA1', 'NDUFB8', 'NDUFA6', 'UQCRQ', 'UQCRC1', 'COX7B', 'COX10', 'COX7A2', 'NDUFA3', 'NDUFB10', 'NDUFV1', 'NDUFB5', 'NDUFA5', 'ATP5B', 'UQCR11', 'NDUFB2', 'NDUFS7', 'ATP6V1A', 'COX4I1'], 'KEGG_P53_SIGNALING_PATHWAY': ['CCND3', 'CHEK2', 'TNFRSF10B', 'PPM1D', 'BID', 'PERP', 'SIAH1', 'CCNB2', 'CASP8', 'GADD45A', 'TSC2', 'EI24'], 'KEGG_PANCREATIC_CANCER': ['CDK4', 'PIK3R3', 'VEGFB', 'TGFB3', 'CDC42', 'RALBP1', 'PIK3R1', 'CCND1', 'RAC2', 'MAPK1', 'JAK1', 'RAD51'], 'KEGG_PARKINSONS_DISEASE': ['SDHB', 'APAF1', 'NDUFB1', 'NDUFA4', 'UQCRB', 'SNCA', 'UBE2G1', 'NDUFB8', 'NDUFV3', 'COX6B1', 'ATP5G2', 'ATP5O', 'UBE2J2', 'UQCR11', 'NDUFB6', 'NDUFC1', 'NDUFAB1', 'UBA1'], 'KEGG_PATHOGENIC_ESCHERICHIA_COLI_INFECTION': ['NCL', 'TUBB1', 'YWHAZ', 'EZR', 'TUBB2A', 'TUBA1A', 'TUBB', 'CDC42'], 'KEGG_PATHWAYS_IN_CANCER': ['ZBTB16', 'PLD1', 'CCNE1', 'AXIN1', 'TP53', 'STAT5B', 'MYC', 'APPL1', 'CTBP2', 'RHOA', 'MAP2K2', 'TRAF5', 'LAMB3', 'GRB2', 'FADD', 'RALGDS', 'FZD2', 'RXRB', 'EPAS1', 'IGF1R', 'CASP8', 'TGFBR2', 'CDC42', 'STAT5A', 'WNT10A', 'AKT1', 'CDKN1B', 'PTCH2', 'DAPK2', 'LEF1', 'JUP', 'FASLG', 'IL8', 'PTGS2', 'PIK3R1', 'VHL', 'PPARD', 'RAC2', 'TPM3', 'NFKB2', 'LAMC3', 'PIK3R3', 'RALA', 'CHUK', 'MAPK3', 'STAT1'], 'KEGG_PEROXISOME': ['PECR', 'ACOX3', 'ABCD3', 'SCP2', 'SOD1', 'ACSL3', 'AGPS', 'PEX19', 'GSTK1', 'PEX11B', 'GNPAT', 'PEX6', 'DHRS4'], 'KEGG_PHOSPHATIDYLINOSITOL_SIGNALING_SYSTEM': ['PIK3C3', 'PIK3CA', 'PLCB2', 'CALM3', 'SYNJ2', 'PIK3C2A', 'IPPK', 'PIP4K2A', 'SYNJ1', 'DGKD', 'INPP5E', 'PIK3R5'], 'KEGG_PPAR_SIGNALING_PATHWAY': ['FADS2', 'DBI', 'SLC27A5', 'PPARA', 'ACSL1', 'ACAA1', 'EHHADH'], 'KEGG_PRIMARY_IMMUNODEFICIENCY': ['RFX5', 'IL7R', 'CD8A', 'IL2RG', 'ADA', 'TNFRSF13B'], 'KEGG_PROGESTERONE_MEDIATED_OOCYTE_MATURATION': ['CCNA2', 'CDC26', 'ANAPC1', 'MAPK8', 'PLK1', 'PIK3CG', 'RAF1', 'MAP2K1', 'ADCY9', 'ANAPC7', 'AKT2', 'PIK3R1', 'ADCY7'], 'KEGG_PROPANOATE_METABOLISM': ['SUCLG2', 'ALDH2', 'PCCA', 'MUT', 'LDHB'], 'KEGG_PROSTATE_CANCER': ['CHUK', 'FOXO1', 'CASP9', 'NKX3-1', 'MAPK1', 'ATF4', 'PIK3CD', 'HRAS', 'ERBB2', 'CREB3', 'HSP90B1', 'IKBKB', 'E2F1', 'HSP90AB1', 'CREB3L2'], 'KEGG_PROTEASOME': ['PSMD8', 'PSME4', 'PSMD4', 'PSMA6', 'IFNG', 'PSMB1', 'PSMD13', 'PSMC5'], 'KEGG_PURINE_METABOLISM': ['POLR2K', 'POLR1A', 'PDE7A', 'PAICS', 'PDE8A', 'PDE4A', 'PRIM1', 'POLR1E', 'GUCY2C', 'ADCY7', 'PDE3B', 'FHIT', 'POLR3C', 'NME6', 'POLR2E', 'ATIC', 'PRPS2', 'PDE6B', 'PDE8B', 'GMPR', 'POLE4', 'AMPD3', 'GUK1', 'PNPT1'], 'KEGG_PYRIMIDINE_METABOLISM': ['TK1', 'TXNRD1', 'RRM1', 'UCK1', 'ZNRD1', 'DTYMK', 'UPP1', 'POLR3C', 'UPB1', 'POLR3K', 'POLR2D', 'ENTPD4', 'POLR1B', 'NT5M', 'UMPS', 'POLR1D', 'RRM2'], 'KEGG_PYRUVATE_METABOLISM': ['DLAT', 'GLO1', 'ME2', 'HAGHL', 'ACAT2', 'GRHPR'], 'KEGG_REGULATION_OF_ACTIN_CYTOSKELETON': ['CDC42', 'ITGAD', 'CFL1', 'ITGB1', 'WASF2', 'ITGA7', 'PFN1', 'GNA13', 'PDGFB', 'CFL2', 'CYFIP2', 'ITGB4', 'ARPC5L', 'ITGB2', 'MAP2K1', 'ITGB7', 'PPP1CC', 'DOCK1', 'ITGA6', 'ARPC4', 'PIK3CG', 'RAC3', 'ITGAL', 'ITGA9', 'RRAS', 'PIK3R5', 'VAV3', 'APC2', 'WASL'], 'KEGG_RENAL_CELL_CARCINOMA': ['CUL2', 'MAP2K2', 'HRAS', 'VEGFA', 'CREBBP', 'GRB2', 'ARNT', 'PAK6', 'KRAS', 'PIK3CB', 'TGFA', 'BRAF'], 'KEGG_RIBOSOME': ['RPS4X', 'RPS27L', 'RPS19', 'RPL18', 'RPS13', 'RPL19', 'RPL32', 'RPL3', 'RPS20', 'RPL36AL', 'RPL36', 'RPL31', 'RPSA', 'RPL13', 'RPLP0', 'RPL34'], 'KEGG_RIG_I_LIKE_RECEPTOR_SIGNALING_PATHWAY': ['CYLD', 'MAVS', 'TRIM25', 'CHUK', 'NLRX1', 'TNF', 'NFKBIB', 'IFIH1', 'MAPK12', 'IKBKB'], 'KEGG_RNA_DEGRADATION': ['EDC4', 'CNOT2', 'CNOT10', 'DCPS', 'EXOSC10', 'ENO2', 'CNOT8', 'WDR61', 'ENO3', 'CNOT1', 'XRN1'], 'KEGG_SMALL_CELL_LUNG_CANCER': ['TRAF3', 'PIK3R5', 'TRAF1', 'PIK3CB', 'BIRC2', 'TRAF4', 'CDKN2B', 'TRAF2', 'APAF1', 'PTK2', 'CDK6', 'PIAS4', 'RB1'], 'KEGG_SNARE_INTERACTIONS_IN_VESICULAR_TRANSPORT': ['STX6', 'STX12', 'STX17', 'USE1', 'YKT6', 'STX1A'], 'KEGG_SPHINGOLIPID_METABOLISM': ['SPHK1', 'DEGS1', 'GALC', 'KDSR', 'CERK', 'NEU3'], 'KEGG_SPLICEOSOME': ['CWC15', 'NCBP1', 'HNRNPA1', 'SNRPC', 'DHX15', 'DHX16', 'ACIN1', 'LSM6', 'PPIE', 'HNRNPA3', 'PLRG1', 'SNRPA', 'TCERG1', 'SNRNP200', 'SRSF1', 'SYF2', 'PUF60', 'PHF5A', 'TXNL4A', 'TRA2B', 'MAGOHB', 'CCDC12', 'SMNDC1', 'RBMX'], 'KEGG_SYSTEMIC_LUPUS_ERYTHEMATOSUS': ['HLA-DQA1', 'H3F3B', 'HIST1H2BJ', 'HIST1H2BC', 'HLA-DRB5', 'SNRPD3', 'ELANE', 'FCGR2A', 'H3F3A', 'CD40', 'HLA-DMA'], 'KEGG_TGF_BETA_SIGNALING_PATHWAY': ['TNF', 'BMP8A', 'E2F4', 'SMAD9', 'BMP6', 'ROCK1', 'PPP2R1A', 'NOG', 'CREBBP', 'ACVR2A', 'SMAD2'], 'KEGG_TIGHT_JUNCTION': ['LLGL1', 'PARD6B', 'PRKCI', 'AKT2', 'EPB41L2', 'MYL9', 'SYMPK', 'CSNK2A1', 'PTEN', 'PRKCQ', 'MYH7B', 'INADL', 'SPTAN1', 'PPP2R2A', 'PPP2R1A', 'ACTB', 'YES1'], 'KEGG_TOLL_LIKE_RECEPTOR_SIGNALING_PATHWAY': ['AKT3', 'PIK3R5', 'TOLLIP', 'CD40', 'TRAF3', 'AKT2', 'PIK3CG', 'MAPK9', 'TLR2', 'TICAM1', 'AKT1', 'NFKB1', 'PIK3CD', 'STAT1', 'CD14'], 'KEGG_TYPE_II_DIABETES_MELLITUS': ['PRKCZ', 'MAPK3', 'PIK3CD', 'PIK3R1', 'SOCS4'], 'KEGG_TYPE_I_DIABETES_MELLITUS': ['HLA-DOB', 'FASLG', 'ICA1', 'FAS', 'HSPD1', 'GZMB'], 'KEGG_T_CELL_RECEPTOR_SIGNALING_PATHWAY': ['SOS1', 'MAPK3', 'PIK3CG', 'AKT3', 'CD3E', 'PDK1', 'MAP2K7', 'TNF', 'PLCG1', 'PAK4', 'SOS2', 'CD40LG', 'GRAP2', 'AKT2', 'CDK4', 'NCK2', 'MAPK14', 'NFKBIA', 'PPP3CA'], 'KEGG_UBIQUITIN_MEDIATED_PROTEOLYSIS': ['STUB1', 'SOCS1', 'UBE3C', 'CUL4B', 'UBE2K', 'RCHY1', 'KEAP1', 'SAE1', 'SMURF2', 'FBXO4', 'DDB1', 'UBE2D2', 'UBE2N', 'UBE3A', 'UBE2J2', 'UBE4A', 'UBE2F', 'RFWD2', 'CDC23', 'TCEB1', 'CDC26', 'TRAF6', 'XIAP', 'FZR1', 'CDC27'], 'KEGG_VALINE_LEUCINE_AND_ISOLEUCINE_DEGRADATION': ['DLD', 'ACADM', 'HIBCH', 'BCAT1', 'EHHADH', 'ACAT1', 'HADH', 'ALDH3A2'], 'KEGG_VASCULAR_SMOOTH_MUSCLE_CONTRACTION': ['PLA2G4B', 'GNAQ', 'CALM2', 'BRAF', 'ITPR1', 'PPP1R12B', 'KCNMB1', 'PRKCE', 'PRKCH', 'PRKCD', 'ARHGEF1', 'ARHGEF11', 'ARHGEF12'], 'KEGG_VASOPRESSIN_REGULATED_WATER_REABSORPTION': ['ARHGDIA', 'DYNC2H1', 'DCTN6', 'CREB5', 'DCTN4', 'CREB1', 'DYNC1H1'], 'KEGG_VEGF_SIGNALING_PATHWAY': ['MAPK3', 'PLA2G6', 'PRKCA', 'AKT2', 'NFAT5', 'HSPB1', 'PPP3CA', 'MAPK13', 'MAPK12', 'PLCG1', 'NFATC3'], 'KEGG_VIBRIO_CHOLERAE_INFECTION': ['PDIA4', 'PRKX', 'TJP2', 'ATP6V1F', 'PLCG2', 'PRKACA', 'GNAS', 'ATP6V1G1'], 'KEGG_VIRAL_MYOCARDITIS': ['CD40', 'PRF1', 'EIF4G2', 'HLA-DRB5', 'FYN', 'HLA-E', 'HLA-C', 'CD86', 'ICAM1', 'HLA-DPA1'], 'KEGG_WNT_SIGNALING_PATHWAY': ['PPP3R1', 'TP53', 'SENP2', 'PPP3CB', 'PPP2R5A', 'RBX1', 'BTRC', 'CCND2', 'NFAT5', 'VANGL1', 'NFATC2', 'CSNK2A1', 'NKD1', 'RAC1', 'ROCK1', 'PPP2R5B', 'PPP2R5E', 'CTNNBIP1', 'SKP1', 'EP300', 'FRAT1'], 'MIPS_17S_U2_SNRNP': ['SF3B1', 'SF3B5', 'PUF60', 'SF3A3', 'DNAJC8', 'SMNDC1'], 'MIPS_28S_RIBOSOMAL_SUBUNIT_MITOCHONDRIAL': ['MRPS30', 'MRPS27', 'MRPS26', 'MRPS22', 'MRPS31'], 'MIPS_39S_RIBOSOMAL_SUBUNIT_MITOCHONDRIAL': ['MRPL20', 'MRPL3', 'MRPL54', 'MRPL13', 'MRPL18', 'MRPL38', 'MRPL23', 'MRPL34'], 'MIPS_40S_RIBOSOMAL_SUBUNIT_CYTOPLASMIC': ['RPS15', 'RPS8', 'RPS29', 'FAU', 'RPS3A', 'RPS2'], 'MIPS_55S_RIBOSOME_MITOCHONDRIAL': ['MRPS25', 'MRPS30', 'MRPL42', 'DAP3', 'MRPL39', 'MRPS34', 'MRPL2', 'MRPL49', 'MRPL35', 'MRPL22', 'MRPL44', 'MRPL18', 'MRPL15', 'MRPL20'], 'MIPS_60S_RIBOSOMAL_SUBUNIT_CYTOPLASMIC': ['RPL29', 'RPL14', 'RPL23A', 'RPL5', 'RPL32', 'RPL7', 'RPL7A', 'RPL24', 'RPL30'], 'MIPS_CEN_COMPLEX': ['RNF2', 'SUPT16H', 'HSPA8', 'BMI1', 'SMARCA5', 'CENPO'], 'MIPS_C_COMPLEX_SPLICEOSOME': ['SNRPD2', 'PPIL1', 'DHX38', 'DDX41', 'HNRNPA3', 'SART1', 'HNRNPC', 'SNW1', 'PPIL3', 'SNRPF', 'WDR83', 'U2AF1', 'DHX8', 'SRSF1', 'SYF2'], 'MIPS_MEDIATOR_COMPLEX': ['MED4', 'MED25', 'MED31', 'CDK19', 'MED18', 'MED9'], 'MIPS_NOP56P_ASSOCIATED_PRE_RRNA_COMPLEX': ['MYBBP1A', 'RPL36A', 'RPS8', 'RPL29', 'RPS11', 'LYAR', 'SRPK1', 'RPLP0', 'RSL1D1', 'RPL27', 'RPL4', 'RPL19', 'RPL23A', 'RPS24', 'GNL3', 'RBM28', 'RPL35', 'RPLP2', 'RPL23'], 'MIPS_PA700_20S_PA28_COMPLEX': ['PSMB1', 'PSME1', 'PSMD12', 'PSME2', 'PSMD5', 'PSMB6', 'PSMD14'], 'MIPS_RIBOSOME_CYTOPLASMIC': ['RPL27', 'RPL27A', 'RPL13', 'RPL37', 'RPL12', 'RPL7A', 'RPL32', 'RPS25', 'RPS4X', 'RPL19', 'RPS27A', 'RPL21', 'RPL35', 'RPS27', 'RPS21'], 'MIPS_SPLICEOSOME': ['AQR', 'MAGOH', 'NUDT21', 'U2AF2', 'WTAP', 'MOV10', 'CIRBP', 'THOC7', 'C19orf43', 'DHX16', 'C16orf80', 'DHX8', 'BUD31', 'SF3B3', 'SMNDC1', 'SRRM2', 'PABPC1', 'DGCR14', 'DDX17', 'LSM2', 'CDC5L', 'RBM17', 'SRSF4', 'THOC6', 'TFIP11', 'XAB2', 'RBM22'], 'PID_A6B1_A6B4_INTEGRIN_PATHWAY': ['PIK3R1', 'LAMA5', 'LAMB3', 'SHC1', 'MST1', 'YWHAG'], 'PID_AJDISS_2PATHWAY': ['RAB7A', 'ARF6', 'CTNNA1', 'CASP3', 'TIAM1', 'GNA12'], 'PID_AMB2_NEUTROPHILS_PATHWAY': ['SELP', 'TLN1', 'NFKB1', 'HMGB1', 'PRKCZ', 'ROCK1'], 'PID_ANGIOPOIETINRECEPTOR_PATHWAY': ['STAT5A', 'GRB14', 'ELK1', 'PTPN11', 'ELF1', 'ANGPT1', 'TNIP2', 'AKT1'], 'PID_AP1_PATHWAY': ['HIF1A', 'EGR1', 'CRTC1', 'ATF3', 'FOSL2', 'DMTF1', 'FOSB', 'MYB', 'CDKN1B'], 'PID_ARF6_TRAFFICKINGPATHWAY': ['ITGA10', 'ITGA5', 'ITGA7', 'CLTC', 'EXOC7', 'CDH1', 'NME1'], 'PID_AR_NONGENOMIC_PATHWAY': ['PLCB2', 'FOS', 'AKT1', 'GNB1', 'MAPK3'], 'PID_AR_PATHWAY': ['FHL2', 'HIP1', 'CCND3', 'KDM3A', 'PATZ1', 'ZNF318', 'TGFB1I1', 'MED1', 'ZMIZ1', 'UBE2I'], 'PID_AR_TF_PATHWAY': ['MAP2K6', 'NR3C1', 'TRIM24', 'ZMIZ2', 'SMARCE1', 'MAPK8', 'HDAC7', 'RXRA'], 'PID_ATF2_PATHWAY': ['BCL2', 'HBG2', 'DDIT3', 'BCL2L1', 'FOS', 'PRKCA', 'MAPK8', 'RB1', 'MAPK3'], 'PID_ATM_PATHWAY': ['YWHAB', 'DCLRE1C', 'TERF2', 'XRCC4', 'RNF8', 'BLM'], 'PID_ATR_PATHWAY': ['RAD51', 'FBXW11', 'ATR', 'RFC5', 'CHEK1', 'PLK1', 'HUS1'], 'PID_AURORA_A_PATHWAY': ['GIT1', 'BRCA1', 'AURKAIP1', 'TACC1', 'TDRD7'], 'PID_AURORA_B_PATHWAY': ['SMC4', 'KLHL9', 'VIM', 'AURKA', 'TACC1', 'EVI5'], 'PID_AVB3_INTEGRIN_PATHWAY': ['VAV3', 'RPS6KB1', 'COL7A1', 'COL9A2', 'MAPK1', 'PTPN11', 'MAPK3', 'PIK3CA', 'COL8A2'], 'PID_AVB3_OPN_PATHWAY': ['SPP1', 'CD44', 'NFKB1', 'RELA', 'PIK3CA'], 'PID_BCR_5PATHWAY': ['MAP3K1', 'PIK3R1', 'BLNK', 'BTK', 'PDPK1', 'AKT1', 'CARD11', 'NFKBIA', 'RAC1', 'MAP2K1', 'RASA1', 'CHUK', 'PAG1'], 'PID_BETACATENIN_NUC_PATHWAY': ['CTNNBIP1', 'YWHAG', 'VCAN', 'KRT1', 'YWHAZ', 'AXIN2', 'CHD8', 'MITF', 'TCF4', 'CAMK4', 'CBY1'], 'PID_BMPPATHWAY': ['NUP214', 'SKI', 'BMP6', 'TAB1', 'PPP1R15A'], 'PID_CASPASE_PATHWAY': ['PARP1', 'CASP6', 'CASP9', 'TNFRSF1A', 'CASP10', 'GZMB', 'CRADD', 'LMNA', 'PRF1'], 'PID_CD8TCRDOWNSTREAMPATHWAY': ['MAP2K2', 'PRF1', 'TNFRSF18', 'PRKCE', 'B2M', 'RAF1', 'HLA-A', 'PPP3R1', 'JUN', 'MAPK3'], 'PID_CD8TCRPATHWAY': ['B2M', 'MALT1', 'PRF1', 'RASSF5', 'CBL', 'HRAS', 'CD86', 'MAP3K8', 'PRKCE', 'LAT'], 'PID_CDC42_PATHWAY': ['BRAF', 'MAP3K1', 'ACTR2', 'ARPC4', 'PIK3CA', 'PAK2', 'MAP2K7', 'ARHGEF7', 'ARPC5', 'MAPK8', 'LIMK1', 'MAP2K6'], 'PID_CERAMIDE_PATHWAY': ['BAX', 'RIPK1', 'EGF', 'TRAF2', 'BCL2', 'PAWR', 'NFKB1', 'MAPK1', 'MAP2K4'], 'PID_CMYB_PATHWAY': ['PPP3CA', 'HES1', 'KIT', 'ZFHX3', 'YEATS4', 'ETS1', 'SIN3A', 'ELANE', 'ADORA2B', 'TAB1', 'MYB', 'ATP2B1', 'IQGAP1', 'ADA'], 'PID_CXCR3PATHWAY': ['MAP2K6', 'PDPK1', 'GNG2', 'AKT1', 'CXCR3', 'NRAS', 'RICTOR'], 'PID_CXCR4_PATHWAY': ['GNAI2', 'FYN', 'RHOB', 'PIK3R3', 'PLCB2', 'RALB', 'GNB2L1', 'HLA-DRA', 'PTK2B', 'PTEN', 'PTPRC', 'AKT1', 'MTOR', 'GNB1', 'PIK3CA', 'CD247', 'PTK2', 'PAK1'], 'PID_DELTANP63PATHWAY': ['TCF7L1', 'PERP', 'MRE11A', 'HBP1', 'TOP2A', 'AXL', 'NRG1'], 'PID_E2F_PATHWAY': ['SP1', 'CASP7', 'TK1', 'KAT2B', 'TFDP2', 'SMARCA2', 'TFE3', 'CCNE2', 'MCL1', 'HIC1', 'RRM2', 'MYC', 'KAT2A'], 'PID_ECADHERIN_NASCENTAJ_PATHWAY': ['SRC', 'IQGAP1', 'CYFIP2', 'CSNK2B', 'AKT1', 'RAPGEF1', 'RAP1A'], 'PID_ECADHERIN_STABILIZATION_PATHWAY': ['AQP3', 'EPHA2', 'KIFC3', 'GIT1', 'MLLT4', 'NCKAP1', 'CDH1'], 'PID_ENDOTHELINPATHWAY': ['HRAS', 'JUN', 'MAPK8', 'ADCY3', 'MAPK1', 'MAP2K1', 'MAP2K2', 'CYSLTR1', 'ADCY6'], 'PID_EPHBFWDPATHWAY': ['PXN', 'PTK2', 'RAC1', 'EPHB4', 'ITSN1', 'MAP4K4'], 'PID_EPOPATHWAY': ['INPP5D', 'EPOR', 'SOS1', 'SH2B3', 'BCL2', 'CBL'], 'PID_ERA_GENOMIC_PATHWAY': ['NDUFV3', 'COL18A1', 'NCOA7', 'CEBPB', 'ABCA3', 'NRIP1', 'EP300', 'PRDM15', 'HDAC1', 'ANP32A'], 'PID_ERBB1_DOWNSTREAM_PATHWAY': ['RPS6KA3', 'RAB5A', 'SMAD1', 'WASL', 'AKT1', 'PRKCD', 'MAP3K1', 'PLD2', 'MAPKAP1', 'PPP2R2A', 'MAPK1', 'WASF2', 'BAD', 'ARPC5', 'ARF4', 'MAP3K2', 'STAT3', 'PDPK1', 'PIK3CA'], 'PID_ERBB1_INTERNALIZATION_PATHWAY': ['ZFYVE28', 'ARHGEF7', 'STAMBP', 'SYNJ1', 'DNM1', 'UBE2D1', 'UBE2D3'], 'PID_ERBB1_RECEPTOR_PROXIMAL_PATHWAY': ['NRAS', 'EGF', 'PIK3R3', 'PTPN11', 'NCK1', 'NCK2'], 'PID_ERBB2ERBB3PATHWAY': ['SHC1', 'PPP3CB', 'PIK3CB', 'NF2', 'CHRNE', 'JUN', 'RAC1'], 'PID_ERBB4_PATHWAY': ['NEDD4', 'NCOR1', 'CBFA2T3', 'PIK3CD', 'JAK2'], 'PID_ER_NONGENOMIC_PATHWAY': ['PLCB2', 'HRAS', 'SRC', 'MSN', 'PIK3R1', 'GNAO1', 'GNG2'], 'PID_FAK_PATHWAY': ['SH3GL1', 'PIK3R1', 'KLF8', 'CAPN2', 'GIT2', 'MAPK1', 'ASAP1', 'TLN1', 'ITGA5', 'RAP1A'], 'PID_FANCONI_PATHWAY': ['C19orf40', 'UBE2T', 'RAD9A', 'BRCA2', 'WDR48', 'XRCC3', 'RAD1', 'RFC4'], 'PID_FASPATHWAY': ['FASLG', 'SMPD1', 'CASP3', 'MAPK14', 'FAS', 'MAP2K6', 'CFLAR'], 'PID_FCER1PATHWAY': ['CBLB', 'PLA2G4A', 'MAPK3', 'NFATC2', 'PTK2', 'S1PR1', 'DOK1', 'MAP2K7', 'PTPN11', 'MAP3K1', 'FYN'], 'PID_FGF_PATHWAY': ['FRS2', 'MMP9', 'CTNND1', 'HGF', 'PTK2B', 'CTTN', 'MAPK1', 'RUNX2'], 'PID_FOXM1PATHWAY': ['AURKB', 'FOXM1', 'CENPB', 'BRCA2', 'CHEK2', 'CDC25B'], 'PID_FOXOPATHWAY': ['CHUK', 'YWHAB', 'RALA', 'SOD2', 'XPO1', 'FASLG', 'CSNK1A1', 'PLK1', 'YWHAZ'], 'PID_FRA_PATHWAY': ['NFATC2', 'PLAUR', 'NFATC1', 'BGLAP', 'JUN'], 'PID_GMCSF_PATHWAY': ['LYN', 'PRKACA', 'MAPK3', 'STAT1', 'KRAS', 'RAF1'], 'PID_HDAC_CLASSII_PATHWAY': ['XPO1', 'TUBA1B', 'HDAC4', 'NCOR2', 'HDAC7', 'ADRBK1'], 'PID_HDAC_CLASSI_PATHWAY': ['CREBBP', 'SIRT5', 'GATA2', 'RBBP4', 'SIRT4', 'HDAC6', 'CHD4', 'NFKBIA', 'FKBP3', 'ZFPM1', 'WDR77', 'HDAC3'], 'PID_HEDGEHOG_GLIPATHWAY': ['GNAO1', 'HDAC1', 'FBXW11', 'PIAS1', 'AKT1', 'RAB23', 'CSNK1A1', 'CSNK1G2'], 'PID_HES_HEYPATHWAY': ['NCOA1', 'MAML1', 'RCAN1', 'ARNT', 'PARP1', 'HDAC1', 'HEY1'], 'PID_HIF1_TFPATHWAY': ['PLIN2', 'BHLHE41', 'NDRG1', 'ARNT', 'CREB1', 'HMOX1', 'HK2', 'COPS5', 'SLC2A1', 'PGK1'], 'PID_HIF2PATHWAY': ['SLC2A1', 'VHL', 'HIF1AN', 'ELK1', 'SIRT1'], 'PID_HIVNEFPATHWAY': ['CYCS', 'NFKBIA', 'MAP3K5', 'TNF', 'MAP2K7', 'DFFB', 'BCL2'], 'PID_IFNGPATHWAY': ['CASP1', 'MAP3K1', 'PTPN11', 'CAMK2D', 'CRKL', 'RAPGEF1', 'MAP2K1'], 'PID_IL12_2PATHWAY': ['IL1R1', 'CD8B', 'HLA-A', 'PPP3R1', 'STAT4', 'FOS', 'PPP3CB', 'CCR5', 'IL1B', 'HLX', 'CD3D'], 'PID_IL12_STAT4PATHWAY': ['HLA-DRB1', 'CD3G', 'IL18R1', 'MAPK9', 'STAT3'], 'PID_IL1PATHWAY': ['IL1R2', 'IL1R1', 'UBE2V1', 'PRKCZ', 'UBE2N', 'ERC1'], 'PID_IL23PATHWAY': ['SOCS3', 'NFKBIA', 'IL12RB1', 'STAT5A', 'RELA'], 'PID_IL2_1PATHWAY': ['SOCS1', 'SOCS2', 'MAPK3', 'IRS1', 'CDK2', 'MAPK11', 'MAPKAPK2', 'IRS2', 'SHC1', 'HRAS'], 'PID_IL2_PI3KPATHWAY': ['IL2RB', 'GRB2', 'IL2RA', 'IL2RG', 'LCK', 'MYB'], 'PID_IL4_2PATHWAY': ['JAK3', 'LTA', 'GTF3A', 'CD40LG', 'FES', 'MAPK14', 'HMGA1', 'PTPN6', 'IL13RA1'], 'PID_IL6_7PATHWAY': ['HSP90B1', 'AKT1', 'RAC1', 'FOS', 'STAT1', 'TYK2', 'TIMP1', 'MAP2K6'], 'PID_IL8CXCR2_PATHWAY': ['PLD2', 'PIK3CG', 'PRKCB', 'HCK', 'PPP2R1A', 'DNM1'], 'PID_ILK_PATHWAY': ['CTNNB1', 'CDC42', 'AURKA', 'RICTOR', 'ELMO2', 'PPP1R12A', 'ILKAP', 'DIAPH1'], 'PID_INSULIN_PATHWAY': ['HRAS', 'EIF4EBP1', 'INSR', 'CBL', 'RASA1', 'CRK', 'EXOC5', 'EXOC7'], 'PID_INTEGRIN1_PATHWAY': ['LAMA5', 'TGFBI', 'COL6A1', 'F13A1', 'LAMC1', 'TGM2', 'COL5A2'], 'PID_INTEGRIN3_PATHWAY': ['HMGB1', 'SDC4', 'SPP1', 'PDGFRB'], 'PID_INTEGRIN_A4B1_PATHWAY': ['PTK2', 'SPP1', 'CD14', 'ARF6', 'ADAM28'], 'PID_KITPATHWAY': ['VAV1', 'JAK2', 'BAD', 'STAT3', 'TEC', 'LYN', 'PIK3C2B', 'DOK1', 'MAP2K1'], 'PID_LKB1_PATHWAY': ['PSEN2', 'YWHAB', 'MYC', 'PRKAA1', 'MARK4', 'CRTC2', 'STK11'], 'PID_LYSOPHOSPHOLIPID_PATHWAY': ['GNA12', 'SLC9A3R2', 'IL8', 'PLCB3', 'ADCY4', 'PRKCD', 'PLD2', 'GNAZ', 'PIK3R1', 'ADCY3'], 'PID_MAPKTRKPATHWAY': ['ELK1', 'HRAS', 'RAF1', 'KRAS', 'RAP1A', 'CDK5R1'], 'PID_MET_PATHWAY': ['RAC1', 'RAP1B', 'BAD', 'PLCG1', 'NCK2', 'NCK1', 'CBL', 'MAPK1', 'MAPK8', 'MAPK3', 'SRC', 'MAP2K2', 'HGS', 'AKT1', 'APC'], 'PID_MTOR_4PATHWAY': ['AKT1', 'EIF4E', 'MTOR', 'RRN3', 'YWHAH', 'RHEB', 'MAPK3', 'CYCS', 'CCNE1', 'CDK2', 'EIF4EBP1', 'PDPK1', 'IRS1'], 'PID_MYC_ACTIVPATHWAY': ['HSPD1', 'SMAD4', 'SUPT3H', 'ID2', 'HSPA4', 'GAPDH', 'TP53', 'RUVBL2', 'NME1', 'MTDH', 'CCNB1', 'RUVBL1', 'IREB2', 'SNAI1'], 'PID_MYC_REPRESSPATHWAY': ['ITGB1', 'TMEM126A', 'ZFP36L1', 'SMAD4', 'NDRG1', 'HDAC1', 'CDKN1A', 'CFLAR', 'GFI1', 'FOXO3'], 'PID_NFAT_3PATHWAY': ['NFATC2', 'CSNK2A1', 'PRKCH', 'NUP214', 'MAPK8', 'MAP3K1', 'FKBP1A', 'MAPK9', 'PPP3R1', 'PRKCZ'], 'PID_NFAT_TFPATHWAY': ['POU2F1', 'IRF4', 'PTGS2', 'IFNG', 'TBX21', 'CDK4', 'EGR3'], 'PID_NOTCH_PATHWAY': ['MYCBP', 'MAML1', 'FBXW7', 'EPS15', 'SKP2', 'NOTCH2', 'APH1B', 'CCND1', 'NOTCH1'], 'PID_P38ALPHABETADOWNSTREAMPATHWAY': ['USF1', 'EIF4E', 'MAPKAPK2', 'MKNK1', 'ELK4', 'JUN'], 'PID_P53DOWNSTREAMPATHWAY': ['APC', 'TP53', 'CARM1', 'DDX5', 'DGCR8', 'FAS', 'PMAIP1', 'IGFBP3', 'JMY', 'RB1', 'BID', 'NLRC4', 'CEBPZ', 'CDKN1A', 'ARID3A', 'DDIT4', 'CASP10', 'GADD45A', 'DDB2', 'GPX1', 'CREBBP', 'TFDP1', 'PYCARD'], 'PID_P53REGULATIONPATHWAY': ['AKT1', 'RFWD2', 'CSNK1G2', 'TRIM28', 'PPM1D', 'EP300', 'KAT2B', 'PRMT5', 'CSNK1E', 'CCNG1', 'RASSF1'], 'PID_P73PATHWAY': ['RCHY1', 'SERPINA1', 'GATA1', 'RELA', 'FOXO3', 'CDK1', 'HAGH', 'JAK1', 'MYC', 'WWOX', 'DCP1B', 'BAK1', 'SP1'], 'PID_P75NTRPATHWAY': ['ARHGDIA', 'MAGEH1', 'RIPK2', 'TP53', 'XIAP', 'E2F1', 'TRAF6', 'PSENEN', 'PIK3R1', 'PRDM4', 'CASP9'], 'PID_PDGFRBPATHWAY': ['USP6NL', 'FGR', 'FYN', 'ARPC4', 'YWHAZ', 'MAPK3', 'GAB1', 'DOCK4', 'ARHGDIA', 'MAP2K4', 'JAK2', 'PTPRJ', 'YWHAB', 'TAGLN', 'SLC9A3R1', 'VAV2', 'RAB4A', 'MAPK9', 'ARPC5', 'YWHAE', 'PPP2R1A', 'PLA2G4A', 'RAF1', 'SPHK1'], 'PID_PI3KCIAKTPATHWAY': ['SRC', 'GSK3B', 'PDPK1', 'KPNA1', 'TBC1D4', 'AKT3'], 'PID_PI3KCIPATHWAY': ['ARF6', 'LYN', 'LAT', 'BTK', 'HRAS', 'CYTH3', 'HCK', 'ZAP70', 'PIK3CB'], 'PID_PI3KPLCTRKPATHWAY': ['YWHAG', 'HRAS', 'NTRK1', 'KRAS', 'PIK3CA', 'AGAP2'], 'PID_PLK1_PATHWAY': ['KIF2A', 'PPP1CB', 'FBXO5', 'NDC80', 'ERCC6L', 'PAK1', 'RAB1A', 'TUBG1'], 'PID_PS1PATHWAY': ['MAPK3', 'NKD1', 'FRAT1', 'JUN', 'NCSTN', 'CREBBP', 'PSENEN', 'FZD1'], 'PID_PTP1BPATHWAY': ['JAK2', 'YES1', 'STAT5A', 'CRK', 'SPRY2', 'BLK', 'ITGA2B', 'CSF1R'], 'PID_RAC1_PATHWAY': ['STAT5A', 'CTNNB1', 'CTNNA1', 'WASF2', 'NCF1', 'ARPC4', 'MAP2K3', 'NCKAP1', 'MAPK8'], 'PID_RAC1_REG_PATHWAY': ['ABI1', 'SOS1', 'RAP1GDS1', 'ARHGEF7', 'ARHGDIA', 'ARHGEF2'], 'PID_RB_1PATHWAY': ['RBBP4', 'E2F2', 'CDK4', 'E2F3', 'RUNX2', 'ABL1', 'MAPK14', 'CCND2', 'CBX4', 'PPP2CA'], 'PID_REG_GR_PATHWAY': ['FKBP4', 'RELA', 'MAPK11', 'SUV420H1', 'HDAC2', 'CREBBP', 'FOS', 'BAX', 'CDK5', 'CDKN1A', 'CDK5R1', 'MAPK8'], 'PID_RET_PATHWAY': ['MAPK3', 'GAB1', 'IRS1', 'DOK1', 'GRB10', 'RHOA'], 'PID_RHOA_PATHWAY': ['MSN', 'PRKCZ', 'SCAI', 'MAP2K4', 'PIP5K1A', 'JUN', 'TLN1'], 'PID_RHOA_REG_PATHWAY': ['DEF6', 'ARHGEF2', 'ARHGEF5', 'ARHGAP4', 'ARHGDIA', 'ARHGEF12', 'ARHGEF10L'], 'PID_SHP2_PATHWAY': ['IFNG', 'RAF1', 'SOS1', 'GAB2', 'HRAS', 'EGF', 'STAT1', 'PAG1', 'FRS2'], 'PID_SMAD2_3NUCLEARPATHWAY': ['VDR', 'SP1', 'ZBTB17', 'CDK4', 'SERPINE1', 'PIAS4', 'RBBP7', 'CREBBP', 'LAMC1', 'CDK2', 'SP3', 'CBFB', 'CREB1'], 'PID_SYNDECAN_1_PATHWAY': ['COL6A3', 'COL8A2', 'MAPK3', 'COL13A1', 'COL6A1'], 'PID_TAP63PATHWAY': ['TRAF4', 'CHUK', 'HBP1', 'FAS', 'ADA', 'SP1', 'ITGB4', 'YWHAQ'], 'PID_TCPTP_PATHWAY': ['HGF', 'PIK3R3', 'RAB4A', 'JAK3', 'CREBBP', 'CSF1', 'EGF'], 'PID_TCR_PATHWAY': ['SH3BP2', 'PTEN', 'HLA-DRA', 'PTPN6', 'FYN', 'IKBKG', 'MAP3K8', 'FYB', 'DBNL', 'MAL', 'KRAS', 'MAP3K14'], 'PID_TELOMERASEPATHWAY': ['UBE3A', 'MAX', 'IFNAR2', 'HDAC1', 'PIF1', 'MRE11A', 'EGF', 'SMAD3', 'SMG5', 'RAD1', 'HSP90AA1', 'NBN'], 'PID_TGFBRPATHWAY': ['RPS6KB1', 'TAB2', 'MAP3K7', 'PPP1CA', 'ZFYVE9', 'FKBP1A', 'TGFBR1', 'TGFBR3', 'RNF11'], 'PID_THROMBIN_PAR1_PATHWAY': ['PRKCD', 'PIK3R1', 'NOS3', 'GNAI2', 'GNAQ', 'GNA13', 'PLCB3'], 'PID_TNFPATHWAY': ['IKBKG', 'MAP4K2', 'RIPK1', 'TNIK', 'STAT1', 'CYLD', 'IKBKB', 'TRADD'], 'PID_TRKRPATHWAY': ['SQSTM1', 'PLCG1', 'ARHGAP32', 'CDC42', 'HRAS', 'EHD4', 'DNAJA3', 'GAB2', 'NTRK1', 'TIAM1'], 'PID_TXA2PATHWAY': ['TBXA2R', 'MAPK11', 'GNB5', 'PRKCH', 'GNB1', 'PIK3CG', 'ARRB2', 'SRC', 'RAB11A'], 'PID_UPA_UPAR_PATHWAY': ['PLAUR', 'ITGB5', 'MMP9', 'PLAU', 'FPR1'], 'PID_VEGFR1_2_PATHWAY': ['MAPK1', 'PAK2', 'NCK1', 'SH2D2A', 'NEDD4', 'GAB1', 'ROCK1', 'NCK2', 'CDC42', 'IQGAP1', 'VCL', 'PDPK1'], 'REACTOME_3_UTR_MEDIATED_TRANSLATIONAL_REGULATION': ['RPLP1', 'RPL29', 'RPS19', 'RPS18', 'RPL10A', 'RPL41', 'RPL24', 'RPS21', 'RPL11', 'RPL28', 'RPS4X', 'RPS27', 'RPL36', 'RPL23', 'RPL34', 'RPL18', 'RPS9', 'RPS15', 'RPS14'], 'REACTOME_ACTIVATED_TLR4_SIGNALLING': ['MAPK11', 'IKBKB', 'MAP2K3', 'IRAK3', 'DUSP4', 'TLR4', 'PELI1', 'S100B', 'IKBKG', 'UBE2N', 'HMGB1', 'UBA52', 'NFKBIA', 'MYD88', 'MEF2C', 'RPS6KA2', 'IRAK4'], 'REACTOME_ACTIVATION_OF_ATR_IN_RESPONSE_TO_REPLICATION_STRESS': ['CHEK1', 'ORC5', 'ORC2', 'RPA1', 'ORC1', 'RAD1'], 'REACTOME_ACTIVATION_OF_CHAPERONE_GENES_BY_XBP1S': ['PDIA5', 'LMNA', 'ATP6V0D1', 'CUL7', 'DNAJC3', 'SHC1', 'DNAJB11', 'EDEM1'], 'REACTOME_ACTIVATION_OF_NF_KAPPAB_IN_B_CELLS': ['REL', 'PSME2', 'PSMC2', 'RPS27A', 'PSME4', 'PSMD3', 'PSMB10', 'PSMB4', 'PSMD4', 'PSMD1', 'PSMC4', 'PSMA1'], 'REACTOME_ACTIVATION_OF_THE_MRNA_UPON_BINDING_OF_THE_CAP_BINDING_COMPLEX_AND_EIFS_AND_SUBSEQUENT_BINDING_TO_43S': ['RPS2', 'RPS4X', 'EIF4G1', 'FAU', 'EIF3G', 'RPS27A', 'EIF2S1', 'RPS16', 'EIF4H', 'EIF3E'], 'REACTOME_ADAPTIVE_IMMUNE_SYSTEM': ['DYNLL2', 'CYBB', 'ASB16', 'ASB7', 'LNPEP', 'MTOR', 'PVRL2', 'NCF4', 'FYB', 'ITGB5', 'CD8B', 'ITK', 'UBE3A', 'MLST8', 'HLA-DRB1', 'RAP1GAP', 'RPS6KB2', 'RASGRP2', 'DCTN1', 'MAPKAP1', 'ITGAL', 'CTLA4', 'HLA-DOB', 'RASGRP3', 'DCTN6', 'TRAT1', 'BTRC', 'NPEPPS', 'ZBTB16', 'UBE2E2', 'HCST', 'PDCD1LG2', 'ANAPC7', 'UBA1', 'AKT3', 'KLHL20', 'FBXW8', 'AP1S2', 'PSMD14', 'SEC24D', 'MKRN1', 'SPSB1', 'EVL', 'UBR1', 'UBE2Q2', 'LILRB2', 'CD3E', 'CDH1', 'CUL3', 'PSMA7', 'KIF11', 'RAPGEF3', 'UBE2D2', 'TRIM32', 'RACGAP1', 'CDC23', 'RNF138', 'PSMB7', 'CALM2', 'PSMB2', 'CD3D', 'DYNC2H1', 'GSK3A', 'BTK', 'HLA-DQA1', 'CD200', 'HLA-DMB', 'SKP2', 'CUL5', 'RNF220', 'MALT1', 'PSMA2', 'KLC3', 'DCTN3', 'FCGR2B', 'CDC34', 'UBE2E1', 'CD19', 'DZIP3', 'SPTBN2', 'DYNC1H1', 'HLA-F', 'RAP1A', 'ITGAV', 'ITPR3', 'LRRC41', 'ITGB7', 'DNM2', 'ASB1', 'PSMD12', 'PPP2R5B', 'CD226', 'UBA5'], 'REACTOME_AMINO_ACID_AND_OLIGOPEPTIDE_SLC_TRANSPORTERS': ['SLC1A5', 'SLC38A1', 'SLC7A6', 'SLC7A11', 'SLC5A5'], 'REACTOME_AMYLOIDS': ['HIST4H4', 'TGFBI', 'SNCA', 'H3F3B'], 'REACTOME_ANTIGEN_PROCESSING_CROSS_PRESENTATION': ['HLA-F', 'PSMD14', 'PSMA5', 'UBA52', 'HLA-C', 'CALR', 'PSME4', 'PSMB8', 'SEC61A2', 'PSMB7', 'SEC61B', 'B2M', 'PSMC4'], 'REACTOME_ANTIGEN_PROCESSING_UBIQUITINATION_PROTEASOME_DEGRADATION': ['PSMA6', 'ANAPC1', 'GAN', 'ASB1', 'SOCS1', 'UBE2B', 'ANAPC11', 'RNF41', 'RNF123', 'DTX3L', 'STUB1', 'UBE2H', 'PSMB8', 'PSMD11', 'UBE2E2', 'SOCS3', 'FBXO2', 'BTRC', 'SPSB2', 'TRIM32', 'PSME1', 'HECTD3', 'PSMD8', 'PSMB6', 'PSMD12', 'FBXO3', 'CUL3', 'TRIM21', 'CBLB', 'PSMF1', 'PSMA3', 'UBA3', 'UBE2L3', 'PSMC1', 'TCEB1'], 'REACTOME_ANTIVIRAL_MECHANISM_BY_IFN_STIMULATED_GENES': ['NUP107', 'EIF4A2', 'EIF2AK2', 'IFIT1', 'POM121', 'MX2', 'FLNB', 'KPNA1', 'EIF4E2', 'NUP50', 'NUP37', 'EIF4G2', 'NUP210'], 'REACTOME_APC_C_CDC20_MEDIATED_DEGRADATION_OF_MITOTIC_PROTEINS': ['PSMC6', 'PSMB7', 'PSMA3', 'CDK1', 'PSMC2', 'PTTG1', 'CDC26', 'PSMB10', 'PSMD11', 'ANAPC5', 'ANAPC10', 'PSMB6'], 'REACTOME_APC_C_CDH1_MEDIATED_DEGRADATION_OF_CDC20_AND_OTHER_APC_C_CDH1_TARGETED_PROTEINS_IN_LATE_MITOSIS_EARLY_G1': ['PSMD1', 'PSMB4', 'PSMA6', 'PSMB9', 'PSME1', 'PSMC6', 'ANAPC1', 'AURKB', 'PSMA2', 'PSMC3', 'UBE2E1', 'PSMD13'], 'REACTOME_APOPTOSIS': ['PAK2', 'BCAP31', 'PSMD4', 'PLEC', 'CASP9', 'BMF', 'PSMF1', 'TRAF2', 'ADD1', 'UNC5A', 'CTNNB1', 'LMNB1', 'CYCS', 'FASLG', 'PSMA3', 'FADD', 'APC', 'STK24', 'PSMC3', 'BIRC2', 'PSMB2', 'CASP10', 'UBA52', 'PSME1', 'CFLAR'], 'REACTOME_APOPTOTIC_CLEAVAGE_OF_CELLULAR_PROTEINS': ['LMNB1', 'MAPT', 'CASP6', 'CDH1', 'CASP3'], 'REACTOME_APOPTOTIC_EXECUTION_PHASE': ['APC', 'SPTAN1', 'CASP7', 'HIST1H1C', 'DBNL', 'MAPT', 'HMGB1'], 'REACTOME_AQUAPORIN_MEDIATED_TRANSPORT': ['GNAS', 'PRKAR2A', 'GNGT2', 'GNB5', 'AQP9'], 'REACTOME_ASPARAGINE_N_LINKED_GLYCOSYLATION': ['MLEC', 'ALG13', 'DDOST', 'DOLK', 'GMPPA', 'MAN1A2', 'PREB', 'MGAT4A', 'MOGS', 'MAN1A1', 'LMAN1', 'MPI', 'PDIA3', 'PRKCSH'], 'REACTOME_ASSEMBLY_OF_THE_PRE_REPLICATIVE_COMPLEX': ['PSMB10', 'PSMD8', 'PSMD14', 'MCM8', 'PSMD1', 'PSMB7', 'PSMB1', 'ORC4', 'ORC6', 'PSMD9', 'PSMB6', 'MCM3'], 'REACTOME_AUTODEGRADATION_OF_CDH1_BY_CDH1_APC_C': ['PSMD5', 'PSMB1', 'PSMD7', 'PSMD1', 'UBE2E1', 'ANAPC5', 'PSMC5', 'ANAPC10', 'PSMA5', 'PSMB9', 'PSMC3'], 'REACTOME_AUTODEGRADATION_OF_THE_E3_UBIQUITIN_LIGASE_COP1': ['RFWD2', 'PSMD8', 'PSMD14', 'PSMC2', 'PSMD5', 'PSMD4', 'PSME1', 'PSMD7', 'PSMD1'], 'REACTOME_AXON_GUIDANCE': ['GFRA2', 'CLTC', 'CACNB1', 'SPTBN2', 'ITGA9', 'NRP1', 'SPTA1', 'AP2S1', 'RPS6KA2', 'SOS2', 'PLXND1', 'PLXNA2', 'FYN', 'DLG3', 'ARHGEF11', 'NRAS', 'NCK1', 'EVL', 'DPYSL2', 'COL6A1', 'CACNB4', 'CDK5', 'CLASP1', 'ABLIM1', 'NTN4', 'CSNK2A1', 'AGRN', 'ST8SIA4', 'ROCK2', 'SRGAP3', 'FARP2', 'RHOB', 'SPTAN1'], 'REACTOME_BIOLOGICAL_OXIDATIONS': ['SLC35D1', 'CYP1B1', 'UGP2', 'CYP17A1', 'GGCT', 'GCLM', 'GGT7', 'MAT2B', 'CYP2D6', 'GGT5'], 'REACTOME_BMAL1_CLOCK_NPAS2_ACTIVATES_CIRCADIAN_EXPRESSION': ['DBP', 'MED1', 'NR1D1', 'NR3C1', 'ARNTL', 'EP300'], 'REACTOME_CD28_CO_STIMULATION': ['PDPK1', 'AKT2', 'PIK3CA', 'RICTOR', 'YES1'], 'REACTOME_CDK_MEDIATED_PHOSPHORYLATION_AND_REMOVAL_OF_CDC6': ['UBA52', 'PSMD3', 'PSMA3', 'PSMC1', 'PSME1', 'PSMB1', 'PSMD9', 'PSMD1'], 'REACTOME_CDT1_ASSOCIATION_WITH_THE_CDC6_ORC_ORIGIN_COMPLEX': ['PSMC5', 'PSMD7', 'PSMD14', 'PSME2', 'PSMF1', 'CDT1', 'PSMD2', 'PSMA2', 'PSMD1', 'PSMB9'], 'REACTOME_CELL_CELL_COMMUNICATION': ['FYN', 'PAK1', 'CDH13', 'INADL', 'SIRPB1', 'PVRL1', 'CLDN5', 'PTK2B', 'TYROBP', 'PRKCI', 'SKAP2', 'ITGB1', 'VASP'], 'REACTOME_CELL_CELL_JUNCTION_ORGANIZATION': ['CTNNB1', 'CDH13', 'PVRL1', 'CLDN5'], 'REACTOME_CELL_CYCLE': ['H2AFZ', 'TUBB', 'RFC4', 'CEP164', 'MCM6', 'E2F2', 'KIF2A', 'CDC23', 'CDKN1B', 'CDC20', 'AHCTF1', 'PSMD5', 'CEP70', 'ATR', 'CEP290', 'NPM1', 'E2F4', 'RAD9A', 'ANAPC10', 'SDCCAG8', 'PSMB7', 'SGOL1', 'NUMA1', 'CENPO', 'CDK6', 'NUP133', 'PPP2CB', 'PSMC3', 'CUL1', 'CLASP1', 'CENPK', 'KIF2C', 'HIST1H2BN', 'DCTN3', 'ANAPC5', 'CEP76', 'RPA3', 'MAPRE1', 'LIN52', 'TUBGCP2', 'CENPP', 'RAD21', 'ITGB3BP', 'TK2', 'TP53', 'PSMC6', 'PSMC2', 'UBE2C', 'NUDC', 'PPP1CC', 'RCC2', 'CCNE2', 'CCNE1', 'RPS27', 'MCM4', 'HDAC1', 'PSMA4', 'PSMD6', 'TUBGCP6', 'REC8', 'PSMB5', 'HAUS2', 'MAX', 'POLA2', 'PSMB6'], 'REACTOME_CELL_CYCLE_CHECKPOINTS': ['WEE1', 'CDC16', 'ATR', 'PSMC3', 'RAD9A', 'RPA3', 'PSMA1', 'CCNB2', 'ORC4', 'ANAPC7', 'CDKN1A', 'ORC6', 'MCM2', 'PSMB5', 'UBE2E1', 'PSMD2', 'UBE2D1', 'PSMB8', 'RPS27A', 'RFC5', 'PSME4'], 'REACTOME_CELL_CYCLE_MITOTIC': ['NDC80', 'WEE1', 'DSN1', 'CDK5RAP2', 'CSNK1E', 'SMC3', 'TK2', 'HAUS2', 'CENPO', 'POLD4', 'CEP192', 'NSL1', 'DBF4', 'CCND3', 'POLD3', 'CENPT', 'KIF23', 'PPP2R2A', 'MNAT1', 'MCM8', 'PSMD6', 'POLE2', 'PSME1', 'GMNN', 'CDKN1B', 'GINS4', 'NUP43', 'PSMD8', 'CDC23', 'ORC5', 'E2F5', 'RFC5', 'CENPL', 'MCM5', 'DYNC1H1', 'CCND1', 'PRIM1', 'SDCCAG8', 'PSMA5', 'CCND2', 'PSMD14', 'MCM6', 'MAPRE1', 'CENPN', 'MAD1L1', 'MAD2L1', 'RPA1', 'TFDP1', 'CEP164', 'CEP290', 'PSMD2', 'CENPQ', 'PPP1CC', 'TUBGCP2', 'PRKAR2B', 'GINS2'], 'REACTOME_CELL_DEATH_SIGNALLING_VIA_NRAGE_NRIF_AND_NADE': ['ARHGEF17', 'ITGB3BP', 'VAV3', 'ARHGEF2', 'BAD', 'TRIO', 'NGFR', 'YWHAE', 'RAC1', 'FGD1'], 'REACTOME_CELL_JUNCTION_ORGANIZATION': ['CD151', 'RSU1', 'CDH1', 'PARVB', 'ITGB1', 'PLEC', 'ACTN1'], 'REACTOME_CELL_SURFACE_INTERACTIONS_AT_THE_VASCULAR_WALL': ['PIK3R1', 'ITGA3', 'ITGAX', 'CD58', 'ITGAL', 'TREM1', 'PTPN6', 'L1CAM', 'CD48', 'AMICA1', 'PPIA', 'HRAS'], 'REACTOME_CHEMOKINE_RECEPTORS_BIND_CHEMOKINES': ['PF4', 'CXCR3', 'CCR9', 'CCR2', 'CXCR6'], 'REACTOME_CHONDROITIN_SULFATE_DERMATAN_SULFATE_METABOLISM': ['HEXA', 'GPC2', 'CSGALNACT1', 'CHPF2', 'B3GALT6', 'B3GAT3'], 'REACTOME_CHROMOSOME_MAINTENANCE': ['BRCA1', 'RFC4', 'WRAP53', 'PRIM2', 'PRIM1', 'POLA1', 'POLE', 'RBBP4', 'RAD21', 'POLD4', 'SUN2', 'LMNB1', 'RBBP7', 'H2AFX', 'SYCP2'], 'REACTOME_CIRCADIAN_CLOCK': ['TGS1', 'ATF2', 'NCOA1', 'DBP', 'PER1', 'CLOCK', 'ARNTL', 'MEF2C', 'UBA52'], 'REACTOME_CLASS_A1_RHODOPSIN_LIKE_RECEPTORS': ['CXCL1', 'ADRB2', 'F2R', 'CXCL10', 'XCL2', 'P2RY14', 'ADORA2B', 'GNRH1', 'CXCL16', 'CNR2', 'AVPR2', 'PNOC', 'LPAR1', 'GPBAR1', 'CCR5', 'PTGIR', 'CCR1', 'P2RY6', 'RLN2'], 'REACTOME_CLASS_B_2_SECRETIN_FAMILY_RECEPTORS': ['GIPR', 'FZD3', 'RAMP1', 'GNAS', 'GNGT2', 'GNG2'], 'REACTOME_CLASS_I_MHC_MEDIATED_ANTIGEN_PROCESSING_PRESENTATION': ['UBE2D1', 'UBR2', 'PSMA6', 'SEC13', 'ANAPC2', 'PSMD3', 'TCEB1', 'ASB13', 'ARIH2', 'RNF14', 'RNF25', 'KEAP1', 'ANAPC11', 'UBA2', 'DTX3L', 'ASB2', 'WSB1', 'TRIM21', 'TRIM32', 'UBE2J2', 'SOCS3', 'LRRC41', 'PSMB1', 'PSME2', 'PSMF1', 'SKP2', 'PSMD13', 'RNF34', 'HECTD3', 'UBR4', 'PSMB6', 'HERC2', 'TCEB2', 'RPS27A', 'RBX1', 'PSMD2', 'PSMD14', 'PSMD7', 'MRC2', 'UBE2G1', 'SOCS1', 'CUL7'], 'REACTOME_CLEAVAGE_OF_GROWING_TRANSCRIPT_IN_THE_TERMINATION_REGION_': ['SRSF6', 'CPSF7', 'SRSF2', 'SLBP', 'CLP1', 'RBM8A', 'SNRPD3', 'SRSF1'], 'REACTOME_COLLAGEN_FORMATION': ['COL9A3', 'COL11A2', 'PLOD1', 'COL6A3'], 'REACTOME_COSTIMULATION_BY_THE_CD28_FAMILY': ['PDCD1LG2', 'GRAP2', 'PIK3R3', 'BTLA', 'ICOS', 'HLA-DPA1', 'MLST8', 'MAPKAP1', 'HLA-DRB5', 'CD4', 'THEM4'], 'REACTOME_CROSS_PRESENTATION_OF_SOLUBLE_EXOGENOUS_ANTIGENS_ENDOSOMES': ['PSMD5', 'PSMB7', 'PSMD4', 'FCGR1A', 'PSMD9', 'PSMB2', 'FCGR1B', 'PSME2'], 'REACTOME_CYCLIN_E_ASSOCIATED_EVENTS_DURING_G1_S_TRANSITION_': ['PSMA6', 'PSMB9', 'CCNE1', 'RPS27A', 'PSMB1', 'PSMA5', 'MYC', 'PSMD8', 'PSMD9', 'CCNA2', 'PSMB10'], 'REACTOME_CYTOKINE_SIGNALING_IN_IMMUNE_SYSTEM': ['SOCS2', 'KPNA2', 'MAPK3', 'TEC', 'FCGR1B', 'IRAK2', 'HERC5', 'SOCS1', 'DDX58', 'KPNA1', 'MAPK1', 'TPR', 'IL6R', 'EIF4E3', 'ADAR', 'EIF4A3', 'KRAS', 'EGR1', 'SUMO1', 'KPNB1', 'OAS2', 'IL6ST', 'HLA-DRB1', 'SYK', 'POM121', 'IFNGR2', 'NRAS', 'IRAK3', 'STAT3', 'PML', 'CASP1', 'IFNGR1', 'B2M', 'SOS1', 'HLA-F', 'KPNA5', 'EIF2AK2', 'KPNA4', 'HLA-DRB5', 'NUP54', 'HLA-DQA2', 'PIK3CA', 'BTRC', 'IRF4', 'NEDD4', 'INPPL1'], 'REACTOME_DEADENYLATION_DEPENDENT_MRNA_DECAY': ['DCP1B', 'LSM6', 'EIF4G1', 'EXOSC7', 'EIF4B', 'PAIP1', 'CNOT10', 'CNOT7'], 'REACTOME_DEPOSITION_OF_NEW_CENPA_CONTAINING_NUCLEOSOMES_AT_THE_CENTROMERE': ['NPM1', 'HIST1H2BD', 'CENPP', 'RBBP4', 'CENPQ'], 'REACTOME_DESTABILIZATION_OF_MRNA_BY_AUF1_HNRNP_D0': ['PSMC5', 'PSMF1', 'HNRNPD', 'PSMD10', 'HSPA1B', 'PSMA1', 'PSMC1', 'PABPC1', 'PSMB10'], 'REACTOME_DEVELOPMENTAL_BIOLOGY': ['NRP1', 'HRAS', 'FOXO3', 'PRKCQ', 'EGR2', 'ALCAM', 'ITGA9', 'PAK6', 'DLG1', 'COL9A3', 'MED14', 'ARHGEF11', 'MYL6', 'DLG3', 'SMAD4', 'MED18', 'RRAS', 'NCAM1', 'SCN1B', 'AP2S1', 'CDC42', 'ITGB1', 'ITGA5', 'COL4A4', 'PAX6', 'WNT1', 'NCOA3', 'NCOA1', 'SEMA6A', 'PRNP', 'PLXNC1', 'PTK2', 'FGFR1', 'EBF1', 'HDAC3', 'COL6A3', 'MED25', 'COL6A2', 'MED26', 'SEMA7A', 'PLCG1', 'ITGA2B', 'MED30', 'MED13L', 'ROCK2', 'PFN1', 'TNF', 'YWHAB', 'MED10', 'TCF3', 'MYL9'], 'REACTOME_DIABETES_PATHWAYS': ['MBTPS1', 'DNAJC3', 'XBP1', 'PREB', 'PARN', 'SLC30A5', 'WFS1', 'HERPUD1', 'HDGF', 'IGF2BP2', 'SPCS2', 'SHC1', 'VAMP2', 'MBOAT4', 'EXOC8', 'SEC11A', 'SRPRB', 'SLC30A7', 'GOSR2'], 'REACTOME_DNA_REPAIR': ['RPS27A', 'CCNH', 'CDK7', 'SMUG1', 'UBE2T', 'C17orf70', 'POLD1', 'BRCA2', 'MAD2L2', 'GTF2H2', 'TP53BP1', 'POLR2A', 'ALKBH3', 'BRCA1', 'RAD50', 'PALB2', 'FANCA', 'RAD52', 'MRE11A', 'GTF2H1'], 'REACTOME_DNA_REPLICATION': ['ORC4', 'GORASP1', 'E2F3', 'CDC45', 'MCM5', 'NUDC', 'CENPK', 'SGOL1', 'KNTC1', 'DNA2', 'ORC5', 'PPP2R1A', 'CENPQ', 'PRIM1', 'CLASP1', 'ORC2', 'CASC5', 'PSMC2', 'INCENP', 'RPA1', 'PSMD5', 'MCM3', 'PSMD14', 'CDC6', 'ORC6', 'CDK2', 'SEH1L', 'NUF2', 'PSMB7', 'MAPRE1', 'MCM4', 'KIF2C', 'CDC7', 'PSMB9'], 'REACTOME_DNA_STRAND_ELONGATION': ['MCM4', 'MCM3', 'POLD1', 'GINS4', 'GINS2', 'MCM6'], 'REACTOME_DOWNSTREAM_SIGNALING_EVENTS_OF_B_CELL_RECEPTOR_BCR': ['PRKCB', 'PSMD9', 'PSME4', 'SKP1', 'FBXW11', 'CDKN1A', 'UBA52', 'PSMB4', 'PSMD2', 'RICTOR', 'BAD', 'PSMC3', 'PSMD3', 'RELA', 'NRAS', 'FOXO1', 'PSMB10', 'PSMA4'], 'REACTOME_DOWNSTREAM_SIGNALING_OF_ACTIVATED_FGFR': ['CHUK', 'PRKCD', 'FOXO4', 'SOS1', 'FRS2', 'CDKN1B', 'FGFR1', 'ITPR3', 'CREB1', 'MAPK1', 'AKT1', 'AKT2', 'ITPR2', 'PLCG1'], 'REACTOME_DOWNSTREAM_SIGNAL_TRANSDUCTION': ['FOXO4', 'AKT3', 'STAT5B', 'CRK', 'PDPK1', 'PDE1B', 'RPS6KB2', 'PRKACB', 'CDKN1B', 'STAT1', 'PDGFA', 'PRKCD', 'MAP2K2', 'MTOR', 'FOXO3', 'PLCG1'], 'REACTOME_DOWNSTREAM_TCR_SIGNALING': ['HLA-DPB1', 'TRAT1', 'MAP3K7', 'RIPK2', 'HLA-DQA1', 'RELA'], 'REACTOME_E2F_MEDIATED_REGULATION_OF_DNA_REPLICATION': ['DHFR', 'POLA2', 'PPP2R1B', 'FBXO5', 'ORC3', 'CCNE1'], 'REACTOME_ELONGATION_ARREST_AND_RECOVERY': ['POLR2A', 'ELL', 'POLR2C', 'SUPT5H', 'SUPT4H1'], 'REACTOME_ER_PHAGOSOME_PATHWAY': ['PSMD14', 'PSMA7', 'PSMB9', 'B2M', 'PSMD11', 'HLA-B', 'PSMB8', 'PSMC1', 'PSME1', 'HLA-C', 'PSMC2'], 'REACTOME_EXTRACELLULAR_MATRIX_ORGANIZATION': ['COL5A2', 'BMP1', 'MMP25', 'MMP24', 'COL5A3', 'MMP14', 'COL6A1'], 'REACTOME_FACTORS_INVOLVED_IN_MEGAKARYOCYTE_DEVELOPMENT_AND_PLATELET_PRODUCTION': ['KLC2', 'KIFAP3', 'TP53', 'H3F3A', 'PRKACB', 'VPS45', 'RCOR1', 'KIF2A', 'MAFK', 'KIF15', 'MAFF', 'IRF7', 'CDK2', 'IRF3', 'DOCK10', 'KIF11', 'GATA2'], 'REACTOME_FATTY_ACID_TRIACYLGLYCEROL_AND_KETONE_BODY_METABOLISM': ['HADHA', 'MED4', 'MED17', 'SIN3B', 'MED11', 'MED7', 'ELOVL3', 'ACSL6', 'NFYB', 'HMGCS1', 'MED9', 'NFYA', 'MED30', 'TRIB3', 'ACLY', 'CCNC', 'MED25', 'LPIN2', 'SLC27A1', 'ELOVL1', 'NCOA2', 'MED1', 'GPD1L', 'NCOA1', 'GPAT2', 'NCOR2', 'HDAC3', 'AGPAT6'], 'REACTOME_FORMATION_OF_RNA_POL_II_ELONGATION_COMPLEX_': ['ERCC2', 'TCEB2', 'NCBP1', 'POLR2A', 'SUPT5H', 'CDK9', 'TCEA1'], 'REACTOME_FORMATION_OF_THE_HIV1_EARLY_ELONGATION_COMPLEX': ['POLR2I', 'POLR2A', 'GTF2H1', 'CCNH', 'POLR2C'], 'REACTOME_FORMATION_OF_THE_TERNARY_COMPLEX_AND_SUBSEQUENTLY_THE_43S_COMPLEX': ['RPS5', 'RPS9', 'RPS8', 'RPS24', 'RPS13', 'RPS18', 'RPSA', 'RPS26', 'RPS15A'], 'REACTOME_G1_PHASE': ['PPP2R2A', 'RB1', 'RPS27A', 'CDKN2D', 'PPP2R1A', 'E2F2'], 'REACTOME_G1_S_TRANSITION': ['ORC1', 'CCNB1', 'PSMB1', 'PSMB7', 'DBF4', 'PSMD7', 'PSMD11', 'SKP2', 'MAX', 'PSMB4', 'CDK2', 'RPA2', 'PSMD6', 'MCM8', 'POLA2', 'PPP2R1B', 'PSMA6', 'PPP2CB', 'PSMA2', 'PKMYT1'], 'REACTOME_G2_M_CHECKPOINTS': ['ORC6', 'RPA2', 'MCM6', 'CHEK1', 'MCM4', 'MCM7', 'ATR'], 'REACTOME_GAB1_SIGNALOSOME': ['AKT1', 'FOXO3', 'GAB1', 'MLST8', 'PTEN', 'TRIB3', 'PIK3CA'], 'REACTOME_GASTRIN_CREB_SIGNALLING_PATHWAY_VIA_PKC_AND_MAPK': ['LPAR6', 'MAPK7', 'RGS18', 'GNA11', 'PTAFR', 'KRAS', 'GNA15', 'GNG2', 'RAF1', 'FPR2', 'DGKG', 'ADRBK1', 'LTB4R', 'F2R', 'FFAR2', 'GNB2', 'SOS1', 'PIK3CA'], 'REACTOME_GENERIC_TRANSCRIPTION_PATHWAY': ['SMAD3', 'TBL1X', 'ZNF597', 'TRIM33', 'ZNF583', 'MED27', 'CCNC', 'MYC', 'ZNF708', 'MED1', 'ZNF25', 'ZNF43', 'ZNF446', 'ZNF627', 'MAMLD1', 'ZNF493', 'NR4A2', 'ZNF615', 'ZNF567', 'ZNF641', 'SNW1', 'NOTCH4', 'MAML3', 'ZNF514', 'NCOA3', 'ZNF169', 'ZNF548', 'ZNF599', 'ZNF3', 'NCOA1', 'ZNF263', 'NR2F6', 'ZNF485', 'ZNF211', 'ZNF420', 'ZNF266', 'TEAD2', 'ZNF235', 'ZNF440', 'ZNF354B', 'SMARCD3', 'ZFP37', 'ESR2', 'ZNF26', 'ZKSCAN1', 'ZNF141', 'PARP1', 'SMAD4', 'MED7', 'NR4A1', 'ZNF45', 'ZFP90', 'SP1', 'MAML2'], 'REACTOME_GLOBAL_GENOMIC_NER_GG_NER': ['RPA2', 'ERCC3', 'ERCC4', 'DDB2', 'DDB1', 'MNAT1'], 'REACTOME_GLUCOSE_METABOLISM': ['CALM2', 'PHKA2', 'PFKM', 'GBE1', 'PGAM1', 'ENO3', 'UGP2', 'GPI', 'GOT1', 'PCK2'], 'REACTOME_GLUCOSE_TRANSPORT': ['NUP43', 'NUP153', 'SEH1L', 'SLC2A1', 'SLC2A3', 'NUP93'], 'REACTOME_GLYCEROPHOSPHOLIPID_BIOSYNTHESIS': ['CHKB', 'PLA2G6', 'PNPLA8', 'PLD4', 'LCLAT1', 'AGPAT5', 'EPT1', 'PCYT1A', 'PLD2', 'MBOAT7', 'AGPAT2', 'LPCAT1'], 'REACTOME_GLYCOSAMINOGLYCAN_METABOLISM': ['B4GALT7', 'SDC2', 'CSGALNACT2', 'B4GALT3', 'B3GNT1', 'ST3GAL2', 'NDST2', 'B4GALT5', 'GUSB', 'CHPF', 'B3GNT7', 'IDS', 'CHST13'], 'REACTOME_GOLGI_ASSOCIATED_VESICLE_BIOGENESIS': ['DTNB', 'GAK', 'RAB5C', 'YIPF6', 'OCRL', 'DTNBP1', 'AP1M1', 'SORT1', 'TBC1D8B'], 'REACTOME_GPCR_DOWNSTREAM_SIGNALING': ['CCR9', 'ARHGEF2', 'CCR10', 'ROCK1', 'GNAZ', 'DAGLB', 'PRKCD', 'PTGDR', 'AKT2', 'IL8', 'PRKCA', 'ARHGEF3', 'INSL3', 'ARHGEF17', 'RHOB', 'TBXA2R', 'ARHGEF9', 'GNB1', 'GNG11', 'APP', 'GPR132', 'DGKE', 'FGD4', 'TIAM1', 'SOS2', 'F2RL3', 'GNA12', 'GNB2', 'PRKCE', 'CXCR6', 'CXCR3', 'F2R', 'CYSLTR2', 'PPBP', 'ARHGEF6', 'CXCR4', 'GPR65', 'ADORA2B', 'TRIO', 'RHOG', 'S1PR3', 'C5', 'NET1', 'PDE8A'], 'REACTOME_GPCR_LIGAND_BINDING': ['GPR65', 'CXCL6', 'PPBP', 'SCT', 'CX3CR1', 'S1PR2', 'FZD1', 'F2R', 'LTB4R', 'FPR1', 'GNG8', 'GPR132', 'CXCL16', 'P2RY13', 'CXCR4', 'PF4', 'CXCL1', 'GABBR1', 'IL8', 'CXCL10', 'P2RY6', 'GNG5', 'LPAR6', 'ADM2', 'WNT10A', 'C5'], 'REACTOME_GPVI_MEDIATED_ACTIVATION_CASCADE': ['LAT', 'PIK3R1', 'FYN', 'PIK3R5', 'LYN'], 'REACTOME_G_ALPHA1213_SIGNALLING_EVENTS': ['TIAM1', 'ECT2', 'ROCK2', 'RASGRF2', 'VAV1', 'TIAM2', 'FGD1', 'RHOG', 'GNG7', 'ARHGEF2', 'GNG8'], 'REACTOME_G_ALPHA_I_SIGNALLING_EVENTS': ['GNG2', 'GNAS', 'CXCR3', 'RGS12', 'P2RY12', 'ADCY7', 'ANXA1', 'CXCL16', 'CXCR2', 'CXCR4', 'CCL5', 'CXCL6', 'RGS9', 'FPR2', 'S1PR2', 'PPBP'], 'REACTOME_G_ALPHA_Q_SIGNALLING_EVENTS': ['RGS2', 'XCL1', 'GNG5', 'GNGT2', 'EDN1', 'LTB4R', 'F2RL1', 'PLCB1', 'GNG8', 'GPR68', 'P2RY10', 'GHRL', 'LPAR1', 'PIK3CA', 'DGKE'], 'REACTOME_G_ALPHA_S_SIGNALLING_EVENTS': ['GNB4', 'GNAS', 'GNB2', 'GNB1', 'PTGIR', 'PTGER4', 'GNG7', 'GNAI2', 'ADCY7'], 'REACTOME_G_ALPHA_Z_SIGNALLING_EVENTS': ['PRKCH', 'ADCY3', 'GNGT2', 'GNG8', 'GNG7'], 'REACTOME_HEMOSTASIS': ['GNAI1', 'MRVI1', 'VCL', 'TGFB3', 'PPP2CA', 'PRKAR1B', 'DAGLA', 'DOCK9', 'GATA2', 'PIK3R3', 'PPIL2', 'RHOG', 'ANGPT1', 'P2RY12', 'AMICA1', 'PDE5A', 'MAPK1', 'VEGFA', 'PROC', 'PRKCQ', 'HDAC1', 'TFPI', 'PPP2R5C', 'PRKAR1A', 'GP9', 'DOCK3', 'GNB4', 'ATP1B3', 'CALM1', 'MAPK3', 'KIF5A', 'KIF9', 'GRB14', 'JAM3', 'MPL', 'PRKCZ', 'SERPINE1', 'HRAS', 'ACTN1', 'GNA12', 'KLC2', 'ITPK1', 'KIF2A', 'LAT', 'KIF23', 'CD63', 'F5', 'DOCK1', 'PTK2', 'CAPZA1', 'TP53', 'SLC8A1', 'AKAP1', 'PPP2CB', 'DOCK5', 'GRB2', 'LAMP2', 'CAPZA2', 'SLC7A8', 'SERPINB2', 'KIFC1', 'PLAU', 'TIMP1', 'PRKACB'], 'REACTOME_HEPARAN_SULFATE_HEPARIN_HS_GAG_METABOLISM': ['B3GALT6', 'HSPG2', 'EXT1', 'HS3ST1', 'HPSE', 'SDC2'], 'REACTOME_HIV_INFECTION': ['PSMD11', 'AAAS', 'TCEB1', 'PSMB2', 'NUP54', 'NUP93', 'POLR2A', 'LIG4', 'PSMB4', 'TAF5', 'PSMD7', 'TAF9', 'POM121', 'CDK9', 'TAF13', 'PSMD6', 'SKP1', 'LCK', 'PSMC5', 'PSME4', 'NUP88', 'PSMC2', 'NUP133', 'TAF11', 'RAN', 'PSMB1', 'POLR2G', 'SSRP1', 'NUP107', 'SUPT5H', 'AP2S1', 'PSMC6', 'POLR2C', 'AP1M1', 'KPNB1', 'SUPT4H1'], 'REACTOME_HIV_LIFE_CYCLE': ['POLR2K', 'XRCC4', 'GTF2B', 'TCEB3', 'GTF2E1', 'POLR2A', 'MNAT1', 'TAF5', 'TAF1', 'TCEB1', 'POLR2H', 'TAF4B', 'NCBP1', 'POLR2E', 'TSG101', 'UBA52', 'TAF6', 'XRCC6', 'NUP54', 'RNGTT', 'POLR2J'], 'REACTOME_HOST_INTERACTIONS_OF_HIV_FACTORS': ['PSME2', 'NUP188', 'PSMD7', 'DOCK2', 'SLC25A5', 'PSMA5', 'RAE1', 'RANGAP1', 'PSMF1', 'HLA-A', 'NUP62', 'NUP37', 'NUP210', 'AP1S1', 'CDK9', 'PSMA4', 'TPR', 'CD28', 'PAK2', 'AP2S1', 'KPNB1', 'AP1M1', 'NUP205'], 'REACTOME_IL1_SIGNALING': ['MYD88', 'IRAK1', 'MAP3K8', 'NOD1', 'MAP2K6', 'MAP3K3', 'PELI3'], 'REACTOME_IL_2_SIGNALING': ['CSF2RB', 'PTPN6', 'IL2RB', 'JAK1', 'JAK2', 'CDK1'], 'REACTOME_IL_3_5_AND_GM_CSF_SIGNALING': ['PIK3R1', 'PRKACB', 'INPPL1', 'CSF2RB', 'PIK3CA', 'BLNK', 'PIK3CD'], 'REACTOME_IMMUNE_SYSTEM': ['TICAM1', 'ITPR2', 'IRF3', 'GRB2', 'CTSD', 'SUMO1', 'KPNB1', 'NLRC4', 'PRKCSH', 'UBA1', 'UBR4', 'RPS6KB2', 'FBXW8', 'KPNA3', 'PELI3', 'VASP', 'TAX1BP1', 'NUP93', 'PSMB2', 'CYLD', 'ACTR1A', 'MX2', 'IL2RA', 'IRF1', 'PSMC3', 'ANAPC11', 'PSMD3', 'TLR5', 'UBE3B', 'KIR3DL1', 'PSME1', 'REL', 'PSMB6', 'KIR2DL4', 'HLA-DMB', 'AP2A2', 'CFD', 'SEC24D', 'GBP1', 'RAB7A', 'ANAPC10', 'SEC23A', 'CCR2', 'IRF7', 'NCAM1', 'IKBKB', 'IL1B', 'SOCS3', 'IFNGR2', 'TBK1', 'IFITM1', 'LILRB1', 'HERC2', 'JAK2', 'ASB7', 'IRAK3', 'SIKE1', 'CD96', 'PSMB8', 'NCF4', 'KIR3DL2', 'DYNC1I2', 'MAP3K7', 'NUPL1', 'PIK3CB', 'KPNA1', 'SEC61G', 'KIF22', 'EIF2AK2', 'RANBP2', 'KPNA4', 'FCGR3A', 'AP1M1', 'SIGIRR', 'HGF', 'BCL2L1', 'JAK1', 'SEC24B', 'UBE2E1', 'UBA7', 'BLK', 'LILRB3', 'CD14', 'KIR2DL3', 'CYBB', 'CTSC', 'MAP3K3', 'B2M', 'BAD', 'CDC16', 'HLA-F', 'AP2S1', 'RNF144B', 'PSMA1', 'FCGR1B', 'CDH1', 'NFKBIA', 'UBE2C', 'UBE2G2', 'KLHL20', 'UBE2M', 'KLC2', 'ANAPC13', 'IRF9', 'STAT3', 'CYBA', 'CLTA', 'UBE2Q2', 'SKP1', 'SRC', 'HLA-B', 'ITGB1', 'HUWE1', 'PVRL2', 'NUP54', 'SMURF2', 'MAPKAP1', 'DYNC1LI2', 'MAP2K2', 'PIK3CD', 'DDX58', 'ICOSLG', 'LCP2', 'CAPZA1', 'UNC93B1', 'CRKL', 'UBA5', 'CTSB', 'PSMD2', 'DYNLL1', 'SPTBN2', 'CD55', 'MT2A', 'FOXO3', 'LNPEP', 'CREBBP', 'CTSF', 'DUSP3', 'IFIT2', 'DCTN5', 'NPEPPS', 'ITGAV', 'KIF2C', 'ARF1', 'MAP2K4', 'IKBKE', 'SOS1', 'LRRC41', 'NUP88', 'CD19', 'OSBPL1A'], 'REACTOME_IMMUNOREGULATORY_INTERACTIONS_BETWEEN_A_LYMPHOID_AND_A_NON_LYMPHOID_CELL': ['FCGR2B', 'AMICA1', 'TYROBP', 'HLA-G', 'CD8A', 'ICAM1', 'CD40LG', 'CDH1', 'CD3E', 'CD247'], 'REACTOME_INFLUENZA_LIFE_CYCLE': ['RPS27A', 'RPS7', 'RPL14', 'RPL28', 'RPL39', 'RPS15', 'RPL3', 'TPR', 'POLR2J', 'RPL9', 'KPNB1', 'RPS23', 'POLR2C', 'NUPL1', 'GTF2F2', 'NUP214', 'RPL35A', 'POLR2E', 'RPL4', 'GRSF1', 'CLTA', 'RPLP0', 'RPL29', 'POLR2H', 'RPLP2'], 'REACTOME_INFLUENZA_VIRAL_RNA_TRANSCRIPTION_AND_REPLICATION': ['RPL31', 'RPS13', 'RPL23', 'RPL27A', 'POLR2A', 'RPS26', 'RPS8', 'RPS23', 'RPS10', 'RPL41', 'RPL11', 'RPL23A', 'POLR2K', 'RPS28', 'POLR2L', 'RPL13A', 'GRSF1', 'RPS3A', 'RPL29'], 'REACTOME_INNATE_IMMUNE_SYSTEM': ['LGALS3', 'DUSP3', 'MEFV', 'MAP2K4', 'IRF1', 'BCL2', 'C1QB', 'CHUK', 'NOD2', 'SIGIRR', 'TLR4', 'RELA', 'TLR6', 'MAPK11', 'HMGB1', 'MEF2A', 'CREBBP', 'PYCARD', 'LY86', 'PPP2CA', 'ATG12', 'TAB3', 'NLRC4', 'NLRC5', 'IRAK3', 'NFKBIB', 'MAPK7', 'TLR2', 'PIK3R4', 'TAB1', 'CD180', 'NLRP3', 'BIRC2', 'PELI3', 'CTSS', 'TANK', 'IRAK2', 'MAPK8'], 'REACTOME_INSULIN_RECEPTOR_SIGNALLING_CASCADE': ['FRS2', 'PIK3C3', 'FGF9', 'IRS1', 'PIK3CA', 'EIF4B', 'CAB39L', 'MAP2K1', 'MAPK1', 'MTOR', 'NRAS'], 'REACTOME_INTEGRATION_OF_ENERGY_METABOLISM': ['PLCB3', 'PPP2CA', 'ACACB', 'ACLY', 'ITPR2', 'SLC25A4', 'RAP1A', 'RAPGEF3', 'GNG5', 'PRKAG2', 'GNB4', 'AGPAT1', 'PLCB1', 'PRKACB'], 'REACTOME_INTEGRIN_CELL_SURFACE_INTERACTIONS': ['CSK', 'GRB2', 'PDPK1', 'CDH1', 'CRK', 'SOS1', 'ITGAL', 'ITGA5', 'APBB1IP', 'ITGB4'], 'REACTOME_INTERACTIONS_OF_VPR_WITH_HOST_CELLULAR_PROTEINS': ['NUP205', 'RAE1', 'NUP133', 'NUP210', 'NUP54', 'NUP155'], 'REACTOME_INTERFERON_ALPHA_BETA_SIGNALING': ['IFNAR1', 'PTPN1', 'IFI27', 'SOCS3', 'ISG20', 'HLA-F', 'OAS3', 'HLA-A', 'IFNAR2'], 'REACTOME_INTERFERON_GAMMA_SIGNALING': ['SOCS1', 'CAMK2D', 'HLA-DPA1', 'CIITA', 'HLA-DRB1', 'PTAFR', 'GBP2', 'IRF5', 'PML', 'SP100'], 'REACTOME_INTERFERON_SIGNALING': ['IRF4', 'FCGR1A', 'HLA-DPB1', 'NUP85', 'UBE2L6', 'UBE2N', 'PTPN1', 'PIN1', 'IRF8', 'IRF1', 'HLA-G', 'SUMO1', 'PPM1B', 'ICAM1', 'IFI6', 'IFNG', 'NUP93', 'IFIT1', 'NUP153', 'SOCS1', 'IRF7', 'UBA52', 'HLA-DRB1', 'PRKCD', 'MT2A', 'KPNA1', 'TRIM25'], 'REACTOME_ION_CHANNEL_TRANSPORT': ['ATP1A1', 'ATP10D', 'ATP11B', 'ATP7B'], 'REACTOME_IRON_UPTAKE_AND_TRANSPORT': ['SLC40A1', 'TCIRG1', 'ATP6V0E1', 'STEAP3', 'ATP6V1C1'], 'REACTOME_L1CAM_INTERACTIONS': ['ANK3', 'EZR', 'DNM1', 'SDCBP', 'AP2S1', 'LAMC1', 'SPTBN2', 'AP2B1', 'CSNK2A1', 'MAPK3', 'NUMB'], 'REACTOME_LATE_PHASE_OF_HIV_LIFE_CYCLE': ['AAAS', 'NUP205', 'NUP88', 'NUP93', 'CDK9', 'POLR2D', 'TCEA1', 'GTF2B', 'ERCC3', 'CCNT2', 'RANBP1', 'RAE1', 'TAF9', 'GTF2H3', 'NCBP2', 'VPS37B', 'NUP35', 'SUPT16H'], 'REACTOME_LIPID_DIGESTION_MOBILIZATION_AND_TRANSPORT': ['SAR1B', 'A2M', 'PRKACA', 'PPP1CA'], 'REACTOME_LOSS_OF_NLP_FROM_MITOTIC_CENTROSOMES': ['PCNT', 'CEP70', 'SDCCAG8', 'TUBB', 'FGFR1OP', 'PAFAH1B1', 'SSNA1', 'CLASP1', 'PPP2R1A', 'PLK1'], 'REACTOME_MAP_KINASE_ACTIVATION_IN_TLR_CASCADE': ['MAPK14', 'IRAK1', 'PPP2R5D', 'IKBKG', 'TRAF6', 'DUSP4', 'PPP2CB', 'DUSP6', 'ATF2'], 'REACTOME_MEIOSIS': ['POT1', 'TERF2', 'STAG2', 'SMC1A', 'H3F3B', 'STAG3', 'TERF2IP', 'SUN2', 'H2AFZ', 'H3F3A'], 'REACTOME_MEIOTIC_RECOMBINATION': ['ATM', 'RPA3', 'H3F3A', 'HIST4H4', 'TOP3A', 'H3F3B'], 'REACTOME_MEIOTIC_SYNAPSIS': ['HIST1H2BC', 'SYNE2', 'BRCA1', 'POT1', 'REC8', 'HIST1H2AC'], 'REACTOME_MEMBRANE_TRAFFICKING': ['COPB1', 'STAM2', 'AP1G1', 'AP3S1', 'SNAP23', 'PUM1', 'NAPA', 'ARRB1', 'SEC24D', 'BLOC1S3', 'BLOC1S1', 'AP2M1', 'CHMP2B', 'M6PR', 'VPS37B', 'ARFGAP1', 'DTNB', 'FTH1', 'SRC'], 'REACTOME_METABOLISM_OF_AMINO_ACIDS_AND_DERIVATIVES': ['AANAT', 'AUH', 'ACAT1', 'GOT1', 'PAOX', 'IDO1', 'OGDH', 'PSMD1', 'PHGDH', 'OAT', 'PSMC4', 'HAL', 'PSMB6', 'GCLM', 'BCKDHB', 'PSMC2', 'GAMT', 'PSMA7', 'MAT2A', 'MCCC1', 'AGMAT', 'ADC', 'HGD', 'PSMB10', 'PSMD5', 'CCBL2', 'SUOX'], 'REACTOME_METABOLISM_OF_CARBOHYDRATES': ['NUP37', 'KHK', 'PFKFB2', 'UGP2', 'NUP188', 'NUPL2', 'RAE1', 'EXT2', 'ST3GAL3', 'GLB1', 'CD44', 'SLC2A3', 'PFKP', 'HK1', 'HMMR', 'GBE1', 'CHST11', 'PHKG1', 'NUP133', 'SDC2', 'GALE', 'HS6ST1', 'PRPS1', 'PHKG2', 'PFKM', 'PGK1', 'MDH2', 'NUP88', 'PC', 'RANBP2', 'B3GALT6', 'GPC4', 'DSE'], 'REACTOME_METABOLISM_OF_LIPIDS_AND_LIPOPROTEINS': ['HSD3B7', 'PPP1CB', 'MED18', 'LIPE', 'TECR', 'HADH', 'MCEE', 'NCOA6', 'PRKAG2', 'PNPLA2', 'PCYT1B', 'SPHK1', 'PPM1L', 'ACAT1', 'SLC44A1', 'LCLAT1', 'PIK3CB', 'MED25', 'SGPL1', 'AGPAT1', 'NSDHL', 'HSD17B4', 'MED20', 'CDK19', 'ARSK', 'PMVK', 'MED10', 'RORA', 'ABCG1', 'ASAH1', 'PIP4K2A', 'MVD', 'PGS1', 'GPD1L', 'EBP', 'ACADM', 'ACOX1', 'WWTR1', 'MED11', 'FAR1', 'TAZ', 'CDS2', 'LDLRAP1', 'CUBN', 'DHCR24', 'DGAT1', 'SYNJ2', 'ARF3', 'SIN3B', 'HMGCS1', 'PLA2G16', 'ACSL1', 'MED13L', 'NFYA', 'CHKA', 'LIPC', 'ACSL4', 'TEAD2', 'PLD3', 'MED4', 'HSD17B3', 'MED22', 'PLA2G6', 'TRIB3', 'MED31', 'PTDSS1', 'GM2A'], 'REACTOME_METABOLISM_OF_MRNA': ['PSMA2', 'RPL37A', 'RPL18', 'SMG6', 'HSPA1B', 'MAPK11', 'FAM153A', 'PSME4', 'CNOT3', 'RPL34', 'EXOSC2', 'PPP2R2A', 'TNPO1', 'PSMF1', 'RPL19', 'PSMA4', 'RPS18', 'RPLP1', 'PSMD13', 'RPL15', 'CASC3', 'EXOSC7', 'LSM3', 'EIF4E', 'RPS23', 'RPS4X', 'RPL13A', 'RPL23A', 'LSM2', 'RPS10', 'PPP2CA', 'RPL31', 'RPS29', 'PSMD11', 'TNKS1BP1', 'RPS28', 'CNOT8', 'KHSRP', 'RPL7'], 'REACTOME_METABOLISM_OF_NON_CODING_RNA': ['NCBP2', 'NUP43', 'PRMT5', 'NUPL1', 'SNRPE', 'RANBP2', 'NUP88', 'GEMIN6', 'NUP85'], 'REACTOME_METABOLISM_OF_NUCLEOTIDES': ['GSR', 'GLRX', 'NT5E', 'PPAT', 'ATIC', 'IMPDH2', 'DUT', 'NME4', 'GMPR', 'UCK1', 'IMPDH1', 'UPB1'], 'REACTOME_METABOLISM_OF_PROTEINS': ['SEC24C', 'PIGG', 'ALG1', 'EIF4A2', 'PIGS', 'MGAT3', 'PABPC1', 'ARSG', 'RPS4X', 'RPL18', 'B4GALT2', 'MANEA', 'RPL38', 'FUT8', 'RPL32', 'B4GALT3', 'GPAA1', 'EIF2B4', 'EIF2S1', 'TUBB2A', 'SSR4', 'RPL10', 'EIF3J', 'SEC24D', 'B3GNT7', 'MOGS', 'RPS21', 'MGAT4B', 'EDEM3', 'EIF3G', 'LMAN1', 'RPL10A', 'EEF1B2', 'B4GALT1', 'RPS16', 'RPL30', 'RPN1', 'RPL28', 'SRP9', 'PIGM', 'RPL5', 'TIMM8A', 'PIGA', 'FURIN', 'UGGT2', 'ALG6', 'RPS28', 'RPL26L1', 'TUBA1C', 'PIGH', 'SSR1', 'SUMF2', 'GANAB', 'TAZ', 'PIGQ', 'MAN1B1', 'GMPPA', 'ARSK', 'DHPS', 'SUMF1', 'MLEC', 'FBXW5', 'EIF5', 'UGGT1', 'FXN', 'TOMM70A', 'FBXO4', 'SLC25A4', 'RPL26', 'GGCX', 'RPL21', 'TBCD'], 'REACTOME_METABOLISM_OF_RNA': ['RPS9', 'RPS6', 'PSMD3', 'PSMD8', 'GEMIN4', 'PSMA5', 'EDC4', 'NCBP1', 'TPR', 'SNRPD2', 'RPL31', 'TNPO1', 'RPL36A', 'RPS21', 'RPS2', 'MAPK11', 'NUP205', 'EXOSC9', 'RPLP0', 'RPS18', 'PSMB9', 'RPS16', 'PSME4', 'LSM6', 'PSMB7', 'GEMIN7', 'PSMD13', 'TGS1', 'PSMD1', 'RPL7A', 'DCP1B', 'SNRPF', 'PSMB6', 'RPL26L1', 'CASC3', 'RPS13', 'UPF3B', 'EIF4B', 'RNPS1', 'CNOT2', 'EXOSC7', 'EXOSC1', 'NUP155', 'RPS7', 'RPL3', 'RPS28', 'NUP88', 'FAU'], 'REACTOME_METABOLISM_OF_VITAMINS_AND_COFACTORS': ['ACP5', 'PPCDC', 'SLC46A1', 'MOCS3', 'THTPA', 'SLC5A6', 'PANK4', 'PANK3', 'NADSYN1'], 'REACTOME_MHC_CLASS_II_ANTIGEN_PRESENTATION': ['CLTC', 'KLC2', 'CLTA', 'AP1M2', 'KIFAP3', 'DCTN6', 'KIF2A', 'KIF5A', 'DYNLL2', 'CTSA', 'RILP', 'KLC3', 'KIF15', 'DCTN2', 'ARF1'], 'REACTOME_MITOCHONDRIAL_PROTEIN_IMPORT': ['DNAJC19', 'BCS1L', 'COQ2', 'SLC25A4', 'GFER', 'TIMM8A', 'TIMM22', 'TIMM10', 'TIMM13'], 'REACTOME_MITOTIC_G1_G1_S_PHASES': ['CDKN2B', 'RPA3', 'PSMB4', 'MCM4', 'CDK1', 'DHFR', 'CCND2', 'FBXO5', 'PSMC4', 'CDC6', 'DYRK1A', 'PSMD3', 'POLA2', 'PSMC3', 'PSMD2', 'PSME1', 'ORC3', 'TYMS', 'MYC', 'PSMB7', 'CUL1', 'MCM3', 'PSMA6', 'PSMD9'], 'REACTOME_MITOTIC_G2_G2_M_PHASES': ['CENPJ', 'AKAP9', 'PCM1', 'NUMA1', 'PRKAR2B', 'TUBB', 'TUBA4A', 'CEP76', 'CSNK1E', 'YWHAE', 'AZI1', 'CDK5RAP2', 'CEP70'], 'REACTOME_MITOTIC_M_M_G1_PHASES': ['CENPO', 'PSMD8', 'PSMA2', 'PSMC2', 'KNTC1', 'PSMD7', 'CENPP', 'CENPM', 'CDC20', 'SMC1A', 'PPP2CB', 'SPC24', 'STAG1', 'PSMA5', 'PPP1CC', 'DSN1', 'PSMC5', 'MCM8', 'POLA2', 'ORC3', 'RAD21', 'MAD1L1', 'CASC5', 'POLA1', 'PSMD11', 'CLIP1', 'ZWILCH', 'SKA2', 'PLK1', 'CLASP1'], 'REACTOME_MITOTIC_PROMETAPHASE': ['CKAP5', 'BUB1', 'RANGAP1', 'RAD21', 'PPP2CA', 'BUB3', 'SGOL2', 'CDC20', 'INCENP', 'STAG1', 'SMC3', 'CLASP1', 'NSL1', 'NUDC', 'RCC2'], 'REACTOME_MRNA_3_END_PROCESSING': ['UPF3B', 'NCBP2', 'CLP1', 'CPSF2', 'SRSF9', 'CPSF3'], 'REACTOME_MRNA_PROCESSING': ['NFX1', 'NUP214', 'MNAT1', 'GTF2H2', 'DNAJC8', 'CCAR1', 'TPR', 'SF3A1', 'HNRNPA2B1', 'NUP88', 'HNRNPD', 'PABPN1', 'PCBP1', 'SNRPD1', 'NUP50', 'NUP43', 'SF3B3', 'DDX23', 'PAPOLA', 'SF3B4', 'POLR2I', 'NXF1', 'NHP2L1', 'SNRPA1', 'RNGTT', 'SNRNP40', 'HNRNPK', 'POLR2J', 'SLBP'], 'REACTOME_MRNA_SPLICING': ['PCBP2', 'PTBP1', 'HNRNPL', 'SF3B4', 'SRSF5', 'NHP2L1', 'SRSF6', 'SF3B1', 'SNRPD1', 'FUS', 'POLR2L', 'SNRNP200', 'UPF3B', 'HNRNPA2B1', 'SF3B5', 'CD2BP2', 'RBM5', 'CLP1', 'SNRPG', 'POLR2K'], 'REACTOME_MRNA_SPLICING_MINOR_PATHWAY': ['POLR2C', 'SNRPD3', 'SF3B3', 'SF3B1', 'POLR2H', 'GTF2F2', 'SNRPD2', 'NCBP1'], 'REACTOME_MUSCLE_CONTRACTION': ['MYLK', 'MYH11', 'MYL6B', 'SORBS1', 'TPM2', 'TLN1'], 'REACTOME_MYD88_MAL_CASCADE_INITIATED_ON_PLASMA_MEMBRANE': ['MAPKAPK3', 'MAP3K7', 'S100A12', 'RPS6KA5', 'DUSP4', 'MAP2K1', 'TAB1', 'PPP2CB', 'S100B', 'TLR6', 'NFKBIB', 'LY96', 'MAP2K4', 'MAP2K3', 'MAPK14'], 'REACTOME_M_G1_TRANSITION': ['PRIM2', 'MCM4', 'PSMC6', 'PSMA6', 'PSMB5', 'PSMD2', 'PSMA1', 'E2F1', 'PSMC4', 'MCM3', 'PSMB1', 'POLE2', 'PSMA4', 'PSMF1'], 'REACTOME_NCAM_SIGNALING_FOR_NEURITE_OUT_GROWTH': ['COL6A2', 'SRC', 'SPTBN5', 'COL4A3', 'GFRA2', 'COL9A2', 'SPTB', 'SOS1'], 'REACTOME_NEGATIVE_REGULATORS_OF_RIG_I_MDA5_SIGNALING': ['UBE2K', 'HERC5', 'ISG15', 'NLRC5', 'TNFAIP3', 'UBA52'], 'REACTOME_NEURONAL_SYSTEM': ['STX12', 'CHRNA2', 'PRKCA', 'GLS', 'GNAI2', 'KCNQ1', 'CACNB2', 'ADCY7', 'BRAF', 'RAB3A', 'CAMK2D', 'MYO6', 'KCNC4', 'GRIK5', 'PLCB3', 'CACNG8', 'GNB4', 'KCNJ15', 'SLC1A7', 'RAF1', 'MDM2', 'GRIN2C', 'PANX1', 'AP2A2', 'CAMKK1'], 'REACTOME_NEUROTRANSMITTER_RECEPTOR_BINDING_AND_DOWNSTREAM_TRANSMISSION_IN_THE_POSTSYNAPTIC_CELL': ['AP2A2', 'GNAL', 'GNG5', 'RASGRF2', 'AP2B1', 'GNB2', 'CAMK2D', 'ADCY6', 'CACNG8', 'KCNJ15', 'KCNJ2', 'DLG1', 'GNG7'], 'REACTOME_NFKB_AND_MAP_KINASES_ACTIVATION_MEDIATED_BY_TLR4_SIGNALING_REPERTOIRE': ['TAB3', 'ATF1', 'NOD1', 'MAP2K3', 'DUSP7', 'NFKBIA', 'RIPK2', 'MAP2K4', 'ATF2', 'DUSP4', 'FOS', 'MAPK14', 'RIPK1'], 'REACTOME_NGF_SIGNALLING_VIA_TRKA_FROM_THE_PLASMA_MEMBRANE': ['RALB', 'YWHAB', 'DUSP3', 'TSC2', 'ADCY7', 'CDKN1B', 'PRKAR2A', 'SHC1', 'ADCY3', 'FRS2', 'ITPR3', 'MAP2K5', 'CALM3', 'PRKACA', 'THEM4', 'STAT3', 'DNM1', 'AKT1S1', 'MAPK12', 'ADCY4', 'MDM2', 'KRAS', 'MTOR'], 'REACTOME_NONSENSE_MEDIATED_DECAY_ENHANCED_BY_THE_EXON_JUNCTION_COMPLEX': ['RPS15', 'RPS18', 'RPLP0', 'RPL18', 'RPS28', 'RPL41', 'RPL29', 'RPL35A', 'RNPS1', 'RPL37', 'RPL32', 'RPL4', 'RPS11', 'RPL30', 'RPL22', 'RPS10', 'RPL11', 'PABPC1', 'RPL35'], 'REACTOME_NOTCH1_INTRACELLULAR_DOMAIN_REGULATES_TRANSCRIPTION': ['MAML3', 'TLE1', 'HDAC7', 'HDAC11', 'CUL1', 'HIF1A', 'UBA52', 'MYC'], 'REACTOME_NRAGE_SIGNALS_DEATH_THROUGH_JNK': ['TIAM1', 'KALRN', 'NET1', 'TRIO', 'ARHGEF9', 'ARHGEF17', 'ECT2'], 'REACTOME_NUCLEAR_RECEPTOR_TRANSCRIPTION_PATHWAY': ['NR1D1', 'NR1D2', 'NR2C2AP', 'RARA', 'NR1H2'], 'REACTOME_NUCLEOTIDE_BINDING_DOMAIN_LEUCINE_RICH_REPEAT_CONTAINING_RECEPTOR_NLR_SIGNALING_PATHWAYS': ['TAB3', 'CASP8', 'RIPK2', 'UBE2N', 'NOD1', 'CARD9', 'MAPK12', 'BIRC2'], 'REACTOME_NUCLEOTIDE_EXCISION_REPAIR': ['RFC5', 'POLR2A', 'RAD23B', 'RPA1', 'ERCC8', 'LIG1', 'POLD3', 'GTF2H1', 'DDB2'], 'REACTOME_OPIOID_SIGNALLING': ['GNAZ', 'GNG7', 'CAMK4', 'PPP2CA', 'CDK5', 'CALM2', 'GNG8', 'ADCY4', 'PPP2R1B', 'ITPR3', 'PRKAR2A'], 'REACTOME_ORC1_REMOVAL_FROM_CHROMATIN': ['PSMA3', 'PSMD13', 'PSMF1', 'MCM4', 'PSMD9', 'MCM2', 'PSMB10', 'CDT1', 'MCM5', 'PSMB1', 'PSMD2', 'PSMD3'], 'REACTOME_O_LINKED_GLYCOSYLATION_OF_MUCINS': ['B3GNT7', 'GALNT1', 'MUC6', 'GALNT12', 'C1GALT1'], 'REACTOME_P53_DEPENDENT_G1_DNA_DAMAGE_RESPONSE': ['CCNE1', 'CCNE2', 'PSMA4', 'TP53', 'PSMA5', 'PSMC6', 'PSMD6', 'PSMC5', 'PSMC3', 'PSMD12'], 'REACTOME_P53_INDEPENDENT_G1_S_DNA_DAMAGE_CHECKPOINT': ['PSMB10', 'PSMC2', 'PSMB5', 'PSMB6', 'PSME4', 'PSMA5', 'PSMD4', 'PSMA6', 'PSMB4'], 'REACTOME_P75_NTR_RECEPTOR_MEDIATED_SIGNALLING': ['PRKCI', 'ARHGDIA', 'AKAP13', 'ARHGEF1', 'ITGB3BP', 'HDAC1', 'MCF2', 'RIPK2', 'UBA52', 'ARHGAP4', 'FGD4', 'FGD1', 'IRAK1', 'ARHGEF9'], 'REACTOME_PEPTIDE_CHAIN_ELONGATION': ['RPL11', 'RPS28', 'RPS12', 'RPS25', 'RPL12', 'RPL37', 'RPL9', 'RPL35A', 'RPL27', 'RPL3', 'FAM153A', 'RPLP2', 'RPL28', 'RPS18', 'RPS10', 'RPL13A'], 'REACTOME_PEPTIDE_LIGAND_BINDING_RECEPTORS': ['RLN2', 'CXCR5', 'F2RL1', 'PPBP', 'C5', 'ANXA1', 'CXCL5', 'CX3CR1', 'APP', 'CXCL16'], 'REACTOME_PHASE1_FUNCTIONALIZATION_OF_COMPOUNDS': ['CYP2U1', 'CYP2S1', 'PTGS1', 'ALDH1A1'], 'REACTOME_PHASE_II_CONJUGATION': ['MAT2A', 'MGST1', 'MTR', 'GCLM', 'COMT', 'GGT5'], 'REACTOME_PHOSPHOLIPASE_C_MEDIATED_CASCADE': ['ITPR3', 'ADCY6', 'ADRBK1', 'PRKCA', 'PRKAR2A'], 'REACTOME_PHOSPHOLIPID_METABOLISM': ['PNPLA2', 'PIK3CG', 'PCYT1B', 'PPAP2A', 'PTEN', 'SACM1L', 'PIK3R1', 'PLA2G6', 'PIP5K1C', 'PLD2', 'HEXA', 'ARSG', 'GM2A', 'TAZ', 'PIKFYVE', 'ACER1', 'ARSB', 'EPT1', 'SMPD4', 'INPP5E', 'PSAP', 'MTMR4', 'MTM1', 'HADHA', 'INPP4B', 'ETNK1', 'ARSK', 'GBA2', 'PIK3CB'], 'REACTOME_PI3K_AKT_ACTIVATION': ['PIK3CB', 'RHOA', 'IRS1', 'AKT1', 'PHLPP1', 'RPS6KB2'], 'REACTOME_PI3K_CASCADE': ['TRIB3', 'PIK3R4', 'CAB39L', 'PDE3B', 'PRKAB2', 'FRS2', 'PRKAB1', 'STK11'], 'REACTOME_PI3K_EVENTS_IN_ERBB2_SIGNALING': ['AKT3', 'RICTOR', 'TSC2', 'NR4A1', 'CHUK', 'TRIB3', 'FOXO3'], 'REACTOME_PI3K_EVENTS_IN_ERBB4_SIGNALING': ['NR4A1', 'AKT1', 'FOXO3', 'AKT2', 'CREB1', 'AKT1S1'], 'REACTOME_PI_3K_CASCADE': ['GSK3A', 'FGFR4', 'AKT1', 'GAB1', 'FOXO1', 'CREB1', 'RICTOR'], 'REACTOME_PI_METABOLISM': ['PIK3R1', 'SACM1L', 'INPPL1', 'MTMR1', 'SYNJ2', 'PIP5K1C', 'PIP4K2A', 'MTMR4'], 'REACTOME_PLATELET_ACTIVATION_SIGNALING_AND_AGGREGATION': ['GNAI2', 'ARRB1', 'LAT', 'GNB5', 'SOS1', 'CDC42', 'VEGFB', 'APBB1IP', 'HABP4', 'TGFB3', 'A2M', 'PTPN1', 'GP5', 'ITPR3', 'CSK', 'STXBP3', 'SERPINA1', 'GNG11', 'ITGA2B', 'RAC1', 'FCER1G', 'PRKCD', 'SRC', 'PRKCH', 'MGLL', 'MAPK1', 'GNG5', 'GNGT2', 'PROS1'], 'REACTOME_PLATELET_HOMEOSTASIS': ['PPP2R1A', 'GNG2', 'PDE5A', 'PDE2A', 'ATP2A3', 'GNG7', 'KCNMB1', 'LRP8', 'GNG8'], 'REACTOME_PLC_BETA_MEDIATED_EVENTS': ['PLCB1', 'PRKAR1B', 'ADCY9', 'ITPR2', 'CAMK4', 'GNAI2'], 'REACTOME_POST_TRANSLATIONAL_PROTEIN_MODIFICATION': ['VKORC1', 'STT3A', 'PIGF', 'PIGS', 'PIGP', 'MANEA', 'PIGV', 'DOHH', 'DOLPP1', 'PIGX', 'PIGT', 'B3GNT8', 'PIGC', 'ALG12', 'GCNT1', 'B4GALT5', 'RPN1', 'ALG10B', 'ALG5', 'GNPNAT1', 'PIGK', 'DPM3', 'ARSB', 'PGAP1', 'PRKCSH', 'MAN1C1'], 'REACTOME_POTASSIUM_CHANNELS': ['GNB1', 'KCNA3', 'GABBR1', 'KCNJ15', 'KCNK13', 'KCNAB2'], 'REACTOME_PPARA_ACTIVATES_GENE_EXPRESSION': ['SMARCD3', 'TNFRSF21', 'ABCA1', 'MED14', 'TXNRD1', 'NR1D1', 'HMGCR', 'FHL2', 'ACSL1', 'TGS1', 'MED16', 'CREBBP', 'CDK19', 'MED10', 'CD36', 'HDAC3'], 'REACTOME_PRE_NOTCH_EXPRESSION_AND_PROCESSING': ['MAML2', 'MAML3', 'NOTCH2', 'MOV10', 'RFNG', 'TMED2', 'TFDP1'], 'REACTOME_PROCESSING_OF_CAPPED_INTRON_CONTAINING_PRE_MRNA': ['NUP133', 'GTF2F2', 'PRPF4', 'NUP88', 'SF3B2', 'SNRPF', 'CLP1', 'NUP85', 'EIF4E', 'POLR2B', 'NUP155', 'SNRPD3', 'SNRPD1', 'HNRNPM', 'POM121', 'EFTUD2', 'SRSF7', 'NUP93', 'NUP43', 'HNRNPA1', 'POLR2A', 'POLR2G', 'CPSF3', 'CSTF1', 'HNRNPK', 'NUP153'], 'REACTOME_PROTEIN_FOLDING': ['LONP2', 'FBXO4', 'SPHK1', 'NOP56', 'TUBB2A', 'FBXW7', 'CCT2', 'CCT3', 'FBXW2'], 'REACTOME_PYRUVATE_METABOLISM_AND_CITRIC_ACID_TCA_CYCLE': ['L2HGDH', 'MDH2', 'SDHB', 'PDHB', 'DLST', 'SLC16A3', 'DLAT'], 'REACTOME_RECRUITMENT_OF_MITOTIC_CENTROSOME_PROTEINS_AND_COMPLEXES': ['CDK5RAP2', 'DYNC1H1', 'TUBGCP6', 'PPP2R1A', 'TUBG1', 'DCTN2', 'TUBGCP2', 'NEDD1', 'SDCCAG8', 'SSNA1', 'CEP72'], 'REACTOME_REGULATION_OF_APOPTOSIS': ['PSMD11', 'DAPK1', 'PSMA6', 'PAK2', 'PSMD12', 'CASP3', 'PSMA3', 'ARHGAP10', 'UNC5A', 'PSME4'], 'REACTOME_REGULATION_OF_INSULIN_SECRETION': ['SLC2A1', 'PRKACA', 'STX1A', 'PLCB2', 'CACNB3', 'RAP1A', 'PRKAR2A', 'CACNA1A', 'GNAI2', 'IQGAP1'], 'REACTOME_REGULATION_OF_INSULIN_SECRETION_BY_GLUCAGON_LIKE_PEPTIDE1': ['GNG5', 'GNG2', 'RAP1B', 'PRKAR1B', 'GNG8'], 'REACTOME_REGULATION_OF_MITOTIC_CELL_CYCLE': ['ANAPC1', 'PLK1', 'PSMF1', 'PSMA5', 'PSMB1', 'PSMB8', 'CCNA2', 'PSMD6', 'BTRC', 'UBE2D1', 'PSMB2', 'PSMC4', 'CUL1', 'SKP1'], 'REACTOME_REGULATION_OF_MRNA_STABILITY_BY_PROTEINS_THAT_BIND_AU_RICH_ELEMENTS': ['TNFSF13', 'EIF4G1', 'PSMD14', 'PSMB9', 'ZFP36L1', 'PSMD4', 'PSMD13', 'RPS27A', 'EXOSC1', 'HSPA8', 'XRN1', 'PSMB8', 'PSME2', 'PSMA5', 'PSMD7'], 'REACTOME_REGULATION_OF_ORNITHINE_DECARBOXYLASE_ODC': ['PSMC1', 'PSMA6', 'PSMB9', 'PSMD1', 'PSME2', 'PSMD3', 'PSMC3', 'PSMD6', 'PSMD2'], 'REACTOME_REGULATION_OF_WATER_BALANCE_BY_RENAL_AQUAPORINS': ['GNG11', 'GNB1', 'GNB2', 'RAB11FIP2', 'ADCY6'], 'REACTOME_RESPIRATORY_ELECTRON_TRANSPORT': ['SDHD', 'NDUFB4', 'NDUFA3', 'COX5A', 'NDUFB1', 'NDUFS6', 'NDUFB5', 'NDUFA13', 'NDUFB9', 'NDUFAB1', 'NDUFA4', 'CYCS'], 'REACTOME_RESPIRATORY_ELECTRON_TRANSPORT_ATP_SYNTHESIS_BY_CHEMIOSMOTIC_COUPLING_AND_HEAT_PRODUCTION_BY_UNCOUPLING_PROTEINS_': ['COX7B', 'ATP5J', 'NDUFS7', 'COX5B', 'NDUFS6', 'SDHD', 'NDUFA6', 'NDUFB6', 'COX8A', 'NDUFA9', 'UQCRQ', 'CYC1', 'COX6A1', 'NDUFB8', 'UCP3'], 'REACTOME_RESPONSE_TO_ELEVATED_PLATELET_CYTOSOLIC_CA2_': ['APP', 'LAMP2', 'SELP', 'PF4', 'PDGFA', 'PFN1', 'A2M', 'PSAP', 'CALM3', 'VWF', 'VEGFB', 'HGF'], 'REACTOME_RIG_I_MDA5_MEDIATED_INDUCTION_OF_IFN_ALPHA_BETA_PATHWAYS': ['IRF1', 'EP300', 'RIPK1', 'NLRC5', 'IRF2', 'S100A12', 'MAVS', 'IFIH1', 'DAK', 'NFKB2', 'CYLD'], 'REACTOME_RNA_POL_III_TRANSCRIPTION': ['POLR3D', 'SNAPC2', 'POLR3GL', 'POLR3H', 'POU2F1', 'POLR2H'], 'REACTOME_RNA_POL_II_PRE_TRANSCRIPTION_EVENTS': ['POLR2I', 'POLR2C', 'CCNT1', 'POLR2J', 'TAF9', 'GTF2H2', 'CCNT2', 'ERCC3', 'GTF2B', 'TCEA1'], 'REACTOME_RNA_POL_II_TRANSCRIPTION': ['CSTF1', 'POLR2A', 'GTF2E1', 'GTF2A2', 'CLP1', 'CPSF2', 'TAF9', 'CDK9', 'GTF2B', 'ELL', 'SNRPE', 'DHX38', 'SRSF9', 'RNGTT', 'TAF5', 'ZNF473', 'SRSF11', 'POLR2C'], 'REACTOME_RNA_POL_II_TRANSCRIPTION_PRE_INITIATION_AND_PROMOTER_OPENING': ['TAF5', 'GTF2A1', 'TBP', 'POLR2G', 'POLR2H', 'GTF2E1', 'TAF4B'], 'REACTOME_RNA_POL_I_PROMOTER_OPENING': ['HIST2H2BE', 'H3F3B', 'HIST1H2BC'], 'REACTOME_RNA_POL_I_RNA_POL_III_AND_MITOCHONDRIAL_TRANSCRIPTION': ['GTF2H3', 'SNAPC3', 'POLR1C', 'CBX3', 'TAF1A', 'ERCC3', 'TAF1B', 'POLR1D', 'POLR1B', 'GTF3C2', 'HIST1H2AC', 'POLR3F', 'HIST1H2BD'], 'REACTOME_RNA_POL_I_TRANSCRIPTION': ['EHMT2', 'H2AFZ', 'POLR2H', 'H3F3A', 'ERCC3', 'POLR1A', 'RRN3'], 'REACTOME_SCFSKP2_MEDIATED_DEGRADATION_OF_P27_P21': ['PSMD13', 'PSMA2', 'PSMD1', 'PSMC3', 'PSMC2', 'PSMB9', 'PSMA1', 'SKP1', 'PSMB7', 'PSMC4'], 'REACTOME_SCF_BETA_TRCP_MEDIATED_DEGRADATION_OF_EMI1': ['PSMB2', 'PSMD10', 'PSMD5', 'CDC20', 'PSMC6', 'PSMC4', 'PSMB9', 'PSMC5', 'PSMD7'], 'REACTOME_SEMAPHORIN_INTERACTIONS': ['ROCK1', 'PLXNC1', 'MYH10', 'MYL12B', 'ITGB1', 'CDK5', 'ARHGEF11', 'NRP1', 'LIMK1', 'SEMA6A'], 'REACTOME_SIGNALING_BY_EGFR_IN_CANCER': ['PRKAR2B', 'TSC2', 'BAD', 'AP2M1', 'GSK3A', 'MAP2K2', 'AP2S1', 'UBA52', 'CASP9', 'FOXO1', 'CAMK4', 'STAM2', 'CBL', 'CSK', 'GRB2', 'AP2B1', 'STAM', 'CDK1', 'PRKCE'], 'REACTOME_SIGNALING_BY_ERBB2': ['BAD', 'CUL5', 'MAPK1', 'PRKAR2A', 'CDC37', 'HRAS', 'ITPR2', 'ADCY3', 'PRKAR1B', 'UBA52', 'ADCY6', 'GRB2', 'YES1', 'STUB1', 'MAPKAP1', 'PRKACA'], 'REACTOME_SIGNALING_BY_ERBB4': ['AKT1S1', 'ESR1', 'NCOR1', 'TAB2', 'MAPK1', 'SH2B1', 'RAF1', 'CREB1', 'JAK2', 'PSEN2', 'CDKN1B', 'PDPK1', 'SKP1', 'S100B'], 'REACTOME_SIGNALING_BY_FGFR': ['FGFR1', 'FGFR4', 'CALM3', 'PHLPP1', 'SPRY2', 'TSC2', 'RPS6KB2', 'PPP2CA', 'THEM4', 'AKT2', 'CALM1', 'FRS2', 'GRB2', 'CBL', 'PRKAR2A', 'MAP2K1'], 'REACTOME_SIGNALING_BY_FGFR_IN_DISEASE': ['AKT2', 'PPP2R1A', 'SHC1', 'CREB1', 'PDE1B', 'STAT5A', 'MAP2K2', 'FGFR1', 'MAPK3', 'CALM2', 'HRAS', 'PRKAR1B', 'TRIM24', 'TSC2', 'PDPK1', 'PRKACA', 'CDK1', 'AKT3'], 'REACTOME_SIGNALING_BY_GPCR': ['IL8', 'OPN3', 'GNAI1', 'PPP2CB', 'F2RL1', 'CALM1', 'ADCY6', 'ADCY4', 'ABR', 'LPAR6', 'ROCK2', 'ROCK1', 'MAP2K1', 'C5AR1', 'DGKA', 'GNB2', 'FFAR3', 'GPR18', 'GRB2', 'ADRB2', 'NET1', 'PIK3R5', 'PRKACB', 'S1PR1', 'GNRH1', 'F2RL3', 'PDPK1', 'GNB1', 'CCR5', 'RHOA', 'CYSLTR2', 'PF4', 'CXCL6', 'PPP2R1B', 'RAF1', 'CALM3', 'CXCR1', 'PRKCA', 'RPS6KA3', 'AKT2', 'XCL2', 'P2RY6', 'C5', 'PRKCE', 'NTSR1', 'GNAO1', 'GNG8', 'PREX1', 'CDC42', 'PLCB1', 'FGD2', 'P2RY14', 'F2R', 'DGKD', 'GNG5', 'CALM2'], 'REACTOME_SIGNALING_BY_ILS': ['YWHAB', 'IL2RG', 'CHUK', 'LYN', 'SQSTM1', 'RAPGEF1', 'PRKACB', 'INPPL1', 'SOCS3', 'CASP1', 'CDK1', 'JAK2', 'MYD88', 'MAP2K1', 'HGF', 'TYK2', 'IL7', 'CRK', 'VAV1'], 'REACTOME_SIGNALING_BY_INSULIN_RECEPTOR': ['ATP6V0A2', 'ATP6V0C', 'DOK1', 'ATP6V1C1', 'ATP6V1A', 'ATP6V1C2', 'ATP6V1F', 'ATP6V1E1', 'RAF1', 'NRAS', 'MAP2K1', 'SHC1', 'TSC2', 'ATP6V1G2', 'FGF9'], 'REACTOME_SIGNALING_BY_NOTCH': ['RPS27A', 'TLE2', 'NCOR2', 'E2F3', 'NOTCH4', 'ST3GAL6', 'HDAC9', 'NCSTN', 'E2F1', 'HEY1', 'HDAC10', 'CDK8', 'KAT2A', 'HDAC11', 'NUMB', 'TBL1X', 'POFUT1'], 'REACTOME_SIGNALING_BY_NOTCH1': ['NCOR2', 'MIB1', 'HDAC9', 'HDAC2', 'PSEN1', 'EP300', 'HDAC8', 'NUMB', 'ADAM17', 'TBL1X', 'CDK8', 'MAML3'], 'REACTOME_SIGNALING_BY_PDGF': ['MAPK3', 'PLAT', 'ADCY4', 'PRKCE', 'GRB2', 'PRKCA', 'CDKN1B', 'PDGFB', 'CDKN1A', 'YWHAB', 'PRKAR1B', 'CHUK', 'CALM2', 'RPS6KB2', 'ITPR3', 'MAP2K2', 'PTEN', 'MAP2K1', 'PRKAR2A'], 'REACTOME_SIGNALING_BY_RHO_GTPASES': ['ECT2', 'RAC1', 'ARAP3', 'RHOBTB1', 'HMHA1', 'OBSCN', 'GDI1', 'RHOT1', 'OPHN1', 'TRIO', 'ARHGEF2', 'FGD2', 'TIAM1', 'ARHGEF18', 'ARHGAP22', 'ARHGEF6', 'RHOH'], 'REACTOME_SIGNALING_BY_SCF_KIT': ['JAK2', 'PDPK1', 'TRIB3', 'MAP2K2', 'GRB2', 'MAPKAP1', 'NR4A1', 'SH2B3', 'GAB2', 'AKT1S1', 'STAT1', 'MAPK3', 'PIK3CA', 'FOXO4'], 'REACTOME_SIGNALING_BY_TGF_BETA_RECEPTOR_COMPLEX': ['PPP1CA', 'SMAD4', 'E2F5', 'SMAD2', 'TGFBR1', 'FKBP1A', 'HDAC1', 'MYC', 'UCHL5', 'SMAD3', 'FURIN'], 'REACTOME_SIGNALING_BY_THE_B_CELL_RECEPTOR_BCR': ['CDKN1B', 'ITPR2', 'PSME2', 'SOS1', 'CBL', 'PSMC4', 'BTRC', 'AKT3', 'FOXO4', 'PSMB1', 'PSME4', 'NR4A1', 'NFKBIE', 'PSMA6', 'PSMB7', 'PSMB6', 'VAV1', 'PSMA2', 'BLK', 'PRKCB', 'LYN', 'PSMD6', 'MAL'], 'REACTOME_SIGNALING_BY_WNT': ['PSMB5', 'PSMC5', 'PSME1', 'PPP2R1B', 'PSME2', 'PSMC2', 'PSMA4', 'PSMF1', 'AXIN1', 'PSMC4', 'PSMD3', 'PSMB9'], 'REACTOME_SIGNALLING_BY_NGF': ['NR4A1', 'CDK1', 'DUSP6', 'MEF2C', 'MAGED1', 'YWHAB', 'DUSP4', 'ARHGEF6', 'ADAM17', 'PLCG1', 'CAMK4', 'RHOA', 'PPP2R1A', 'ADCY7', 'ARHGEF17', 'AKT1S1', 'FGD4', 'MAPK14', 'MAPK13', 'CLTA', 'PCSK6', 'ABR', 'MAPKAP1', 'HDAC1', 'RPS6KA1', 'VAV1', 'MAPK11', 'TRAF6', 'NGFRAP1', 'RPS6KA3', 'RICTOR', 'FGD1', 'OMG', 'MAP2K5', 'APH1A', 'ARHGEF11', 'ITGB3BP'], 'REACTOME_SIGNALLING_TO_ERKS': ['GRB2', 'SHC1', 'FRS2', 'MAPK12', 'RALGDS', 'NRAS'], 'REACTOME_SIGNAL_TRANSDUCTION_BY_L1': ['ITGA9', 'ITGAV', 'CLTA', 'CLTC', 'RPS6KA4', 'AP2A2'], 'REACTOME_SLC_MEDIATED_TRANSMEMBRANE_TRANSPORT': ['SLC35A3', 'SLC15A2', 'NUP37', 'SLC14A1', 'SLC38A2', 'SLC30A7', 'SLC24A3', 'SLC30A1', 'NUPL2', 'SLC16A3', 'SLC7A11', 'NUP188', 'SEH1L', 'NUP93', 'SLCO3A1', 'AAAS', 'SLC2A8', 'NUP88', 'SLC35A1', 'SLC12A7', 'SLC44A2', 'SLC35C1', 'SLC4A5', 'SLC8A3', 'SLC4A4', 'SLCO4C1', 'SLC12A6', 'SLC20A2'], 'REACTOME_SPHINGOLIPID_METABOLISM': ['SGPP1', 'GM2A', 'SGPL1', 'ASAH1', 'SMPD1', 'SGPP2', 'ARSB', 'NEU1', 'SPHK1'], 'REACTOME_SRP_DEPENDENT_COTRANSLATIONAL_PROTEIN_TARGETING_TO_MEMBRANE': ['RPS25', 'RPN2', 'RPS2', 'RPL22', 'RPL6', 'TRAM1', 'RPL27A', 'SSR2', 'RPL23A', 'SRP14', 'RPL18', 'RPL30', 'SSR3', 'SRP54', 'RPLP1', 'RPL34', 'SPCS3', 'RPS3A', 'FAM153A', 'SRP72'], 'REACTOME_SYNTHESIS_OF_DNA': ['PSMA1', 'CDKN1A', 'PSMA2', 'MCM7', 'PSMD14', 'PSMD4', 'MCM4', 'PSMD12', 'PSMD2', 'PSMA7', 'PCNA', 'FEN1', 'PSMC4', 'POLA2', 'GINS1', 'UBA52', 'PSMD9'], 'REACTOME_S_PHASE': ['SKP1', 'SKP2', 'PSMD8', 'PSMD9', 'DNA2', 'POLD2', 'CDC6', 'PSMC5', 'RB1', 'PSMA7', 'ORC3', 'PSMB5', 'CCNE1', 'ORC4', 'CDC25B', 'PSMB6', 'PSMD11', 'RFC4', 'PSMA5', 'PSMB10'], 'REACTOME_TCA_CYCLE_AND_RESPIRATORY_ELECTRON_TRANSPORT': ['NDUFV2', 'ATP5I', 'NDUFC2', 'ETFA', 'NDUFB1', 'NDUFB2', 'NDUFC1', 'DLD', 'ATP5J2', 'COX6C', 'ATP5F1', 'ETFB', 'UQCRB', 'SUCLA2', 'IDH3G', 'COX5A', 'COX7A2L', 'NDUFS5', 'NDUFA11', 'NDUFB3', 'CS', 'UQCRQ'], 'REACTOME_TCR_SIGNALING': ['MALT1', 'EVL', 'LCK', 'PIK3R1', 'IKBKB', 'BCL10', 'CD247', 'HLA-DRB1', 'ITK'], 'REACTOME_TELOMERE_MAINTENANCE': ['POLD2', 'LIG1', 'POLE', 'TERF1', 'HIST2H2BE', 'RFC5', 'TERF2IP', 'HIST1H2BD'], 'REACTOME_TOLL_RECEPTOR_CASCADES': ['DUSP3', 'RIPK1', 'PELI1', 'MAP2K6', 'NFKBIB', 'CD180', 'TLR7', 'RPS27A', 'TBK1', 'DNM1', 'MAPK7', 'ATF1', 'S100B', 'RPS6KA1', 'MAP2K2', 'NOD1', 'PIK3R4', 'IRAK3', 'MAPKAPK2', 'PPP2R1A', 'TLR6'], 'REACTOME_TRAF6_MEDIATED_INDUCTION_OF_NFKB_AND_MAP_KINASES_UPON_TLR7_8_OR_9_ACTIVATION': ['IRAK1', 'TAB2', 'NFKBIA', 'MAP3K1', 'MAPK11', 'AGER', 'ATF1', 'MAPK3', 'DUSP7', 'TAB1', 'RPS6KA5', 'MAPK8', 'DUSP3', 'DUSP6'], 'REACTOME_TRANSCRIPTION': ['HIST1H2BD', 'RNMT', 'POLR1C', 'CSTF2', 'H3F3A', 'TCEA1', 'POLR3B', 'MAPK3', 'POLRMT', 'POLR2K', 'MNAT1', 'RBM8A', 'POLR2E', 'RNPS1', 'RNGTT', 'GTF2H1', 'TFAM', 'U2AF1', 'MAGOH', 'SRSF4', 'CBX3', 'DHX38', 'NCBP2', 'HIST1H2BJ', 'TAF1', 'GTF2H3', 'GTF3C2', 'ERCC2', 'SUPT16H'], 'REACTOME_TRANSCRIPTIONAL_ACTIVITY_OF_SMAD2_SMAD3_SMAD4_HETEROTRIMER': ['CDK9', 'UBA52', 'SKI', 'CCNT2', 'SMAD3', 'JUNB', 'TGIF1'], 'REACTOME_TRANSCRIPTIONAL_REGULATION_OF_WHITE_ADIPOCYTE_DIFFERENTIATION': ['MED10', 'MED21', 'TNF', 'EBF1', 'MED20', 'NCOA2', 'NCOA6', 'MED23', 'NCOR2', 'SMARCD3', 'TGFB1', 'MED14'], 'REACTOME_TRANSCRIPTION_COUPLED_NER_TC_NER': ['RPA3', 'POLR2G', 'POLR2C', 'GTF2H3', 'POLD2', 'GTF2H1', 'POLR2H', 'ERCC6'], 'REACTOME_TRANSLATION': ['RPS15', 'RPS8', 'EIF5', 'SSR4', 'RPS27', 'RPL36', 'EIF2B2', 'SRPR', 'RPS3A', 'RPL7A', 'EIF2S1', 'RPS14', 'RPL22', 'RPL18', 'RPL23A', 'RPS10', 'RPL13', 'RPS3', 'RPLP1', 'SSR1', 'SEC61B', 'RPL37A', 'RPS19', 'RPL11', 'RPS20', 'EIF4H', 'EIF4A2'], 'REACTOME_TRANSMEMBRANE_TRANSPORT_OF_SMALL_MOLECULES': ['SLCO4A1', 'SLC30A1', 'FTL', 'ABCC3', 'SLC26A2', 'SLC5A5', 'SLC2A8', 'ATP6V0C', 'GNG11', 'SLC9A5', 'SLC35B4', 'PRKACA', 'SLC4A5', 'ATP6V1F', 'POM121', 'PEX3', 'NUP37', 'ATP11C', 'AAAS', 'CYBRD1', 'SLC2A11', 'SLC20A1', 'RANBP2', 'NUP85', 'ABCD1', 'ABCB1', 'AQP10', 'SLC30A7', 'SLC35C1', 'ABCC1', 'GNG2', 'SLC9A7', 'SLC4A7', 'SLC22A4', 'SLC39A3', 'ABCB6', 'NUP43', 'SLC4A1', 'NUP50', 'SLC15A2', 'RAB11A', 'SLC31A1', 'SLC7A1', 'SLC7A5', 'PRKACB', 'ATP6V1G1', 'SLC3A2', 'ATP8A2'], 'REACTOME_TRANSMISSION_ACROSS_CHEMICAL_SYNAPSES': ['RPS6KA3', 'KCNJ15', 'SLC6A12', 'CALM3', 'PDPK1', 'ADCY3', 'DLG3', 'ALDH2', 'GNG8', 'HSPA8', 'ADCY6', 'RAB3A', 'PLCB3', 'PRKCB', 'GNAI3', 'AP2S1', 'CREB1', 'CACNB2'], 'REACTOME_TRANSPORT_OF_GLUCOSE_AND_OTHER_SUGARS_BILE_SALTS_AND_ORGANIC_ACIDS_METAL_IONS_AND_AMINE_COMPOUNDS': ['SLC22A18', 'SLC11A1', 'SLC31A1', 'SLC41A1', 'SLC2A1', 'SLC2A8', 'SLC5A3', 'SLC5A2'], 'REACTOME_TRANSPORT_OF_INORGANIC_CATIONS_ANIONS_AND_AMINO_ACIDS_OLIGOPEPTIDES': ['SLC9A7', 'SLC9A8', 'SLC9A5', 'SLC24A3', 'SLC3A2', 'SLC5A5', 'SLC7A5', 'SLC7A1', 'SLC43A2', 'SLC26A6'], 'REACTOME_TRANSPORT_OF_MATURE_MRNA_DERIVED_FROM_AN_INTRONLESS_TRANSCRIPT': ['NUP155', 'NCBP2', 'NUP93', 'SEH1L', 'CPSF3', 'NUPL2'], 'REACTOME_TRANSPORT_OF_MATURE_TRANSCRIPT_TO_CYTOPLASM': ['U2AF1', 'NUP54', 'NFX1', 'SRSF7', 'NCBP2', 'NUP210', 'NUP107', 'SRSF3', 'SRSF6', 'NUP93'], 'REACTOME_TRANSPORT_TO_THE_GOLGI_AND_SUBSEQUENT_MODIFICATION': ['SEC13', 'MGAT4A', 'MGAT3', 'ST6GAL1', 'B4GALT3'], 'REACTOME_TRANS_GOLGI_NETWORK_VESICLE_BUDDING': ['TPD52', 'SORT1', 'DNM2', 'YIPF6', 'FTL', 'SNAPIN', 'GAK', 'TGOLN2', 'HIP1R', 'AP3B1'], 'REACTOME_TRIF_MEDIATED_TLR3_SIGNALING': ['ATF2', 'IKBKB', 'HMGB1', 'DUSP3', 'MAPK14', 'CDK1', 'IKBKG', 'JUN', 'MEF2A', 'TAB1', 'TBK1', 'NFKBIA', 'MAP2K7', 'PPP2R5D'], 'REACTOME_TRIGLYCERIDE_BIOSYNTHESIS': ['AGPAT6', 'AGPAT5', 'ACSL1', 'AGPAT2', 'LPIN2', 'AGPAT1'], 'REACTOME_TRNA_AMINOACYLATION': ['YARS', 'PARS2', 'LARS', 'DARS2', 'IARS2', 'WARS', 'DARS', 'PPA1'], 'REACTOME_UNFOLDED_PROTEIN_RESPONSE': ['ATF4', 'NFYB', 'PREB', 'WIPI1', 'NFYA', 'WFS1', 'PDIA5', 'TATDN2', 'ATP6V0D1', 'EXOSC3', 'HERPUD1', 'EXOSC4', 'HYOU1', 'CXXC1'], 'REACTOME_VIF_MEDIATED_DEGRADATION_OF_APOBEC3G': ['TCEB2', 'PSMB7', 'PSMB2', 'PSMD7', 'PSMD13', 'PSME1', 'PSMA4', 'PSMB4', 'PSMC3'], 'SIG_BCR_SIGNALING_PATHWAY': ['LYN', 'PPP3CB', 'CD22', 'MAPK1', 'BAD', 'ITPR2', 'BTK', 'GRB2', 'PIK3CA'], 'SIG_CD40PATHWAYMAP': ['CD40', 'PIK3CA', 'MAPK8IP3', 'NFKBIL1', 'TRAF6', 'MAPK8'], 'SIG_CHEMOTAXIS': ['ROCK1', 'ARHGEF11', 'AKT2', 'PDK1', 'PIK3R5', 'CFL2', 'ACTR2'], 'SIG_INSULIN_RECEPTOR_PATHWAY_IN_CARDIAC_MYOCYTES': ['RPS6KA2', 'RAF1', 'GSK3A', 'BRD4', 'FLOT1', 'SERPINB6', 'AKT2', 'PTEN'], 'SIG_PIP3_SIGNALING_IN_B_LYMPHOCYTES': ['CD19', 'PIK3CA', 'ITPR3', 'CYTH3', 'PTPRC', 'FLOT1'], 'SIG_PIP3_SIGNALING_IN_CARDIAC_MYOCTES': ['CREB3', 'YWHAE', 'RPS6KB1', 'YWHAH', 'GSK3B', 'RPS6KA3', 'IFI27', 'BCL2L1', 'SOS2', 'INPPL1', 'PPP1R13B'], 'ST_B_CELL_ANTIGEN_RECEPTOR': ['MAP2K2', 'MAPK1', 'NFKBIB', 'RAF1', 'LYN', 'PPP1R13B', 'NFKB1'], 'ST_DIFFERENTIATION_PATHWAY_IN_PC12_CELLS': ['DAG1', 'RASGRF2', 'GNAQ', 'CREBBP', 'NTRK1', 'MAPK8IP2', 'PTPN11'], 'ST_ERK1_ERK2_MAPK_PATHWAY': ['DUSP4', 'KAT5', 'RPS6KA2', 'NFKB1', 'CREB1', 'RAP1A'], 'ST_FAS_SIGNALING_PATHWAY': ['PTPN13', 'MAPK9', 'ALG2', 'NFKB2', 'CSNK1A1', 'MAPK8', 'TUFM', 'BAK1', 'MAPK1', 'NFAT5', 'MAP3K5'], 'ST_GA13_PATHWAY': ['PLD3', 'BCL2', 'CDC42', 'NFKBIB', 'MAP3K5', 'NFKB2'], 'ST_INTEGRIN_SIGNALING_PATHWAY': ['P4HB', 'ARHGEF7', 'MAPK8IP3', 'AKT1', 'PAK6', 'MAPK8IP2', 'ROCK2', 'MAP2K4', 'TLN2', 'ITGB3BP', 'ARHGAP26', 'PTEN', 'ITGA4'], 'ST_JNK_MAPK_PATHWAY': ['MAPK8', 'GADD45A', 'MAP3K11', 'MAP3K7', 'MAP3K2', 'SHC1', 'GAB1'], 'ST_P38_MAPK_PATHWAY': ['ELK1', 'MAPK14', 'DUSP10', 'EEF2K', 'HSPB1', 'NFKB1', 'NR2C2'], 'ST_PHOSPHOINOSITIDE_3_KINASE_PATHWAY': ['INPP5D', 'IARS', 'BTK', 'PIK3CA', 'AKT1', 'PDK1'], 'ST_T_CELL_SIGNAL_TRANSDUCTION': ['RASGRP1', 'NFKBIE', 'NFKBIA', 'DTYMK', 'PAK6', 'CTLA4', 'GRB2', 'PAK2'], 'WNT_SIGNALING': ['HPRT1', 'TCF7L1', 'AES', 'CSNK2A1', 'DIXDC1', 'GSK3A', 'MYC', 'JUN', 'EP300', 'NLK', 'FZD5', 'AXIN1']}"
      ]
     },
     "execution_count": 62,
     "metadata": {},
     "output_type": "execute_result"
    }
   ],
   "source": [
    "heldOutGenes.groupby(\"pathway\")[\"gene\"].apply(lambda x: [_ for _ in x]).to_dict()"
   ]
  },
  {
   "cell_type": "code",
   "execution_count": 77,
   "id": "272a58fd-8d56-42a3-bc47-813d468a7605",
   "metadata": {},
   "outputs": [
    {
     "data": {
      "text/plain": [
       "(5892, 30)"
      ]
     },
     "execution_count": 77,
     "metadata": {},
     "output_type": "execute_result"
    }
   ],
   "source": [
    "Z.shape"
   ]
  },
  {
   "cell_type": "code",
   "execution_count": 81,
   "id": "50d46dfe-009e-4b3e-a45e-82fe962e4505",
   "metadata": {},
   "outputs": [],
   "source": [
    "plierRes = PLIERResults(\n",
    "    residual=residual,\n",
    "    B=B,\n",
    "    Z=Z,\n",
    "    U=U,\n",
    "    C=C,\n",
    "    L1=L1,\n",
    "    L2=L2,\n",
    "    L3=L3,\n",
    "    heldOutGenes=heldOutGenes.groupby(\"pathway\")[\"gene\"]\n",
    "    .apply(lambda x: [_ for _ in x])\n",
    "    .to_dict(),\n",
    ")"
   ]
  },
  {
   "cell_type": "code",
   "execution_count": 93,
   "id": "04f19f7c-2c11-40e9-9831-8966daebca69",
   "metadata": {},
   "outputs": [
    {
     "data": {
      "text/plain": [
       "True"
      ]
     },
     "execution_count": 93,
     "metadata": {},
     "output_type": "execute_result"
    }
   ],
   "source": [
    "plierRes.to_disk(\"/workspaces/pyplier/tests/data/crossVal/plierRes.json.gz\")"
   ]
  },
  {
   "cell_type": "code",
   "execution_count": 24,
   "id": "46c0e2e0-2bc8-4102-801d-16566bdb49a6",
   "metadata": {
    "tags": []
   },
   "outputs": [],
   "source": [
    "i = \"LV26\"\n",
    "j = pd.Index([\"DMAP_DENDA1\", \"REACTOME_GENERIC_TRANSCRIPTION_PATHWAY\"], dtype=\"object\")"
   ]
  },
  {
   "cell_type": "code",
   "execution_count": 25,
   "id": "8cbf2490-5b72-4bd1-b3be-0faa1b10a0f7",
   "metadata": {},
   "outputs": [],
   "source": [
    "iipath = plierRes.U.loc[(plierRes.U.loc[:, i] > 0), i].index"
   ]
  },
  {
   "cell_type": "code",
   "execution_count": 26,
   "id": "46ba566c-f13f-42c1-83c8-c919adb01c05",
   "metadata": {},
   "outputs": [
    {
     "data": {
      "text/plain": [
       "Index(['DMAP_DENDA1', 'REACTOME_GENERIC_TRANSCRIPTION_PATHWAY'], dtype='object')"
      ]
     },
     "execution_count": 26,
     "metadata": {},
     "output_type": "execute_result"
    }
   ],
   "source": [
    "iipath"
   ]
  },
  {
   "cell_type": "code",
   "execution_count": 27,
   "id": "5a4bda43-0a08-40a0-b3d9-5a0505a2b3fd",
   "metadata": {},
   "outputs": [
    {
     "name": "stdout",
     "output_type": "stream",
     "text": [
      "DMAP_DENDA1\n",
      "REACTOME_GENERIC_TRANSCRIPTION_PATHWAY\n"
     ]
    }
   ],
   "source": [
    "for j in iipath:\n",
    "    print(j)"
   ]
  },
  {
   "cell_type": "code",
   "execution_count": 28,
   "id": "5e1254d4-ce90-4809-9a16-0f9a795c65fd",
   "metadata": {},
   "outputs": [],
   "source": [
    "j = \"DMAP_DENDA1\""
   ]
  },
  {
   "cell_type": "code",
   "execution_count": 33,
   "id": "e7549fb0-54be-4785-8889-c56fcb0a9103",
   "metadata": {},
   "outputs": [
    {
     "data": {
      "text/plain": [
       "Index(['GAS6', 'MMP14', 'MARCKSL1', 'SPARC', 'CTSD', 'EPAS1', 'PALLD', 'PHC2',\n",
       "       'LGALS3BP', 'SERPING1',\n",
       "       ...\n",
       "       'LDHA', 'LDHB', 'ACAP1', 'ACAP2', 'ACAP3', 'CFL2', 'CFL1', 'SELL',\n",
       "       'GNGT2', 'SERPINH1'],\n",
       "      dtype='object', name='gene', length=5892)"
      ]
     },
     "execution_count": 33,
     "metadata": {},
     "output_type": "execute_result"
    }
   ],
   "source": [
    "pd.concat([priorMat.loc[:, j], priorMatcv.loc[:, j]], axis=1).dropna().index"
   ]
  },
  {
   "cell_type": "code",
   "execution_count": 18,
   "id": "844cf0e5-232c-4727-a387-9a6de43a955d",
   "metadata": {},
   "outputs": [
    {
     "name": "stderr",
     "output_type": "stream",
     "text": [
      "  0%|          | 0/21 [00:00<?, ?it/s]\n",
      "  0%|          | 0/4 [00:00<?, ?it/s]\u001b[A\n",
      " 25%|##5       | 1/4 [00:00<00:00,  4.66it/s]\u001b[A\n",
      " 50%|#####     | 2/4 [00:00<00:00,  4.47it/s]\u001b[A\n",
      " 75%|#######5  | 3/4 [00:00<00:00,  5.42it/s]\u001b[A\n",
      "100%|##########| 4/4 [00:00<00:00,  5.49it/s]\u001b[A\n"
     ]
    },
    {
     "name": "stdout",
     "output_type": "stream",
     "text": [
      "j: Index(['IRIS_Monocyte-Day0', 'IRIS_Neutrophil-Resting', 'DMAP_MONO1',\n",
      "       'PID_IL6_7PATHWAY'],\n",
      "      dtype='object')\n",
      "i: LV2\n"
     ]
    },
    {
     "name": "stderr",
     "output_type": "stream",
     "text": [
      " 10%|9         | 2/21 [00:22<03:31, 11.14s/it]\n",
      "  0%|          | 0/2 [00:00<?, ?it/s]\u001b[A\n",
      " 50%|#####     | 1/2 [00:00<00:00,  5.69it/s]\u001b[A\n",
      "100%|##########| 2/2 [00:00<00:00,  5.44it/s]\u001b[A\n"
     ]
    },
    {
     "name": "stdout",
     "output_type": "stream",
     "text": [
      "j: Index(['REACTOME_PROCESSING_OF_CAPPED_INTRON_CONTAINING_PRE_MRNA', 'MIPS_SPLICEOSOME'], dtype='object')\n",
      "i: LV3\n"
     ]
    },
    {
     "name": "stderr",
     "output_type": "stream",
     "text": [
      " 14%|#4        | 3/21 [00:40<04:11, 13.97s/it]\n",
      "  0%|          | 0/2 [00:00<?, ?it/s]\u001b[A\n",
      " 50%|#####     | 1/2 [00:00<00:00,  4.40it/s]\u001b[A\n",
      "100%|##########| 2/2 [00:00<00:00,  5.48it/s]\u001b[A\n"
     ]
    },
    {
     "name": "stdout",
     "output_type": "stream",
     "text": [
      "j: Index(['REACTOME_GENERIC_TRANSCRIPTION_PATHWAY', 'REACTOME_SIGNALING_BY_RHO_GTPASES'], dtype='object')\n",
      "i: LV4\n"
     ]
    },
    {
     "name": "stderr",
     "output_type": "stream",
     "text": [
      " 19%|#9        | 4/21 [01:00<04:39, 16.42s/it]\n",
      "  0%|          | 0/4 [00:00<?, ?it/s]\u001b[A\n",
      " 25%|##5       | 1/4 [00:00<00:00,  5.15it/s]\u001b[A\n",
      " 50%|#####     | 2/4 [00:00<00:00,  5.39it/s]\u001b[A\n",
      " 75%|#######5  | 3/4 [00:00<00:00,  6.19it/s]\u001b[A\n",
      "100%|##########| 4/4 [00:00<00:00,  6.09it/s]\u001b[A\n"
     ]
    },
    {
     "name": "stdout",
     "output_type": "stream",
     "text": [
      "j: Index(['IRIS_DendriticCell-LPSstimulated', 'IRIS_Monocyte-Day0', 'DMAP_MONO1',\n",
      "       'KEGG_LYSOSOME'],\n",
      "      dtype='object')\n",
      "i: LV5\n"
     ]
    },
    {
     "name": "stderr",
     "output_type": "stream",
     "text": [
      " 24%|##3       | 5/21 [01:22<04:52, 18.30s/it]\n",
      "  0%|          | 0/3 [00:00<?, ?it/s]\u001b[A\n",
      " 33%|###3      | 1/3 [00:00<00:00,  8.24it/s]\u001b[A\n",
      " 67%|######6   | 2/3 [00:00<00:00,  7.96it/s]\u001b[A\n",
      "100%|##########| 3/3 [00:00<00:00,  8.00it/s]\u001b[A\n"
     ]
    },
    {
     "name": "stdout",
     "output_type": "stream",
     "text": [
      "j: Index(['IRIS_CD4Tcell-N0', 'DMAP_TCELLA2', 'DMAP_TCELLA6'], dtype='object')\n",
      "i: LV6\n"
     ]
    },
    {
     "name": "stderr",
     "output_type": "stream",
     "text": [
      " 29%|##8       | 6/21 [01:44<04:52, 19.49s/it]\n",
      "  0%|          | 0/3 [00:00<?, ?it/s]\u001b[A\n",
      " 33%|###3      | 1/3 [00:00<00:00,  5.68it/s]\u001b[A\n",
      " 67%|######6   | 2/3 [00:00<00:00,  4.66it/s]\u001b[A\n",
      "100%|##########| 3/3 [00:00<00:00,  5.10it/s]\u001b[A\n"
     ]
    },
    {
     "name": "stdout",
     "output_type": "stream",
     "text": [
      "j: Index(['REACTOME_PROCESSING_OF_CAPPED_INTRON_CONTAINING_PRE_MRNA',\n",
      "       'REACTOME_GENERIC_TRANSCRIPTION_PATHWAY', 'MIPS_SPLICEOSOME'],\n",
      "      dtype='object')\n",
      "i: LV7\n"
     ]
    },
    {
     "name": "stderr",
     "output_type": "stream",
     "text": [
      " 33%|###3      | 7/21 [02:07<04:50, 20.75s/it]\n",
      "  0%|          | 0/13 [00:00<?, ?it/s]\u001b[A\n",
      "  8%|7         | 1/13 [00:00<00:01,  8.36it/s]\u001b[A\n",
      " 15%|#5        | 2/13 [00:00<00:01,  8.54it/s]\u001b[A\n",
      " 23%|##3       | 3/13 [00:00<00:01,  7.73it/s]\u001b[A\n",
      " 31%|###       | 4/13 [00:00<00:01,  7.64it/s]\u001b[A\n",
      " 38%|###8      | 5/13 [00:00<00:01,  7.74it/s]\u001b[A\n",
      " 46%|####6     | 6/13 [00:00<00:01,  5.60it/s]\u001b[A\n",
      " 54%|#####3    | 7/13 [00:01<00:01,  5.84it/s]\u001b[A\n",
      " 62%|######1   | 8/13 [00:01<00:00,  6.44it/s]\u001b[A\n",
      " 69%|######9   | 9/13 [00:01<00:00,  6.94it/s]\u001b[A\n",
      " 77%|#######6  | 10/13 [00:01<00:00,  6.71it/s]\u001b[A\n",
      " 85%|########4 | 11/13 [00:01<00:00,  7.06it/s]\u001b[A\n",
      " 92%|#########2| 12/13 [00:01<00:00,  7.41it/s]\u001b[A\n",
      "100%|##########| 13/13 [00:01<00:00,  6.93it/s]\u001b[A\n"
     ]
    },
    {
     "name": "stdout",
     "output_type": "stream",
     "text": [
      "j: Index(['IRIS_CD4Tcell-Th1-restimulated48hour',\n",
      "       'IRIS_CD4Tcell-Th2-restimulated48hour',\n",
      "       'IRIS_PlasmaCell-FromBoneMarrow', 'IRIS_PlasmaCell-FromPBMC',\n",
      "       'DMAP_ERY2', 'DMAP_ERY3',\n",
      "       'REACTOME_POST_TRANSLATIONAL_PROTEIN_MODIFICATION',\n",
      "       'REACTOME_ACTIVATION_OF_CHAPERONE_GENES_BY_XBP1S',\n",
      "       'PID_AURORA_B_PATHWAY', 'REACTOME_TRANSLATION',\n",
      "       'REACTOME_ASSEMBLY_OF_THE_PRE_REPLICATIVE_COMPLEX', 'PID_PLK1_PATHWAY',\n",
      "       'REACTOME_ASPARAGINE_N_LINKED_GLYCOSYLATION'],\n",
      "      dtype='object')\n",
      "i: LV8\n"
     ]
    },
    {
     "name": "stderr",
     "output_type": "stream",
     "text": [
      " 38%|###8      | 8/21 [02:29<04:34, 21.13s/it]\n",
      "  0%|          | 0/5 [00:00<?, ?it/s]\u001b[A\n",
      " 20%|##        | 1/5 [00:00<00:00,  8.21it/s]\u001b[A\n",
      " 40%|####      | 2/5 [00:00<00:00,  8.31it/s]\u001b[A\n",
      " 60%|######    | 3/5 [00:00<00:00,  8.22it/s]\u001b[A\n",
      " 80%|########  | 4/5 [00:00<00:00,  8.07it/s]\u001b[A\n",
      "100%|##########| 5/5 [00:00<00:00,  8.16it/s]\u001b[A\n"
     ]
    },
    {
     "name": "stdout",
     "output_type": "stream",
     "text": [
      "j: Index(['IRIS_NKcell-IL15stimulated', 'IRIS_NKcell-IL2stimulated',\n",
      "       'IRIS_NKcell-control', 'DMAP_NKA2', 'DMAP_NKA3'],\n",
      "      dtype='object')\n",
      "i: LV9\n"
     ]
    },
    {
     "name": "stderr",
     "output_type": "stream",
     "text": [
      " 43%|####2     | 9/21 [02:51<04:15, 21.26s/it]\n",
      "  0%|          | 0/2 [00:00<?, ?it/s]\u001b[A\n",
      " 50%|#####     | 1/2 [00:00<00:00,  4.26it/s]\u001b[A\n",
      "100%|##########| 2/2 [00:00<00:00,  4.51it/s]\u001b[A\n"
     ]
    },
    {
     "name": "stdout",
     "output_type": "stream",
     "text": [
      "j: Index(['IRIS_Neutrophil-Resting', 'REACTOME_CYTOKINE_SIGNALING_IN_IMMUNE_SYSTEM'], dtype='object')\n",
      "i: LV10\n"
     ]
    },
    {
     "name": "stderr",
     "output_type": "stream",
     "text": [
      " 48%|####7     | 10/21 [03:10<03:47, 20.67s/it]\n",
      "  0%|          | 0/4 [00:00<?, ?it/s]\u001b[A\n",
      " 25%|##5       | 1/4 [00:00<00:00,  3.52it/s]\u001b[A\n",
      " 50%|#####     | 2/4 [00:00<00:00,  3.90it/s]\u001b[A\n",
      " 75%|#######5  | 3/4 [00:00<00:00,  4.00it/s]\u001b[A\n",
      "100%|##########| 4/4 [00:00<00:00,  4.38it/s]\u001b[A\n"
     ]
    },
    {
     "name": "stdout",
     "output_type": "stream",
     "text": [
      "j: Index(['DMAP_ERY3', 'DMAP_ERY4', 'DMAP_ERY5', 'DMAP_MEGA2'], dtype='object')\n",
      "i: LV11\n"
     ]
    },
    {
     "name": "stderr",
     "output_type": "stream",
     "text": [
      " 52%|#####2    | 11/21 [03:27<03:13, 19.34s/it]\n",
      "  0%|          | 0/4 [00:00<?, ?it/s]\u001b[A\n",
      " 25%|##5       | 1/4 [00:00<00:00,  7.32it/s]\u001b[A\n",
      " 50%|#####     | 2/4 [00:00<00:00,  7.50it/s]\u001b[A\n",
      " 75%|#######5  | 3/4 [00:00<00:00,  7.51it/s]\u001b[A\n",
      "100%|##########| 4/4 [00:00<00:00,  6.34it/s]\u001b[A\n"
     ]
    },
    {
     "name": "stdout",
     "output_type": "stream",
     "text": [
      "j: Index(['DMAP_NKA2', 'DMAP_TCELLA1', 'DMAP_TCELLA3',\n",
      "       'REACTOME_GENERIC_TRANSCRIPTION_PATHWAY'],\n",
      "      dtype='object')\n",
      "i: LV14\n"
     ]
    },
    {
     "name": "stderr",
     "output_type": "stream",
     "text": [
      " 57%|#####7    | 12/21 [03:47<02:56, 19.66s/it]\n",
      "  0%|          | 0/4 [00:00<?, ?it/s]\u001b[A\n",
      " 25%|##5       | 1/4 [00:00<00:00,  7.00it/s]\u001b[A\n",
      " 50%|#####     | 2/4 [00:00<00:00,  7.47it/s]\u001b[A\n",
      " 75%|#######5  | 3/4 [00:00<00:00,  7.57it/s]\u001b[A\n",
      "100%|##########| 4/4 [00:00<00:00,  7.52it/s]\u001b[A\n"
     ]
    },
    {
     "name": "stdout",
     "output_type": "stream",
     "text": [
      "j: Index(['IRIS_Bcell-Memory_IgG_IgA', 'IRIS_Bcell-Memory_IgM',\n",
      "       'IRIS_Bcell-naive', 'DMAP_BCELLA1'],\n",
      "      dtype='object')\n",
      "i: LV15\n"
     ]
    },
    {
     "name": "stderr",
     "output_type": "stream",
     "text": [
      " 62%|######1   | 13/21 [04:06<02:36, 19.53s/it]\n",
      "  0%|          | 0/2 [00:00<?, ?it/s]\u001b[A\n",
      " 50%|#####     | 1/2 [00:00<00:00,  4.17it/s]\u001b[A\n",
      "100%|##########| 2/2 [00:00<00:00,  4.30it/s]\u001b[A\n"
     ]
    },
    {
     "name": "stdout",
     "output_type": "stream",
     "text": [
      "j: Index(['IRIS_Neutrophil-Resting', 'REACTOME_GENERIC_TRANSCRIPTION_PATHWAY'], dtype='object')\n",
      "i: LV18\n"
     ]
    },
    {
     "name": "stderr",
     "output_type": "stream",
     "text": [
      " 67%|######6   | 14/21 [04:26<02:17, 19.68s/it]\n",
      "  0%|          | 0/7 [00:00<?, ?it/s]\u001b[A\n",
      " 14%|#4        | 1/7 [00:00<00:01,  4.64it/s]\u001b[A\n",
      " 29%|##8       | 2/7 [00:00<00:00,  6.22it/s]\u001b[A\n",
      " 43%|####2     | 3/7 [00:00<00:00,  6.76it/s]\u001b[A\n",
      " 57%|#####7    | 4/7 [00:00<00:00,  7.18it/s]\u001b[A\n",
      " 71%|#######1  | 5/7 [00:00<00:00,  6.84it/s]\u001b[A\n",
      " 86%|########5 | 6/7 [00:00<00:00,  7.07it/s]\u001b[A\n",
      "100%|##########| 7/7 [00:01<00:00,  6.97it/s]\u001b[A\n"
     ]
    },
    {
     "name": "stdout",
     "output_type": "stream",
     "text": [
      "j: Index(['IRIS_DendriticCell-LPSstimulated', 'DMAP_MEGA2',\n",
      "       'KEGG_VASCULAR_SMOOTH_MUSCLE_CONTRACTION',\n",
      "       'KEGG_ECM_RECEPTOR_INTERACTION', 'KEGG_PURINE_METABOLISM',\n",
      "       'REACTOME_RESPONSE_TO_ELEVATED_PLATELET_CYTOSOLIC_CA2_',\n",
      "       'REACTOME_MUSCLE_CONTRACTION'],\n",
      "      dtype='object')\n",
      "i: LV20\n"
     ]
    },
    {
     "name": "stderr",
     "output_type": "stream",
     "text": [
      " 71%|#######1  | 15/21 [04:46<01:58, 19.77s/it]\n",
      "  0%|          | 0/12 [00:00<?, ?it/s]\u001b[A\n",
      "  8%|8         | 1/12 [00:00<00:01,  5.78it/s]\u001b[A\n",
      " 17%|#6        | 2/12 [00:00<00:01,  6.37it/s]\u001b[A\n",
      " 25%|##5       | 3/12 [00:00<00:01,  7.13it/s]\u001b[A\n",
      " 33%|###3      | 4/12 [00:00<00:01,  6.91it/s]\u001b[A\n",
      " 42%|####1     | 5/12 [00:00<00:00,  7.35it/s]\u001b[A\n",
      " 50%|#####     | 6/12 [00:00<00:00,  7.40it/s]\u001b[A\n",
      " 58%|#####8    | 7/12 [00:00<00:00,  7.16it/s]\u001b[A\n",
      " 67%|######6   | 8/12 [00:01<00:00,  6.83it/s]\u001b[A\n",
      " 75%|#######5  | 9/12 [00:01<00:00,  7.20it/s]\u001b[A\n",
      " 83%|########3 | 10/12 [00:01<00:00,  7.38it/s]\u001b[A\n",
      " 92%|#########1| 11/12 [00:01<00:00,  7.47it/s]\u001b[A\n",
      "100%|##########| 12/12 [00:01<00:00,  7.10it/s]\u001b[A\n"
     ]
    },
    {
     "name": "stdout",
     "output_type": "stream",
     "text": [
      "j: Index(['REACTOME_METABOLISM_OF_AMINO_ACIDS_AND_DERIVATIVES',\n",
      "       'KEGG_OXIDATIVE_PHOSPHORYLATION', 'KEGG_PROTEASOME',\n",
      "       'KEGG_PURINE_METABOLISM',\n",
      "       'REACTOME_REGULATION_OF_ORNITHINE_DECARBOXYLASE_ODC',\n",
      "       'REACTOME_RESPIRATORY_ELECTRON_TRANSPORT_ATP_SYNTHESIS_BY_CHEMIOSMOTIC_COUPLING_AND_HEAT_PRODUCTION_BY_UNCOUPLING_PROTEINS_',\n",
      "       'KEGG_PARKINSONS_DISEASE', 'MIPS_SPLICEOSOME',\n",
      "       'MIPS_39S_RIBOSOMAL_SUBUNIT_MITOCHONDRIAL',\n",
      "       'REACTOME_ANTIGEN_PROCESSING_CROSS_PRESENTATION',\n",
      "       'MIPS_55S_RIBOSOME_MITOCHONDRIAL', 'KEGG_SPLICEOSOME'],\n",
      "      dtype='object')\n",
      "i: LV23\n"
     ]
    },
    {
     "name": "stderr",
     "output_type": "stream",
     "text": [
      " 76%|#######6  | 16/21 [05:08<01:41, 20.35s/it]\n",
      "  0%|          | 0/2 [00:00<?, ?it/s]\u001b[A\n",
      " 50%|#####     | 1/2 [00:00<00:00,  8.18it/s]\u001b[A\n",
      "100%|##########| 2/2 [00:00<00:00,  5.71it/s]\u001b[A\n"
     ]
    },
    {
     "name": "stdout",
     "output_type": "stream",
     "text": [
      "j: Index(['DMAP_DENDA1', 'REACTOME_GENERIC_TRANSCRIPTION_PATHWAY'], dtype='object')\n",
      "i: LV26\n"
     ]
    },
    {
     "name": "stderr",
     "output_type": "stream",
     "text": [
      " 86%|########5 | 18/21 [05:28<00:46, 15.51s/it]\n",
      "  0%|          | 0/4 [00:00<?, ?it/s]\u001b[A\n",
      " 25%|##5       | 1/4 [00:00<00:00,  5.09it/s]\u001b[A\n",
      " 50%|#####     | 2/4 [00:00<00:00,  5.00it/s]\u001b[A\n",
      " 75%|#######5  | 3/4 [00:00<00:00,  5.51it/s]\u001b[A\n",
      "100%|##########| 4/4 [00:00<00:00,  5.90it/s]\u001b[A\n"
     ]
    },
    {
     "name": "stdout",
     "output_type": "stream",
     "text": [
      "j: Index(['IRIS_DendriticCell-LPSstimulated',\n",
      "       'REACTOME_CYTOKINE_SIGNALING_IN_IMMUNE_SYSTEM',\n",
      "       'REACTOME_INTERFERON_SIGNALING',\n",
      "       'REACTOME_INTERFERON_ALPHA_BETA_SIGNALING'],\n",
      "      dtype='object')\n",
      "i: LV27\n"
     ]
    },
    {
     "name": "stderr",
     "output_type": "stream",
     "text": [
      " 90%|######### | 19/21 [05:47<00:32, 16.40s/it]\n",
      "  0%|          | 0/12 [00:00<?, ?it/s]\u001b[A\n",
      "  8%|8         | 1/12 [00:00<00:01,  7.09it/s]\u001b[A\n",
      " 17%|#6        | 2/12 [00:00<00:01,  7.74it/s]\u001b[A\n",
      " 25%|##5       | 3/12 [00:00<00:01,  7.53it/s]\u001b[A\n",
      " 33%|###3      | 4/12 [00:00<00:01,  6.86it/s]\u001b[A\n",
      " 42%|####1     | 5/12 [00:00<00:00,  7.33it/s]\u001b[A\n",
      " 50%|#####     | 6/12 [00:00<00:00,  7.18it/s]\u001b[A\n",
      " 58%|#####8    | 7/12 [00:00<00:00,  7.25it/s]\u001b[A\n",
      " 67%|######6   | 8/12 [00:01<00:00,  7.18it/s]\u001b[A\n",
      " 75%|#######5  | 9/12 [00:01<00:00,  6.83it/s]\u001b[A\n",
      " 83%|########3 | 10/12 [00:01<00:00,  6.61it/s]\u001b[A\n",
      " 92%|#########1| 11/12 [00:01<00:00,  6.68it/s]\u001b[A\n",
      "100%|##########| 12/12 [00:01<00:00,  7.02it/s]\u001b[A\n"
     ]
    },
    {
     "name": "stdout",
     "output_type": "stream",
     "text": [
      "j: Index(['DMAP_TCELLA2', 'REACTOME_MITOCHONDRIAL_PROTEIN_IMPORT',\n",
      "       'REACTOME_PEPTIDE_CHAIN_ELONGATION',\n",
      "       'REACTOME_PROCESSING_OF_CAPPED_INTRON_CONTAINING_PRE_MRNA',\n",
      "       'REACTOME_FORMATION_OF_THE_TERNARY_COMPLEX_AND_SUBSEQUENTLY_THE_43S_COMPLEX',\n",
      "       'MIPS_NOP56P_ASSOCIATED_PRE_RRNA_COMPLEX',\n",
      "       'REACTOME_RESPIRATORY_ELECTRON_TRANSPORT_ATP_SYNTHESIS_BY_CHEMIOSMOTIC_COUPLING_AND_HEAT_PRODUCTION_BY_UNCOUPLING_PROTEINS_',\n",
      "       'KEGG_PARKINSONS_DISEASE', 'MIPS_SPLICEOSOME', 'REACTOME_TRANSLATION',\n",
      "       'REACTOME_SRP_DEPENDENT_COTRANSLATIONAL_PROTEIN_TARGETING_TO_MEMBRANE',\n",
      "       'MIPS_55S_RIBOSOME_MITOCHONDRIAL'],\n",
      "      dtype='object')\n",
      "i: LV30\n"
     ]
    },
    {
     "name": "stderr",
     "output_type": "stream",
     "text": [
      "100%|##########| 21/21 [06:09<00:00, 17.61s/it]\n"
     ]
    }
   ],
   "source": [
    "for j in tqdm(iipath):\n",
    "    iiheldout = (\n",
    "        pd.concat([priorMat.loc[:, j], priorMatcv.loc[:, j]], axis=1)\n",
    "        .apply(\n",
    "            lambda x: True\n",
    "            if (x[0] == 0) or ((x[0] > 0) and (x[1] == 0))\n",
    "            else np.nan,  # use np.nan instead of False so that we can drop entries in the chain\n",
    "            axis=1,\n",
    "        )\n",
    "        .dropna()\n",
    "        .index\n",
    "    )\n",
    "    aucres = AUC(priorMat.loc[iiheldout, j], plierRes.Z.loc[iiheldout, i])\n",
    "    out_dict[j] = {\n",
    "        \"pathway\": j,\n",
    "        \"LV index\": i,\n",
    "        \"AUC\": aucres[\"auc\"],\n",
    "        \"p-value\": aucres[\"pval\"],\n",
    "    }\n",
    "    Uauc.loc[j, i] = aucres[\"auc\"]\n",
    "    Up.loc[j, i] = aucres[\"pval\"]"
   ]
  }
 ],
 "metadata": {
  "kernelspec": {
   "display_name": "Python 3.8 (XPython Raw)",
   "language": "python",
   "name": "xpython-raw"
  },
  "language_info": {
   "file_extension": ".py",
   "mimetype": "text/x-python",
   "name": "python",
   "version": "3.8.12"
  }
 },
 "nbformat": 4,
 "nbformat_minor": 5
}
