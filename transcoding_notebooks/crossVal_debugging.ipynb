{
 "cells": [
  {
   "cell_type": "code",
   "execution_count": 1,
   "id": "b73582df-7141-47d6-8b72-f204925beb32",
   "metadata": {},
   "outputs": [],
   "source": [
    "from typing import Dict\n",
    "\n",
    "import numpy as np\n",
    "import pandas as pd\n",
    "from statsmodels.stats.multitest import multipletests\n",
    "from tqdm.auto import tqdm\n",
    "\n",
    "from pyplier.AUC import AUC\n",
    "from pyplier.copyMat import copyMat\n",
    "from pyplier.PLIERRes import PLIERResults\n",
    "from pathlib import Path"
   ]
  },
  {
   "cell_type": "code",
   "execution_count": 2,
   "id": "41fa4620-2837-43b0-a95f-1d6cf6865de7",
   "metadata": {},
   "outputs": [],
   "source": [
    "data_dir = Path(\"/workspaces/pyplier/\")\n",
    "plierRes = PLIERResults.from_disk(loc=data_dir / \"crossval_plierres.json\")\n",
    "\n",
    "priorMat = pd.read_csv(data_dir / \"crossval_priormat.csv\")\n",
    "priorMatcv = pd.read_csv(data_dir / \"crossval_priormatcv.csv\")"
   ]
  },
  {
   "cell_type": "code",
   "execution_count": 3,
   "id": "91c7b48b-0b00-4922-bad4-3fb25bf7dbf5",
   "metadata": {},
   "outputs": [],
   "source": [
    "out = pd.DataFrame(\n",
    "        data=np.empty(shape=(0, 4)), columns=[\"pathway\", \"LV index\", \"AUC\", \"p-value\"]\n",
    "    )\n",
    "out_dict = dict()\n",
    "ii = plierRes.U.loc[:, plierRes.U.sum(axis=0) > 0].columns\n",
    "Uauc = copyMat(df=plierRes.U, zero=True)\n",
    "Up = pd.DataFrame(np.ones(shape=plierRes.U.shape))"
   ]
  },
  {
   "cell_type": "code",
   "execution_count": 5,
   "id": "9a08d1d9-2bf2-4a77-86d9-1172e695d150",
   "metadata": {},
   "outputs": [
    {
     "data": {
      "text/plain": [
       "Index(['LV1', 'LV2', 'LV3', 'LV4', 'LV5', 'LV7', 'LV8', 'LV10', 'LV12', 'LV14',\n",
       "       'LV15', 'LV16', 'LV18', 'LV20', 'LV23', 'LV24', 'LV25', 'LV27', 'LV28',\n",
       "       'LV29', 'LV30'],\n",
       "      dtype='object')"
      ]
     },
     "execution_count": 5,
     "metadata": {},
     "output_type": "execute_result"
    }
   ],
   "source": [
    "ii"
   ]
  },
  {
   "cell_type": "code",
   "execution_count": 6,
   "id": "b499759b-cd9c-47a4-8e54-b023023c4952",
   "metadata": {},
   "outputs": [],
   "source": [
    "i = 'LV1'\n",
    "iipath = plierRes.U.loc[(plierRes.U.loc[:, i] > 0), i].index"
   ]
  },
  {
   "cell_type": "code",
   "execution_count": 7,
   "id": "c960ecfd-c280-4e91-8f04-2e20fb0c97c6",
   "metadata": {},
   "outputs": [
    {
     "data": {
      "text/plain": [
       "Index(['REACTOME_IMMUNE_SYSTEM', 'KEGG_PATHWAYS_IN_CANCER',\n",
       "       'REACTOME_SIGNALLING_BY_NGF',\n",
       "       'REACTOME_TRANSMEMBRANE_TRANSPORT_OF_SMALL_MOLECULES'],\n",
       "      dtype='object')"
      ]
     },
     "execution_count": 7,
     "metadata": {},
     "output_type": "execute_result"
    }
   ],
   "source": [
    "iipath"
   ]
  },
  {
   "cell_type": "code",
   "execution_count": 9,
   "id": "a177c6e6-952a-4182-863a-f6d373b33fb8",
   "metadata": {},
   "outputs": [
    {
     "data": {
      "text/plain": [
       "'REACTOME_IMMUNE_SYSTEM'"
      ]
     },
     "execution_count": 9,
     "metadata": {},
     "output_type": "execute_result"
    }
   ],
   "source": [
    "iipath[0]"
   ]
  },
  {
   "cell_type": "code",
   "execution_count": 11,
   "id": "ef529b72-aded-4429-9f09-6a50f29591a7",
   "metadata": {},
   "outputs": [],
   "source": [
    "# for j in tqdm(iipath):\n",
    "iiheldout = (\n",
    "    pd.concat([priorMat.loc[:, j], priorMatcv.loc[:, j]], axis=1)\n",
    "    .apply(\n",
    "        lambda x: True\n",
    "        if (x[0] == 0) or ((x[0] > 0) and (x[1] == 0))\n",
    "        else np.nan,  # use np.nan instead of False so that we can drop entries in the chain\n",
    "        axis=1,\n",
    "    )\n",
    "    .dropna()\n",
    "    .index\n",
    ")"
   ]
  },
  {
   "cell_type": "code",
   "execution_count": 20,
   "id": "fab0f256-7c0c-4d05-9f96-2afe29ceec79",
   "metadata": {},
   "outputs": [
    {
     "data": {
      "text/plain": [
       "'LV1'"
      ]
     },
     "execution_count": 20,
     "metadata": {},
     "output_type": "execute_result"
    }
   ],
   "source": [
    "i"
   ]
  },
  {
   "cell_type": "code",
   "execution_count": 19,
   "id": "63839c98-304d-45c4-b356-e837f6a535b0",
   "metadata": {},
   "outputs": [
    {
     "ename": "IndexError",
     "evalue": "positional indexers are out-of-bounds",
     "output_type": "error",
     "traceback": [
      "\u001b[0;31m---------------------------------------------------------------------------\u001b[0m\n\u001b[0;31mIndexError\u001b[0m                                Traceback (most recent call last)",
      "In  \u001b[0;34m[19]\u001b[0m:\nLine \u001b[0;34m1\u001b[0m:     \n",
      "File \u001b[0;34m/workspaces/pyplier/src/pyplier/AUC.py\u001b[0m, in \u001b[0;32mAUC\u001b[0m:\nLine \u001b[0;34m14\u001b[0m:    negval = values[negii.index]\n",
      "File \u001b[0;34m/home/vscode/.cache/pypoetry/virtualenvs/pyplier-3Y0kqMGe-py3.8/lib/python3.8/site-packages/pandas/core/series.py\u001b[0m, in \u001b[0;32m__getitem__\u001b[0m:\nLine \u001b[0;34m985\u001b[0m:   \u001b[34mreturn\u001b[39;49;00m \u001b[36mself\u001b[39;49;00m._get_with(key)\n",
      "File \u001b[0;34m/home/vscode/.cache/pypoetry/virtualenvs/pyplier-3Y0kqMGe-py3.8/lib/python3.8/site-packages/pandas/core/series.py\u001b[0m, in \u001b[0;32m_get_with\u001b[0m:\nLine \u001b[0;34m1022\u001b[0m:  \u001b[34mreturn\u001b[39;49;00m \u001b[36mself\u001b[39;49;00m.iloc[key]\n",
      "File \u001b[0;34m/home/vscode/.cache/pypoetry/virtualenvs/pyplier-3Y0kqMGe-py3.8/lib/python3.8/site-packages/pandas/core/indexing.py\u001b[0m, in \u001b[0;32m__getitem__\u001b[0m:\nLine \u001b[0;34m967\u001b[0m:   \u001b[34mreturn\u001b[39;49;00m \u001b[36mself\u001b[39;49;00m._getitem_axis(maybe_callable, axis=axis)\n",
      "File \u001b[0;34m/home/vscode/.cache/pypoetry/virtualenvs/pyplier-3Y0kqMGe-py3.8/lib/python3.8/site-packages/pandas/core/indexing.py\u001b[0m, in \u001b[0;32m_getitem_axis\u001b[0m:\nLine \u001b[0;34m1511\u001b[0m:  \u001b[34mreturn\u001b[39;49;00m \u001b[36mself\u001b[39;49;00m._get_list_axis(key, axis=axis)\n",
      "File \u001b[0;34m/home/vscode/.cache/pypoetry/virtualenvs/pyplier-3Y0kqMGe-py3.8/lib/python3.8/site-packages/pandas/core/indexing.py\u001b[0m, in \u001b[0;32m_get_list_axis\u001b[0m:\nLine \u001b[0;34m1485\u001b[0m:  \u001b[34mraise\u001b[39;49;00m \u001b[36mIndexError\u001b[39;49;00m(\u001b[33m\"\u001b[39;49;00m\u001b[33mpositional indexers are out-of-bounds\u001b[39;49;00m\u001b[33m\"\u001b[39;49;00m) \u001b[34mfrom\u001b[39;49;00m \u001b[04m\u001b[36merr\u001b[39;49;00m\n",
      "\u001b[0;31mIndexError\u001b[0m: positional indexers are out-of-bounds\n\u001b[0;31m---------------------------------------------------------------------------\u001b[0m"
     ]
    }
   ],
   "source": [
    "aucres = AUC(\n",
    "    priorMat.loc[iiheldout, j], plierRes.Z.loc[plierRes.Z.index[iiheldout], i]\n",
    ")"
   ]
  },
  {
   "cell_type": "code",
   "execution_count": 23,
   "id": "a2d0ac87-c8a2-412d-83c5-17f3d7356399",
   "metadata": {},
   "outputs": [],
   "source": [
    "from typing import Dict, Tuple\n",
    "\n",
    "import numpy as np\n",
    "import pandas as pd\n",
    "from scipy.stats import mannwhitneyu, norm"
   ]
  },
  {
   "cell_type": "code",
   "execution_count": 24,
   "id": "d3305bbc-a48d-43fc-ae17-8bc26329f30b",
   "metadata": {},
   "outputs": [],
   "source": [
    "# def AUC(labels: pd.Series, values: pd.Series) -> Dict[str, float]:\n",
    "labels = priorMat.loc[iiheldout, j]\n",
    "values = plierRes.Z.loc[plierRes.Z.index[iiheldout], i]"
   ]
  },
  {
   "cell_type": "code",
   "execution_count": 26,
   "id": "bf9bf4db-f764-4788-a9f5-568b0d4da960",
   "metadata": {},
   "outputs": [],
   "source": [
    "posii = labels[labels > 0]\n",
    "negii = labels[labels <= 0]"
   ]
  },
  {
   "cell_type": "code",
   "execution_count": 27,
   "id": "06aad740-1732-4ac3-9873-b063df8682db",
   "metadata": {},
   "outputs": [],
   "source": [
    "posn = len(posii)\n",
    "negn = len(negii)"
   ]
  },
  {
   "cell_type": "code",
   "execution_count": 28,
   "id": "b738d367-9a9a-4378-b7ff-92391d5d2491",
   "metadata": {},
   "outputs": [
    {
     "data": {
      "text/plain": [
       "Int64Index([], dtype='int64')"
      ]
     },
     "execution_count": 28,
     "metadata": {},
     "output_type": "execute_result"
    }
   ],
   "source": [
    "posii.index"
   ]
  },
  {
   "cell_type": "code",
   "execution_count": null,
   "id": "24c13253-a567-4567-8489-1730fa1ce542",
   "metadata": {},
   "outputs": [],
   "source": [
    "posval = values[posii.index]\n",
    "negval = values[negii.index]"
   ]
  },
  {
   "cell_type": "code",
   "execution_count": null,
   "id": "c9d62c40-cb70-4672-acdc-bda9e6095c4c",
   "metadata": {},
   "outputs": [],
   "source": [
    "if posn > 0 and negn > 0:\n",
    "    statistic, pvalue = mannwhitneyu(posval, negval, alternative=\"greater\")\n",
    "    conf_int_low, conf_int_high = mannwhitneyu_conf_int(posval, negval)\n",
    "    res = {\n",
    "        \"low\": conf_int_low,\n",
    "        \"high\": conf_int_high,\n",
    "        \"auc\": (statistic / (posn * negn)),\n",
    "        \"pval\": pvalue,\n",
    "    }\n",
    "else:\n",
    "    res = {\"auc\": 0.5, \"pval\": np.nan}\n",
    "\n",
    "return res"
   ]
  },
  {
   "cell_type": "code",
   "execution_count": null,
   "id": "5f66ee4c-6106-4bc6-ad34-098e07b440c4",
   "metadata": {},
   "outputs": [],
   "source": [
    "out_dict[j] = {\n",
    "    \"pathway\": j,\n",
    "    \"LV index\": i,\n",
    "    \"AUC\": aucres[\"auc\"],\n",
    "    \"p-value\": aucres[\"pval\"],\n",
    "}\n",
    "Uauc.loc[j, i] = aucres[\"auc\"]\n",
    "Up.loc[j, i] = aucres[\"pval\"]"
   ]
  },
  {
   "cell_type": "code",
   "execution_count": 8,
   "id": "facc1417-6681-4e74-80de-d76901de14d5",
   "metadata": {},
   "outputs": [
    {
     "ename": "IndentationError",
     "evalue": "unexpected indent (<string>, line 4)",
     "output_type": "error",
     "traceback": [
      "\u001b[0;31m---------------------------------------------------------------------------\u001b[0m\n\u001b[0;31mIndentationError\u001b[0m                          Traceback (most recent call last)",
      "File \u001b[0;34m/usr/local/lib/python3.8/ast.py\u001b[0m, in \u001b[0;32mparse\u001b[0m:\nLine \u001b[0;34m47\u001b[0m:    \u001b[34mreturn\u001b[39;49;00m \u001b[36mcompile\u001b[39;49;00m(source, filename, mode, flags,\n",
      "\u001b[0;31mIndentationError\u001b[0m: unexpected indent (<string>, line 4)\n\u001b[0;31m---------------------------------------------------------------------------\u001b[0m"
     ]
    }
   ],
   "source": [
    "for i in tqdm(ii):\n",
    "    iipath = plierRes.U.loc[(plierRes.U.loc[:, i] > 0), i].index\n",
    "    if len(iipath) > 1:\n",
    "        for j in tqdm(iipath):\n",
    "            iiheldout = (\n",
    "                pd.concat([priorMat.loc[:, j], priorMatcv.loc[:, j]], axis=1)\n",
    "                .apply(\n",
    "                    lambda x: True\n",
    "                    if (x[0] == 0) or ((x[0] > 0) and (x[1] == 0))\n",
    "                    else np.nan,  # use np.nan instead of False so that we can drop entries in the chain\n",
    "                    axis=1,\n",
    "                )\n",
    "                .dropna()\n",
    "                .index\n",
    "            )\n",
    "            aucres = AUC(\n",
    "                priorMat.loc[iiheldout, j], plierRes.Z.loc[iiheldout, i]\n",
    "            )\n",
    "            out_dict[j] = {\n",
    "                \"pathway\": j,\n",
    "                \"LV index\": i,\n",
    "                \"AUC\": aucres[\"auc\"],\n",
    "                \"p-value\": aucres[\"pval\"],\n",
    "            }\n",
    "            Uauc.loc[j, i] = aucres[\"auc\"]\n",
    "            Up.loc[j, i] = aucres[\"pval\"]\n",
    "\n",
    "    else:\n",
    "        j = iipath\n",
    "        iiheldout = (\n",
    "            pd.concat([priorMat.loc[:, j], priorMatcv.loc[:, j]], axis=1)\n",
    "            .apply(\n",
    "                lambda x: True\n",
    "                if (x[0] == 0) or ((x[0] > 0) and (x[1] == 0))\n",
    "                else np.nan,\n",
    "                axis=1,\n",
    "            )\n",
    "            .dropna()\n",
    "            .index\n",
    "        )\n",
    "        aucres = AUC(priorMat.loc[iiheldout, j], plierRes.Z.loc[iiheldout, i])\n",
    "        out_dict[j] = {\n",
    "            \"pathway\": j,\n",
    "            \"LV index\": i,\n",
    "            \"AUC\": aucres[\"auc\"],\n",
    "            \"p-value\": aucres[\"pval\"],\n",
    "        }\n",
    "        Uauc.loc[j, i] = aucres[\"auc\"]\n",
    "        Up.loc[j, i] = aucres[\"pval\"]\n",
    "out = pd.DataFrame.from_dict(out_dict, orient=\"index\")\n",
    "_, fdr, *_ = multipletests(out.loc[:, \"p-value\"], method=\"fdr_bh\")\n",
    "out.loc[:, \"fdr\"] = fdr\n",
    "return {\"Uauc\": Uauc, \"Upval\": Up, \"summary\": out}\n"
   ]
  },
  {
   "cell_type": "code",
   "execution_count": null,
   "id": "12459b0b-338d-4578-b663-3e1414fa7ee5",
   "metadata": {},
   "outputs": [],
   "source": []
  }
 ],
 "metadata": {
  "kernelspec": {
   "display_name": "Python 3.8 (XPython Raw)",
   "language": "python",
   "name": "xpython-raw"
  },
  "language_info": {
   "file_extension": ".py",
   "mimetype": "text/x-python",
   "name": "python",
   "version": "3.8.12"
  }
 },
 "nbformat": 4,
 "nbformat_minor": 5
}
