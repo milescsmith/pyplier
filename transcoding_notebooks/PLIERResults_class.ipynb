{
 "cells": [
  {
   "cell_type": "code",
   "execution_count": 1,
   "id": "e633a8a2-7d17-40ac-9dc0-0343eda07757",
   "metadata": {},
   "outputs": [],
   "source": [
    "from dataclasses import dataclass\n",
    "from typing import Dict, List, Union\n",
    "import numpy as np\n",
    "import pandas as pd\n",
    "from collections import defaultdict\n",
    "from pathlib import Path\n",
    "import gzip\n",
    "import joblib\n",
    "import json"
   ]
  },
  {
   "cell_type": "code",
   "execution_count": 11,
   "id": "1b57a305-2dcd-487a-8997-25bd11ea38a5",
   "metadata": {},
   "outputs": [],
   "source": [
    "class PLIERResults(object):\n",
    "    def __init__(\n",
    "        self,\n",
    "        B: pd.DataFrame = pd.DataFrame(),\n",
    "        Z: pd.DataFrame = pd.DataFrame(),\n",
    "        U: pd.DataFrame = pd.DataFrame(),\n",
    "        C: pd.DataFrame = pd.DataFrame(),\n",
    "        L1: float = 0.0,\n",
    "        L2: float = 0.0,\n",
    "        L3: float = 0.0,\n",
    "        heldOutGenes: Dict[str, List[str]] = defaultdict(list),\n",
    "        withPrior: Dict[str, int] = defaultdict(int),\n",
    "        Uauc: pd.DataFrame = pd.DataFrame(),\n",
    "        Up: pd.DataFrame = pd.DataFrame(),\n",
    "        summary: pd.DataFrame = pd.DataFrame(),\n",
    "        residual: pd.DataFrame = pd.DataFrame(),\n",
    "    ):\n",
    "        self.residual = residual\n",
    "        self.B = B\n",
    "        self.Z = Z\n",
    "        self.U = U\n",
    "        self.C = C\n",
    "        self.L1 = L1\n",
    "        self.L2 = L2\n",
    "        self.L3 = L3\n",
    "        self.heldOutGenes = heldOutGenes\n",
    "        self.withPrior = withPrior\n",
    "        self.Uauc = Uauc\n",
    "        self.Up = Up\n",
    "        self.summary = summary\n",
    "\n",
    "    def __repr__(self) -> str:\n",
    "        return (\n",
    "            f\"B : {self.B.shape[0]} rows x {self.B.shape[1]} columns\\n\"\n",
    "            f\"Z : {self.Z.shape[0]} rows x {self.Z.shape[1]} columns\\n\"\n",
    "            f\"U : {self.U.shape[0]} rows x {self.U.shape[1]} columns\\n\"\n",
    "            f\"C : {self.C.shape[0]} rows x {self.C.shape[1]} columns\\n\"\n",
    "            f\"heldOutGenes: {len(self.heldOutGenes)}\\n\"\n",
    "            f\"withPrior: {len(self.withPrior)}\\n\"\n",
    "            f\"Uauc: {self.Uauc.shape[0]} rows x {self.Uauc.shape[1]} columns\\n\"\n",
    "            f\"Up: {self.Up.shape[0]} rows x {self.Up.shape[1]} columns\\n\"\n",
    "            f\"summary: {self.summary.shape[0]} rows x {self.summary.shape[1]} columns\\n\"\n",
    "            f\"residual: {self.residual.shape[0]} rows x {self.residual.shape[1]} columns\\n\"\n",
    "            f\"L1 is set to {self.L1:.4f}\\n\"\n",
    "            f\"L2 is set to {self.L2:.4f}\\n\"\n",
    "            f\"L3 is set to {self.L3:.4f}\"\n",
    "        )\n",
    "\n",
    "    def __str__(self) -> str:\n",
    "        return self.__repr__()\n",
    "\n",
    "    def __eq__(self, other) -> bool:\n",
    "        if (\n",
    "            np.isclose(self.B, other.B).all()\n",
    "            and np.isclose(self.Z, other.Z).all()\n",
    "            and np.isclose(self.U, other.U).all()\n",
    "            and np.isclose(self.C, other.C).all()\n",
    "            and self.L1 == other.L1\n",
    "            and self.L2 == other.L2\n",
    "            and self.L3 == other.L3\n",
    "            and self.heldOutGenes == other.heldOutGenes\n",
    "            and self.withPrior == other.withPrior\n",
    "            and np.isclose(self.Uauc, other.Uauc).all()\n",
    "            and np.isclose(self.Up, other.Up).all()\n",
    "            and np.isclose(self.summary, other.summary).all()\n",
    "            and np.isclose(self.residual, other.residual).all()\n",
    "        ):\n",
    "            return True\n",
    "        else:\n",
    "            if not np.isclose(self.B, other.B).all():\n",
    "                print(\"B is unequal\")\n",
    "            elif not np.isclose(self.Z, other.Z).all():\n",
    "                print(\"Z is unequal\")\n",
    "            elif not np.isclose(self.U, other.U).all():\n",
    "                print(\"U is unequal\")\n",
    "            elif not np.isclose(self.C, other.C).all():\n",
    "                print(\"C is unequal\")\n",
    "            elif self.L1 != other.L1:\n",
    "                print(\"L1 is unequal\")\n",
    "            elif self.L2 != other.L2:\n",
    "                print(\"L2 is unequal\")\n",
    "            elif self.L3 != other.L3:\n",
    "                print(\"L3 is unequal\")\n",
    "            elif self.heldOutGenes != other.heldOutGenes:\n",
    "                print(\"heldOutGenes is unequal\")\n",
    "            elif self.withPrior != other.withPrior:\n",
    "                print(\"withPrior is unequal\")\n",
    "            elif not np.isclose(self.Uauc, other.Uauc).all():\n",
    "                print(\"Uauc is unequal\")\n",
    "            elif not np.isclose(self.Up, other.Up).all():\n",
    "                print(\"Up is unequal\")\n",
    "            elif not np.isclose(self.summary, other.summary).all():\n",
    "                print(\"summary is unequal\")\n",
    "            elif not np.isclose(self.residual, other.residual).all():\n",
    "                print(\"residual is unequal\")\n",
    "            return False\n",
    "\n",
    "    def to_dict(self):\n",
    "        return {\n",
    "            \"B\": self.B.to_dict(),\n",
    "            \"Z\": self.Z.to_dict(),\n",
    "            \"U\": self.U.to_dict(),\n",
    "            \"C\": self.C.to_dict(),\n",
    "            \"L1\": self.L1,\n",
    "            \"L2\": self.L2,\n",
    "            \"L3\": self.L3,\n",
    "            \"heldOutGenes\": self.heldOutGenes,\n",
    "            \"withPrior\": self.withPrior,\n",
    "            \"residual\": self.residual.to_dict(),\n",
    "            \"Uauc\": self.Uauc.to_dict(),\n",
    "            \"Up\": self.Up.to_dict(),\n",
    "            \"summary\": self.summary.to_dict(),\n",
    "        }\n",
    "\n",
    "    def to_disk(self, loc: Path, compress: bool = False) -> bool:\n",
    "        if not isinstance(loc, Path):\n",
    "            loc = Path(loc)\n",
    "        if compress or loc.suffix == \".gz\":\n",
    "            with gzip.open(loc, \"wt\", encoding=\"UTF-8\") as zipfile:\n",
    "                json.dump(self.to_dict(), zipfile)\n",
    "        else:\n",
    "            with open(loc, \"w\") as jsonfile:\n",
    "                json.dump(obj=self.to_dict(), fp=jsonfile)\n",
    "        return True\n",
    "\n",
    "    @classmethod\n",
    "    def from_dict(cls, source):\n",
    "        pr = cls()\n",
    "        if \"B\" in source:\n",
    "            pr.B = pd.DataFrame.from_dict(source[\"B\"])\n",
    "        if \"Z\" in source:\n",
    "            pr.Z = pd.DataFrame.from_dict(source[\"Z\"])\n",
    "        if \"U\" in source:\n",
    "            pr.U = pd.DataFrame.from_dict(source[\"U\"])\n",
    "        if \"C\" in source:\n",
    "            pr.C = pd.DataFrame.from_dict(source[\"C\"])\n",
    "\n",
    "        if \"L1\" in source:\n",
    "            pr.L1 = source[\"L1\"]\n",
    "        if \"L2\" in source:\n",
    "            pr.L2 = source[\"L2\"]\n",
    "        if \"L3\" in source:\n",
    "            pr.L3 = source[\"L3\"]\n",
    "\n",
    "        if \"heldOutGenes\" in source:\n",
    "            pr.heldOutGenes = source[\"heldOutGenes\"]\n",
    "        if \"withPrior\" in source:\n",
    "            pr.withPrior = source[\"withPrior\"]\n",
    "\n",
    "        if \"residual\" in source:\n",
    "            pr.residual = pd.DataFrame.from_dict(source[\"residual\"])\n",
    "        if \"Uauc\" in source:\n",
    "            pr.Uauc = pd.DataFrame.from_dict(source[\"Uauc\"])\n",
    "        if \"Up\" in source:\n",
    "            pr.Up = pd.DataFrame.from_dict(source[\"Up\"])\n",
    "        if \"summary\" in source:\n",
    "            pr.summary = pd.DataFrame.from_dict(source[\"summary\"])\n",
    "        return pr\n",
    "\n",
    "    @classmethod\n",
    "    def from_disk(cls, loc: Union[Path, str]):\n",
    "        if str(loc).endswith(\".gz\"):\n",
    "            with gzip.open(loc, \"rt\", encoding=\"UTF-8\") as infile:\n",
    "                input_dict = json.load(fp=infile)\n",
    "        else:\n",
    "            try:\n",
    "                with open(loc, \"r\") as infile:\n",
    "                    input_dict = json.load(fp=infile)\n",
    "            except UnicodeDecodeError:\n",
    "                with gzip.open(loc, \"rt\", encoding=\"UTF-8\") as infile:\n",
    "                    input_dict = json.load(fp=infile)\n",
    "        pr = cls().from_dict(input_dict)\n",
    "        return pr"
   ]
  },
  {
   "cell_type": "code",
   "execution_count": 3,
   "id": "9e3ff5c5-ff4c-4716-b799-a247ca93c837",
   "metadata": {},
   "outputs": [],
   "source": [
    "data_dir = Path(\"/workspaces/pyplier/tests/data\")"
   ]
  },
  {
   "cell_type": "code",
   "execution_count": 12,
   "id": "4121d126",
   "metadata": {},
   "outputs": [],
   "source": [
    "project_folder = Path(\"/workspaces/pyplier/tests\")\n",
    "heldOutGenes_file = project_folder / \"data\" / \"common\" / \"plierRes_heldoutgenes.csv.gz\"\n",
    "B_file = project_folder / \"data\" / \"common\" / \"plierRes_b.csv.gz\"\n",
    "C_file = project_folder / \"data\" / \"common\" / \"plierRes_c.csv.gz\"\n",
    "residual_file = project_folder / \"data\" / \"common\" / \"plierRes_residual.csv.gz\"\n",
    "U_file = project_folder / \"data\" / \"common\" / \"plierRes_u.csv.gz\"\n",
    "Z_file = project_folder / \"data\" / \"common\" / \"plierRes_z.csv.gz\"\n",
    "\n",
    "Uauc_file = project_folder / \"data\" / \"common\" / \"plierRes_uauc.csv.gz\"\n",
    "Upval_file = project_folder / \"data\" / \"common\" / \"plierRes_up.csv.gz\"\n",
    "summary_file = project_folder / \"data\" / \"common\" / \"plierRes_summary.csv.gz\"\n",
    "\n",
    "L1 = 18.43058\n",
    "L2 = 36.86117\n",
    "L3 = 0.0004307425\n",
    "withPrior = {\n",
    "    \"LV1\": 1,\n",
    "    \"LV2\": 2,\n",
    "    \"LV3\": 3,\n",
    "    \"LV4\": 4,\n",
    "    \"LV5\": 5,\n",
    "    \"LV6\": 6,\n",
    "    \"LV7\": 7,\n",
    "    \"LV8\": 8,\n",
    "    \"LV9\": 9,\n",
    "    \"LV10\": 10,\n",
    "    \"LV11\": 11,\n",
    "    \"LV14\": 14,\n",
    "    \"LV15\": 15,\n",
    "    \"LV18\": 18,\n",
    "    \"LV20\": 20,\n",
    "    \"LV23\": 23,\n",
    "    \"LV24\": 24,\n",
    "    \"LV26\": 26,\n",
    "    \"LV27\": 27,\n",
    "    \"LV29\": 29,\n",
    "    \"LV30\": 30,\n",
    "}\n",
    "\n",
    "\n",
    "pr = PLIERResults(\n",
    "    residual=pd.read_csv(residual_file, index_col=0),\n",
    "    B=pd.read_csv(B_file, index_col=0),\n",
    "    Z=pd.read_csv(Z_file, index_col=0),\n",
    "    U=pd.read_csv(U_file, index_col=0),\n",
    "    C=pd.read_csv(C_file, index_col=0),\n",
    "    L1=L1,\n",
    "    L2=L2,\n",
    "    L3=L3,\n",
    "    heldOutGenes={\n",
    "        k: g[\"value\"].tolist()\n",
    "        for k, g in pd.read_csv(heldOutGenes_file, index_col=0).groupby(\"name\")\n",
    "    },\n",
    "    withPrior=withPrior,\n",
    "    Uauc=pd.read_csv(Uauc_file, index_col=0),\n",
    "    Up=pd.read_csv(Upval_file, index_col=0),\n",
    "    summary=pd.read_csv(summary_file, index_col=0),\n",
    ")"
   ]
  },
  {
   "cell_type": "code",
   "execution_count": 13,
   "id": "c9b7399c",
   "metadata": {},
   "outputs": [],
   "source": [
    "prod = PLIERResults.from_disk(\n",
    "    Path(\"/workspaces/pyplier/tests/data/plierRes/plierRes.json.gz\")\n",
    ")"
   ]
  },
  {
   "cell_type": "code",
   "execution_count": 15,
   "id": "8d11abc9",
   "metadata": {},
   "outputs": [
    {
     "data": {
      "text/plain": [
       "B : 30 rows x 36 columns\n",
       "Z : 5892 rows x 30 columns\n",
       "U : 606 rows x 30 columns\n",
       "C : 5892 rows x 606 columns\n",
       "heldOutGenes: 603\n",
       "withPrior: 21\n",
       "Uauc: 606 rows x 30 columns\n",
       "Up: 606 rows x 30 columns\n",
       "summary: 64 rows x 4 columns\n",
       "residual: 5892 rows x 36 columns\n",
       "L1 is set to 18.4306\n",
       "L2 is set to 36.8612\n",
       "L3 is set to 0.0004"
      ]
     },
     "execution_count": 15,
     "metadata": {},
     "output_type": "execute_result"
    }
   ],
   "source": [
    "prod"
   ]
  },
  {
   "cell_type": "code",
   "execution_count": 16,
   "id": "5f9a7db2",
   "metadata": {},
   "outputs": [],
   "source": [
    "prod_dict = prod.to_dict()"
   ]
  },
  {
   "cell_type": "code",
   "execution_count": 23,
   "id": "543c4656",
   "metadata": {},
   "outputs": [],
   "source": [
    "import dill"
   ]
  },
  {
   "cell_type": "code",
   "execution_count": 24,
   "id": "dbb0b581",
   "metadata": {},
   "outputs": [],
   "source": [
    "with open(\n",
    "    \"/workspaces/pyplier/tests/data/plierRes/plierRes_dict.pkl\", \"wb\"\n",
    ") as pickle_dict:\n",
    "    dill.dump(prod_dict, pickle_dict)"
   ]
  },
  {
   "cell_type": "code",
   "execution_count": 25,
   "id": "dbb0b581",
   "metadata": {},
   "outputs": [],
   "source": [
    "with open(\"/workspaces/pyplier/tests/data/plierRes/plierRes_dict.pkl\", \"rb\") as pf:\n",
    "    pickle_dict = dill.load(pf)"
   ]
  },
  {
   "cell_type": "code",
   "execution_count": 26,
   "id": "cd3ab5cc",
   "metadata": {},
   "outputs": [
    {
     "data": {
      "text/plain": [
       "True"
      ]
     },
     "execution_count": 26,
     "metadata": {},
     "output_type": "execute_result"
    }
   ],
   "source": [
    "prod_dict == pickle_dict"
   ]
  },
  {
   "cell_type": "code",
   "execution_count": 27,
   "id": "3d696ef0",
   "metadata": {},
   "outputs": [
    {
     "ename": "TypeError",
     "evalue": "ufunc 'isfinite' not supported for the input types, and the inputs could not be safely coerced to any supported types according to the casting rule ''safe''",
     "output_type": "error",
     "traceback": [
      "\u001b[0;31m---------------------------------------------------------------------------\u001b[0m",
      "\u001b[0;31mTypeError\u001b[0m                                 Traceback (most recent call last)",
      "\u001b[1;32m/workspaces/pyplier/transcoding_notebooks/PLIERResults_class.ipynb Cell 12'\u001b[0m in \u001b[0;36m<cell line: 1>\u001b[0;34m()\u001b[0m\n\u001b[0;32m----> <a href='vscode-notebook-cell://dev-container%2B2f55736572732f6d696c6573736d6974682f776f726b73706163652f7079706c696572/workspaces/pyplier/transcoding_notebooks/PLIERResults_class.ipynb#ch0000128vscode-remote?line=0'>1</a>\u001b[0m np\u001b[39m.\u001b[39;49misclose(prod_dict, pickle_dict)\n",
      "File \u001b[0;32m<__array_function__ internals>:180\u001b[0m, in \u001b[0;36misclose\u001b[0;34m(*args, **kwargs)\u001b[0m\n",
      "File \u001b[0;32m~/.cache/pypoetry/virtualenvs/pyplier-3Y0kqMGe-py3.9/lib/python3.9/site-packages/numpy/core/numeric.py:2358\u001b[0m, in \u001b[0;36misclose\u001b[0;34m(a, b, rtol, atol, equal_nan)\u001b[0m\n\u001b[1;32m   2355\u001b[0m     dt \u001b[39m=\u001b[39m multiarray\u001b[39m.\u001b[39mresult_type(y, \u001b[39m1.\u001b[39m)\n\u001b[1;32m   2356\u001b[0m     y \u001b[39m=\u001b[39m asanyarray(y, dtype\u001b[39m=\u001b[39mdt)\n\u001b[0;32m-> 2358\u001b[0m xfin \u001b[39m=\u001b[39m isfinite(x)\n\u001b[1;32m   2359\u001b[0m yfin \u001b[39m=\u001b[39m isfinite(y)\n\u001b[1;32m   2360\u001b[0m \u001b[39mif\u001b[39;00m \u001b[39mall\u001b[39m(xfin) \u001b[39mand\u001b[39;00m \u001b[39mall\u001b[39m(yfin):\n",
      "\u001b[0;31mTypeError\u001b[0m: ufunc 'isfinite' not supported for the input types, and the inputs could not be safely coerced to any supported types according to the casting rule ''safe''"
     ]
    }
   ],
   "source": [
    "np.isclose(prod_dict, pickle_dict)"
   ]
  },
  {
   "cell_type": "code",
   "execution_count": 28,
   "id": "e596464d",
   "metadata": {},
   "outputs": [],
   "source": [
    "import pytest"
   ]
  },
  {
   "cell_type": "code",
   "execution_count": 29,
   "id": "a44201a8",
   "metadata": {},
   "outputs": [
    {
     "ename": "AttributeError",
     "evalue": "module 'pytest' has no attribute 'assertDictEqual'",
     "output_type": "error",
     "traceback": [
      "\u001b[0;31m---------------------------------------------------------------------------\u001b[0m",
      "\u001b[0;31mAttributeError\u001b[0m                            Traceback (most recent call last)",
      "\u001b[1;32m/workspaces/pyplier/transcoding_notebooks/PLIERResults_class.ipynb Cell 14'\u001b[0m in \u001b[0;36m<cell line: 1>\u001b[0;34m()\u001b[0m\n\u001b[0;32m----> <a href='vscode-notebook-cell://dev-container%2B2f55736572732f6d696c6573736d6974682f776f726b73706163652f7079706c696572/workspaces/pyplier/transcoding_notebooks/PLIERResults_class.ipynb#ch0000135vscode-remote?line=0'>1</a>\u001b[0m pytest\u001b[39m.\u001b[39;49massertDictEqual(prod_dict, pickle_dict)\n",
      "\u001b[0;31mAttributeError\u001b[0m: module 'pytest' has no attribute 'assertDictEqual'"
     ]
    }
   ],
   "source": [
    "pytest.assertDictEqual(prod_dict, pickle_dict)"
   ]
  },
  {
   "cell_type": "code",
   "execution_count": 14,
   "id": "2baca5ca",
   "metadata": {},
   "outputs": [
    {
     "data": {
      "text/plain": [
       "True"
      ]
     },
     "execution_count": 14,
     "metadata": {},
     "output_type": "execute_result"
    }
   ],
   "source": [
    "prod == pr"
   ]
  },
  {
   "cell_type": "code",
   "execution_count": 31,
   "id": "998c6573",
   "metadata": {},
   "outputs": [
    {
     "data": {
      "text/plain": [
       "dict_keys(['B', 'Z', 'U', 'C', 'L1', 'L2', 'L3', 'heldOutGenes', 'withPrior', 'residual', 'Uauc', 'Up', 'summary'])"
      ]
     },
     "execution_count": 31,
     "metadata": {},
     "output_type": "execute_result"
    }
   ],
   "source": [
    "prod_dict.keys()"
   ]
  },
  {
   "cell_type": "code",
   "execution_count": 36,
   "id": "ffddc458",
   "metadata": {},
   "outputs": [],
   "source": [
    "from deepdiff import DeepDiff"
   ]
  },
  {
   "cell_type": "code",
   "execution_count": 42,
   "id": "567b727c",
   "metadata": {},
   "outputs": [
    {
     "name": "stderr",
     "output_type": "stream",
     "text": [
      "DeepDiff has reached the max number of diffs of 100. You can possibly get more accurate results by increasing the max_diffs parameter.\n"
     ]
    }
   ],
   "source": [
    "dict_diff = DeepDiff(\n",
    "    prod_dict,\n",
    "    pickle_dict,\n",
    "    ignore_order=False,\n",
    "    max_diffs=100,\n",
    "    cache_size=5000,\n",
    ")"
   ]
  },
  {
   "cell_type": "code",
   "execution_count": 43,
   "id": "a8db37d6",
   "metadata": {},
   "outputs": [],
   "source": [
    "dict_diff = {}"
   ]
  },
  {
   "cell_type": "code",
   "execution_count": 41,
   "id": "79b3e21f",
   "metadata": {},
   "outputs": [
    {
     "data": {
      "text/plain": [
       "{}"
      ]
     },
     "execution_count": 41,
     "metadata": {},
     "output_type": "execute_result"
    }
   ],
   "source": [
    "dict_diff"
   ]
  },
  {
   "cell_type": "code",
   "execution_count": 8,
   "id": "5d4fcbd2",
   "metadata": {},
   "outputs": [],
   "source": [
    "pd.testing.assert_frame_equal(pr.B, prod.B, rtol=1e-3, atol=1e-5)"
   ]
  },
  {
   "cell_type": "code",
   "execution_count": 75,
   "id": "eac2e4e2",
   "metadata": {},
   "outputs": [],
   "source": [
    "pd.testing.assert_frame_equal(prod.B, pr.B)"
   ]
  },
  {
   "cell_type": "code",
   "execution_count": 86,
   "id": "39f311d8",
   "metadata": {},
   "outputs": [
    {
     "data": {
      "text/plain": [
       "False"
      ]
     },
     "execution_count": 86,
     "metadata": {},
     "output_type": "execute_result"
    }
   ],
   "source": [
    "pr.summary.iloc[:, 3].equals(prod.summary.iloc[:, 3])"
   ]
  },
  {
   "cell_type": "code",
   "execution_count": 87,
   "id": "38c08af3",
   "metadata": {},
   "outputs": [
    {
     "data": {
      "text/plain": [
       "DMAP_ERY3                    2.587629e-45\n",
       "IRIS_Bcell-Memory_IgG_IgA    1.629453e-09\n",
       "Name: FDR, dtype: float64"
      ]
     },
     "execution_count": 87,
     "metadata": {},
     "output_type": "execute_result"
    }
   ],
   "source": [
    "pr.summary.iloc[:, 3][pr.summary.iloc[:, 3] != prod.summary.iloc[:, 3]]"
   ]
  },
  {
   "cell_type": "code",
   "execution_count": 88,
   "id": "38c08af3",
   "metadata": {},
   "outputs": [
    {
     "data": {
      "text/plain": [
       "DMAP_ERY3                    2.587629e-45\n",
       "IRIS_Bcell-Memory_IgG_IgA    1.629453e-09\n",
       "Name: FDR, dtype: float64"
      ]
     },
     "execution_count": 88,
     "metadata": {},
     "output_type": "execute_result"
    }
   ],
   "source": [
    "prod.summary.iloc[:, 3][pr.summary.iloc[:, 3] != prod.summary.iloc[:, 3]]"
   ]
  },
  {
   "cell_type": "code",
   "execution_count": 89,
   "id": "38c08af3",
   "metadata": {},
   "outputs": [
    {
     "data": {
      "text/plain": [
       "DMAP_ERY3                    True\n",
       "IRIS_Bcell-Memory_IgG_IgA    True\n",
       "Name: FDR, dtype: bool"
      ]
     },
     "execution_count": 89,
     "metadata": {},
     "output_type": "execute_result"
    }
   ],
   "source": [
    "prod.summary.iloc[:, 3][\n",
    "    pr.summary.iloc[:, 3] != prod.summary.iloc[:, 3]\n",
    "] == prod.summary.iloc[:, 3][pr.summary.iloc[:, 3] != prod.summary.iloc[:, 3]]"
   ]
  },
  {
   "cell_type": "code",
   "execution_count": 93,
   "id": "38c08af3",
   "metadata": {},
   "outputs": [
    {
     "data": {
      "text/plain": [
       "(array([18, 37]),)"
      ]
     },
     "execution_count": 93,
     "metadata": {},
     "output_type": "execute_result"
    }
   ],
   "source": [
    "np.where(pr.summary.iloc[:, 3] != prod.summary.iloc[:, 3])"
   ]
  },
  {
   "cell_type": "code",
   "execution_count": 94,
   "id": "3a309afa",
   "metadata": {},
   "outputs": [
    {
     "data": {
      "text/plain": [
       "DMAP_ERY3                    2.587629e-45\n",
       "IRIS_Bcell-Memory_IgG_IgA    1.629453e-09\n",
       "Name: FDR, dtype: float64"
      ]
     },
     "execution_count": 94,
     "metadata": {},
     "output_type": "execute_result"
    }
   ],
   "source": [
    "pr.summary.iloc[[18, 37], 3]"
   ]
  },
  {
   "cell_type": "code",
   "execution_count": 99,
   "id": "3a309afa",
   "metadata": {},
   "outputs": [],
   "source": [
    "pd.testing.assert_series_equal(\n",
    "    left=prod.summary.iloc[[18, 37], 3], right=pr.summary.iloc[[18, 37], 3]\n",
    ")"
   ]
  },
  {
   "cell_type": "code",
   "execution_count": 100,
   "id": "3a309afa",
   "metadata": {},
   "outputs": [],
   "source": [
    "pd.testing.assert_series_equal(\n",
    "    left=prod.summary.iloc[:, 3], right=pr.summary.iloc[:, 3]\n",
    ")"
   ]
  },
  {
   "cell_type": "code",
   "execution_count": 101,
   "id": "3a309afa",
   "metadata": {},
   "outputs": [],
   "source": [
    "pd.testing.assert_frame_equal(left=prod.summary, right=pr.summary)"
   ]
  },
  {
   "cell_type": "code",
   "execution_count": 102,
   "id": "aa89a94f",
   "metadata": {},
   "outputs": [],
   "source": [
    "pd.testing.assert_frame_equal(prod.summary, pr.summary, rtol=1e-3, atol=1e-5)"
   ]
  },
  {
   "cell_type": "code",
   "execution_count": 76,
   "id": "8c6e7b06",
   "metadata": {},
   "outputs": [
    {
     "name": "stdout",
     "output_type": "stream",
     "text": [
      "summary is unequal\n"
     ]
    }
   ],
   "source": [
    "if not pr.B.equals(prod.B):\n",
    "    print(\"B is unequal\")\n",
    "elif not pr.Z.equals(prod.Z):\n",
    "    print(\"Z is unequal\")\n",
    "elif not pr.U.equals(prod.U):\n",
    "    print(\"U is unequal\")\n",
    "elif not pr.C.equals(prod.C):\n",
    "    print(\"C is unequal\")\n",
    "elif pr.L1 != prod.L1:\n",
    "    print(\"L1 is unequal\")\n",
    "elif pr.L2 != prod.L2:\n",
    "    print(\"L2 is unequal\")\n",
    "elif pr.L3 != prod.L3:\n",
    "    print(\"L3 is unequal\")\n",
    "elif pr.heldOutGenes != prod.heldOutGenes:\n",
    "    print(\"heldOutGenes is unequal\")\n",
    "elif pr.withPrior != prod.withPrior:\n",
    "    print(\"withPrior is unequal\")\n",
    "elif not pr.Uauc.equals(prod.Uauc):\n",
    "    print(\"Uauc is unequal\")\n",
    "elif not pr.Up.equals(prod.Up):\n",
    "    print(\"Up is unequal\")\n",
    "elif not pr.summary.equals(prod.summary):\n",
    "    print(\"summary is unequal\")\n",
    "elif not pr.residual.equals(prod.residual):\n",
    "    print(\"residual is unequal\")"
   ]
  },
  {
   "cell_type": "code",
   "execution_count": 77,
   "id": "9fdc7702",
   "metadata": {},
   "outputs": [
    {
     "data": {
      "text/html": [
       "<div>\n",
       "<style scoped>\n",
       "    .dataframe tbody tr th:only-of-type {\n",
       "        vertical-align: middle;\n",
       "    }\n",
       "\n",
       "    .dataframe tbody tr th {\n",
       "        vertical-align: top;\n",
       "    }\n",
       "\n",
       "    .dataframe thead th {\n",
       "        text-align: right;\n",
       "    }\n",
       "</style>\n",
       "<table border=\"1\" class=\"dataframe\">\n",
       "  <thead>\n",
       "    <tr style=\"text-align: right;\">\n",
       "      <th></th>\n",
       "      <th>LV index</th>\n",
       "      <th>AUC</th>\n",
       "      <th>p-value</th>\n",
       "      <th>FDR</th>\n",
       "    </tr>\n",
       "  </thead>\n",
       "  <tbody>\n",
       "    <tr>\n",
       "      <th>REACTOME_GENERIC_TRANSCRIPTION_PATHWAY</th>\n",
       "      <td>True</td>\n",
       "      <td>True</td>\n",
       "      <td>True</td>\n",
       "      <td>True</td>\n",
       "    </tr>\n",
       "    <tr>\n",
       "      <th>IRIS_Monocyte-Day0</th>\n",
       "      <td>True</td>\n",
       "      <td>True</td>\n",
       "      <td>True</td>\n",
       "      <td>True</td>\n",
       "    </tr>\n",
       "    <tr>\n",
       "      <th>IRIS_Neutrophil-Resting</th>\n",
       "      <td>True</td>\n",
       "      <td>True</td>\n",
       "      <td>True</td>\n",
       "      <td>True</td>\n",
       "    </tr>\n",
       "    <tr>\n",
       "      <th>DMAP_MONO1</th>\n",
       "      <td>True</td>\n",
       "      <td>True</td>\n",
       "      <td>True</td>\n",
       "      <td>True</td>\n",
       "    </tr>\n",
       "    <tr>\n",
       "      <th>PID_IL6_7PATHWAY</th>\n",
       "      <td>True</td>\n",
       "      <td>True</td>\n",
       "      <td>True</td>\n",
       "      <td>True</td>\n",
       "    </tr>\n",
       "    <tr>\n",
       "      <th>REACTOME_PROCESSING_OF_CAPPED_INTRON_CONTAINING_PRE_MRNA</th>\n",
       "      <td>True</td>\n",
       "      <td>True</td>\n",
       "      <td>True</td>\n",
       "      <td>True</td>\n",
       "    </tr>\n",
       "    <tr>\n",
       "      <th>MIPS_SPLICEOSOME</th>\n",
       "      <td>True</td>\n",
       "      <td>True</td>\n",
       "      <td>True</td>\n",
       "      <td>True</td>\n",
       "    </tr>\n",
       "    <tr>\n",
       "      <th>REACTOME_SIGNALING_BY_RHO_GTPASES</th>\n",
       "      <td>True</td>\n",
       "      <td>True</td>\n",
       "      <td>True</td>\n",
       "      <td>True</td>\n",
       "    </tr>\n",
       "    <tr>\n",
       "      <th>IRIS_DendriticCell-LPSstimulated</th>\n",
       "      <td>True</td>\n",
       "      <td>True</td>\n",
       "      <td>True</td>\n",
       "      <td>True</td>\n",
       "    </tr>\n",
       "    <tr>\n",
       "      <th>KEGG_LYSOSOME</th>\n",
       "      <td>True</td>\n",
       "      <td>True</td>\n",
       "      <td>True</td>\n",
       "      <td>True</td>\n",
       "    </tr>\n",
       "    <tr>\n",
       "      <th>IRIS_CD4Tcell-N0</th>\n",
       "      <td>True</td>\n",
       "      <td>True</td>\n",
       "      <td>True</td>\n",
       "      <td>True</td>\n",
       "    </tr>\n",
       "    <tr>\n",
       "      <th>DMAP_TCELLA2</th>\n",
       "      <td>True</td>\n",
       "      <td>True</td>\n",
       "      <td>True</td>\n",
       "      <td>True</td>\n",
       "    </tr>\n",
       "    <tr>\n",
       "      <th>DMAP_TCELLA6</th>\n",
       "      <td>True</td>\n",
       "      <td>True</td>\n",
       "      <td>True</td>\n",
       "      <td>True</td>\n",
       "    </tr>\n",
       "    <tr>\n",
       "      <th>IRIS_CD4Tcell-Th1-restimulated48hour</th>\n",
       "      <td>True</td>\n",
       "      <td>True</td>\n",
       "      <td>True</td>\n",
       "      <td>True</td>\n",
       "    </tr>\n",
       "    <tr>\n",
       "      <th>IRIS_CD4Tcell-Th2-restimulated48hour</th>\n",
       "      <td>True</td>\n",
       "      <td>True</td>\n",
       "      <td>True</td>\n",
       "      <td>True</td>\n",
       "    </tr>\n",
       "    <tr>\n",
       "      <th>IRIS_PlasmaCell-FromBoneMarrow</th>\n",
       "      <td>True</td>\n",
       "      <td>True</td>\n",
       "      <td>True</td>\n",
       "      <td>True</td>\n",
       "    </tr>\n",
       "    <tr>\n",
       "      <th>IRIS_PlasmaCell-FromPBMC</th>\n",
       "      <td>True</td>\n",
       "      <td>True</td>\n",
       "      <td>True</td>\n",
       "      <td>True</td>\n",
       "    </tr>\n",
       "    <tr>\n",
       "      <th>DMAP_ERY2</th>\n",
       "      <td>True</td>\n",
       "      <td>True</td>\n",
       "      <td>True</td>\n",
       "      <td>True</td>\n",
       "    </tr>\n",
       "    <tr>\n",
       "      <th>DMAP_ERY3</th>\n",
       "      <td>True</td>\n",
       "      <td>True</td>\n",
       "      <td>True</td>\n",
       "      <td>False</td>\n",
       "    </tr>\n",
       "    <tr>\n",
       "      <th>REACTOME_POST_TRANSLATIONAL_PROTEIN_MODIFICATION</th>\n",
       "      <td>True</td>\n",
       "      <td>True</td>\n",
       "      <td>True</td>\n",
       "      <td>True</td>\n",
       "    </tr>\n",
       "    <tr>\n",
       "      <th>REACTOME_ACTIVATION_OF_CHAPERONE_GENES_BY_XBP1S</th>\n",
       "      <td>True</td>\n",
       "      <td>True</td>\n",
       "      <td>True</td>\n",
       "      <td>True</td>\n",
       "    </tr>\n",
       "    <tr>\n",
       "      <th>PID_AURORA_B_PATHWAY</th>\n",
       "      <td>True</td>\n",
       "      <td>True</td>\n",
       "      <td>True</td>\n",
       "      <td>True</td>\n",
       "    </tr>\n",
       "    <tr>\n",
       "      <th>REACTOME_TRANSLATION</th>\n",
       "      <td>True</td>\n",
       "      <td>True</td>\n",
       "      <td>True</td>\n",
       "      <td>True</td>\n",
       "    </tr>\n",
       "    <tr>\n",
       "      <th>REACTOME_ASSEMBLY_OF_THE_PRE_REPLICATIVE_COMPLEX</th>\n",
       "      <td>True</td>\n",
       "      <td>True</td>\n",
       "      <td>True</td>\n",
       "      <td>True</td>\n",
       "    </tr>\n",
       "    <tr>\n",
       "      <th>PID_PLK1_PATHWAY</th>\n",
       "      <td>True</td>\n",
       "      <td>True</td>\n",
       "      <td>True</td>\n",
       "      <td>True</td>\n",
       "    </tr>\n",
       "    <tr>\n",
       "      <th>REACTOME_ASPARAGINE_N_LINKED_GLYCOSYLATION</th>\n",
       "      <td>True</td>\n",
       "      <td>True</td>\n",
       "      <td>True</td>\n",
       "      <td>True</td>\n",
       "    </tr>\n",
       "    <tr>\n",
       "      <th>IRIS_NKcell-IL15stimulated</th>\n",
       "      <td>True</td>\n",
       "      <td>True</td>\n",
       "      <td>True</td>\n",
       "      <td>True</td>\n",
       "    </tr>\n",
       "    <tr>\n",
       "      <th>IRIS_NKcell-IL2stimulated</th>\n",
       "      <td>True</td>\n",
       "      <td>True</td>\n",
       "      <td>True</td>\n",
       "      <td>True</td>\n",
       "    </tr>\n",
       "    <tr>\n",
       "      <th>IRIS_NKcell-control</th>\n",
       "      <td>True</td>\n",
       "      <td>True</td>\n",
       "      <td>True</td>\n",
       "      <td>True</td>\n",
       "    </tr>\n",
       "    <tr>\n",
       "      <th>DMAP_NKA2</th>\n",
       "      <td>True</td>\n",
       "      <td>True</td>\n",
       "      <td>True</td>\n",
       "      <td>True</td>\n",
       "    </tr>\n",
       "  </tbody>\n",
       "</table>\n",
       "</div>"
      ],
      "text/plain": [
       "                                                    LV index   AUC  p-value  \\\n",
       "REACTOME_GENERIC_TRANSCRIPTION_PATHWAY                  True  True     True   \n",
       "IRIS_Monocyte-Day0                                      True  True     True   \n",
       "IRIS_Neutrophil-Resting                                 True  True     True   \n",
       "DMAP_MONO1                                              True  True     True   \n",
       "PID_IL6_7PATHWAY                                        True  True     True   \n",
       "REACTOME_PROCESSING_OF_CAPPED_INTRON_CONTAINING...      True  True     True   \n",
       "MIPS_SPLICEOSOME                                        True  True     True   \n",
       "REACTOME_SIGNALING_BY_RHO_GTPASES                       True  True     True   \n",
       "IRIS_DendriticCell-LPSstimulated                        True  True     True   \n",
       "KEGG_LYSOSOME                                           True  True     True   \n",
       "IRIS_CD4Tcell-N0                                        True  True     True   \n",
       "DMAP_TCELLA2                                            True  True     True   \n",
       "DMAP_TCELLA6                                            True  True     True   \n",
       "IRIS_CD4Tcell-Th1-restimulated48hour                    True  True     True   \n",
       "IRIS_CD4Tcell-Th2-restimulated48hour                    True  True     True   \n",
       "IRIS_PlasmaCell-FromBoneMarrow                          True  True     True   \n",
       "IRIS_PlasmaCell-FromPBMC                                True  True     True   \n",
       "DMAP_ERY2                                               True  True     True   \n",
       "DMAP_ERY3                                               True  True     True   \n",
       "REACTOME_POST_TRANSLATIONAL_PROTEIN_MODIFICATION        True  True     True   \n",
       "REACTOME_ACTIVATION_OF_CHAPERONE_GENES_BY_XBP1S         True  True     True   \n",
       "PID_AURORA_B_PATHWAY                                    True  True     True   \n",
       "REACTOME_TRANSLATION                                    True  True     True   \n",
       "REACTOME_ASSEMBLY_OF_THE_PRE_REPLICATIVE_COMPLEX        True  True     True   \n",
       "PID_PLK1_PATHWAY                                        True  True     True   \n",
       "REACTOME_ASPARAGINE_N_LINKED_GLYCOSYLATION              True  True     True   \n",
       "IRIS_NKcell-IL15stimulated                              True  True     True   \n",
       "IRIS_NKcell-IL2stimulated                               True  True     True   \n",
       "IRIS_NKcell-control                                     True  True     True   \n",
       "DMAP_NKA2                                               True  True     True   \n",
       "\n",
       "                                                      FDR  \n",
       "REACTOME_GENERIC_TRANSCRIPTION_PATHWAY               True  \n",
       "IRIS_Monocyte-Day0                                   True  \n",
       "IRIS_Neutrophil-Resting                              True  \n",
       "DMAP_MONO1                                           True  \n",
       "PID_IL6_7PATHWAY                                     True  \n",
       "REACTOME_PROCESSING_OF_CAPPED_INTRON_CONTAINING...   True  \n",
       "MIPS_SPLICEOSOME                                     True  \n",
       "REACTOME_SIGNALING_BY_RHO_GTPASES                    True  \n",
       "IRIS_DendriticCell-LPSstimulated                     True  \n",
       "KEGG_LYSOSOME                                        True  \n",
       "IRIS_CD4Tcell-N0                                     True  \n",
       "DMAP_TCELLA2                                         True  \n",
       "DMAP_TCELLA6                                         True  \n",
       "IRIS_CD4Tcell-Th1-restimulated48hour                 True  \n",
       "IRIS_CD4Tcell-Th2-restimulated48hour                 True  \n",
       "IRIS_PlasmaCell-FromBoneMarrow                       True  \n",
       "IRIS_PlasmaCell-FromPBMC                             True  \n",
       "DMAP_ERY2                                            True  \n",
       "DMAP_ERY3                                           False  \n",
       "REACTOME_POST_TRANSLATIONAL_PROTEIN_MODIFICATION     True  \n",
       "REACTOME_ACTIVATION_OF_CHAPERONE_GENES_BY_XBP1S      True  \n",
       "PID_AURORA_B_PATHWAY                                 True  \n",
       "REACTOME_TRANSLATION                                 True  \n",
       "REACTOME_ASSEMBLY_OF_THE_PRE_REPLICATIVE_COMPLEX     True  \n",
       "PID_PLK1_PATHWAY                                     True  \n",
       "REACTOME_ASPARAGINE_N_LINKED_GLYCOSYLATION           True  \n",
       "IRIS_NKcell-IL15stimulated                           True  \n",
       "IRIS_NKcell-IL2stimulated                            True  \n",
       "IRIS_NKcell-control                                  True  \n",
       "DMAP_NKA2                                            True  "
      ]
     },
     "execution_count": 77,
     "metadata": {},
     "output_type": "execute_result"
    }
   ],
   "source": [
    "pr.summary.head(n=30) == prod.summary.head(n=30)"
   ]
  },
  {
   "cell_type": "code",
   "execution_count": 80,
   "id": "9fdc7702",
   "metadata": {},
   "outputs": [
    {
     "data": {
      "text/html": [
       "<div>\n",
       "<style scoped>\n",
       "    .dataframe tbody tr th:only-of-type {\n",
       "        vertical-align: middle;\n",
       "    }\n",
       "\n",
       "    .dataframe tbody tr th {\n",
       "        vertical-align: top;\n",
       "    }\n",
       "\n",
       "    .dataframe thead th {\n",
       "        text-align: right;\n",
       "    }\n",
       "</style>\n",
       "<table border=\"1\" class=\"dataframe\">\n",
       "  <thead>\n",
       "    <tr style=\"text-align: right;\">\n",
       "      <th></th>\n",
       "      <th>LV index</th>\n",
       "      <th>AUC</th>\n",
       "      <th>p-value</th>\n",
       "      <th>FDR</th>\n",
       "    </tr>\n",
       "  </thead>\n",
       "  <tbody>\n",
       "    <tr>\n",
       "      <th>DMAP_MEGA2</th>\n",
       "      <td>True</td>\n",
       "      <td>True</td>\n",
       "      <td>True</td>\n",
       "      <td>True</td>\n",
       "    </tr>\n",
       "    <tr>\n",
       "      <th>DMAP_TCELLA1</th>\n",
       "      <td>True</td>\n",
       "      <td>True</td>\n",
       "      <td>True</td>\n",
       "      <td>True</td>\n",
       "    </tr>\n",
       "    <tr>\n",
       "      <th>DMAP_TCELLA3</th>\n",
       "      <td>True</td>\n",
       "      <td>True</td>\n",
       "      <td>True</td>\n",
       "      <td>True</td>\n",
       "    </tr>\n",
       "    <tr>\n",
       "      <th>IRIS_Bcell-Memory_IgG_IgA</th>\n",
       "      <td>True</td>\n",
       "      <td>True</td>\n",
       "      <td>True</td>\n",
       "      <td>False</td>\n",
       "    </tr>\n",
       "    <tr>\n",
       "      <th>IRIS_Bcell-Memory_IgM</th>\n",
       "      <td>True</td>\n",
       "      <td>True</td>\n",
       "      <td>True</td>\n",
       "      <td>True</td>\n",
       "    </tr>\n",
       "    <tr>\n",
       "      <th>IRIS_Bcell-naive</th>\n",
       "      <td>True</td>\n",
       "      <td>True</td>\n",
       "      <td>True</td>\n",
       "      <td>True</td>\n",
       "    </tr>\n",
       "    <tr>\n",
       "      <th>DMAP_BCELLA1</th>\n",
       "      <td>True</td>\n",
       "      <td>True</td>\n",
       "      <td>True</td>\n",
       "      <td>True</td>\n",
       "    </tr>\n",
       "    <tr>\n",
       "      <th>KEGG_VASCULAR_SMOOTH_MUSCLE_CONTRACTION</th>\n",
       "      <td>True</td>\n",
       "      <td>True</td>\n",
       "      <td>True</td>\n",
       "      <td>True</td>\n",
       "    </tr>\n",
       "    <tr>\n",
       "      <th>KEGG_ECM_RECEPTOR_INTERACTION</th>\n",
       "      <td>True</td>\n",
       "      <td>True</td>\n",
       "      <td>True</td>\n",
       "      <td>True</td>\n",
       "    </tr>\n",
       "    <tr>\n",
       "      <th>KEGG_PURINE_METABOLISM</th>\n",
       "      <td>True</td>\n",
       "      <td>True</td>\n",
       "      <td>True</td>\n",
       "      <td>True</td>\n",
       "    </tr>\n",
       "    <tr>\n",
       "      <th>REACTOME_RESPONSE_TO_ELEVATED_PLATELET_CYTOSOLIC_CA2_</th>\n",
       "      <td>True</td>\n",
       "      <td>True</td>\n",
       "      <td>True</td>\n",
       "      <td>True</td>\n",
       "    </tr>\n",
       "    <tr>\n",
       "      <th>REACTOME_MUSCLE_CONTRACTION</th>\n",
       "      <td>True</td>\n",
       "      <td>True</td>\n",
       "      <td>True</td>\n",
       "      <td>True</td>\n",
       "    </tr>\n",
       "    <tr>\n",
       "      <th>REACTOME_METABOLISM_OF_AMINO_ACIDS_AND_DERIVATIVES</th>\n",
       "      <td>True</td>\n",
       "      <td>True</td>\n",
       "      <td>True</td>\n",
       "      <td>True</td>\n",
       "    </tr>\n",
       "    <tr>\n",
       "      <th>KEGG_OXIDATIVE_PHOSPHORYLATION</th>\n",
       "      <td>True</td>\n",
       "      <td>True</td>\n",
       "      <td>True</td>\n",
       "      <td>True</td>\n",
       "    </tr>\n",
       "    <tr>\n",
       "      <th>KEGG_PROTEASOME</th>\n",
       "      <td>True</td>\n",
       "      <td>True</td>\n",
       "      <td>True</td>\n",
       "      <td>True</td>\n",
       "    </tr>\n",
       "    <tr>\n",
       "      <th>REACTOME_REGULATION_OF_ORNITHINE_DECARBOXYLASE_ODC</th>\n",
       "      <td>True</td>\n",
       "      <td>True</td>\n",
       "      <td>True</td>\n",
       "      <td>True</td>\n",
       "    </tr>\n",
       "    <tr>\n",
       "      <th>REACTOME_RESPIRATORY_ELECTRON_TRANSPORT_ATP_SYNTHESIS_BY_CHEMIOSMOTIC_COUPLING_AND_HEAT_PRODUCTION_BY_UNCOUPLING_PROTEINS_</th>\n",
       "      <td>True</td>\n",
       "      <td>True</td>\n",
       "      <td>True</td>\n",
       "      <td>True</td>\n",
       "    </tr>\n",
       "    <tr>\n",
       "      <th>KEGG_PARKINSONS_DISEASE</th>\n",
       "      <td>True</td>\n",
       "      <td>True</td>\n",
       "      <td>True</td>\n",
       "      <td>True</td>\n",
       "    </tr>\n",
       "    <tr>\n",
       "      <th>MIPS_39S_RIBOSOMAL_SUBUNIT_MITOCHONDRIAL</th>\n",
       "      <td>True</td>\n",
       "      <td>True</td>\n",
       "      <td>True</td>\n",
       "      <td>True</td>\n",
       "    </tr>\n",
       "    <tr>\n",
       "      <th>REACTOME_ANTIGEN_PROCESSING_CROSS_PRESENTATION</th>\n",
       "      <td>True</td>\n",
       "      <td>True</td>\n",
       "      <td>True</td>\n",
       "      <td>True</td>\n",
       "    </tr>\n",
       "    <tr>\n",
       "      <th>MIPS_55S_RIBOSOME_MITOCHONDRIAL</th>\n",
       "      <td>True</td>\n",
       "      <td>True</td>\n",
       "      <td>True</td>\n",
       "      <td>True</td>\n",
       "    </tr>\n",
       "    <tr>\n",
       "      <th>KEGG_SPLICEOSOME</th>\n",
       "      <td>True</td>\n",
       "      <td>True</td>\n",
       "      <td>True</td>\n",
       "      <td>True</td>\n",
       "    </tr>\n",
       "    <tr>\n",
       "      <th>DMAP_DENDA1</th>\n",
       "      <td>True</td>\n",
       "      <td>True</td>\n",
       "      <td>True</td>\n",
       "      <td>True</td>\n",
       "    </tr>\n",
       "    <tr>\n",
       "      <th>REACTOME_INTERFERON_SIGNALING</th>\n",
       "      <td>True</td>\n",
       "      <td>True</td>\n",
       "      <td>True</td>\n",
       "      <td>True</td>\n",
       "    </tr>\n",
       "    <tr>\n",
       "      <th>REACTOME_INTERFERON_ALPHA_BETA_SIGNALING</th>\n",
       "      <td>True</td>\n",
       "      <td>True</td>\n",
       "      <td>True</td>\n",
       "      <td>True</td>\n",
       "    </tr>\n",
       "    <tr>\n",
       "      <th>REACTOME_MITOCHONDRIAL_PROTEIN_IMPORT</th>\n",
       "      <td>True</td>\n",
       "      <td>True</td>\n",
       "      <td>True</td>\n",
       "      <td>True</td>\n",
       "    </tr>\n",
       "    <tr>\n",
       "      <th>REACTOME_PEPTIDE_CHAIN_ELONGATION</th>\n",
       "      <td>True</td>\n",
       "      <td>True</td>\n",
       "      <td>True</td>\n",
       "      <td>True</td>\n",
       "    </tr>\n",
       "    <tr>\n",
       "      <th>REACTOME_FORMATION_OF_THE_TERNARY_COMPLEX_AND_SUBSEQUENTLY_THE_43S_COMPLEX</th>\n",
       "      <td>True</td>\n",
       "      <td>True</td>\n",
       "      <td>True</td>\n",
       "      <td>True</td>\n",
       "    </tr>\n",
       "    <tr>\n",
       "      <th>MIPS_NOP56P_ASSOCIATED_PRE_RRNA_COMPLEX</th>\n",
       "      <td>True</td>\n",
       "      <td>True</td>\n",
       "      <td>True</td>\n",
       "      <td>True</td>\n",
       "    </tr>\n",
       "    <tr>\n",
       "      <th>REACTOME_SRP_DEPENDENT_COTRANSLATIONAL_PROTEIN_TARGETING_TO_MEMBRANE</th>\n",
       "      <td>True</td>\n",
       "      <td>True</td>\n",
       "      <td>True</td>\n",
       "      <td>True</td>\n",
       "    </tr>\n",
       "  </tbody>\n",
       "</table>\n",
       "</div>"
      ],
      "text/plain": [
       "                                                    LV index   AUC  p-value  \\\n",
       "DMAP_MEGA2                                              True  True     True   \n",
       "DMAP_TCELLA1                                            True  True     True   \n",
       "DMAP_TCELLA3                                            True  True     True   \n",
       "IRIS_Bcell-Memory_IgG_IgA                               True  True     True   \n",
       "IRIS_Bcell-Memory_IgM                                   True  True     True   \n",
       "IRIS_Bcell-naive                                        True  True     True   \n",
       "DMAP_BCELLA1                                            True  True     True   \n",
       "KEGG_VASCULAR_SMOOTH_MUSCLE_CONTRACTION                 True  True     True   \n",
       "KEGG_ECM_RECEPTOR_INTERACTION                           True  True     True   \n",
       "KEGG_PURINE_METABOLISM                                  True  True     True   \n",
       "REACTOME_RESPONSE_TO_ELEVATED_PLATELET_CYTOSOLI...      True  True     True   \n",
       "REACTOME_MUSCLE_CONTRACTION                             True  True     True   \n",
       "REACTOME_METABOLISM_OF_AMINO_ACIDS_AND_DERIVATIVES      True  True     True   \n",
       "KEGG_OXIDATIVE_PHOSPHORYLATION                          True  True     True   \n",
       "KEGG_PROTEASOME                                         True  True     True   \n",
       "REACTOME_REGULATION_OF_ORNITHINE_DECARBOXYLASE_ODC      True  True     True   \n",
       "REACTOME_RESPIRATORY_ELECTRON_TRANSPORT_ATP_SYN...      True  True     True   \n",
       "KEGG_PARKINSONS_DISEASE                                 True  True     True   \n",
       "MIPS_39S_RIBOSOMAL_SUBUNIT_MITOCHONDRIAL                True  True     True   \n",
       "REACTOME_ANTIGEN_PROCESSING_CROSS_PRESENTATION          True  True     True   \n",
       "MIPS_55S_RIBOSOME_MITOCHONDRIAL                         True  True     True   \n",
       "KEGG_SPLICEOSOME                                        True  True     True   \n",
       "DMAP_DENDA1                                             True  True     True   \n",
       "REACTOME_INTERFERON_SIGNALING                           True  True     True   \n",
       "REACTOME_INTERFERON_ALPHA_BETA_SIGNALING                True  True     True   \n",
       "REACTOME_MITOCHONDRIAL_PROTEIN_IMPORT                   True  True     True   \n",
       "REACTOME_PEPTIDE_CHAIN_ELONGATION                       True  True     True   \n",
       "REACTOME_FORMATION_OF_THE_TERNARY_COMPLEX_AND_S...      True  True     True   \n",
       "MIPS_NOP56P_ASSOCIATED_PRE_RRNA_COMPLEX                 True  True     True   \n",
       "REACTOME_SRP_DEPENDENT_COTRANSLATIONAL_PROTEIN_...      True  True     True   \n",
       "\n",
       "                                                      FDR  \n",
       "DMAP_MEGA2                                           True  \n",
       "DMAP_TCELLA1                                         True  \n",
       "DMAP_TCELLA3                                         True  \n",
       "IRIS_Bcell-Memory_IgG_IgA                           False  \n",
       "IRIS_Bcell-Memory_IgM                                True  \n",
       "IRIS_Bcell-naive                                     True  \n",
       "DMAP_BCELLA1                                         True  \n",
       "KEGG_VASCULAR_SMOOTH_MUSCLE_CONTRACTION              True  \n",
       "KEGG_ECM_RECEPTOR_INTERACTION                        True  \n",
       "KEGG_PURINE_METABOLISM                               True  \n",
       "REACTOME_RESPONSE_TO_ELEVATED_PLATELET_CYTOSOLI...   True  \n",
       "REACTOME_MUSCLE_CONTRACTION                          True  \n",
       "REACTOME_METABOLISM_OF_AMINO_ACIDS_AND_DERIVATIVES   True  \n",
       "KEGG_OXIDATIVE_PHOSPHORYLATION                       True  \n",
       "KEGG_PROTEASOME                                      True  \n",
       "REACTOME_REGULATION_OF_ORNITHINE_DECARBOXYLASE_ODC   True  \n",
       "REACTOME_RESPIRATORY_ELECTRON_TRANSPORT_ATP_SYN...   True  \n",
       "KEGG_PARKINSONS_DISEASE                              True  \n",
       "MIPS_39S_RIBOSOMAL_SUBUNIT_MITOCHONDRIAL             True  \n",
       "REACTOME_ANTIGEN_PROCESSING_CROSS_PRESENTATION       True  \n",
       "MIPS_55S_RIBOSOME_MITOCHONDRIAL                      True  \n",
       "KEGG_SPLICEOSOME                                     True  \n",
       "DMAP_DENDA1                                          True  \n",
       "REACTOME_INTERFERON_SIGNALING                        True  \n",
       "REACTOME_INTERFERON_ALPHA_BETA_SIGNALING             True  \n",
       "REACTOME_MITOCHONDRIAL_PROTEIN_IMPORT                True  \n",
       "REACTOME_PEPTIDE_CHAIN_ELONGATION                    True  \n",
       "REACTOME_FORMATION_OF_THE_TERNARY_COMPLEX_AND_S...   True  \n",
       "MIPS_NOP56P_ASSOCIATED_PRE_RRNA_COMPLEX              True  \n",
       "REACTOME_SRP_DEPENDENT_COTRANSLATIONAL_PROTEIN_...   True  "
      ]
     },
     "execution_count": 80,
     "metadata": {},
     "output_type": "execute_result"
    }
   ],
   "source": [
    "pr.summary.head(n=64).tail(n=30) == prod.summary.head(n=64).tail(n=30)"
   ]
  },
  {
   "cell_type": "code",
   "execution_count": 79,
   "id": "33066206",
   "metadata": {},
   "outputs": [
    {
     "data": {
      "text/plain": [
       "(64, 4)"
      ]
     },
     "execution_count": 79,
     "metadata": {},
     "output_type": "execute_result"
    }
   ],
   "source": [
    "pr.summary.shape"
   ]
  },
  {
   "cell_type": "code",
   "execution_count": 38,
   "id": "cfc215fe",
   "metadata": {},
   "outputs": [
    {
     "data": {
      "text/plain": [
       "LV index    1.100000e+01\n",
       "AUC         9.311594e-01\n",
       "p-value     2.812640e-47\n",
       "FDR         2.587629e-45\n",
       "Name: DMAP_ERY3, dtype: float64"
      ]
     },
     "execution_count": 38,
     "metadata": {},
     "output_type": "execute_result"
    }
   ],
   "source": [
    "pr.summary.loc[\"DMAP_ERY3\", :]"
   ]
  },
  {
   "cell_type": "code",
   "execution_count": 39,
   "id": "cfc215fe",
   "metadata": {},
   "outputs": [
    {
     "data": {
      "text/plain": [
       "LV index    1.100000e+01\n",
       "AUC         9.311594e-01\n",
       "p-value     2.812640e-47\n",
       "FDR         2.587629e-45\n",
       "Name: DMAP_ERY3, dtype: float64"
      ]
     },
     "execution_count": 39,
     "metadata": {},
     "output_type": "execute_result"
    }
   ],
   "source": [
    "prod.summary.loc[\"DMAP_ERY3\", :]"
   ]
  },
  {
   "cell_type": "code",
   "execution_count": 43,
   "id": "63706cad",
   "metadata": {},
   "outputs": [
    {
     "data": {
      "text/plain": [
       "2.5876290233528305e-45"
      ]
     },
     "execution_count": 43,
     "metadata": {},
     "output_type": "execute_result"
    }
   ],
   "source": [
    "pr.summary.loc[\"DMAP_ERY3\", \"FDR\"]"
   ]
  },
  {
   "cell_type": "code",
   "execution_count": 44,
   "id": "f5e968cc",
   "metadata": {},
   "outputs": [
    {
     "data": {
      "text/plain": [
       "2.5876290233528302e-45"
      ]
     },
     "execution_count": 44,
     "metadata": {},
     "output_type": "execute_result"
    }
   ],
   "source": [
    "prod.summary.loc[\"DMAP_ERY3\", \"FDR\"]"
   ]
  },
  {
   "cell_type": "code",
   "execution_count": 30,
   "id": "0785a3d8",
   "metadata": {},
   "outputs": [
    {
     "data": {
      "text/html": [
       "<div>\n",
       "<style scoped>\n",
       "    .dataframe tbody tr th:only-of-type {\n",
       "        vertical-align: middle;\n",
       "    }\n",
       "\n",
       "    .dataframe tbody tr th {\n",
       "        vertical-align: top;\n",
       "    }\n",
       "\n",
       "    .dataframe thead th {\n",
       "        text-align: right;\n",
       "    }\n",
       "</style>\n",
       "<table border=\"1\" class=\"dataframe\">\n",
       "  <thead>\n",
       "    <tr style=\"text-align: right;\">\n",
       "      <th></th>\n",
       "      <th>LV index</th>\n",
       "      <th>AUC</th>\n",
       "      <th>p-value</th>\n",
       "      <th>FDR</th>\n",
       "    </tr>\n",
       "  </thead>\n",
       "  <tbody>\n",
       "    <tr>\n",
       "      <th>REACTOME_GENERIC_TRANSCRIPTION_PATHWAY</th>\n",
       "      <td>29</td>\n",
       "      <td>0.590790</td>\n",
       "      <td>5.872015e-03</td>\n",
       "      <td>8.063065e-03</td>\n",
       "    </tr>\n",
       "    <tr>\n",
       "      <th>IRIS_Monocyte-Day0</th>\n",
       "      <td>5</td>\n",
       "      <td>0.800015</td>\n",
       "      <td>1.001095e-11</td>\n",
       "      <td>9.590097e-11</td>\n",
       "    </tr>\n",
       "    <tr>\n",
       "      <th>IRIS_Neutrophil-Resting</th>\n",
       "      <td>18</td>\n",
       "      <td>0.690748</td>\n",
       "      <td>2.819430e-08</td>\n",
       "      <td>1.365197e-07</td>\n",
       "    </tr>\n",
       "    <tr>\n",
       "      <th>DMAP_MONO1</th>\n",
       "      <td>5</td>\n",
       "      <td>0.842793</td>\n",
       "      <td>1.525878e-07</td>\n",
       "      <td>5.615231e-07</td>\n",
       "    </tr>\n",
       "    <tr>\n",
       "      <th>PID_IL6_7PATHWAY</th>\n",
       "      <td>2</td>\n",
       "      <td>0.712596</td>\n",
       "      <td>7.799121e-03</td>\n",
       "      <td>1.055175e-02</td>\n",
       "    </tr>\n",
       "    <tr>\n",
       "      <th>...</th>\n",
       "      <td>...</td>\n",
       "      <td>...</td>\n",
       "      <td>...</td>\n",
       "      <td>...</td>\n",
       "    </tr>\n",
       "    <tr>\n",
       "      <th>REACTOME_MITOCHONDRIAL_PROTEIN_IMPORT</th>\n",
       "      <td>30</td>\n",
       "      <td>0.762270</td>\n",
       "      <td>1.896318e-03</td>\n",
       "      <td>3.007953e-03</td>\n",
       "    </tr>\n",
       "    <tr>\n",
       "      <th>REACTOME_PEPTIDE_CHAIN_ELONGATION</th>\n",
       "      <td>30</td>\n",
       "      <td>0.949471</td>\n",
       "      <td>1.934557e-11</td>\n",
       "      <td>1.617993e-10</td>\n",
       "    </tr>\n",
       "    <tr>\n",
       "      <th>REACTOME_FORMATION_OF_THE_TERNARY_COMPLEX_AND_SUBSEQUENTLY_THE_43S_COMPLEX</th>\n",
       "      <td>30</td>\n",
       "      <td>0.998620</td>\n",
       "      <td>1.862630e-08</td>\n",
       "      <td>1.008011e-07</td>\n",
       "    </tr>\n",
       "    <tr>\n",
       "      <th>MIPS_NOP56P_ASSOCIATED_PRE_RRNA_COMPLEX</th>\n",
       "      <td>30</td>\n",
       "      <td>0.886059</td>\n",
       "      <td>3.125977e-10</td>\n",
       "      <td>2.054214e-09</td>\n",
       "    </tr>\n",
       "    <tr>\n",
       "      <th>REACTOME_SRP_DEPENDENT_COTRANSLATIONAL_PROTEIN_TARGETING_TO_MEMBRANE</th>\n",
       "      <td>30</td>\n",
       "      <td>0.952135</td>\n",
       "      <td>5.471947e-14</td>\n",
       "      <td>7.191702e-13</td>\n",
       "    </tr>\n",
       "  </tbody>\n",
       "</table>\n",
       "<p>64 rows × 4 columns</p>\n",
       "</div>"
      ],
      "text/plain": [
       "                                                    LV index       AUC  \\\n",
       "REACTOME_GENERIC_TRANSCRIPTION_PATHWAY                    29  0.590790   \n",
       "IRIS_Monocyte-Day0                                         5  0.800015   \n",
       "IRIS_Neutrophil-Resting                                   18  0.690748   \n",
       "DMAP_MONO1                                                 5  0.842793   \n",
       "PID_IL6_7PATHWAY                                           2  0.712596   \n",
       "...                                                      ...       ...   \n",
       "REACTOME_MITOCHONDRIAL_PROTEIN_IMPORT                     30  0.762270   \n",
       "REACTOME_PEPTIDE_CHAIN_ELONGATION                         30  0.949471   \n",
       "REACTOME_FORMATION_OF_THE_TERNARY_COMPLEX_AND_S...        30  0.998620   \n",
       "MIPS_NOP56P_ASSOCIATED_PRE_RRNA_COMPLEX                   30  0.886059   \n",
       "REACTOME_SRP_DEPENDENT_COTRANSLATIONAL_PROTEIN_...        30  0.952135   \n",
       "\n",
       "                                                         p-value           FDR  \n",
       "REACTOME_GENERIC_TRANSCRIPTION_PATHWAY              5.872015e-03  8.063065e-03  \n",
       "IRIS_Monocyte-Day0                                  1.001095e-11  9.590097e-11  \n",
       "IRIS_Neutrophil-Resting                             2.819430e-08  1.365197e-07  \n",
       "DMAP_MONO1                                          1.525878e-07  5.615231e-07  \n",
       "PID_IL6_7PATHWAY                                    7.799121e-03  1.055175e-02  \n",
       "...                                                          ...           ...  \n",
       "REACTOME_MITOCHONDRIAL_PROTEIN_IMPORT               1.896318e-03  3.007953e-03  \n",
       "REACTOME_PEPTIDE_CHAIN_ELONGATION                   1.934557e-11  1.617993e-10  \n",
       "REACTOME_FORMATION_OF_THE_TERNARY_COMPLEX_AND_S...  1.862630e-08  1.008011e-07  \n",
       "MIPS_NOP56P_ASSOCIATED_PRE_RRNA_COMPLEX             3.125977e-10  2.054214e-09  \n",
       "REACTOME_SRP_DEPENDENT_COTRANSLATIONAL_PROTEIN_...  5.471947e-14  7.191702e-13  \n",
       "\n",
       "[64 rows x 4 columns]"
      ]
     },
     "execution_count": 30,
     "metadata": {},
     "output_type": "execute_result"
    }
   ],
   "source": [
    "prod.summary"
   ]
  },
  {
   "cell_type": "code",
   "execution_count": 25,
   "id": "124ce2e6",
   "metadata": {},
   "outputs": [],
   "source": [
    "prod.summary.to_csv(project_folder / \"data\" / \"common\" / \"plierRes_summary.csv.gz\")"
   ]
  },
  {
   "cell_type": "code",
   "execution_count": null,
   "id": "a69fd477",
   "metadata": {},
   "outputs": [],
   "source": []
  }
 ],
 "metadata": {
  "kernelspec": {
   "display_name": "Python 3.9.12 ('pyplier-3Y0kqMGe-py3.9')",
   "language": "python",
   "name": "python3"
  },
  "language_info": {
   "codemirror_mode": {
    "name": "ipython",
    "version": 3
   },
   "file_extension": ".py",
   "mimetype": "text/x-python",
   "name": "python",
   "nbconvert_exporter": "python",
   "pygments_lexer": "ipython3",
   "version": "3.9.12"
  },
  "vscode": {
   "interpreter": {
    "hash": "d7335e7f2199ac4e6e457cb78615779acc9fd46473fde51412a21c309c324cec"
   }
  }
 },
 "nbformat": 4,
 "nbformat_minor": 5
}
