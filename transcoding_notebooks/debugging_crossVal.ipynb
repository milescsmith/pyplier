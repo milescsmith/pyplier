{
 "cells": [
  {
   "cell_type": "code",
   "execution_count": 25,
   "id": "50e7ad48-64d6-4136-bac0-3688c012d270",
   "metadata": {},
   "outputs": [],
   "source": [
    "from typing import Dict\n",
    "from collections.abc import Iterable\n",
    "\n",
    "import numpy as np\n",
    "import pandas as pd\n",
    "from statsmodels.stats.multitest import multipletests\n",
    "from tqdm.auto import tqdm\n",
    "\n",
    "from pyplier.AUC import AUC\n",
    "from pyplier.copyMat import copyMat\n",
    "from pyplier.PLIERRes import PLIERResults"
   ]
  },
  {
   "cell_type": "code",
   "execution_count": 26,
   "id": "e9faf609-7c15-41ac-b37d-840582302206",
   "metadata": {},
   "outputs": [],
   "source": [
    "%store -r out\n",
    "%store -r priorMat\n",
    "%store -r priorMatCV"
   ]
  },
  {
   "cell_type": "code",
   "execution_count": 27,
   "id": "4c7b1573-f179-4867-b57a-3632ed4fb0fa",
   "metadata": {},
   "outputs": [],
   "source": [
    "plierRes = out\n",
    "priorMat = priorMat\n",
    "priorMatcv = priorMatCV"
   ]
  },
  {
   "cell_type": "code",
   "execution_count": 28,
   "id": "cf7729cc-02f0-43d2-8b6b-16ad08461971",
   "metadata": {},
   "outputs": [
    {
     "data": {
      "text/plain": [
       "B : 30 rows x 36 columns\n",
       "Z : 5892 rows x 30 columns\n",
       "U : 606 rows x 30 columns\n",
       "C : 5892 rows x 606 columns\n",
       "heldOutGenes: 606\n",
       "withPrior: 0\n",
       "Uauc: 0 rows x 0 columns\n",
       "Up: 0 rows x 0 columns\n",
       "summary: 0 rows x 0 columns\n",
       "residual: 5892 rows x 36 columns\n",
       "L1 is set to 18.1606\n",
       "L2 is set to 36.3212\n",
       "L3 is set to 0.0004"
      ]
     },
     "execution_count": 28,
     "metadata": {},
     "output_type": "execute_result"
    }
   ],
   "source": [
    "out"
   ]
  },
  {
   "cell_type": "code",
   "execution_count": 21,
   "id": "9860b431-cbed-4bf7-bac9-34ca0bf7f33a",
   "metadata": {},
   "outputs": [],
   "source": [
    "out.U.to_csv(\"debug_u_20220417.csv.gz\")"
   ]
  },
  {
   "cell_type": "code",
   "execution_count": 22,
   "id": "52b0e26f-bc60-4608-9e65-1c5f53a60361",
   "metadata": {},
   "outputs": [],
   "source": [
    "out.Z.to_csv(\"debug_z_20220417.csv.gz\")"
   ]
  },
  {
   "cell_type": "code",
   "execution_count": null,
   "id": "758859cf-5d9a-477d-9c6f-4e37cd7c0afc",
   "metadata": {},
   "outputs": [],
   "source": []
  },
  {
   "cell_type": "code",
   "execution_count": 23,
   "id": "32b05fbb-fef2-457c-8641-dddc79aad9b2",
   "metadata": {},
   "outputs": [],
   "source": [
    "priorMatcv.to_csv(\"debug_priormatcv_20220417.csv.gz\")\n",
    "priorMat.to_csv(\"debug_priormat_20220417.csv.gz\")"
   ]
  },
  {
   "cell_type": "code",
   "execution_count": 29,
   "id": "12bba31a-ab99-417f-b2a1-552f95491e10",
   "metadata": {},
   "outputs": [],
   "source": [
    "out = pd.DataFrame(\n",
    "    data=np.empty(shape=(0, 4)), columns=[\"pathway\", \"LV index\", \"AUC\", \"p-value\"]\n",
    ")\n",
    "out_dict = dict()\n",
    "ii = plierRes.U.loc[:, plierRes.U.sum(axis=0) > 0].columns\n",
    "Uauc = pd.DataFrame(\n",
    "    np.zeros(shape=plierRes.U.shape),\n",
    "    index=plierRes.U.index,\n",
    "    columns=plierRes.U.columns,\n",
    ")\n",
    "Up = pd.DataFrame(\n",
    "    np.ones(shape=plierRes.U.shape),\n",
    "    index=plierRes.U.index,\n",
    "    columns=plierRes.U.columns,\n",
    ")"
   ]
  },
  {
   "cell_type": "code",
   "execution_count": 5,
   "id": "55870765-29ff-4b1e-8b80-262998d86d08",
   "metadata": {},
   "outputs": [
    {
     "data": {
      "text/plain": [
       "Index(['LV1', 'LV2', 'LV3', 'LV4', 'LV6', 'LV7', 'LV8', 'LV9', 'LV10', 'LV14',\n",
       "       'LV15', 'LV16', 'LV20', 'LV23', 'LV24', 'LV27', 'LV28', 'LV29', 'LV30'],\n",
       "      dtype='object')"
      ]
     },
     "execution_count": 5,
     "metadata": {},
     "output_type": "execute_result"
    }
   ],
   "source": [
    "for i in tqdm(ii):\n",
    "    iipath = plierRes.U.loc[(plierRes.U.loc[:, i] > 0), i].index\n",
    "    if len(iipath) > 1:\n",
    "        for j in tqdm(iipath):\n",
    "            iiheldout = (\n",
    "                pd.concat([priorMat.loc[:, j], priorMatcv.loc[:, j]], axis=1)\n",
    "                .apply(\n",
    "                    lambda x: True\n",
    "                    if (x[0] == 0) or ((x[0] > 0) and (x[1] == 0))\n",
    "                    else np.nan,  # use np.nan instead of False so that we can drop entries in the chain\n",
    "                    axis=1,\n",
    "                )\n",
    "                .dropna()\n",
    "                .index\n",
    "            )\n",
    "            aucres = AUC(priorMat.loc[iiheldout, j], plierRes.Z.loc[iiheldout, i])\n",
    "            out_dict[j] = {\n",
    "                \"pathway\": j,\n",
    "                \"LV index\": i,\n",
    "                \"AUC\": aucres[\"auc\"],\n",
    "                \"p-value\": aucres[\"pval\"],\n",
    "            }\n",
    "            Uauc.loc[j, i] = aucres[\"auc\"]\n",
    "            Up.loc[j, i] = aucres[\"pval\"]\n",
    "\n",
    "    else:\n",
    "        j = iipath[0]\n",
    "        iiheldout = (\n",
    "            pd.concat([priorMat.loc[:, j], priorMatcv.loc[:, j]], axis=1)\n",
    "            .apply(\n",
    "                lambda x: True\n",
    "                if (x[0] == 0) or ((x[0] > 0) and (x[1] == 0))\n",
    "                else np.nan,\n",
    "                axis=1,\n",
    "            )\n",
    "            .dropna()\n",
    "            .index\n",
    "        )\n",
    "\n",
    "        aucres = AUC(priorMat.loc[iiheldout, j], plierRes.Z.loc[iiheldout, i])\n",
    "        if isinstance(j, Iterable) and not isinstance(j, str):\n",
    "            for _ in j:\n",
    "                out_dict[_] = {\n",
    "                    \"pathway\": _,\n",
    "                    \"LV index\": i,\n",
    "                    \"AUC\": aucres[\"auc\"],\n",
    "                    \"p-value\": aucres[\"pval\"],\n",
    "                }\n",
    "                Uauc.loc[_, i] = aucres[\"auc\"]\n",
    "                Up.loc[_, i] = aucres[\"pval\"]\n",
    "        elif isinstance(j, str):\n",
    "            out_dict[j] = {\n",
    "                \"pathway\": j,\n",
    "                \"LV index\": i,\n",
    "                \"AUC\": aucres[\"auc\"],\n",
    "                \"p-value\": aucres[\"pval\"],\n",
    "            }\n",
    "            Uauc.loc[j, i] = aucres[\"auc\"]\n",
    "            Up.loc[j, i] = aucres[\"pval\"]"
   ]
  },
  {
   "cell_type": "code",
   "execution_count": 30,
   "id": "f462df89-aba4-4346-8e0b-1c60585a5043",
   "metadata": {},
   "outputs": [],
   "source": [
    "i = ii[0]"
   ]
  },
  {
   "cell_type": "code",
   "execution_count": 31,
   "id": "b6ec3fc5-7551-4f1a-9b80-48e67f6eade7",
   "metadata": {},
   "outputs": [],
   "source": [
    "iipath = plierRes.U.loc[(plierRes.U.loc[:, i] > 0), i].index"
   ]
  },
  {
   "cell_type": "code",
   "execution_count": 32,
   "id": "1c12c8ed-1498-42f8-919f-f2fbeec3a8e8",
   "metadata": {},
   "outputs": [
    {
     "data": {
      "text/plain": [
       "Index(['REACTOME_GENERIC_TRANSCRIPTION_PATHWAY', 'REACTOME_IMMUNE_SYSTEM',\n",
       "       'REACTOME_TRANSMEMBRANE_TRANSPORT_OF_SMALL_MOLECULES'],\n",
       "      dtype='object')"
      ]
     },
     "execution_count": 32,
     "metadata": {},
     "output_type": "execute_result"
    }
   ],
   "source": [
    "iipath"
   ]
  },
  {
   "cell_type": "code",
   "execution_count": 33,
   "id": "c37fcc79-e29e-45d8-bd74-86370dc428e4",
   "metadata": {},
   "outputs": [],
   "source": [
    "j = iipath[0]"
   ]
  },
  {
   "cell_type": "code",
   "execution_count": 34,
   "id": "9c0c1497-c80d-4f0e-b971-3e71d438dbbb",
   "metadata": {},
   "outputs": [],
   "source": [
    "iiheldout = (\n",
    "    pd.concat([priorMat.loc[:, j], priorMatcv.loc[:, j]], axis=1)\n",
    "    .apply(\n",
    "        lambda x: True\n",
    "        if (x[0] == 0) or ((x[0] > 0) and (x[1] == 0))\n",
    "        else np.nan,  # use np.nan instead of False so that we can drop entries in the chain\n",
    "        axis=1,\n",
    "    )\n",
    "    .dropna()\n",
    "    .index\n",
    ")"
   ]
  },
  {
   "cell_type": "code",
   "execution_count": 35,
   "id": "ff410f80-fe4d-4800-9eb2-e2b8ade573b9",
   "metadata": {},
   "outputs": [
    {
     "data": {
      "text/plain": [
       "Index(['GAS6', 'MMP14', 'MARCKSL1', 'SPARC', 'CTSD', 'EPAS1', 'PALLD', 'PHC2',\n",
       "       'LGALS3BP', 'SERPING1',\n",
       "       ...\n",
       "       'LDHA', 'LDHB', 'ACAP1', 'ACAP2', 'ACAP3', 'CFL2', 'CFL1', 'SELL',\n",
       "       'GNGT2', 'SERPINH1'],\n",
       "      dtype='object', name='gene', length=5672)"
      ]
     },
     "execution_count": 35,
     "metadata": {},
     "output_type": "execute_result"
    }
   ],
   "source": [
    "iiheldout"
   ]
  },
  {
   "cell_type": "code",
   "execution_count": 64,
   "id": "c789228f-d731-42a6-aef5-a4ff069dd4d7",
   "metadata": {},
   "outputs": [
    {
     "data": {
      "text/plain": [
       "Index(['GAS6', 'MMP14', 'MARCKSL1', 'SPARC', 'EPAS1', 'PALLD', 'PHC2',\n",
       "       'LGALS3BP', 'SERPING1', 'TGM2',\n",
       "       ...\n",
       "       'LDHD', 'GMPR2', 'LDHA', 'LDHB', 'ACAP1', 'ACAP2', 'ACAP3', 'CFL2',\n",
       "       'CFL1', 'SERPINH1'],\n",
       "      dtype='object', name='gene', length=4656)"
      ]
     },
     "execution_count": 64,
     "metadata": {},
     "output_type": "execute_result"
    }
   ],
   "source": [
    "c = priorMat.loc[:, iipath].sum(axis=1).where(lambda x: x == 0).dropna().index\n",
    "c"
   ]
  },
  {
   "cell_type": "code",
   "execution_count": 57,
   "id": "9f23d9b1-e0da-4e44-b6e3-fa7381bf313f",
   "metadata": {},
   "outputs": [
    {
     "data": {
      "text/plain": [
       "Index(['RXRA', 'NR1H3', 'SMARCD3', 'NR3C2', 'MED25', 'ZNF528', 'ZNF552',\n",
       "       'E2F5', 'NRBF2', 'CDKN2B',\n",
       "       ...\n",
       "       'ZNF266', 'ZNF267', 'ZNF263', 'ZNF547', 'ZNF546', 'ZNF548', 'TGIF2',\n",
       "       'TGIF1', 'ZNF287', 'ZNF282'],\n",
       "      dtype='object', name='gene', length=274)"
      ]
     },
     "execution_count": 57,
     "metadata": {},
     "output_type": "execute_result"
    }
   ],
   "source": [
    "a = priorMat.loc[:, j].where(lambda x: x > 0).dropna().index\n",
    "a"
   ]
  },
  {
   "cell_type": "code",
   "execution_count": 58,
   "id": "ee856c88-899c-4ee7-ab2c-4489bb1a3867",
   "metadata": {},
   "outputs": [
    {
     "data": {
      "text/plain": [
       "Index(['GAS6', 'MMP14', 'MARCKSL1', 'SPARC', 'CTSD', 'EPAS1', 'PALLD', 'PHC2',\n",
       "       'LGALS3BP', 'SERPING1',\n",
       "       ...\n",
       "       'LDHA', 'LDHB', 'ACAP1', 'ACAP2', 'ACAP3', 'CFL2', 'CFL1', 'SELL',\n",
       "       'GNGT2', 'SERPINH1'],\n",
       "      dtype='object', name='gene', length=5672)"
      ]
     },
     "execution_count": 58,
     "metadata": {},
     "output_type": "execute_result"
    }
   ],
   "source": [
    "b = priorMatcv.loc[:, j].where(lambda x: x == 0).dropna().index\n",
    "b"
   ]
  },
  {
   "cell_type": "code",
   "execution_count": 60,
   "id": "a25d9cc9-b072-46b0-bc7c-e63519d6c488",
   "metadata": {},
   "outputs": [
    {
     "data": {
      "text/plain": [
       "Index(['NRBF2', 'NOTCH4', 'ZNF175', 'E2F4', 'SMAD7', 'ZNF582', 'CDK9',\n",
       "       'ZNF202', 'ZNF205', 'ZNF416', 'ZFP28', 'ZNF583', 'ZKSCAN5', 'ZKSCAN4',\n",
       "       'ZNF615', 'NR1I3', 'ZNF558', 'NCOA2', 'NCOA3', 'ZNF180', 'ZNF230',\n",
       "       'CCNT1', 'MED31', 'MAML2', 'TEAD2', 'ZNF33B', 'ZNF101', 'CCNC', 'NCOR2',\n",
       "       'ZNF37A', 'ZNF426', 'THRB', 'ZNF649', 'ZNF398', 'ZFP37', 'ZNF337',\n",
       "       'ZNF484', 'ZNF485', 'PPARD', 'ZNF544', 'RARA', 'RARG', 'ZNF559',\n",
       "       'ZNF561', 'ZNF222', 'ZNF226', 'ZNF227', 'ZNF436', 'NR4A2', 'ZNF12',\n",
       "       'ZNF267', 'ZNF263', 'ZNF547', 'TGIF1'],\n",
       "      dtype='object', name='gene')"
      ]
     },
     "execution_count": 60,
     "metadata": {},
     "output_type": "execute_result"
    }
   ],
   "source": [
    "a.intersection(b)"
   ]
  },
  {
   "cell_type": "code",
   "execution_count": 61,
   "id": "f9d98455-4f6f-4395-837c-302c25b41dc8",
   "metadata": {},
   "outputs": [
    {
     "data": {
      "text/plain": [
       "54"
      ]
     },
     "execution_count": 61,
     "metadata": {},
     "output_type": "execute_result"
    }
   ],
   "source": [
    "len(a.intersection(b))"
   ]
  },
  {
   "cell_type": "code",
   "execution_count": 66,
   "id": "adee11c8-1af2-47cd-a733-4431b4ff40f9",
   "metadata": {},
   "outputs": [
    {
     "data": {
      "text/plain": [
       "Index(['A2M', 'AANAT', 'AARS', 'AARS2', 'AASDH', 'AASDHPPT', 'AATK', 'ABAT',\n",
       "       'ABCA1', 'ABCA5',\n",
       "       ...\n",
       "       'ZNF615', 'ZNF618', 'ZNF649', 'ZNF703', 'ZNFX1', 'ZNRD1', 'ZW10',\n",
       "       'ZWILCH', 'ZWINT', 'ZYX'],\n",
       "      dtype='object', name='gene', length=4710)"
      ]
     },
     "execution_count": 66,
     "metadata": {},
     "output_type": "execute_result"
    }
   ],
   "source": [
    "d = c.union(a.intersection(b))\n",
    "d"
   ]
  },
  {
   "cell_type": "code",
   "execution_count": 67,
   "id": "87946424-a118-4d6e-8166-8235df508117",
   "metadata": {},
   "outputs": [],
   "source": [
    "c = priorMat.loc[:, iipath].sum(axis=1).where(lambda x: x == 0).dropna().index\n",
    "a = priorMat.loc[:, j].where(lambda x: x > 0).dropna().index\n",
    "b = priorMatcv.loc[:, j].where(lambda x: x == 0).dropna().index\n",
    "iiheldout = c.union(a.intersection(b))"
   ]
  },
  {
   "cell_type": "code",
   "execution_count": 68,
   "id": "cb54327e-4ec6-4df3-a89a-53f628e27829",
   "metadata": {},
   "outputs": [],
   "source": [
    "aucres = AUC(priorMat.loc[iiheldout, j], plierRes.Z.loc[iiheldout, i])"
   ]
  },
  {
   "cell_type": "code",
   "execution_count": 13,
   "id": "2da9509a-dc98-44cf-8067-71854b6d9f4a",
   "metadata": {},
   "outputs": [],
   "source": [
    "out_dict[j] = {\n",
    "    \"pathway\": j,\n",
    "    \"LV index\": i,\n",
    "    \"AUC\": aucres[\"auc\"],\n",
    "    \"p-value\": aucres[\"pval\"],\n",
    "}"
   ]
  },
  {
   "cell_type": "code",
   "execution_count": 14,
   "id": "bddb3c01-6495-4c3e-a101-e8a334dc87d2",
   "metadata": {},
   "outputs": [],
   "source": [
    "Uauc.loc[j, i] = aucres[\"auc\"]"
   ]
  },
  {
   "cell_type": "code",
   "execution_count": 69,
   "id": "43e2b81a-9a61-45e5-99de-71bbe6f3dab9",
   "metadata": {},
   "outputs": [
    {
     "data": {
      "text/plain": [
       "0.5391549732722413"
      ]
     },
     "execution_count": 69,
     "metadata": {},
     "output_type": "execute_result"
    }
   ],
   "source": [
    "aucres[\"auc\"]"
   ]
  },
  {
   "cell_type": "code",
   "execution_count": 70,
   "id": "74179d6f-55f8-45bf-bbc4-8b397c58ae51",
   "metadata": {},
   "outputs": [
    {
     "data": {
      "text/plain": [
       "{'low': -7.104548354439511e-05,\n",
       " 'high': inf,\n",
       " 'auc': 0.5391549732722413,\n",
       " 'pval': 0.13507923396016042}"
      ]
     },
     "execution_count": 70,
     "metadata": {},
     "output_type": "execute_result"
    }
   ],
   "source": [
    "aucres"
   ]
  },
  {
   "cell_type": "code",
   "execution_count": 75,
   "id": "440a43af-80ce-4ce9-aca6-9119ea064077",
   "metadata": {},
   "outputs": [],
   "source": [
    "i = ii[4]"
   ]
  },
  {
   "cell_type": "code",
   "execution_count": 76,
   "id": "bb2c8448-c450-4a18-9fc9-42349d93090b",
   "metadata": {},
   "outputs": [],
   "source": [
    "iipath = plierRes.U.loc[(plierRes.U.loc[:, i] > 0), i].index"
   ]
  },
  {
   "cell_type": "code",
   "execution_count": 77,
   "id": "16601b8f-c776-4d0d-952e-36c7a60377bc",
   "metadata": {},
   "outputs": [
    {
     "data": {
      "text/plain": [
       "Index(['REACTOME_GENERIC_TRANSCRIPTION_PATHWAY'], dtype='object')"
      ]
     },
     "execution_count": 77,
     "metadata": {},
     "output_type": "execute_result"
    }
   ],
   "source": [
    "iipath"
   ]
  },
  {
   "cell_type": "code",
   "execution_count": 81,
   "id": "2621d0e7-5724-44ad-95cd-7b7941c7bb0d",
   "metadata": {},
   "outputs": [],
   "source": [
    "j = iipath[0]"
   ]
  },
  {
   "cell_type": "code",
   "execution_count": 79,
   "id": "80695a26-20e7-4ee9-9569-7397aecf4884",
   "metadata": {},
   "outputs": [
    {
     "data": {
      "text/plain": [
       "Index(['GAS6', 'MMP14', 'MARCKSL1', 'SPARC', 'CTSD', 'EPAS1', 'PALLD', 'PHC2',\n",
       "       'LGALS3BP', 'SERPING1',\n",
       "       ...\n",
       "       'LDHA', 'LDHB', 'ACAP1', 'ACAP2', 'ACAP3', 'CFL2', 'CFL1', 'SELL',\n",
       "       'GNGT2', 'SERPINH1'],\n",
       "      dtype='object', name='gene', length=5618)"
      ]
     },
     "execution_count": 79,
     "metadata": {},
     "output_type": "execute_result"
    }
   ],
   "source": [
    "priorMat.loc[:, iipath].sum(axis=1).where(lambda x: x == 0).dropna().index"
   ]
  },
  {
   "cell_type": "code",
   "execution_count": 80,
   "id": "d1b1b51b-aab4-4e95-8024-c09e306387c2",
   "metadata": {},
   "outputs": [
    {
     "data": {
      "text/plain": [
       "Index(['GAS6', 'MMP14', 'MARCKSL1', 'SPARC', 'CTSD', 'EPAS1', 'PALLD', 'PHC2',\n",
       "       'LGALS3BP', 'SERPING1',\n",
       "       ...\n",
       "       'LDHA', 'LDHB', 'ACAP1', 'ACAP2', 'ACAP3', 'CFL2', 'CFL1', 'SELL',\n",
       "       'GNGT2', 'SERPINH1'],\n",
       "      dtype='object', name='gene', length=5618)"
      ]
     },
     "execution_count": 80,
     "metadata": {},
     "output_type": "execute_result"
    }
   ],
   "source": [
    "priorMat.loc[:, iipath].where(lambda x: x == 0).dropna().index"
   ]
  },
  {
   "cell_type": "code",
   "execution_count": 83,
   "id": "910ed028-6f75-4baa-8f01-81b96754c898",
   "metadata": {},
   "outputs": [
    {
     "data": {
      "text/plain": [
       "'REACTOME_GENERIC_TRANSCRIPTION_PATHWAY'"
      ]
     },
     "execution_count": 83,
     "metadata": {},
     "output_type": "execute_result"
    }
   ],
   "source": [
    "j"
   ]
  },
  {
   "cell_type": "code",
   "execution_count": 84,
   "id": "5e05ea2a-edc9-4b75-83fc-a2f7dee0dd15",
   "metadata": {},
   "outputs": [
    {
     "data": {
      "text/plain": [
       "Index(['RXRA', 'NR1H3', 'SMARCD3', 'NR3C2', 'MED25', 'ZNF528', 'ZNF552',\n",
       "       'E2F5', 'NRBF2', 'CDKN2B',\n",
       "       ...\n",
       "       'ZNF266', 'ZNF267', 'ZNF263', 'ZNF547', 'ZNF546', 'ZNF548', 'TGIF2',\n",
       "       'TGIF1', 'ZNF287', 'ZNF282'],\n",
       "      dtype='object', name='gene', length=274)"
      ]
     },
     "execution_count": 84,
     "metadata": {},
     "output_type": "execute_result"
    }
   ],
   "source": [
    "priorMat.loc[:, j].where(lambda x: x > 0).dropna().index"
   ]
  },
  {
   "cell_type": "code",
   "execution_count": 15,
   "id": "96316fe6-3ce2-49ec-82cc-4a2814127011",
   "metadata": {},
   "outputs": [],
   "source": [
    "Up.loc[j, i] = aucres[\"pval\"]"
   ]
  },
  {
   "cell_type": "code",
   "execution_count": 85,
   "id": "e21c0a96-56a1-45c6-bce3-eafacf6e91ba",
   "metadata": {},
   "outputs": [],
   "source": [
    "a = priorMat.loc[:, iipath].where(lambda x: x == 0).dropna().index\n",
    "b = priorMat.loc[:, j].where(lambda x: x > 0).dropna().index\n",
    "c = priorMatcv.loc[:, j].where(lambda x: x == 0).dropna().index\n",
    "iiheldout = a.union(b.intersection(c))"
   ]
  },
  {
   "cell_type": "code",
   "execution_count": 86,
   "id": "847707e4-97b2-463e-a2f1-d554a79f5d77",
   "metadata": {},
   "outputs": [],
   "source": [
    "aucres = AUC(priorMat.loc[iiheldout, j], plierRes.Z.loc[iiheldout, i])"
   ]
  },
  {
   "cell_type": "code",
   "execution_count": 87,
   "id": "bf9d6df4-349e-465b-97c4-0edea737890a",
   "metadata": {},
   "outputs": [
    {
     "data": {
      "text/plain": [
       "{'low': 1.5898721390235826e-05,\n",
       " 'high': inf,\n",
       " 'auc': 0.5731082631225031,\n",
       " 'pval': 0.02109867841667011}"
      ]
     },
     "execution_count": 87,
     "metadata": {},
     "output_type": "execute_result"
    }
   ],
   "source": [
    "aucres"
   ]
  },
  {
   "cell_type": "code",
   "execution_count": null,
   "id": "2749bdd2-1261-480c-b48a-e4a9daca99de",
   "metadata": {},
   "outputs": [],
   "source": [
    "if len(iipath) > 1:\n",
    "    for j in tqdm(iipath):\n",
    "        c = priorMat.loc[:, iipath].sum(axis=1).where(lambda x: x == 0).dropna().index\n",
    "        a = priorMat.loc[:, j].where(lambda x: x > 0).dropna().index\n",
    "        b = priorMatcv.loc[:, j].where(lambda x: x == 0).dropna().index\n",
    "        iiheldout = c.union(a.intersection(b))\n",
    "        aucres = AUC(priorMat.loc[iiheldout, j], plierRes.Z.loc[iiheldout, i])\n",
    "        out_dict[j] = {\n",
    "            \"pathway\": j,\n",
    "            \"LV index\": i,\n",
    "            \"AUC\": aucres[\"auc\"],\n",
    "            \"p-value\": aucres[\"pval\"],\n",
    "        }\n",
    "        Uauc.loc[j, i] = aucres[\"auc\"]\n",
    "        Up.loc[j, i] = aucres[\"pval\"]"
   ]
  },
  {
   "cell_type": "code",
   "execution_count": 48,
   "id": "a8c483bf-bfc7-4ea1-8748-1ef8d307aa1a",
   "metadata": {},
   "outputs": [],
   "source": [
    "iipaths = {i: plierRes.U.loc[(plierRes.U.loc[:, i] > 0), i].index for i in ii}"
   ]
  },
  {
   "cell_type": "code",
   "execution_count": 44,
   "id": "a70d05a6-da22-43e3-b037-2a581b39e604",
   "metadata": {},
   "outputs": [],
   "source": [
    "if isinstance(j, Iterable) and not isinstance(j, str):\n",
    "    for _ in j:\n",
    "        out_dict[_] = {\n",
    "            \"pathway\": _,\n",
    "            \"LV index\": i,\n",
    "            \"AUC\": aucres[\"auc\"],\n",
    "            \"p-value\": aucres[\"pval\"],\n",
    "        }\n",
    "        Uauc.loc[_, i] = aucres[\"auc\"]\n",
    "        Up.loc[_, i] = aucres[\"pval\"]\n",
    "elif isinstance(j, str):\n",
    "    out_dict[j] = {\n",
    "        \"pathway\": j,\n",
    "        \"LV index\": i,\n",
    "        \"AUC\": aucres[\"auc\"],\n",
    "        \"p-value\": aucres[\"pval\"],\n",
    "    }\n",
    "    Uauc.loc[j, i] = aucres[\"auc\"]\n",
    "    Up.loc[j, i] = aucres[\"pval\"]"
   ]
  },
  {
   "cell_type": "code",
   "execution_count": 45,
   "id": "d541cb4d-0286-433e-b6a7-cf5742de18e3",
   "metadata": {},
   "outputs": [
    {
     "data": {
      "text/plain": [
       "{'REACTOME_GENERIC_TRANSCRIPTION_PATHWAY': {'pathway': 'REACTOME_GENERIC_TRANSCRIPTION_PATHWAY',\n",
       "  'LV index': 'LV30',\n",
       "  'AUC': 0.4435280777395409,\n",
       "  'p-value': 0.9342239015236435}}"
      ]
     },
     "execution_count": 45,
     "metadata": {},
     "output_type": "execute_result"
    }
   ],
   "source": [
    "out_dict"
   ]
  },
  {
   "cell_type": "code",
   "execution_count": 50,
   "id": "175e7c22-290b-4433-a050-b07daec58531",
   "metadata": {},
   "outputs": [
    {
     "data": {
      "application/vnd.jupyter.widget-view+json": {
       "model_id": "7e18d66d68014cf09e73cdabf2ed6b5e",
       "version_major": 2,
       "version_minor": 0
      },
      "text/plain": [
       "  0%|          | 0/19 [00:00<?, ?it/s]"
      ]
     },
     "metadata": {},
     "output_type": "display_data"
    },
    {
     "data": {
      "application/vnd.jupyter.widget-view+json": {
       "model_id": "b56727fa14e9407ca904829c2d223353",
       "version_major": 2,
       "version_minor": 0
      },
      "text/plain": [
       "  0%|          | 0/3 [00:00<?, ?it/s]"
      ]
     },
     "metadata": {},
     "output_type": "display_data"
    },
    {
     "data": {
      "application/vnd.jupyter.widget-view+json": {
       "model_id": "d809b5ae8add485c95626dfbd6676a94",
       "version_major": 2,
       "version_minor": 0
      },
      "text/plain": [
       "  0%|          | 0/2 [00:00<?, ?it/s]"
      ]
     },
     "metadata": {},
     "output_type": "display_data"
    },
    {
     "data": {
      "application/vnd.jupyter.widget-view+json": {
       "model_id": "3f2c8c5d6da844d6813a3389b97066ac",
       "version_major": 2,
       "version_minor": 0
      },
      "text/plain": [
       "  0%|          | 0/2 [00:00<?, ?it/s]"
      ]
     },
     "metadata": {},
     "output_type": "display_data"
    },
    {
     "data": {
      "application/vnd.jupyter.widget-view+json": {
       "model_id": "dae112f6721f4e788922bb1c3de6c633",
       "version_major": 2,
       "version_minor": 0
      },
      "text/plain": [
       "  0%|          | 0/5 [00:00<?, ?it/s]"
      ]
     },
     "metadata": {},
     "output_type": "display_data"
    },
    {
     "name": "stdout",
     "output_type": "stream",
     "text": [
      "j: REACTOME_GENERIC_TRANSCRIPTION_PATHWAY\n",
      "i: LV6\n",
      "iiheldout: Index(['GAS6', 'MMP14', 'MARCKSL1', 'SPARC', 'CTSD', 'EPAS1', 'PALLD', 'PHC2',\n",
      "       'LGALS3BP', 'SERPING1',\n",
      "       ...\n",
      "       'LDHA', 'LDHB', 'ACAP1', 'ACAP2', 'ACAP3', 'CFL2', 'CFL1', 'SELL',\n",
      "       'GNGT2', 'SERPINH1'],\n",
      "      dtype='object', name='gene', length=5672)\n"
     ]
    },
    {
     "data": {
      "application/vnd.jupyter.widget-view+json": {
       "model_id": "8c5d21e9ea01433f90b5271fb220fcf3",
       "version_major": 2,
       "version_minor": 0
      },
      "text/plain": [
       "  0%|          | 0/5 [00:00<?, ?it/s]"
      ]
     },
     "metadata": {},
     "output_type": "display_data"
    },
    {
     "data": {
      "application/vnd.jupyter.widget-view+json": {
       "model_id": "0bcd4e42d3394cb9a8835137d6e72458",
       "version_major": 2,
       "version_minor": 0
      },
      "text/plain": [
       "  0%|          | 0/7 [00:00<?, ?it/s]"
      ]
     },
     "metadata": {},
     "output_type": "display_data"
    },
    {
     "name": "stdout",
     "output_type": "stream",
     "text": [
      "j: REACTOME_GENERIC_TRANSCRIPTION_PATHWAY\n",
      "i: LV9\n",
      "iiheldout: Index(['GAS6', 'MMP14', 'MARCKSL1', 'SPARC', 'CTSD', 'EPAS1', 'PALLD', 'PHC2',\n",
      "       'LGALS3BP', 'SERPING1',\n",
      "       ...\n",
      "       'LDHA', 'LDHB', 'ACAP1', 'ACAP2', 'ACAP3', 'CFL2', 'CFL1', 'SELL',\n",
      "       'GNGT2', 'SERPINH1'],\n",
      "      dtype='object', name='gene', length=5672)\n"
     ]
    },
    {
     "data": {
      "application/vnd.jupyter.widget-view+json": {
       "model_id": "34834c701087425db07c75e60cf96fd2",
       "version_major": 2,
       "version_minor": 0
      },
      "text/plain": [
       "  0%|          | 0/4 [00:00<?, ?it/s]"
      ]
     },
     "metadata": {},
     "output_type": "display_data"
    },
    {
     "name": "stdout",
     "output_type": "stream",
     "text": [
      "j: REACTOME_METABOLISM_OF_LIPIDS_AND_LIPOPROTEINS\n",
      "i: LV14\n",
      "iiheldout: Index(['GAS6', 'MMP14', 'MARCKSL1', 'SPARC', 'CTSD', 'EPAS1', 'PALLD', 'PHC2',\n",
      "       'LGALS3BP', 'SERPING1',\n",
      "       ...\n",
      "       'LDHA', 'LDHB', 'ACAP1', 'ACAP2', 'ACAP3', 'CFL2', 'CFL1', 'SELL',\n",
      "       'GNGT2', 'SERPINH1'],\n",
      "      dtype='object', name='gene', length=5620)\n",
      "j: REACTOME_ADAPTIVE_IMMUNE_SYSTEM\n",
      "i: LV15\n",
      "iiheldout: Index(['GAS6', 'MMP14', 'MARCKSL1', 'SPARC', 'EPAS1', 'PALLD', 'PHC2',\n",
      "       'LGALS3BP', 'SERPING1', 'TGM2',\n",
      "       ...\n",
      "       'GMPR2', 'LDHA', 'LDHB', 'ACAP1', 'ACAP2', 'ACAP3', 'CFL2', 'CFL1',\n",
      "       'GNGT2', 'SERPINH1'],\n",
      "      dtype='object', name='gene', length=5520)\n",
      "j: REACTOME_ADAPTIVE_IMMUNE_SYSTEM\n",
      "i: LV16\n",
      "iiheldout: Index(['GAS6', 'MMP14', 'MARCKSL1', 'SPARC', 'EPAS1', 'PALLD', 'PHC2',\n",
      "       'LGALS3BP', 'SERPING1', 'TGM2',\n",
      "       ...\n",
      "       'GMPR2', 'LDHA', 'LDHB', 'ACAP1', 'ACAP2', 'ACAP3', 'CFL2', 'CFL1',\n",
      "       'GNGT2', 'SERPINH1'],\n",
      "      dtype='object', name='gene', length=5520)\n"
     ]
    },
    {
     "data": {
      "application/vnd.jupyter.widget-view+json": {
       "model_id": "9399b17097314dd78ac7664beb0fef98",
       "version_major": 2,
       "version_minor": 0
      },
      "text/plain": [
       "  0%|          | 0/3 [00:00<?, ?it/s]"
      ]
     },
     "metadata": {},
     "output_type": "display_data"
    },
    {
     "data": {
      "application/vnd.jupyter.widget-view+json": {
       "model_id": "3225a1a301a34fd68d23ca313828362f",
       "version_major": 2,
       "version_minor": 0
      },
      "text/plain": [
       "  0%|          | 0/13 [00:00<?, ?it/s]"
      ]
     },
     "metadata": {},
     "output_type": "display_data"
    },
    {
     "data": {
      "application/vnd.jupyter.widget-view+json": {
       "model_id": "2420ccbf82db49128da45e4b7c0696ad",
       "version_major": 2,
       "version_minor": 0
      },
      "text/plain": [
       "  0%|          | 0/3 [00:00<?, ?it/s]"
      ]
     },
     "metadata": {},
     "output_type": "display_data"
    },
    {
     "data": {
      "application/vnd.jupyter.widget-view+json": {
       "model_id": "f9704a0b2927490c8ac698ebf16f3cb2",
       "version_major": 2,
       "version_minor": 0
      },
      "text/plain": [
       "  0%|          | 0/5 [00:00<?, ?it/s]"
      ]
     },
     "metadata": {},
     "output_type": "display_data"
    },
    {
     "name": "stdout",
     "output_type": "stream",
     "text": [
      "j: REACTOME_GENERIC_TRANSCRIPTION_PATHWAY\n",
      "i: LV28\n",
      "iiheldout: Index(['GAS6', 'MMP14', 'MARCKSL1', 'SPARC', 'CTSD', 'EPAS1', 'PALLD', 'PHC2',\n",
      "       'LGALS3BP', 'SERPING1',\n",
      "       ...\n",
      "       'LDHA', 'LDHB', 'ACAP1', 'ACAP2', 'ACAP3', 'CFL2', 'CFL1', 'SELL',\n",
      "       'GNGT2', 'SERPINH1'],\n",
      "      dtype='object', name='gene', length=5672)\n"
     ]
    },
    {
     "data": {
      "application/vnd.jupyter.widget-view+json": {
       "model_id": "7fe79995fb0e45d58432391fa9d8fe69",
       "version_major": 2,
       "version_minor": 0
      },
      "text/plain": [
       "  0%|          | 0/2 [00:00<?, ?it/s]"
      ]
     },
     "metadata": {},
     "output_type": "display_data"
    },
    {
     "data": {
      "application/vnd.jupyter.widget-view+json": {
       "model_id": "f3c5ca3c84784bef992fbae0742ae528",
       "version_major": 2,
       "version_minor": 0
      },
      "text/plain": [
       "  0%|          | 0/8 [00:00<?, ?it/s]"
      ]
     },
     "metadata": {},
     "output_type": "display_data"
    }
   ],
   "source": [
    "for i in tqdm(ii):\n",
    "    iipath = plierRes.U.loc[(plierRes.U.loc[:, i] > 0), i].index\n",
    "    if len(iipath) > 1:\n",
    "        for j in tqdm(iipath):\n",
    "            iiheldout = (\n",
    "                pd.concat([priorMat.loc[:, j], priorMatcv.loc[:, j]], axis=1)\n",
    "                .apply(\n",
    "                    lambda x: True\n",
    "                    if (x[0] == 0) or ((x[0] > 0) and (x[1] == 0))\n",
    "                    else np.nan,  # use np.nan instead of False so that we can drop entries in the chain\n",
    "                    axis=1,\n",
    "                )\n",
    "                .dropna()\n",
    "                .index\n",
    "            )\n",
    "            aucres = AUC(priorMat.loc[iiheldout, j], plierRes.Z.loc[iiheldout, i])\n",
    "            out_dict[j] = {\n",
    "                \"pathway\": j,\n",
    "                \"LV index\": i,\n",
    "                \"AUC\": aucres[\"auc\"],\n",
    "                \"p-value\": aucres[\"pval\"],\n",
    "            }\n",
    "            Uauc.loc[j, i] = aucres[\"auc\"]\n",
    "            Up.loc[j, i] = aucres[\"pval\"]\n",
    "\n",
    "    else:\n",
    "        j = iipath[0]\n",
    "        iiheldout = (\n",
    "            pd.concat([priorMat.loc[:, j], priorMatcv.loc[:, j]], axis=1)\n",
    "            .apply(\n",
    "                lambda x: True\n",
    "                if (x[0] == 0) or ((x[0] > 0) and (x[1] == 0))\n",
    "                else np.nan,\n",
    "                axis=1,\n",
    "            )\n",
    "            .dropna()\n",
    "            .index\n",
    "        )\n",
    "\n",
    "        aucres = AUC(priorMat.loc[iiheldout, j], plierRes.Z.loc[iiheldout, i])\n",
    "        if isinstance(j, Iterable) and not isinstance(j, str):\n",
    "            for _ in j:\n",
    "                out_dict[_] = {\n",
    "                    \"pathway\": _,\n",
    "                    \"LV index\": i,\n",
    "                    \"AUC\": aucres[\"auc\"],\n",
    "                    \"p-value\": aucres[\"pval\"],\n",
    "                }\n",
    "                Uauc.loc[_, i] = aucres[\"auc\"]\n",
    "                Up.loc[_, i] = aucres[\"pval\"]\n",
    "        elif isinstance(j, str):\n",
    "            out_dict[j] = {\n",
    "                \"pathway\": j,\n",
    "                \"LV index\": i,\n",
    "                \"AUC\": aucres[\"auc\"],\n",
    "                \"p-value\": aucres[\"pval\"],\n",
    "            }\n",
    "            Uauc.loc[j, i] = aucres[\"auc\"]\n",
    "            Up.loc[j, i] = aucres[\"pval\"]"
   ]
  },
  {
   "cell_type": "code",
   "execution_count": 51,
   "id": "19f9833e-1b4d-4da0-b368-7852116b6df0",
   "metadata": {},
   "outputs": [
    {
     "data": {
      "text/plain": [
       "{'REACTOME_GENERIC_TRANSCRIPTION_PATHWAY': {'pathway': 'REACTOME_GENERIC_TRANSCRIPTION_PATHWAY',\n",
       "  'LV index': 'LV29',\n",
       "  'AUC': 0.5652664056010442,\n",
       "  'p-value': 0.03678715458552349},\n",
       " 'REACTOME_IMMUNE_SYSTEM': {'pathway': 'REACTOME_IMMUNE_SYSTEM',\n",
       "  'LV index': 'LV27',\n",
       "  'AUC': 0.5816224843267968,\n",
       "  'p-value': 6.838012251357796e-05},\n",
       " 'REACTOME_TRANSMEMBRANE_TRANSPORT_OF_SMALL_MOLECULES': {'pathway': 'REACTOME_TRANSMEMBRANE_TRANSPORT_OF_SMALL_MOLECULES',\n",
       "  'LV index': 'LV1',\n",
       "  'AUC': 0.5353698460449478,\n",
       "  'p-value': 0.17616694200113858},\n",
       " 'REACTOME_HEMOSTASIS': {'pathway': 'REACTOME_HEMOSTASIS',\n",
       "  'LV index': 'LV24',\n",
       "  'AUC': 0.617047189295977,\n",
       "  'p-value': 0.00024058911737042017},\n",
       " 'KEGG_MAPK_SIGNALING_PATHWAY': {'pathway': 'KEGG_MAPK_SIGNALING_PATHWAY',\n",
       "  'LV index': 'LV10',\n",
       "  'AUC': 0.569941561498906,\n",
       "  'p-value': 0.05062362195664588},\n",
       " 'MIPS_SPLICEOSOME': {'pathway': 'MIPS_SPLICEOSOME',\n",
       "  'LV index': 'LV23',\n",
       "  'AUC': 0.7600280495885846,\n",
       "  'p-value': 2.3322137003185835e-07},\n",
       " 'REACTOME_PLATELET_ACTIVATION_SIGNALING_AND_AGGREGATION': {'pathway': 'REACTOME_PLATELET_ACTIVATION_SIGNALING_AND_AGGREGATION',\n",
       "  'LV index': 'LV24',\n",
       "  'AUC': 0.6205125279951005,\n",
       "  'p-value': 0.007683273979101292},\n",
       " 'REACTOME_SIGNALLING_BY_NGF': {'pathway': 'REACTOME_SIGNALLING_BY_NGF',\n",
       "  'LV index': 'LV4',\n",
       "  'AUC': 0.6757206891323301,\n",
       "  'p-value': 3.206190986125321e-05},\n",
       " 'REACTOME_CELL_CYCLE_MITOTIC': {'pathway': 'REACTOME_CELL_CYCLE_MITOTIC',\n",
       "  'LV index': 'LV23',\n",
       "  'AUC': 0.5770685902657571,\n",
       "  'p-value': 0.015817021887095366},\n",
       " 'REACTOME_MITOTIC_G1_G1_S_PHASES': {'pathway': 'REACTOME_MITOTIC_G1_G1_S_PHASES',\n",
       "  'LV index': 'LV8',\n",
       "  'AUC': 0.7891252238202506,\n",
       "  'p-value': 5.360498282229404e-08},\n",
       " 'KEGG_SPLICEOSOME': {'pathway': 'KEGG_SPLICEOSOME',\n",
       "  'LV index': 'LV23',\n",
       "  'AUC': 0.6370769808269808,\n",
       "  'p-value': 0.0060775985490391995},\n",
       " 'REACTOME_MITOTIC_M_M_G1_PHASES': {'pathway': 'REACTOME_MITOTIC_M_M_G1_PHASES',\n",
       "  'LV index': 'LV23',\n",
       "  'AUC': 0.6258523552302956,\n",
       "  'p-value': 0.00501764498462584},\n",
       " 'REACTOME_DNA_REPLICATION': {'pathway': 'REACTOME_DNA_REPLICATION',\n",
       "  'LV index': 'LV8',\n",
       "  'AUC': 0.7685674619498148,\n",
       "  'p-value': 2.0799244372867884e-09},\n",
       " 'KEGG_CELL_CYCLE': {'pathway': 'KEGG_CELL_CYCLE',\n",
       "  'LV index': 'LV8',\n",
       "  'AUC': 0.703983268072526,\n",
       "  'p-value': 0.00016765030154680004},\n",
       " 'REACTOME_SRP_DEPENDENT_COTRANSLATIONAL_PROTEIN_TARGETING_TO_MEMBRANE': {'pathway': 'REACTOME_SRP_DEPENDENT_COTRANSLATIONAL_PROTEIN_TARGETING_TO_MEMBRANE',\n",
       "  'LV index': 'LV30',\n",
       "  'AUC': 0.944070651235101,\n",
       "  'p-value': 2.0543814223981084e-13},\n",
       " 'REACTOME_ASPARAGINE_N_LINKED_GLYCOSYLATION': {'pathway': 'REACTOME_ASPARAGINE_N_LINKED_GLYCOSYLATION',\n",
       "  'LV index': 'LV8',\n",
       "  'AUC': 0.7704064102878739,\n",
       "  'p-value': 7.376381897630705e-05},\n",
       " 'REACTOME_INNATE_IMMUNE_SYSTEM': {'pathway': 'REACTOME_INNATE_IMMUNE_SYSTEM',\n",
       "  'LV index': 'LV27',\n",
       "  'AUC': 0.6291928963060053,\n",
       "  'p-value': 0.001197929733301659},\n",
       " 'REACTOME_CLASS_A1_RHODOPSIN_LIKE_RECEPTORS': {'pathway': 'REACTOME_CLASS_A1_RHODOPSIN_LIKE_RECEPTORS',\n",
       "  'LV index': 'LV10',\n",
       "  'AUC': 0.5432058406886782,\n",
       "  'p-value': 0.23660662983552877},\n",
       " 'REACTOME_METABOLISM_OF_LIPIDS_AND_LIPOPROTEINS': {'pathway': 'REACTOME_METABOLISM_OF_LIPIDS_AND_LIPOPROTEINS',\n",
       "  'LV index': 'LV14',\n",
       "  'AUC': 0.5169627282281193,\n",
       "  'p-value': 0.2999565489065732},\n",
       " 'REACTOME_ADAPTIVE_IMMUNE_SYSTEM': {'pathway': 'REACTOME_ADAPTIVE_IMMUNE_SYSTEM',\n",
       "  'LV index': 'LV16',\n",
       "  'AUC': 0.49415705225366596,\n",
       "  'p-value': 0.5828894174089051},\n",
       " 'KEGG_ENDOCYTOSIS': {'pathway': 'KEGG_ENDOCYTOSIS',\n",
       "  'LV index': 'LV24',\n",
       "  'AUC': 0.5310238575854527,\n",
       "  'p-value': 0.2596790404771767},\n",
       " 'REACTOME_METABOLISM_OF_RNA': {'pathway': 'REACTOME_METABOLISM_OF_RNA',\n",
       "  'LV index': 'LV30',\n",
       "  'AUC': 0.6684252049784699,\n",
       "  'p-value': 1.0324226196441035e-05},\n",
       " 'REACTOME_METABOLISM_OF_MRNA': {'pathway': 'REACTOME_METABOLISM_OF_MRNA',\n",
       "  'LV index': 'LV23',\n",
       "  'AUC': 0.6486193120656497,\n",
       "  'p-value': 0.00026129877556763684},\n",
       " 'REACTOME_S_PHASE': {'pathway': 'REACTOME_S_PHASE',\n",
       "  'LV index': 'LV23',\n",
       "  'AUC': 0.649706390328152,\n",
       "  'p-value': 0.006166235061965219},\n",
       " 'KEGG_HUNTINGTONS_DISEASE': {'pathway': 'KEGG_HUNTINGTONS_DISEASE',\n",
       "  'LV index': 'LV30',\n",
       "  'AUC': 0.5740124223602484,\n",
       "  'p-value': 0.07663000048528079},\n",
       " 'KEGG_PARKINSONS_DISEASE': {'pathway': 'KEGG_PARKINSONS_DISEASE',\n",
       "  'LV index': 'LV23',\n",
       "  'AUC': 0.9183863118162136,\n",
       "  'p-value': 1.5964444492580393e-11},\n",
       " 'REACTOME_RESPIRATORY_ELECTRON_TRANSPORT': {'pathway': 'REACTOME_RESPIRATORY_ELECTRON_TRANSPORT',\n",
       "  'LV index': 'LV23',\n",
       "  'AUC': 0.9178244711263579,\n",
       "  'p-value': 3.12069187620464e-08},\n",
       " 'MIPS_55S_RIBOSOME_MITOCHONDRIAL': {'pathway': 'MIPS_55S_RIBOSOME_MITOCHONDRIAL',\n",
       "  'LV index': 'LV23',\n",
       "  'AUC': 0.7906848306332842,\n",
       "  'p-value': 2.3740577897603502e-05},\n",
       " 'REACTOME_ANTIGEN_PROCESSING_UBIQUITINATION_PROTEASOME_DEGRADATION': {'pathway': 'REACTOME_ANTIGEN_PROCESSING_UBIQUITINATION_PROTEASOME_DEGRADATION',\n",
       "  'LV index': 'LV23',\n",
       "  'AUC': 0.6781525843314746,\n",
       "  'p-value': 4.295045323931934e-05},\n",
       " 'REACTOME_SYNTHESIS_OF_DNA': {'pathway': 'REACTOME_SYNTHESIS_OF_DNA',\n",
       "  'LV index': 'LV23',\n",
       "  'AUC': 0.7149212139636216,\n",
       "  'p-value': 0.00046326284455497417},\n",
       " 'REACTOME_CYTOKINE_SIGNALING_IN_IMMUNE_SYSTEM': {'pathway': 'REACTOME_CYTOKINE_SIGNALING_IN_IMMUNE_SYSTEM',\n",
       "  'LV index': 'LV27',\n",
       "  'AUC': 0.7220293950516794,\n",
       "  'p-value': 4.154970380659024e-09},\n",
       " 'REACTOME_INTERFERON_SIGNALING': {'pathway': 'REACTOME_INTERFERON_SIGNALING',\n",
       "  'LV index': 'LV27',\n",
       "  'AUC': 0.7214244816294495,\n",
       "  'p-value': 5.285409609799447e-06},\n",
       " 'REACTOME_INTERFERON_ALPHA_BETA_SIGNALING': {'pathway': 'REACTOME_INTERFERON_ALPHA_BETA_SIGNALING',\n",
       "  'LV index': 'LV27',\n",
       "  'AUC': 0.9702638983953152,\n",
       "  'p-value': 3.51884405497931e-08},\n",
       " 'KEGG_PATHWAYS_IN_CANCER': {'pathway': 'KEGG_PATHWAYS_IN_CANCER',\n",
       "  'LV index': 'LV29',\n",
       "  'AUC': 0.6368758641880473,\n",
       "  'p-value': 0.0002677042866682068},\n",
       " 'KEGG_RIBOSOME': {'pathway': 'KEGG_RIBOSOME',\n",
       "  'LV index': 'LV30',\n",
       "  'AUC': 0.9786826707967647,\n",
       "  'p-value': 1.3642971832995859e-12},\n",
       " 'MIPS_NOP56P_ASSOCIATED_PRE_RRNA_COMPLEX': {'pathway': 'MIPS_NOP56P_ASSOCIATED_PRE_RRNA_COMPLEX',\n",
       "  'LV index': 'LV30',\n",
       "  'AUC': 0.9278177327376412,\n",
       "  'p-value': 4.9585952349515514e-12},\n",
       " 'MIPS_RIBOSOME_CYTOPLASMIC': {'pathway': 'MIPS_RIBOSOME_CYTOPLASMIC',\n",
       "  'LV index': 'LV30',\n",
       "  'AUC': 0.9989912883998165,\n",
       "  'p-value': 8.567519978613206e-13},\n",
       " 'REACTOME_INFLUENZA_LIFE_CYCLE': {'pathway': 'REACTOME_INFLUENZA_LIFE_CYCLE',\n",
       "  'LV index': 'LV30',\n",
       "  'AUC': 0.782349470761756,\n",
       "  'p-value': 1.2626857290042844e-07},\n",
       " 'REACTOME_TRANSLATION': {'pathway': 'REACTOME_TRANSLATION',\n",
       "  'LV index': 'LV30',\n",
       "  'AUC': 0.89655505348936,\n",
       "  'p-value': 2.6040600905135138e-14}}"
      ]
     },
     "execution_count": 51,
     "metadata": {},
     "output_type": "execute_result"
    }
   ],
   "source": [
    "out_dict"
   ]
  },
  {
   "cell_type": "code",
   "execution_count": 52,
   "id": "1f104010-7bb1-47ef-ac77-8a17baf9ced9",
   "metadata": {},
   "outputs": [],
   "source": [
    "out = pd.DataFrame.from_dict(out_dict, orient=\"index\")"
   ]
  },
  {
   "cell_type": "code",
   "execution_count": 53,
   "id": "b71c64dc-65d3-49c3-b318-ef5644a7c483",
   "metadata": {},
   "outputs": [
    {
     "data": {
      "text/html": [
       "<div>\n",
       "<style scoped>\n",
       "    .dataframe tbody tr th:only-of-type {\n",
       "        vertical-align: middle;\n",
       "    }\n",
       "\n",
       "    .dataframe tbody tr th {\n",
       "        vertical-align: top;\n",
       "    }\n",
       "\n",
       "    .dataframe thead th {\n",
       "        text-align: right;\n",
       "    }\n",
       "</style>\n",
       "<table border=\"1\" class=\"dataframe\">\n",
       "  <thead>\n",
       "    <tr style=\"text-align: right;\">\n",
       "      <th></th>\n",
       "      <th>pathway</th>\n",
       "      <th>LV index</th>\n",
       "      <th>AUC</th>\n",
       "      <th>p-value</th>\n",
       "    </tr>\n",
       "  </thead>\n",
       "  <tbody>\n",
       "    <tr>\n",
       "      <th>REACTOME_GENERIC_TRANSCRIPTION_PATHWAY</th>\n",
       "      <td>REACTOME_GENERIC_TRANSCRIPTION_PATHWAY</td>\n",
       "      <td>LV29</td>\n",
       "      <td>0.565266</td>\n",
       "      <td>3.678715e-02</td>\n",
       "    </tr>\n",
       "    <tr>\n",
       "      <th>REACTOME_IMMUNE_SYSTEM</th>\n",
       "      <td>REACTOME_IMMUNE_SYSTEM</td>\n",
       "      <td>LV27</td>\n",
       "      <td>0.581622</td>\n",
       "      <td>6.838012e-05</td>\n",
       "    </tr>\n",
       "    <tr>\n",
       "      <th>REACTOME_TRANSMEMBRANE_TRANSPORT_OF_SMALL_MOLECULES</th>\n",
       "      <td>REACTOME_TRANSMEMBRANE_TRANSPORT_OF_SMALL_MOLE...</td>\n",
       "      <td>LV1</td>\n",
       "      <td>0.535370</td>\n",
       "      <td>1.761669e-01</td>\n",
       "    </tr>\n",
       "    <tr>\n",
       "      <th>REACTOME_HEMOSTASIS</th>\n",
       "      <td>REACTOME_HEMOSTASIS</td>\n",
       "      <td>LV24</td>\n",
       "      <td>0.617047</td>\n",
       "      <td>2.405891e-04</td>\n",
       "    </tr>\n",
       "    <tr>\n",
       "      <th>KEGG_MAPK_SIGNALING_PATHWAY</th>\n",
       "      <td>KEGG_MAPK_SIGNALING_PATHWAY</td>\n",
       "      <td>LV10</td>\n",
       "      <td>0.569942</td>\n",
       "      <td>5.062362e-02</td>\n",
       "    </tr>\n",
       "    <tr>\n",
       "      <th>MIPS_SPLICEOSOME</th>\n",
       "      <td>MIPS_SPLICEOSOME</td>\n",
       "      <td>LV23</td>\n",
       "      <td>0.760028</td>\n",
       "      <td>2.332214e-07</td>\n",
       "    </tr>\n",
       "    <tr>\n",
       "      <th>REACTOME_PLATELET_ACTIVATION_SIGNALING_AND_AGGREGATION</th>\n",
       "      <td>REACTOME_PLATELET_ACTIVATION_SIGNALING_AND_AGG...</td>\n",
       "      <td>LV24</td>\n",
       "      <td>0.620513</td>\n",
       "      <td>7.683274e-03</td>\n",
       "    </tr>\n",
       "    <tr>\n",
       "      <th>REACTOME_SIGNALLING_BY_NGF</th>\n",
       "      <td>REACTOME_SIGNALLING_BY_NGF</td>\n",
       "      <td>LV4</td>\n",
       "      <td>0.675721</td>\n",
       "      <td>3.206191e-05</td>\n",
       "    </tr>\n",
       "    <tr>\n",
       "      <th>REACTOME_CELL_CYCLE_MITOTIC</th>\n",
       "      <td>REACTOME_CELL_CYCLE_MITOTIC</td>\n",
       "      <td>LV23</td>\n",
       "      <td>0.577069</td>\n",
       "      <td>1.581702e-02</td>\n",
       "    </tr>\n",
       "    <tr>\n",
       "      <th>REACTOME_MITOTIC_G1_G1_S_PHASES</th>\n",
       "      <td>REACTOME_MITOTIC_G1_G1_S_PHASES</td>\n",
       "      <td>LV8</td>\n",
       "      <td>0.789125</td>\n",
       "      <td>5.360498e-08</td>\n",
       "    </tr>\n",
       "    <tr>\n",
       "      <th>KEGG_SPLICEOSOME</th>\n",
       "      <td>KEGG_SPLICEOSOME</td>\n",
       "      <td>LV23</td>\n",
       "      <td>0.637077</td>\n",
       "      <td>6.077599e-03</td>\n",
       "    </tr>\n",
       "    <tr>\n",
       "      <th>REACTOME_MITOTIC_M_M_G1_PHASES</th>\n",
       "      <td>REACTOME_MITOTIC_M_M_G1_PHASES</td>\n",
       "      <td>LV23</td>\n",
       "      <td>0.625852</td>\n",
       "      <td>5.017645e-03</td>\n",
       "    </tr>\n",
       "    <tr>\n",
       "      <th>REACTOME_DNA_REPLICATION</th>\n",
       "      <td>REACTOME_DNA_REPLICATION</td>\n",
       "      <td>LV8</td>\n",
       "      <td>0.768567</td>\n",
       "      <td>2.079924e-09</td>\n",
       "    </tr>\n",
       "    <tr>\n",
       "      <th>KEGG_CELL_CYCLE</th>\n",
       "      <td>KEGG_CELL_CYCLE</td>\n",
       "      <td>LV8</td>\n",
       "      <td>0.703983</td>\n",
       "      <td>1.676503e-04</td>\n",
       "    </tr>\n",
       "    <tr>\n",
       "      <th>REACTOME_SRP_DEPENDENT_COTRANSLATIONAL_PROTEIN_TARGETING_TO_MEMBRANE</th>\n",
       "      <td>REACTOME_SRP_DEPENDENT_COTRANSLATIONAL_PROTEIN...</td>\n",
       "      <td>LV30</td>\n",
       "      <td>0.944071</td>\n",
       "      <td>2.054381e-13</td>\n",
       "    </tr>\n",
       "    <tr>\n",
       "      <th>REACTOME_ASPARAGINE_N_LINKED_GLYCOSYLATION</th>\n",
       "      <td>REACTOME_ASPARAGINE_N_LINKED_GLYCOSYLATION</td>\n",
       "      <td>LV8</td>\n",
       "      <td>0.770406</td>\n",
       "      <td>7.376382e-05</td>\n",
       "    </tr>\n",
       "    <tr>\n",
       "      <th>REACTOME_INNATE_IMMUNE_SYSTEM</th>\n",
       "      <td>REACTOME_INNATE_IMMUNE_SYSTEM</td>\n",
       "      <td>LV27</td>\n",
       "      <td>0.629193</td>\n",
       "      <td>1.197930e-03</td>\n",
       "    </tr>\n",
       "    <tr>\n",
       "      <th>REACTOME_CLASS_A1_RHODOPSIN_LIKE_RECEPTORS</th>\n",
       "      <td>REACTOME_CLASS_A1_RHODOPSIN_LIKE_RECEPTORS</td>\n",
       "      <td>LV10</td>\n",
       "      <td>0.543206</td>\n",
       "      <td>2.366066e-01</td>\n",
       "    </tr>\n",
       "    <tr>\n",
       "      <th>REACTOME_METABOLISM_OF_LIPIDS_AND_LIPOPROTEINS</th>\n",
       "      <td>REACTOME_METABOLISM_OF_LIPIDS_AND_LIPOPROTEINS</td>\n",
       "      <td>LV14</td>\n",
       "      <td>0.516963</td>\n",
       "      <td>2.999565e-01</td>\n",
       "    </tr>\n",
       "    <tr>\n",
       "      <th>REACTOME_ADAPTIVE_IMMUNE_SYSTEM</th>\n",
       "      <td>REACTOME_ADAPTIVE_IMMUNE_SYSTEM</td>\n",
       "      <td>LV16</td>\n",
       "      <td>0.494157</td>\n",
       "      <td>5.828894e-01</td>\n",
       "    </tr>\n",
       "    <tr>\n",
       "      <th>KEGG_ENDOCYTOSIS</th>\n",
       "      <td>KEGG_ENDOCYTOSIS</td>\n",
       "      <td>LV24</td>\n",
       "      <td>0.531024</td>\n",
       "      <td>2.596790e-01</td>\n",
       "    </tr>\n",
       "    <tr>\n",
       "      <th>REACTOME_METABOLISM_OF_RNA</th>\n",
       "      <td>REACTOME_METABOLISM_OF_RNA</td>\n",
       "      <td>LV30</td>\n",
       "      <td>0.668425</td>\n",
       "      <td>1.032423e-05</td>\n",
       "    </tr>\n",
       "    <tr>\n",
       "      <th>REACTOME_METABOLISM_OF_MRNA</th>\n",
       "      <td>REACTOME_METABOLISM_OF_MRNA</td>\n",
       "      <td>LV23</td>\n",
       "      <td>0.648619</td>\n",
       "      <td>2.612988e-04</td>\n",
       "    </tr>\n",
       "    <tr>\n",
       "      <th>REACTOME_S_PHASE</th>\n",
       "      <td>REACTOME_S_PHASE</td>\n",
       "      <td>LV23</td>\n",
       "      <td>0.649706</td>\n",
       "      <td>6.166235e-03</td>\n",
       "    </tr>\n",
       "    <tr>\n",
       "      <th>KEGG_HUNTINGTONS_DISEASE</th>\n",
       "      <td>KEGG_HUNTINGTONS_DISEASE</td>\n",
       "      <td>LV30</td>\n",
       "      <td>0.574012</td>\n",
       "      <td>7.663000e-02</td>\n",
       "    </tr>\n",
       "    <tr>\n",
       "      <th>KEGG_PARKINSONS_DISEASE</th>\n",
       "      <td>KEGG_PARKINSONS_DISEASE</td>\n",
       "      <td>LV23</td>\n",
       "      <td>0.918386</td>\n",
       "      <td>1.596444e-11</td>\n",
       "    </tr>\n",
       "    <tr>\n",
       "      <th>REACTOME_RESPIRATORY_ELECTRON_TRANSPORT</th>\n",
       "      <td>REACTOME_RESPIRATORY_ELECTRON_TRANSPORT</td>\n",
       "      <td>LV23</td>\n",
       "      <td>0.917824</td>\n",
       "      <td>3.120692e-08</td>\n",
       "    </tr>\n",
       "    <tr>\n",
       "      <th>MIPS_55S_RIBOSOME_MITOCHONDRIAL</th>\n",
       "      <td>MIPS_55S_RIBOSOME_MITOCHONDRIAL</td>\n",
       "      <td>LV23</td>\n",
       "      <td>0.790685</td>\n",
       "      <td>2.374058e-05</td>\n",
       "    </tr>\n",
       "    <tr>\n",
       "      <th>REACTOME_ANTIGEN_PROCESSING_UBIQUITINATION_PROTEASOME_DEGRADATION</th>\n",
       "      <td>REACTOME_ANTIGEN_PROCESSING_UBIQUITINATION_PRO...</td>\n",
       "      <td>LV23</td>\n",
       "      <td>0.678153</td>\n",
       "      <td>4.295045e-05</td>\n",
       "    </tr>\n",
       "    <tr>\n",
       "      <th>REACTOME_SYNTHESIS_OF_DNA</th>\n",
       "      <td>REACTOME_SYNTHESIS_OF_DNA</td>\n",
       "      <td>LV23</td>\n",
       "      <td>0.714921</td>\n",
       "      <td>4.632628e-04</td>\n",
       "    </tr>\n",
       "    <tr>\n",
       "      <th>REACTOME_CYTOKINE_SIGNALING_IN_IMMUNE_SYSTEM</th>\n",
       "      <td>REACTOME_CYTOKINE_SIGNALING_IN_IMMUNE_SYSTEM</td>\n",
       "      <td>LV27</td>\n",
       "      <td>0.722029</td>\n",
       "      <td>4.154970e-09</td>\n",
       "    </tr>\n",
       "    <tr>\n",
       "      <th>REACTOME_INTERFERON_SIGNALING</th>\n",
       "      <td>REACTOME_INTERFERON_SIGNALING</td>\n",
       "      <td>LV27</td>\n",
       "      <td>0.721424</td>\n",
       "      <td>5.285410e-06</td>\n",
       "    </tr>\n",
       "    <tr>\n",
       "      <th>REACTOME_INTERFERON_ALPHA_BETA_SIGNALING</th>\n",
       "      <td>REACTOME_INTERFERON_ALPHA_BETA_SIGNALING</td>\n",
       "      <td>LV27</td>\n",
       "      <td>0.970264</td>\n",
       "      <td>3.518844e-08</td>\n",
       "    </tr>\n",
       "    <tr>\n",
       "      <th>KEGG_PATHWAYS_IN_CANCER</th>\n",
       "      <td>KEGG_PATHWAYS_IN_CANCER</td>\n",
       "      <td>LV29</td>\n",
       "      <td>0.636876</td>\n",
       "      <td>2.677043e-04</td>\n",
       "    </tr>\n",
       "    <tr>\n",
       "      <th>KEGG_RIBOSOME</th>\n",
       "      <td>KEGG_RIBOSOME</td>\n",
       "      <td>LV30</td>\n",
       "      <td>0.978683</td>\n",
       "      <td>1.364297e-12</td>\n",
       "    </tr>\n",
       "    <tr>\n",
       "      <th>MIPS_NOP56P_ASSOCIATED_PRE_RRNA_COMPLEX</th>\n",
       "      <td>MIPS_NOP56P_ASSOCIATED_PRE_RRNA_COMPLEX</td>\n",
       "      <td>LV30</td>\n",
       "      <td>0.927818</td>\n",
       "      <td>4.958595e-12</td>\n",
       "    </tr>\n",
       "    <tr>\n",
       "      <th>MIPS_RIBOSOME_CYTOPLASMIC</th>\n",
       "      <td>MIPS_RIBOSOME_CYTOPLASMIC</td>\n",
       "      <td>LV30</td>\n",
       "      <td>0.998991</td>\n",
       "      <td>8.567520e-13</td>\n",
       "    </tr>\n",
       "    <tr>\n",
       "      <th>REACTOME_INFLUENZA_LIFE_CYCLE</th>\n",
       "      <td>REACTOME_INFLUENZA_LIFE_CYCLE</td>\n",
       "      <td>LV30</td>\n",
       "      <td>0.782349</td>\n",
       "      <td>1.262686e-07</td>\n",
       "    </tr>\n",
       "    <tr>\n",
       "      <th>REACTOME_TRANSLATION</th>\n",
       "      <td>REACTOME_TRANSLATION</td>\n",
       "      <td>LV30</td>\n",
       "      <td>0.896555</td>\n",
       "      <td>2.604060e-14</td>\n",
       "    </tr>\n",
       "  </tbody>\n",
       "</table>\n",
       "</div>"
      ],
      "text/plain": [
       "                                                                                              pathway  \\\n",
       "REACTOME_GENERIC_TRANSCRIPTION_PATHWAY                         REACTOME_GENERIC_TRANSCRIPTION_PATHWAY   \n",
       "REACTOME_IMMUNE_SYSTEM                                                         REACTOME_IMMUNE_SYSTEM   \n",
       "REACTOME_TRANSMEMBRANE_TRANSPORT_OF_SMALL_MOLEC...  REACTOME_TRANSMEMBRANE_TRANSPORT_OF_SMALL_MOLE...   \n",
       "REACTOME_HEMOSTASIS                                                               REACTOME_HEMOSTASIS   \n",
       "KEGG_MAPK_SIGNALING_PATHWAY                                               KEGG_MAPK_SIGNALING_PATHWAY   \n",
       "MIPS_SPLICEOSOME                                                                     MIPS_SPLICEOSOME   \n",
       "REACTOME_PLATELET_ACTIVATION_SIGNALING_AND_AGGR...  REACTOME_PLATELET_ACTIVATION_SIGNALING_AND_AGG...   \n",
       "REACTOME_SIGNALLING_BY_NGF                                                 REACTOME_SIGNALLING_BY_NGF   \n",
       "REACTOME_CELL_CYCLE_MITOTIC                                               REACTOME_CELL_CYCLE_MITOTIC   \n",
       "REACTOME_MITOTIC_G1_G1_S_PHASES                                       REACTOME_MITOTIC_G1_G1_S_PHASES   \n",
       "KEGG_SPLICEOSOME                                                                     KEGG_SPLICEOSOME   \n",
       "REACTOME_MITOTIC_M_M_G1_PHASES                                         REACTOME_MITOTIC_M_M_G1_PHASES   \n",
       "REACTOME_DNA_REPLICATION                                                     REACTOME_DNA_REPLICATION   \n",
       "KEGG_CELL_CYCLE                                                                       KEGG_CELL_CYCLE   \n",
       "REACTOME_SRP_DEPENDENT_COTRANSLATIONAL_PROTEIN_...  REACTOME_SRP_DEPENDENT_COTRANSLATIONAL_PROTEIN...   \n",
       "REACTOME_ASPARAGINE_N_LINKED_GLYCOSYLATION                 REACTOME_ASPARAGINE_N_LINKED_GLYCOSYLATION   \n",
       "REACTOME_INNATE_IMMUNE_SYSTEM                                           REACTOME_INNATE_IMMUNE_SYSTEM   \n",
       "REACTOME_CLASS_A1_RHODOPSIN_LIKE_RECEPTORS                 REACTOME_CLASS_A1_RHODOPSIN_LIKE_RECEPTORS   \n",
       "REACTOME_METABOLISM_OF_LIPIDS_AND_LIPOPROTEINS         REACTOME_METABOLISM_OF_LIPIDS_AND_LIPOPROTEINS   \n",
       "REACTOME_ADAPTIVE_IMMUNE_SYSTEM                                       REACTOME_ADAPTIVE_IMMUNE_SYSTEM   \n",
       "KEGG_ENDOCYTOSIS                                                                     KEGG_ENDOCYTOSIS   \n",
       "REACTOME_METABOLISM_OF_RNA                                                 REACTOME_METABOLISM_OF_RNA   \n",
       "REACTOME_METABOLISM_OF_MRNA                                               REACTOME_METABOLISM_OF_MRNA   \n",
       "REACTOME_S_PHASE                                                                     REACTOME_S_PHASE   \n",
       "KEGG_HUNTINGTONS_DISEASE                                                     KEGG_HUNTINGTONS_DISEASE   \n",
       "KEGG_PARKINSONS_DISEASE                                                       KEGG_PARKINSONS_DISEASE   \n",
       "REACTOME_RESPIRATORY_ELECTRON_TRANSPORT                       REACTOME_RESPIRATORY_ELECTRON_TRANSPORT   \n",
       "MIPS_55S_RIBOSOME_MITOCHONDRIAL                                       MIPS_55S_RIBOSOME_MITOCHONDRIAL   \n",
       "REACTOME_ANTIGEN_PROCESSING_UBIQUITINATION_PROT...  REACTOME_ANTIGEN_PROCESSING_UBIQUITINATION_PRO...   \n",
       "REACTOME_SYNTHESIS_OF_DNA                                                   REACTOME_SYNTHESIS_OF_DNA   \n",
       "REACTOME_CYTOKINE_SIGNALING_IN_IMMUNE_SYSTEM             REACTOME_CYTOKINE_SIGNALING_IN_IMMUNE_SYSTEM   \n",
       "REACTOME_INTERFERON_SIGNALING                                           REACTOME_INTERFERON_SIGNALING   \n",
       "REACTOME_INTERFERON_ALPHA_BETA_SIGNALING                     REACTOME_INTERFERON_ALPHA_BETA_SIGNALING   \n",
       "KEGG_PATHWAYS_IN_CANCER                                                       KEGG_PATHWAYS_IN_CANCER   \n",
       "KEGG_RIBOSOME                                                                           KEGG_RIBOSOME   \n",
       "MIPS_NOP56P_ASSOCIATED_PRE_RRNA_COMPLEX                       MIPS_NOP56P_ASSOCIATED_PRE_RRNA_COMPLEX   \n",
       "MIPS_RIBOSOME_CYTOPLASMIC                                                   MIPS_RIBOSOME_CYTOPLASMIC   \n",
       "REACTOME_INFLUENZA_LIFE_CYCLE                                           REACTOME_INFLUENZA_LIFE_CYCLE   \n",
       "REACTOME_TRANSLATION                                                             REACTOME_TRANSLATION   \n",
       "\n",
       "                                                   LV index       AUC  \\\n",
       "REACTOME_GENERIC_TRANSCRIPTION_PATHWAY                 LV29  0.565266   \n",
       "REACTOME_IMMUNE_SYSTEM                                 LV27  0.581622   \n",
       "REACTOME_TRANSMEMBRANE_TRANSPORT_OF_SMALL_MOLEC...      LV1  0.535370   \n",
       "REACTOME_HEMOSTASIS                                    LV24  0.617047   \n",
       "KEGG_MAPK_SIGNALING_PATHWAY                            LV10  0.569942   \n",
       "MIPS_SPLICEOSOME                                       LV23  0.760028   \n",
       "REACTOME_PLATELET_ACTIVATION_SIGNALING_AND_AGGR...     LV24  0.620513   \n",
       "REACTOME_SIGNALLING_BY_NGF                              LV4  0.675721   \n",
       "REACTOME_CELL_CYCLE_MITOTIC                            LV23  0.577069   \n",
       "REACTOME_MITOTIC_G1_G1_S_PHASES                         LV8  0.789125   \n",
       "KEGG_SPLICEOSOME                                       LV23  0.637077   \n",
       "REACTOME_MITOTIC_M_M_G1_PHASES                         LV23  0.625852   \n",
       "REACTOME_DNA_REPLICATION                                LV8  0.768567   \n",
       "KEGG_CELL_CYCLE                                         LV8  0.703983   \n",
       "REACTOME_SRP_DEPENDENT_COTRANSLATIONAL_PROTEIN_...     LV30  0.944071   \n",
       "REACTOME_ASPARAGINE_N_LINKED_GLYCOSYLATION              LV8  0.770406   \n",
       "REACTOME_INNATE_IMMUNE_SYSTEM                          LV27  0.629193   \n",
       "REACTOME_CLASS_A1_RHODOPSIN_LIKE_RECEPTORS             LV10  0.543206   \n",
       "REACTOME_METABOLISM_OF_LIPIDS_AND_LIPOPROTEINS         LV14  0.516963   \n",
       "REACTOME_ADAPTIVE_IMMUNE_SYSTEM                        LV16  0.494157   \n",
       "KEGG_ENDOCYTOSIS                                       LV24  0.531024   \n",
       "REACTOME_METABOLISM_OF_RNA                             LV30  0.668425   \n",
       "REACTOME_METABOLISM_OF_MRNA                            LV23  0.648619   \n",
       "REACTOME_S_PHASE                                       LV23  0.649706   \n",
       "KEGG_HUNTINGTONS_DISEASE                               LV30  0.574012   \n",
       "KEGG_PARKINSONS_DISEASE                                LV23  0.918386   \n",
       "REACTOME_RESPIRATORY_ELECTRON_TRANSPORT                LV23  0.917824   \n",
       "MIPS_55S_RIBOSOME_MITOCHONDRIAL                        LV23  0.790685   \n",
       "REACTOME_ANTIGEN_PROCESSING_UBIQUITINATION_PROT...     LV23  0.678153   \n",
       "REACTOME_SYNTHESIS_OF_DNA                              LV23  0.714921   \n",
       "REACTOME_CYTOKINE_SIGNALING_IN_IMMUNE_SYSTEM           LV27  0.722029   \n",
       "REACTOME_INTERFERON_SIGNALING                          LV27  0.721424   \n",
       "REACTOME_INTERFERON_ALPHA_BETA_SIGNALING               LV27  0.970264   \n",
       "KEGG_PATHWAYS_IN_CANCER                                LV29  0.636876   \n",
       "KEGG_RIBOSOME                                          LV30  0.978683   \n",
       "MIPS_NOP56P_ASSOCIATED_PRE_RRNA_COMPLEX                LV30  0.927818   \n",
       "MIPS_RIBOSOME_CYTOPLASMIC                              LV30  0.998991   \n",
       "REACTOME_INFLUENZA_LIFE_CYCLE                          LV30  0.782349   \n",
       "REACTOME_TRANSLATION                                   LV30  0.896555   \n",
       "\n",
       "                                                         p-value  \n",
       "REACTOME_GENERIC_TRANSCRIPTION_PATHWAY              3.678715e-02  \n",
       "REACTOME_IMMUNE_SYSTEM                              6.838012e-05  \n",
       "REACTOME_TRANSMEMBRANE_TRANSPORT_OF_SMALL_MOLEC...  1.761669e-01  \n",
       "REACTOME_HEMOSTASIS                                 2.405891e-04  \n",
       "KEGG_MAPK_SIGNALING_PATHWAY                         5.062362e-02  \n",
       "MIPS_SPLICEOSOME                                    2.332214e-07  \n",
       "REACTOME_PLATELET_ACTIVATION_SIGNALING_AND_AGGR...  7.683274e-03  \n",
       "REACTOME_SIGNALLING_BY_NGF                          3.206191e-05  \n",
       "REACTOME_CELL_CYCLE_MITOTIC                         1.581702e-02  \n",
       "REACTOME_MITOTIC_G1_G1_S_PHASES                     5.360498e-08  \n",
       "KEGG_SPLICEOSOME                                    6.077599e-03  \n",
       "REACTOME_MITOTIC_M_M_G1_PHASES                      5.017645e-03  \n",
       "REACTOME_DNA_REPLICATION                            2.079924e-09  \n",
       "KEGG_CELL_CYCLE                                     1.676503e-04  \n",
       "REACTOME_SRP_DEPENDENT_COTRANSLATIONAL_PROTEIN_...  2.054381e-13  \n",
       "REACTOME_ASPARAGINE_N_LINKED_GLYCOSYLATION          7.376382e-05  \n",
       "REACTOME_INNATE_IMMUNE_SYSTEM                       1.197930e-03  \n",
       "REACTOME_CLASS_A1_RHODOPSIN_LIKE_RECEPTORS          2.366066e-01  \n",
       "REACTOME_METABOLISM_OF_LIPIDS_AND_LIPOPROTEINS      2.999565e-01  \n",
       "REACTOME_ADAPTIVE_IMMUNE_SYSTEM                     5.828894e-01  \n",
       "KEGG_ENDOCYTOSIS                                    2.596790e-01  \n",
       "REACTOME_METABOLISM_OF_RNA                          1.032423e-05  \n",
       "REACTOME_METABOLISM_OF_MRNA                         2.612988e-04  \n",
       "REACTOME_S_PHASE                                    6.166235e-03  \n",
       "KEGG_HUNTINGTONS_DISEASE                            7.663000e-02  \n",
       "KEGG_PARKINSONS_DISEASE                             1.596444e-11  \n",
       "REACTOME_RESPIRATORY_ELECTRON_TRANSPORT             3.120692e-08  \n",
       "MIPS_55S_RIBOSOME_MITOCHONDRIAL                     2.374058e-05  \n",
       "REACTOME_ANTIGEN_PROCESSING_UBIQUITINATION_PROT...  4.295045e-05  \n",
       "REACTOME_SYNTHESIS_OF_DNA                           4.632628e-04  \n",
       "REACTOME_CYTOKINE_SIGNALING_IN_IMMUNE_SYSTEM        4.154970e-09  \n",
       "REACTOME_INTERFERON_SIGNALING                       5.285410e-06  \n",
       "REACTOME_INTERFERON_ALPHA_BETA_SIGNALING            3.518844e-08  \n",
       "KEGG_PATHWAYS_IN_CANCER                             2.677043e-04  \n",
       "KEGG_RIBOSOME                                       1.364297e-12  \n",
       "MIPS_NOP56P_ASSOCIATED_PRE_RRNA_COMPLEX             4.958595e-12  \n",
       "MIPS_RIBOSOME_CYTOPLASMIC                           8.567520e-13  \n",
       "REACTOME_INFLUENZA_LIFE_CYCLE                       1.262686e-07  \n",
       "REACTOME_TRANSLATION                                2.604060e-14  "
      ]
     },
     "execution_count": 53,
     "metadata": {},
     "output_type": "execute_result"
    }
   ],
   "source": [
    "out"
   ]
  },
  {
   "cell_type": "code",
   "execution_count": 56,
   "id": "b005872e-afe2-4b73-931c-3a9e3b8e9e19",
   "metadata": {},
   "outputs": [
    {
     "data": {
      "text/html": [
       "<div>\n",
       "<style scoped>\n",
       "    .dataframe tbody tr th:only-of-type {\n",
       "        vertical-align: middle;\n",
       "    }\n",
       "\n",
       "    .dataframe tbody tr th {\n",
       "        vertical-align: top;\n",
       "    }\n",
       "\n",
       "    .dataframe thead th {\n",
       "        text-align: right;\n",
       "    }\n",
       "</style>\n",
       "<table border=\"1\" class=\"dataframe\">\n",
       "  <thead>\n",
       "    <tr style=\"text-align: right;\">\n",
       "      <th></th>\n",
       "      <th>LV1</th>\n",
       "      <th>LV2</th>\n",
       "      <th>LV3</th>\n",
       "      <th>LV4</th>\n",
       "      <th>LV5</th>\n",
       "      <th>LV6</th>\n",
       "      <th>LV7</th>\n",
       "      <th>LV8</th>\n",
       "      <th>LV9</th>\n",
       "      <th>LV10</th>\n",
       "      <th>...</th>\n",
       "      <th>LV21</th>\n",
       "      <th>LV22</th>\n",
       "      <th>LV23</th>\n",
       "      <th>LV24</th>\n",
       "      <th>LV25</th>\n",
       "      <th>LV26</th>\n",
       "      <th>LV27</th>\n",
       "      <th>LV28</th>\n",
       "      <th>LV29</th>\n",
       "      <th>LV30</th>\n",
       "    </tr>\n",
       "  </thead>\n",
       "  <tbody>\n",
       "    <tr>\n",
       "      <th>IRIS_Bcell-Memory_IgG_IgA</th>\n",
       "      <td>0.0</td>\n",
       "      <td>0.0</td>\n",
       "      <td>0.0</td>\n",
       "      <td>0.0</td>\n",
       "      <td>0.0</td>\n",
       "      <td>0.0</td>\n",
       "      <td>0.0</td>\n",
       "      <td>0.0</td>\n",
       "      <td>0.0</td>\n",
       "      <td>0.0</td>\n",
       "      <td>...</td>\n",
       "      <td>0.0</td>\n",
       "      <td>0.0</td>\n",
       "      <td>0.0</td>\n",
       "      <td>0.0</td>\n",
       "      <td>0.0</td>\n",
       "      <td>0.0</td>\n",
       "      <td>0.0</td>\n",
       "      <td>0.0</td>\n",
       "      <td>0.0</td>\n",
       "      <td>0.0</td>\n",
       "    </tr>\n",
       "    <tr>\n",
       "      <th>IRIS_Bcell-Memory_IgM</th>\n",
       "      <td>0.0</td>\n",
       "      <td>0.0</td>\n",
       "      <td>0.0</td>\n",
       "      <td>0.0</td>\n",
       "      <td>0.0</td>\n",
       "      <td>0.0</td>\n",
       "      <td>0.0</td>\n",
       "      <td>0.0</td>\n",
       "      <td>0.0</td>\n",
       "      <td>0.0</td>\n",
       "      <td>...</td>\n",
       "      <td>0.0</td>\n",
       "      <td>0.0</td>\n",
       "      <td>0.0</td>\n",
       "      <td>0.0</td>\n",
       "      <td>0.0</td>\n",
       "      <td>0.0</td>\n",
       "      <td>0.0</td>\n",
       "      <td>0.0</td>\n",
       "      <td>0.0</td>\n",
       "      <td>0.0</td>\n",
       "    </tr>\n",
       "    <tr>\n",
       "      <th>IRIS_Bcell-naive</th>\n",
       "      <td>0.0</td>\n",
       "      <td>0.0</td>\n",
       "      <td>0.0</td>\n",
       "      <td>0.0</td>\n",
       "      <td>0.0</td>\n",
       "      <td>0.0</td>\n",
       "      <td>0.0</td>\n",
       "      <td>0.0</td>\n",
       "      <td>0.0</td>\n",
       "      <td>0.0</td>\n",
       "      <td>...</td>\n",
       "      <td>0.0</td>\n",
       "      <td>0.0</td>\n",
       "      <td>0.0</td>\n",
       "      <td>0.0</td>\n",
       "      <td>0.0</td>\n",
       "      <td>0.0</td>\n",
       "      <td>0.0</td>\n",
       "      <td>0.0</td>\n",
       "      <td>0.0</td>\n",
       "      <td>0.0</td>\n",
       "    </tr>\n",
       "    <tr>\n",
       "      <th>IRIS_CD4Tcell-N0</th>\n",
       "      <td>0.0</td>\n",
       "      <td>0.0</td>\n",
       "      <td>0.0</td>\n",
       "      <td>0.0</td>\n",
       "      <td>0.0</td>\n",
       "      <td>0.0</td>\n",
       "      <td>0.0</td>\n",
       "      <td>0.0</td>\n",
       "      <td>0.0</td>\n",
       "      <td>0.0</td>\n",
       "      <td>...</td>\n",
       "      <td>0.0</td>\n",
       "      <td>0.0</td>\n",
       "      <td>0.0</td>\n",
       "      <td>0.0</td>\n",
       "      <td>0.0</td>\n",
       "      <td>0.0</td>\n",
       "      <td>0.0</td>\n",
       "      <td>0.0</td>\n",
       "      <td>0.0</td>\n",
       "      <td>0.0</td>\n",
       "    </tr>\n",
       "    <tr>\n",
       "      <th>IRIS_CD4Tcell-Th1-restimulated12hour</th>\n",
       "      <td>0.0</td>\n",
       "      <td>0.0</td>\n",
       "      <td>0.0</td>\n",
       "      <td>0.0</td>\n",
       "      <td>0.0</td>\n",
       "      <td>0.0</td>\n",
       "      <td>0.0</td>\n",
       "      <td>0.0</td>\n",
       "      <td>0.0</td>\n",
       "      <td>0.0</td>\n",
       "      <td>...</td>\n",
       "      <td>0.0</td>\n",
       "      <td>0.0</td>\n",
       "      <td>0.0</td>\n",
       "      <td>0.0</td>\n",
       "      <td>0.0</td>\n",
       "      <td>0.0</td>\n",
       "      <td>0.0</td>\n",
       "      <td>0.0</td>\n",
       "      <td>0.0</td>\n",
       "      <td>0.0</td>\n",
       "    </tr>\n",
       "    <tr>\n",
       "      <th>...</th>\n",
       "      <td>...</td>\n",
       "      <td>...</td>\n",
       "      <td>...</td>\n",
       "      <td>...</td>\n",
       "      <td>...</td>\n",
       "      <td>...</td>\n",
       "      <td>...</td>\n",
       "      <td>...</td>\n",
       "      <td>...</td>\n",
       "      <td>...</td>\n",
       "      <td>...</td>\n",
       "      <td>...</td>\n",
       "      <td>...</td>\n",
       "      <td>...</td>\n",
       "      <td>...</td>\n",
       "      <td>...</td>\n",
       "      <td>...</td>\n",
       "      <td>...</td>\n",
       "      <td>...</td>\n",
       "      <td>...</td>\n",
       "      <td>...</td>\n",
       "    </tr>\n",
       "    <tr>\n",
       "      <th>PID_IL4_2PATHWAY</th>\n",
       "      <td>0.0</td>\n",
       "      <td>0.0</td>\n",
       "      <td>0.0</td>\n",
       "      <td>0.0</td>\n",
       "      <td>0.0</td>\n",
       "      <td>0.0</td>\n",
       "      <td>0.0</td>\n",
       "      <td>0.0</td>\n",
       "      <td>0.0</td>\n",
       "      <td>0.0</td>\n",
       "      <td>...</td>\n",
       "      <td>0.0</td>\n",
       "      <td>0.0</td>\n",
       "      <td>0.0</td>\n",
       "      <td>0.0</td>\n",
       "      <td>0.0</td>\n",
       "      <td>0.0</td>\n",
       "      <td>0.0</td>\n",
       "      <td>0.0</td>\n",
       "      <td>0.0</td>\n",
       "      <td>0.0</td>\n",
       "    </tr>\n",
       "    <tr>\n",
       "      <th>REACTOME_SIGNALING_BY_THE_B_CELL_RECEPTOR_BCR</th>\n",
       "      <td>0.0</td>\n",
       "      <td>0.0</td>\n",
       "      <td>0.0</td>\n",
       "      <td>0.0</td>\n",
       "      <td>0.0</td>\n",
       "      <td>0.0</td>\n",
       "      <td>0.0</td>\n",
       "      <td>0.0</td>\n",
       "      <td>0.0</td>\n",
       "      <td>0.0</td>\n",
       "      <td>...</td>\n",
       "      <td>0.0</td>\n",
       "      <td>0.0</td>\n",
       "      <td>0.0</td>\n",
       "      <td>0.0</td>\n",
       "      <td>0.0</td>\n",
       "      <td>0.0</td>\n",
       "      <td>0.0</td>\n",
       "      <td>0.0</td>\n",
       "      <td>0.0</td>\n",
       "      <td>0.0</td>\n",
       "    </tr>\n",
       "    <tr>\n",
       "      <th>PID_BCR_5PATHWAY</th>\n",
       "      <td>0.0</td>\n",
       "      <td>0.0</td>\n",
       "      <td>0.0</td>\n",
       "      <td>0.0</td>\n",
       "      <td>0.0</td>\n",
       "      <td>0.0</td>\n",
       "      <td>0.0</td>\n",
       "      <td>0.0</td>\n",
       "      <td>0.0</td>\n",
       "      <td>0.0</td>\n",
       "      <td>...</td>\n",
       "      <td>0.0</td>\n",
       "      <td>0.0</td>\n",
       "      <td>0.0</td>\n",
       "      <td>0.0</td>\n",
       "      <td>0.0</td>\n",
       "      <td>0.0</td>\n",
       "      <td>0.0</td>\n",
       "      <td>0.0</td>\n",
       "      <td>0.0</td>\n",
       "      <td>0.0</td>\n",
       "    </tr>\n",
       "    <tr>\n",
       "      <th>PID_TELOMERASEPATHWAY</th>\n",
       "      <td>0.0</td>\n",
       "      <td>0.0</td>\n",
       "      <td>0.0</td>\n",
       "      <td>0.0</td>\n",
       "      <td>0.0</td>\n",
       "      <td>0.0</td>\n",
       "      <td>0.0</td>\n",
       "      <td>0.0</td>\n",
       "      <td>0.0</td>\n",
       "      <td>0.0</td>\n",
       "      <td>...</td>\n",
       "      <td>0.0</td>\n",
       "      <td>0.0</td>\n",
       "      <td>0.0</td>\n",
       "      <td>0.0</td>\n",
       "      <td>0.0</td>\n",
       "      <td>0.0</td>\n",
       "      <td>0.0</td>\n",
       "      <td>0.0</td>\n",
       "      <td>0.0</td>\n",
       "      <td>0.0</td>\n",
       "    </tr>\n",
       "    <tr>\n",
       "      <th>PID_PI3KPLCTRKPATHWAY</th>\n",
       "      <td>0.0</td>\n",
       "      <td>0.0</td>\n",
       "      <td>0.0</td>\n",
       "      <td>0.0</td>\n",
       "      <td>0.0</td>\n",
       "      <td>0.0</td>\n",
       "      <td>0.0</td>\n",
       "      <td>0.0</td>\n",
       "      <td>0.0</td>\n",
       "      <td>0.0</td>\n",
       "      <td>...</td>\n",
       "      <td>0.0</td>\n",
       "      <td>0.0</td>\n",
       "      <td>0.0</td>\n",
       "      <td>0.0</td>\n",
       "      <td>0.0</td>\n",
       "      <td>0.0</td>\n",
       "      <td>0.0</td>\n",
       "      <td>0.0</td>\n",
       "      <td>0.0</td>\n",
       "      <td>0.0</td>\n",
       "    </tr>\n",
       "  </tbody>\n",
       "</table>\n",
       "<p>606 rows × 30 columns</p>\n",
       "</div>"
      ],
      "text/plain": [
       "                                               LV1  LV2  LV3  LV4  LV5  LV6  \\\n",
       "IRIS_Bcell-Memory_IgG_IgA                      0.0  0.0  0.0  0.0  0.0  0.0   \n",
       "IRIS_Bcell-Memory_IgM                          0.0  0.0  0.0  0.0  0.0  0.0   \n",
       "IRIS_Bcell-naive                               0.0  0.0  0.0  0.0  0.0  0.0   \n",
       "IRIS_CD4Tcell-N0                               0.0  0.0  0.0  0.0  0.0  0.0   \n",
       "IRIS_CD4Tcell-Th1-restimulated12hour           0.0  0.0  0.0  0.0  0.0  0.0   \n",
       "...                                            ...  ...  ...  ...  ...  ...   \n",
       "PID_IL4_2PATHWAY                               0.0  0.0  0.0  0.0  0.0  0.0   \n",
       "REACTOME_SIGNALING_BY_THE_B_CELL_RECEPTOR_BCR  0.0  0.0  0.0  0.0  0.0  0.0   \n",
       "PID_BCR_5PATHWAY                               0.0  0.0  0.0  0.0  0.0  0.0   \n",
       "PID_TELOMERASEPATHWAY                          0.0  0.0  0.0  0.0  0.0  0.0   \n",
       "PID_PI3KPLCTRKPATHWAY                          0.0  0.0  0.0  0.0  0.0  0.0   \n",
       "\n",
       "                                               LV7  LV8  LV9  LV10  ...  LV21  \\\n",
       "IRIS_Bcell-Memory_IgG_IgA                      0.0  0.0  0.0   0.0  ...   0.0   \n",
       "IRIS_Bcell-Memory_IgM                          0.0  0.0  0.0   0.0  ...   0.0   \n",
       "IRIS_Bcell-naive                               0.0  0.0  0.0   0.0  ...   0.0   \n",
       "IRIS_CD4Tcell-N0                               0.0  0.0  0.0   0.0  ...   0.0   \n",
       "IRIS_CD4Tcell-Th1-restimulated12hour           0.0  0.0  0.0   0.0  ...   0.0   \n",
       "...                                            ...  ...  ...   ...  ...   ...   \n",
       "PID_IL4_2PATHWAY                               0.0  0.0  0.0   0.0  ...   0.0   \n",
       "REACTOME_SIGNALING_BY_THE_B_CELL_RECEPTOR_BCR  0.0  0.0  0.0   0.0  ...   0.0   \n",
       "PID_BCR_5PATHWAY                               0.0  0.0  0.0   0.0  ...   0.0   \n",
       "PID_TELOMERASEPATHWAY                          0.0  0.0  0.0   0.0  ...   0.0   \n",
       "PID_PI3KPLCTRKPATHWAY                          0.0  0.0  0.0   0.0  ...   0.0   \n",
       "\n",
       "                                               LV22  LV23  LV24  LV25  LV26  \\\n",
       "IRIS_Bcell-Memory_IgG_IgA                       0.0   0.0   0.0   0.0   0.0   \n",
       "IRIS_Bcell-Memory_IgM                           0.0   0.0   0.0   0.0   0.0   \n",
       "IRIS_Bcell-naive                                0.0   0.0   0.0   0.0   0.0   \n",
       "IRIS_CD4Tcell-N0                                0.0   0.0   0.0   0.0   0.0   \n",
       "IRIS_CD4Tcell-Th1-restimulated12hour            0.0   0.0   0.0   0.0   0.0   \n",
       "...                                             ...   ...   ...   ...   ...   \n",
       "PID_IL4_2PATHWAY                                0.0   0.0   0.0   0.0   0.0   \n",
       "REACTOME_SIGNALING_BY_THE_B_CELL_RECEPTOR_BCR   0.0   0.0   0.0   0.0   0.0   \n",
       "PID_BCR_5PATHWAY                                0.0   0.0   0.0   0.0   0.0   \n",
       "PID_TELOMERASEPATHWAY                           0.0   0.0   0.0   0.0   0.0   \n",
       "PID_PI3KPLCTRKPATHWAY                           0.0   0.0   0.0   0.0   0.0   \n",
       "\n",
       "                                               LV27  LV28  LV29  LV30  \n",
       "IRIS_Bcell-Memory_IgG_IgA                       0.0   0.0   0.0   0.0  \n",
       "IRIS_Bcell-Memory_IgM                           0.0   0.0   0.0   0.0  \n",
       "IRIS_Bcell-naive                                0.0   0.0   0.0   0.0  \n",
       "IRIS_CD4Tcell-N0                                0.0   0.0   0.0   0.0  \n",
       "IRIS_CD4Tcell-Th1-restimulated12hour            0.0   0.0   0.0   0.0  \n",
       "...                                             ...   ...   ...   ...  \n",
       "PID_IL4_2PATHWAY                                0.0   0.0   0.0   0.0  \n",
       "REACTOME_SIGNALING_BY_THE_B_CELL_RECEPTOR_BCR   0.0   0.0   0.0   0.0  \n",
       "PID_BCR_5PATHWAY                                0.0   0.0   0.0   0.0  \n",
       "PID_TELOMERASEPATHWAY                           0.0   0.0   0.0   0.0  \n",
       "PID_PI3KPLCTRKPATHWAY                           0.0   0.0   0.0   0.0  \n",
       "\n",
       "[606 rows x 30 columns]"
      ]
     },
     "execution_count": 56,
     "metadata": {},
     "output_type": "execute_result"
    }
   ],
   "source": [
    "Uauc"
   ]
  },
  {
   "cell_type": "code",
   "execution_count": 54,
   "id": "1e537c6d-f8fa-4958-9aed-a4469a392441",
   "metadata": {},
   "outputs": [],
   "source": [
    "_, fdr, *_ = multipletests(out.loc[:, \"p-value\"], method=\"fdr_bh\")\n",
    "out.loc[:, \"FDR\"] = fdr\n",
    "return_dict = {\"Uauc\": Uauc, \"Upval\": Up, \"summary\": out}"
   ]
  },
  {
   "cell_type": "code",
   "execution_count": 55,
   "id": "e04da485-b7b2-4e09-8e31-512a73e68d33",
   "metadata": {},
   "outputs": [
    {
     "data": {
      "text/html": [
       "<div>\n",
       "<style scoped>\n",
       "    .dataframe tbody tr th:only-of-type {\n",
       "        vertical-align: middle;\n",
       "    }\n",
       "\n",
       "    .dataframe tbody tr th {\n",
       "        vertical-align: top;\n",
       "    }\n",
       "\n",
       "    .dataframe thead th {\n",
       "        text-align: right;\n",
       "    }\n",
       "</style>\n",
       "<table border=\"1\" class=\"dataframe\">\n",
       "  <thead>\n",
       "    <tr style=\"text-align: right;\">\n",
       "      <th></th>\n",
       "      <th>pathway</th>\n",
       "      <th>LV index</th>\n",
       "      <th>AUC</th>\n",
       "      <th>p-value</th>\n",
       "      <th>FDR</th>\n",
       "    </tr>\n",
       "  </thead>\n",
       "  <tbody>\n",
       "    <tr>\n",
       "      <th>REACTOME_GENERIC_TRANSCRIPTION_PATHWAY</th>\n",
       "      <td>REACTOME_GENERIC_TRANSCRIPTION_PATHWAY</td>\n",
       "      <td>LV29</td>\n",
       "      <td>0.565266</td>\n",
       "      <td>3.678715e-02</td>\n",
       "      <td>4.483434e-02</td>\n",
       "    </tr>\n",
       "    <tr>\n",
       "      <th>REACTOME_IMMUNE_SYSTEM</th>\n",
       "      <td>REACTOME_IMMUNE_SYSTEM</td>\n",
       "      <td>LV27</td>\n",
       "      <td>0.581622</td>\n",
       "      <td>6.838012e-05</td>\n",
       "      <td>1.403592e-04</td>\n",
       "    </tr>\n",
       "    <tr>\n",
       "      <th>REACTOME_TRANSMEMBRANE_TRANSPORT_OF_SMALL_MOLECULES</th>\n",
       "      <td>REACTOME_TRANSMEMBRANE_TRANSPORT_OF_SMALL_MOLE...</td>\n",
       "      <td>LV1</td>\n",
       "      <td>0.535370</td>\n",
       "      <td>1.761669e-01</td>\n",
       "      <td>1.963003e-01</td>\n",
       "    </tr>\n",
       "    <tr>\n",
       "      <th>REACTOME_HEMOSTASIS</th>\n",
       "      <td>REACTOME_HEMOSTASIS</td>\n",
       "      <td>LV24</td>\n",
       "      <td>0.617047</td>\n",
       "      <td>2.405891e-04</td>\n",
       "      <td>4.264989e-04</td>\n",
       "    </tr>\n",
       "    <tr>\n",
       "      <th>KEGG_MAPK_SIGNALING_PATHWAY</th>\n",
       "      <td>KEGG_MAPK_SIGNALING_PATHWAY</td>\n",
       "      <td>LV10</td>\n",
       "      <td>0.569942</td>\n",
       "      <td>5.062362e-02</td>\n",
       "      <td>5.982792e-02</td>\n",
       "    </tr>\n",
       "    <tr>\n",
       "      <th>MIPS_SPLICEOSOME</th>\n",
       "      <td>MIPS_SPLICEOSOME</td>\n",
       "      <td>LV23</td>\n",
       "      <td>0.760028</td>\n",
       "      <td>2.332214e-07</td>\n",
       "      <td>6.996641e-07</td>\n",
       "    </tr>\n",
       "    <tr>\n",
       "      <th>REACTOME_PLATELET_ACTIVATION_SIGNALING_AND_AGGREGATION</th>\n",
       "      <td>REACTOME_PLATELET_ACTIVATION_SIGNALING_AND_AGG...</td>\n",
       "      <td>LV24</td>\n",
       "      <td>0.620513</td>\n",
       "      <td>7.683274e-03</td>\n",
       "      <td>9.988256e-03</td>\n",
       "    </tr>\n",
       "    <tr>\n",
       "      <th>REACTOME_SIGNALLING_BY_NGF</th>\n",
       "      <td>REACTOME_SIGNALLING_BY_NGF</td>\n",
       "      <td>LV4</td>\n",
       "      <td>0.675721</td>\n",
       "      <td>3.206191e-05</td>\n",
       "      <td>7.355379e-05</td>\n",
       "    </tr>\n",
       "    <tr>\n",
       "      <th>REACTOME_CELL_CYCLE_MITOTIC</th>\n",
       "      <td>REACTOME_CELL_CYCLE_MITOTIC</td>\n",
       "      <td>LV23</td>\n",
       "      <td>0.577069</td>\n",
       "      <td>1.581702e-02</td>\n",
       "      <td>1.989883e-02</td>\n",
       "    </tr>\n",
       "    <tr>\n",
       "      <th>REACTOME_MITOTIC_G1_G1_S_PHASES</th>\n",
       "      <td>REACTOME_MITOTIC_G1_G1_S_PHASES</td>\n",
       "      <td>LV8</td>\n",
       "      <td>0.789125</td>\n",
       "      <td>5.360498e-08</td>\n",
       "      <td>1.900540e-07</td>\n",
       "    </tr>\n",
       "    <tr>\n",
       "      <th>KEGG_SPLICEOSOME</th>\n",
       "      <td>KEGG_SPLICEOSOME</td>\n",
       "      <td>LV23</td>\n",
       "      <td>0.637077</td>\n",
       "      <td>6.077599e-03</td>\n",
       "      <td>8.292523e-03</td>\n",
       "    </tr>\n",
       "    <tr>\n",
       "      <th>REACTOME_MITOTIC_M_M_G1_PHASES</th>\n",
       "      <td>REACTOME_MITOTIC_M_M_G1_PHASES</td>\n",
       "      <td>LV23</td>\n",
       "      <td>0.625852</td>\n",
       "      <td>5.017645e-03</td>\n",
       "      <td>7.247709e-03</td>\n",
       "    </tr>\n",
       "    <tr>\n",
       "      <th>REACTOME_DNA_REPLICATION</th>\n",
       "      <td>REACTOME_DNA_REPLICATION</td>\n",
       "      <td>LV8</td>\n",
       "      <td>0.768567</td>\n",
       "      <td>2.079924e-09</td>\n",
       "      <td>1.158815e-08</td>\n",
       "    </tr>\n",
       "    <tr>\n",
       "      <th>KEGG_CELL_CYCLE</th>\n",
       "      <td>KEGG_CELL_CYCLE</td>\n",
       "      <td>LV8</td>\n",
       "      <td>0.703983</td>\n",
       "      <td>1.676503e-04</td>\n",
       "      <td>3.113506e-04</td>\n",
       "    </tr>\n",
       "    <tr>\n",
       "      <th>REACTOME_SRP_DEPENDENT_COTRANSLATIONAL_PROTEIN_TARGETING_TO_MEMBRANE</th>\n",
       "      <td>REACTOME_SRP_DEPENDENT_COTRANSLATIONAL_PROTEIN...</td>\n",
       "      <td>LV30</td>\n",
       "      <td>0.944071</td>\n",
       "      <td>2.054381e-13</td>\n",
       "      <td>4.006044e-12</td>\n",
       "    </tr>\n",
       "    <tr>\n",
       "      <th>REACTOME_ASPARAGINE_N_LINKED_GLYCOSYLATION</th>\n",
       "      <td>REACTOME_ASPARAGINE_N_LINKED_GLYCOSYLATION</td>\n",
       "      <td>LV8</td>\n",
       "      <td>0.770406</td>\n",
       "      <td>7.376382e-05</td>\n",
       "      <td>1.438394e-04</td>\n",
       "    </tr>\n",
       "    <tr>\n",
       "      <th>REACTOME_INNATE_IMMUNE_SYSTEM</th>\n",
       "      <td>REACTOME_INNATE_IMMUNE_SYSTEM</td>\n",
       "      <td>LV27</td>\n",
       "      <td>0.629193</td>\n",
       "      <td>1.197930e-03</td>\n",
       "      <td>1.796895e-03</td>\n",
       "    </tr>\n",
       "    <tr>\n",
       "      <th>REACTOME_CLASS_A1_RHODOPSIN_LIKE_RECEPTORS</th>\n",
       "      <td>REACTOME_CLASS_A1_RHODOPSIN_LIKE_RECEPTORS</td>\n",
       "      <td>LV10</td>\n",
       "      <td>0.543206</td>\n",
       "      <td>2.366066e-01</td>\n",
       "      <td>2.563238e-01</td>\n",
       "    </tr>\n",
       "    <tr>\n",
       "      <th>REACTOME_METABOLISM_OF_LIPIDS_AND_LIPOPROTEINS</th>\n",
       "      <td>REACTOME_METABOLISM_OF_LIPIDS_AND_LIPOPROTEINS</td>\n",
       "      <td>LV14</td>\n",
       "      <td>0.516963</td>\n",
       "      <td>2.999565e-01</td>\n",
       "      <td>3.078501e-01</td>\n",
       "    </tr>\n",
       "    <tr>\n",
       "      <th>REACTOME_ADAPTIVE_IMMUNE_SYSTEM</th>\n",
       "      <td>REACTOME_ADAPTIVE_IMMUNE_SYSTEM</td>\n",
       "      <td>LV16</td>\n",
       "      <td>0.494157</td>\n",
       "      <td>5.828894e-01</td>\n",
       "      <td>5.828894e-01</td>\n",
       "    </tr>\n",
       "    <tr>\n",
       "      <th>KEGG_ENDOCYTOSIS</th>\n",
       "      <td>KEGG_ENDOCYTOSIS</td>\n",
       "      <td>LV24</td>\n",
       "      <td>0.531024</td>\n",
       "      <td>2.596790e-01</td>\n",
       "      <td>2.737157e-01</td>\n",
       "    </tr>\n",
       "    <tr>\n",
       "      <th>REACTOME_METABOLISM_OF_RNA</th>\n",
       "      <td>REACTOME_METABOLISM_OF_RNA</td>\n",
       "      <td>LV30</td>\n",
       "      <td>0.668425</td>\n",
       "      <td>1.032423e-05</td>\n",
       "      <td>2.684299e-05</td>\n",
       "    </tr>\n",
       "    <tr>\n",
       "      <th>REACTOME_METABOLISM_OF_MRNA</th>\n",
       "      <td>REACTOME_METABOLISM_OF_MRNA</td>\n",
       "      <td>LV23</td>\n",
       "      <td>0.648619</td>\n",
       "      <td>2.612988e-04</td>\n",
       "      <td>4.350195e-04</td>\n",
       "    </tr>\n",
       "    <tr>\n",
       "      <th>REACTOME_S_PHASE</th>\n",
       "      <td>REACTOME_S_PHASE</td>\n",
       "      <td>LV23</td>\n",
       "      <td>0.649706</td>\n",
       "      <td>6.166235e-03</td>\n",
       "      <td>8.292523e-03</td>\n",
       "    </tr>\n",
       "    <tr>\n",
       "      <th>KEGG_HUNTINGTONS_DISEASE</th>\n",
       "      <td>KEGG_HUNTINGTONS_DISEASE</td>\n",
       "      <td>LV30</td>\n",
       "      <td>0.574012</td>\n",
       "      <td>7.663000e-02</td>\n",
       "      <td>8.789912e-02</td>\n",
       "    </tr>\n",
       "    <tr>\n",
       "      <th>KEGG_PARKINSONS_DISEASE</th>\n",
       "      <td>KEGG_PARKINSONS_DISEASE</td>\n",
       "      <td>LV23</td>\n",
       "      <td>0.918386</td>\n",
       "      <td>1.596444e-11</td>\n",
       "      <td>1.037689e-10</td>\n",
       "    </tr>\n",
       "    <tr>\n",
       "      <th>REACTOME_RESPIRATORY_ELECTRON_TRANSPORT</th>\n",
       "      <td>REACTOME_RESPIRATORY_ELECTRON_TRANSPORT</td>\n",
       "      <td>LV23</td>\n",
       "      <td>0.917824</td>\n",
       "      <td>3.120692e-08</td>\n",
       "      <td>1.352300e-07</td>\n",
       "    </tr>\n",
       "    <tr>\n",
       "      <th>MIPS_55S_RIBOSOME_MITOCHONDRIAL</th>\n",
       "      <td>MIPS_55S_RIBOSOME_MITOCHONDRIAL</td>\n",
       "      <td>LV23</td>\n",
       "      <td>0.790685</td>\n",
       "      <td>2.374058e-05</td>\n",
       "      <td>5.786766e-05</td>\n",
       "    </tr>\n",
       "    <tr>\n",
       "      <th>REACTOME_ANTIGEN_PROCESSING_UBIQUITINATION_PROTEASOME_DEGRADATION</th>\n",
       "      <td>REACTOME_ANTIGEN_PROCESSING_UBIQUITINATION_PRO...</td>\n",
       "      <td>LV23</td>\n",
       "      <td>0.678153</td>\n",
       "      <td>4.295045e-05</td>\n",
       "      <td>9.305932e-05</td>\n",
       "    </tr>\n",
       "    <tr>\n",
       "      <th>REACTOME_SYNTHESIS_OF_DNA</th>\n",
       "      <td>REACTOME_SYNTHESIS_OF_DNA</td>\n",
       "      <td>LV23</td>\n",
       "      <td>0.714921</td>\n",
       "      <td>4.632628e-04</td>\n",
       "      <td>7.226900e-04</td>\n",
       "    </tr>\n",
       "    <tr>\n",
       "      <th>REACTOME_CYTOKINE_SIGNALING_IN_IMMUNE_SYSTEM</th>\n",
       "      <td>REACTOME_CYTOKINE_SIGNALING_IN_IMMUNE_SYSTEM</td>\n",
       "      <td>LV27</td>\n",
       "      <td>0.722029</td>\n",
       "      <td>4.154970e-09</td>\n",
       "      <td>2.025548e-08</td>\n",
       "    </tr>\n",
       "    <tr>\n",
       "      <th>REACTOME_INTERFERON_SIGNALING</th>\n",
       "      <td>REACTOME_INTERFERON_SIGNALING</td>\n",
       "      <td>LV27</td>\n",
       "      <td>0.721424</td>\n",
       "      <td>5.285410e-06</td>\n",
       "      <td>1.472364e-05</td>\n",
       "    </tr>\n",
       "    <tr>\n",
       "      <th>REACTOME_INTERFERON_ALPHA_BETA_SIGNALING</th>\n",
       "      <td>REACTOME_INTERFERON_ALPHA_BETA_SIGNALING</td>\n",
       "      <td>LV27</td>\n",
       "      <td>0.970264</td>\n",
       "      <td>3.518844e-08</td>\n",
       "      <td>1.372349e-07</td>\n",
       "    </tr>\n",
       "    <tr>\n",
       "      <th>KEGG_PATHWAYS_IN_CANCER</th>\n",
       "      <td>KEGG_PATHWAYS_IN_CANCER</td>\n",
       "      <td>LV29</td>\n",
       "      <td>0.636876</td>\n",
       "      <td>2.677043e-04</td>\n",
       "      <td>4.350195e-04</td>\n",
       "    </tr>\n",
       "    <tr>\n",
       "      <th>KEGG_RIBOSOME</th>\n",
       "      <td>KEGG_RIBOSOME</td>\n",
       "      <td>LV30</td>\n",
       "      <td>0.978683</td>\n",
       "      <td>1.364297e-12</td>\n",
       "      <td>1.330190e-11</td>\n",
       "    </tr>\n",
       "    <tr>\n",
       "      <th>MIPS_NOP56P_ASSOCIATED_PRE_RRNA_COMPLEX</th>\n",
       "      <td>MIPS_NOP56P_ASSOCIATED_PRE_RRNA_COMPLEX</td>\n",
       "      <td>LV30</td>\n",
       "      <td>0.927818</td>\n",
       "      <td>4.958595e-12</td>\n",
       "      <td>3.867704e-11</td>\n",
       "    </tr>\n",
       "    <tr>\n",
       "      <th>MIPS_RIBOSOME_CYTOPLASMIC</th>\n",
       "      <td>MIPS_RIBOSOME_CYTOPLASMIC</td>\n",
       "      <td>LV30</td>\n",
       "      <td>0.998991</td>\n",
       "      <td>8.567520e-13</td>\n",
       "      <td>1.113778e-11</td>\n",
       "    </tr>\n",
       "    <tr>\n",
       "      <th>REACTOME_INFLUENZA_LIFE_CYCLE</th>\n",
       "      <td>REACTOME_INFLUENZA_LIFE_CYCLE</td>\n",
       "      <td>LV30</td>\n",
       "      <td>0.782349</td>\n",
       "      <td>1.262686e-07</td>\n",
       "      <td>4.103729e-07</td>\n",
       "    </tr>\n",
       "    <tr>\n",
       "      <th>REACTOME_TRANSLATION</th>\n",
       "      <td>REACTOME_TRANSLATION</td>\n",
       "      <td>LV30</td>\n",
       "      <td>0.896555</td>\n",
       "      <td>2.604060e-14</td>\n",
       "      <td>1.015583e-12</td>\n",
       "    </tr>\n",
       "  </tbody>\n",
       "</table>\n",
       "</div>"
      ],
      "text/plain": [
       "                                                                                              pathway  \\\n",
       "REACTOME_GENERIC_TRANSCRIPTION_PATHWAY                         REACTOME_GENERIC_TRANSCRIPTION_PATHWAY   \n",
       "REACTOME_IMMUNE_SYSTEM                                                         REACTOME_IMMUNE_SYSTEM   \n",
       "REACTOME_TRANSMEMBRANE_TRANSPORT_OF_SMALL_MOLEC...  REACTOME_TRANSMEMBRANE_TRANSPORT_OF_SMALL_MOLE...   \n",
       "REACTOME_HEMOSTASIS                                                               REACTOME_HEMOSTASIS   \n",
       "KEGG_MAPK_SIGNALING_PATHWAY                                               KEGG_MAPK_SIGNALING_PATHWAY   \n",
       "MIPS_SPLICEOSOME                                                                     MIPS_SPLICEOSOME   \n",
       "REACTOME_PLATELET_ACTIVATION_SIGNALING_AND_AGGR...  REACTOME_PLATELET_ACTIVATION_SIGNALING_AND_AGG...   \n",
       "REACTOME_SIGNALLING_BY_NGF                                                 REACTOME_SIGNALLING_BY_NGF   \n",
       "REACTOME_CELL_CYCLE_MITOTIC                                               REACTOME_CELL_CYCLE_MITOTIC   \n",
       "REACTOME_MITOTIC_G1_G1_S_PHASES                                       REACTOME_MITOTIC_G1_G1_S_PHASES   \n",
       "KEGG_SPLICEOSOME                                                                     KEGG_SPLICEOSOME   \n",
       "REACTOME_MITOTIC_M_M_G1_PHASES                                         REACTOME_MITOTIC_M_M_G1_PHASES   \n",
       "REACTOME_DNA_REPLICATION                                                     REACTOME_DNA_REPLICATION   \n",
       "KEGG_CELL_CYCLE                                                                       KEGG_CELL_CYCLE   \n",
       "REACTOME_SRP_DEPENDENT_COTRANSLATIONAL_PROTEIN_...  REACTOME_SRP_DEPENDENT_COTRANSLATIONAL_PROTEIN...   \n",
       "REACTOME_ASPARAGINE_N_LINKED_GLYCOSYLATION                 REACTOME_ASPARAGINE_N_LINKED_GLYCOSYLATION   \n",
       "REACTOME_INNATE_IMMUNE_SYSTEM                                           REACTOME_INNATE_IMMUNE_SYSTEM   \n",
       "REACTOME_CLASS_A1_RHODOPSIN_LIKE_RECEPTORS                 REACTOME_CLASS_A1_RHODOPSIN_LIKE_RECEPTORS   \n",
       "REACTOME_METABOLISM_OF_LIPIDS_AND_LIPOPROTEINS         REACTOME_METABOLISM_OF_LIPIDS_AND_LIPOPROTEINS   \n",
       "REACTOME_ADAPTIVE_IMMUNE_SYSTEM                                       REACTOME_ADAPTIVE_IMMUNE_SYSTEM   \n",
       "KEGG_ENDOCYTOSIS                                                                     KEGG_ENDOCYTOSIS   \n",
       "REACTOME_METABOLISM_OF_RNA                                                 REACTOME_METABOLISM_OF_RNA   \n",
       "REACTOME_METABOLISM_OF_MRNA                                               REACTOME_METABOLISM_OF_MRNA   \n",
       "REACTOME_S_PHASE                                                                     REACTOME_S_PHASE   \n",
       "KEGG_HUNTINGTONS_DISEASE                                                     KEGG_HUNTINGTONS_DISEASE   \n",
       "KEGG_PARKINSONS_DISEASE                                                       KEGG_PARKINSONS_DISEASE   \n",
       "REACTOME_RESPIRATORY_ELECTRON_TRANSPORT                       REACTOME_RESPIRATORY_ELECTRON_TRANSPORT   \n",
       "MIPS_55S_RIBOSOME_MITOCHONDRIAL                                       MIPS_55S_RIBOSOME_MITOCHONDRIAL   \n",
       "REACTOME_ANTIGEN_PROCESSING_UBIQUITINATION_PROT...  REACTOME_ANTIGEN_PROCESSING_UBIQUITINATION_PRO...   \n",
       "REACTOME_SYNTHESIS_OF_DNA                                                   REACTOME_SYNTHESIS_OF_DNA   \n",
       "REACTOME_CYTOKINE_SIGNALING_IN_IMMUNE_SYSTEM             REACTOME_CYTOKINE_SIGNALING_IN_IMMUNE_SYSTEM   \n",
       "REACTOME_INTERFERON_SIGNALING                                           REACTOME_INTERFERON_SIGNALING   \n",
       "REACTOME_INTERFERON_ALPHA_BETA_SIGNALING                     REACTOME_INTERFERON_ALPHA_BETA_SIGNALING   \n",
       "KEGG_PATHWAYS_IN_CANCER                                                       KEGG_PATHWAYS_IN_CANCER   \n",
       "KEGG_RIBOSOME                                                                           KEGG_RIBOSOME   \n",
       "MIPS_NOP56P_ASSOCIATED_PRE_RRNA_COMPLEX                       MIPS_NOP56P_ASSOCIATED_PRE_RRNA_COMPLEX   \n",
       "MIPS_RIBOSOME_CYTOPLASMIC                                                   MIPS_RIBOSOME_CYTOPLASMIC   \n",
       "REACTOME_INFLUENZA_LIFE_CYCLE                                           REACTOME_INFLUENZA_LIFE_CYCLE   \n",
       "REACTOME_TRANSLATION                                                             REACTOME_TRANSLATION   \n",
       "\n",
       "                                                   LV index       AUC  \\\n",
       "REACTOME_GENERIC_TRANSCRIPTION_PATHWAY                 LV29  0.565266   \n",
       "REACTOME_IMMUNE_SYSTEM                                 LV27  0.581622   \n",
       "REACTOME_TRANSMEMBRANE_TRANSPORT_OF_SMALL_MOLEC...      LV1  0.535370   \n",
       "REACTOME_HEMOSTASIS                                    LV24  0.617047   \n",
       "KEGG_MAPK_SIGNALING_PATHWAY                            LV10  0.569942   \n",
       "MIPS_SPLICEOSOME                                       LV23  0.760028   \n",
       "REACTOME_PLATELET_ACTIVATION_SIGNALING_AND_AGGR...     LV24  0.620513   \n",
       "REACTOME_SIGNALLING_BY_NGF                              LV4  0.675721   \n",
       "REACTOME_CELL_CYCLE_MITOTIC                            LV23  0.577069   \n",
       "REACTOME_MITOTIC_G1_G1_S_PHASES                         LV8  0.789125   \n",
       "KEGG_SPLICEOSOME                                       LV23  0.637077   \n",
       "REACTOME_MITOTIC_M_M_G1_PHASES                         LV23  0.625852   \n",
       "REACTOME_DNA_REPLICATION                                LV8  0.768567   \n",
       "KEGG_CELL_CYCLE                                         LV8  0.703983   \n",
       "REACTOME_SRP_DEPENDENT_COTRANSLATIONAL_PROTEIN_...     LV30  0.944071   \n",
       "REACTOME_ASPARAGINE_N_LINKED_GLYCOSYLATION              LV8  0.770406   \n",
       "REACTOME_INNATE_IMMUNE_SYSTEM                          LV27  0.629193   \n",
       "REACTOME_CLASS_A1_RHODOPSIN_LIKE_RECEPTORS             LV10  0.543206   \n",
       "REACTOME_METABOLISM_OF_LIPIDS_AND_LIPOPROTEINS         LV14  0.516963   \n",
       "REACTOME_ADAPTIVE_IMMUNE_SYSTEM                        LV16  0.494157   \n",
       "KEGG_ENDOCYTOSIS                                       LV24  0.531024   \n",
       "REACTOME_METABOLISM_OF_RNA                             LV30  0.668425   \n",
       "REACTOME_METABOLISM_OF_MRNA                            LV23  0.648619   \n",
       "REACTOME_S_PHASE                                       LV23  0.649706   \n",
       "KEGG_HUNTINGTONS_DISEASE                               LV30  0.574012   \n",
       "KEGG_PARKINSONS_DISEASE                                LV23  0.918386   \n",
       "REACTOME_RESPIRATORY_ELECTRON_TRANSPORT                LV23  0.917824   \n",
       "MIPS_55S_RIBOSOME_MITOCHONDRIAL                        LV23  0.790685   \n",
       "REACTOME_ANTIGEN_PROCESSING_UBIQUITINATION_PROT...     LV23  0.678153   \n",
       "REACTOME_SYNTHESIS_OF_DNA                              LV23  0.714921   \n",
       "REACTOME_CYTOKINE_SIGNALING_IN_IMMUNE_SYSTEM           LV27  0.722029   \n",
       "REACTOME_INTERFERON_SIGNALING                          LV27  0.721424   \n",
       "REACTOME_INTERFERON_ALPHA_BETA_SIGNALING               LV27  0.970264   \n",
       "KEGG_PATHWAYS_IN_CANCER                                LV29  0.636876   \n",
       "KEGG_RIBOSOME                                          LV30  0.978683   \n",
       "MIPS_NOP56P_ASSOCIATED_PRE_RRNA_COMPLEX                LV30  0.927818   \n",
       "MIPS_RIBOSOME_CYTOPLASMIC                              LV30  0.998991   \n",
       "REACTOME_INFLUENZA_LIFE_CYCLE                          LV30  0.782349   \n",
       "REACTOME_TRANSLATION                                   LV30  0.896555   \n",
       "\n",
       "                                                         p-value           FDR  \n",
       "REACTOME_GENERIC_TRANSCRIPTION_PATHWAY              3.678715e-02  4.483434e-02  \n",
       "REACTOME_IMMUNE_SYSTEM                              6.838012e-05  1.403592e-04  \n",
       "REACTOME_TRANSMEMBRANE_TRANSPORT_OF_SMALL_MOLEC...  1.761669e-01  1.963003e-01  \n",
       "REACTOME_HEMOSTASIS                                 2.405891e-04  4.264989e-04  \n",
       "KEGG_MAPK_SIGNALING_PATHWAY                         5.062362e-02  5.982792e-02  \n",
       "MIPS_SPLICEOSOME                                    2.332214e-07  6.996641e-07  \n",
       "REACTOME_PLATELET_ACTIVATION_SIGNALING_AND_AGGR...  7.683274e-03  9.988256e-03  \n",
       "REACTOME_SIGNALLING_BY_NGF                          3.206191e-05  7.355379e-05  \n",
       "REACTOME_CELL_CYCLE_MITOTIC                         1.581702e-02  1.989883e-02  \n",
       "REACTOME_MITOTIC_G1_G1_S_PHASES                     5.360498e-08  1.900540e-07  \n",
       "KEGG_SPLICEOSOME                                    6.077599e-03  8.292523e-03  \n",
       "REACTOME_MITOTIC_M_M_G1_PHASES                      5.017645e-03  7.247709e-03  \n",
       "REACTOME_DNA_REPLICATION                            2.079924e-09  1.158815e-08  \n",
       "KEGG_CELL_CYCLE                                     1.676503e-04  3.113506e-04  \n",
       "REACTOME_SRP_DEPENDENT_COTRANSLATIONAL_PROTEIN_...  2.054381e-13  4.006044e-12  \n",
       "REACTOME_ASPARAGINE_N_LINKED_GLYCOSYLATION          7.376382e-05  1.438394e-04  \n",
       "REACTOME_INNATE_IMMUNE_SYSTEM                       1.197930e-03  1.796895e-03  \n",
       "REACTOME_CLASS_A1_RHODOPSIN_LIKE_RECEPTORS          2.366066e-01  2.563238e-01  \n",
       "REACTOME_METABOLISM_OF_LIPIDS_AND_LIPOPROTEINS      2.999565e-01  3.078501e-01  \n",
       "REACTOME_ADAPTIVE_IMMUNE_SYSTEM                     5.828894e-01  5.828894e-01  \n",
       "KEGG_ENDOCYTOSIS                                    2.596790e-01  2.737157e-01  \n",
       "REACTOME_METABOLISM_OF_RNA                          1.032423e-05  2.684299e-05  \n",
       "REACTOME_METABOLISM_OF_MRNA                         2.612988e-04  4.350195e-04  \n",
       "REACTOME_S_PHASE                                    6.166235e-03  8.292523e-03  \n",
       "KEGG_HUNTINGTONS_DISEASE                            7.663000e-02  8.789912e-02  \n",
       "KEGG_PARKINSONS_DISEASE                             1.596444e-11  1.037689e-10  \n",
       "REACTOME_RESPIRATORY_ELECTRON_TRANSPORT             3.120692e-08  1.352300e-07  \n",
       "MIPS_55S_RIBOSOME_MITOCHONDRIAL                     2.374058e-05  5.786766e-05  \n",
       "REACTOME_ANTIGEN_PROCESSING_UBIQUITINATION_PROT...  4.295045e-05  9.305932e-05  \n",
       "REACTOME_SYNTHESIS_OF_DNA                           4.632628e-04  7.226900e-04  \n",
       "REACTOME_CYTOKINE_SIGNALING_IN_IMMUNE_SYSTEM        4.154970e-09  2.025548e-08  \n",
       "REACTOME_INTERFERON_SIGNALING                       5.285410e-06  1.472364e-05  \n",
       "REACTOME_INTERFERON_ALPHA_BETA_SIGNALING            3.518844e-08  1.372349e-07  \n",
       "KEGG_PATHWAYS_IN_CANCER                             2.677043e-04  4.350195e-04  \n",
       "KEGG_RIBOSOME                                       1.364297e-12  1.330190e-11  \n",
       "MIPS_NOP56P_ASSOCIATED_PRE_RRNA_COMPLEX             4.958595e-12  3.867704e-11  \n",
       "MIPS_RIBOSOME_CYTOPLASMIC                           8.567520e-13  1.113778e-11  \n",
       "REACTOME_INFLUENZA_LIFE_CYCLE                       1.262686e-07  4.103729e-07  \n",
       "REACTOME_TRANSLATION                                2.604060e-14  1.015583e-12  "
      ]
     },
     "execution_count": 55,
     "metadata": {},
     "output_type": "execute_result"
    }
   ],
   "source": [
    "out"
   ]
  },
  {
   "cell_type": "code",
   "execution_count": 22,
   "id": "8cae8b0f-724a-4c56-98bf-3d6be372070f",
   "metadata": {},
   "outputs": [
    {
     "data": {
      "text/plain": [
       "Index(['GAS6', 'MMP14', 'MARCKSL1', 'SPARC', 'CTSD', 'EPAS1', 'PALLD', 'PHC2',\n",
       "       'LGALS3BP', 'SERPING1',\n",
       "       ...\n",
       "       'LDHA', 'LDHB', 'ACAP1', 'ACAP2', 'ACAP3', 'CFL2', 'CFL1', 'SELL',\n",
       "       'GNGT2', 'SERPINH1'],\n",
       "      dtype='object', name='gene', length=5738)"
      ]
     },
     "execution_count": 22,
     "metadata": {},
     "output_type": "execute_result"
    }
   ],
   "source": [
    "iiheldout"
   ]
  },
  {
   "cell_type": "code",
   "execution_count": 23,
   "id": "f46ab514-ddaa-413d-9edb-f365bd4a6b9f",
   "metadata": {},
   "outputs": [
    {
     "data": {
      "text/plain": [
       "gene\n",
       "GAS6        0.115022\n",
       "MMP14       0.072330\n",
       "MARCKSL1    0.065167\n",
       "SPARC       0.023501\n",
       "CTSD        0.188790\n",
       "              ...   \n",
       "CFL2        0.000000\n",
       "CFL1        0.038926\n",
       "SELL        0.000000\n",
       "GNGT2       0.000000\n",
       "SERPINH1    0.123516\n",
       "Name: LV12, Length: 5738, dtype: float64"
      ]
     },
     "execution_count": 23,
     "metadata": {},
     "output_type": "execute_result"
    }
   ],
   "source": [
    "plierRes.Z.loc[iiheldout, i]"
   ]
  },
  {
   "cell_type": "code",
   "execution_count": 24,
   "id": "99fc54fb-cecf-42b4-8c01-ab3b3a3674f9",
   "metadata": {},
   "outputs": [],
   "source": [
    "labels = priorMat.loc[iiheldout, j]"
   ]
  },
  {
   "cell_type": "code",
   "execution_count": 25,
   "id": "7dde45c7-4d08-46bf-a552-2c586273dccd",
   "metadata": {},
   "outputs": [],
   "source": [
    "values = plierRes.Z.loc[iiheldout, i]"
   ]
  },
  {
   "cell_type": "code",
   "execution_count": 14,
   "id": "b8d0e87d-af29-479a-9965-548e2f2238dc",
   "metadata": {},
   "outputs": [],
   "source": [
    "posii = labels[labels > 0]\n",
    "negii = labels[labels <= 0]\n",
    "posn = len(posii)\n",
    "negn = len(negii)\n",
    "posval = values[posii.index]\n",
    "negval = values[negii.index]"
   ]
  },
  {
   "cell_type": "code",
   "execution_count": 15,
   "id": "0f06aebe-9d97-4c0f-814d-7dc05c816b8e",
   "metadata": {},
   "outputs": [
    {
     "data": {
      "text/plain": [
       "gene\n",
       "GAS6        0.000000\n",
       "MMP14       0.074708\n",
       "MARCKSL1    0.000000\n",
       "SPARC       0.000000\n",
       "CTSD        0.000000\n",
       "              ...   \n",
       "CFL2        0.087434\n",
       "CFL1        0.000000\n",
       "SELL        0.036669\n",
       "GNGT2       0.010840\n",
       "SERPINH1    0.000000\n",
       "Name: LV1, Length: 5843, dtype: float64"
      ]
     },
     "execution_count": 15,
     "metadata": {},
     "output_type": "execute_result"
    }
   ],
   "source": [
    "posval"
   ]
  },
  {
   "cell_type": "code",
   "execution_count": 26,
   "id": "0ebceb53-5166-4684-b9b4-a84cacbeb8ce",
   "metadata": {},
   "outputs": [
    {
     "data": {
      "text/plain": [
       "Index(['GAS6', 'MMP14', 'MARCKSL1', 'SPARC', 'CTSD', 'EPAS1', 'PALLD', 'PHC2',\n",
       "       'LGALS3BP', 'SERPING1',\n",
       "       ...\n",
       "       'LDHA', 'LDHB', 'ACAP1', 'ACAP2', 'ACAP3', 'CFL2', 'CFL1', 'SELL',\n",
       "       'GNGT2', 'SERPINH1'],\n",
       "      dtype='object', name='gene', length=5738)"
      ]
     },
     "execution_count": 26,
     "metadata": {},
     "output_type": "execute_result"
    }
   ],
   "source": [
    "iiheldout"
   ]
  },
  {
   "cell_type": "code",
   "execution_count": 27,
   "id": "bd33bc85-a1df-4e18-9eff-dcf8dc11b782",
   "metadata": {},
   "outputs": [
    {
     "data": {
      "text/plain": [
       "Index(['KEGG_MAPK_SIGNALING_PATHWAY'], dtype='object')"
      ]
     },
     "execution_count": 27,
     "metadata": {},
     "output_type": "execute_result"
    }
   ],
   "source": [
    "j"
   ]
  },
  {
   "cell_type": "code",
   "execution_count": 28,
   "id": "06544d86-54f4-478f-9f84-c7a409293e68",
   "metadata": {},
   "outputs": [
    {
     "data": {
      "text/plain": [
       "Index(['KEGG_MAPK_SIGNALING_PATHWAY'], dtype='object')"
      ]
     },
     "execution_count": 28,
     "metadata": {},
     "output_type": "execute_result"
    }
   ],
   "source": [
    "iipath"
   ]
  },
  {
   "cell_type": "code",
   "execution_count": 29,
   "id": "251bb249-b85d-4957-ac81-d6810ed0476d",
   "metadata": {},
   "outputs": [
    {
     "data": {
      "text/plain": [
       "False"
      ]
     },
     "execution_count": 29,
     "metadata": {},
     "output_type": "execute_result"
    }
   ],
   "source": [
    "len(iipath) > 1"
   ]
  },
  {
   "cell_type": "code",
   "execution_count": 36,
   "id": "3b932ee7-e866-48ee-b935-4f9a7d68a68e",
   "metadata": {},
   "outputs": [
    {
     "data": {
      "text/plain": [
       "array(['KEGG_MAPK_SIGNALING_PATHWAY'], dtype=object)"
      ]
     },
     "execution_count": 36,
     "metadata": {},
     "output_type": "execute_result"
    }
   ],
   "source": [
    "j.values"
   ]
  },
  {
   "cell_type": "code",
   "execution_count": 39,
   "id": "13e939f5-7e30-4a55-b6b3-d4f18e72fbab",
   "metadata": {},
   "outputs": [
    {
     "data": {
      "text/plain": [
       "gene\n",
       "GAS6        0\n",
       "MMP14       0\n",
       "MARCKSL1    0\n",
       "SPARC       0\n",
       "CTSD        0\n",
       "           ..\n",
       "CFL2        0\n",
       "CFL1        0\n",
       "SELL        0\n",
       "GNGT2       0\n",
       "SERPINH1    0\n",
       "Name: KEGG_MAPK_SIGNALING_PATHWAY, Length: 5738, dtype: int64"
      ]
     },
     "execution_count": 39,
     "metadata": {},
     "output_type": "execute_result"
    }
   ],
   "source": [
    "priorMat.loc[iiheldout, j[0]]"
   ]
  },
  {
   "cell_type": "code",
   "execution_count": 31,
   "id": "972ac65a-ff88-4f25-a51c-45a1f6b017b6",
   "metadata": {},
   "outputs": [
    {
     "data": {
      "text/plain": [
       "gene\n",
       "GAS6        0.115022\n",
       "MMP14       0.072330\n",
       "MARCKSL1    0.065167\n",
       "SPARC       0.023501\n",
       "CTSD        0.188790\n",
       "              ...   \n",
       "CFL2        0.000000\n",
       "CFL1        0.038926\n",
       "SELL        0.000000\n",
       "GNGT2       0.000000\n",
       "SERPINH1    0.123516\n",
       "Name: LV12, Length: 5738, dtype: float64"
      ]
     },
     "execution_count": 31,
     "metadata": {},
     "output_type": "execute_result"
    }
   ],
   "source": [
    "values"
   ]
  }
 ],
 "metadata": {
  "kernelspec": {
   "display_name": "Python 3 (ipykernel)",
   "language": "python",
   "name": "python3"
  },
  "language_info": {
   "codemirror_mode": {
    "name": "ipython",
    "version": 3
   },
   "file_extension": ".py",
   "mimetype": "text/x-python",
   "name": "python",
   "nbconvert_exporter": "python",
   "pygments_lexer": "ipython3",
   "version": "3.8.12"
  }
 },
 "nbformat": 4,
 "nbformat_minor": 5
}
