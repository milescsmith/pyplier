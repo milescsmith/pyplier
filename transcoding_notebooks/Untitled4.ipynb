{
 "cells": [
  {
   "cell_type": "code",
   "execution_count": 16,
   "id": "838c79a8-f808-4582-a04a-f7fec5554123",
   "metadata": {},
   "outputs": [],
   "source": [
    "import numpy as np\n",
    "from typing import Union\n",
    "\n",
    "\n",
    "def colSumNorm(mat: np.ndarray, return_all: bool = False) -> Union[np.ndarray, dict[str, np.ndarray]]:\n",
    "    ss = np.sqrt(np.sum(np.power(mat, 2), axis=1))\n",
    "    ss = np.where(ss < 1e-16, 1, ss)\n",
    "    if return_all:\n",
    "        return {\"mat\": (mat.transpose() / ss).transpose(), \"ss\": ss}\n",
    "    else:\n",
    "        return (mat.transpose() / ss).transpose()"
   ]
  },
  {
   "cell_type": "code",
   "execution_count": 2,
   "id": "bdc03c9e-fc44-439f-a886-41db64fc09e9",
   "metadata": {},
   "outputs": [],
   "source": [
    "from numpy.random import default_rng"
   ]
  },
  {
   "cell_type": "code",
   "execution_count": 3,
   "id": "20e85536-94d1-40ec-bf7d-c8ef7b6d1535",
   "metadata": {},
   "outputs": [],
   "source": [
    "rng = default_rng()"
   ]
  },
  {
   "cell_type": "code",
   "execution_count": 4,
   "id": "f0e2fde5-a795-47b7-9ac7-cb5c8c75fe21",
   "metadata": {},
   "outputs": [],
   "source": [
    "arr = rng.standard_normal((10, 10))"
   ]
  },
  {
   "cell_type": "code",
   "execution_count": 5,
   "id": "b55aad56-4ba6-4f3d-8fef-5a8f6223d4af",
   "metadata": {},
   "outputs": [],
   "source": [
    "np.savetxt(\"/Users/milessmith/workspace/pyplier/tests/data/colSumNorm/test_arr.csv.gz\", arr, delimiter=\",\")"
   ]
  },
  {
   "cell_type": "code",
   "execution_count": 17,
   "id": "435b3f12-73ff-482c-80e9-75176eb940af",
   "metadata": {},
   "outputs": [
    {
     "data": {
      "text/plain": [
       "array([[ 1.7398792 , -0.29240654, -0.42338046, -0.09782688,  0.95653223,\n",
       "         0.63152777, -0.64358388,  0.10471505,  1.05548429,  0.7771689 ],\n",
       "       [ 0.15949798, -0.80522591,  1.49111024,  0.36379771, -0.30550267,\n",
       "         0.4035162 ,  1.25413517, -0.07374653, -0.01119639, -1.76488928],\n",
       "       [-0.80473435,  0.57432585, -0.76473834,  0.45488463,  1.20344701,\n",
       "         1.09148407,  1.83068494, -0.36914   , -0.62651351,  0.80907749],\n",
       "       [ 0.24198343,  0.49295325,  1.12314114, -0.09668591,  1.55930758,\n",
       "        -0.24091035,  1.82139166, -0.74094965,  1.76506537, -1.34010124],\n",
       "       [-0.23988207, -0.54551783, -1.40393288,  0.6419897 ,  0.51554414,\n",
       "        -1.65390987, -0.23983811,  1.42100628, -0.08810647,  0.50339505],\n",
       "       [-1.04049836,  0.63037021,  0.50404195,  1.05804532, -0.01340408,\n",
       "         0.6216234 ,  0.26322809,  1.59805955,  0.04697477,  0.92805632],\n",
       "       [ 0.76960692, -1.46496327,  0.89420536, -1.56428001, -2.00814285,\n",
       "         0.24732044, -1.18491478,  0.56206235, -0.42330192, -0.90056912],\n",
       "       [-1.57913704, -1.24304429, -0.89391791,  0.95656548, -0.74875799,\n",
       "         0.99965261, -0.78729255,  0.68305183,  0.26913271, -0.47060539],\n",
       "       [ 0.47133233,  0.33507069,  0.17277165, -0.20693527, -1.31345234,\n",
       "         0.67026332, -0.01248551, -0.51992386, -1.17550087, -0.58328495],\n",
       "       [-0.23760563,  0.57040189, -0.98530911, -0.51403669,  0.21072854,\n",
       "        -0.42239878,  1.55763368, -0.36430451,  0.94067889,  0.87383025]])"
      ]
     },
     "execution_count": 17,
     "metadata": {},
     "output_type": "execute_result"
    }
   ],
   "source": [
    "arr"
   ]
  },
  {
   "cell_type": "code",
   "execution_count": 22,
   "id": "efa44086-83cc-4db7-a1ed-5e3c2bd77efa",
   "metadata": {},
   "outputs": [],
   "source": [
    "arr2 = np.loadtxt(\"/Users/milessmith/workspace/pyplier/tests/data/colSumNorm/test_arr.csv.gz\",delimiter=\",\")"
   ]
  },
  {
   "cell_type": "code",
   "execution_count": 23,
   "id": "0e568834-532c-473a-8b1a-5e1b8b4f7308",
   "metadata": {},
   "outputs": [
    {
     "data": {
      "text/plain": [
       "array([[ 1.7398792 , -0.29240654, -0.42338046, -0.09782688,  0.95653223,\n",
       "         0.63152777, -0.64358388,  0.10471505,  1.05548429,  0.7771689 ],\n",
       "       [ 0.15949798, -0.80522591,  1.49111024,  0.36379771, -0.30550267,\n",
       "         0.4035162 ,  1.25413517, -0.07374653, -0.01119639, -1.76488928],\n",
       "       [-0.80473435,  0.57432585, -0.76473834,  0.45488463,  1.20344701,\n",
       "         1.09148407,  1.83068494, -0.36914   , -0.62651351,  0.80907749],\n",
       "       [ 0.24198343,  0.49295325,  1.12314114, -0.09668591,  1.55930758,\n",
       "        -0.24091035,  1.82139166, -0.74094965,  1.76506537, -1.34010124],\n",
       "       [-0.23988207, -0.54551783, -1.40393288,  0.6419897 ,  0.51554414,\n",
       "        -1.65390987, -0.23983811,  1.42100628, -0.08810647,  0.50339505],\n",
       "       [-1.04049836,  0.63037021,  0.50404195,  1.05804532, -0.01340408,\n",
       "         0.6216234 ,  0.26322809,  1.59805955,  0.04697477,  0.92805632],\n",
       "       [ 0.76960692, -1.46496327,  0.89420536, -1.56428001, -2.00814285,\n",
       "         0.24732044, -1.18491478,  0.56206235, -0.42330192, -0.90056912],\n",
       "       [-1.57913704, -1.24304429, -0.89391791,  0.95656548, -0.74875799,\n",
       "         0.99965261, -0.78729255,  0.68305183,  0.26913271, -0.47060539],\n",
       "       [ 0.47133233,  0.33507069,  0.17277165, -0.20693527, -1.31345234,\n",
       "         0.67026332, -0.01248551, -0.51992386, -1.17550087, -0.58328495],\n",
       "       [-0.23760563,  0.57040189, -0.98530911, -0.51403669,  0.21072854,\n",
       "        -0.42239878,  1.55763368, -0.36430451,  0.94067889,  0.87383025]])"
      ]
     },
     "execution_count": 23,
     "metadata": {},
     "output_type": "execute_result"
    }
   ],
   "source": [
    "arr2"
   ]
  },
  {
   "cell_type": "code",
   "execution_count": 25,
   "id": "511158bf-03d2-401d-8aa3-acc367304b1e",
   "metadata": {},
   "outputs": [
    {
     "data": {
      "text/plain": [
       "True"
      ]
     },
     "execution_count": 25,
     "metadata": {},
     "output_type": "execute_result"
    }
   ],
   "source": [
    "np.array_equal(arr, arr2)"
   ]
  },
  {
   "cell_type": "code",
   "execution_count": 26,
   "id": "9a4a1ca5-2d2e-4bdd-b955-cc7588bda7b5",
   "metadata": {},
   "outputs": [
    {
     "data": {
      "text/plain": [
       "{'mat': array([[ 0.66925918, -0.11247664, -0.16285686, -0.03762993,  0.36793817,\n",
       "          0.24292247, -0.24755995,  0.04027953,  0.40600092,  0.29894456],\n",
       "        [ 0.05646522, -0.28506479,  0.52788047,  0.12879109, -0.10815357,\n",
       "          0.14285216,  0.44398694, -0.02610763, -0.00396373, -0.62480329],\n",
       "        [-0.26908908,  0.19204451, -0.25571511,  0.15210546,  0.40241161,\n",
       "          0.36497316,  0.61214899, -0.12343395, -0.20949515,  0.27054135],\n",
       "        [ 0.06753196,  0.13757181,  0.31344262, -0.02698279,  0.43516655,\n",
       "         -0.06723249,  0.50830813, -0.20678185,  0.49258877, -0.37399114],\n",
       "        [-0.08440346, -0.19194261, -0.49397934,  0.22588662,  0.18139625,\n",
       "         -0.58193474, -0.08438799,  0.49998669, -0.03100061,  0.17712154],\n",
       "        [-0.40118115,  0.24304954,  0.19434161,  0.40794667, -0.00516816,\n",
       "          0.23967706,  0.10149189,  0.61615798,  0.01811189,  0.35782728],\n",
       "        [ 0.21520468, -0.40964672,  0.25004606, -0.43741859, -0.56153567,\n",
       "          0.06915805, -0.33133694,  0.15716913, -0.11836764, -0.25182555],\n",
       "        [-0.53558773, -0.42159689, -0.3031855 ,  0.32443336, -0.25395237,\n",
       "          0.33904699, -0.26702193,  0.23166715,  0.09128035, -0.15961279],\n",
       "        [ 0.22038332,  0.15667075,  0.08078374, -0.0967578 , -0.61413777,\n",
       "          0.31339852, -0.00583792, -0.24310352, -0.54963508, -0.27272959],\n",
       "        [-0.09662354,  0.23195682, -0.40068095, -0.20903563,  0.08569383,\n",
       "         -0.17177061,  0.63341965, -0.14814628,  0.38253185,  0.35534751]]),\n",
       " 'ss': array([2.59970914, 2.82471188, 2.99058719, 3.58324323, 2.84208823,\n",
       "        2.59358737, 3.57616259, 2.94841902, 2.13869331, 2.45908648])}"
      ]
     },
     "execution_count": 26,
     "metadata": {},
     "output_type": "execute_result"
    }
   ],
   "source": [
    "res = colSumNorm(arr, return_all=True)\n",
    "res"
   ]
  },
  {
   "cell_type": "code",
   "execution_count": 27,
   "id": "d5aac06b-3aab-494f-967e-692b8b21f1dd",
   "metadata": {},
   "outputs": [],
   "source": [
    "np.savetxt(\"/Users/milessmith/workspace/pyplier/tests/data/colSumNorm/res_ss.csv.gz\", res[\"ss\"], delimiter=\",\")"
   ]
  },
  {
   "cell_type": "code",
   "execution_count": 28,
   "id": "dd341f0a-5af0-467e-a3ce-457aa461bed2",
   "metadata": {},
   "outputs": [],
   "source": [
    "np.savetxt(\"/Users/milessmith/workspace/pyplier/tests/data/colSumNorm/res_mat.csv.gz\", res[\"mat\"], delimiter=\",\")"
   ]
  },
  {
   "cell_type": "code",
   "execution_count": 19,
   "id": "b5b5154b-3faa-45a5-b3dd-30df7cf22214",
   "metadata": {},
   "outputs": [
    {
     "data": {
      "text/plain": [
       "array([ 3.80810969,  0.71149652,  3.3987778 ,  4.58519528, -1.08925206,\n",
       "        4.59649716, -5.07297687, -2.81435254, -2.16214481,  1.62961853])"
      ]
     },
     "execution_count": 19,
     "metadata": {},
     "output_type": "execute_result"
    }
   ],
   "source": [
    "np.sum(arr, axis=1)"
   ]
  },
  {
   "cell_type": "code",
   "execution_count": 20,
   "id": "5348e3cf-227f-427f-b5dc-1d34002e9ea2",
   "metadata": {},
   "outputs": [
    {
     "data": {
      "text/plain": [
       "array([2.87463599, 2.47600624, 3.01220747, 2.3577199 , 3.39364345,\n",
       "       2.57313191, 3.63771531, 2.54170025, 2.67402557, 3.06924963])"
      ]
     },
     "execution_count": 20,
     "metadata": {},
     "output_type": "execute_result"
    }
   ],
   "source": [
    "np.sqrt(np.sum(np.power(arr, 2), axis=0))"
   ]
  },
  {
   "cell_type": "code",
   "execution_count": 21,
   "id": "e0f999f0-26d2-4683-9810-f32acfd5c222",
   "metadata": {},
   "outputs": [
    {
     "data": {
      "text/plain": [
       "array([2.59970914, 2.82471188, 2.99058719, 3.58324323, 2.84208823,\n",
       "       2.59358737, 3.57616259, 2.94841902, 2.13869331, 2.45908648])"
      ]
     },
     "execution_count": 21,
     "metadata": {},
     "output_type": "execute_result"
    }
   ],
   "source": [
    "np.sqrt(np.sum(np.power(arr, 2), axis=1))"
   ]
  },
  {
   "cell_type": "code",
   "execution_count": 33,
   "id": "b8983d35-399c-46b4-98e8-aacd923afc27",
   "metadata": {},
   "outputs": [],
   "source": [
    "from hypothesis import strategies as st"
   ]
  },
  {
   "cell_type": "code",
   "execution_count": 39,
   "id": "7e8dd3f6-b9a1-435f-83bf-ec053508f327",
   "metadata": {},
   "outputs": [],
   "source": [
    "from hypothesis.extra.numpy import arrays, array_shapes"
   ]
  },
  {
   "cell_type": "code",
   "execution_count": 53,
   "id": "d8ed91a4-7704-4042-ba0a-8c8b311b9a66",
   "metadata": {},
   "outputs": [
    {
     "data": {
      "text/plain": [
       "(4, 4)"
      ]
     },
     "execution_count": 53,
     "metadata": {},
     "output_type": "execute_result"
    }
   ],
   "source": [
    "array_shapes(min_dims=1,min_side=2, max_dims=2)"
   ]
  },
  {
   "cell_type": "code",
   "execution_count": 95,
   "id": "c60d6437-3b30-42a0-b5fd-1abcff004315",
   "metadata": {},
   "outputs": [
    {
     "data": {
      "text/plain": [
       "array([[    -inf,     -inf,     -inf, -2.00001,     -inf,     -inf],\n",
       "       [    -inf,     -inf,     -inf, -0.     ,     -inf,     -inf],\n",
       "       [    -inf,  0.5    ,     -inf,     -inf,     -inf,     -inf],\n",
       "       [    -inf,     -inf,     -inf,     -inf,     -inf,     -inf],\n",
       "       [    -inf,     -inf,     -inf,     -inf,     -inf,     -inf],\n",
       "       [    -inf,     -inf, -0.99999, -2.00001,     -inf,     -inf],\n",
       "       [    -inf,     -inf,     -inf,     -inf,     -inf,  2.00001]],\n",
       "      dtype=float32)"
      ]
     },
     "execution_count": 95,
     "metadata": {},
     "output_type": "execute_result"
    }
   ],
   "source": [
    "arrays(np.float32, array_shapes(min_dims=2,min_side=2, max_dims=2)).example()"
   ]
  },
  {
   "cell_type": "code",
   "execution_count": 86,
   "id": "248d6a6c-f483-4a5c-b80b-924fc34f4146",
   "metadata": {},
   "outputs": [],
   "source": [
    "arr_rand = arrays(np.float32, array_shapes(min_dims=2,min_side=1, max_dims=2)).example()"
   ]
  },
  {
   "cell_type": "code",
   "execution_count": 87,
   "id": "19a5432e-9764-44c2-b1ae-0522a4faa0e3",
   "metadata": {},
   "outputs": [
    {
     "data": {
      "text/plain": [
       "array([[           nan, -3.5652418e+16],\n",
       "       [ 2.2204460e-16,  1.4012985e-45],\n",
       "       [ 2.2204460e-16, -1.1920929e-07]], dtype=float32)"
      ]
     },
     "execution_count": 87,
     "metadata": {},
     "output_type": "execute_result"
    }
   ],
   "source": [
    "arr_rand"
   ]
  },
  {
   "cell_type": "code",
   "execution_count": 88,
   "id": "bd31e921-763e-4a35-b3f4-c41fdc54ae61",
   "metadata": {},
   "outputs": [
    {
     "data": {
      "text/plain": [
       "{'mat': array([[           nan,            nan],\n",
       "        [ 1.0000000e+00,  6.3108872e-30],\n",
       "        [ 1.8626451e-09, -1.0000000e+00]], dtype=float32),\n",
       " 'ss': array([          nan, 2.2204460e-16, 1.1920929e-07], dtype=float32)}"
      ]
     },
     "execution_count": 88,
     "metadata": {},
     "output_type": "execute_result"
    }
   ],
   "source": [
    "colSumNorm(arr_rand, return_all=True)"
   ]
  },
  {
   "cell_type": "code",
   "execution_count": 92,
   "id": "bd10e206-d42d-42a7-9ea9-14875a7ffabc",
   "metadata": {},
   "outputs": [
    {
     "data": {
      "text/plain": [
       "{'mat': array([[0., 0.]]), 'ss': array([1.])}"
      ]
     },
     "execution_count": 92,
     "metadata": {},
     "output_type": "execute_result"
    }
   ],
   "source": [
    "colSumNorm(np.array([[0., 0.]]), return_all=True)"
   ]
  },
  {
   "cell_type": "code",
   "execution_count": 97,
   "id": "5887adba-3259-4b31-8c3b-70d5c34ef79e",
   "metadata": {},
   "outputs": [
    {
     "data": {
      "text/plain": [
       "inf"
      ]
     },
     "execution_count": 97,
     "metadata": {},
     "output_type": "execute_result"
    }
   ],
   "source": [
    "np.power(np.inf, np.inf)"
   ]
  }
 ],
 "metadata": {
  "kernelspec": {
   "display_name": "Python 3.9 (XPython)",
   "language": "python",
   "name": "xpython"
  },
  "language_info": {
   "file_extension": ".py",
   "mimetype": "text/x-python",
   "name": "python",
   "version": "3.9.13"
  }
 },
 "nbformat": 4,
 "nbformat_minor": 5
}
