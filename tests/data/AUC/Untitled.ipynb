{
 "cells": [
  {
   "cell_type": "code",
   "execution_count": 68,
   "id": "06e772d8-443b-40b9-a44f-492f9acf3386",
   "metadata": {},
   "outputs": [],
   "source": [
    "from hypothesis.extra.pandas import indexes, series\n",
    "import hypothesis.strategies as st\n",
    "from hypothesis import given, assume"
   ]
  },
  {
   "cell_type": "code",
   "execution_count": 27,
   "id": "e3f0f5c5-186f-4fae-992e-d8eb0f70ea98",
   "metadata": {},
   "outputs": [
    {
     "data": {
      "text/plain": [
       "Series([], dtype: float64)"
      ]
     },
     "execution_count": 27,
     "metadata": {},
     "output_type": "execute_result"
    }
   ],
   "source": [
    "series(dtype=float).example()"
   ]
  },
  {
   "cell_type": "code",
   "execution_count": 202,
   "id": "cd8c9749-851b-42dc-b9ec-6598e463ee62",
   "metadata": {},
   "outputs": [],
   "source": [
    "from typing import Dict, List, Tuple\n",
    "import numpy as np\n",
    "import pandas as pd\n",
    "from scipy.stats import mannwhitneyu, norm\n",
    "\n",
    "\n",
    "def AUC(labels: pd.Series, values: pd.Series) -> Dict[str, float]:\n",
    "    labels = labels.fillna(value=0)\n",
    "    values = values.fillna(value=0)\n",
    "    posii = labels[labels > 0]\n",
    "    negii = labels[labels <= 0]\n",
    "    posn = len(posii)\n",
    "    negn = len(negii)\n",
    "    posval = values[posii.index]\n",
    "    negval = values[negii.index]\n",
    "    if (posn > 0 and negn > 0):\n",
    "        statistic, pvalue = mannwhitneyu(posval, negval, alternative = \"greater\")\n",
    "        conf_int_low, conf_int_high = mannwhitneyu_conf_int(posval, negval)\n",
    "        res = {\n",
    "            \"low\": conf_int_low,\n",
    "            \"high\": conf_int_high,\n",
    "            \"auc\": (statistic / (posn * negn)),\n",
    "            \"pval\": pvalue\n",
    "        }\n",
    "    else:\n",
    "        res = {\n",
    "        \"auc\": 0.5,\n",
    "        \"pval\": np.nan\n",
    "        }\n",
    "\n",
    "    return res\n",
    "\n",
    "\n",
    "def mannwhitneyu_conf_int(\n",
    "    x: np.array,\n",
    "    y: np.array,\n",
    "    alpha: float = 0.05\n",
    ") -> Tuple[float, float]:\n",
    "    n = len(x)\n",
    "    m = len(y)\n",
    "\n",
    "    N = norm.ppf(1 - alpha / 2)\n",
    "\n",
    "    diffs = sorted([i - j for i in x for j in y])\n",
    "\n",
    "    # For an approximate 100(1-a)% confidence interval first calculate K:\n",
    "    nm = n*m\n",
    "    top = nm*(n+m+1)\n",
    "    right = N*np.sqrt(top/12)\n",
    "    left = (n*m)/2\n",
    "    K = left - right\n",
    "\n",
    "    # The Kth smallest to the Kth largest of the n x m differences\n",
    "    # lx and ly should be > ~20\n",
    "    return (diffs[round(K)], diffs[len(diffs)-round(K)])"
   ]
  },
  {
   "cell_type": "code",
   "execution_count": 207,
   "id": "228de59f-00f5-4eb1-9dc6-19ea9b962ac3",
   "metadata": {},
   "outputs": [],
   "source": [
    "import hypothesis.strategies as st\n",
    "from hypothesis import given, assume"
   ]
  },
  {
   "cell_type": "code",
   "execution_count": 205,
   "id": "39bc6ae0-46cb-4b4b-a575-942fc267ec53",
   "metadata": {},
   "outputs": [],
   "source": [
    "@given(\n",
    "    x=st.lists(elements=st.integers(), min_size=20),\n",
    "    y=st.lists(elements=st.integers(), min_size=20)\n",
    ")\n",
    "def testconfint(x, y):\n",
    "    assume(len(x) > 5)\n",
    "    assume(len(x) > 5)\n",
    "    mannwhitneyu_conf_int(x, y)"
   ]
  },
  {
   "cell_type": "code",
   "execution_count": 206,
   "id": "5081c208-5153-4668-937e-edd49fc3322e",
   "metadata": {},
   "outputs": [],
   "source": [
    "testconfint()"
   ]
  },
  {
   "cell_type": "code",
   "execution_count": 208,
   "id": "265f8aed-9655-467f-bd5e-378ab157e78a",
   "metadata": {},
   "outputs": [],
   "source": [
    "from hypothesis.extra.pandas import series, indexes"
   ]
  },
  {
   "cell_type": "code",
   "execution_count": 220,
   "id": "39c33839-4781-48c3-828a-5164d9cd5c29",
   "metadata": {},
   "outputs": [],
   "source": [
    "@given(x = series(dtype=float),y = series(dtype=float))\n",
    "def testAUC(x,y):\n",
    "    assume(len(x) == len(y))\n",
    "    assume(len(x) > 5)\n",
    "    assume(len(y) > 5)\n",
    "    assume(x.index.isin(y.index).all())\n",
    "    assume(y.index.isin(x.index).all())\n",
    "    res = AUC(x, y)\n",
    "    assert(type(res) == \"dict\")"
   ]
  },
  {
   "cell_type": "code",
   "execution_count": 223,
   "id": "7c6f8dce-4ea6-4e88-9d3f-3455fdcc818e",
   "metadata": {},
   "outputs": [
    {
     "name": "stdout",
     "output_type": "stream",
     "text": [
      "Falsifying example: testAUC(\n",
      "    x=0    0.0\n",
      "    1    1.0\n",
      "    2    1.0\n",
      "    3    1.0\n",
      "    4    1.0\n",
      "    5    1.0\n",
      "    dtype: float64, y=0    0.0\n",
      "    1    0.0\n",
      "    2    0.0\n",
      "    3    0.0\n",
      "    4    0.0\n",
      "    5    0.0\n",
      "    dtype: float64,\n",
      ")\n",
      "Traceback (most recent call last):\n",
      "  File \"/tmp/ipykernel_21597/377233995.py\", line 8, in testAUC\n",
      "    res = AUC(x, y)\n",
      "  File \"/tmp/ipykernel_21597/2590556554.py\", line 18, in AUC\n",
      "    conf_int_low, conf_int_high = mannwhitneyu_conf_int(posval, negval)\n",
      "  File \"/tmp/ipykernel_21597/2590556554.py\", line 55, in mannwhitneyu_conf_int\n",
      "    return (diffs[round(K)], diffs[len(diffs)-round(K)])\n",
      "IndexError: list index out of range\n",
      "\n",
      "Falsifying example: testAUC(\n",
      "    x=0    0.0\n",
      "    1    0.0\n",
      "    2    0.0\n",
      "    3    0.0\n",
      "    4    0.0\n",
      "    5    0.0\n",
      "    dtype: float64, y=0    0.0\n",
      "    1    0.0\n",
      "    2    0.0\n",
      "    3    0.0\n",
      "    4    0.0\n",
      "    5    0.0\n",
      "    dtype: float64,\n",
      ")\n",
      "Traceback (most recent call last):\n",
      "  File \"/tmp/ipykernel_21597/377233995.py\", line 9, in testAUC\n",
      "    assert(type(res) == \"dict\")\n",
      "AssertionError\n",
      "\n"
     ]
    },
    {
     "ename": "MultipleFailures",
     "evalue": "Hypothesis found 2 distinct failures.",
     "output_type": "error",
     "traceback": [
      "\u001b[0;31m---------------------------------------------------------------------------\u001b[0m",
      "\u001b[0;31mMultipleFailures\u001b[0m                          Traceback (most recent call last)",
      "\u001b[0;32m/tmp/ipykernel_21597/548303822.py\u001b[0m in \u001b[0;36m<module>\u001b[0;34m\u001b[0m\n\u001b[0;32m----> 1\u001b[0;31m \u001b[0mtestAUC\u001b[0m\u001b[0;34m(\u001b[0m\u001b[0;34m)\u001b[0m\u001b[0;34m\u001b[0m\u001b[0;34m\u001b[0m\u001b[0m\n\u001b[0m",
      "\u001b[0;32m/tmp/ipykernel_21597/377233995.py\u001b[0m in \u001b[0;36mtestAUC\u001b[0;34m()\u001b[0m\n\u001b[1;32m      1\u001b[0m \u001b[0;34m@\u001b[0m\u001b[0mgiven\u001b[0m\u001b[0;34m(\u001b[0m\u001b[0mx\u001b[0m \u001b[0;34m=\u001b[0m \u001b[0mseries\u001b[0m\u001b[0;34m(\u001b[0m\u001b[0mdtype\u001b[0m\u001b[0;34m=\u001b[0m\u001b[0mfloat\u001b[0m\u001b[0;34m)\u001b[0m\u001b[0;34m,\u001b[0m\u001b[0my\u001b[0m \u001b[0;34m=\u001b[0m \u001b[0mseries\u001b[0m\u001b[0;34m(\u001b[0m\u001b[0mdtype\u001b[0m\u001b[0;34m=\u001b[0m\u001b[0mfloat\u001b[0m\u001b[0;34m)\u001b[0m\u001b[0;34m)\u001b[0m\u001b[0;34m\u001b[0m\u001b[0;34m\u001b[0m\u001b[0m\n\u001b[0;32m----> 2\u001b[0;31m \u001b[0;32mdef\u001b[0m \u001b[0mtestAUC\u001b[0m\u001b[0;34m(\u001b[0m\u001b[0mx\u001b[0m\u001b[0;34m,\u001b[0m\u001b[0my\u001b[0m\u001b[0;34m)\u001b[0m\u001b[0;34m:\u001b[0m\u001b[0;34m\u001b[0m\u001b[0;34m\u001b[0m\u001b[0m\n\u001b[0m\u001b[1;32m      3\u001b[0m     \u001b[0massume\u001b[0m\u001b[0;34m(\u001b[0m\u001b[0mlen\u001b[0m\u001b[0;34m(\u001b[0m\u001b[0mx\u001b[0m\u001b[0;34m)\u001b[0m \u001b[0;34m==\u001b[0m \u001b[0mlen\u001b[0m\u001b[0;34m(\u001b[0m\u001b[0my\u001b[0m\u001b[0;34m)\u001b[0m\u001b[0;34m)\u001b[0m\u001b[0;34m\u001b[0m\u001b[0;34m\u001b[0m\u001b[0m\n\u001b[1;32m      4\u001b[0m     \u001b[0massume\u001b[0m\u001b[0;34m(\u001b[0m\u001b[0mlen\u001b[0m\u001b[0;34m(\u001b[0m\u001b[0mx\u001b[0m\u001b[0;34m)\u001b[0m \u001b[0;34m>\u001b[0m \u001b[0;36m5\u001b[0m\u001b[0;34m)\u001b[0m\u001b[0;34m\u001b[0m\u001b[0;34m\u001b[0m\u001b[0m\n\u001b[1;32m      5\u001b[0m     \u001b[0massume\u001b[0m\u001b[0;34m(\u001b[0m\u001b[0mlen\u001b[0m\u001b[0;34m(\u001b[0m\u001b[0my\u001b[0m\u001b[0;34m)\u001b[0m \u001b[0;34m>\u001b[0m \u001b[0;36m5\u001b[0m\u001b[0;34m)\u001b[0m\u001b[0;34m\u001b[0m\u001b[0;34m\u001b[0m\u001b[0m\n",
      "    \u001b[0;31m[... skipping hidden 1 frame]\u001b[0m\n",
      "\u001b[0;32m~/miniconda3/lib/python3.9/site-packages/hypothesis/core.py\u001b[0m in \u001b[0;36mrun_engine\u001b[0;34m(self)\u001b[0m\n\u001b[1;32m    882\u001b[0m             )\n\u001b[1;32m    883\u001b[0m         \u001b[0;32melse\u001b[0m\u001b[0;34m:\u001b[0m\u001b[0;34m\u001b[0m\u001b[0;34m\u001b[0m\u001b[0m\n\u001b[0;32m--> 884\u001b[0;31m             raise MultipleFailures(\n\u001b[0m\u001b[1;32m    885\u001b[0m                 \u001b[0;34mf\"Hypothesis found {len(self.falsifying_examples)} distinct failures.\"\u001b[0m\u001b[0;34m\u001b[0m\u001b[0;34m\u001b[0m\u001b[0m\n\u001b[1;32m    886\u001b[0m             )\n",
      "\u001b[0;31mMultipleFailures\u001b[0m: Hypothesis found 2 distinct failures."
     ]
    }
   ],
   "source": [
    "testAUC()"
   ]
  }
 ],
 "metadata": {
  "kernelspec": {
   "display_name": "Python 3 (ipykernel)",
   "language": "python",
   "name": "python3"
  },
  "language_info": {
   "codemirror_mode": {
    "name": "ipython",
    "version": 3
   },
   "file_extension": ".py",
   "mimetype": "text/x-python",
   "name": "python",
   "nbconvert_exporter": "python",
   "pygments_lexer": "ipython3",
   "version": "3.9.5"
  }
 },
 "nbformat": 4,
 "nbformat_minor": 5
}
